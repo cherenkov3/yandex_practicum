{
 "cells": [
  {
   "cell_type": "markdown",
   "metadata": {},
   "source": [
    "# Определение перспективного тарифа для телеком-компании"
   ]
  },
  {
   "cell_type": "markdown",
   "metadata": {},
   "source": [
    "# Описание тарифов\n",
    "# Тариф «Смарт»\n",
    "1. Ежемесячная плата: 550 рублей\n",
    "2. Включено 500 минут разговора, 50 сообщений и 15 Гб интернет-трафика\n",
    "3. Стоимость услуг сверх тарифного пакета:\n",
    "+ минута разговора: 3 рубля\n",
    "+ сообщение: 3 рубля\n",
    "+ 1 Гб интернет-трафика: 200 рублей\n",
    "# Тариф «Ультра»\n",
    "1. Ежемесячная плата: 1950 рублей\n",
    "2. Включено 3000 минут разговора, 1000 сообщений и 30 Гб интернет-трафика\n",
    "3. Стоимость услуг сверх тарифного пакета:\n",
    "+ минута разговора: 1 рубль\n",
    "+ сообщение: 1 рубль\n",
    "+ 1 Гб интернет-трафика: 150 рублей"
   ]
  },
  {
   "cell_type": "markdown",
   "metadata": {},
   "source": [
    " ## Откроем файлы с данными и изучим общую информацию"
   ]
  },
  {
   "cell_type": "markdown",
   "metadata": {},
   "source": [
    "Импортируем все необходимые нам библиотеки"
   ]
  },
  {
   "cell_type": "code",
   "execution_count": 1,
   "metadata": {},
   "outputs": [],
   "source": [
    "import pandas as pd\n",
    "from IPython.display import display\n",
    "import numpy as np\n",
    "import scipy.stats as sps\n",
    "import matplotlib.pyplot as plt\n",
    "import seaborn as sns\n",
    "from scipy import stats as st\n",
    "import numpy as np"
   ]
  },
  {
   "cell_type": "markdown",
   "metadata": {},
   "source": [
    "# Изучение данных из файла tariffs"
   ]
  },
  {
   "cell_type": "code",
   "execution_count": 2,
   "metadata": {},
   "outputs": [
    {
     "data": {
      "text/html": [
       "<div>\n",
       "<style scoped>\n",
       "    .dataframe tbody tr th:only-of-type {\n",
       "        vertical-align: middle;\n",
       "    }\n",
       "\n",
       "    .dataframe tbody tr th {\n",
       "        vertical-align: top;\n",
       "    }\n",
       "\n",
       "    .dataframe thead th {\n",
       "        text-align: right;\n",
       "    }\n",
       "</style>\n",
       "<table border=\"1\" class=\"dataframe\">\n",
       "  <thead>\n",
       "    <tr style=\"text-align: right;\">\n",
       "      <th></th>\n",
       "      <th>messages_included</th>\n",
       "      <th>mb_per_month_included</th>\n",
       "      <th>minutes_included</th>\n",
       "      <th>rub_monthly_fee</th>\n",
       "      <th>rub_per_gb</th>\n",
       "      <th>rub_per_message</th>\n",
       "      <th>rub_per_minute</th>\n",
       "      <th>tariff_name</th>\n",
       "    </tr>\n",
       "  </thead>\n",
       "  <tbody>\n",
       "    <tr>\n",
       "      <th>0</th>\n",
       "      <td>50</td>\n",
       "      <td>15360</td>\n",
       "      <td>500</td>\n",
       "      <td>550</td>\n",
       "      <td>200</td>\n",
       "      <td>3</td>\n",
       "      <td>3</td>\n",
       "      <td>smart</td>\n",
       "    </tr>\n",
       "    <tr>\n",
       "      <th>1</th>\n",
       "      <td>1000</td>\n",
       "      <td>30720</td>\n",
       "      <td>3000</td>\n",
       "      <td>1950</td>\n",
       "      <td>150</td>\n",
       "      <td>1</td>\n",
       "      <td>1</td>\n",
       "      <td>ultra</td>\n",
       "    </tr>\n",
       "  </tbody>\n",
       "</table>\n",
       "</div>"
      ],
      "text/plain": [
       "   messages_included  mb_per_month_included  minutes_included  \\\n",
       "0                 50                  15360               500   \n",
       "1               1000                  30720              3000   \n",
       "\n",
       "   rub_monthly_fee  rub_per_gb  rub_per_message  rub_per_minute tariff_name  \n",
       "0              550         200                3               3       smart  \n",
       "1             1950         150                1               1       ultra  "
      ]
     },
     "metadata": {},
     "output_type": "display_data"
    }
   ],
   "source": [
    "data_tariffs = pd.read_csv('/datasets/tariffs.csv')\n",
    "display(data_tariffs.head())"
   ]
  },
  {
   "cell_type": "markdown",
   "metadata": {},
   "source": [
    "Для удобства переведем мегабайты в гигабайты, чтобы вести все дальнейшие расчеты в ГБ, т.к. сверх тарифа идет ст-ть ГБ. 2. Поменяем название столбца 'rub_monthly_fee' на 'price_month' для удобного чтения и порядок столбцов для наглядности."
   ]
  },
  {
   "cell_type": "code",
   "execution_count": 3,
   "metadata": {},
   "outputs": [
    {
     "data": {
      "text/html": [
       "<div>\n",
       "<style scoped>\n",
       "    .dataframe tbody tr th:only-of-type {\n",
       "        vertical-align: middle;\n",
       "    }\n",
       "\n",
       "    .dataframe tbody tr th {\n",
       "        vertical-align: top;\n",
       "    }\n",
       "\n",
       "    .dataframe thead th {\n",
       "        text-align: right;\n",
       "    }\n",
       "</style>\n",
       "<table border=\"1\" class=\"dataframe\">\n",
       "  <thead>\n",
       "    <tr style=\"text-align: right;\">\n",
       "      <th></th>\n",
       "      <th>tariff_name</th>\n",
       "      <th>messages_included</th>\n",
       "      <th>gb_included</th>\n",
       "      <th>minutes_included</th>\n",
       "      <th>price_month</th>\n",
       "      <th>rub_per_gb</th>\n",
       "      <th>rub_per_message</th>\n",
       "      <th>rub_per_minute</th>\n",
       "    </tr>\n",
       "  </thead>\n",
       "  <tbody>\n",
       "    <tr>\n",
       "      <th>0</th>\n",
       "      <td>smart</td>\n",
       "      <td>50</td>\n",
       "      <td>15</td>\n",
       "      <td>500</td>\n",
       "      <td>550</td>\n",
       "      <td>200</td>\n",
       "      <td>3</td>\n",
       "      <td>3</td>\n",
       "    </tr>\n",
       "    <tr>\n",
       "      <th>1</th>\n",
       "      <td>ultra</td>\n",
       "      <td>1000</td>\n",
       "      <td>30</td>\n",
       "      <td>3000</td>\n",
       "      <td>1950</td>\n",
       "      <td>150</td>\n",
       "      <td>1</td>\n",
       "      <td>1</td>\n",
       "    </tr>\n",
       "  </tbody>\n",
       "</table>\n",
       "</div>"
      ],
      "text/plain": [
       "  tariff_name  messages_included  gb_included  minutes_included  price_month  \\\n",
       "0       smart                 50           15               500          550   \n",
       "1       ultra               1000           30              3000         1950   \n",
       "\n",
       "   rub_per_gb  rub_per_message  rub_per_minute  \n",
       "0         200                3               3  \n",
       "1         150                1               1  "
      ]
     },
     "metadata": {},
     "output_type": "display_data"
    }
   ],
   "source": [
    "data_tariffs['gb_included']=(data_tariffs['mb_per_month_included']/1024).astype('int64')\n",
    "data_tariffs = data_tariffs.rename(columns={'rub_monthly_fee': 'price_month'})\n",
    "data_tariffs=data_tariffs[['tariff_name', 'messages_included', 'gb_included', 'minutes_included', 'price_month', 'rub_per_gb', 'rub_per_message', 'rub_per_minute']]\n",
    "display(data_tariffs.head())"
   ]
  },
  {
   "cell_type": "markdown",
   "metadata": {},
   "source": [
    "# Изучение данных из файла data_calls"
   ]
  },
  {
   "cell_type": "code",
   "execution_count": 4,
   "metadata": {},
   "outputs": [
    {
     "data": {
      "text/html": [
       "<div>\n",
       "<style scoped>\n",
       "    .dataframe tbody tr th:only-of-type {\n",
       "        vertical-align: middle;\n",
       "    }\n",
       "\n",
       "    .dataframe tbody tr th {\n",
       "        vertical-align: top;\n",
       "    }\n",
       "\n",
       "    .dataframe thead th {\n",
       "        text-align: right;\n",
       "    }\n",
       "</style>\n",
       "<table border=\"1\" class=\"dataframe\">\n",
       "  <thead>\n",
       "    <tr style=\"text-align: right;\">\n",
       "      <th></th>\n",
       "      <th>id</th>\n",
       "      <th>call_date</th>\n",
       "      <th>duration</th>\n",
       "      <th>user_id</th>\n",
       "    </tr>\n",
       "  </thead>\n",
       "  <tbody>\n",
       "    <tr>\n",
       "      <th>0</th>\n",
       "      <td>1000_0</td>\n",
       "      <td>2018-07-25</td>\n",
       "      <td>0.00</td>\n",
       "      <td>1000</td>\n",
       "    </tr>\n",
       "    <tr>\n",
       "      <th>1</th>\n",
       "      <td>1000_1</td>\n",
       "      <td>2018-08-17</td>\n",
       "      <td>0.00</td>\n",
       "      <td>1000</td>\n",
       "    </tr>\n",
       "    <tr>\n",
       "      <th>2</th>\n",
       "      <td>1000_2</td>\n",
       "      <td>2018-06-11</td>\n",
       "      <td>2.85</td>\n",
       "      <td>1000</td>\n",
       "    </tr>\n",
       "    <tr>\n",
       "      <th>3</th>\n",
       "      <td>1000_3</td>\n",
       "      <td>2018-09-21</td>\n",
       "      <td>13.80</td>\n",
       "      <td>1000</td>\n",
       "    </tr>\n",
       "    <tr>\n",
       "      <th>4</th>\n",
       "      <td>1000_4</td>\n",
       "      <td>2018-12-15</td>\n",
       "      <td>5.18</td>\n",
       "      <td>1000</td>\n",
       "    </tr>\n",
       "  </tbody>\n",
       "</table>\n",
       "</div>"
      ],
      "text/plain": [
       "       id   call_date  duration  user_id\n",
       "0  1000_0  2018-07-25      0.00     1000\n",
       "1  1000_1  2018-08-17      0.00     1000\n",
       "2  1000_2  2018-06-11      2.85     1000\n",
       "3  1000_3  2018-09-21     13.80     1000\n",
       "4  1000_4  2018-12-15      5.18     1000"
      ]
     },
     "metadata": {},
     "output_type": "display_data"
    },
    {
     "name": "stdout",
     "output_type": "stream",
     "text": [
      "<class 'pandas.core.frame.DataFrame'>\n",
      "RangeIndex: 202607 entries, 0 to 202606\n",
      "Data columns (total 4 columns):\n",
      " #   Column     Non-Null Count   Dtype  \n",
      "---  ------     --------------   -----  \n",
      " 0   id         202607 non-null  object \n",
      " 1   call_date  202607 non-null  object \n",
      " 2   duration   202607 non-null  float64\n",
      " 3   user_id    202607 non-null  int64  \n",
      "dtypes: float64(1), int64(1), object(2)\n",
      "memory usage: 6.2+ MB\n"
     ]
    },
    {
     "data": {
      "text/html": [
       "<div>\n",
       "<style scoped>\n",
       "    .dataframe tbody tr th:only-of-type {\n",
       "        vertical-align: middle;\n",
       "    }\n",
       "\n",
       "    .dataframe tbody tr th {\n",
       "        vertical-align: top;\n",
       "    }\n",
       "\n",
       "    .dataframe thead th {\n",
       "        text-align: right;\n",
       "    }\n",
       "</style>\n",
       "<table border=\"1\" class=\"dataframe\">\n",
       "  <thead>\n",
       "    <tr style=\"text-align: right;\">\n",
       "      <th></th>\n",
       "      <th>duration</th>\n",
       "      <th>user_id</th>\n",
       "    </tr>\n",
       "  </thead>\n",
       "  <tbody>\n",
       "    <tr>\n",
       "      <th>count</th>\n",
       "      <td>202607.000000</td>\n",
       "      <td>202607.000000</td>\n",
       "    </tr>\n",
       "    <tr>\n",
       "      <th>mean</th>\n",
       "      <td>6.755887</td>\n",
       "      <td>1253.940619</td>\n",
       "    </tr>\n",
       "    <tr>\n",
       "      <th>std</th>\n",
       "      <td>5.843365</td>\n",
       "      <td>144.722751</td>\n",
       "    </tr>\n",
       "    <tr>\n",
       "      <th>min</th>\n",
       "      <td>0.000000</td>\n",
       "      <td>1000.000000</td>\n",
       "    </tr>\n",
       "    <tr>\n",
       "      <th>25%</th>\n",
       "      <td>1.300000</td>\n",
       "      <td>1126.000000</td>\n",
       "    </tr>\n",
       "    <tr>\n",
       "      <th>50%</th>\n",
       "      <td>6.000000</td>\n",
       "      <td>1260.000000</td>\n",
       "    </tr>\n",
       "    <tr>\n",
       "      <th>75%</th>\n",
       "      <td>10.700000</td>\n",
       "      <td>1379.000000</td>\n",
       "    </tr>\n",
       "    <tr>\n",
       "      <th>max</th>\n",
       "      <td>38.000000</td>\n",
       "      <td>1499.000000</td>\n",
       "    </tr>\n",
       "  </tbody>\n",
       "</table>\n",
       "</div>"
      ],
      "text/plain": [
       "            duration        user_id\n",
       "count  202607.000000  202607.000000\n",
       "mean        6.755887    1253.940619\n",
       "std         5.843365     144.722751\n",
       "min         0.000000    1000.000000\n",
       "25%         1.300000    1126.000000\n",
       "50%         6.000000    1260.000000\n",
       "75%        10.700000    1379.000000\n",
       "max        38.000000    1499.000000"
      ]
     },
     "execution_count": 4,
     "metadata": {},
     "output_type": "execute_result"
    }
   ],
   "source": [
    "data_calls = pd.read_csv('/datasets/calls.csv')\n",
    "display(data_calls.head())\n",
    "data_calls.info()\n",
    "data_calls.describe()"
   ]
  },
  {
   "cell_type": "code",
   "execution_count": 5,
   "metadata": {},
   "outputs": [
    {
     "data": {
      "text/plain": [
       "39613"
      ]
     },
     "execution_count": 5,
     "metadata": {},
     "output_type": "execute_result"
    }
   ],
   "source": [
    "data_calls.query('duration == 0')['duration'].count()"
   ]
  },
  {
   "cell_type": "markdown",
   "metadata": {},
   "source": [
    "1.Есть звонки продолжительностью 0 минут, это, скорее всего, неотвеченные 2. Не будем их убирать, они никак не повлияют. 3. Пропущенных значений нет. 4. Надо перевести время в формат даты, чтобы потом разделить по месяцам. 5. Время звонка округлить до целого в большую сторону. 6. Добавим столбец с месяцем. 7. Переведем время в int. 8. Оставим только нужные столбцы - идентиф.пользователя, месяц и время звонка. 9. Сгруппируем полученную таблицу по id пользователя и месяца."
   ]
  },
  {
   "cell_type": "markdown",
   "metadata": {},
   "source": [
    "# Предобработка данных data_calls"
   ]
  },
  {
   "cell_type": "code",
   "execution_count": 6,
   "metadata": {},
   "outputs": [
    {
     "name": "stdout",
     "output_type": "stream",
     "text": [
      "<class 'pandas.core.frame.DataFrame'>\n",
      "Int64Index: 202607 entries, 0 to 202606\n",
      "Data columns (total 4 columns):\n",
      " #   Column     Non-Null Count   Dtype  \n",
      "---  ------     --------------   -----  \n",
      " 0   id         202607 non-null  object \n",
      " 1   call_date  202607 non-null  object \n",
      " 2   duration   202607 non-null  float64\n",
      " 3   user_id    202607 non-null  int64  \n",
      "dtypes: float64(1), int64(1), object(2)\n",
      "memory usage: 7.7+ MB\n"
     ]
    }
   ],
   "source": [
    "data_calls = data_calls.drop_duplicates() # удалим дубликаты в таблице\n",
    "data_calls.info() # проверим кол-во оставшихся строк"
   ]
  },
  {
   "cell_type": "code",
   "execution_count": 7,
   "metadata": {},
   "outputs": [],
   "source": [
    "data_calls['call_date'] = pd.to_datetime(data_calls['call_date'], format='%Y-%m-%d')\n",
    "data_calls['month'] = data_calls['call_date'].dt.month #добавим месяц\n",
    "import math\n",
    "import numpy\n",
    "data_calls['duration'] = numpy.ceil(data_calls['duration']).astype('Int64') #округляем до целого в большую сторону"
   ]
  },
  {
   "cell_type": "code",
   "execution_count": 8,
   "metadata": {},
   "outputs": [
    {
     "data": {
      "text/html": [
       "<div>\n",
       "<style scoped>\n",
       "    .dataframe tbody tr th:only-of-type {\n",
       "        vertical-align: middle;\n",
       "    }\n",
       "\n",
       "    .dataframe tbody tr th {\n",
       "        vertical-align: top;\n",
       "    }\n",
       "\n",
       "    .dataframe thead th {\n",
       "        text-align: right;\n",
       "    }\n",
       "</style>\n",
       "<table border=\"1\" class=\"dataframe\">\n",
       "  <thead>\n",
       "    <tr style=\"text-align: right;\">\n",
       "      <th></th>\n",
       "      <th>id</th>\n",
       "      <th>call_date</th>\n",
       "      <th>duration</th>\n",
       "      <th>user_id</th>\n",
       "      <th>month</th>\n",
       "    </tr>\n",
       "  </thead>\n",
       "  <tbody>\n",
       "    <tr>\n",
       "      <th>0</th>\n",
       "      <td>1000_0</td>\n",
       "      <td>2018-07-25</td>\n",
       "      <td>0</td>\n",
       "      <td>1000</td>\n",
       "      <td>7</td>\n",
       "    </tr>\n",
       "    <tr>\n",
       "      <th>1</th>\n",
       "      <td>1000_1</td>\n",
       "      <td>2018-08-17</td>\n",
       "      <td>0</td>\n",
       "      <td>1000</td>\n",
       "      <td>8</td>\n",
       "    </tr>\n",
       "    <tr>\n",
       "      <th>2</th>\n",
       "      <td>1000_2</td>\n",
       "      <td>2018-06-11</td>\n",
       "      <td>3</td>\n",
       "      <td>1000</td>\n",
       "      <td>6</td>\n",
       "    </tr>\n",
       "    <tr>\n",
       "      <th>3</th>\n",
       "      <td>1000_3</td>\n",
       "      <td>2018-09-21</td>\n",
       "      <td>14</td>\n",
       "      <td>1000</td>\n",
       "      <td>9</td>\n",
       "    </tr>\n",
       "    <tr>\n",
       "      <th>4</th>\n",
       "      <td>1000_4</td>\n",
       "      <td>2018-12-15</td>\n",
       "      <td>6</td>\n",
       "      <td>1000</td>\n",
       "      <td>12</td>\n",
       "    </tr>\n",
       "  </tbody>\n",
       "</table>\n",
       "</div>"
      ],
      "text/plain": [
       "       id  call_date  duration  user_id  month\n",
       "0  1000_0 2018-07-25         0     1000      7\n",
       "1  1000_1 2018-08-17         0     1000      8\n",
       "2  1000_2 2018-06-11         3     1000      6\n",
       "3  1000_3 2018-09-21        14     1000      9\n",
       "4  1000_4 2018-12-15         6     1000     12"
      ]
     },
     "metadata": {},
     "output_type": "display_data"
    },
    {
     "name": "stdout",
     "output_type": "stream",
     "text": [
      "<class 'pandas.core.frame.DataFrame'>\n",
      "Int64Index: 202607 entries, 0 to 202606\n",
      "Data columns (total 5 columns):\n",
      " #   Column     Non-Null Count   Dtype         \n",
      "---  ------     --------------   -----         \n",
      " 0   id         202607 non-null  object        \n",
      " 1   call_date  202607 non-null  datetime64[ns]\n",
      " 2   duration   202607 non-null  Int64         \n",
      " 3   user_id    202607 non-null  int64         \n",
      " 4   month      202607 non-null  int64         \n",
      "dtypes: Int64(1), datetime64[ns](1), int64(2), object(1)\n",
      "memory usage: 9.5+ MB\n"
     ]
    }
   ],
   "source": [
    "display(data_calls.head())\n",
    "data_calls.info()"
   ]
  },
  {
   "cell_type": "code",
   "execution_count": 9,
   "metadata": {},
   "outputs": [
    {
     "name": "stdout",
     "output_type": "stream",
     "text": [
      "<class 'pandas.core.frame.DataFrame'>\n",
      "Int64Index: 202607 entries, 0 to 202606\n",
      "Data columns (total 3 columns):\n",
      " #   Column    Non-Null Count   Dtype\n",
      "---  ------    --------------   -----\n",
      " 0   user_id   202607 non-null  int64\n",
      " 1   month     202607 non-null  int64\n",
      " 2   duration  202607 non-null  Int64\n",
      "dtypes: Int64(1), int64(2)\n",
      "memory usage: 6.4 MB\n"
     ]
    }
   ],
   "source": [
    "data_calls=data_calls[['user_id', 'month', 'duration']]\n",
    "data_calls.info()"
   ]
  },
  {
   "cell_type": "code",
   "execution_count": 10,
   "metadata": {},
   "outputs": [
    {
     "data": {
      "text/html": [
       "<div>\n",
       "<style scoped>\n",
       "    .dataframe tbody tr th:only-of-type {\n",
       "        vertical-align: middle;\n",
       "    }\n",
       "\n",
       "    .dataframe tbody tr th {\n",
       "        vertical-align: top;\n",
       "    }\n",
       "\n",
       "    .dataframe thead th {\n",
       "        text-align: right;\n",
       "    }\n",
       "</style>\n",
       "<table border=\"1\" class=\"dataframe\">\n",
       "  <thead>\n",
       "    <tr style=\"text-align: right;\">\n",
       "      <th></th>\n",
       "      <th>user_id</th>\n",
       "      <th>month</th>\n",
       "      <th>sum_minut</th>\n",
       "    </tr>\n",
       "  </thead>\n",
       "  <tbody>\n",
       "    <tr>\n",
       "      <th>0</th>\n",
       "      <td>1000</td>\n",
       "      <td>5</td>\n",
       "      <td>159</td>\n",
       "    </tr>\n",
       "    <tr>\n",
       "      <th>1</th>\n",
       "      <td>1000</td>\n",
       "      <td>6</td>\n",
       "      <td>172</td>\n",
       "    </tr>\n",
       "    <tr>\n",
       "      <th>2</th>\n",
       "      <td>1000</td>\n",
       "      <td>7</td>\n",
       "      <td>340</td>\n",
       "    </tr>\n",
       "    <tr>\n",
       "      <th>3</th>\n",
       "      <td>1000</td>\n",
       "      <td>8</td>\n",
       "      <td>408</td>\n",
       "    </tr>\n",
       "    <tr>\n",
       "      <th>4</th>\n",
       "      <td>1000</td>\n",
       "      <td>9</td>\n",
       "      <td>466</td>\n",
       "    </tr>\n",
       "  </tbody>\n",
       "</table>\n",
       "</div>"
      ],
      "text/plain": [
       "   user_id  month  sum_minut\n",
       "0     1000      5        159\n",
       "1     1000      6        172\n",
       "2     1000      7        340\n",
       "3     1000      8        408\n",
       "4     1000      9        466"
      ]
     },
     "metadata": {},
     "output_type": "display_data"
    },
    {
     "name": "stdout",
     "output_type": "stream",
     "text": [
      "<class 'pandas.core.frame.DataFrame'>\n",
      "RangeIndex: 3174 entries, 0 to 3173\n",
      "Data columns (total 3 columns):\n",
      " #   Column     Non-Null Count  Dtype\n",
      "---  ------     --------------  -----\n",
      " 0   user_id    3174 non-null   int64\n",
      " 1   month      3174 non-null   int64\n",
      " 2   sum_minut  3174 non-null   Int64\n",
      "dtypes: Int64(1), int64(2)\n",
      "memory usage: 77.6 KB\n"
     ]
    }
   ],
   "source": [
    "data_calls_pivot = data_calls.pivot_table(index=['user_id', 'month'], values='duration', aggfunc='sum').reset_index()     \n",
    "data_calls_pivot = data_calls_pivot.rename(columns={'duration': 'sum_minut'})\n",
    "display(data_calls_pivot.head())\n",
    "data_calls_pivot.info()"
   ]
  },
  {
   "cell_type": "markdown",
   "metadata": {},
   "source": [
    "Данные по звонкам преобразованы. Таблица содержит идентиф.пользователя, месяц и сумму минут за месяц.Строки сократились до 3174."
   ]
  },
  {
   "cell_type": "markdown",
   "metadata": {},
   "source": [
    "# Изучение данных из файла messages"
   ]
  },
  {
   "cell_type": "code",
   "execution_count": 11,
   "metadata": {},
   "outputs": [
    {
     "data": {
      "text/html": [
       "<div>\n",
       "<style scoped>\n",
       "    .dataframe tbody tr th:only-of-type {\n",
       "        vertical-align: middle;\n",
       "    }\n",
       "\n",
       "    .dataframe tbody tr th {\n",
       "        vertical-align: top;\n",
       "    }\n",
       "\n",
       "    .dataframe thead th {\n",
       "        text-align: right;\n",
       "    }\n",
       "</style>\n",
       "<table border=\"1\" class=\"dataframe\">\n",
       "  <thead>\n",
       "    <tr style=\"text-align: right;\">\n",
       "      <th></th>\n",
       "      <th>id</th>\n",
       "      <th>message_date</th>\n",
       "      <th>user_id</th>\n",
       "    </tr>\n",
       "  </thead>\n",
       "  <tbody>\n",
       "    <tr>\n",
       "      <th>0</th>\n",
       "      <td>1000_0</td>\n",
       "      <td>2018-06-27</td>\n",
       "      <td>1000</td>\n",
       "    </tr>\n",
       "    <tr>\n",
       "      <th>1</th>\n",
       "      <td>1000_1</td>\n",
       "      <td>2018-10-08</td>\n",
       "      <td>1000</td>\n",
       "    </tr>\n",
       "    <tr>\n",
       "      <th>2</th>\n",
       "      <td>1000_2</td>\n",
       "      <td>2018-08-04</td>\n",
       "      <td>1000</td>\n",
       "    </tr>\n",
       "    <tr>\n",
       "      <th>3</th>\n",
       "      <td>1000_3</td>\n",
       "      <td>2018-06-16</td>\n",
       "      <td>1000</td>\n",
       "    </tr>\n",
       "    <tr>\n",
       "      <th>4</th>\n",
       "      <td>1000_4</td>\n",
       "      <td>2018-12-05</td>\n",
       "      <td>1000</td>\n",
       "    </tr>\n",
       "  </tbody>\n",
       "</table>\n",
       "</div>"
      ],
      "text/plain": [
       "       id message_date  user_id\n",
       "0  1000_0   2018-06-27     1000\n",
       "1  1000_1   2018-10-08     1000\n",
       "2  1000_2   2018-08-04     1000\n",
       "3  1000_3   2018-06-16     1000\n",
       "4  1000_4   2018-12-05     1000"
      ]
     },
     "metadata": {},
     "output_type": "display_data"
    },
    {
     "name": "stdout",
     "output_type": "stream",
     "text": [
      "<class 'pandas.core.frame.DataFrame'>\n",
      "RangeIndex: 123036 entries, 0 to 123035\n",
      "Data columns (total 3 columns):\n",
      " #   Column        Non-Null Count   Dtype \n",
      "---  ------        --------------   ----- \n",
      " 0   id            123036 non-null  object\n",
      " 1   message_date  123036 non-null  object\n",
      " 2   user_id       123036 non-null  int64 \n",
      "dtypes: int64(1), object(2)\n",
      "memory usage: 2.8+ MB\n"
     ]
    }
   ],
   "source": [
    "data_messages = pd.read_csv('/datasets/messages.csv')\n",
    "display(data_messages.head())\n",
    "data_messages.info()"
   ]
  },
  {
   "cell_type": "markdown",
   "metadata": {},
   "source": [
    "Пропущенных значений нет.Нужно перевести время в формат даты, чтобы потом разделить по месяцам.Добавим столбец с месяцем.Сгруппируем полученную таблицу по id пользователя и месяцам."
   ]
  },
  {
   "cell_type": "markdown",
   "metadata": {},
   "source": [
    "# Предобработка данных messages"
   ]
  },
  {
   "cell_type": "code",
   "execution_count": 12,
   "metadata": {},
   "outputs": [
    {
     "name": "stdout",
     "output_type": "stream",
     "text": [
      "<class 'pandas.core.frame.DataFrame'>\n",
      "Int64Index: 123036 entries, 0 to 123035\n",
      "Data columns (total 3 columns):\n",
      " #   Column        Non-Null Count   Dtype \n",
      "---  ------        --------------   ----- \n",
      " 0   id            123036 non-null  object\n",
      " 1   message_date  123036 non-null  object\n",
      " 2   user_id       123036 non-null  int64 \n",
      "dtypes: int64(1), object(2)\n",
      "memory usage: 3.8+ MB\n"
     ]
    }
   ],
   "source": [
    "data_messages = data_messages.drop_duplicates() # удалим дубликаты в таблице\n",
    "data_messages.info() # проверим кол-во оставшихся строк"
   ]
  },
  {
   "cell_type": "code",
   "execution_count": 13,
   "metadata": {},
   "outputs": [
    {
     "data": {
      "text/html": [
       "<div>\n",
       "<style scoped>\n",
       "    .dataframe tbody tr th:only-of-type {\n",
       "        vertical-align: middle;\n",
       "    }\n",
       "\n",
       "    .dataframe tbody tr th {\n",
       "        vertical-align: top;\n",
       "    }\n",
       "\n",
       "    .dataframe thead th {\n",
       "        text-align: right;\n",
       "    }\n",
       "</style>\n",
       "<table border=\"1\" class=\"dataframe\">\n",
       "  <thead>\n",
       "    <tr style=\"text-align: right;\">\n",
       "      <th></th>\n",
       "      <th>id</th>\n",
       "      <th>message_date</th>\n",
       "      <th>user_id</th>\n",
       "      <th>month</th>\n",
       "    </tr>\n",
       "  </thead>\n",
       "  <tbody>\n",
       "    <tr>\n",
       "      <th>0</th>\n",
       "      <td>1000_0</td>\n",
       "      <td>2018-06-27</td>\n",
       "      <td>1000</td>\n",
       "      <td>6</td>\n",
       "    </tr>\n",
       "    <tr>\n",
       "      <th>1</th>\n",
       "      <td>1000_1</td>\n",
       "      <td>2018-10-08</td>\n",
       "      <td>1000</td>\n",
       "      <td>10</td>\n",
       "    </tr>\n",
       "    <tr>\n",
       "      <th>2</th>\n",
       "      <td>1000_2</td>\n",
       "      <td>2018-08-04</td>\n",
       "      <td>1000</td>\n",
       "      <td>8</td>\n",
       "    </tr>\n",
       "    <tr>\n",
       "      <th>3</th>\n",
       "      <td>1000_3</td>\n",
       "      <td>2018-06-16</td>\n",
       "      <td>1000</td>\n",
       "      <td>6</td>\n",
       "    </tr>\n",
       "    <tr>\n",
       "      <th>4</th>\n",
       "      <td>1000_4</td>\n",
       "      <td>2018-12-05</td>\n",
       "      <td>1000</td>\n",
       "      <td>12</td>\n",
       "    </tr>\n",
       "  </tbody>\n",
       "</table>\n",
       "</div>"
      ],
      "text/plain": [
       "       id message_date  user_id  month\n",
       "0  1000_0   2018-06-27     1000      6\n",
       "1  1000_1   2018-10-08     1000     10\n",
       "2  1000_2   2018-08-04     1000      8\n",
       "3  1000_3   2018-06-16     1000      6\n",
       "4  1000_4   2018-12-05     1000     12"
      ]
     },
     "metadata": {},
     "output_type": "display_data"
    },
    {
     "name": "stdout",
     "output_type": "stream",
     "text": [
      "<class 'pandas.core.frame.DataFrame'>\n",
      "Int64Index: 123036 entries, 0 to 123035\n",
      "Data columns (total 4 columns):\n",
      " #   Column        Non-Null Count   Dtype         \n",
      "---  ------        --------------   -----         \n",
      " 0   id            123036 non-null  object        \n",
      " 1   message_date  123036 non-null  datetime64[ns]\n",
      " 2   user_id       123036 non-null  int64         \n",
      " 3   month         123036 non-null  int64         \n",
      "dtypes: datetime64[ns](1), int64(2), object(1)\n",
      "memory usage: 4.7+ MB\n"
     ]
    }
   ],
   "source": [
    "data_messages['message_date'] = pd.to_datetime(data_messages['message_date'], format='%Y-%m-%d')\n",
    "data_messages['month'] = data_messages['message_date'].dt.month #добавим месяц\n",
    "display(data_messages.head())\n",
    "data_messages.info()"
   ]
  },
  {
   "cell_type": "code",
   "execution_count": 14,
   "metadata": {},
   "outputs": [
    {
     "data": {
      "text/html": [
       "<div>\n",
       "<style scoped>\n",
       "    .dataframe tbody tr th:only-of-type {\n",
       "        vertical-align: middle;\n",
       "    }\n",
       "\n",
       "    .dataframe tbody tr th {\n",
       "        vertical-align: top;\n",
       "    }\n",
       "\n",
       "    .dataframe thead th {\n",
       "        text-align: right;\n",
       "    }\n",
       "</style>\n",
       "<table border=\"1\" class=\"dataframe\">\n",
       "  <thead>\n",
       "    <tr style=\"text-align: right;\">\n",
       "      <th></th>\n",
       "      <th>user_id</th>\n",
       "      <th>month</th>\n",
       "      <th>message_date</th>\n",
       "    </tr>\n",
       "  </thead>\n",
       "  <tbody>\n",
       "    <tr>\n",
       "      <th>0</th>\n",
       "      <td>1000</td>\n",
       "      <td>5</td>\n",
       "      <td>22</td>\n",
       "    </tr>\n",
       "    <tr>\n",
       "      <th>1</th>\n",
       "      <td>1000</td>\n",
       "      <td>6</td>\n",
       "      <td>60</td>\n",
       "    </tr>\n",
       "    <tr>\n",
       "      <th>2</th>\n",
       "      <td>1000</td>\n",
       "      <td>7</td>\n",
       "      <td>75</td>\n",
       "    </tr>\n",
       "    <tr>\n",
       "      <th>3</th>\n",
       "      <td>1000</td>\n",
       "      <td>8</td>\n",
       "      <td>81</td>\n",
       "    </tr>\n",
       "    <tr>\n",
       "      <th>4</th>\n",
       "      <td>1000</td>\n",
       "      <td>9</td>\n",
       "      <td>57</td>\n",
       "    </tr>\n",
       "  </tbody>\n",
       "</table>\n",
       "</div>"
      ],
      "text/plain": [
       "   user_id  month  message_date\n",
       "0     1000      5            22\n",
       "1     1000      6            60\n",
       "2     1000      7            75\n",
       "3     1000      8            81\n",
       "4     1000      9            57"
      ]
     },
     "metadata": {},
     "output_type": "display_data"
    },
    {
     "name": "stdout",
     "output_type": "stream",
     "text": [
      "<class 'pandas.core.frame.DataFrame'>\n",
      "RangeIndex: 2717 entries, 0 to 2716\n",
      "Data columns (total 3 columns):\n",
      " #   Column        Non-Null Count  Dtype\n",
      "---  ------        --------------  -----\n",
      " 0   user_id       2717 non-null   int64\n",
      " 1   month         2717 non-null   int64\n",
      " 2   message_date  2717 non-null   int64\n",
      "dtypes: int64(3)\n",
      "memory usage: 63.8 KB\n"
     ]
    }
   ],
   "source": [
    "data_messages_pivot = data_messages.pivot_table(index=['user_id', 'month'], values='message_date', aggfunc='count').reset_index()     \n",
    "display(data_messages_pivot.head())\n",
    "data_messages_pivot.info()"
   ]
  },
  {
   "cell_type": "code",
   "execution_count": 15,
   "metadata": {},
   "outputs": [
    {
     "data": {
      "text/html": [
       "<div>\n",
       "<style scoped>\n",
       "    .dataframe tbody tr th:only-of-type {\n",
       "        vertical-align: middle;\n",
       "    }\n",
       "\n",
       "    .dataframe tbody tr th {\n",
       "        vertical-align: top;\n",
       "    }\n",
       "\n",
       "    .dataframe thead th {\n",
       "        text-align: right;\n",
       "    }\n",
       "</style>\n",
       "<table border=\"1\" class=\"dataframe\">\n",
       "  <thead>\n",
       "    <tr style=\"text-align: right;\">\n",
       "      <th></th>\n",
       "      <th>user_id</th>\n",
       "      <th>month</th>\n",
       "      <th>sum_message</th>\n",
       "    </tr>\n",
       "  </thead>\n",
       "  <tbody>\n",
       "    <tr>\n",
       "      <th>0</th>\n",
       "      <td>1000</td>\n",
       "      <td>5</td>\n",
       "      <td>22</td>\n",
       "    </tr>\n",
       "    <tr>\n",
       "      <th>1</th>\n",
       "      <td>1000</td>\n",
       "      <td>6</td>\n",
       "      <td>60</td>\n",
       "    </tr>\n",
       "    <tr>\n",
       "      <th>2</th>\n",
       "      <td>1000</td>\n",
       "      <td>7</td>\n",
       "      <td>75</td>\n",
       "    </tr>\n",
       "    <tr>\n",
       "      <th>3</th>\n",
       "      <td>1000</td>\n",
       "      <td>8</td>\n",
       "      <td>81</td>\n",
       "    </tr>\n",
       "    <tr>\n",
       "      <th>4</th>\n",
       "      <td>1000</td>\n",
       "      <td>9</td>\n",
       "      <td>57</td>\n",
       "    </tr>\n",
       "  </tbody>\n",
       "</table>\n",
       "</div>"
      ],
      "text/plain": [
       "   user_id  month  sum_message\n",
       "0     1000      5           22\n",
       "1     1000      6           60\n",
       "2     1000      7           75\n",
       "3     1000      8           81\n",
       "4     1000      9           57"
      ]
     },
     "execution_count": 15,
     "metadata": {},
     "output_type": "execute_result"
    }
   ],
   "source": [
    "data_messages_pivot = data_messages_pivot.rename(columns={'message_date': 'sum_message'}) #поменяем название для удобства\n",
    "#чтобы название соответствовало содержимому\n",
    "data_messages_pivot.head()"
   ]
  },
  {
   "cell_type": "markdown",
   "metadata": {},
   "source": [
    "Данные по кол-ву сообщений преобразованы. Таблица содержит идентиф.пользователя, месяц и кол-во сообщений за месяц по каждому абоненту. Строки сократились до 2717."
   ]
  },
  {
   "cell_type": "markdown",
   "metadata": {},
   "source": [
    "# Изучение данных из файла internet"
   ]
  },
  {
   "cell_type": "code",
   "execution_count": 16,
   "metadata": {},
   "outputs": [
    {
     "data": {
      "text/html": [
       "<div>\n",
       "<style scoped>\n",
       "    .dataframe tbody tr th:only-of-type {\n",
       "        vertical-align: middle;\n",
       "    }\n",
       "\n",
       "    .dataframe tbody tr th {\n",
       "        vertical-align: top;\n",
       "    }\n",
       "\n",
       "    .dataframe thead th {\n",
       "        text-align: right;\n",
       "    }\n",
       "</style>\n",
       "<table border=\"1\" class=\"dataframe\">\n",
       "  <thead>\n",
       "    <tr style=\"text-align: right;\">\n",
       "      <th></th>\n",
       "      <th>Unnamed: 0</th>\n",
       "      <th>id</th>\n",
       "      <th>mb_used</th>\n",
       "      <th>session_date</th>\n",
       "      <th>user_id</th>\n",
       "    </tr>\n",
       "  </thead>\n",
       "  <tbody>\n",
       "    <tr>\n",
       "      <th>0</th>\n",
       "      <td>0</td>\n",
       "      <td>1000_0</td>\n",
       "      <td>112.95</td>\n",
       "      <td>2018-11-25</td>\n",
       "      <td>1000</td>\n",
       "    </tr>\n",
       "    <tr>\n",
       "      <th>1</th>\n",
       "      <td>1</td>\n",
       "      <td>1000_1</td>\n",
       "      <td>1052.81</td>\n",
       "      <td>2018-09-07</td>\n",
       "      <td>1000</td>\n",
       "    </tr>\n",
       "    <tr>\n",
       "      <th>2</th>\n",
       "      <td>2</td>\n",
       "      <td>1000_2</td>\n",
       "      <td>1197.26</td>\n",
       "      <td>2018-06-25</td>\n",
       "      <td>1000</td>\n",
       "    </tr>\n",
       "    <tr>\n",
       "      <th>3</th>\n",
       "      <td>3</td>\n",
       "      <td>1000_3</td>\n",
       "      <td>550.27</td>\n",
       "      <td>2018-08-22</td>\n",
       "      <td>1000</td>\n",
       "    </tr>\n",
       "    <tr>\n",
       "      <th>4</th>\n",
       "      <td>4</td>\n",
       "      <td>1000_4</td>\n",
       "      <td>302.56</td>\n",
       "      <td>2018-09-24</td>\n",
       "      <td>1000</td>\n",
       "    </tr>\n",
       "  </tbody>\n",
       "</table>\n",
       "</div>"
      ],
      "text/plain": [
       "   Unnamed: 0      id  mb_used session_date  user_id\n",
       "0           0  1000_0   112.95   2018-11-25     1000\n",
       "1           1  1000_1  1052.81   2018-09-07     1000\n",
       "2           2  1000_2  1197.26   2018-06-25     1000\n",
       "3           3  1000_3   550.27   2018-08-22     1000\n",
       "4           4  1000_4   302.56   2018-09-24     1000"
      ]
     },
     "metadata": {},
     "output_type": "display_data"
    },
    {
     "name": "stdout",
     "output_type": "stream",
     "text": [
      "<class 'pandas.core.frame.DataFrame'>\n",
      "RangeIndex: 149396 entries, 0 to 149395\n",
      "Data columns (total 5 columns):\n",
      " #   Column        Non-Null Count   Dtype  \n",
      "---  ------        --------------   -----  \n",
      " 0   Unnamed: 0    149396 non-null  int64  \n",
      " 1   id            149396 non-null  object \n",
      " 2   mb_used       149396 non-null  float64\n",
      " 3   session_date  149396 non-null  object \n",
      " 4   user_id       149396 non-null  int64  \n",
      "dtypes: float64(1), int64(2), object(2)\n",
      "memory usage: 5.7+ MB\n"
     ]
    }
   ],
   "source": [
    "data_internet = pd.read_csv('/datasets/internet.csv')\n",
    "display(data_internet.head())\n",
    "data_internet.info()"
   ]
  },
  {
   "cell_type": "markdown",
   "metadata": {},
   "source": [
    "1.Пропущенных значений нет. 2. Надо перевести время в формат даты, чтобы потом разделить по месяцам. 3. Добавим столбец с месяцем. 4. Интернет переведем в ГБ, т.к. перерасход начисляется за гигабайты и преобразуем в int с округлением в большую сторону. 5. Сгруппируем полученную таблицу по id пользователя и месяцам."
   ]
  },
  {
   "cell_type": "markdown",
   "metadata": {},
   "source": [
    "# Предобработка данных internet"
   ]
  },
  {
   "cell_type": "code",
   "execution_count": 17,
   "metadata": {},
   "outputs": [
    {
     "data": {
      "text/html": [
       "<div>\n",
       "<style scoped>\n",
       "    .dataframe tbody tr th:only-of-type {\n",
       "        vertical-align: middle;\n",
       "    }\n",
       "\n",
       "    .dataframe tbody tr th {\n",
       "        vertical-align: top;\n",
       "    }\n",
       "\n",
       "    .dataframe thead th {\n",
       "        text-align: right;\n",
       "    }\n",
       "</style>\n",
       "<table border=\"1\" class=\"dataframe\">\n",
       "  <thead>\n",
       "    <tr style=\"text-align: right;\">\n",
       "      <th></th>\n",
       "      <th>Unnamed: 0</th>\n",
       "      <th>id</th>\n",
       "      <th>mb_used</th>\n",
       "      <th>session_date</th>\n",
       "      <th>user_id</th>\n",
       "      <th>month</th>\n",
       "      <th>gb_used</th>\n",
       "    </tr>\n",
       "  </thead>\n",
       "  <tbody>\n",
       "    <tr>\n",
       "      <th>0</th>\n",
       "      <td>0</td>\n",
       "      <td>1000_0</td>\n",
       "      <td>112.95</td>\n",
       "      <td>2018-11-25</td>\n",
       "      <td>1000</td>\n",
       "      <td>11</td>\n",
       "      <td>0.110303</td>\n",
       "    </tr>\n",
       "    <tr>\n",
       "      <th>1</th>\n",
       "      <td>1</td>\n",
       "      <td>1000_1</td>\n",
       "      <td>1052.81</td>\n",
       "      <td>2018-09-07</td>\n",
       "      <td>1000</td>\n",
       "      <td>9</td>\n",
       "      <td>1.028135</td>\n",
       "    </tr>\n",
       "    <tr>\n",
       "      <th>2</th>\n",
       "      <td>2</td>\n",
       "      <td>1000_2</td>\n",
       "      <td>1197.26</td>\n",
       "      <td>2018-06-25</td>\n",
       "      <td>1000</td>\n",
       "      <td>6</td>\n",
       "      <td>1.169199</td>\n",
       "    </tr>\n",
       "    <tr>\n",
       "      <th>3</th>\n",
       "      <td>3</td>\n",
       "      <td>1000_3</td>\n",
       "      <td>550.27</td>\n",
       "      <td>2018-08-22</td>\n",
       "      <td>1000</td>\n",
       "      <td>8</td>\n",
       "      <td>0.537373</td>\n",
       "    </tr>\n",
       "    <tr>\n",
       "      <th>4</th>\n",
       "      <td>4</td>\n",
       "      <td>1000_4</td>\n",
       "      <td>302.56</td>\n",
       "      <td>2018-09-24</td>\n",
       "      <td>1000</td>\n",
       "      <td>9</td>\n",
       "      <td>0.295469</td>\n",
       "    </tr>\n",
       "  </tbody>\n",
       "</table>\n",
       "</div>"
      ],
      "text/plain": [
       "   Unnamed: 0      id  mb_used session_date  user_id  month   gb_used\n",
       "0           0  1000_0   112.95   2018-11-25     1000     11  0.110303\n",
       "1           1  1000_1  1052.81   2018-09-07     1000      9  1.028135\n",
       "2           2  1000_2  1197.26   2018-06-25     1000      6  1.169199\n",
       "3           3  1000_3   550.27   2018-08-22     1000      8  0.537373\n",
       "4           4  1000_4   302.56   2018-09-24     1000      9  0.295469"
      ]
     },
     "execution_count": 17,
     "metadata": {},
     "output_type": "execute_result"
    }
   ],
   "source": [
    "data_internet = data_internet.drop_duplicates() # удалим дубликаты в таблице\n",
    "data_internet['session_date'] = pd.to_datetime(data_internet['session_date'], format='%Y-%m-%d')\n",
    "data_internet['month'] = data_internet['session_date'].dt.month #добавим месяц\n",
    "\n",
    "data_internet['gb_used']=data_internet['mb_used']/1024\n",
    "\n",
    "data_internet.head()\n"
   ]
  },
  {
   "cell_type": "code",
   "execution_count": 18,
   "metadata": {},
   "outputs": [
    {
     "name": "stdout",
     "output_type": "stream",
     "text": [
      "<class 'pandas.core.frame.DataFrame'>\n",
      "Int64Index: 149396 entries, 0 to 149395\n",
      "Data columns (total 3 columns):\n",
      " #   Column   Non-Null Count   Dtype  \n",
      "---  ------   --------------   -----  \n",
      " 0   user_id  149396 non-null  int64  \n",
      " 1   month    149396 non-null  int64  \n",
      " 2   gb_used  149396 non-null  float64\n",
      "dtypes: float64(1), int64(2)\n",
      "memory usage: 4.6 MB\n"
     ]
    }
   ],
   "source": [
    "data_internet=data_internet[['user_id', 'month', 'gb_used']]\n",
    "data_internet.info()"
   ]
  },
  {
   "cell_type": "code",
   "execution_count": 19,
   "metadata": {},
   "outputs": [
    {
     "data": {
      "text/html": [
       "<div>\n",
       "<style scoped>\n",
       "    .dataframe tbody tr th:only-of-type {\n",
       "        vertical-align: middle;\n",
       "    }\n",
       "\n",
       "    .dataframe tbody tr th {\n",
       "        vertical-align: top;\n",
       "    }\n",
       "\n",
       "    .dataframe thead th {\n",
       "        text-align: right;\n",
       "    }\n",
       "</style>\n",
       "<table border=\"1\" class=\"dataframe\">\n",
       "  <thead>\n",
       "    <tr style=\"text-align: right;\">\n",
       "      <th></th>\n",
       "      <th>user_id</th>\n",
       "      <th>month</th>\n",
       "      <th>gb_used</th>\n",
       "    </tr>\n",
       "  </thead>\n",
       "  <tbody>\n",
       "    <tr>\n",
       "      <th>0</th>\n",
       "      <td>1000</td>\n",
       "      <td>5</td>\n",
       "      <td>4</td>\n",
       "    </tr>\n",
       "    <tr>\n",
       "      <th>1</th>\n",
       "      <td>1000</td>\n",
       "      <td>6</td>\n",
       "      <td>49</td>\n",
       "    </tr>\n",
       "    <tr>\n",
       "      <th>2</th>\n",
       "      <td>1000</td>\n",
       "      <td>7</td>\n",
       "      <td>28</td>\n",
       "    </tr>\n",
       "    <tr>\n",
       "      <th>3</th>\n",
       "      <td>1000</td>\n",
       "      <td>8</td>\n",
       "      <td>27</td>\n",
       "    </tr>\n",
       "    <tr>\n",
       "      <th>4</th>\n",
       "      <td>1000</td>\n",
       "      <td>9</td>\n",
       "      <td>26</td>\n",
       "    </tr>\n",
       "  </tbody>\n",
       "</table>\n",
       "</div>"
      ],
      "text/plain": [
       "   user_id  month  gb_used\n",
       "0     1000      5        4\n",
       "1     1000      6       49\n",
       "2     1000      7       28\n",
       "3     1000      8       27\n",
       "4     1000      9       26"
      ]
     },
     "metadata": {},
     "output_type": "display_data"
    },
    {
     "name": "stdout",
     "output_type": "stream",
     "text": [
      "<class 'pandas.core.frame.DataFrame'>\n",
      "RangeIndex: 3203 entries, 0 to 3202\n",
      "Data columns (total 3 columns):\n",
      " #   Column   Non-Null Count  Dtype\n",
      "---  ------   --------------  -----\n",
      " 0   user_id  3203 non-null   int64\n",
      " 1   month    3203 non-null   int64\n",
      " 2   gb_used  3203 non-null   Int64\n",
      "dtypes: Int64(1), int64(2)\n",
      "memory usage: 78.3 KB\n"
     ]
    }
   ],
   "source": [
    "data_internet['gb_used'] = numpy.ceil(data_internet['gb_used']).astype('Int64')\n",
    "data_internet_pivot = data_internet.pivot_table(index=['user_id', 'month'], values='gb_used', aggfunc='sum').reset_index()     \n",
    "display(data_internet_pivot.head())\n",
    "data_internet_pivot.info()"
   ]
  },
  {
   "cell_type": "code",
   "execution_count": 20,
   "metadata": {},
   "outputs": [
    {
     "data": {
      "text/html": [
       "<div>\n",
       "<style scoped>\n",
       "    .dataframe tbody tr th:only-of-type {\n",
       "        vertical-align: middle;\n",
       "    }\n",
       "\n",
       "    .dataframe tbody tr th {\n",
       "        vertical-align: top;\n",
       "    }\n",
       "\n",
       "    .dataframe thead th {\n",
       "        text-align: right;\n",
       "    }\n",
       "</style>\n",
       "<table border=\"1\" class=\"dataframe\">\n",
       "  <thead>\n",
       "    <tr style=\"text-align: right;\">\n",
       "      <th></th>\n",
       "      <th>user_id</th>\n",
       "      <th>month</th>\n",
       "      <th>sum_gb</th>\n",
       "    </tr>\n",
       "  </thead>\n",
       "  <tbody>\n",
       "    <tr>\n",
       "      <th>0</th>\n",
       "      <td>1000</td>\n",
       "      <td>5</td>\n",
       "      <td>4</td>\n",
       "    </tr>\n",
       "    <tr>\n",
       "      <th>1</th>\n",
       "      <td>1000</td>\n",
       "      <td>6</td>\n",
       "      <td>49</td>\n",
       "    </tr>\n",
       "    <tr>\n",
       "      <th>2</th>\n",
       "      <td>1000</td>\n",
       "      <td>7</td>\n",
       "      <td>28</td>\n",
       "    </tr>\n",
       "    <tr>\n",
       "      <th>3</th>\n",
       "      <td>1000</td>\n",
       "      <td>8</td>\n",
       "      <td>27</td>\n",
       "    </tr>\n",
       "    <tr>\n",
       "      <th>4</th>\n",
       "      <td>1000</td>\n",
       "      <td>9</td>\n",
       "      <td>26</td>\n",
       "    </tr>\n",
       "  </tbody>\n",
       "</table>\n",
       "</div>"
      ],
      "text/plain": [
       "   user_id  month  sum_gb\n",
       "0     1000      5       4\n",
       "1     1000      6      49\n",
       "2     1000      7      28\n",
       "3     1000      8      27\n",
       "4     1000      9      26"
      ]
     },
     "execution_count": 20,
     "metadata": {},
     "output_type": "execute_result"
    }
   ],
   "source": [
    "data_internet_pivot = data_internet_pivot.rename(columns={'gb_used': 'sum_gb'}) #поменяем название, \n",
    "#чтобы соответствовало содержанию\n",
    "data_internet_pivot.head()"
   ]
  },
  {
   "cell_type": "markdown",
   "metadata": {},
   "source": [
    "Данные по кол-ву ГБ преобразованы. Таблица содержит идентиф.пользователя, месяц и кол-во ГБ за месяц по каждому абоненту. Строки сократились до 3203."
   ]
  },
  {
   "cell_type": "markdown",
   "metadata": {},
   "source": [
    "# Изучение данных из файла users"
   ]
  },
  {
   "cell_type": "code",
   "execution_count": 21,
   "metadata": {},
   "outputs": [
    {
     "data": {
      "text/html": [
       "<div>\n",
       "<style scoped>\n",
       "    .dataframe tbody tr th:only-of-type {\n",
       "        vertical-align: middle;\n",
       "    }\n",
       "\n",
       "    .dataframe tbody tr th {\n",
       "        vertical-align: top;\n",
       "    }\n",
       "\n",
       "    .dataframe thead th {\n",
       "        text-align: right;\n",
       "    }\n",
       "</style>\n",
       "<table border=\"1\" class=\"dataframe\">\n",
       "  <thead>\n",
       "    <tr style=\"text-align: right;\">\n",
       "      <th></th>\n",
       "      <th>user_id</th>\n",
       "      <th>age</th>\n",
       "      <th>churn_date</th>\n",
       "      <th>city</th>\n",
       "      <th>first_name</th>\n",
       "      <th>last_name</th>\n",
       "      <th>reg_date</th>\n",
       "      <th>tariff</th>\n",
       "    </tr>\n",
       "  </thead>\n",
       "  <tbody>\n",
       "    <tr>\n",
       "      <th>0</th>\n",
       "      <td>1000</td>\n",
       "      <td>52</td>\n",
       "      <td>NaN</td>\n",
       "      <td>Краснодар</td>\n",
       "      <td>Рафаил</td>\n",
       "      <td>Верещагин</td>\n",
       "      <td>2018-05-25</td>\n",
       "      <td>ultra</td>\n",
       "    </tr>\n",
       "    <tr>\n",
       "      <th>1</th>\n",
       "      <td>1001</td>\n",
       "      <td>41</td>\n",
       "      <td>NaN</td>\n",
       "      <td>Москва</td>\n",
       "      <td>Иван</td>\n",
       "      <td>Ежов</td>\n",
       "      <td>2018-11-01</td>\n",
       "      <td>smart</td>\n",
       "    </tr>\n",
       "    <tr>\n",
       "      <th>2</th>\n",
       "      <td>1002</td>\n",
       "      <td>59</td>\n",
       "      <td>NaN</td>\n",
       "      <td>Стерлитамак</td>\n",
       "      <td>Евгений</td>\n",
       "      <td>Абрамович</td>\n",
       "      <td>2018-06-17</td>\n",
       "      <td>smart</td>\n",
       "    </tr>\n",
       "    <tr>\n",
       "      <th>3</th>\n",
       "      <td>1003</td>\n",
       "      <td>23</td>\n",
       "      <td>NaN</td>\n",
       "      <td>Москва</td>\n",
       "      <td>Белла</td>\n",
       "      <td>Белякова</td>\n",
       "      <td>2018-08-17</td>\n",
       "      <td>ultra</td>\n",
       "    </tr>\n",
       "    <tr>\n",
       "      <th>4</th>\n",
       "      <td>1004</td>\n",
       "      <td>68</td>\n",
       "      <td>NaN</td>\n",
       "      <td>Новокузнецк</td>\n",
       "      <td>Татьяна</td>\n",
       "      <td>Авдеенко</td>\n",
       "      <td>2018-05-14</td>\n",
       "      <td>ultra</td>\n",
       "    </tr>\n",
       "  </tbody>\n",
       "</table>\n",
       "</div>"
      ],
      "text/plain": [
       "   user_id  age churn_date         city first_name  last_name    reg_date  \\\n",
       "0     1000   52        NaN    Краснодар     Рафаил  Верещагин  2018-05-25   \n",
       "1     1001   41        NaN       Москва       Иван       Ежов  2018-11-01   \n",
       "2     1002   59        NaN  Стерлитамак    Евгений  Абрамович  2018-06-17   \n",
       "3     1003   23        NaN       Москва      Белла   Белякова  2018-08-17   \n",
       "4     1004   68        NaN  Новокузнецк    Татьяна   Авдеенко  2018-05-14   \n",
       "\n",
       "  tariff  \n",
       "0  ultra  \n",
       "1  smart  \n",
       "2  smart  \n",
       "3  ultra  \n",
       "4  ultra  "
      ]
     },
     "metadata": {},
     "output_type": "display_data"
    },
    {
     "name": "stdout",
     "output_type": "stream",
     "text": [
      "<class 'pandas.core.frame.DataFrame'>\n",
      "RangeIndex: 500 entries, 0 to 499\n",
      "Data columns (total 8 columns):\n",
      " #   Column      Non-Null Count  Dtype \n",
      "---  ------      --------------  ----- \n",
      " 0   user_id     500 non-null    int64 \n",
      " 1   age         500 non-null    int64 \n",
      " 2   churn_date  38 non-null     object\n",
      " 3   city        500 non-null    object\n",
      " 4   first_name  500 non-null    object\n",
      " 5   last_name   500 non-null    object\n",
      " 6   reg_date    500 non-null    object\n",
      " 7   tariff      500 non-null    object\n",
      "dtypes: int64(2), object(6)\n",
      "memory usage: 31.4+ KB\n"
     ]
    }
   ],
   "source": [
    "data_users = pd.read_csv('/datasets/users.csv')\n",
    "display(data_users.head())\n",
    "data_users.info()"
   ]
  },
  {
   "cell_type": "markdown",
   "metadata": {},
   "source": [
    "Есть пропущенные значения в дате прекращения тарифа, т.к. большинство тарифов еще действовало. Оставляем только нужные для анализа столбцы - идентиф.абонента, тариф и город."
   ]
  },
  {
   "cell_type": "markdown",
   "metadata": {},
   "source": [
    "# Предобработка данных users"
   ]
  },
  {
   "cell_type": "code",
   "execution_count": 22,
   "metadata": {},
   "outputs": [
    {
     "data": {
      "text/html": [
       "<div>\n",
       "<style scoped>\n",
       "    .dataframe tbody tr th:only-of-type {\n",
       "        vertical-align: middle;\n",
       "    }\n",
       "\n",
       "    .dataframe tbody tr th {\n",
       "        vertical-align: top;\n",
       "    }\n",
       "\n",
       "    .dataframe thead th {\n",
       "        text-align: right;\n",
       "    }\n",
       "</style>\n",
       "<table border=\"1\" class=\"dataframe\">\n",
       "  <thead>\n",
       "    <tr style=\"text-align: right;\">\n",
       "      <th></th>\n",
       "      <th>user_id</th>\n",
       "      <th>tariff</th>\n",
       "      <th>city</th>\n",
       "    </tr>\n",
       "  </thead>\n",
       "  <tbody>\n",
       "    <tr>\n",
       "      <th>0</th>\n",
       "      <td>1000</td>\n",
       "      <td>ultra</td>\n",
       "      <td>Краснодар</td>\n",
       "    </tr>\n",
       "    <tr>\n",
       "      <th>1</th>\n",
       "      <td>1001</td>\n",
       "      <td>smart</td>\n",
       "      <td>Москва</td>\n",
       "    </tr>\n",
       "    <tr>\n",
       "      <th>2</th>\n",
       "      <td>1002</td>\n",
       "      <td>smart</td>\n",
       "      <td>Стерлитамак</td>\n",
       "    </tr>\n",
       "    <tr>\n",
       "      <th>3</th>\n",
       "      <td>1003</td>\n",
       "      <td>ultra</td>\n",
       "      <td>Москва</td>\n",
       "    </tr>\n",
       "    <tr>\n",
       "      <th>4</th>\n",
       "      <td>1004</td>\n",
       "      <td>ultra</td>\n",
       "      <td>Новокузнецк</td>\n",
       "    </tr>\n",
       "  </tbody>\n",
       "</table>\n",
       "</div>"
      ],
      "text/plain": [
       "   user_id tariff         city\n",
       "0     1000  ultra    Краснодар\n",
       "1     1001  smart       Москва\n",
       "2     1002  smart  Стерлитамак\n",
       "3     1003  ultra       Москва\n",
       "4     1004  ultra  Новокузнецк"
      ]
     },
     "metadata": {},
     "output_type": "display_data"
    },
    {
     "name": "stdout",
     "output_type": "stream",
     "text": [
      "<class 'pandas.core.frame.DataFrame'>\n",
      "Int64Index: 500 entries, 0 to 499\n",
      "Data columns (total 3 columns):\n",
      " #   Column   Non-Null Count  Dtype \n",
      "---  ------   --------------  ----- \n",
      " 0   user_id  500 non-null    int64 \n",
      " 1   tariff   500 non-null    object\n",
      " 2   city     500 non-null    object\n",
      "dtypes: int64(1), object(2)\n",
      "memory usage: 15.6+ KB\n"
     ]
    }
   ],
   "source": [
    "data_users = data_users[['user_id', 'tariff', 'city']]\n",
    "data_users = data_users.drop_duplicates() # удалим дубликаты в таблице\n",
    "\n",
    "display(data_users.head())\n",
    "data_users.info()"
   ]
  },
  {
   "cell_type": "markdown",
   "metadata": {},
   "source": [
    "# Объединение таблиц"
   ]
  },
  {
   "cell_type": "markdown",
   "metadata": {},
   "source": [
    "+ Объединим таблицы звонков и сообщений"
   ]
  },
  {
   "cell_type": "code",
   "execution_count": 23,
   "metadata": {},
   "outputs": [
    {
     "data": {
      "text/html": [
       "<div>\n",
       "<style scoped>\n",
       "    .dataframe tbody tr th:only-of-type {\n",
       "        vertical-align: middle;\n",
       "    }\n",
       "\n",
       "    .dataframe tbody tr th {\n",
       "        vertical-align: top;\n",
       "    }\n",
       "\n",
       "    .dataframe thead th {\n",
       "        text-align: right;\n",
       "    }\n",
       "</style>\n",
       "<table border=\"1\" class=\"dataframe\">\n",
       "  <thead>\n",
       "    <tr style=\"text-align: right;\">\n",
       "      <th></th>\n",
       "      <th>user_id</th>\n",
       "      <th>month</th>\n",
       "      <th>sum_minut</th>\n",
       "      <th>sum_message</th>\n",
       "    </tr>\n",
       "  </thead>\n",
       "  <tbody>\n",
       "    <tr>\n",
       "      <th>0</th>\n",
       "      <td>1000</td>\n",
       "      <td>5</td>\n",
       "      <td>159</td>\n",
       "      <td>22.0</td>\n",
       "    </tr>\n",
       "    <tr>\n",
       "      <th>1</th>\n",
       "      <td>1000</td>\n",
       "      <td>6</td>\n",
       "      <td>172</td>\n",
       "      <td>60.0</td>\n",
       "    </tr>\n",
       "    <tr>\n",
       "      <th>2</th>\n",
       "      <td>1000</td>\n",
       "      <td>7</td>\n",
       "      <td>340</td>\n",
       "      <td>75.0</td>\n",
       "    </tr>\n",
       "    <tr>\n",
       "      <th>3</th>\n",
       "      <td>1000</td>\n",
       "      <td>8</td>\n",
       "      <td>408</td>\n",
       "      <td>81.0</td>\n",
       "    </tr>\n",
       "    <tr>\n",
       "      <th>4</th>\n",
       "      <td>1000</td>\n",
       "      <td>9</td>\n",
       "      <td>466</td>\n",
       "      <td>57.0</td>\n",
       "    </tr>\n",
       "  </tbody>\n",
       "</table>\n",
       "</div>"
      ],
      "text/plain": [
       "   user_id  month  sum_minut  sum_message\n",
       "0     1000      5        159         22.0\n",
       "1     1000      6        172         60.0\n",
       "2     1000      7        340         75.0\n",
       "3     1000      8        408         81.0\n",
       "4     1000      9        466         57.0"
      ]
     },
     "metadata": {},
     "output_type": "display_data"
    },
    {
     "name": "stdout",
     "output_type": "stream",
     "text": [
      "<class 'pandas.core.frame.DataFrame'>\n",
      "Int64Index: 3213 entries, 0 to 3212\n",
      "Data columns (total 4 columns):\n",
      " #   Column       Non-Null Count  Dtype  \n",
      "---  ------       --------------  -----  \n",
      " 0   user_id      3213 non-null   int64  \n",
      " 1   month        3213 non-null   int64  \n",
      " 2   sum_minut    3174 non-null   Int64  \n",
      " 3   sum_message  2717 non-null   float64\n",
      "dtypes: Int64(1), float64(1), int64(2)\n",
      "memory usage: 128.6 KB\n"
     ]
    }
   ],
   "source": [
    "data=data_calls_pivot.merge(data_messages_pivot, on=['user_id', 'month'], how='outer')\n",
    "display(data.head())\n",
    "data.info()"
   ]
  },
  {
   "cell_type": "markdown",
   "metadata": {},
   "source": [
    "+ Объединим полученную таблицу с таблицей интернета"
   ]
  },
  {
   "cell_type": "code",
   "execution_count": 24,
   "metadata": {},
   "outputs": [
    {
     "data": {
      "text/html": [
       "<div>\n",
       "<style scoped>\n",
       "    .dataframe tbody tr th:only-of-type {\n",
       "        vertical-align: middle;\n",
       "    }\n",
       "\n",
       "    .dataframe tbody tr th {\n",
       "        vertical-align: top;\n",
       "    }\n",
       "\n",
       "    .dataframe thead th {\n",
       "        text-align: right;\n",
       "    }\n",
       "</style>\n",
       "<table border=\"1\" class=\"dataframe\">\n",
       "  <thead>\n",
       "    <tr style=\"text-align: right;\">\n",
       "      <th></th>\n",
       "      <th>user_id</th>\n",
       "      <th>month</th>\n",
       "      <th>sum_minut</th>\n",
       "      <th>sum_message</th>\n",
       "      <th>sum_gb</th>\n",
       "    </tr>\n",
       "  </thead>\n",
       "  <tbody>\n",
       "    <tr>\n",
       "      <th>0</th>\n",
       "      <td>1000</td>\n",
       "      <td>5</td>\n",
       "      <td>159</td>\n",
       "      <td>22.0</td>\n",
       "      <td>4</td>\n",
       "    </tr>\n",
       "    <tr>\n",
       "      <th>1</th>\n",
       "      <td>1000</td>\n",
       "      <td>6</td>\n",
       "      <td>172</td>\n",
       "      <td>60.0</td>\n",
       "      <td>49</td>\n",
       "    </tr>\n",
       "    <tr>\n",
       "      <th>2</th>\n",
       "      <td>1000</td>\n",
       "      <td>7</td>\n",
       "      <td>340</td>\n",
       "      <td>75.0</td>\n",
       "      <td>28</td>\n",
       "    </tr>\n",
       "    <tr>\n",
       "      <th>3</th>\n",
       "      <td>1000</td>\n",
       "      <td>8</td>\n",
       "      <td>408</td>\n",
       "      <td>81.0</td>\n",
       "      <td>27</td>\n",
       "    </tr>\n",
       "    <tr>\n",
       "      <th>4</th>\n",
       "      <td>1000</td>\n",
       "      <td>9</td>\n",
       "      <td>466</td>\n",
       "      <td>57.0</td>\n",
       "      <td>26</td>\n",
       "    </tr>\n",
       "  </tbody>\n",
       "</table>\n",
       "</div>"
      ],
      "text/plain": [
       "   user_id  month  sum_minut  sum_message  sum_gb\n",
       "0     1000      5        159         22.0       4\n",
       "1     1000      6        172         60.0      49\n",
       "2     1000      7        340         75.0      28\n",
       "3     1000      8        408         81.0      27\n",
       "4     1000      9        466         57.0      26"
      ]
     },
     "metadata": {},
     "output_type": "display_data"
    },
    {
     "name": "stdout",
     "output_type": "stream",
     "text": [
      "<class 'pandas.core.frame.DataFrame'>\n",
      "Int64Index: 3214 entries, 0 to 3213\n",
      "Data columns (total 5 columns):\n",
      " #   Column       Non-Null Count  Dtype  \n",
      "---  ------       --------------  -----  \n",
      " 0   user_id      3214 non-null   int64  \n",
      " 1   month        3214 non-null   int64  \n",
      " 2   sum_minut    3174 non-null   Int64  \n",
      " 3   sum_message  2717 non-null   float64\n",
      " 4   sum_gb       3203 non-null   Int64  \n",
      "dtypes: Int64(2), float64(1), int64(2)\n",
      "memory usage: 156.9 KB\n"
     ]
    }
   ],
   "source": [
    "data=data.merge(data_internet_pivot, on=['user_id', 'month'], how='outer')\n",
    "display(data.head())\n",
    "data.info()"
   ]
  },
  {
   "cell_type": "markdown",
   "metadata": {},
   "source": [
    "+ Объединим полученную таблицу с таблицей абонентов"
   ]
  },
  {
   "cell_type": "code",
   "execution_count": 25,
   "metadata": {},
   "outputs": [
    {
     "data": {
      "text/html": [
       "<div>\n",
       "<style scoped>\n",
       "    .dataframe tbody tr th:only-of-type {\n",
       "        vertical-align: middle;\n",
       "    }\n",
       "\n",
       "    .dataframe tbody tr th {\n",
       "        vertical-align: top;\n",
       "    }\n",
       "\n",
       "    .dataframe thead th {\n",
       "        text-align: right;\n",
       "    }\n",
       "</style>\n",
       "<table border=\"1\" class=\"dataframe\">\n",
       "  <thead>\n",
       "    <tr style=\"text-align: right;\">\n",
       "      <th></th>\n",
       "      <th>user_id</th>\n",
       "      <th>month</th>\n",
       "      <th>sum_minut</th>\n",
       "      <th>sum_message</th>\n",
       "      <th>sum_gb</th>\n",
       "      <th>tariff</th>\n",
       "      <th>city</th>\n",
       "    </tr>\n",
       "  </thead>\n",
       "  <tbody>\n",
       "    <tr>\n",
       "      <th>0</th>\n",
       "      <td>1000</td>\n",
       "      <td>5.0</td>\n",
       "      <td>159</td>\n",
       "      <td>22.0</td>\n",
       "      <td>4</td>\n",
       "      <td>ultra</td>\n",
       "      <td>Краснодар</td>\n",
       "    </tr>\n",
       "    <tr>\n",
       "      <th>1</th>\n",
       "      <td>1000</td>\n",
       "      <td>6.0</td>\n",
       "      <td>172</td>\n",
       "      <td>60.0</td>\n",
       "      <td>49</td>\n",
       "      <td>ultra</td>\n",
       "      <td>Краснодар</td>\n",
       "    </tr>\n",
       "    <tr>\n",
       "      <th>2</th>\n",
       "      <td>1000</td>\n",
       "      <td>7.0</td>\n",
       "      <td>340</td>\n",
       "      <td>75.0</td>\n",
       "      <td>28</td>\n",
       "      <td>ultra</td>\n",
       "      <td>Краснодар</td>\n",
       "    </tr>\n",
       "    <tr>\n",
       "      <th>3</th>\n",
       "      <td>1000</td>\n",
       "      <td>8.0</td>\n",
       "      <td>408</td>\n",
       "      <td>81.0</td>\n",
       "      <td>27</td>\n",
       "      <td>ultra</td>\n",
       "      <td>Краснодар</td>\n",
       "    </tr>\n",
       "    <tr>\n",
       "      <th>4</th>\n",
       "      <td>1000</td>\n",
       "      <td>9.0</td>\n",
       "      <td>466</td>\n",
       "      <td>57.0</td>\n",
       "      <td>26</td>\n",
       "      <td>ultra</td>\n",
       "      <td>Краснодар</td>\n",
       "    </tr>\n",
       "  </tbody>\n",
       "</table>\n",
       "</div>"
      ],
      "text/plain": [
       "   user_id  month  sum_minut  sum_message  sum_gb tariff       city\n",
       "0     1000    5.0        159         22.0       4  ultra  Краснодар\n",
       "1     1000    6.0        172         60.0      49  ultra  Краснодар\n",
       "2     1000    7.0        340         75.0      28  ultra  Краснодар\n",
       "3     1000    8.0        408         81.0      27  ultra  Краснодар\n",
       "4     1000    9.0        466         57.0      26  ultra  Краснодар"
      ]
     },
     "metadata": {},
     "output_type": "display_data"
    },
    {
     "name": "stdout",
     "output_type": "stream",
     "text": [
      "<class 'pandas.core.frame.DataFrame'>\n",
      "Int64Index: 3216 entries, 0 to 3215\n",
      "Data columns (total 7 columns):\n",
      " #   Column       Non-Null Count  Dtype  \n",
      "---  ------       --------------  -----  \n",
      " 0   user_id      3216 non-null   int64  \n",
      " 1   month        3214 non-null   float64\n",
      " 2   sum_minut    3174 non-null   Int64  \n",
      " 3   sum_message  2717 non-null   float64\n",
      " 4   sum_gb       3203 non-null   Int64  \n",
      " 5   tariff       3216 non-null   object \n",
      " 6   city         3216 non-null   object \n",
      "dtypes: Int64(2), float64(2), int64(1), object(2)\n",
      "memory usage: 207.3+ KB\n"
     ]
    }
   ],
   "source": [
    "data=data.merge(data_users, on=['user_id'], how='outer')\n",
    "display(data.head())\n",
    "data.info()"
   ]
  },
  {
   "cell_type": "markdown",
   "metadata": {},
   "source": [
    "В итоговой таблице есть попущенные значения и float - Заменим отсутствующие значения на 0 и переведем количественные столбцы в int"
   ]
  },
  {
   "cell_type": "code",
   "execution_count": 26,
   "metadata": {},
   "outputs": [],
   "source": [
    "data = data.fillna(\n",
    "    {\n",
    "        'sum_message':0,\n",
    "        'sum_minut':0,\n",
    "        'sum_gb':0,\n",
    "        'month':0,\n",
    "        }\n",
    ")\n",
    "\n",
    "data = data.astype(\n",
    "    {\n",
    "        'sum_message':'int',\n",
    "        'sum_minut':'int',\n",
    "        'sum_gb':'int',\n",
    "        'month':'int',\n",
    "        }\n",
    ")\n",
    "data=data.query('month > 0')"
   ]
  },
  {
   "cell_type": "code",
   "execution_count": 27,
   "metadata": {},
   "outputs": [
    {
     "data": {
      "text/html": [
       "<div>\n",
       "<style scoped>\n",
       "    .dataframe tbody tr th:only-of-type {\n",
       "        vertical-align: middle;\n",
       "    }\n",
       "\n",
       "    .dataframe tbody tr th {\n",
       "        vertical-align: top;\n",
       "    }\n",
       "\n",
       "    .dataframe thead th {\n",
       "        text-align: right;\n",
       "    }\n",
       "</style>\n",
       "<table border=\"1\" class=\"dataframe\">\n",
       "  <thead>\n",
       "    <tr style=\"text-align: right;\">\n",
       "      <th></th>\n",
       "      <th>user_id</th>\n",
       "      <th>month</th>\n",
       "      <th>sum_minut</th>\n",
       "      <th>sum_message</th>\n",
       "      <th>sum_gb</th>\n",
       "      <th>tariff</th>\n",
       "      <th>city</th>\n",
       "    </tr>\n",
       "  </thead>\n",
       "  <tbody>\n",
       "    <tr>\n",
       "      <th>0</th>\n",
       "      <td>1000</td>\n",
       "      <td>5</td>\n",
       "      <td>159</td>\n",
       "      <td>22</td>\n",
       "      <td>4</td>\n",
       "      <td>ultra</td>\n",
       "      <td>Краснодар</td>\n",
       "    </tr>\n",
       "    <tr>\n",
       "      <th>1</th>\n",
       "      <td>1000</td>\n",
       "      <td>6</td>\n",
       "      <td>172</td>\n",
       "      <td>60</td>\n",
       "      <td>49</td>\n",
       "      <td>ultra</td>\n",
       "      <td>Краснодар</td>\n",
       "    </tr>\n",
       "    <tr>\n",
       "      <th>2</th>\n",
       "      <td>1000</td>\n",
       "      <td>7</td>\n",
       "      <td>340</td>\n",
       "      <td>75</td>\n",
       "      <td>28</td>\n",
       "      <td>ultra</td>\n",
       "      <td>Краснодар</td>\n",
       "    </tr>\n",
       "    <tr>\n",
       "      <th>3</th>\n",
       "      <td>1000</td>\n",
       "      <td>8</td>\n",
       "      <td>408</td>\n",
       "      <td>81</td>\n",
       "      <td>27</td>\n",
       "      <td>ultra</td>\n",
       "      <td>Краснодар</td>\n",
       "    </tr>\n",
       "    <tr>\n",
       "      <th>4</th>\n",
       "      <td>1000</td>\n",
       "      <td>9</td>\n",
       "      <td>466</td>\n",
       "      <td>57</td>\n",
       "      <td>26</td>\n",
       "      <td>ultra</td>\n",
       "      <td>Краснодар</td>\n",
       "    </tr>\n",
       "  </tbody>\n",
       "</table>\n",
       "</div>"
      ],
      "text/plain": [
       "   user_id  month  sum_minut  sum_message  sum_gb tariff       city\n",
       "0     1000      5        159           22       4  ultra  Краснодар\n",
       "1     1000      6        172           60      49  ultra  Краснодар\n",
       "2     1000      7        340           75      28  ultra  Краснодар\n",
       "3     1000      8        408           81      27  ultra  Краснодар\n",
       "4     1000      9        466           57      26  ultra  Краснодар"
      ]
     },
     "metadata": {},
     "output_type": "display_data"
    },
    {
     "name": "stdout",
     "output_type": "stream",
     "text": [
      "<class 'pandas.core.frame.DataFrame'>\n",
      "Int64Index: 3214 entries, 0 to 3213\n",
      "Data columns (total 7 columns):\n",
      " #   Column       Non-Null Count  Dtype \n",
      "---  ------       --------------  ----- \n",
      " 0   user_id      3214 non-null   int64 \n",
      " 1   month        3214 non-null   int64 \n",
      " 2   sum_minut    3214 non-null   int64 \n",
      " 3   sum_message  3214 non-null   int64 \n",
      " 4   sum_gb       3214 non-null   int64 \n",
      " 5   tariff       3214 non-null   object\n",
      " 6   city         3214 non-null   object\n",
      "dtypes: int64(5), object(2)\n",
      "memory usage: 200.9+ KB\n"
     ]
    }
   ],
   "source": [
    "display(data.head())\n",
    "data.info()"
   ]
  },
  {
   "cell_type": "markdown",
   "metadata": {},
   "source": [
    "Итоговая таблица преобразована - В ней содержится вся информация по минутам, сообщениям и гигабайтам, по каждому абоненту ежемесячно."
   ]
  },
  {
   "cell_type": "markdown",
   "metadata": {},
   "source": [
    "# Помесячная выручка с каждого пользователя"
   ]
  },
  {
   "cell_type": "code",
   "execution_count": 28,
   "metadata": {},
   "outputs": [
    {
     "data": {
      "text/html": [
       "<div>\n",
       "<style scoped>\n",
       "    .dataframe tbody tr th:only-of-type {\n",
       "        vertical-align: middle;\n",
       "    }\n",
       "\n",
       "    .dataframe tbody tr th {\n",
       "        vertical-align: top;\n",
       "    }\n",
       "\n",
       "    .dataframe thead th {\n",
       "        text-align: right;\n",
       "    }\n",
       "</style>\n",
       "<table border=\"1\" class=\"dataframe\">\n",
       "  <thead>\n",
       "    <tr style=\"text-align: right;\">\n",
       "      <th></th>\n",
       "      <th>tariff_name</th>\n",
       "      <th>messages_included</th>\n",
       "      <th>gb_included</th>\n",
       "      <th>minutes_included</th>\n",
       "      <th>price_month</th>\n",
       "      <th>rub_per_gb</th>\n",
       "      <th>rub_per_message</th>\n",
       "      <th>rub_per_minute</th>\n",
       "    </tr>\n",
       "  </thead>\n",
       "  <tbody>\n",
       "    <tr>\n",
       "      <th>0</th>\n",
       "      <td>smart</td>\n",
       "      <td>50</td>\n",
       "      <td>15</td>\n",
       "      <td>500</td>\n",
       "      <td>550</td>\n",
       "      <td>200</td>\n",
       "      <td>3</td>\n",
       "      <td>3</td>\n",
       "    </tr>\n",
       "    <tr>\n",
       "      <th>1</th>\n",
       "      <td>ultra</td>\n",
       "      <td>1000</td>\n",
       "      <td>30</td>\n",
       "      <td>3000</td>\n",
       "      <td>1950</td>\n",
       "      <td>150</td>\n",
       "      <td>1</td>\n",
       "      <td>1</td>\n",
       "    </tr>\n",
       "  </tbody>\n",
       "</table>\n",
       "</div>"
      ],
      "text/plain": [
       "  tariff_name  messages_included  gb_included  minutes_included  price_month  \\\n",
       "0       smart                 50           15               500          550   \n",
       "1       ultra               1000           30              3000         1950   \n",
       "\n",
       "   rub_per_gb  rub_per_message  rub_per_minute  \n",
       "0         200                3               3  \n",
       "1         150                1               1  "
      ]
     },
     "execution_count": 28,
     "metadata": {},
     "output_type": "execute_result"
    }
   ],
   "source": [
    "data_tariffs.head() #вспомним условия каждого тарифа"
   ]
  },
  {
   "cell_type": "code",
   "execution_count": 29,
   "metadata": {},
   "outputs": [],
   "source": [
    "def price(df):\n",
    "    sum_minut = df['sum_minut']\n",
    "    sum_message = df['sum_message']\n",
    "    sum_gb = df['sum_gb']\n",
    "    tariff = df['tariff']\n",
    "    if tariff == 'smart':\n",
    "        if sum_minut > 500:\n",
    "            price_min=(sum_minut-500)*3 #стоимость минут потраченных сверх тарифа\n",
    "        else:\n",
    "            price_min = 0\n",
    "        if sum_message > 50:\n",
    "            price_message=(sum_message-50)*3 #стоимость сообщений потраченных сверх тарифа\n",
    "        else:\n",
    "            price_message = 0\n",
    "        if sum_gb > 15:\n",
    "            price_gb=(sum_gb-15)*200 #стоимость гб потраченных сверх тарифа\n",
    "        else:\n",
    "            price_gb = 0\n",
    "        return price_min + price_message + price_gb + 550 #цена за месяц: тариф + потраченное сверху\n",
    "    elif tariff == 'ultra':\n",
    "        if sum_minut > 3000:\n",
    "            price_min=sum_minut-3000 #стоимость минут потраченных сверх тарифа\n",
    "        else:\n",
    "            price_min = 0\n",
    "        if sum_message > 1000:\n",
    "            price_message=sum_message-1000 #стоимость сообщений потраченных сверх тарифа\n",
    "        else:\n",
    "            price_message = 0\n",
    "        if sum_gb > 30:\n",
    "            price_gb=(sum_gb-30)*150 #стоимость гб потраченных сверх тарифа\n",
    "        else:\n",
    "            price_gb = 0\n",
    "        return price_min + price_message + price_gb + 1950 #цена за месяц: тариф + потраченное сверху\n",
    "            \n",
    "  \n",
    "   \n",
    "data['price_month'] =  data.apply(price, axis=1) #новый столбец, функцию ко всей строке"
   ]
  },
  {
   "cell_type": "code",
   "execution_count": 30,
   "metadata": {},
   "outputs": [
    {
     "data": {
      "text/html": [
       "<div>\n",
       "<style scoped>\n",
       "    .dataframe tbody tr th:only-of-type {\n",
       "        vertical-align: middle;\n",
       "    }\n",
       "\n",
       "    .dataframe tbody tr th {\n",
       "        vertical-align: top;\n",
       "    }\n",
       "\n",
       "    .dataframe thead th {\n",
       "        text-align: right;\n",
       "    }\n",
       "</style>\n",
       "<table border=\"1\" class=\"dataframe\">\n",
       "  <thead>\n",
       "    <tr style=\"text-align: right;\">\n",
       "      <th></th>\n",
       "      <th>user_id</th>\n",
       "      <th>month</th>\n",
       "      <th>sum_minut</th>\n",
       "      <th>sum_message</th>\n",
       "      <th>sum_gb</th>\n",
       "      <th>tariff</th>\n",
       "      <th>city</th>\n",
       "      <th>price_month</th>\n",
       "    </tr>\n",
       "  </thead>\n",
       "  <tbody>\n",
       "    <tr>\n",
       "      <th>0</th>\n",
       "      <td>1000</td>\n",
       "      <td>5</td>\n",
       "      <td>159</td>\n",
       "      <td>22</td>\n",
       "      <td>4</td>\n",
       "      <td>ultra</td>\n",
       "      <td>Краснодар</td>\n",
       "      <td>1950</td>\n",
       "    </tr>\n",
       "    <tr>\n",
       "      <th>1</th>\n",
       "      <td>1000</td>\n",
       "      <td>6</td>\n",
       "      <td>172</td>\n",
       "      <td>60</td>\n",
       "      <td>49</td>\n",
       "      <td>ultra</td>\n",
       "      <td>Краснодар</td>\n",
       "      <td>4800</td>\n",
       "    </tr>\n",
       "    <tr>\n",
       "      <th>2</th>\n",
       "      <td>1000</td>\n",
       "      <td>7</td>\n",
       "      <td>340</td>\n",
       "      <td>75</td>\n",
       "      <td>28</td>\n",
       "      <td>ultra</td>\n",
       "      <td>Краснодар</td>\n",
       "      <td>1950</td>\n",
       "    </tr>\n",
       "    <tr>\n",
       "      <th>3</th>\n",
       "      <td>1000</td>\n",
       "      <td>8</td>\n",
       "      <td>408</td>\n",
       "      <td>81</td>\n",
       "      <td>27</td>\n",
       "      <td>ultra</td>\n",
       "      <td>Краснодар</td>\n",
       "      <td>1950</td>\n",
       "    </tr>\n",
       "    <tr>\n",
       "      <th>4</th>\n",
       "      <td>1000</td>\n",
       "      <td>9</td>\n",
       "      <td>466</td>\n",
       "      <td>57</td>\n",
       "      <td>26</td>\n",
       "      <td>ultra</td>\n",
       "      <td>Краснодар</td>\n",
       "      <td>1950</td>\n",
       "    </tr>\n",
       "  </tbody>\n",
       "</table>\n",
       "</div>"
      ],
      "text/plain": [
       "   user_id  month  sum_minut  sum_message  sum_gb tariff       city  \\\n",
       "0     1000      5        159           22       4  ultra  Краснодар   \n",
       "1     1000      6        172           60      49  ultra  Краснодар   \n",
       "2     1000      7        340           75      28  ultra  Краснодар   \n",
       "3     1000      8        408           81      27  ultra  Краснодар   \n",
       "4     1000      9        466           57      26  ultra  Краснодар   \n",
       "\n",
       "   price_month  \n",
       "0         1950  \n",
       "1         4800  \n",
       "2         1950  \n",
       "3         1950  \n",
       "4         1950  "
      ]
     },
     "metadata": {},
     "output_type": "display_data"
    },
    {
     "name": "stdout",
     "output_type": "stream",
     "text": [
      "<class 'pandas.core.frame.DataFrame'>\n",
      "Int64Index: 3214 entries, 0 to 3213\n",
      "Data columns (total 8 columns):\n",
      " #   Column       Non-Null Count  Dtype \n",
      "---  ------       --------------  ----- \n",
      " 0   user_id      3214 non-null   int64 \n",
      " 1   month        3214 non-null   int64 \n",
      " 2   sum_minut    3214 non-null   int64 \n",
      " 3   sum_message  3214 non-null   int64 \n",
      " 4   sum_gb       3214 non-null   int64 \n",
      " 5   tariff       3214 non-null   object\n",
      " 6   city         3214 non-null   object\n",
      " 7   price_month  3214 non-null   int64 \n",
      "dtypes: int64(6), object(2)\n",
      "memory usage: 226.0+ KB\n"
     ]
    }
   ],
   "source": [
    "display(data.head()) #проверим результат\n",
    "data.info()"
   ]
  },
  {
   "cell_type": "markdown",
   "metadata": {},
   "source": [
    "Таблица готова к анализу"
   ]
  },
  {
   "cell_type": "markdown",
   "metadata": {},
   "source": [
    "# Анализ результатов"
   ]
  },
  {
   "cell_type": "code",
   "execution_count": 31,
   "metadata": {},
   "outputs": [
    {
     "data": {
      "text/html": [
       "<div>\n",
       "<style scoped>\n",
       "    .dataframe tbody tr th:only-of-type {\n",
       "        vertical-align: middle;\n",
       "    }\n",
       "\n",
       "    .dataframe tbody tr th {\n",
       "        vertical-align: top;\n",
       "    }\n",
       "\n",
       "    .dataframe thead th {\n",
       "        text-align: right;\n",
       "    }\n",
       "</style>\n",
       "<table border=\"1\" class=\"dataframe\">\n",
       "  <thead>\n",
       "    <tr style=\"text-align: right;\">\n",
       "      <th></th>\n",
       "      <th>tariff_name</th>\n",
       "      <th>messages_included</th>\n",
       "      <th>gb_included</th>\n",
       "      <th>minutes_included</th>\n",
       "      <th>price_month</th>\n",
       "      <th>rub_per_gb</th>\n",
       "      <th>rub_per_message</th>\n",
       "      <th>rub_per_minute</th>\n",
       "    </tr>\n",
       "  </thead>\n",
       "  <tbody>\n",
       "    <tr>\n",
       "      <th>0</th>\n",
       "      <td>smart</td>\n",
       "      <td>50</td>\n",
       "      <td>15</td>\n",
       "      <td>500</td>\n",
       "      <td>550</td>\n",
       "      <td>200</td>\n",
       "      <td>3</td>\n",
       "      <td>3</td>\n",
       "    </tr>\n",
       "    <tr>\n",
       "      <th>1</th>\n",
       "      <td>ultra</td>\n",
       "      <td>1000</td>\n",
       "      <td>30</td>\n",
       "      <td>3000</td>\n",
       "      <td>1950</td>\n",
       "      <td>150</td>\n",
       "      <td>1</td>\n",
       "      <td>1</td>\n",
       "    </tr>\n",
       "  </tbody>\n",
       "</table>\n",
       "</div>"
      ],
      "text/plain": [
       "  tariff_name  messages_included  gb_included  minutes_included  price_month  \\\n",
       "0       smart                 50           15               500          550   \n",
       "1       ultra               1000           30              3000         1950   \n",
       "\n",
       "   rub_per_gb  rub_per_message  rub_per_minute  \n",
       "0         200                3               3  \n",
       "1         150                1               1  "
      ]
     },
     "execution_count": 31,
     "metadata": {},
     "output_type": "execute_result"
    }
   ],
   "source": [
    "data_tariffs.head() #вспоминаем условия тарифов, чтобы сравнить с показателями describe"
   ]
  },
  {
   "cell_type": "markdown",
   "metadata": {},
   "source": [
    "# Анализ тарифа ULTRA"
   ]
  },
  {
   "cell_type": "code",
   "execution_count": 32,
   "metadata": {},
   "outputs": [
    {
     "data": {
      "text/html": [
       "<div>\n",
       "<style scoped>\n",
       "    .dataframe tbody tr th:only-of-type {\n",
       "        vertical-align: middle;\n",
       "    }\n",
       "\n",
       "    .dataframe tbody tr th {\n",
       "        vertical-align: top;\n",
       "    }\n",
       "\n",
       "    .dataframe thead th {\n",
       "        text-align: right;\n",
       "    }\n",
       "</style>\n",
       "<table border=\"1\" class=\"dataframe\">\n",
       "  <thead>\n",
       "    <tr style=\"text-align: right;\">\n",
       "      <th></th>\n",
       "      <th>user_id</th>\n",
       "      <th>month</th>\n",
       "      <th>sum_minut</th>\n",
       "      <th>sum_message</th>\n",
       "      <th>sum_gb</th>\n",
       "      <th>price_month</th>\n",
       "    </tr>\n",
       "  </thead>\n",
       "  <tbody>\n",
       "    <tr>\n",
       "      <th>count</th>\n",
       "      <td>985.000000</td>\n",
       "      <td>985.000000</td>\n",
       "      <td>985.000000</td>\n",
       "      <td>985.000000</td>\n",
       "      <td>985.000000</td>\n",
       "      <td>985.000000</td>\n",
       "    </tr>\n",
       "    <tr>\n",
       "      <th>mean</th>\n",
       "      <td>1263.094416</td>\n",
       "      <td>8.250761</td>\n",
       "      <td>526.623350</td>\n",
       "      <td>49.363452</td>\n",
       "      <td>38.164467</td>\n",
       "      <td>3844.416244</td>\n",
       "    </tr>\n",
       "    <tr>\n",
       "      <th>std</th>\n",
       "      <td>140.694908</td>\n",
       "      <td>2.871762</td>\n",
       "      <td>317.606098</td>\n",
       "      <td>47.804457</td>\n",
       "      <td>19.564656</td>\n",
       "      <td>2166.139153</td>\n",
       "    </tr>\n",
       "    <tr>\n",
       "      <th>min</th>\n",
       "      <td>1000.000000</td>\n",
       "      <td>1.000000</td>\n",
       "      <td>0.000000</td>\n",
       "      <td>0.000000</td>\n",
       "      <td>0.000000</td>\n",
       "      <td>1950.000000</td>\n",
       "    </tr>\n",
       "    <tr>\n",
       "      <th>25%</th>\n",
       "      <td>1143.000000</td>\n",
       "      <td>6.000000</td>\n",
       "      <td>284.000000</td>\n",
       "      <td>6.000000</td>\n",
       "      <td>23.000000</td>\n",
       "      <td>1950.000000</td>\n",
       "    </tr>\n",
       "    <tr>\n",
       "      <th>50%</th>\n",
       "      <td>1277.000000</td>\n",
       "      <td>9.000000</td>\n",
       "      <td>518.000000</td>\n",
       "      <td>38.000000</td>\n",
       "      <td>38.000000</td>\n",
       "      <td>3150.000000</td>\n",
       "    </tr>\n",
       "    <tr>\n",
       "      <th>75%</th>\n",
       "      <td>1381.000000</td>\n",
       "      <td>11.000000</td>\n",
       "      <td>752.000000</td>\n",
       "      <td>79.000000</td>\n",
       "      <td>52.000000</td>\n",
       "      <td>5250.000000</td>\n",
       "    </tr>\n",
       "    <tr>\n",
       "      <th>max</th>\n",
       "      <td>1495.000000</td>\n",
       "      <td>12.000000</td>\n",
       "      <td>1673.000000</td>\n",
       "      <td>224.000000</td>\n",
       "      <td>98.000000</td>\n",
       "      <td>12150.000000</td>\n",
       "    </tr>\n",
       "  </tbody>\n",
       "</table>\n",
       "</div>"
      ],
      "text/plain": [
       "           user_id       month    sum_minut  sum_message      sum_gb  \\\n",
       "count   985.000000  985.000000   985.000000   985.000000  985.000000   \n",
       "mean   1263.094416    8.250761   526.623350    49.363452   38.164467   \n",
       "std     140.694908    2.871762   317.606098    47.804457   19.564656   \n",
       "min    1000.000000    1.000000     0.000000     0.000000    0.000000   \n",
       "25%    1143.000000    6.000000   284.000000     6.000000   23.000000   \n",
       "50%    1277.000000    9.000000   518.000000    38.000000   38.000000   \n",
       "75%    1381.000000   11.000000   752.000000    79.000000   52.000000   \n",
       "max    1495.000000   12.000000  1673.000000   224.000000   98.000000   \n",
       "\n",
       "        price_month  \n",
       "count    985.000000  \n",
       "mean    3844.416244  \n",
       "std     2166.139153  \n",
       "min     1950.000000  \n",
       "25%     1950.000000  \n",
       "50%     3150.000000  \n",
       "75%     5250.000000  \n",
       "max    12150.000000  "
      ]
     },
     "execution_count": 32,
     "metadata": {},
     "output_type": "execute_result"
    }
   ],
   "source": [
    "data_ultra=data.query('tariff == \"ultra\"')\n",
    "data_ultra.describe()"
   ]
  },
  {
   "cell_type": "code",
   "execution_count": 33,
   "metadata": {},
   "outputs": [
    {
     "data": {
      "text/plain": [
       "623"
      ]
     },
     "execution_count": 33,
     "metadata": {},
     "output_type": "execute_result"
    }
   ],
   "source": [
    "user_ultra_30 = data_ultra.query('sum_gb>30')['sum_gb'].count()\n",
    "user_ultra_30 "
   ]
  },
  {
   "cell_type": "code",
   "execution_count": 34,
   "metadata": {},
   "outputs": [
    {
     "data": {
      "text/plain": [
       "0.63248730964467"
      ]
     },
     "execution_count": 34,
     "metadata": {},
     "output_type": "execute_result"
    }
   ],
   "source": [
    "user_ultra_30 / 985"
   ]
  },
  {
   "cell_type": "markdown",
   "metadata": {},
   "source": [
    "В тариф УЛЬТРА входит 1000 сообщений, 30 гб, 3000 минут, абонет.плата - 1950р. - Максимальное кол-во в месяц сообщений было 224, минут 1673, что не превышает лимит. - А максимальное кол-во гб в месяц было 98, причем более 50% от всех месяцев лимит превышался. - Только 25% абонентов укладываются в лимит, остальные платят больше за счет интернета. - Средний ежемесячный чек - 3844р., что почти в 2 раза больше абоненской платы. - 63% наблюдений превышает лимит интернета в 30 ГБ"
   ]
  },
  {
   "cell_type": "code",
   "execution_count": 35,
   "metadata": {},
   "outputs": [
    {
     "data": {
      "text/html": [
       "<div>\n",
       "<style scoped>\n",
       "    .dataframe tbody tr th:only-of-type {\n",
       "        vertical-align: middle;\n",
       "    }\n",
       "\n",
       "    .dataframe tbody tr th {\n",
       "        vertical-align: top;\n",
       "    }\n",
       "\n",
       "    .dataframe thead th {\n",
       "        text-align: right;\n",
       "    }\n",
       "</style>\n",
       "<table border=\"1\" class=\"dataframe\">\n",
       "  <thead>\n",
       "    <tr style=\"text-align: right;\">\n",
       "      <th></th>\n",
       "      <th>user_id</th>\n",
       "      <th>month</th>\n",
       "      <th>sum_minut</th>\n",
       "      <th>sum_message</th>\n",
       "      <th>sum_gb</th>\n",
       "      <th>tariff</th>\n",
       "      <th>city</th>\n",
       "      <th>price_month</th>\n",
       "    </tr>\n",
       "  </thead>\n",
       "  <tbody>\n",
       "    <tr>\n",
       "      <th>0</th>\n",
       "      <td>1000</td>\n",
       "      <td>5</td>\n",
       "      <td>159</td>\n",
       "      <td>22</td>\n",
       "      <td>4</td>\n",
       "      <td>ultra</td>\n",
       "      <td>Краснодар</td>\n",
       "      <td>1950</td>\n",
       "    </tr>\n",
       "    <tr>\n",
       "      <th>1</th>\n",
       "      <td>1000</td>\n",
       "      <td>6</td>\n",
       "      <td>172</td>\n",
       "      <td>60</td>\n",
       "      <td>49</td>\n",
       "      <td>ultra</td>\n",
       "      <td>Краснодар</td>\n",
       "      <td>4800</td>\n",
       "    </tr>\n",
       "    <tr>\n",
       "      <th>2</th>\n",
       "      <td>1000</td>\n",
       "      <td>7</td>\n",
       "      <td>340</td>\n",
       "      <td>75</td>\n",
       "      <td>28</td>\n",
       "      <td>ultra</td>\n",
       "      <td>Краснодар</td>\n",
       "      <td>1950</td>\n",
       "    </tr>\n",
       "    <tr>\n",
       "      <th>3</th>\n",
       "      <td>1000</td>\n",
       "      <td>8</td>\n",
       "      <td>408</td>\n",
       "      <td>81</td>\n",
       "      <td>27</td>\n",
       "      <td>ultra</td>\n",
       "      <td>Краснодар</td>\n",
       "      <td>1950</td>\n",
       "    </tr>\n",
       "    <tr>\n",
       "      <th>4</th>\n",
       "      <td>1000</td>\n",
       "      <td>9</td>\n",
       "      <td>466</td>\n",
       "      <td>57</td>\n",
       "      <td>26</td>\n",
       "      <td>ultra</td>\n",
       "      <td>Краснодар</td>\n",
       "      <td>1950</td>\n",
       "    </tr>\n",
       "  </tbody>\n",
       "</table>\n",
       "</div>"
      ],
      "text/plain": [
       "   user_id  month  sum_minut  sum_message  sum_gb tariff       city  \\\n",
       "0     1000      5        159           22       4  ultra  Краснодар   \n",
       "1     1000      6        172           60      49  ultra  Краснодар   \n",
       "2     1000      7        340           75      28  ultra  Краснодар   \n",
       "3     1000      8        408           81      27  ultra  Краснодар   \n",
       "4     1000      9        466           57      26  ultra  Краснодар   \n",
       "\n",
       "   price_month  \n",
       "0         1950  \n",
       "1         4800  \n",
       "2         1950  \n",
       "3         1950  \n",
       "4         1950  "
      ]
     },
     "execution_count": 35,
     "metadata": {},
     "output_type": "execute_result"
    }
   ],
   "source": [
    "data_ultra.head()"
   ]
  },
  {
   "cell_type": "markdown",
   "metadata": {},
   "source": [
    "# Анализ ULTRA - минуты"
   ]
  },
  {
   "cell_type": "code",
   "execution_count": 36,
   "metadata": {},
   "outputs": [
    {
     "name": "stdout",
     "output_type": "stream",
     "text": [
      "Дисперсия -  100873.63339730098\n",
      "Отклонение -  317.6060978591264\n",
      "Среднее -  526.6233502538071\n"
     ]
    }
   ],
   "source": [
    "import numpy as np\n",
    "variance = np.var(data_ultra['sum_minut'], ddof=1)\n",
    "print('Дисперсия - ', variance)\n",
    "print('Отклонение - ', np.sqrt(variance))\n",
    "print('Среднее - ', data_ultra['sum_minut'].mean())"
   ]
  },
  {
   "cell_type": "code",
   "execution_count": 37,
   "metadata": {},
   "outputs": [
    {
     "name": "stderr",
     "output_type": "stream",
     "text": [
      "/opt/conda/lib/python3.9/site-packages/seaborn/distributions.py:2557: FutureWarning: `distplot` is a deprecated function and will be removed in a future version. Please adapt your code to use either `displot` (a figure-level function with similar flexibility) or `histplot` (an axes-level function for histograms).\n",
      "  warnings.warn(msg, FutureWarning)\n"
     ]
    },
    {
     "data": {
      "image/png": "[encoded data removed]",
      "text/plain": [
       "<Figure size 432x288 with 1 Axes>"
      ]
     },
     "metadata": {
      "needs_background": "light"
     },
     "output_type": "display_data"
    }
   ],
   "source": [
    "import seaborn as sns\n",
    "sns.distplot(data_ultra['sum_minut'], hist=True, \n",
    "             bins=50, color = 'blue', hist_kws={'edgecolor':'black'}).set_title('Анализ минут УЛЬТРА')\n",
    "\n",
    "plt.xlabel(\"Кол-во минут в месяц\") # подпись к оси X\n",
    "plt.ylabel(\"Частота\"); # подпись к оси Y"
   ]
  },
  {
   "cell_type": "markdown",
   "metadata": {},
   "source": [
    "Распределение скошено влево, распределение мультимодальное - Половина абонентов используют до 500 минут в месяц из возможных 3000 минут и 25% абонентов пользуются только 9% минут от лимита. - Часть пользователей минимально пользуются минутами, другие приложения с помощью интернета заменяют связь."
   ]
  },
  {
   "cell_type": "markdown",
   "metadata": {},
   "source": [
    "# Анализ ULTRA - сообщения"
   ]
  },
  {
   "cell_type": "code",
   "execution_count": 38,
   "metadata": {},
   "outputs": [
    {
     "name": "stderr",
     "output_type": "stream",
     "text": [
      "/opt/conda/lib/python3.9/site-packages/seaborn/distributions.py:2557: FutureWarning: `distplot` is a deprecated function and will be removed in a future version. Please adapt your code to use either `displot` (a figure-level function with similar flexibility) or `histplot` (an axes-level function for histograms).\n",
      "  warnings.warn(msg, FutureWarning)\n"
     ]
    },
    {
     "data": {
      "image/png": "[encoded data removed]",
      "text/plain": [
       "<Figure size 432x288 with 1 Axes>"
      ]
     },
     "metadata": {
      "needs_background": "light"
     },
     "output_type": "display_data"
    }
   ],
   "source": [
    "sns.distplot(data_ultra['sum_message'], hist=True, \n",
    "             bins=50, color = 'blue', hist_kws={'edgecolor':'black'}).set_title('Анализ сообщений УЛЬТРА')\n",
    "\n",
    "plt.xlabel(\"Кол-во сообщений в месяц\") # подпись к оси X\n",
    "plt.ylabel(\"Частота\"); # подпись к оси Y"
   ]
  },
  {
   "cell_type": "code",
   "execution_count": 39,
   "metadata": {},
   "outputs": [
    {
     "name": "stdout",
     "output_type": "stream",
     "text": [
      "Дисперсия -  2285.2661425446736\n",
      "Отклонение -  47.804457350174715\n",
      "Среднее -  49.36345177664975\n"
     ]
    }
   ],
   "source": [
    "variance = np.var(data_ultra['sum_message'], ddof=1)\n",
    "print('Дисперсия - ', variance)\n",
    "print('Отклонение - ', np.sqrt(variance))\n",
    "print('Среднее - ', data_ultra['sum_message'].mean())"
   ]
  },
  {
   "cell_type": "markdown",
   "metadata": {},
   "source": [
    "По тарифу УЛЬТРА лимит сообщений в месяц - 1000      - Распределение скошено влево, 50% абонентов используют в месяц до 38 сообщений, что около 4% от лимита. - 25% абонентов отправляют до 6 сообщений в месяц, что меньше 1% от лимита, на графике это выглядит как выброс. - обычные сообщения часто заменяются телеграмом, ватсапом и др, т.е. посредством интернета. - сообщения меньше всего интересуют клиентов."
   ]
  },
  {
   "cell_type": "markdown",
   "metadata": {},
   "source": [
    "# Анализ ULTRA - интернет"
   ]
  },
  {
   "cell_type": "code",
   "execution_count": 40,
   "metadata": {},
   "outputs": [
    {
     "name": "stdout",
     "output_type": "stream",
     "text": [
      "Дисперсия -  382.7757686434732\n",
      "Отклонение -  19.564656108489952\n",
      "Среднее -  38.16446700507614\n"
     ]
    }
   ],
   "source": [
    "variance = np.var(data_ultra['sum_gb'], ddof=1)\n",
    "print('Дисперсия - ', variance)\n",
    "print('Отклонение - ', np.sqrt(variance))\n",
    "print('Среднее - ', data_ultra['sum_gb'].mean())"
   ]
  },
  {
   "cell_type": "code",
   "execution_count": 41,
   "metadata": {},
   "outputs": [
    {
     "name": "stderr",
     "output_type": "stream",
     "text": [
      "/opt/conda/lib/python3.9/site-packages/seaborn/distributions.py:2557: FutureWarning: `distplot` is a deprecated function and will be removed in a future version. Please adapt your code to use either `displot` (a figure-level function with similar flexibility) or `histplot` (an axes-level function for histograms).\n",
      "  warnings.warn(msg, FutureWarning)\n"
     ]
    },
    {
     "data": {
      "image/png": "[encoded data removed]",
      "text/plain": [
       "<Figure size 432x288 with 1 Axes>"
      ]
     },
     "metadata": {
      "needs_background": "light"
     },
     "output_type": "display_data"
    }
   ],
   "source": [
    "sns.distplot(data_ultra['sum_gb'], hist=True, \n",
    "             bins=20, color = 'blue', hist_kws={'edgecolor':'black'}).set_title('Анализ интернета УЛЬТРА')\n",
    "\n",
    "plt.xlabel(\"Кол-во ГБ в месяц\") # подпись к оси X\n",
    "plt.ylabel(\"Частота\"); # подпись к оси Y"
   ]
  },
  {
   "cell_type": "markdown",
   "metadata": {},
   "source": [
    "По тарифу УЛЬТРА лимит интернета - 30 гб - Распределение нормальное, т.к. интернетом пользуются полноценно, звонки и сообщения часто через приложения и соответственно при помощи интернета. - Лимит интернета является почти средним в этом распределении.     - 30 гб чуть ниже среднего, больше половины абонентов превышают лимит, очень выгодная ситуация для сотового оператора."
   ]
  },
  {
   "cell_type": "code",
   "execution_count": 42,
   "metadata": {},
   "outputs": [
    {
     "data": {
      "text/plain": [
       "49.277084571202224"
      ]
     },
     "execution_count": 42,
     "metadata": {},
     "output_type": "execute_result"
    }
   ],
   "source": [
    "gb_ultra=(1-1950*(data_ultra['month'].count()) / data_ultra['price_month'].sum())*100\n",
    "gb_ultra"
   ]
  },
  {
   "cell_type": "markdown",
   "metadata": {},
   "source": [
    "49% от выручки по тарифу УЛЬТРА составляет дополнительный интернет      - минуты входят в стоимость, никто из абонентов не тратит доп.минуты, - сообщения входят в стоимость, никто из абонентов не тратит доп.сообщения, - половину выручки по тарифу составляет дополнительный интернет.     "
   ]
  },
  {
   "cell_type": "markdown",
   "metadata": {},
   "source": [
    "# Анализ тарифа SMART"
   ]
  },
  {
   "cell_type": "code",
   "execution_count": 43,
   "metadata": {},
   "outputs": [
    {
     "data": {
      "text/html": [
       "<div>\n",
       "<style scoped>\n",
       "    .dataframe tbody tr th:only-of-type {\n",
       "        vertical-align: middle;\n",
       "    }\n",
       "\n",
       "    .dataframe tbody tr th {\n",
       "        vertical-align: top;\n",
       "    }\n",
       "\n",
       "    .dataframe thead th {\n",
       "        text-align: right;\n",
       "    }\n",
       "</style>\n",
       "<table border=\"1\" class=\"dataframe\">\n",
       "  <thead>\n",
       "    <tr style=\"text-align: right;\">\n",
       "      <th></th>\n",
       "      <th>tariff_name</th>\n",
       "      <th>messages_included</th>\n",
       "      <th>gb_included</th>\n",
       "      <th>minutes_included</th>\n",
       "      <th>price_month</th>\n",
       "      <th>rub_per_gb</th>\n",
       "      <th>rub_per_message</th>\n",
       "      <th>rub_per_minute</th>\n",
       "    </tr>\n",
       "  </thead>\n",
       "  <tbody>\n",
       "    <tr>\n",
       "      <th>0</th>\n",
       "      <td>smart</td>\n",
       "      <td>50</td>\n",
       "      <td>15</td>\n",
       "      <td>500</td>\n",
       "      <td>550</td>\n",
       "      <td>200</td>\n",
       "      <td>3</td>\n",
       "      <td>3</td>\n",
       "    </tr>\n",
       "    <tr>\n",
       "      <th>1</th>\n",
       "      <td>ultra</td>\n",
       "      <td>1000</td>\n",
       "      <td>30</td>\n",
       "      <td>3000</td>\n",
       "      <td>1950</td>\n",
       "      <td>150</td>\n",
       "      <td>1</td>\n",
       "      <td>1</td>\n",
       "    </tr>\n",
       "  </tbody>\n",
       "</table>\n",
       "</div>"
      ],
      "text/plain": [
       "  tariff_name  messages_included  gb_included  minutes_included  price_month  \\\n",
       "0       smart                 50           15               500          550   \n",
       "1       ultra               1000           30              3000         1950   \n",
       "\n",
       "   rub_per_gb  rub_per_message  rub_per_minute  \n",
       "0         200                3               3  \n",
       "1         150                1               1  "
      ]
     },
     "execution_count": 43,
     "metadata": {},
     "output_type": "execute_result"
    }
   ],
   "source": [
    "data_tariffs"
   ]
  },
  {
   "cell_type": "code",
   "execution_count": 44,
   "metadata": {},
   "outputs": [
    {
     "data": {
      "text/html": [
       "<div>\n",
       "<style scoped>\n",
       "    .dataframe tbody tr th:only-of-type {\n",
       "        vertical-align: middle;\n",
       "    }\n",
       "\n",
       "    .dataframe tbody tr th {\n",
       "        vertical-align: top;\n",
       "    }\n",
       "\n",
       "    .dataframe thead th {\n",
       "        text-align: right;\n",
       "    }\n",
       "</style>\n",
       "<table border=\"1\" class=\"dataframe\">\n",
       "  <thead>\n",
       "    <tr style=\"text-align: right;\">\n",
       "      <th></th>\n",
       "      <th>user_id</th>\n",
       "      <th>month</th>\n",
       "      <th>sum_minut</th>\n",
       "      <th>sum_message</th>\n",
       "      <th>sum_gb</th>\n",
       "      <th>price_month</th>\n",
       "    </tr>\n",
       "  </thead>\n",
       "  <tbody>\n",
       "    <tr>\n",
       "      <th>count</th>\n",
       "      <td>2229.000000</td>\n",
       "      <td>2229.000000</td>\n",
       "      <td>2229.000000</td>\n",
       "      <td>2229.000000</td>\n",
       "      <td>2229.000000</td>\n",
       "      <td>2229.000000</td>\n",
       "    </tr>\n",
       "    <tr>\n",
       "      <th>mean</th>\n",
       "      <td>1246.506505</td>\n",
       "      <td>8.346792</td>\n",
       "      <td>417.934948</td>\n",
       "      <td>33.384029</td>\n",
       "      <td>42.418125</td>\n",
       "      <td>6247.084343</td>\n",
       "    </tr>\n",
       "    <tr>\n",
       "      <th>std</th>\n",
       "      <td>146.119496</td>\n",
       "      <td>2.920316</td>\n",
       "      <td>190.313730</td>\n",
       "      <td>28.227876</td>\n",
       "      <td>14.943104</td>\n",
       "      <td>2893.717526</td>\n",
       "    </tr>\n",
       "    <tr>\n",
       "      <th>min</th>\n",
       "      <td>1001.000000</td>\n",
       "      <td>1.000000</td>\n",
       "      <td>0.000000</td>\n",
       "      <td>0.000000</td>\n",
       "      <td>0.000000</td>\n",
       "      <td>550.000000</td>\n",
       "    </tr>\n",
       "    <tr>\n",
       "      <th>25%</th>\n",
       "      <td>1121.000000</td>\n",
       "      <td>6.000000</td>\n",
       "      <td>282.000000</td>\n",
       "      <td>10.000000</td>\n",
       "      <td>34.000000</td>\n",
       "      <td>4503.000000</td>\n",
       "    </tr>\n",
       "    <tr>\n",
       "      <th>50%</th>\n",
       "      <td>1239.000000</td>\n",
       "      <td>9.000000</td>\n",
       "      <td>422.000000</td>\n",
       "      <td>28.000000</td>\n",
       "      <td>43.000000</td>\n",
       "      <td>6350.000000</td>\n",
       "    </tr>\n",
       "    <tr>\n",
       "      <th>75%</th>\n",
       "      <td>1376.000000</td>\n",
       "      <td>11.000000</td>\n",
       "      <td>545.000000</td>\n",
       "      <td>51.000000</td>\n",
       "      <td>52.000000</td>\n",
       "      <td>8065.000000</td>\n",
       "    </tr>\n",
       "    <tr>\n",
       "      <th>max</th>\n",
       "      <td>1499.000000</td>\n",
       "      <td>12.000000</td>\n",
       "      <td>1435.000000</td>\n",
       "      <td>143.000000</td>\n",
       "      <td>101.000000</td>\n",
       "      <td>19370.000000</td>\n",
       "    </tr>\n",
       "  </tbody>\n",
       "</table>\n",
       "</div>"
      ],
      "text/plain": [
       "           user_id        month    sum_minut  sum_message       sum_gb  \\\n",
       "count  2229.000000  2229.000000  2229.000000  2229.000000  2229.000000   \n",
       "mean   1246.506505     8.346792   417.934948    33.384029    42.418125   \n",
       "std     146.119496     2.920316   190.313730    28.227876    14.943104   \n",
       "min    1001.000000     1.000000     0.000000     0.000000     0.000000   \n",
       "25%    1121.000000     6.000000   282.000000    10.000000    34.000000   \n",
       "50%    1239.000000     9.000000   422.000000    28.000000    43.000000   \n",
       "75%    1376.000000    11.000000   545.000000    51.000000    52.000000   \n",
       "max    1499.000000    12.000000  1435.000000   143.000000   101.000000   \n",
       "\n",
       "        price_month  \n",
       "count   2229.000000  \n",
       "mean    6247.084343  \n",
       "std     2893.717526  \n",
       "min      550.000000  \n",
       "25%     4503.000000  \n",
       "50%     6350.000000  \n",
       "75%     8065.000000  \n",
       "max    19370.000000  "
      ]
     },
     "execution_count": 44,
     "metadata": {},
     "output_type": "execute_result"
    }
   ],
   "source": [
    "data_smart=data.query('tariff == \"smart\"')\n",
    "data_smart.describe()"
   ]
  },
  {
   "cell_type": "code",
   "execution_count": 45,
   "metadata": {},
   "outputs": [
    {
     "data": {
      "text/plain": [
       "2113"
      ]
     },
     "execution_count": 45,
     "metadata": {},
     "output_type": "execute_result"
    }
   ],
   "source": [
    "user_smart_15 = data_smart.query('sum_gb>15')['sum_gb'].count()\n",
    "user_smart_15"
   ]
  },
  {
   "cell_type": "markdown",
   "metadata": {},
   "source": [
    "2113 раз был превышен лимит 15 ГБ"
   ]
  },
  {
   "cell_type": "code",
   "execution_count": 46,
   "metadata": {},
   "outputs": [
    {
     "data": {
      "text/plain": [
       "0.9479587258860476"
      ]
     },
     "execution_count": 46,
     "metadata": {},
     "output_type": "execute_result"
    }
   ],
   "source": [
    "user_smart_15/2229"
   ]
  },
  {
   "cell_type": "markdown",
   "metadata": {},
   "source": [
    "в 95% наблюдений был превышен лимит 15 ГБ"
   ]
  },
  {
   "cell_type": "code",
   "execution_count": 47,
   "metadata": {},
   "outputs": [
    {
     "data": {
      "text/plain": [
       "1803"
      ]
     },
     "execution_count": 47,
     "metadata": {},
     "output_type": "execute_result"
    }
   ],
   "source": [
    "user_smart_30 = data_smart.query('sum_gb>30')['sum_gb'].count()\n",
    "user_smart_30"
   ]
  },
  {
   "cell_type": "markdown",
   "metadata": {},
   "source": [
    "1803 раз был превышен лимит 30 ГБ  "
   ]
  },
  {
   "cell_type": "code",
   "execution_count": 48,
   "metadata": {},
   "outputs": [
    {
     "data": {
      "text/plain": [
       "0.8088829071332436"
      ]
     },
     "execution_count": 48,
     "metadata": {},
     "output_type": "execute_result"
    }
   ],
   "source": [
    "user_smart_30/2229"
   ]
  },
  {
   "cell_type": "markdown",
   "metadata": {},
   "source": [
    "в 81% наблюдений был превышен лимит 30 ГБ"
   ]
  },
  {
   "cell_type": "markdown",
   "metadata": {},
   "source": [
    "В тариф СМАРТ входит 50 сообщений, 15 ГБ, 500 минут, абонент плата - 550 руб.      - 25% абонентов используют доп.сообщения, - Больше 75% абонентов используют дополнительный интернет, - Средний показатель ежемес.объема интернета почти в 3 раза превышает лимит. - Более 25% абонентов используют дополнительные минуты. - Средний ежемесячный чек в 11 раз превышает абонентскую плату. - 94% наблюдений - больше 15 ГБ, т.е. вышли за лимит - 81% - больше 30 ГБ, это необходимо для сравнения с поведением абонементов УЛЬТРА     "
   ]
  },
  {
   "cell_type": "markdown",
   "metadata": {},
   "source": [
    "# Анализ SMART минуты"
   ]
  },
  {
   "cell_type": "code",
   "execution_count": 49,
   "metadata": {},
   "outputs": [
    {
     "name": "stdout",
     "output_type": "stream",
     "text": [
      "Дисперсия -  36219.31578434428\n",
      "Отклонение -  190.31372988921288\n",
      "Среднее -  417.9349484073576\n"
     ]
    }
   ],
   "source": [
    "variance = np.var(data_smart['sum_minut'], ddof=1)\n",
    "print('Дисперсия - ', variance)\n",
    "print('Отклонение - ', np.sqrt(variance))\n",
    "print('Среднее - ', data_smart['sum_minut'].mean())"
   ]
  },
  {
   "cell_type": "code",
   "execution_count": 50,
   "metadata": {},
   "outputs": [
    {
     "name": "stderr",
     "output_type": "stream",
     "text": [
      "/opt/conda/lib/python3.9/site-packages/seaborn/distributions.py:2557: FutureWarning: `distplot` is a deprecated function and will be removed in a future version. Please adapt your code to use either `displot` (a figure-level function with similar flexibility) or `histplot` (an axes-level function for histograms).\n",
      "  warnings.warn(msg, FutureWarning)\n"
     ]
    },
    {
     "data": {
      "image/png": "[encoded data removed]",
      "text/plain": [
       "<Figure size 432x288 with 1 Axes>"
      ]
     },
     "metadata": {
      "needs_background": "light"
     },
     "output_type": "display_data"
    }
   ],
   "source": [
    "sns.distplot(data_smart['sum_minut'], hist=True, \n",
    "             bins=20, color = 'blue',\n",
    "             hist_kws={'edgecolor':'black'}).set_title('Анализ минут СМАРТ')\n",
    "\n",
    "plt.xlabel(\"Кол-во минут в месяц\") # подпись к оси X\n",
    "plt.ylabel(\"Частота\"); # подпись к оси Y"
   ]
  },
  {
   "cell_type": "markdown",
   "metadata": {},
   "source": [
    "Распределение нормальное - Среднее кол-во минут стремится к ежемесячному лимиту и при этом среднее отклонение составляет 35% от лимита - Абоненты не укладываются в лимит, и оплачивают доп.минуты."
   ]
  },
  {
   "cell_type": "code",
   "execution_count": 51,
   "metadata": {},
   "outputs": [
    {
     "name": "stdout",
     "output_type": "stream",
     "text": [
      "92739\n"
     ]
    },
    {
     "data": {
      "text/plain": [
       "1.9980034113356855"
      ]
     },
     "execution_count": 51,
     "metadata": {},
     "output_type": "execute_result"
    }
   ],
   "source": [
    "# Посчитаем % отношение выручки от доп.минут к общей выручке\n",
    "min_smart=data_smart.query('sum_minut > 500')['sum_minut'].sum() - data_smart.query('sum_minut > 500')['sum_minut'].count() * 500\n",
    "print(min_smart) #кол-во дополнительных минут\n",
    "((min_smart*3)/data_smart['price_month'].sum())*100"
   ]
  },
  {
   "cell_type": "markdown",
   "metadata": {},
   "source": [
    "Выручка от доп.минут составляет 2% ко всей выручке по тарифу "
   ]
  },
  {
   "cell_type": "code",
   "execution_count": 52,
   "metadata": {},
   "outputs": [
    {
     "name": "stdout",
     "output_type": "stream",
     "text": [
      "92739\n"
     ]
    },
    {
     "data": {
      "text/plain": [
       "0.2269399241404625"
      ]
     },
     "execution_count": 52,
     "metadata": {},
     "output_type": "execute_result"
    }
   ],
   "source": [
    "# Посчитаем % отношение выручки от доп.минут к выручке по абон.плате (2229 абонетов по 550 руб.)\n",
    "min_smart=data_smart.query('sum_minut > 500')['sum_minut'].sum() - data_smart.query('sum_minut > 500')['sum_minut'].count() * 500\n",
    "print(min_smart) #кол-во дополнительных минут\n",
    "(min_smart*3)/(2229*550)"
   ]
  },
  {
   "cell_type": "markdown",
   "metadata": {},
   "source": [
    "Выручка от доп.минут составляет 22,3% к абоненской плате"
   ]
  },
  {
   "cell_type": "markdown",
   "metadata": {},
   "source": [
    "# Анализ SMART сообщения"
   ]
  },
  {
   "cell_type": "code",
   "execution_count": 53,
   "metadata": {},
   "outputs": [
    {
     "name": "stdout",
     "output_type": "stream",
     "text": [
      "Дисперсия -  796.8129584480083\n",
      "Отклонение -  28.22787555676141\n",
      "Среднее -  33.384028712427096\n"
     ]
    }
   ],
   "source": [
    "variance = np.var(data_smart['sum_message'], ddof=1)\n",
    "print('Дисперсия - ', variance)\n",
    "print('Отклонение - ', np.sqrt(variance))\n",
    "print('Среднее - ', data_smart['sum_message'].mean())"
   ]
  },
  {
   "cell_type": "code",
   "execution_count": 54,
   "metadata": {},
   "outputs": [
    {
     "name": "stderr",
     "output_type": "stream",
     "text": [
      "/opt/conda/lib/python3.9/site-packages/seaborn/distributions.py:2557: FutureWarning: `distplot` is a deprecated function and will be removed in a future version. Please adapt your code to use either `displot` (a figure-level function with similar flexibility) or `histplot` (an axes-level function for histograms).\n",
      "  warnings.warn(msg, FutureWarning)\n"
     ]
    },
    {
     "data": {
      "image/png": "[encoded data removed]",
      "text/plain": [
       "<Figure size 432x288 with 1 Axes>"
      ]
     },
     "metadata": {
      "needs_background": "light"
     },
     "output_type": "display_data"
    }
   ],
   "source": [
    "sns.distplot(data_smart['sum_message'], hist=True, \n",
    "             bins=20, color = 'blue',\n",
    "             hist_kws={'edgecolor':'black'}).set_title('Анализ сообщений СМАРТ')\n",
    "\n",
    "plt.xlabel(\"Кол-во сообщений в месяц\") # подпись к оси X\n",
    "plt.ylabel(\"Частота\"); # подпись к оси Y"
   ]
  },
  {
   "cell_type": "markdown",
   "metadata": {},
   "source": [
    "Распределение скошено влево - 25% от всех месяцев использовали менее 10 сообщений, при наличии интернета сообщения становятся менее востребованными. - 75% - укладывались в лимит 50 сообщений - и только 25% пользовались доп.сообщениями. - Среднее немного больше среднего по лимиту (т.е. 25 сообщений из 50) - И с учетом отклонения 28, большая часть наблюдений укладывается в лимит.   "
   ]
  },
  {
   "cell_type": "code",
   "execution_count": 55,
   "metadata": {},
   "outputs": [
    {
     "name": "stdout",
     "output_type": "stream",
     "text": [
      "12928\n"
     ]
    },
    {
     "data": {
      "text/plain": [
       "0.03163587421999266"
      ]
     },
     "execution_count": 55,
     "metadata": {},
     "output_type": "execute_result"
    }
   ],
   "source": [
    "mess_smart=data_smart.query('sum_message > 50')['sum_message'].sum() - data_smart.query('sum_message > 50')['sum_message'].count() * 50\n",
    "print(mess_smart) #кол-во дополнительных сообщений\n",
    "(mess_smart*3)/(2229*550)"
   ]
  },
  {
   "cell_type": "markdown",
   "metadata": {},
   "source": [
    "Выручка от доп.сообщений составляет 3% к абонентской плате"
   ]
  },
  {
   "cell_type": "code",
   "execution_count": 56,
   "metadata": {},
   "outputs": [
    {
     "name": "stdout",
     "output_type": "stream",
     "text": [
      "12928\n"
     ]
    },
    {
     "data": {
      "text/plain": [
       "0.27852562677781456"
      ]
     },
     "execution_count": 56,
     "metadata": {},
     "output_type": "execute_result"
    }
   ],
   "source": [
    "mess_smart=data_smart.query('sum_message > 50')['sum_message'].sum() - data_smart.query('sum_message > 50')['sum_message'].count() * 50\n",
    "print(mess_smart) #кол-во дополнительных сообщений\n",
    "((mess_smart*3)/data_smart['price_month'].sum())*100"
   ]
  },
  {
   "cell_type": "markdown",
   "metadata": {},
   "source": [
    "Выручка от доп.сообщений составляет 0,3% ко всей выручке по тарифу"
   ]
  },
  {
   "cell_type": "markdown",
   "metadata": {},
   "source": [
    "# Анализ SMART интернет"
   ]
  },
  {
   "cell_type": "code",
   "execution_count": 57,
   "metadata": {},
   "outputs": [
    {
     "name": "stdout",
     "output_type": "stream",
     "text": [
      "Дисперсия -  223.2963679359641\n",
      "Отклонение -  14.943104360739909\n",
      "Среднее -  42.4181247196052\n"
     ]
    }
   ],
   "source": [
    "variance = np.var(data_smart['sum_gb'], ddof=1)\n",
    "print('Дисперсия - ', variance)\n",
    "print('Отклонение - ', np.sqrt(variance))\n",
    "print('Среднее - ', data_smart['sum_gb'].mean())"
   ]
  },
  {
   "cell_type": "code",
   "execution_count": 58,
   "metadata": {},
   "outputs": [
    {
     "name": "stderr",
     "output_type": "stream",
     "text": [
      "/opt/conda/lib/python3.9/site-packages/seaborn/distributions.py:2557: FutureWarning: `distplot` is a deprecated function and will be removed in a future version. Please adapt your code to use either `displot` (a figure-level function with similar flexibility) or `histplot` (an axes-level function for histograms).\n",
      "  warnings.warn(msg, FutureWarning)\n"
     ]
    },
    {
     "data": {
      "image/png": "[encoded data removed]",
      "text/plain": [
       "<Figure size 432x288 with 1 Axes>"
      ]
     },
     "metadata": {
      "needs_background": "light"
     },
     "output_type": "display_data"
    }
   ],
   "source": [
    "sns.distplot(data_smart['sum_gb'], hist=True, \n",
    "             bins=20, color = 'blue',\n",
    "             hist_kws={'edgecolor':'black'}).set_title('Анализ интернета СМАРТ')\n",
    "\n",
    "plt.xlabel(\"Кол-во ГБ в месяц\") # подпись к оси X\n",
    "plt.ylabel(\"Частота\"); # подпись к оси Y"
   ]
  },
  {
   "cell_type": "markdown",
   "metadata": {},
   "source": [
    "Распределение нормальное - 15 гб входящих в лимит ниже среднего, менее 25% наблюдений укладываются в лимит, это очень выгодная ситуация для сотового оператора. - Чем ниже среднего лимит, тем больше прибыли."
   ]
  },
  {
   "cell_type": "code",
   "execution_count": 59,
   "metadata": {},
   "outputs": [
    {
     "name": "stdout",
     "output_type": "stream",
     "text": [
      "61909\n"
     ]
    },
    {
     "data": {
      "text/plain": [
       "88.91936380047298"
      ]
     },
     "execution_count": 59,
     "metadata": {},
     "output_type": "execute_result"
    }
   ],
   "source": [
    "gb_smart=data_smart.query('sum_gb > 15')['sum_gb'].sum() - data_smart.query('sum_gb > 15')['sum_gb'].count() * 15\n",
    "print(gb_smart) #кол-во дополнительных gb\n",
    "((gb_smart*200)/data_smart['price_month'].sum())*100"
   ]
  },
  {
   "cell_type": "markdown",
   "metadata": {},
   "source": [
    "Выручка от доп.gb интернета составляет 89% ко всей выручке по тарифу."
   ]
  },
  {
   "cell_type": "code",
   "execution_count": 60,
   "metadata": {},
   "outputs": [
    {
     "name": "stdout",
     "output_type": "stream",
     "text": [
      "61909\n"
     ]
    },
    {
     "data": {
      "text/plain": [
       "10.09975937028427"
      ]
     },
     "execution_count": 60,
     "metadata": {},
     "output_type": "execute_result"
    }
   ],
   "source": [
    "gb_smart=data_smart.query('sum_gb > 15')['sum_gb'].sum() - data_smart.query('sum_gb > 15')['sum_gb'].count() * 15\n",
    "print(gb_smart) #кол-во дополнительных gb\n",
    "(gb_smart*200)/(2229*550)"
   ]
  },
  {
   "cell_type": "markdown",
   "metadata": {},
   "source": [
    "Выручка от доп.gb интернета в 10 раз!!! больше выручки от тарифа по лимиту (2229 мес* 550 руб/мес)"
   ]
  },
  {
   "cell_type": "code",
   "execution_count": null,
   "metadata": {},
   "outputs": [
    {
     "data": {
      "text/html": [
       "<div>\n",
       "<style scoped>\n",
       "    .dataframe tbody tr th:only-of-type {\n",
       "        vertical-align: middle;\n",
       "    }\n",
       "\n",
       "    .dataframe tbody tr th {\n",
       "        vertical-align: top;\n",
       "    }\n",
       "\n",
       "    .dataframe thead tr th {\n",
       "        text-align: left;\n",
       "    }\n",
       "\n",
       "    .dataframe thead tr:last-of-type th {\n",
       "        text-align: right;\n",
       "    }\n",
       "</style>\n",
       "<table border=\"1\" class=\"dataframe\">\n",
       "  <thead>\n",
       "    <tr>\n",
       "      <th></th>\n",
       "      <th colspan=\"3\" halign=\"left\">var</th>\n",
       "      <th colspan=\"3\" halign=\"left\">std</th>\n",
       "      <th colspan=\"3\" halign=\"left\">mean</th>\n",
       "    </tr>\n",
       "    <tr>\n",
       "      <th></th>\n",
       "      <th>sum_gb</th>\n",
       "      <th>sum_message</th>\n",
       "      <th>sum_minut</th>\n",
       "      <th>sum_gb</th>\n",
       "      <th>sum_message</th>\n",
       "      <th>sum_minut</th>\n",
       "      <th>sum_gb</th>\n",
       "      <th>sum_message</th>\n",
       "      <th>sum_minut</th>\n",
       "    </tr>\n",
       "    <tr>\n",
       "      <th>tariff</th>\n",
       "      <th></th>\n",
       "      <th></th>\n",
       "      <th></th>\n",
       "      <th></th>\n",
       "      <th></th>\n",
       "      <th></th>\n",
       "      <th></th>\n",
       "      <th></th>\n",
       "      <th></th>\n",
       "    </tr>\n",
       "  </thead>\n",
       "  <tbody>\n",
       "    <tr>\n",
       "      <th>smart</th>\n",
       "      <td>223.296368</td>\n",
       "      <td>796.812958</td>\n",
       "      <td>36219.315784</td>\n",
       "      <td>14.943104</td>\n",
       "      <td>28.227876</td>\n",
       "      <td>190.313730</td>\n",
       "      <td>42.418125</td>\n",
       "      <td>33.384029</td>\n",
       "      <td>417.934948</td>\n",
       "    </tr>\n",
       "    <tr>\n",
       "      <th>ultra</th>\n",
       "      <td>382.775769</td>\n",
       "      <td>2285.266143</td>\n",
       "      <td>100873.633397</td>\n",
       "      <td>19.564656</td>\n",
       "      <td>47.804457</td>\n",
       "      <td>317.606098</td>\n",
       "      <td>38.164467</td>\n",
       "      <td>49.363452</td>\n",
       "      <td>526.623350</td>\n",
       "    </tr>\n",
       "  </tbody>\n",
       "</table>\n",
       "</div>"
      ],
      "text/plain": [
       "               var                                    std              \\\n",
       "            sum_gb  sum_message      sum_minut     sum_gb sum_message   \n",
       "tariff                                                                  \n",
       "smart   223.296368   796.812958   36219.315784  14.943104   28.227876   \n",
       "ultra   382.775769  2285.266143  100873.633397  19.564656   47.804457   \n",
       "\n",
       "                         mean                          \n",
       "         sum_minut     sum_gb sum_message   sum_minut  \n",
       "tariff                                                 \n",
       "smart   190.313730  42.418125   33.384029  417.934948  \n",
       "ultra   317.606098  38.164467   49.363452  526.623350  "
      ]
     },
     "execution_count": 61,
     "metadata": {},
     "output_type": "execute_result"
    }
   ],
   "source": [
    "# код ревьюера\n",
    "data.pivot_table(index = 'tariff', values = ['sum_minut', 'sum_gb', 'sum_message'],\n",
    "                            aggfunc = ['var', 'std', 'mean'])"
   ]
  },
  {
   "cell_type": "markdown",
   "metadata": {},
   "source": [
    "# Проверка гипотез"
   ]
  },
  {
   "cell_type": "markdown",
   "metadata": {},
   "source": [
    "## Средняя выручка Ультра и Смарт"
   ]
  },
  {
   "cell_type": "markdown",
   "metadata": {},
   "source": [
    "Средняя выручка по тарифам Ультра и Смарт равны 3844 руб. и 6247 руб. - Предположим что это могло произойти случайно. - Пусть нулевая гипотеза звучит так - средние выручки равны - Альтернативная - не равны "
   ]
  },
  {
   "cell_type": "code",
   "execution_count": 62,
   "metadata": {},
   "outputs": [
    {
     "name": "stdout",
     "output_type": "stream",
     "text": [
      "p-значение: 3.366123216919074e-132\n",
      "Отвергаем нулевую гипотезу\n"
     ]
    }
   ],
   "source": [
    "alpha = 0.05\n",
    "\n",
    "results = st.ttest_ind(data_ultra['price_month'], data_smart['price_month'], equal_var = False)\n",
    "\n",
    "print('p-значение:', results.pvalue)\n",
    "\n",
    "if results.pvalue < alpha:\n",
    "    print('Отвергаем нулевую гипотезу')\n",
    "else:\n",
    "    print('Не получилось отвергнуть нулевую гипотезу') "
   ]
  },
  {
   "cell_type": "markdown",
   "metadata": {},
   "source": [
    "p-значение очень маленькое - 3 деленное на 10 в 132 степени - Очень маленькая вероятность того что средние выручки равны."
   ]
  },
  {
   "cell_type": "markdown",
   "metadata": {},
   "source": [
    "## Средняя выручка Москва и другие города"
   ]
  },
  {
   "cell_type": "code",
   "execution_count": 63,
   "metadata": {},
   "outputs": [
    {
     "data": {
      "text/html": [
       "<div>\n",
       "<style scoped>\n",
       "    .dataframe tbody tr th:only-of-type {\n",
       "        vertical-align: middle;\n",
       "    }\n",
       "\n",
       "    .dataframe tbody tr th {\n",
       "        vertical-align: top;\n",
       "    }\n",
       "\n",
       "    .dataframe thead th {\n",
       "        text-align: right;\n",
       "    }\n",
       "</style>\n",
       "<table border=\"1\" class=\"dataframe\">\n",
       "  <thead>\n",
       "    <tr style=\"text-align: right;\">\n",
       "      <th></th>\n",
       "      <th>user_id</th>\n",
       "      <th>month</th>\n",
       "      <th>sum_minut</th>\n",
       "      <th>sum_message</th>\n",
       "      <th>sum_gb</th>\n",
       "      <th>tariff</th>\n",
       "      <th>city</th>\n",
       "      <th>price_month</th>\n",
       "    </tr>\n",
       "  </thead>\n",
       "  <tbody>\n",
       "    <tr>\n",
       "      <th>0</th>\n",
       "      <td>1000</td>\n",
       "      <td>5</td>\n",
       "      <td>159</td>\n",
       "      <td>22</td>\n",
       "      <td>4</td>\n",
       "      <td>ultra</td>\n",
       "      <td>Краснодар</td>\n",
       "      <td>1950</td>\n",
       "    </tr>\n",
       "    <tr>\n",
       "      <th>1</th>\n",
       "      <td>1000</td>\n",
       "      <td>6</td>\n",
       "      <td>172</td>\n",
       "      <td>60</td>\n",
       "      <td>49</td>\n",
       "      <td>ultra</td>\n",
       "      <td>Краснодар</td>\n",
       "      <td>4800</td>\n",
       "    </tr>\n",
       "    <tr>\n",
       "      <th>2</th>\n",
       "      <td>1000</td>\n",
       "      <td>7</td>\n",
       "      <td>340</td>\n",
       "      <td>75</td>\n",
       "      <td>28</td>\n",
       "      <td>ultra</td>\n",
       "      <td>Краснодар</td>\n",
       "      <td>1950</td>\n",
       "    </tr>\n",
       "    <tr>\n",
       "      <th>3</th>\n",
       "      <td>1000</td>\n",
       "      <td>8</td>\n",
       "      <td>408</td>\n",
       "      <td>81</td>\n",
       "      <td>27</td>\n",
       "      <td>ultra</td>\n",
       "      <td>Краснодар</td>\n",
       "      <td>1950</td>\n",
       "    </tr>\n",
       "    <tr>\n",
       "      <th>4</th>\n",
       "      <td>1000</td>\n",
       "      <td>9</td>\n",
       "      <td>466</td>\n",
       "      <td>57</td>\n",
       "      <td>26</td>\n",
       "      <td>ultra</td>\n",
       "      <td>Краснодар</td>\n",
       "      <td>1950</td>\n",
       "    </tr>\n",
       "  </tbody>\n",
       "</table>\n",
       "</div>"
      ],
      "text/plain": [
       "   user_id  month  sum_minut  sum_message  sum_gb tariff       city  \\\n",
       "0     1000      5        159           22       4  ultra  Краснодар   \n",
       "1     1000      6        172           60      49  ultra  Краснодар   \n",
       "2     1000      7        340           75      28  ultra  Краснодар   \n",
       "3     1000      8        408           81      27  ultra  Краснодар   \n",
       "4     1000      9        466           57      26  ultra  Краснодар   \n",
       "\n",
       "   price_month  \n",
       "0         1950  \n",
       "1         4800  \n",
       "2         1950  \n",
       "3         1950  \n",
       "4         1950  "
      ]
     },
     "execution_count": 63,
     "metadata": {},
     "output_type": "execute_result"
    }
   ],
   "source": [
    "data.head() #посмотрим какой столбец овечает за город"
   ]
  },
  {
   "cell_type": "code",
   "execution_count": 64,
   "metadata": {},
   "outputs": [
    {
     "name": "stdout",
     "output_type": "stream",
     "text": [
      "Уникальные значения в столбце city\n",
      "Москва             611\n",
      "Санкт-Петербург    270\n",
      "Новосибирск         98\n",
      "Уфа                 95\n",
      "Краснодар           86\n",
      "                  ... \n",
      "Нижневартовск        6\n",
      "Сургут               6\n",
      "Химки                5\n",
      "Кемерово             5\n",
      "Иваново              2\n",
      "Name: city, Length: 76, dtype: int64\n"
     ]
    }
   ],
   "source": [
    "print('Уникальные значения в столбце city')\n",
    "print(data['city'].value_counts())"
   ]
  },
  {
   "cell_type": "markdown",
   "metadata": {},
   "source": [
    "Средняя выручка по Москве и др.городам равны 5397 руб. и 5537 руб. - Средние выручки и действительно равны, есть небольшое различие - Пусть нулевая гипотеза звучит так - средние выручки равны - Альтернативная - не равны."
   ]
  },
  {
   "cell_type": "code",
   "execution_count": 65,
   "metadata": {},
   "outputs": [
    {
     "data": {
      "text/html": [
       "<div>\n",
       "<style scoped>\n",
       "    .dataframe tbody tr th:only-of-type {\n",
       "        vertical-align: middle;\n",
       "    }\n",
       "\n",
       "    .dataframe tbody tr th {\n",
       "        vertical-align: top;\n",
       "    }\n",
       "\n",
       "    .dataframe thead th {\n",
       "        text-align: right;\n",
       "    }\n",
       "</style>\n",
       "<table border=\"1\" class=\"dataframe\">\n",
       "  <thead>\n",
       "    <tr style=\"text-align: right;\">\n",
       "      <th></th>\n",
       "      <th>user_id</th>\n",
       "      <th>month</th>\n",
       "      <th>sum_minut</th>\n",
       "      <th>sum_message</th>\n",
       "      <th>sum_gb</th>\n",
       "      <th>price_month</th>\n",
       "    </tr>\n",
       "  </thead>\n",
       "  <tbody>\n",
       "    <tr>\n",
       "      <th>count</th>\n",
       "      <td>611.000000</td>\n",
       "      <td>611.000000</td>\n",
       "      <td>611.000000</td>\n",
       "      <td>611.000000</td>\n",
       "      <td>611.000000</td>\n",
       "      <td>611.000000</td>\n",
       "    </tr>\n",
       "    <tr>\n",
       "      <th>mean</th>\n",
       "      <td>1268.872340</td>\n",
       "      <td>8.432079</td>\n",
       "      <td>469.150573</td>\n",
       "      <td>37.877250</td>\n",
       "      <td>41.623568</td>\n",
       "      <td>5397.040917</td>\n",
       "    </tr>\n",
       "    <tr>\n",
       "      <th>std</th>\n",
       "      <td>137.530432</td>\n",
       "      <td>2.888057</td>\n",
       "      <td>241.535044</td>\n",
       "      <td>37.160304</td>\n",
       "      <td>16.111874</td>\n",
       "      <td>2683.243539</td>\n",
       "    </tr>\n",
       "    <tr>\n",
       "      <th>min</th>\n",
       "      <td>1001.000000</td>\n",
       "      <td>1.000000</td>\n",
       "      <td>0.000000</td>\n",
       "      <td>0.000000</td>\n",
       "      <td>1.000000</td>\n",
       "      <td>550.000000</td>\n",
       "    </tr>\n",
       "    <tr>\n",
       "      <th>25%</th>\n",
       "      <td>1171.000000</td>\n",
       "      <td>6.000000</td>\n",
       "      <td>304.000000</td>\n",
       "      <td>6.500000</td>\n",
       "      <td>31.000000</td>\n",
       "      <td>3300.000000</td>\n",
       "    </tr>\n",
       "    <tr>\n",
       "      <th>50%</th>\n",
       "      <td>1291.000000</td>\n",
       "      <td>9.000000</td>\n",
       "      <td>453.000000</td>\n",
       "      <td>29.000000</td>\n",
       "      <td>43.000000</td>\n",
       "      <td>5350.000000</td>\n",
       "    </tr>\n",
       "    <tr>\n",
       "      <th>75%</th>\n",
       "      <td>1385.000000</td>\n",
       "      <td>11.000000</td>\n",
       "      <td>620.500000</td>\n",
       "      <td>57.000000</td>\n",
       "      <td>52.500000</td>\n",
       "      <td>7185.500000</td>\n",
       "    </tr>\n",
       "    <tr>\n",
       "      <th>max</th>\n",
       "      <td>1490.000000</td>\n",
       "      <td>12.000000</td>\n",
       "      <td>1321.000000</td>\n",
       "      <td>191.000000</td>\n",
       "      <td>94.000000</td>\n",
       "      <td>17121.000000</td>\n",
       "    </tr>\n",
       "  </tbody>\n",
       "</table>\n",
       "</div>"
      ],
      "text/plain": [
       "           user_id       month    sum_minut  sum_message      sum_gb  \\\n",
       "count   611.000000  611.000000   611.000000   611.000000  611.000000   \n",
       "mean   1268.872340    8.432079   469.150573    37.877250   41.623568   \n",
       "std     137.530432    2.888057   241.535044    37.160304   16.111874   \n",
       "min    1001.000000    1.000000     0.000000     0.000000    1.000000   \n",
       "25%    1171.000000    6.000000   304.000000     6.500000   31.000000   \n",
       "50%    1291.000000    9.000000   453.000000    29.000000   43.000000   \n",
       "75%    1385.000000   11.000000   620.500000    57.000000   52.500000   \n",
       "max    1490.000000   12.000000  1321.000000   191.000000   94.000000   \n",
       "\n",
       "        price_month  \n",
       "count    611.000000  \n",
       "mean    5397.040917  \n",
       "std     2683.243539  \n",
       "min      550.000000  \n",
       "25%     3300.000000  \n",
       "50%     5350.000000  \n",
       "75%     7185.500000  \n",
       "max    17121.000000  "
      ]
     },
     "execution_count": 65,
     "metadata": {},
     "output_type": "execute_result"
    }
   ],
   "source": [
    "data_msk=data.query('city == \"Москва\"')\n",
    "data_msk.describe()"
   ]
  },
  {
   "cell_type": "code",
   "execution_count": 66,
   "metadata": {},
   "outputs": [
    {
     "data": {
      "text/html": [
       "<div>\n",
       "<style scoped>\n",
       "    .dataframe tbody tr th:only-of-type {\n",
       "        vertical-align: middle;\n",
       "    }\n",
       "\n",
       "    .dataframe tbody tr th {\n",
       "        vertical-align: top;\n",
       "    }\n",
       "\n",
       "    .dataframe thead th {\n",
       "        text-align: right;\n",
       "    }\n",
       "</style>\n",
       "<table border=\"1\" class=\"dataframe\">\n",
       "  <thead>\n",
       "    <tr style=\"text-align: right;\">\n",
       "      <th></th>\n",
       "      <th>user_id</th>\n",
       "      <th>month</th>\n",
       "      <th>sum_minut</th>\n",
       "      <th>sum_message</th>\n",
       "      <th>sum_gb</th>\n",
       "      <th>price_month</th>\n",
       "    </tr>\n",
       "  </thead>\n",
       "  <tbody>\n",
       "    <tr>\n",
       "      <th>count</th>\n",
       "      <td>2603.000000</td>\n",
       "      <td>2603.000000</td>\n",
       "      <td>2603.000000</td>\n",
       "      <td>2603.000000</td>\n",
       "      <td>2603.000000</td>\n",
       "      <td>2603.000000</td>\n",
       "    </tr>\n",
       "    <tr>\n",
       "      <th>mean</th>\n",
       "      <td>1247.533615</td>\n",
       "      <td>8.290434</td>\n",
       "      <td>447.041875</td>\n",
       "      <td>38.376104</td>\n",
       "      <td>40.995006</td>\n",
       "      <td>5537.421821</td>\n",
       "    </tr>\n",
       "    <tr>\n",
       "      <th>std</th>\n",
       "      <td>146.011387</td>\n",
       "      <td>2.909368</td>\n",
       "      <td>241.852152</td>\n",
       "      <td>35.913289</td>\n",
       "      <td>16.726412</td>\n",
       "      <td>2961.149677</td>\n",
       "    </tr>\n",
       "    <tr>\n",
       "      <th>min</th>\n",
       "      <td>1000.000000</td>\n",
       "      <td>1.000000</td>\n",
       "      <td>0.000000</td>\n",
       "      <td>0.000000</td>\n",
       "      <td>0.000000</td>\n",
       "      <td>550.000000</td>\n",
       "    </tr>\n",
       "    <tr>\n",
       "      <th>25%</th>\n",
       "      <td>1120.000000</td>\n",
       "      <td>6.000000</td>\n",
       "      <td>280.500000</td>\n",
       "      <td>9.500000</td>\n",
       "      <td>31.000000</td>\n",
       "      <td>2950.000000</td>\n",
       "    </tr>\n",
       "    <tr>\n",
       "      <th>50%</th>\n",
       "      <td>1241.000000</td>\n",
       "      <td>9.000000</td>\n",
       "      <td>440.000000</td>\n",
       "      <td>30.000000</td>\n",
       "      <td>42.000000</td>\n",
       "      <td>5550.000000</td>\n",
       "    </tr>\n",
       "    <tr>\n",
       "      <th>75%</th>\n",
       "      <td>1377.000000</td>\n",
       "      <td>11.000000</td>\n",
       "      <td>584.000000</td>\n",
       "      <td>57.000000</td>\n",
       "      <td>51.000000</td>\n",
       "      <td>7558.500000</td>\n",
       "    </tr>\n",
       "    <tr>\n",
       "      <th>max</th>\n",
       "      <td>1499.000000</td>\n",
       "      <td>12.000000</td>\n",
       "      <td>1673.000000</td>\n",
       "      <td>224.000000</td>\n",
       "      <td>101.000000</td>\n",
       "      <td>19370.000000</td>\n",
       "    </tr>\n",
       "  </tbody>\n",
       "</table>\n",
       "</div>"
      ],
      "text/plain": [
       "           user_id        month    sum_minut  sum_message       sum_gb  \\\n",
       "count  2603.000000  2603.000000  2603.000000  2603.000000  2603.000000   \n",
       "mean   1247.533615     8.290434   447.041875    38.376104    40.995006   \n",
       "std     146.011387     2.909368   241.852152    35.913289    16.726412   \n",
       "min    1000.000000     1.000000     0.000000     0.000000     0.000000   \n",
       "25%    1120.000000     6.000000   280.500000     9.500000    31.000000   \n",
       "50%    1241.000000     9.000000   440.000000    30.000000    42.000000   \n",
       "75%    1377.000000    11.000000   584.000000    57.000000    51.000000   \n",
       "max    1499.000000    12.000000  1673.000000   224.000000   101.000000   \n",
       "\n",
       "        price_month  \n",
       "count   2603.000000  \n",
       "mean    5537.421821  \n",
       "std     2961.149677  \n",
       "min      550.000000  \n",
       "25%     2950.000000  \n",
       "50%     5550.000000  \n",
       "75%     7558.500000  \n",
       "max    19370.000000  "
      ]
     },
     "execution_count": 66,
     "metadata": {},
     "output_type": "execute_result"
    }
   ],
   "source": [
    "data_no_msk=data.query('city != \"Москва\"')\n",
    "data_no_msk.describe()"
   ]
  },
  {
   "cell_type": "code",
   "execution_count": 67,
   "metadata": {},
   "outputs": [
    {
     "name": "stdout",
     "output_type": "stream",
     "text": [
      "p-значение: 0.28336464606572015\n",
      "Не получилось отвергнуть нулевую гипотезу\n"
     ]
    }
   ],
   "source": [
    "alpha = 0.05\n",
    "\n",
    "results = st.ttest_ind(data_msk['price_month'], data_no_msk['price_month'])\n",
    "\n",
    "print('p-значение:', results.pvalue)\n",
    "\n",
    "if results.pvalue < alpha:\n",
    "    print('Отвергаем нулевую гипотезу')\n",
    "else:\n",
    "    print('Не получилось отвергнуть нулевую гипотезу')"
   ]
  },
  {
   "cell_type": "markdown",
   "metadata": {},
   "source": [
    "С вероятностью 28 % небольшое различие можно получить случайно."
   ]
  },
  {
   "cell_type": "markdown",
   "metadata": {},
   "source": [
    "# Общий вывод"
   ]
  },
  {
   "cell_type": "markdown",
   "metadata": {},
   "source": [
    "1.Данные со звонками, сообщениями и интернетом, пользователями не содержали пропущенных значений, дубликатов не было. В таблице звонков была продолжительность 0.0 минут, это неотвеченные звонки , не имеет смысла их убирать, т.к. для анализа суммируем сумму минут за месяц. 2. Было проанализировано два тарифа Смарт и Ультра. - В СМАРТ входит 50 сообщений, 500 минут, 15 ГБ, абон.плата – 550 руб. - В УЛЬТРА входит 1000 сообщений, 3000 минут, 30 ГБ, абон.плата – 1950 руб. **Анализ тарифов сотового оператора** 1. Абоненты в обоих тарифах используют интернет значительно больше лимита. - В Ультра в среднем – 38 ГБ, максимально – 98 ГБ. - 63% из всех месяцев у абонентов УЛЬТРА был превышен лимит ГБ, т.е. было более 30 ГБ - В Смарте в среднем – 42 ГБ, максимально – 101 ГБ. - 94% из всех месяцев у абонентов СМАРТ - больше 15 ГБ, т.е. вышли за лимит - 81% из всех месяцев абоненты СМАРТ использовали более 30 ГБ. 2. Т.е. в лимиты обоих тарифов входит существенная разница по минутам и сообщениям, а интернет отличатся на 15ГБ. Фактически абоненты обоих тарифов тратят похожее кол-во минут, сообщений абоненты Ультра тратят в среднем немного больше. А интернет абоненты Смарта тратят больше и при этом он для них по более дорогой цене. Более 81% месяцев по тарифу Смарт превышают лимит ГБ в два раза, т.е. за дополнительные 15 ГБ платят 3000. А это значит, что эти 81% - как минимум приносят оператору 3550 рублей при тех же условиях что и тариф УЛЬТРА. Т.е. вместо 1950 получается 3550. А если еще рассмотреть превышение 30 ГБ, то для сотового оператора абоненты Смарта становятся еще более выгодными, ведь они платят по 200 руб. за ГБ, а Ультра 150 руб. за ГБ. 3. Доп.минуты от абонентов Смарт также приносят прибыль сотовому оператору, а именно 22% от выручке по абон.плате. Получается что тариф, который дешевле почти в 4 раза выручки приносит больше, - средняя выручка от абонента в месяц: - УЛЬТРА – 3844 руб. - СМАРТ – 6247 руб. 3. **Анализ тарифов и проверка гипотез показывает**, что различие это не случайное, а закономерное. Поведение пользователей двух тарифов мало отличается , а расценки разные, отсюда и разность в выручке. Средняя выручка по Москве и другим регионам практически не отличается. **Рекомендации** 1. Тариф Смарт приносит больше денег, а значит и корректировать рекламный бюджет надо в его пользу. 2. Сотовому оператору выгоднее подключать абонентов к тарифу Смарт, а так как бОльшую долю выручки приносит доп.интернет, можно уменьшить абон.плату или добавить в этот тариф минуты и сообщения, для привлечения клиентов."
   ]
  }
 ],
 "metadata": {
  "ExecuteTimeLog": [
   {
    "duration": 1228,
    "start_time": "2022-03-27T13:43:58.639Z"
   },
   {
    "duration": 478,
    "start_time": "2022-03-27T13:49:18.447Z"
   },
   {
    "duration": 481,
    "start_time": "2022-03-27T13:49:37.691Z"
   },
   {
    "duration": 76,
    "start_time": "2022-03-27T14:57:40.207Z"
   },
   {
    "duration": 1983,
    "start_time": "2022-03-27T14:57:52.451Z"
   },
   {
    "duration": 607,
    "start_time": "2022-03-27T14:57:55.174Z"
   },
   {
    "duration": 668,
    "start_time": "2022-03-27T14:59:59.618Z"
   },
   {
    "duration": 660,
    "start_time": "2022-03-27T15:00:07.274Z"
   },
   {
    "duration": 669,
    "start_time": "2022-03-27T15:00:16.891Z"
   },
   {
    "duration": 675,
    "start_time": "2022-03-27T15:00:22.208Z"
   },
   {
    "duration": 620,
    "start_time": "2022-03-27T15:01:08.230Z"
   },
   {
    "duration": 651,
    "start_time": "2022-03-27T15:05:09.711Z"
   },
   {
    "duration": 566,
    "start_time": "2022-03-27T15:05:49.871Z"
   },
   {
    "duration": 115,
    "start_time": "2022-03-27T15:25:08.216Z"
   },
   {
    "duration": 24,
    "start_time": "2022-03-27T15:25:31.484Z"
   },
   {
    "duration": 30,
    "start_time": "2022-03-27T15:26:08.938Z"
   },
   {
    "duration": 17,
    "start_time": "2022-03-27T15:35:23.381Z"
   },
   {
    "duration": 83,
    "start_time": "2022-03-27T15:36:12.732Z"
   },
   {
    "duration": 84,
    "start_time": "2022-03-27T15:36:51.716Z"
   },
   {
    "duration": 6,
    "start_time": "2022-03-27T15:36:54.436Z"
   },
   {
    "duration": 593,
    "start_time": "2022-03-27T15:36:54.445Z"
   },
   {
    "duration": 119,
    "start_time": "2022-03-27T15:36:55.041Z"
   },
   {
    "duration": 17,
    "start_time": "2022-03-27T15:36:55.162Z"
   },
   {
    "duration": 746,
    "start_time": "2022-03-27T15:36:55.182Z"
   },
   {
    "duration": 8,
    "start_time": "2022-03-27T15:42:36.773Z"
   },
   {
    "duration": 584,
    "start_time": "2022-03-27T15:43:35.497Z"
   },
   {
    "duration": 45,
    "start_time": "2022-03-27T16:21:21.701Z"
   },
   {
    "duration": 1387,
    "start_time": "2022-03-27T16:21:30.465Z"
   },
   {
    "duration": 668,
    "start_time": "2022-03-27T16:21:31.853Z"
   },
   {
    "duration": 103,
    "start_time": "2022-03-27T16:21:32.522Z"
   },
   {
    "duration": 10,
    "start_time": "2022-03-27T16:21:32.627Z"
   },
   {
    "duration": 503,
    "start_time": "2022-03-27T16:21:32.639Z"
   },
   {
    "duration": 7,
    "start_time": "2022-03-27T16:21:33.143Z"
   },
   {
    "duration": 382,
    "start_time": "2022-03-27T16:21:33.151Z"
   },
   {
    "duration": 326,
    "start_time": "2022-03-27T16:21:33.535Z"
   },
   {
    "duration": 3542,
    "start_time": "2022-03-27T16:24:52.333Z"
   },
   {
    "duration": 3572,
    "start_time": "2022-03-27T16:25:12.985Z"
   },
   {
    "duration": 3617,
    "start_time": "2022-03-27T16:25:35.485Z"
   },
   {
    "duration": 710,
    "start_time": "2022-03-27T16:27:49.157Z"
   },
   {
    "duration": 5,
    "start_time": "2022-03-27T16:27:54.945Z"
   },
   {
    "duration": 476,
    "start_time": "2022-03-27T16:27:54.952Z"
   },
   {
    "duration": 72,
    "start_time": "2022-03-27T16:27:55.429Z"
   },
   {
    "duration": 10,
    "start_time": "2022-03-27T16:27:55.503Z"
   },
   {
    "duration": 35,
    "start_time": "2022-03-27T16:27:55.514Z"
   },
   {
    "duration": 0,
    "start_time": "2022-03-27T16:27:55.551Z"
   },
   {
    "duration": 0,
    "start_time": "2022-03-27T16:27:55.551Z"
   },
   {
    "duration": 0,
    "start_time": "2022-03-27T16:27:55.553Z"
   },
   {
    "duration": 0,
    "start_time": "2022-03-27T16:27:55.554Z"
   },
   {
    "duration": 2695,
    "start_time": "2022-03-27T16:28:29.310Z"
   },
   {
    "duration": 240,
    "start_time": "2022-03-27T16:28:41.025Z"
   },
   {
    "duration": 420,
    "start_time": "2022-03-27T16:28:45.801Z"
   },
   {
    "duration": 5,
    "start_time": "2022-03-27T16:29:07.029Z"
   },
   {
    "duration": 649,
    "start_time": "2022-03-27T16:29:07.039Z"
   },
   {
    "duration": 71,
    "start_time": "2022-03-27T16:29:07.692Z"
   },
   {
    "duration": 19,
    "start_time": "2022-03-27T16:29:07.765Z"
   },
   {
    "duration": 47,
    "start_time": "2022-03-27T16:29:07.786Z"
   },
   {
    "duration": 0,
    "start_time": "2022-03-27T16:29:07.835Z"
   },
   {
    "duration": 0,
    "start_time": "2022-03-27T16:29:07.836Z"
   },
   {
    "duration": 0,
    "start_time": "2022-03-27T16:29:07.837Z"
   },
   {
    "duration": 0,
    "start_time": "2022-03-27T16:29:07.838Z"
   },
   {
    "duration": 4,
    "start_time": "2022-03-27T16:32:44.510Z"
   },
   {
    "duration": 474,
    "start_time": "2022-03-27T16:32:44.516Z"
   },
   {
    "duration": 64,
    "start_time": "2022-03-27T16:32:44.992Z"
   },
   {
    "duration": 24,
    "start_time": "2022-03-27T16:32:45.057Z"
   },
   {
    "duration": 35,
    "start_time": "2022-03-27T16:32:45.084Z"
   },
   {
    "duration": 0,
    "start_time": "2022-03-27T16:32:45.121Z"
   },
   {
    "duration": 0,
    "start_time": "2022-03-27T16:32:45.122Z"
   },
   {
    "duration": 0,
    "start_time": "2022-03-27T16:32:45.123Z"
   },
   {
    "duration": 0,
    "start_time": "2022-03-27T16:32:45.125Z"
   },
   {
    "duration": 36,
    "start_time": "2022-03-27T16:32:53.478Z"
   },
   {
    "duration": 11,
    "start_time": "2022-03-27T16:32:54.847Z"
   },
   {
    "duration": 32,
    "start_time": "2022-03-27T16:32:55.885Z"
   },
   {
    "duration": 362,
    "start_time": "2022-03-27T16:33:44.041Z"
   },
   {
    "duration": 7,
    "start_time": "2022-03-27T16:33:51.913Z"
   },
   {
    "duration": 407,
    "start_time": "2022-03-27T16:33:54.113Z"
   },
   {
    "duration": 268,
    "start_time": "2022-03-27T16:33:58.813Z"
   },
   {
    "duration": 2667,
    "start_time": "2022-03-27T16:34:04.434Z"
   },
   {
    "duration": 7,
    "start_time": "2022-03-27T16:35:06.055Z"
   },
   {
    "duration": 11180,
    "start_time": "2022-03-27T16:35:11.522Z"
   },
   {
    "duration": 1281,
    "start_time": "2022-03-28T17:07:00.211Z"
   },
   {
    "duration": 3,
    "start_time": "2022-03-28T17:12:51.668Z"
   },
   {
    "duration": 107,
    "start_time": "2022-03-28T17:12:51.674Z"
   },
   {
    "duration": 3,
    "start_time": "2022-03-28T17:13:46.303Z"
   },
   {
    "duration": 86,
    "start_time": "2022-03-28T17:13:46.309Z"
   },
   {
    "duration": 2,
    "start_time": "2022-03-28T17:13:59.788Z"
   },
   {
    "duration": 506,
    "start_time": "2022-03-28T17:13:59.794Z"
   },
   {
    "duration": 3,
    "start_time": "2022-03-28T17:14:12.636Z"
   },
   {
    "duration": 481,
    "start_time": "2022-03-28T17:14:12.641Z"
   },
   {
    "duration": 478,
    "start_time": "2022-03-28T17:16:36.280Z"
   },
   {
    "duration": 2,
    "start_time": "2022-03-28T17:17:02.996Z"
   },
   {
    "duration": 479,
    "start_time": "2022-03-28T17:17:03.001Z"
   },
   {
    "duration": 2,
    "start_time": "2022-03-28T17:18:49.468Z"
   },
   {
    "duration": 505,
    "start_time": "2022-03-28T17:18:49.473Z"
   },
   {
    "duration": 256,
    "start_time": "2022-03-28T17:21:03.363Z"
   },
   {
    "duration": 125,
    "start_time": "2022-03-28T17:25:39.979Z"
   },
   {
    "duration": 82,
    "start_time": "2022-03-28T17:27:30.620Z"
   },
   {
    "duration": 33,
    "start_time": "2022-03-28T17:27:56.715Z"
   },
   {
    "duration": 4,
    "start_time": "2022-03-28T17:31:59.811Z"
   },
   {
    "duration": 3,
    "start_time": "2022-03-28T17:32:10.480Z"
   },
   {
    "duration": 4,
    "start_time": "2022-03-28T17:32:19.835Z"
   },
   {
    "duration": 11,
    "start_time": "2022-03-28T17:32:58.160Z"
   },
   {
    "duration": 28,
    "start_time": "2022-03-28T17:33:18.860Z"
   },
   {
    "duration": 22,
    "start_time": "2022-03-28T17:34:09.239Z"
   },
   {
    "duration": 27,
    "start_time": "2022-03-28T17:34:28.143Z"
   },
   {
    "duration": 33,
    "start_time": "2022-03-28T17:40:03.867Z"
   },
   {
    "duration": 32,
    "start_time": "2022-03-28T17:40:30.351Z"
   },
   {
    "duration": 41,
    "start_time": "2022-03-28T17:40:49.487Z"
   },
   {
    "duration": 40,
    "start_time": "2022-03-28T17:41:21.023Z"
   },
   {
    "duration": 46,
    "start_time": "2022-03-28T17:41:33.066Z"
   },
   {
    "duration": 37,
    "start_time": "2022-03-28T17:42:29.791Z"
   },
   {
    "duration": 28,
    "start_time": "2022-03-28T17:42:44.823Z"
   },
   {
    "duration": 27,
    "start_time": "2022-03-28T17:43:23.667Z"
   },
   {
    "duration": 28,
    "start_time": "2022-03-28T17:43:24.546Z"
   },
   {
    "duration": 32,
    "start_time": "2022-03-28T17:45:03.751Z"
   },
   {
    "duration": 16,
    "start_time": "2022-03-28T17:45:30.399Z"
   },
   {
    "duration": 7,
    "start_time": "2022-03-28T17:47:39.255Z"
   },
   {
    "duration": 8,
    "start_time": "2022-03-28T17:47:52.206Z"
   },
   {
    "duration": 4,
    "start_time": "2022-03-28T17:48:34.255Z"
   },
   {
    "duration": 4,
    "start_time": "2022-03-28T17:48:51.065Z"
   },
   {
    "duration": 4,
    "start_time": "2022-03-28T17:49:05.023Z"
   },
   {
    "duration": 1552,
    "start_time": "2022-03-28T17:49:20.446Z"
   },
   {
    "duration": 1665,
    "start_time": "2022-03-28T17:50:19.174Z"
   },
   {
    "duration": 1582,
    "start_time": "2022-03-28T17:50:35.134Z"
   },
   {
    "duration": 1973,
    "start_time": "2022-03-28T17:50:59.522Z"
   },
   {
    "duration": 1644,
    "start_time": "2022-03-28T17:51:13.435Z"
   },
   {
    "duration": 1556,
    "start_time": "2022-03-28T17:51:23.111Z"
   },
   {
    "duration": 4,
    "start_time": "2022-03-28T17:57:11.982Z"
   },
   {
    "duration": 4,
    "start_time": "2022-03-28T17:57:23.253Z"
   },
   {
    "duration": 229,
    "start_time": "2022-03-28T17:57:24.221Z"
   },
   {
    "duration": 2,
    "start_time": "2022-03-28T17:59:32.810Z"
   },
   {
    "duration": 19,
    "start_time": "2022-03-28T18:01:29.114Z"
   },
   {
    "duration": 4,
    "start_time": "2022-03-28T18:02:06.788Z"
   },
   {
    "duration": 3,
    "start_time": "2022-03-28T18:02:15.518Z"
   },
   {
    "duration": 10,
    "start_time": "2022-03-28T18:02:37.814Z"
   },
   {
    "duration": 5,
    "start_time": "2022-03-28T18:02:53.990Z"
   },
   {
    "duration": 6,
    "start_time": "2022-03-28T18:03:05.846Z"
   },
   {
    "duration": 6,
    "start_time": "2022-03-28T18:03:19.427Z"
   },
   {
    "duration": 5,
    "start_time": "2022-03-28T18:03:32.638Z"
   },
   {
    "duration": 6,
    "start_time": "2022-03-28T18:03:45.552Z"
   },
   {
    "duration": 14,
    "start_time": "2022-03-28T18:03:57.438Z"
   },
   {
    "duration": 12,
    "start_time": "2022-03-28T18:06:14.227Z"
   },
   {
    "duration": 3,
    "start_time": "2022-03-28T18:06:20.375Z"
   },
   {
    "duration": 471,
    "start_time": "2022-03-28T18:06:20.382Z"
   },
   {
    "duration": 260,
    "start_time": "2022-03-28T18:06:20.854Z"
   },
   {
    "duration": 126,
    "start_time": "2022-03-28T18:06:21.116Z"
   },
   {
    "duration": 32,
    "start_time": "2022-03-28T18:06:21.244Z"
   },
   {
    "duration": 4,
    "start_time": "2022-03-28T18:06:21.277Z"
   },
   {
    "duration": 15,
    "start_time": "2022-03-28T18:06:21.282Z"
   },
   {
    "duration": 39,
    "start_time": "2022-03-28T18:06:21.299Z"
   },
   {
    "duration": 26,
    "start_time": "2022-03-28T18:06:21.340Z"
   },
   {
    "duration": 29,
    "start_time": "2022-03-28T18:06:21.367Z"
   },
   {
    "duration": 62,
    "start_time": "2022-03-28T18:06:21.399Z"
   },
   {
    "duration": 41,
    "start_time": "2022-03-28T18:06:21.463Z"
   },
   {
    "duration": 48,
    "start_time": "2022-03-28T18:06:21.506Z"
   },
   {
    "duration": 26,
    "start_time": "2022-03-28T18:06:21.556Z"
   },
   {
    "duration": 30,
    "start_time": "2022-03-28T18:06:21.583Z"
   },
   {
    "duration": 16,
    "start_time": "2022-03-28T18:06:21.632Z"
   },
   {
    "duration": 7,
    "start_time": "2022-03-28T18:06:21.649Z"
   },
   {
    "duration": 5,
    "start_time": "2022-03-28T18:06:21.657Z"
   },
   {
    "duration": 7,
    "start_time": "2022-03-28T18:06:21.664Z"
   },
   {
    "duration": 7,
    "start_time": "2022-03-28T18:06:21.673Z"
   },
   {
    "duration": 230,
    "start_time": "2022-03-28T18:06:21.682Z"
   },
   {
    "duration": 26,
    "start_time": "2022-03-28T18:06:21.913Z"
   },
   {
    "duration": 3,
    "start_time": "2022-03-28T18:06:21.941Z"
   },
   {
    "duration": 16,
    "start_time": "2022-03-28T18:06:21.946Z"
   },
   {
    "duration": 10,
    "start_time": "2022-03-28T18:06:21.963Z"
   },
   {
    "duration": 10,
    "start_time": "2022-03-28T18:06:21.974Z"
   },
   {
    "duration": 8,
    "start_time": "2022-03-28T18:06:21.986Z"
   },
   {
    "duration": 6,
    "start_time": "2022-03-28T18:06:21.996Z"
   },
   {
    "duration": 6,
    "start_time": "2022-03-28T18:06:22.005Z"
   },
   {
    "duration": 31,
    "start_time": "2022-03-28T18:06:22.012Z"
   },
   {
    "duration": 690,
    "start_time": "2022-03-28T19:02:08.391Z"
   },
   {
    "duration": 412,
    "start_time": "2022-03-28T19:02:20.969Z"
   },
   {
    "duration": 290,
    "start_time": "2022-03-28T19:08:39.679Z"
   },
   {
    "duration": 299,
    "start_time": "2022-03-28T19:09:00.055Z"
   },
   {
    "duration": 9,
    "start_time": "2022-03-28T19:09:33.095Z"
   },
   {
    "duration": 665,
    "start_time": "2022-03-28T19:09:36.708Z"
   },
   {
    "duration": 585,
    "start_time": "2022-03-28T19:09:37.376Z"
   },
   {
    "duration": 354,
    "start_time": "2022-03-28T19:09:37.963Z"
   },
   {
    "duration": 144,
    "start_time": "2022-03-28T19:09:38.320Z"
   },
   {
    "duration": 37,
    "start_time": "2022-03-28T19:09:38.466Z"
   },
   {
    "duration": 4,
    "start_time": "2022-03-28T19:09:38.505Z"
   },
   {
    "duration": 13,
    "start_time": "2022-03-28T19:09:38.532Z"
   },
   {
    "duration": 28,
    "start_time": "2022-03-28T19:09:38.547Z"
   },
   {
    "duration": 60,
    "start_time": "2022-03-28T19:09:38.577Z"
   },
   {
    "duration": 36,
    "start_time": "2022-03-28T19:09:38.639Z"
   },
   {
    "duration": 68,
    "start_time": "2022-03-28T19:09:38.676Z"
   },
   {
    "duration": 49,
    "start_time": "2022-03-28T19:09:38.745Z"
   },
   {
    "duration": 53,
    "start_time": "2022-03-28T19:09:38.796Z"
   },
   {
    "duration": 32,
    "start_time": "2022-03-28T19:09:38.851Z"
   },
   {
    "duration": 55,
    "start_time": "2022-03-28T19:09:38.885Z"
   },
   {
    "duration": 17,
    "start_time": "2022-03-28T19:09:38.942Z"
   },
   {
    "duration": 8,
    "start_time": "2022-03-28T19:09:38.962Z"
   },
   {
    "duration": 9,
    "start_time": "2022-03-28T19:09:38.971Z"
   },
   {
    "duration": 9,
    "start_time": "2022-03-28T19:09:38.982Z"
   },
   {
    "duration": 12,
    "start_time": "2022-03-28T19:09:38.993Z"
   },
   {
    "duration": 282,
    "start_time": "2022-03-28T19:09:39.007Z"
   },
   {
    "duration": 42,
    "start_time": "2022-03-28T19:09:39.291Z"
   },
   {
    "duration": 5,
    "start_time": "2022-03-28T19:09:39.335Z"
   },
   {
    "duration": 22,
    "start_time": "2022-03-28T19:09:39.343Z"
   },
   {
    "duration": 18,
    "start_time": "2022-03-28T19:09:39.367Z"
   },
   {
    "duration": 13,
    "start_time": "2022-03-28T19:09:39.388Z"
   },
   {
    "duration": 17,
    "start_time": "2022-03-28T19:09:39.403Z"
   },
   {
    "duration": 8,
    "start_time": "2022-03-28T19:09:39.431Z"
   },
   {
    "duration": 13,
    "start_time": "2022-03-28T19:09:39.442Z"
   },
   {
    "duration": 26,
    "start_time": "2022-03-28T19:09:39.458Z"
   },
   {
    "duration": 9,
    "start_time": "2022-03-28T19:09:39.487Z"
   },
   {
    "duration": 922,
    "start_time": "2022-03-28T19:09:39.498Z"
   },
   {
    "duration": 139,
    "start_time": "2022-03-28T19:17:23.660Z"
   },
   {
    "duration": 8,
    "start_time": "2022-03-28T19:26:07.929Z"
   },
   {
    "duration": 8,
    "start_time": "2022-03-28T19:26:28.612Z"
   },
   {
    "duration": 5,
    "start_time": "2022-03-28T19:26:49.218Z"
   },
   {
    "duration": 5,
    "start_time": "2022-03-28T19:27:51.389Z"
   },
   {
    "duration": 27,
    "start_time": "2022-03-28T19:32:38.554Z"
   },
   {
    "duration": 24,
    "start_time": "2022-03-28T19:33:38.855Z"
   },
   {
    "duration": 23,
    "start_time": "2022-03-28T19:34:11.790Z"
   },
   {
    "duration": 14,
    "start_time": "2022-03-28T19:34:27.594Z"
   },
   {
    "duration": 22,
    "start_time": "2022-03-28T19:35:51.340Z"
   },
   {
    "duration": 15,
    "start_time": "2022-03-28T19:36:30.927Z"
   },
   {
    "duration": 6,
    "start_time": "2022-03-28T19:36:59.607Z"
   },
   {
    "duration": 6,
    "start_time": "2022-03-28T19:38:41.352Z"
   },
   {
    "duration": 3,
    "start_time": "2022-03-28T19:38:47.359Z"
   },
   {
    "duration": 566,
    "start_time": "2022-03-28T19:38:47.366Z"
   },
   {
    "duration": 284,
    "start_time": "2022-03-28T19:38:47.934Z"
   },
   {
    "duration": 144,
    "start_time": "2022-03-28T19:38:48.220Z"
   },
   {
    "duration": 35,
    "start_time": "2022-03-28T19:38:48.366Z"
   },
   {
    "duration": 4,
    "start_time": "2022-03-28T19:38:48.403Z"
   },
   {
    "duration": 33,
    "start_time": "2022-03-28T19:38:48.408Z"
   },
   {
    "duration": 20,
    "start_time": "2022-03-28T19:38:48.443Z"
   },
   {
    "duration": 28,
    "start_time": "2022-03-28T19:38:48.465Z"
   },
   {
    "duration": 66,
    "start_time": "2022-03-28T19:38:48.494Z"
   },
   {
    "duration": 38,
    "start_time": "2022-03-28T19:38:48.563Z"
   },
   {
    "duration": 62,
    "start_time": "2022-03-28T19:38:48.603Z"
   },
   {
    "duration": 30,
    "start_time": "2022-03-28T19:38:48.667Z"
   },
   {
    "duration": 43,
    "start_time": "2022-03-28T19:38:48.699Z"
   },
   {
    "duration": 34,
    "start_time": "2022-03-28T19:38:48.743Z"
   },
   {
    "duration": 18,
    "start_time": "2022-03-28T19:38:48.779Z"
   },
   {
    "duration": 8,
    "start_time": "2022-03-28T19:38:48.798Z"
   },
   {
    "duration": 5,
    "start_time": "2022-03-28T19:38:48.832Z"
   },
   {
    "duration": 8,
    "start_time": "2022-03-28T19:38:48.839Z"
   },
   {
    "duration": 5,
    "start_time": "2022-03-28T19:38:48.849Z"
   },
   {
    "duration": 259,
    "start_time": "2022-03-28T19:38:48.856Z"
   },
   {
    "duration": 33,
    "start_time": "2022-03-28T19:38:49.117Z"
   },
   {
    "duration": 4,
    "start_time": "2022-03-28T19:38:49.152Z"
   },
   {
    "duration": 13,
    "start_time": "2022-03-28T19:38:49.158Z"
   },
   {
    "duration": 13,
    "start_time": "2022-03-28T19:38:49.173Z"
   },
   {
    "duration": 16,
    "start_time": "2022-03-28T19:38:49.188Z"
   },
   {
    "duration": 31,
    "start_time": "2022-03-28T19:38:49.206Z"
   },
   {
    "duration": 9,
    "start_time": "2022-03-28T19:38:49.239Z"
   },
   {
    "duration": 8,
    "start_time": "2022-03-28T19:38:49.253Z"
   },
   {
    "duration": 16,
    "start_time": "2022-03-28T19:38:49.263Z"
   },
   {
    "duration": 6,
    "start_time": "2022-03-28T19:38:49.281Z"
   },
   {
    "duration": 903,
    "start_time": "2022-03-28T19:38:49.289Z"
   },
   {
    "duration": 6,
    "start_time": "2022-03-28T19:38:50.194Z"
   },
   {
    "duration": 12,
    "start_time": "2022-03-28T19:38:50.202Z"
   },
   {
    "duration": 17,
    "start_time": "2022-03-28T19:38:50.216Z"
   },
   {
    "duration": 28,
    "start_time": "2022-03-28T19:38:50.235Z"
   },
   {
    "duration": 22,
    "start_time": "2022-03-28T19:38:50.265Z"
   },
   {
    "duration": 13,
    "start_time": "2022-03-28T19:38:50.289Z"
   },
   {
    "duration": 12,
    "start_time": "2022-03-28T19:38:50.332Z"
   },
   {
    "duration": 9,
    "start_time": "2022-03-28T19:38:50.346Z"
   },
   {
    "duration": 5,
    "start_time": "2022-03-28T19:40:31.818Z"
   },
   {
    "duration": 26,
    "start_time": "2022-03-28T19:51:17.129Z"
   },
   {
    "duration": 24,
    "start_time": "2022-03-28T19:51:17.728Z"
   },
   {
    "duration": 15,
    "start_time": "2022-03-28T19:51:18.268Z"
   },
   {
    "duration": 11,
    "start_time": "2022-03-28T19:51:18.776Z"
   },
   {
    "duration": 5,
    "start_time": "2022-03-28T19:51:19.325Z"
   },
   {
    "duration": 3,
    "start_time": "2022-03-28T19:58:29.952Z"
   },
   {
    "duration": 548,
    "start_time": "2022-03-28T19:58:29.957Z"
   },
   {
    "duration": 272,
    "start_time": "2022-03-28T19:58:30.532Z"
   },
   {
    "duration": 145,
    "start_time": "2022-03-28T19:58:30.806Z"
   },
   {
    "duration": 35,
    "start_time": "2022-03-28T19:58:30.953Z"
   },
   {
    "duration": 3,
    "start_time": "2022-03-28T19:58:30.990Z"
   },
   {
    "duration": 38,
    "start_time": "2022-03-28T19:58:30.995Z"
   },
   {
    "duration": 20,
    "start_time": "2022-03-28T19:58:31.035Z"
   },
   {
    "duration": 29,
    "start_time": "2022-03-28T19:58:31.057Z"
   },
   {
    "duration": 61,
    "start_time": "2022-03-28T19:58:31.088Z"
   },
   {
    "duration": 39,
    "start_time": "2022-03-28T19:58:31.151Z"
   },
   {
    "duration": 67,
    "start_time": "2022-03-28T19:58:31.192Z"
   },
   {
    "duration": 30,
    "start_time": "2022-03-28T19:58:31.264Z"
   },
   {
    "duration": 53,
    "start_time": "2022-03-28T19:58:31.297Z"
   },
   {
    "duration": 34,
    "start_time": "2022-03-28T19:58:31.352Z"
   },
   {
    "duration": 19,
    "start_time": "2022-03-28T19:58:31.388Z"
   },
   {
    "duration": 8,
    "start_time": "2022-03-28T19:58:31.432Z"
   },
   {
    "duration": 20,
    "start_time": "2022-03-28T19:58:31.442Z"
   },
   {
    "duration": 12,
    "start_time": "2022-03-28T19:58:31.463Z"
   },
   {
    "duration": 11,
    "start_time": "2022-03-28T19:58:31.478Z"
   },
   {
    "duration": 257,
    "start_time": "2022-03-28T19:58:31.491Z"
   },
   {
    "duration": 21,
    "start_time": "2022-03-28T19:58:31.749Z"
   },
   {
    "duration": 4,
    "start_time": "2022-03-28T19:58:31.771Z"
   },
   {
    "duration": 14,
    "start_time": "2022-03-28T19:58:31.777Z"
   },
   {
    "duration": 8,
    "start_time": "2022-03-28T19:58:31.793Z"
   },
   {
    "duration": 29,
    "start_time": "2022-03-28T19:58:31.803Z"
   },
   {
    "duration": 17,
    "start_time": "2022-03-28T19:58:31.834Z"
   },
   {
    "duration": 8,
    "start_time": "2022-03-28T19:58:31.853Z"
   },
   {
    "duration": 12,
    "start_time": "2022-03-28T19:58:31.862Z"
   },
   {
    "duration": 21,
    "start_time": "2022-03-28T19:58:31.876Z"
   },
   {
    "duration": 6,
    "start_time": "2022-03-28T19:58:31.899Z"
   },
   {
    "duration": 820,
    "start_time": "2022-03-28T19:58:31.907Z"
   },
   {
    "duration": 6,
    "start_time": "2022-03-28T19:58:32.732Z"
   },
   {
    "duration": 10,
    "start_time": "2022-03-28T19:58:32.740Z"
   },
   {
    "duration": 10,
    "start_time": "2022-03-28T19:58:32.751Z"
   },
   {
    "duration": 28,
    "start_time": "2022-03-28T19:58:32.763Z"
   },
   {
    "duration": 50,
    "start_time": "2022-03-28T19:58:32.796Z"
   },
   {
    "duration": 14,
    "start_time": "2022-03-28T19:58:32.848Z"
   },
   {
    "duration": 12,
    "start_time": "2022-03-28T19:58:32.864Z"
   },
   {
    "duration": 10,
    "start_time": "2022-03-28T19:58:32.878Z"
   },
   {
    "duration": 828,
    "start_time": "2022-04-08T14:45:44.451Z"
   },
   {
    "duration": 546,
    "start_time": "2022-04-08T14:45:45.281Z"
   },
   {
    "duration": 312,
    "start_time": "2022-04-08T14:45:45.829Z"
   },
   {
    "duration": 160,
    "start_time": "2022-04-08T14:45:46.143Z"
   },
   {
    "duration": 36,
    "start_time": "2022-04-08T14:45:46.305Z"
   },
   {
    "duration": 4,
    "start_time": "2022-04-08T14:45:46.342Z"
   },
   {
    "duration": 41,
    "start_time": "2022-04-08T14:45:46.347Z"
   },
   {
    "duration": 28,
    "start_time": "2022-04-08T14:45:46.390Z"
   },
   {
    "duration": 30,
    "start_time": "2022-04-08T14:45:46.419Z"
   },
   {
    "duration": 55,
    "start_time": "2022-04-08T14:45:46.453Z"
   },
   {
    "duration": 48,
    "start_time": "2022-04-08T14:45:46.513Z"
   },
   {
    "duration": 55,
    "start_time": "2022-04-08T14:45:46.562Z"
   },
   {
    "duration": 26,
    "start_time": "2022-04-08T14:45:46.619Z"
   },
   {
    "duration": 54,
    "start_time": "2022-04-08T14:45:46.646Z"
   },
   {
    "duration": 29,
    "start_time": "2022-04-08T14:45:46.704Z"
   },
   {
    "duration": 17,
    "start_time": "2022-04-08T14:45:46.734Z"
   },
   {
    "duration": 33,
    "start_time": "2022-04-08T14:45:46.753Z"
   },
   {
    "duration": 29,
    "start_time": "2022-04-08T14:45:46.788Z"
   },
   {
    "duration": 8,
    "start_time": "2022-04-08T14:45:46.819Z"
   },
   {
    "duration": 5,
    "start_time": "2022-04-08T14:45:46.828Z"
   },
   {
    "duration": 242,
    "start_time": "2022-04-08T14:45:46.835Z"
   },
   {
    "duration": 30,
    "start_time": "2022-04-08T14:45:47.081Z"
   },
   {
    "duration": 9,
    "start_time": "2022-04-08T14:45:47.112Z"
   },
   {
    "duration": 17,
    "start_time": "2022-04-08T14:45:47.122Z"
   },
   {
    "duration": 11,
    "start_time": "2022-04-08T14:45:47.141Z"
   },
   {
    "duration": 8,
    "start_time": "2022-04-08T14:45:47.154Z"
   },
   {
    "duration": 21,
    "start_time": "2022-04-08T14:45:47.163Z"
   },
   {
    "duration": 6,
    "start_time": "2022-04-08T14:45:47.189Z"
   },
   {
    "duration": 27,
    "start_time": "2022-04-08T14:45:47.196Z"
   },
   {
    "duration": 21,
    "start_time": "2022-04-08T14:45:47.225Z"
   },
   {
    "duration": 367,
    "start_time": "2022-04-08T14:45:47.248Z"
   },
   {
    "duration": 908,
    "start_time": "2022-04-08T14:45:47.616Z"
   },
   {
    "duration": 7,
    "start_time": "2022-04-08T14:45:48.526Z"
   },
   {
    "duration": 14,
    "start_time": "2022-04-08T14:45:48.535Z"
   },
   {
    "duration": 20,
    "start_time": "2022-04-08T14:45:48.551Z"
   },
   {
    "duration": 27,
    "start_time": "2022-04-08T14:45:48.592Z"
   },
   {
    "duration": 21,
    "start_time": "2022-04-08T14:45:48.621Z"
   },
   {
    "duration": 12,
    "start_time": "2022-04-08T14:45:48.643Z"
   },
   {
    "duration": 26,
    "start_time": "2022-04-08T14:45:48.656Z"
   },
   {
    "duration": 16,
    "start_time": "2022-04-08T14:45:48.683Z"
   },
   {
    "duration": 23,
    "start_time": "2022-04-08T14:52:04.538Z"
   },
   {
    "duration": 5,
    "start_time": "2022-04-08T14:56:58.124Z"
   },
   {
    "duration": 301,
    "start_time": "2022-04-08T14:56:59.240Z"
   },
   {
    "duration": 15,
    "start_time": "2022-04-08T14:57:02.096Z"
   },
   {
    "duration": 23,
    "start_time": "2022-04-08T15:03:09.757Z"
   },
   {
    "duration": 17,
    "start_time": "2022-04-08T15:04:47.851Z"
   },
   {
    "duration": 184,
    "start_time": "2022-04-09T10:09:15.023Z"
   },
   {
    "duration": 830,
    "start_time": "2022-04-09T10:09:19.064Z"
   },
   {
    "duration": 536,
    "start_time": "2022-04-09T10:09:19.896Z"
   },
   {
    "duration": 313,
    "start_time": "2022-04-09T10:09:20.435Z"
   },
   {
    "duration": 119,
    "start_time": "2022-04-09T10:09:20.750Z"
   },
   {
    "duration": 46,
    "start_time": "2022-04-09T10:09:20.870Z"
   },
   {
    "duration": 4,
    "start_time": "2022-04-09T10:09:20.917Z"
   },
   {
    "duration": 13,
    "start_time": "2022-04-09T10:09:20.922Z"
   },
   {
    "duration": 24,
    "start_time": "2022-04-09T10:09:20.937Z"
   },
   {
    "duration": 52,
    "start_time": "2022-04-09T10:09:20.962Z"
   },
   {
    "duration": 176,
    "start_time": "2022-04-09T10:09:21.016Z"
   },
   {
    "duration": 0,
    "start_time": "2022-04-09T10:09:21.194Z"
   },
   {
    "duration": 0,
    "start_time": "2022-04-09T10:09:21.196Z"
   },
   {
    "duration": 0,
    "start_time": "2022-04-09T10:09:21.197Z"
   },
   {
    "duration": 0,
    "start_time": "2022-04-09T10:09:21.198Z"
   },
   {
    "duration": 0,
    "start_time": "2022-04-09T10:09:21.199Z"
   },
   {
    "duration": 0,
    "start_time": "2022-04-09T10:09:21.200Z"
   },
   {
    "duration": 0,
    "start_time": "2022-04-09T10:09:21.200Z"
   },
   {
    "duration": 0,
    "start_time": "2022-04-09T10:09:21.201Z"
   },
   {
    "duration": 0,
    "start_time": "2022-04-09T10:09:21.202Z"
   },
   {
    "duration": 0,
    "start_time": "2022-04-09T10:09:21.203Z"
   },
   {
    "duration": 0,
    "start_time": "2022-04-09T10:09:21.204Z"
   },
   {
    "duration": 0,
    "start_time": "2022-04-09T10:09:21.204Z"
   },
   {
    "duration": 0,
    "start_time": "2022-04-09T10:09:21.205Z"
   },
   {
    "duration": 0,
    "start_time": "2022-04-09T10:09:21.206Z"
   },
   {
    "duration": 0,
    "start_time": "2022-04-09T10:09:21.207Z"
   },
   {
    "duration": 0,
    "start_time": "2022-04-09T10:09:21.208Z"
   },
   {
    "duration": 0,
    "start_time": "2022-04-09T10:09:21.208Z"
   },
   {
    "duration": 0,
    "start_time": "2022-04-09T10:09:21.209Z"
   },
   {
    "duration": 0,
    "start_time": "2022-04-09T10:09:21.210Z"
   },
   {
    "duration": 0,
    "start_time": "2022-04-09T10:09:21.211Z"
   },
   {
    "duration": 0,
    "start_time": "2022-04-09T10:09:21.212Z"
   },
   {
    "duration": 0,
    "start_time": "2022-04-09T10:09:21.212Z"
   },
   {
    "duration": 0,
    "start_time": "2022-04-09T10:09:21.213Z"
   },
   {
    "duration": 0,
    "start_time": "2022-04-09T10:09:21.214Z"
   },
   {
    "duration": 0,
    "start_time": "2022-04-09T10:09:21.215Z"
   },
   {
    "duration": 0,
    "start_time": "2022-04-09T10:09:21.216Z"
   },
   {
    "duration": 0,
    "start_time": "2022-04-09T10:09:21.217Z"
   },
   {
    "duration": 0,
    "start_time": "2022-04-09T10:09:21.217Z"
   },
   {
    "duration": 0,
    "start_time": "2022-04-09T10:09:21.218Z"
   },
   {
    "duration": 0,
    "start_time": "2022-04-09T10:09:21.219Z"
   },
   {
    "duration": 0,
    "start_time": "2022-04-09T10:09:21.220Z"
   },
   {
    "duration": 91,
    "start_time": "2022-04-09T10:09:41.099Z"
   },
   {
    "duration": 68,
    "start_time": "2022-04-09T10:10:24.135Z"
   },
   {
    "duration": 9,
    "start_time": "2022-04-09T10:10:27.963Z"
   },
   {
    "duration": 519,
    "start_time": "2022-04-09T10:12:07.903Z"
   },
   {
    "duration": 3,
    "start_time": "2022-04-09T10:12:11.596Z"
   },
   {
    "duration": 434,
    "start_time": "2022-04-09T10:12:11.600Z"
   },
   {
    "duration": 0,
    "start_time": "2022-04-09T10:12:12.036Z"
   },
   {
    "duration": 0,
    "start_time": "2022-04-09T10:12:12.037Z"
   },
   {
    "duration": 0,
    "start_time": "2022-04-09T10:12:12.038Z"
   },
   {
    "duration": 0,
    "start_time": "2022-04-09T10:12:12.039Z"
   },
   {
    "duration": 0,
    "start_time": "2022-04-09T10:12:12.040Z"
   },
   {
    "duration": 0,
    "start_time": "2022-04-09T10:12:12.041Z"
   },
   {
    "duration": 0,
    "start_time": "2022-04-09T10:12:12.042Z"
   },
   {
    "duration": 0,
    "start_time": "2022-04-09T10:12:12.043Z"
   },
   {
    "duration": 0,
    "start_time": "2022-04-09T10:12:12.044Z"
   },
   {
    "duration": 0,
    "start_time": "2022-04-09T10:12:12.045Z"
   },
   {
    "duration": 0,
    "start_time": "2022-04-09T10:12:12.046Z"
   },
   {
    "duration": 0,
    "start_time": "2022-04-09T10:12:12.047Z"
   },
   {
    "duration": 0,
    "start_time": "2022-04-09T10:12:12.048Z"
   },
   {
    "duration": 0,
    "start_time": "2022-04-09T10:12:12.050Z"
   },
   {
    "duration": 0,
    "start_time": "2022-04-09T10:12:12.051Z"
   },
   {
    "duration": 0,
    "start_time": "2022-04-09T10:12:12.052Z"
   },
   {
    "duration": 0,
    "start_time": "2022-04-09T10:12:12.053Z"
   },
   {
    "duration": 0,
    "start_time": "2022-04-09T10:12:12.054Z"
   },
   {
    "duration": 0,
    "start_time": "2022-04-09T10:12:12.055Z"
   },
   {
    "duration": 0,
    "start_time": "2022-04-09T10:12:12.056Z"
   },
   {
    "duration": 0,
    "start_time": "2022-04-09T10:12:12.057Z"
   },
   {
    "duration": 0,
    "start_time": "2022-04-09T10:12:12.058Z"
   },
   {
    "duration": 0,
    "start_time": "2022-04-09T10:12:12.059Z"
   },
   {
    "duration": 0,
    "start_time": "2022-04-09T10:12:12.060Z"
   },
   {
    "duration": 0,
    "start_time": "2022-04-09T10:12:12.062Z"
   },
   {
    "duration": 0,
    "start_time": "2022-04-09T10:12:12.063Z"
   },
   {
    "duration": 0,
    "start_time": "2022-04-09T10:12:12.064Z"
   },
   {
    "duration": 0,
    "start_time": "2022-04-09T10:12:12.065Z"
   },
   {
    "duration": 0,
    "start_time": "2022-04-09T10:12:12.066Z"
   },
   {
    "duration": 0,
    "start_time": "2022-04-09T10:12:12.102Z"
   },
   {
    "duration": 0,
    "start_time": "2022-04-09T10:12:12.103Z"
   },
   {
    "duration": 0,
    "start_time": "2022-04-09T10:12:12.104Z"
   },
   {
    "duration": 0,
    "start_time": "2022-04-09T10:12:12.105Z"
   },
   {
    "duration": 0,
    "start_time": "2022-04-09T10:12:12.106Z"
   },
   {
    "duration": 0,
    "start_time": "2022-04-09T10:12:12.107Z"
   },
   {
    "duration": 0,
    "start_time": "2022-04-09T10:12:12.108Z"
   },
   {
    "duration": 0,
    "start_time": "2022-04-09T10:12:12.109Z"
   },
   {
    "duration": 0,
    "start_time": "2022-04-09T10:12:12.110Z"
   },
   {
    "duration": 0,
    "start_time": "2022-04-09T10:12:12.111Z"
   },
   {
    "duration": 0,
    "start_time": "2022-04-09T10:12:12.112Z"
   },
   {
    "duration": 2698,
    "start_time": "2022-04-09T10:12:41.163Z"
   },
   {
    "duration": 3,
    "start_time": "2022-04-09T10:18:00.283Z"
   },
   {
    "duration": 417,
    "start_time": "2022-04-09T10:18:00.290Z"
   },
   {
    "duration": 0,
    "start_time": "2022-04-09T10:18:00.709Z"
   },
   {
    "duration": 0,
    "start_time": "2022-04-09T10:18:00.710Z"
   },
   {
    "duration": 0,
    "start_time": "2022-04-09T10:18:00.710Z"
   },
   {
    "duration": 0,
    "start_time": "2022-04-09T10:18:00.711Z"
   },
   {
    "duration": 0,
    "start_time": "2022-04-09T10:18:00.712Z"
   },
   {
    "duration": 0,
    "start_time": "2022-04-09T10:18:00.713Z"
   },
   {
    "duration": 0,
    "start_time": "2022-04-09T10:18:00.714Z"
   },
   {
    "duration": 0,
    "start_time": "2022-04-09T10:18:00.715Z"
   },
   {
    "duration": 0,
    "start_time": "2022-04-09T10:18:00.716Z"
   },
   {
    "duration": 0,
    "start_time": "2022-04-09T10:18:00.717Z"
   },
   {
    "duration": 0,
    "start_time": "2022-04-09T10:18:00.718Z"
   },
   {
    "duration": 0,
    "start_time": "2022-04-09T10:18:00.719Z"
   },
   {
    "duration": 0,
    "start_time": "2022-04-09T10:18:00.720Z"
   },
   {
    "duration": 0,
    "start_time": "2022-04-09T10:18:00.721Z"
   },
   {
    "duration": 0,
    "start_time": "2022-04-09T10:18:00.722Z"
   },
   {
    "duration": 0,
    "start_time": "2022-04-09T10:18:00.723Z"
   },
   {
    "duration": 0,
    "start_time": "2022-04-09T10:18:00.724Z"
   },
   {
    "duration": 0,
    "start_time": "2022-04-09T10:18:00.725Z"
   },
   {
    "duration": 0,
    "start_time": "2022-04-09T10:18:00.726Z"
   },
   {
    "duration": 0,
    "start_time": "2022-04-09T10:18:00.727Z"
   },
   {
    "duration": 0,
    "start_time": "2022-04-09T10:18:00.728Z"
   },
   {
    "duration": 0,
    "start_time": "2022-04-09T10:18:00.729Z"
   },
   {
    "duration": 0,
    "start_time": "2022-04-09T10:18:00.730Z"
   },
   {
    "duration": 0,
    "start_time": "2022-04-09T10:18:00.731Z"
   },
   {
    "duration": 0,
    "start_time": "2022-04-09T10:18:00.732Z"
   },
   {
    "duration": 0,
    "start_time": "2022-04-09T10:18:00.733Z"
   },
   {
    "duration": 0,
    "start_time": "2022-04-09T10:18:00.734Z"
   },
   {
    "duration": 0,
    "start_time": "2022-04-09T10:18:00.735Z"
   },
   {
    "duration": 0,
    "start_time": "2022-04-09T10:18:00.736Z"
   },
   {
    "duration": 0,
    "start_time": "2022-04-09T10:18:00.737Z"
   },
   {
    "duration": 0,
    "start_time": "2022-04-09T10:18:00.738Z"
   },
   {
    "duration": 0,
    "start_time": "2022-04-09T10:18:00.739Z"
   },
   {
    "duration": 0,
    "start_time": "2022-04-09T10:18:00.740Z"
   },
   {
    "duration": 0,
    "start_time": "2022-04-09T10:18:00.741Z"
   },
   {
    "duration": 0,
    "start_time": "2022-04-09T10:18:00.742Z"
   },
   {
    "duration": 0,
    "start_time": "2022-04-09T10:18:00.743Z"
   },
   {
    "duration": 0,
    "start_time": "2022-04-09T10:18:00.744Z"
   },
   {
    "duration": 0,
    "start_time": "2022-04-09T10:18:00.745Z"
   },
   {
    "duration": 8,
    "start_time": "2022-04-09T10:30:27.287Z"
   },
   {
    "duration": 3,
    "start_time": "2022-04-09T10:30:32.692Z"
   },
   {
    "duration": 404,
    "start_time": "2022-04-09T10:30:32.699Z"
   },
   {
    "duration": 0,
    "start_time": "2022-04-09T10:30:33.106Z"
   },
   {
    "duration": 0,
    "start_time": "2022-04-09T10:30:33.107Z"
   },
   {
    "duration": 0,
    "start_time": "2022-04-09T10:30:33.107Z"
   },
   {
    "duration": 0,
    "start_time": "2022-04-09T10:30:33.109Z"
   },
   {
    "duration": 0,
    "start_time": "2022-04-09T10:30:33.109Z"
   },
   {
    "duration": 0,
    "start_time": "2022-04-09T10:30:33.110Z"
   },
   {
    "duration": 0,
    "start_time": "2022-04-09T10:30:33.111Z"
   },
   {
    "duration": 0,
    "start_time": "2022-04-09T10:30:33.112Z"
   },
   {
    "duration": 0,
    "start_time": "2022-04-09T10:30:33.113Z"
   },
   {
    "duration": 0,
    "start_time": "2022-04-09T10:30:33.114Z"
   },
   {
    "duration": 0,
    "start_time": "2022-04-09T10:30:33.114Z"
   },
   {
    "duration": 0,
    "start_time": "2022-04-09T10:30:33.115Z"
   },
   {
    "duration": 0,
    "start_time": "2022-04-09T10:30:33.116Z"
   },
   {
    "duration": 0,
    "start_time": "2022-04-09T10:30:33.117Z"
   },
   {
    "duration": 0,
    "start_time": "2022-04-09T10:30:33.118Z"
   },
   {
    "duration": 0,
    "start_time": "2022-04-09T10:30:33.120Z"
   },
   {
    "duration": 0,
    "start_time": "2022-04-09T10:30:33.121Z"
   },
   {
    "duration": 0,
    "start_time": "2022-04-09T10:30:33.122Z"
   },
   {
    "duration": 0,
    "start_time": "2022-04-09T10:30:33.123Z"
   },
   {
    "duration": 0,
    "start_time": "2022-04-09T10:30:33.123Z"
   },
   {
    "duration": 1,
    "start_time": "2022-04-09T10:30:33.124Z"
   },
   {
    "duration": 0,
    "start_time": "2022-04-09T10:30:33.125Z"
   },
   {
    "duration": 0,
    "start_time": "2022-04-09T10:30:33.126Z"
   },
   {
    "duration": 0,
    "start_time": "2022-04-09T10:30:33.127Z"
   },
   {
    "duration": 0,
    "start_time": "2022-04-09T10:30:33.128Z"
   },
   {
    "duration": 0,
    "start_time": "2022-04-09T10:30:33.129Z"
   },
   {
    "duration": 0,
    "start_time": "2022-04-09T10:30:33.130Z"
   },
   {
    "duration": 0,
    "start_time": "2022-04-09T10:30:33.131Z"
   },
   {
    "duration": 0,
    "start_time": "2022-04-09T10:30:33.132Z"
   },
   {
    "duration": 0,
    "start_time": "2022-04-09T10:30:33.133Z"
   },
   {
    "duration": 0,
    "start_time": "2022-04-09T10:30:33.134Z"
   },
   {
    "duration": 0,
    "start_time": "2022-04-09T10:30:33.135Z"
   },
   {
    "duration": 0,
    "start_time": "2022-04-09T10:30:33.137Z"
   },
   {
    "duration": 0,
    "start_time": "2022-04-09T10:30:33.137Z"
   },
   {
    "duration": 0,
    "start_time": "2022-04-09T10:30:33.138Z"
   },
   {
    "duration": 1,
    "start_time": "2022-04-09T10:30:33.139Z"
   },
   {
    "duration": 0,
    "start_time": "2022-04-09T10:30:33.141Z"
   },
   {
    "duration": 0,
    "start_time": "2022-04-09T10:30:33.142Z"
   },
   {
    "duration": 9,
    "start_time": "2022-04-09T10:30:38.447Z"
   },
   {
    "duration": 2,
    "start_time": "2022-04-09T10:44:00.352Z"
   },
   {
    "duration": 3,
    "start_time": "2022-04-09T10:44:03.274Z"
   },
   {
    "duration": 435,
    "start_time": "2022-04-09T10:44:03.279Z"
   },
   {
    "duration": 0,
    "start_time": "2022-04-09T10:44:03.717Z"
   },
   {
    "duration": 0,
    "start_time": "2022-04-09T10:44:03.718Z"
   },
   {
    "duration": 0,
    "start_time": "2022-04-09T10:44:03.719Z"
   },
   {
    "duration": 0,
    "start_time": "2022-04-09T10:44:03.720Z"
   },
   {
    "duration": 0,
    "start_time": "2022-04-09T10:44:03.721Z"
   },
   {
    "duration": 1,
    "start_time": "2022-04-09T10:44:03.722Z"
   },
   {
    "duration": 0,
    "start_time": "2022-04-09T10:44:03.723Z"
   },
   {
    "duration": 0,
    "start_time": "2022-04-09T10:44:03.724Z"
   },
   {
    "duration": 0,
    "start_time": "2022-04-09T10:44:03.725Z"
   },
   {
    "duration": 0,
    "start_time": "2022-04-09T10:44:03.726Z"
   },
   {
    "duration": 0,
    "start_time": "2022-04-09T10:44:03.727Z"
   },
   {
    "duration": 0,
    "start_time": "2022-04-09T10:44:03.728Z"
   },
   {
    "duration": 0,
    "start_time": "2022-04-09T10:44:03.729Z"
   },
   {
    "duration": 0,
    "start_time": "2022-04-09T10:44:03.730Z"
   },
   {
    "duration": 0,
    "start_time": "2022-04-09T10:44:03.731Z"
   },
   {
    "duration": 0,
    "start_time": "2022-04-09T10:44:03.732Z"
   },
   {
    "duration": 0,
    "start_time": "2022-04-09T10:44:03.733Z"
   },
   {
    "duration": 0,
    "start_time": "2022-04-09T10:44:03.734Z"
   },
   {
    "duration": 0,
    "start_time": "2022-04-09T10:44:03.735Z"
   },
   {
    "duration": 0,
    "start_time": "2022-04-09T10:44:03.736Z"
   },
   {
    "duration": 0,
    "start_time": "2022-04-09T10:44:03.737Z"
   },
   {
    "duration": 0,
    "start_time": "2022-04-09T10:44:03.739Z"
   },
   {
    "duration": 0,
    "start_time": "2022-04-09T10:44:03.739Z"
   },
   {
    "duration": 0,
    "start_time": "2022-04-09T10:44:03.740Z"
   },
   {
    "duration": 0,
    "start_time": "2022-04-09T10:44:03.741Z"
   },
   {
    "duration": 0,
    "start_time": "2022-04-09T10:44:03.742Z"
   },
   {
    "duration": 0,
    "start_time": "2022-04-09T10:44:03.743Z"
   },
   {
    "duration": 0,
    "start_time": "2022-04-09T10:44:03.744Z"
   },
   {
    "duration": 0,
    "start_time": "2022-04-09T10:44:03.745Z"
   },
   {
    "duration": 1,
    "start_time": "2022-04-09T10:44:03.745Z"
   },
   {
    "duration": 0,
    "start_time": "2022-04-09T10:44:03.746Z"
   },
   {
    "duration": 0,
    "start_time": "2022-04-09T10:44:03.747Z"
   },
   {
    "duration": 0,
    "start_time": "2022-04-09T10:44:03.748Z"
   },
   {
    "duration": 0,
    "start_time": "2022-04-09T10:44:03.749Z"
   },
   {
    "duration": 0,
    "start_time": "2022-04-09T10:44:03.750Z"
   },
   {
    "duration": 0,
    "start_time": "2022-04-09T10:44:03.751Z"
   },
   {
    "duration": 0,
    "start_time": "2022-04-09T10:44:03.752Z"
   },
   {
    "duration": 0,
    "start_time": "2022-04-09T10:44:03.801Z"
   },
   {
    "duration": 401,
    "start_time": "2022-04-09T10:45:17.762Z"
   },
   {
    "duration": 267,
    "start_time": "2022-04-09T10:45:28.389Z"
   },
   {
    "duration": 130,
    "start_time": "2022-04-09T10:45:35.785Z"
   },
   {
    "duration": 394,
    "start_time": "2022-04-09T10:45:47.157Z"
   },
   {
    "duration": 460,
    "start_time": "2022-04-09T10:46:43.706Z"
   },
   {
    "duration": 3,
    "start_time": "2022-04-09T10:46:49.161Z"
   },
   {
    "duration": 474,
    "start_time": "2022-04-09T10:46:49.168Z"
   },
   {
    "duration": 238,
    "start_time": "2022-04-09T10:46:49.644Z"
   },
   {
    "duration": 126,
    "start_time": "2022-04-09T10:46:49.883Z"
   },
   {
    "duration": 32,
    "start_time": "2022-04-09T10:46:50.011Z"
   },
   {
    "duration": 4,
    "start_time": "2022-04-09T10:46:50.044Z"
   },
   {
    "duration": 23,
    "start_time": "2022-04-09T10:46:50.049Z"
   },
   {
    "duration": 41,
    "start_time": "2022-04-09T10:46:50.074Z"
   },
   {
    "duration": 27,
    "start_time": "2022-04-09T10:46:50.117Z"
   },
   {
    "duration": 31,
    "start_time": "2022-04-09T10:46:50.146Z"
   },
   {
    "duration": 34,
    "start_time": "2022-04-09T10:46:50.201Z"
   },
   {
    "duration": 40,
    "start_time": "2022-04-09T10:46:50.236Z"
   },
   {
    "duration": 42,
    "start_time": "2022-04-09T10:46:50.278Z"
   },
   {
    "duration": 25,
    "start_time": "2022-04-09T10:46:50.321Z"
   },
   {
    "duration": 29,
    "start_time": "2022-04-09T10:46:50.348Z"
   },
   {
    "duration": 37,
    "start_time": "2022-04-09T10:46:50.378Z"
   },
   {
    "duration": 8,
    "start_time": "2022-04-09T10:46:50.417Z"
   },
   {
    "duration": 0,
    "start_time": "2022-04-09T10:46:50.426Z"
   },
   {
    "duration": 0,
    "start_time": "2022-04-09T10:46:50.427Z"
   },
   {
    "duration": 0,
    "start_time": "2022-04-09T10:46:50.428Z"
   },
   {
    "duration": 0,
    "start_time": "2022-04-09T10:46:50.429Z"
   },
   {
    "duration": 0,
    "start_time": "2022-04-09T10:46:50.430Z"
   },
   {
    "duration": 0,
    "start_time": "2022-04-09T10:46:50.431Z"
   },
   {
    "duration": 0,
    "start_time": "2022-04-09T10:46:50.432Z"
   },
   {
    "duration": 0,
    "start_time": "2022-04-09T10:46:50.433Z"
   },
   {
    "duration": 0,
    "start_time": "2022-04-09T10:46:50.434Z"
   },
   {
    "duration": 0,
    "start_time": "2022-04-09T10:46:50.435Z"
   },
   {
    "duration": 0,
    "start_time": "2022-04-09T10:46:50.436Z"
   },
   {
    "duration": 0,
    "start_time": "2022-04-09T10:46:50.437Z"
   },
   {
    "duration": 0,
    "start_time": "2022-04-09T10:46:50.437Z"
   },
   {
    "duration": 0,
    "start_time": "2022-04-09T10:46:50.438Z"
   },
   {
    "duration": 0,
    "start_time": "2022-04-09T10:46:50.439Z"
   },
   {
    "duration": 0,
    "start_time": "2022-04-09T10:46:50.441Z"
   },
   {
    "duration": 0,
    "start_time": "2022-04-09T10:46:50.442Z"
   },
   {
    "duration": 0,
    "start_time": "2022-04-09T10:46:50.443Z"
   },
   {
    "duration": 0,
    "start_time": "2022-04-09T10:46:50.443Z"
   },
   {
    "duration": 0,
    "start_time": "2022-04-09T10:46:50.444Z"
   },
   {
    "duration": 0,
    "start_time": "2022-04-09T10:46:50.446Z"
   },
   {
    "duration": 0,
    "start_time": "2022-04-09T10:46:50.446Z"
   },
   {
    "duration": 0,
    "start_time": "2022-04-09T10:46:50.448Z"
   },
   {
    "duration": 168,
    "start_time": "2022-04-09T10:50:45.226Z"
   },
   {
    "duration": 157,
    "start_time": "2022-04-09T10:51:11.409Z"
   },
   {
    "duration": 2631,
    "start_time": "2022-04-09T10:51:46.205Z"
   },
   {
    "duration": 3,
    "start_time": "2022-04-09T10:51:58.698Z"
   },
   {
    "duration": 1229,
    "start_time": "2022-04-09T10:51:58.702Z"
   },
   {
    "duration": 253,
    "start_time": "2022-04-09T10:51:59.933Z"
   },
   {
    "duration": 136,
    "start_time": "2022-04-09T10:52:00.188Z"
   },
   {
    "duration": 35,
    "start_time": "2022-04-09T10:52:00.326Z"
   },
   {
    "duration": 4,
    "start_time": "2022-04-09T10:52:00.363Z"
   },
   {
    "duration": 36,
    "start_time": "2022-04-09T10:52:00.370Z"
   },
   {
    "duration": 24,
    "start_time": "2022-04-09T10:52:00.409Z"
   },
   {
    "duration": 26,
    "start_time": "2022-04-09T10:52:00.436Z"
   },
   {
    "duration": 2621,
    "start_time": "2022-04-09T10:52:00.464Z"
   },
   {
    "duration": 0,
    "start_time": "2022-04-09T10:52:03.088Z"
   },
   {
    "duration": 0,
    "start_time": "2022-04-09T10:52:03.089Z"
   },
   {
    "duration": 0,
    "start_time": "2022-04-09T10:52:03.090Z"
   },
   {
    "duration": 0,
    "start_time": "2022-04-09T10:52:03.092Z"
   },
   {
    "duration": 0,
    "start_time": "2022-04-09T10:52:03.093Z"
   },
   {
    "duration": 0,
    "start_time": "2022-04-09T10:52:03.094Z"
   },
   {
    "duration": 0,
    "start_time": "2022-04-09T10:52:03.096Z"
   },
   {
    "duration": 0,
    "start_time": "2022-04-09T10:52:03.097Z"
   },
   {
    "duration": 0,
    "start_time": "2022-04-09T10:52:03.099Z"
   },
   {
    "duration": 0,
    "start_time": "2022-04-09T10:52:03.100Z"
   },
   {
    "duration": 0,
    "start_time": "2022-04-09T10:52:03.101Z"
   },
   {
    "duration": 0,
    "start_time": "2022-04-09T10:52:03.103Z"
   },
   {
    "duration": 0,
    "start_time": "2022-04-09T10:52:03.104Z"
   },
   {
    "duration": 0,
    "start_time": "2022-04-09T10:52:03.105Z"
   },
   {
    "duration": 0,
    "start_time": "2022-04-09T10:52:03.106Z"
   },
   {
    "duration": 0,
    "start_time": "2022-04-09T10:52:03.107Z"
   },
   {
    "duration": 0,
    "start_time": "2022-04-09T10:52:03.109Z"
   },
   {
    "duration": 0,
    "start_time": "2022-04-09T10:52:03.110Z"
   },
   {
    "duration": 0,
    "start_time": "2022-04-09T10:52:03.111Z"
   },
   {
    "duration": 0,
    "start_time": "2022-04-09T10:52:03.112Z"
   },
   {
    "duration": 0,
    "start_time": "2022-04-09T10:52:03.114Z"
   },
   {
    "duration": 0,
    "start_time": "2022-04-09T10:52:03.115Z"
   },
   {
    "duration": 0,
    "start_time": "2022-04-09T10:52:03.116Z"
   },
   {
    "duration": 0,
    "start_time": "2022-04-09T10:52:03.117Z"
   },
   {
    "duration": 0,
    "start_time": "2022-04-09T10:52:03.119Z"
   },
   {
    "duration": 0,
    "start_time": "2022-04-09T10:52:03.120Z"
   },
   {
    "duration": 0,
    "start_time": "2022-04-09T10:52:03.121Z"
   },
   {
    "duration": 0,
    "start_time": "2022-04-09T10:52:03.123Z"
   },
   {
    "duration": 0,
    "start_time": "2022-04-09T10:52:03.124Z"
   },
   {
    "duration": 0,
    "start_time": "2022-04-09T10:52:03.125Z"
   },
   {
    "duration": 0,
    "start_time": "2022-04-09T10:52:03.126Z"
   },
   {
    "duration": 2601,
    "start_time": "2022-04-09T10:52:36.377Z"
   },
   {
    "duration": 7,
    "start_time": "2022-04-09T10:52:56.045Z"
   },
   {
    "duration": 412,
    "start_time": "2022-04-09T10:53:29.222Z"
   },
   {
    "duration": 343,
    "start_time": "2022-04-09T10:54:10.170Z"
   },
   {
    "duration": 278,
    "start_time": "2022-04-09T10:54:48.756Z"
   },
   {
    "duration": 378,
    "start_time": "2022-04-09T10:55:00.786Z"
   },
   {
    "duration": 4,
    "start_time": "2022-04-09T10:55:48.893Z"
   },
   {
    "duration": 3,
    "start_time": "2022-04-09T10:55:52.106Z"
   },
   {
    "duration": 528,
    "start_time": "2022-04-09T10:55:52.111Z"
   },
   {
    "duration": 269,
    "start_time": "2022-04-09T10:55:52.641Z"
   },
   {
    "duration": 118,
    "start_time": "2022-04-09T10:55:52.912Z"
   },
   {
    "duration": 34,
    "start_time": "2022-04-09T10:55:53.031Z"
   },
   {
    "duration": 3,
    "start_time": "2022-04-09T10:55:53.067Z"
   },
   {
    "duration": 43,
    "start_time": "2022-04-09T10:55:53.072Z"
   },
   {
    "duration": 31,
    "start_time": "2022-04-09T10:55:53.116Z"
   },
   {
    "duration": 30,
    "start_time": "2022-04-09T10:55:53.150Z"
   },
   {
    "duration": 6,
    "start_time": "2022-04-09T10:55:53.181Z"
   },
   {
    "duration": 475,
    "start_time": "2022-04-09T10:55:53.188Z"
   },
   {
    "duration": 37,
    "start_time": "2022-04-09T10:55:53.664Z"
   },
   {
    "duration": 37,
    "start_time": "2022-04-09T10:55:53.703Z"
   },
   {
    "duration": 66,
    "start_time": "2022-04-09T10:55:53.742Z"
   },
   {
    "duration": 29,
    "start_time": "2022-04-09T10:55:53.810Z"
   },
   {
    "duration": 28,
    "start_time": "2022-04-09T10:55:53.841Z"
   },
   {
    "duration": 51,
    "start_time": "2022-04-09T10:55:53.870Z"
   },
   {
    "duration": 15,
    "start_time": "2022-04-09T10:55:53.923Z"
   },
   {
    "duration": 8,
    "start_time": "2022-04-09T10:55:53.940Z"
   },
   {
    "duration": 0,
    "start_time": "2022-04-09T10:55:53.950Z"
   },
   {
    "duration": 0,
    "start_time": "2022-04-09T10:55:53.951Z"
   },
   {
    "duration": 0,
    "start_time": "2022-04-09T10:55:53.952Z"
   },
   {
    "duration": 1,
    "start_time": "2022-04-09T10:55:53.953Z"
   },
   {
    "duration": 0,
    "start_time": "2022-04-09T10:55:53.955Z"
   },
   {
    "duration": 0,
    "start_time": "2022-04-09T10:55:53.956Z"
   },
   {
    "duration": 0,
    "start_time": "2022-04-09T10:55:53.957Z"
   },
   {
    "duration": 0,
    "start_time": "2022-04-09T10:55:53.958Z"
   },
   {
    "duration": 0,
    "start_time": "2022-04-09T10:55:53.959Z"
   },
   {
    "duration": 0,
    "start_time": "2022-04-09T10:55:53.960Z"
   },
   {
    "duration": 0,
    "start_time": "2022-04-09T10:55:53.961Z"
   },
   {
    "duration": 0,
    "start_time": "2022-04-09T10:55:53.962Z"
   },
   {
    "duration": 0,
    "start_time": "2022-04-09T10:55:54.001Z"
   },
   {
    "duration": 0,
    "start_time": "2022-04-09T10:55:54.002Z"
   },
   {
    "duration": 0,
    "start_time": "2022-04-09T10:55:54.003Z"
   },
   {
    "duration": 0,
    "start_time": "2022-04-09T10:55:54.005Z"
   },
   {
    "duration": 0,
    "start_time": "2022-04-09T10:55:54.006Z"
   },
   {
    "duration": 0,
    "start_time": "2022-04-09T10:55:54.007Z"
   },
   {
    "duration": 0,
    "start_time": "2022-04-09T10:55:54.007Z"
   },
   {
    "duration": 0,
    "start_time": "2022-04-09T10:55:54.008Z"
   },
   {
    "duration": 0,
    "start_time": "2022-04-09T10:55:54.009Z"
   },
   {
    "duration": 0,
    "start_time": "2022-04-09T10:55:54.010Z"
   },
   {
    "duration": 0,
    "start_time": "2022-04-09T10:55:54.011Z"
   },
   {
    "duration": 6,
    "start_time": "2022-04-09T10:56:55.126Z"
   },
   {
    "duration": 8,
    "start_time": "2022-04-09T10:57:29.473Z"
   },
   {
    "duration": 6,
    "start_time": "2022-04-09T10:57:56.306Z"
   },
   {
    "duration": 4,
    "start_time": "2022-04-09T10:57:59.946Z"
   },
   {
    "duration": 625,
    "start_time": "2022-04-09T10:57:59.954Z"
   },
   {
    "duration": 266,
    "start_time": "2022-04-09T10:58:00.581Z"
   },
   {
    "duration": 131,
    "start_time": "2022-04-09T10:58:00.849Z"
   },
   {
    "duration": 46,
    "start_time": "2022-04-09T10:58:00.983Z"
   },
   {
    "duration": 3,
    "start_time": "2022-04-09T10:58:01.031Z"
   },
   {
    "duration": 29,
    "start_time": "2022-04-09T10:58:01.036Z"
   },
   {
    "duration": 23,
    "start_time": "2022-04-09T10:58:01.066Z"
   },
   {
    "duration": 36,
    "start_time": "2022-04-09T10:58:01.090Z"
   },
   {
    "duration": 8,
    "start_time": "2022-04-09T10:58:01.128Z"
   },
   {
    "duration": 438,
    "start_time": "2022-04-09T10:58:01.138Z"
   },
   {
    "duration": 6,
    "start_time": "2022-04-09T10:58:01.577Z"
   },
   {
    "duration": 46,
    "start_time": "2022-04-09T10:58:01.585Z"
   },
   {
    "duration": 37,
    "start_time": "2022-04-09T10:58:01.632Z"
   },
   {
    "duration": 53,
    "start_time": "2022-04-09T10:58:01.671Z"
   },
   {
    "duration": 30,
    "start_time": "2022-04-09T10:58:01.726Z"
   },
   {
    "duration": 52,
    "start_time": "2022-04-09T10:58:01.759Z"
   },
   {
    "duration": 33,
    "start_time": "2022-04-09T10:58:01.813Z"
   },
   {
    "duration": 17,
    "start_time": "2022-04-09T10:58:01.848Z"
   },
   {
    "duration": 34,
    "start_time": "2022-04-09T10:58:01.867Z"
   },
   {
    "duration": 0,
    "start_time": "2022-04-09T10:58:01.904Z"
   },
   {
    "duration": 0,
    "start_time": "2022-04-09T10:58:01.906Z"
   },
   {
    "duration": 0,
    "start_time": "2022-04-09T10:58:01.908Z"
   },
   {
    "duration": 0,
    "start_time": "2022-04-09T10:58:01.909Z"
   },
   {
    "duration": 0,
    "start_time": "2022-04-09T10:58:01.911Z"
   },
   {
    "duration": 0,
    "start_time": "2022-04-09T10:58:01.912Z"
   },
   {
    "duration": 0,
    "start_time": "2022-04-09T10:58:01.913Z"
   },
   {
    "duration": 0,
    "start_time": "2022-04-09T10:58:01.915Z"
   },
   {
    "duration": 0,
    "start_time": "2022-04-09T10:58:01.916Z"
   },
   {
    "duration": 0,
    "start_time": "2022-04-09T10:58:01.918Z"
   },
   {
    "duration": 0,
    "start_time": "2022-04-09T10:58:01.919Z"
   },
   {
    "duration": 0,
    "start_time": "2022-04-09T10:58:01.921Z"
   },
   {
    "duration": 0,
    "start_time": "2022-04-09T10:58:01.922Z"
   },
   {
    "duration": 0,
    "start_time": "2022-04-09T10:58:01.924Z"
   },
   {
    "duration": 0,
    "start_time": "2022-04-09T10:58:01.925Z"
   },
   {
    "duration": 0,
    "start_time": "2022-04-09T10:58:01.927Z"
   },
   {
    "duration": 0,
    "start_time": "2022-04-09T10:58:01.928Z"
   },
   {
    "duration": 0,
    "start_time": "2022-04-09T10:58:01.930Z"
   },
   {
    "duration": 0,
    "start_time": "2022-04-09T10:58:01.931Z"
   },
   {
    "duration": 0,
    "start_time": "2022-04-09T10:58:01.932Z"
   },
   {
    "duration": 0,
    "start_time": "2022-04-09T10:58:01.933Z"
   },
   {
    "duration": 0,
    "start_time": "2022-04-09T10:58:01.935Z"
   },
   {
    "duration": 0,
    "start_time": "2022-04-09T10:58:01.936Z"
   },
   {
    "duration": 398,
    "start_time": "2022-04-09T10:58:57.666Z"
   },
   {
    "duration": 10,
    "start_time": "2022-04-09T11:00:36.169Z"
   },
   {
    "duration": 5,
    "start_time": "2022-04-09T11:00:59.868Z"
   },
   {
    "duration": 4,
    "start_time": "2022-04-09T11:01:05.970Z"
   },
   {
    "duration": 561,
    "start_time": "2022-04-09T11:01:05.976Z"
   },
   {
    "duration": 240,
    "start_time": "2022-04-09T11:01:06.539Z"
   },
   {
    "duration": 126,
    "start_time": "2022-04-09T11:01:06.781Z"
   },
   {
    "duration": 33,
    "start_time": "2022-04-09T11:01:06.910Z"
   },
   {
    "duration": 4,
    "start_time": "2022-04-09T11:01:06.945Z"
   },
   {
    "duration": 13,
    "start_time": "2022-04-09T11:01:06.950Z"
   },
   {
    "duration": 48,
    "start_time": "2022-04-09T11:01:06.964Z"
   },
   {
    "duration": 26,
    "start_time": "2022-04-09T11:01:07.013Z"
   },
   {
    "duration": 6,
    "start_time": "2022-04-09T11:01:07.041Z"
   },
   {
    "duration": 426,
    "start_time": "2022-04-09T11:01:07.050Z"
   },
   {
    "duration": 7,
    "start_time": "2022-04-09T11:01:07.478Z"
   },
   {
    "duration": 441,
    "start_time": "2022-04-09T11:01:07.487Z"
   },
   {
    "duration": 7,
    "start_time": "2022-04-09T11:01:07.929Z"
   },
   {
    "duration": 32,
    "start_time": "2022-04-09T11:01:07.937Z"
   },
   {
    "duration": 60,
    "start_time": "2022-04-09T11:01:07.971Z"
   },
   {
    "duration": 43,
    "start_time": "2022-04-09T11:01:08.032Z"
   },
   {
    "duration": 40,
    "start_time": "2022-04-09T11:01:08.076Z"
   },
   {
    "duration": 21,
    "start_time": "2022-04-09T11:01:08.118Z"
   },
   {
    "duration": 30,
    "start_time": "2022-04-09T11:01:08.140Z"
   },
   {
    "duration": 43,
    "start_time": "2022-04-09T11:01:08.171Z"
   },
   {
    "duration": 8,
    "start_time": "2022-04-09T11:01:08.216Z"
   },
   {
    "duration": 0,
    "start_time": "2022-04-09T11:01:08.226Z"
   },
   {
    "duration": 0,
    "start_time": "2022-04-09T11:01:08.227Z"
   },
   {
    "duration": 0,
    "start_time": "2022-04-09T11:01:08.229Z"
   },
   {
    "duration": 0,
    "start_time": "2022-04-09T11:01:08.230Z"
   },
   {
    "duration": 0,
    "start_time": "2022-04-09T11:01:08.231Z"
   },
   {
    "duration": 0,
    "start_time": "2022-04-09T11:01:08.232Z"
   },
   {
    "duration": 0,
    "start_time": "2022-04-09T11:01:08.233Z"
   },
   {
    "duration": 0,
    "start_time": "2022-04-09T11:01:08.234Z"
   },
   {
    "duration": 0,
    "start_time": "2022-04-09T11:01:08.235Z"
   },
   {
    "duration": 0,
    "start_time": "2022-04-09T11:01:08.236Z"
   },
   {
    "duration": 0,
    "start_time": "2022-04-09T11:01:08.237Z"
   },
   {
    "duration": 0,
    "start_time": "2022-04-09T11:01:08.239Z"
   },
   {
    "duration": 0,
    "start_time": "2022-04-09T11:01:08.240Z"
   },
   {
    "duration": 0,
    "start_time": "2022-04-09T11:01:08.241Z"
   },
   {
    "duration": 0,
    "start_time": "2022-04-09T11:01:08.242Z"
   },
   {
    "duration": 0,
    "start_time": "2022-04-09T11:01:08.243Z"
   },
   {
    "duration": 0,
    "start_time": "2022-04-09T11:01:08.244Z"
   },
   {
    "duration": 0,
    "start_time": "2022-04-09T11:01:08.245Z"
   },
   {
    "duration": 0,
    "start_time": "2022-04-09T11:01:08.246Z"
   },
   {
    "duration": 0,
    "start_time": "2022-04-09T11:01:08.247Z"
   },
   {
    "duration": 0,
    "start_time": "2022-04-09T11:01:08.248Z"
   },
   {
    "duration": 0,
    "start_time": "2022-04-09T11:01:08.249Z"
   },
   {
    "duration": 0,
    "start_time": "2022-04-09T11:01:08.250Z"
   },
   {
    "duration": 9,
    "start_time": "2022-04-09T11:01:21.605Z"
   },
   {
    "duration": 11,
    "start_time": "2022-04-09T11:01:26.309Z"
   },
   {
    "duration": 17,
    "start_time": "2022-04-09T11:01:50.445Z"
   },
   {
    "duration": 13,
    "start_time": "2022-04-09T11:01:54.100Z"
   },
   {
    "duration": 5,
    "start_time": "2022-04-09T11:02:34.750Z"
   },
   {
    "duration": 504,
    "start_time": "2022-04-09T11:02:34.757Z"
   },
   {
    "duration": 255,
    "start_time": "2022-04-09T11:02:35.263Z"
   },
   {
    "duration": 126,
    "start_time": "2022-04-09T11:02:35.520Z"
   },
   {
    "duration": 32,
    "start_time": "2022-04-09T11:02:35.648Z"
   },
   {
    "duration": 19,
    "start_time": "2022-04-09T11:02:35.682Z"
   },
   {
    "duration": 31,
    "start_time": "2022-04-09T11:02:35.703Z"
   },
   {
    "duration": 21,
    "start_time": "2022-04-09T11:02:35.736Z"
   },
   {
    "duration": 26,
    "start_time": "2022-04-09T11:02:35.759Z"
   },
   {
    "duration": 44,
    "start_time": "2022-04-09T11:02:35.787Z"
   },
   {
    "duration": 33,
    "start_time": "2022-04-09T11:02:35.834Z"
   },
   {
    "duration": 54,
    "start_time": "2022-04-09T11:02:35.868Z"
   },
   {
    "duration": 27,
    "start_time": "2022-04-09T11:02:35.923Z"
   },
   {
    "duration": 25,
    "start_time": "2022-04-09T11:02:35.952Z"
   },
   {
    "duration": 49,
    "start_time": "2022-04-09T11:02:35.979Z"
   },
   {
    "duration": 15,
    "start_time": "2022-04-09T11:02:36.029Z"
   },
   {
    "duration": 11,
    "start_time": "2022-04-09T11:02:36.045Z"
   },
   {
    "duration": 0,
    "start_time": "2022-04-09T11:02:36.058Z"
   },
   {
    "duration": 0,
    "start_time": "2022-04-09T11:02:36.059Z"
   },
   {
    "duration": 0,
    "start_time": "2022-04-09T11:02:36.060Z"
   },
   {
    "duration": 0,
    "start_time": "2022-04-09T11:02:36.061Z"
   },
   {
    "duration": 0,
    "start_time": "2022-04-09T11:02:36.062Z"
   },
   {
    "duration": 0,
    "start_time": "2022-04-09T11:02:36.063Z"
   },
   {
    "duration": 0,
    "start_time": "2022-04-09T11:02:36.064Z"
   },
   {
    "duration": 0,
    "start_time": "2022-04-09T11:02:36.065Z"
   },
   {
    "duration": 0,
    "start_time": "2022-04-09T11:02:36.066Z"
   },
   {
    "duration": 0,
    "start_time": "2022-04-09T11:02:36.067Z"
   },
   {
    "duration": 0,
    "start_time": "2022-04-09T11:02:36.068Z"
   },
   {
    "duration": 0,
    "start_time": "2022-04-09T11:02:36.069Z"
   },
   {
    "duration": 0,
    "start_time": "2022-04-09T11:02:36.070Z"
   },
   {
    "duration": 0,
    "start_time": "2022-04-09T11:02:36.070Z"
   },
   {
    "duration": 0,
    "start_time": "2022-04-09T11:02:36.071Z"
   },
   {
    "duration": 0,
    "start_time": "2022-04-09T11:02:36.071Z"
   },
   {
    "duration": 0,
    "start_time": "2022-04-09T11:02:36.072Z"
   },
   {
    "duration": 0,
    "start_time": "2022-04-09T11:02:36.102Z"
   },
   {
    "duration": 0,
    "start_time": "2022-04-09T11:02:36.103Z"
   },
   {
    "duration": 0,
    "start_time": "2022-04-09T11:02:36.104Z"
   },
   {
    "duration": 0,
    "start_time": "2022-04-09T11:02:36.105Z"
   },
   {
    "duration": 0,
    "start_time": "2022-04-09T11:02:36.106Z"
   },
   {
    "duration": 0,
    "start_time": "2022-04-09T11:02:36.107Z"
   },
   {
    "duration": 8,
    "start_time": "2022-04-09T11:02:42.726Z"
   },
   {
    "duration": 3,
    "start_time": "2022-04-09T11:02:56.274Z"
   },
   {
    "duration": 470,
    "start_time": "2022-04-09T11:02:57.770Z"
   },
   {
    "duration": 229,
    "start_time": "2022-04-09T11:03:03.738Z"
   },
   {
    "duration": 118,
    "start_time": "2022-04-09T11:03:07.662Z"
   },
   {
    "duration": 34,
    "start_time": "2022-04-09T11:03:11.114Z"
   },
   {
    "duration": 15,
    "start_time": "2022-04-09T11:03:33.874Z"
   },
   {
    "duration": 8,
    "start_time": "2022-04-09T11:03:34.610Z"
   },
   {
    "duration": 2,
    "start_time": "2022-04-09T11:03:56.586Z"
   },
   {
    "duration": 3,
    "start_time": "2022-04-09T11:03:59.202Z"
   },
   {
    "duration": 465,
    "start_time": "2022-04-09T11:03:59.206Z"
   },
   {
    "duration": 250,
    "start_time": "2022-04-09T11:03:59.672Z"
   },
   {
    "duration": 120,
    "start_time": "2022-04-09T11:03:59.924Z"
   },
   {
    "duration": 33,
    "start_time": "2022-04-09T11:04:00.046Z"
   },
   {
    "duration": 22,
    "start_time": "2022-04-09T11:04:00.080Z"
   },
   {
    "duration": 13,
    "start_time": "2022-04-09T11:04:00.104Z"
   },
   {
    "duration": 18,
    "start_time": "2022-04-09T11:04:00.119Z"
   },
   {
    "duration": 24,
    "start_time": "2022-04-09T11:04:00.139Z"
   },
   {
    "duration": 55,
    "start_time": "2022-04-09T11:04:00.165Z"
   },
   {
    "duration": 34,
    "start_time": "2022-04-09T11:04:00.221Z"
   },
   {
    "duration": 56,
    "start_time": "2022-04-09T11:04:00.257Z"
   },
   {
    "duration": 27,
    "start_time": "2022-04-09T11:04:00.315Z"
   },
   {
    "duration": 28,
    "start_time": "2022-04-09T11:04:00.344Z"
   },
   {
    "duration": 61,
    "start_time": "2022-04-09T11:04:00.374Z"
   },
   {
    "duration": 31,
    "start_time": "2022-04-09T11:04:00.437Z"
   },
   {
    "duration": 19,
    "start_time": "2022-04-09T11:04:00.469Z"
   },
   {
    "duration": 0,
    "start_time": "2022-04-09T11:04:00.490Z"
   },
   {
    "duration": 0,
    "start_time": "2022-04-09T11:04:00.491Z"
   },
   {
    "duration": 0,
    "start_time": "2022-04-09T11:04:00.492Z"
   },
   {
    "duration": 0,
    "start_time": "2022-04-09T11:04:00.493Z"
   },
   {
    "duration": 0,
    "start_time": "2022-04-09T11:04:00.494Z"
   },
   {
    "duration": 0,
    "start_time": "2022-04-09T11:04:00.495Z"
   },
   {
    "duration": 0,
    "start_time": "2022-04-09T11:04:00.496Z"
   },
   {
    "duration": 0,
    "start_time": "2022-04-09T11:04:00.498Z"
   },
   {
    "duration": 0,
    "start_time": "2022-04-09T11:04:00.498Z"
   },
   {
    "duration": 0,
    "start_time": "2022-04-09T11:04:00.501Z"
   },
   {
    "duration": 0,
    "start_time": "2022-04-09T11:04:00.502Z"
   },
   {
    "duration": 0,
    "start_time": "2022-04-09T11:04:00.503Z"
   },
   {
    "duration": 0,
    "start_time": "2022-04-09T11:04:00.503Z"
   },
   {
    "duration": 0,
    "start_time": "2022-04-09T11:04:00.505Z"
   },
   {
    "duration": 0,
    "start_time": "2022-04-09T11:04:00.506Z"
   },
   {
    "duration": 0,
    "start_time": "2022-04-09T11:04:00.507Z"
   },
   {
    "duration": 0,
    "start_time": "2022-04-09T11:04:00.507Z"
   },
   {
    "duration": 0,
    "start_time": "2022-04-09T11:04:00.508Z"
   },
   {
    "duration": 0,
    "start_time": "2022-04-09T11:04:00.509Z"
   },
   {
    "duration": 0,
    "start_time": "2022-04-09T11:04:00.510Z"
   },
   {
    "duration": 0,
    "start_time": "2022-04-09T11:04:00.511Z"
   },
   {
    "duration": 0,
    "start_time": "2022-04-09T11:04:00.513Z"
   },
   {
    "duration": 0,
    "start_time": "2022-04-09T11:04:00.514Z"
   },
   {
    "duration": 8,
    "start_time": "2022-04-09T11:04:32.654Z"
   },
   {
    "duration": 9,
    "start_time": "2022-04-09T11:04:36.890Z"
   },
   {
    "duration": 9,
    "start_time": "2022-04-09T11:05:13.305Z"
   },
   {
    "duration": 4,
    "start_time": "2022-04-09T11:05:14.382Z"
   },
   {
    "duration": 2,
    "start_time": "2022-04-09T11:05:31.559Z"
   },
   {
    "duration": 510,
    "start_time": "2022-04-09T11:05:31.563Z"
   },
   {
    "duration": 251,
    "start_time": "2022-04-09T11:05:32.074Z"
   },
   {
    "duration": 132,
    "start_time": "2022-04-09T11:05:32.327Z"
   },
   {
    "duration": 48,
    "start_time": "2022-04-09T11:05:32.461Z"
   },
   {
    "duration": 4,
    "start_time": "2022-04-09T11:05:32.511Z"
   },
   {
    "duration": 14,
    "start_time": "2022-04-09T11:05:32.517Z"
   },
   {
    "duration": 20,
    "start_time": "2022-04-09T11:05:32.532Z"
   },
   {
    "duration": 54,
    "start_time": "2022-04-09T11:05:32.555Z"
   },
   {
    "duration": 30,
    "start_time": "2022-04-09T11:05:32.611Z"
   },
   {
    "duration": 34,
    "start_time": "2022-04-09T11:05:32.642Z"
   },
   {
    "duration": 57,
    "start_time": "2022-04-09T11:05:32.678Z"
   },
   {
    "duration": 27,
    "start_time": "2022-04-09T11:05:32.737Z"
   },
   {
    "duration": 47,
    "start_time": "2022-04-09T11:05:32.765Z"
   },
   {
    "duration": 27,
    "start_time": "2022-04-09T11:05:32.813Z"
   },
   {
    "duration": 14,
    "start_time": "2022-04-09T11:05:32.842Z"
   },
   {
    "duration": 8,
    "start_time": "2022-04-09T11:05:32.857Z"
   },
   {
    "duration": 0,
    "start_time": "2022-04-09T11:05:32.867Z"
   },
   {
    "duration": 1,
    "start_time": "2022-04-09T11:05:32.867Z"
   },
   {
    "duration": 0,
    "start_time": "2022-04-09T11:05:32.869Z"
   },
   {
    "duration": 0,
    "start_time": "2022-04-09T11:05:32.870Z"
   },
   {
    "duration": 0,
    "start_time": "2022-04-09T11:05:32.901Z"
   },
   {
    "duration": 0,
    "start_time": "2022-04-09T11:05:32.903Z"
   },
   {
    "duration": 0,
    "start_time": "2022-04-09T11:05:32.904Z"
   },
   {
    "duration": 0,
    "start_time": "2022-04-09T11:05:32.905Z"
   },
   {
    "duration": 0,
    "start_time": "2022-04-09T11:05:32.906Z"
   },
   {
    "duration": 0,
    "start_time": "2022-04-09T11:05:32.907Z"
   },
   {
    "duration": 0,
    "start_time": "2022-04-09T11:05:32.908Z"
   },
   {
    "duration": 0,
    "start_time": "2022-04-09T11:05:32.909Z"
   },
   {
    "duration": 0,
    "start_time": "2022-04-09T11:05:32.910Z"
   },
   {
    "duration": 0,
    "start_time": "2022-04-09T11:05:32.911Z"
   },
   {
    "duration": 0,
    "start_time": "2022-04-09T11:05:32.913Z"
   },
   {
    "duration": 0,
    "start_time": "2022-04-09T11:05:32.914Z"
   },
   {
    "duration": 0,
    "start_time": "2022-04-09T11:05:32.914Z"
   },
   {
    "duration": 0,
    "start_time": "2022-04-09T11:05:32.915Z"
   },
   {
    "duration": 0,
    "start_time": "2022-04-09T11:05:32.916Z"
   },
   {
    "duration": 0,
    "start_time": "2022-04-09T11:05:32.918Z"
   },
   {
    "duration": 0,
    "start_time": "2022-04-09T11:05:32.919Z"
   },
   {
    "duration": 0,
    "start_time": "2022-04-09T11:05:32.920Z"
   },
   {
    "duration": 0,
    "start_time": "2022-04-09T11:05:32.921Z"
   },
   {
    "duration": 339,
    "start_time": "2022-04-09T11:08:28.807Z"
   },
   {
    "duration": 3,
    "start_time": "2022-04-09T11:08:42.080Z"
   },
   {
    "duration": 3,
    "start_time": "2022-04-09T11:08:45.560Z"
   },
   {
    "duration": 524,
    "start_time": "2022-04-09T11:08:45.564Z"
   },
   {
    "duration": 245,
    "start_time": "2022-04-09T11:08:46.090Z"
   },
   {
    "duration": 129,
    "start_time": "2022-04-09T11:08:46.337Z"
   },
   {
    "duration": 40,
    "start_time": "2022-04-09T11:08:46.468Z"
   },
   {
    "duration": 3,
    "start_time": "2022-04-09T11:08:46.510Z"
   },
   {
    "duration": 13,
    "start_time": "2022-04-09T11:08:46.514Z"
   },
   {
    "duration": 18,
    "start_time": "2022-04-09T11:08:46.529Z"
   },
   {
    "duration": 54,
    "start_time": "2022-04-09T11:08:46.548Z"
   },
   {
    "duration": 32,
    "start_time": "2022-04-09T11:08:46.604Z"
   },
   {
    "duration": 38,
    "start_time": "2022-04-09T11:08:46.638Z"
   },
   {
    "duration": 57,
    "start_time": "2022-04-09T11:08:46.678Z"
   },
   {
    "duration": 28,
    "start_time": "2022-04-09T11:08:46.737Z"
   },
   {
    "duration": 43,
    "start_time": "2022-04-09T11:08:46.767Z"
   },
   {
    "duration": 28,
    "start_time": "2022-04-09T11:08:46.812Z"
   },
   {
    "duration": 15,
    "start_time": "2022-04-09T11:08:46.842Z"
   },
   {
    "duration": 8,
    "start_time": "2022-04-09T11:08:46.859Z"
   },
   {
    "duration": 0,
    "start_time": "2022-04-09T11:08:46.870Z"
   },
   {
    "duration": 0,
    "start_time": "2022-04-09T11:08:46.871Z"
   },
   {
    "duration": 0,
    "start_time": "2022-04-09T11:08:46.901Z"
   },
   {
    "duration": 0,
    "start_time": "2022-04-09T11:08:46.902Z"
   },
   {
    "duration": 0,
    "start_time": "2022-04-09T11:08:46.904Z"
   },
   {
    "duration": 0,
    "start_time": "2022-04-09T11:08:46.905Z"
   },
   {
    "duration": 1,
    "start_time": "2022-04-09T11:08:46.905Z"
   },
   {
    "duration": 0,
    "start_time": "2022-04-09T11:08:46.907Z"
   },
   {
    "duration": 0,
    "start_time": "2022-04-09T11:08:46.908Z"
   },
   {
    "duration": 0,
    "start_time": "2022-04-09T11:08:46.909Z"
   },
   {
    "duration": 0,
    "start_time": "2022-04-09T11:08:46.910Z"
   },
   {
    "duration": 0,
    "start_time": "2022-04-09T11:08:46.911Z"
   },
   {
    "duration": 0,
    "start_time": "2022-04-09T11:08:46.911Z"
   },
   {
    "duration": 0,
    "start_time": "2022-04-09T11:08:46.912Z"
   },
   {
    "duration": 0,
    "start_time": "2022-04-09T11:08:46.913Z"
   },
   {
    "duration": 0,
    "start_time": "2022-04-09T11:08:46.914Z"
   },
   {
    "duration": 0,
    "start_time": "2022-04-09T11:08:46.915Z"
   },
   {
    "duration": 0,
    "start_time": "2022-04-09T11:08:46.916Z"
   },
   {
    "duration": 0,
    "start_time": "2022-04-09T11:08:46.917Z"
   },
   {
    "duration": 0,
    "start_time": "2022-04-09T11:08:46.918Z"
   },
   {
    "duration": 0,
    "start_time": "2022-04-09T11:08:46.919Z"
   },
   {
    "duration": 0,
    "start_time": "2022-04-09T11:08:46.920Z"
   },
   {
    "duration": 0,
    "start_time": "2022-04-09T11:08:46.921Z"
   },
   {
    "duration": 10,
    "start_time": "2022-04-09T11:08:54.709Z"
   },
   {
    "duration": 10,
    "start_time": "2022-04-09T11:37:37.549Z"
   },
   {
    "duration": 5,
    "start_time": "2022-04-09T11:37:50.094Z"
   },
   {
    "duration": 110,
    "start_time": "2022-04-09T11:37:57.978Z"
   },
   {
    "duration": 8,
    "start_time": "2022-04-09T11:39:46.870Z"
   },
   {
    "duration": 5,
    "start_time": "2022-04-09T11:39:52.344Z"
   },
   {
    "duration": 5,
    "start_time": "2022-04-09T11:39:53.221Z"
   },
   {
    "duration": 4,
    "start_time": "2022-04-09T11:39:54.093Z"
   },
   {
    "duration": 227,
    "start_time": "2022-04-09T11:39:55.107Z"
   },
   {
    "duration": 20,
    "start_time": "2022-04-09T11:40:00.203Z"
   },
   {
    "duration": 4,
    "start_time": "2022-04-09T11:40:01.071Z"
   },
   {
    "duration": 9,
    "start_time": "2022-04-09T11:40:02.086Z"
   },
   {
    "duration": 6,
    "start_time": "2022-04-09T11:40:02.911Z"
   },
   {
    "duration": 7,
    "start_time": "2022-04-09T11:40:03.738Z"
   },
   {
    "duration": 8,
    "start_time": "2022-04-09T11:40:04.598Z"
   },
   {
    "duration": 6,
    "start_time": "2022-04-09T11:40:05.439Z"
   },
   {
    "duration": 6,
    "start_time": "2022-04-09T11:40:06.264Z"
   },
   {
    "duration": 13,
    "start_time": "2022-04-09T11:40:07.031Z"
   },
   {
    "duration": 3,
    "start_time": "2022-04-09T11:40:09.421Z"
   },
   {
    "duration": 787,
    "start_time": "2022-04-09T11:40:10.735Z"
   },
   {
    "duration": 6,
    "start_time": "2022-04-09T11:40:19.983Z"
   },
   {
    "duration": 6,
    "start_time": "2022-04-09T11:40:20.767Z"
   },
   {
    "duration": 5,
    "start_time": "2022-04-09T11:40:21.510Z"
   },
   {
    "duration": 23,
    "start_time": "2022-04-09T11:41:00.551Z"
   },
   {
    "duration": 21,
    "start_time": "2022-04-09T11:41:01.326Z"
   },
   {
    "duration": 13,
    "start_time": "2022-04-09T11:41:02.087Z"
   },
   {
    "duration": 10,
    "start_time": "2022-04-09T11:41:02.779Z"
   },
   {
    "duration": 6,
    "start_time": "2022-04-09T11:41:03.774Z"
   },
   {
    "duration": 114,
    "start_time": "2022-04-09T11:46:53.675Z"
   },
   {
    "duration": 13,
    "start_time": "2022-04-09T11:47:54.331Z"
   },
   {
    "duration": 8,
    "start_time": "2022-04-09T11:48:25.802Z"
   },
   {
    "duration": 5,
    "start_time": "2022-04-09T11:48:29.843Z"
   },
   {
    "duration": 8,
    "start_time": "2022-04-09T11:48:47.031Z"
   },
   {
    "duration": 30,
    "start_time": "2022-04-09T11:48:59.167Z"
   },
   {
    "duration": 140,
    "start_time": "2022-04-09T11:50:32.039Z"
   },
   {
    "duration": 4,
    "start_time": "2022-04-09T12:08:02.245Z"
   },
   {
    "duration": 32,
    "start_time": "2022-04-09T12:08:22.509Z"
   },
   {
    "duration": 11,
    "start_time": "2022-04-09T12:09:51.577Z"
   },
   {
    "duration": 194,
    "start_time": "2022-04-09T12:10:31.330Z"
   },
   {
    "duration": 11,
    "start_time": "2022-04-09T12:10:49.566Z"
   },
   {
    "duration": 134,
    "start_time": "2022-04-09T12:11:55.644Z"
   },
   {
    "duration": 57,
    "start_time": "2022-04-09T12:12:48.162Z"
   },
   {
    "duration": 39,
    "start_time": "2022-04-09T12:13:18.745Z"
   },
   {
    "duration": 123,
    "start_time": "2022-04-09T12:13:22.646Z"
   },
   {
    "duration": 36,
    "start_time": "2022-04-09T12:13:23.794Z"
   },
   {
    "duration": 24,
    "start_time": "2022-04-09T12:13:32.078Z"
   },
   {
    "duration": 14,
    "start_time": "2022-04-09T12:13:55.982Z"
   },
   {
    "duration": 29,
    "start_time": "2022-04-09T12:14:09.534Z"
   },
   {
    "duration": 103,
    "start_time": "2022-04-09T12:15:39.146Z"
   },
   {
    "duration": 58,
    "start_time": "2022-04-09T12:16:57.094Z"
   },
   {
    "duration": 52,
    "start_time": "2022-04-09T12:17:13.446Z"
   },
   {
    "duration": 25,
    "start_time": "2022-04-09T12:17:33.910Z"
   },
   {
    "duration": 9,
    "start_time": "2022-04-09T12:17:51.494Z"
   },
   {
    "duration": 170,
    "start_time": "2022-04-09T12:19:54.074Z"
   },
   {
    "duration": 118,
    "start_time": "2022-04-09T12:21:01.765Z"
   },
   {
    "duration": 19,
    "start_time": "2022-04-09T12:21:19.427Z"
   },
   {
    "duration": 44,
    "start_time": "2022-04-09T12:21:42.526Z"
   },
   {
    "duration": 13,
    "start_time": "2022-04-09T12:22:01.423Z"
   },
   {
    "duration": 52,
    "start_time": "2022-04-09T12:23:18.471Z"
   },
   {
    "duration": 19,
    "start_time": "2022-04-09T12:25:19.059Z"
   },
   {
    "duration": 18,
    "start_time": "2022-04-09T12:25:31.997Z"
   },
   {
    "duration": 25,
    "start_time": "2022-04-09T12:27:07.495Z"
   },
   {
    "duration": 21,
    "start_time": "2022-04-09T12:27:41.786Z"
   },
   {
    "duration": 24,
    "start_time": "2022-04-09T12:28:17.226Z"
   },
   {
    "duration": 9,
    "start_time": "2022-04-09T12:28:52.331Z"
   },
   {
    "duration": 19,
    "start_time": "2022-04-09T12:29:05.259Z"
   },
   {
    "duration": 8,
    "start_time": "2022-04-09T12:30:48.622Z"
   },
   {
    "duration": 65,
    "start_time": "2022-04-09T12:31:22.495Z"
   },
   {
    "duration": 19,
    "start_time": "2022-04-09T12:31:39.643Z"
   },
   {
    "duration": 8,
    "start_time": "2022-04-09T12:33:03.919Z"
   },
   {
    "duration": 3,
    "start_time": "2022-04-09T12:33:23.744Z"
   },
   {
    "duration": 27,
    "start_time": "2022-04-09T12:33:45.424Z"
   },
   {
    "duration": 7,
    "start_time": "2022-04-09T12:34:00.368Z"
   },
   {
    "duration": 5,
    "start_time": "2022-04-09T12:34:11.915Z"
   },
   {
    "duration": 9,
    "start_time": "2022-04-09T12:34:43.031Z"
   },
   {
    "duration": 7,
    "start_time": "2022-04-09T12:35:13.405Z"
   },
   {
    "duration": 318,
    "start_time": "2022-04-09T12:35:34.663Z"
   },
   {
    "duration": 216,
    "start_time": "2022-04-09T12:36:45.547Z"
   },
   {
    "duration": 6,
    "start_time": "2022-04-09T12:37:12.967Z"
   },
   {
    "duration": 6,
    "start_time": "2022-04-09T12:38:15.227Z"
   },
   {
    "duration": 173,
    "start_time": "2022-04-09T12:38:28.508Z"
   },
   {
    "duration": 6,
    "start_time": "2022-04-09T12:39:11.267Z"
   },
   {
    "duration": 9,
    "start_time": "2022-04-09T12:40:01.499Z"
   },
   {
    "duration": 27,
    "start_time": "2022-04-09T12:40:15.146Z"
   },
   {
    "duration": 7,
    "start_time": "2022-04-09T12:40:31.112Z"
   },
   {
    "duration": 4,
    "start_time": "2022-04-09T12:40:56.932Z"
   },
   {
    "duration": 7,
    "start_time": "2022-04-09T12:41:25.447Z"
   },
   {
    "duration": 4,
    "start_time": "2022-04-09T12:41:52.579Z"
   },
   {
    "duration": 5,
    "start_time": "2022-04-09T12:42:54.463Z"
   },
   {
    "duration": 192,
    "start_time": "2022-04-09T12:43:11.568Z"
   },
   {
    "duration": 11,
    "start_time": "2022-04-09T12:44:16.223Z"
   },
   {
    "duration": 10,
    "start_time": "2022-04-09T12:45:12.648Z"
   },
   {
    "duration": 6,
    "start_time": "2022-04-09T12:45:57.727Z"
   },
   {
    "duration": 189,
    "start_time": "2022-04-09T12:46:09.016Z"
   },
   {
    "duration": 10,
    "start_time": "2022-04-09T12:46:46.876Z"
   },
   {
    "duration": 10,
    "start_time": "2022-04-09T12:47:17.760Z"
   },
   {
    "duration": 6,
    "start_time": "2022-04-09T12:48:02.721Z"
   },
   {
    "duration": 191,
    "start_time": "2022-04-09T12:48:14.524Z"
   },
   {
    "duration": 14,
    "start_time": "2022-04-09T12:48:39.751Z"
   },
   {
    "duration": 13,
    "start_time": "2022-04-09T12:49:10.164Z"
   },
   {
    "duration": 5,
    "start_time": "2022-04-09T12:51:36.396Z"
   },
   {
    "duration": 9,
    "start_time": "2022-04-09T12:52:37.401Z"
   },
   {
    "duration": 5,
    "start_time": "2022-04-09T12:52:51.537Z"
   },
   {
    "duration": 25,
    "start_time": "2022-04-09T12:53:35.031Z"
   },
   {
    "duration": 26,
    "start_time": "2022-04-09T12:53:49.972Z"
   },
   {
    "duration": 6,
    "start_time": "2022-04-09T12:54:12.056Z"
   },
   {
    "duration": 1157,
    "start_time": "2022-04-10T11:09:47.999Z"
   },
   {
    "duration": 18,
    "start_time": "2022-04-10T11:09:49.158Z"
   },
   {
    "duration": 12,
    "start_time": "2022-04-10T11:09:49.178Z"
   },
   {
    "duration": 201,
    "start_time": "2022-04-10T11:09:49.193Z"
   },
   {
    "duration": 22,
    "start_time": "2022-04-10T11:09:49.395Z"
   },
   {
    "duration": 144,
    "start_time": "2022-04-10T11:09:49.420Z"
   },
   {
    "duration": 70,
    "start_time": "2022-04-10T11:09:49.566Z"
   },
   {
    "duration": 25,
    "start_time": "2022-04-10T11:09:49.637Z"
   },
   {
    "duration": 16,
    "start_time": "2022-04-10T11:09:49.664Z"
   },
   {
    "duration": 50,
    "start_time": "2022-04-10T11:09:49.682Z"
   },
   {
    "duration": 114,
    "start_time": "2022-04-10T11:09:49.734Z"
   },
   {
    "duration": 65,
    "start_time": "2022-04-10T11:09:49.850Z"
   },
   {
    "duration": 49,
    "start_time": "2022-04-10T11:09:49.917Z"
   },
   {
    "duration": 49,
    "start_time": "2022-04-10T11:09:49.968Z"
   },
   {
    "duration": 7,
    "start_time": "2022-04-10T11:09:50.019Z"
   },
   {
    "duration": 149,
    "start_time": "2022-04-10T11:09:50.027Z"
   },
   {
    "duration": 121,
    "start_time": "2022-04-10T11:09:50.178Z"
   },
   {
    "duration": 17,
    "start_time": "2022-04-10T11:09:50.301Z"
   },
   {
    "duration": 28,
    "start_time": "2022-04-10T11:09:50.319Z"
   },
   {
    "duration": 8,
    "start_time": "2022-04-10T11:09:50.349Z"
   },
   {
    "duration": 29,
    "start_time": "2022-04-10T11:09:50.359Z"
   },
   {
    "duration": 33,
    "start_time": "2022-04-10T11:09:50.389Z"
   },
   {
    "duration": 19,
    "start_time": "2022-04-10T11:09:50.424Z"
   },
   {
    "duration": 21,
    "start_time": "2022-04-10T11:09:50.444Z"
   },
   {
    "duration": 55,
    "start_time": "2022-04-10T11:09:50.466Z"
   },
   {
    "duration": 9,
    "start_time": "2022-04-10T11:09:50.523Z"
   },
   {
    "duration": 15,
    "start_time": "2022-04-10T11:09:50.533Z"
   },
   {
    "duration": 8,
    "start_time": "2022-04-10T11:09:50.552Z"
   },
   {
    "duration": 82,
    "start_time": "2022-04-10T11:09:50.561Z"
   },
   {
    "duration": 16,
    "start_time": "2022-04-10T11:09:50.645Z"
   },
   {
    "duration": 7,
    "start_time": "2022-04-10T11:09:50.663Z"
   },
   {
    "duration": 49,
    "start_time": "2022-04-10T11:09:50.672Z"
   },
   {
    "duration": 6,
    "start_time": "2022-04-10T11:09:50.722Z"
   },
   {
    "duration": 12,
    "start_time": "2022-04-10T11:09:50.730Z"
   },
   {
    "duration": 11,
    "start_time": "2022-04-10T11:09:50.743Z"
   },
   {
    "duration": 14,
    "start_time": "2022-04-10T11:09:50.755Z"
   },
   {
    "duration": 221,
    "start_time": "2022-04-10T11:09:50.771Z"
   },
   {
    "duration": 196,
    "start_time": "2022-04-10T11:09:50.994Z"
   },
   {
    "duration": 5,
    "start_time": "2022-04-10T11:09:51.192Z"
   },
   {
    "duration": 5,
    "start_time": "2022-04-10T11:09:51.208Z"
   },
   {
    "duration": 160,
    "start_time": "2022-04-10T11:09:51.214Z"
   },
   {
    "duration": 4,
    "start_time": "2022-04-10T11:09:51.376Z"
   },
   {
    "duration": 36,
    "start_time": "2022-04-10T11:09:51.382Z"
   },
   {
    "duration": 27,
    "start_time": "2022-04-10T11:09:51.420Z"
   },
   {
    "duration": 6,
    "start_time": "2022-04-10T11:09:51.448Z"
   },
   {
    "duration": 5,
    "start_time": "2022-04-10T11:09:51.455Z"
   },
   {
    "duration": 10,
    "start_time": "2022-04-10T11:09:51.462Z"
   },
   {
    "duration": 5,
    "start_time": "2022-04-10T11:09:51.473Z"
   },
   {
    "duration": 6,
    "start_time": "2022-04-10T11:09:51.479Z"
   },
   {
    "duration": 180,
    "start_time": "2022-04-10T11:09:51.508Z"
   },
   {
    "duration": 19,
    "start_time": "2022-04-10T11:09:51.690Z"
   },
   {
    "duration": 9,
    "start_time": "2022-04-10T11:09:51.711Z"
   },
   {
    "duration": 4,
    "start_time": "2022-04-10T11:09:51.722Z"
   },
   {
    "duration": 191,
    "start_time": "2022-04-10T11:09:51.728Z"
   },
   {
    "duration": 9,
    "start_time": "2022-04-10T11:09:51.920Z"
   },
   {
    "duration": 16,
    "start_time": "2022-04-10T11:09:51.931Z"
   },
   {
    "duration": 5,
    "start_time": "2022-04-10T11:09:51.948Z"
   },
   {
    "duration": 179,
    "start_time": "2022-04-10T11:09:51.954Z"
   },
   {
    "duration": 10,
    "start_time": "2022-04-10T11:09:52.134Z"
   },
   {
    "duration": 9,
    "start_time": "2022-04-10T11:09:52.145Z"
   },
   {
    "duration": 121,
    "start_time": "2022-04-10T11:09:52.156Z"
   },
   {
    "duration": 0,
    "start_time": "2022-04-10T11:09:52.278Z"
   },
   {
    "duration": 0,
    "start_time": "2022-04-10T11:09:52.280Z"
   },
   {
    "duration": 0,
    "start_time": "2022-04-10T11:09:52.281Z"
   },
   {
    "duration": 0,
    "start_time": "2022-04-10T11:09:52.282Z"
   },
   {
    "duration": 0,
    "start_time": "2022-04-10T11:09:52.283Z"
   },
   {
    "duration": 12,
    "start_time": "2022-04-10T11:16:31.986Z"
   },
   {
    "duration": 39,
    "start_time": "2022-04-10T11:16:56.049Z"
   },
   {
    "duration": 48,
    "start_time": "2022-04-11T16:59:14.129Z"
   },
   {
    "duration": 7,
    "start_time": "2022-04-11T16:59:51.811Z"
   },
   {
    "duration": 8,
    "start_time": "2022-04-11T17:02:17.730Z"
   },
   {
    "duration": 1338,
    "start_time": "2022-04-11T17:03:57.489Z"
   },
   {
    "duration": 4,
    "start_time": "2022-04-11T17:04:00.633Z"
   },
   {
    "duration": 41,
    "start_time": "2022-04-11T17:04:00.640Z"
   },
   {
    "duration": 12,
    "start_time": "2022-04-11T17:04:00.683Z"
   },
   {
    "duration": 279,
    "start_time": "2022-04-11T17:04:00.696Z"
   },
   {
    "duration": 12,
    "start_time": "2022-04-11T17:04:00.977Z"
   },
   {
    "duration": 167,
    "start_time": "2022-04-11T17:04:00.991Z"
   },
   {
    "duration": 64,
    "start_time": "2022-04-11T17:04:01.160Z"
   },
   {
    "duration": 25,
    "start_time": "2022-04-11T17:04:01.226Z"
   },
   {
    "duration": 31,
    "start_time": "2022-04-11T17:04:01.253Z"
   },
   {
    "duration": 32,
    "start_time": "2022-04-11T17:04:01.286Z"
   },
   {
    "duration": 120,
    "start_time": "2022-04-11T17:04:01.321Z"
   },
   {
    "duration": 86,
    "start_time": "2022-04-11T17:04:01.443Z"
   },
   {
    "duration": 59,
    "start_time": "2022-04-11T17:04:01.531Z"
   },
   {
    "duration": 33,
    "start_time": "2022-04-11T17:04:01.592Z"
   },
   {
    "duration": 8,
    "start_time": "2022-04-11T17:04:01.627Z"
   },
   {
    "duration": 191,
    "start_time": "2022-04-11T17:04:01.636Z"
   },
   {
    "duration": 145,
    "start_time": "2022-04-11T17:04:01.829Z"
   },
   {
    "duration": 16,
    "start_time": "2022-04-11T17:04:01.976Z"
   },
   {
    "duration": 34,
    "start_time": "2022-04-11T17:04:01.994Z"
   },
   {
    "duration": 9,
    "start_time": "2022-04-11T17:04:02.030Z"
   },
   {
    "duration": 37,
    "start_time": "2022-04-11T17:04:02.074Z"
   },
   {
    "duration": 18,
    "start_time": "2022-04-11T17:04:02.112Z"
   },
   {
    "duration": 24,
    "start_time": "2022-04-11T17:04:02.132Z"
   },
   {
    "duration": 38,
    "start_time": "2022-04-11T17:04:02.157Z"
   },
   {
    "duration": 23,
    "start_time": "2022-04-11T17:04:02.197Z"
   },
   {
    "duration": 9,
    "start_time": "2022-04-11T17:04:02.222Z"
   },
   {
    "duration": 47,
    "start_time": "2022-04-11T17:04:02.233Z"
   },
   {
    "duration": 9,
    "start_time": "2022-04-11T17:04:02.282Z"
   },
   {
    "duration": 53,
    "start_time": "2022-04-11T17:04:02.295Z"
   },
   {
    "duration": 39,
    "start_time": "2022-04-11T17:04:02.350Z"
   },
   {
    "duration": 8,
    "start_time": "2022-04-11T17:04:02.391Z"
   },
   {
    "duration": 31,
    "start_time": "2022-04-11T17:04:02.400Z"
   },
   {
    "duration": 7,
    "start_time": "2022-04-11T17:04:02.433Z"
   },
   {
    "duration": 35,
    "start_time": "2022-04-11T17:04:02.441Z"
   },
   {
    "duration": 16,
    "start_time": "2022-04-11T17:04:02.477Z"
   },
   {
    "duration": 8,
    "start_time": "2022-04-11T17:04:02.494Z"
   },
   {
    "duration": 222,
    "start_time": "2022-04-11T17:04:02.504Z"
   },
   {
    "duration": 199,
    "start_time": "2022-04-11T17:04:02.728Z"
   },
   {
    "duration": 5,
    "start_time": "2022-04-11T17:04:02.929Z"
   },
   {
    "duration": 13,
    "start_time": "2022-04-11T17:04:02.935Z"
   },
   {
    "duration": 164,
    "start_time": "2022-04-11T17:04:02.949Z"
   },
   {
    "duration": 6,
    "start_time": "2022-04-11T17:04:03.114Z"
   },
   {
    "duration": 13,
    "start_time": "2022-04-11T17:04:03.121Z"
   },
   {
    "duration": 44,
    "start_time": "2022-04-11T17:04:03.136Z"
   },
   {
    "duration": 6,
    "start_time": "2022-04-11T17:04:03.182Z"
   },
   {
    "duration": 11,
    "start_time": "2022-04-11T17:04:03.190Z"
   },
   {
    "duration": 12,
    "start_time": "2022-04-11T17:04:03.202Z"
   },
   {
    "duration": 10,
    "start_time": "2022-04-11T17:04:03.216Z"
   },
   {
    "duration": 13,
    "start_time": "2022-04-11T17:04:03.228Z"
   },
   {
    "duration": 181,
    "start_time": "2022-04-11T17:04:03.243Z"
   },
   {
    "duration": 10,
    "start_time": "2022-04-11T17:04:03.426Z"
   },
   {
    "duration": 15,
    "start_time": "2022-04-11T17:04:03.437Z"
   },
   {
    "duration": 23,
    "start_time": "2022-04-11T17:04:03.453Z"
   },
   {
    "duration": 176,
    "start_time": "2022-04-11T17:04:03.477Z"
   },
   {
    "duration": 19,
    "start_time": "2022-04-11T17:04:03.655Z"
   },
   {
    "duration": 13,
    "start_time": "2022-04-11T17:04:03.676Z"
   },
   {
    "duration": 8,
    "start_time": "2022-04-11T17:04:03.690Z"
   },
   {
    "duration": 179,
    "start_time": "2022-04-11T17:04:03.699Z"
   },
   {
    "duration": 10,
    "start_time": "2022-04-11T17:04:03.880Z"
   },
   {
    "duration": 20,
    "start_time": "2022-04-11T17:04:03.892Z"
   },
   {
    "duration": 40,
    "start_time": "2022-04-11T17:04:03.914Z"
   },
   {
    "duration": 21,
    "start_time": "2022-04-11T17:04:03.956Z"
   },
   {
    "duration": 33,
    "start_time": "2022-04-11T17:04:03.979Z"
   },
   {
    "duration": 32,
    "start_time": "2022-04-11T17:04:04.014Z"
   },
   {
    "duration": 42,
    "start_time": "2022-04-11T17:04:04.049Z"
   },
   {
    "duration": 27,
    "start_time": "2022-04-11T17:04:04.092Z"
   },
   {
    "duration": 6,
    "start_time": "2022-04-11T17:04:04.122Z"
   },
   {
    "duration": 5,
    "start_time": "2022-04-11T17:04:12.173Z"
   },
   {
    "duration": 11,
    "start_time": "2022-04-11T17:04:15.929Z"
   },
   {
    "duration": 8,
    "start_time": "2022-04-11T17:04:17.894Z"
   },
   {
    "duration": 28,
    "start_time": "2022-04-11T17:04:23.145Z"
   },
   {
    "duration": 25,
    "start_time": "2022-04-11T17:04:25.389Z"
   },
   {
    "duration": 5,
    "start_time": "2022-04-11T17:04:26.453Z"
   },
   {
    "duration": 1468,
    "start_time": "2022-04-11T17:30:26.876Z"
   },
   {
    "duration": 4,
    "start_time": "2022-04-11T17:30:38.359Z"
   },
   {
    "duration": 28,
    "start_time": "2022-04-11T17:30:38.365Z"
   },
   {
    "duration": 11,
    "start_time": "2022-04-11T17:30:38.395Z"
   },
   {
    "duration": 230,
    "start_time": "2022-04-11T17:30:38.408Z"
   },
   {
    "duration": 36,
    "start_time": "2022-04-11T17:30:38.640Z"
   },
   {
    "duration": 160,
    "start_time": "2022-04-11T17:30:38.677Z"
   },
   {
    "duration": 66,
    "start_time": "2022-04-11T17:30:38.839Z"
   },
   {
    "duration": 29,
    "start_time": "2022-04-11T17:30:38.906Z"
   },
   {
    "duration": 35,
    "start_time": "2022-04-11T17:30:38.938Z"
   },
   {
    "duration": 29,
    "start_time": "2022-04-11T17:30:38.975Z"
   },
   {
    "duration": 116,
    "start_time": "2022-04-11T17:30:39.005Z"
   },
   {
    "duration": 71,
    "start_time": "2022-04-11T17:30:39.122Z"
   },
   {
    "duration": 47,
    "start_time": "2022-04-11T17:30:39.195Z"
   },
   {
    "duration": 48,
    "start_time": "2022-04-11T17:30:39.243Z"
   },
   {
    "duration": 8,
    "start_time": "2022-04-11T17:30:39.293Z"
   },
   {
    "duration": 986,
    "start_time": "2022-04-11T17:30:39.303Z"
   },
   {
    "duration": 121,
    "start_time": "2022-04-11T17:30:40.291Z"
   },
   {
    "duration": 15,
    "start_time": "2022-04-11T17:30:40.414Z"
   },
   {
    "duration": 45,
    "start_time": "2022-04-11T17:30:40.430Z"
   },
   {
    "duration": 8,
    "start_time": "2022-04-11T17:30:40.476Z"
   },
   {
    "duration": 48,
    "start_time": "2022-04-11T17:30:40.486Z"
   },
   {
    "duration": 16,
    "start_time": "2022-04-11T17:30:40.536Z"
   },
   {
    "duration": 25,
    "start_time": "2022-04-11T17:30:40.553Z"
   },
   {
    "duration": 20,
    "start_time": "2022-04-11T17:30:40.581Z"
   },
   {
    "duration": 22,
    "start_time": "2022-04-11T17:30:40.603Z"
   },
   {
    "duration": 25,
    "start_time": "2022-04-11T17:30:40.627Z"
   },
   {
    "duration": 40,
    "start_time": "2022-04-11T17:30:40.654Z"
   },
   {
    "duration": 11,
    "start_time": "2022-04-11T17:30:40.696Z"
   },
   {
    "duration": 74,
    "start_time": "2022-04-11T17:30:40.709Z"
   },
   {
    "duration": 19,
    "start_time": "2022-04-11T17:30:40.785Z"
   },
   {
    "duration": 8,
    "start_time": "2022-04-11T17:30:40.806Z"
   },
   {
    "duration": 26,
    "start_time": "2022-04-11T17:30:40.816Z"
   },
   {
    "duration": 34,
    "start_time": "2022-04-11T17:30:40.844Z"
   },
   {
    "duration": 8,
    "start_time": "2022-04-11T17:30:40.879Z"
   },
   {
    "duration": 9,
    "start_time": "2022-04-11T17:30:40.889Z"
   },
   {
    "duration": 8,
    "start_time": "2022-04-11T17:30:40.900Z"
   },
   {
    "duration": 320,
    "start_time": "2022-04-11T17:30:40.910Z"
   },
   {
    "duration": 189,
    "start_time": "2022-04-11T17:30:41.232Z"
   },
   {
    "duration": 4,
    "start_time": "2022-04-11T17:30:41.423Z"
   },
   {
    "duration": 24,
    "start_time": "2022-04-11T17:30:41.429Z"
   },
   {
    "duration": 170,
    "start_time": "2022-04-11T17:30:41.455Z"
   },
   {
    "duration": 5,
    "start_time": "2022-04-11T17:30:41.627Z"
   },
   {
    "duration": 10,
    "start_time": "2022-04-11T17:30:41.634Z"
   },
   {
    "duration": 42,
    "start_time": "2022-04-11T17:30:41.646Z"
   },
   {
    "duration": 7,
    "start_time": "2022-04-11T17:30:41.690Z"
   },
   {
    "duration": 7,
    "start_time": "2022-04-11T17:30:41.698Z"
   },
   {
    "duration": 17,
    "start_time": "2022-04-11T17:30:41.707Z"
   },
   {
    "duration": 6,
    "start_time": "2022-04-11T17:30:41.725Z"
   },
   {
    "duration": 7,
    "start_time": "2022-04-11T17:30:41.733Z"
   },
   {
    "duration": 188,
    "start_time": "2022-04-11T17:30:41.741Z"
   },
   {
    "duration": 10,
    "start_time": "2022-04-11T17:30:41.931Z"
   },
   {
    "duration": 10,
    "start_time": "2022-04-11T17:30:41.943Z"
   },
   {
    "duration": 5,
    "start_time": "2022-04-11T17:30:41.974Z"
   },
   {
    "duration": 174,
    "start_time": "2022-04-11T17:30:41.981Z"
   },
   {
    "duration": 20,
    "start_time": "2022-04-11T17:30:42.158Z"
   },
   {
    "duration": 14,
    "start_time": "2022-04-11T17:30:42.180Z"
   },
   {
    "duration": 7,
    "start_time": "2022-04-11T17:30:42.196Z"
   },
   {
    "duration": 185,
    "start_time": "2022-04-11T17:30:42.205Z"
   },
   {
    "duration": 10,
    "start_time": "2022-04-11T17:30:42.392Z"
   },
   {
    "duration": 19,
    "start_time": "2022-04-11T17:30:42.404Z"
   },
   {
    "duration": 55,
    "start_time": "2022-04-11T17:30:42.425Z"
   },
   {
    "duration": 7,
    "start_time": "2022-04-11T17:30:42.482Z"
   },
   {
    "duration": 22,
    "start_time": "2022-04-11T17:30:42.491Z"
   },
   {
    "duration": 17,
    "start_time": "2022-04-11T17:30:42.516Z"
   },
   {
    "duration": 57,
    "start_time": "2022-04-11T17:30:42.536Z"
   },
   {
    "duration": 30,
    "start_time": "2022-04-11T17:30:42.595Z"
   },
   {
    "duration": 5,
    "start_time": "2022-04-11T17:30:42.627Z"
   },
   {
    "duration": 1426,
    "start_time": "2022-04-11T17:33:15.648Z"
   },
   {
    "duration": 3,
    "start_time": "2022-04-11T17:33:20.955Z"
   },
   {
    "duration": 26,
    "start_time": "2022-04-11T17:33:20.960Z"
   },
   {
    "duration": 13,
    "start_time": "2022-04-11T17:33:20.988Z"
   },
   {
    "duration": 274,
    "start_time": "2022-04-11T17:33:21.002Z"
   },
   {
    "duration": 12,
    "start_time": "2022-04-11T17:33:21.278Z"
   },
   {
    "duration": 151,
    "start_time": "2022-04-11T17:33:21.292Z"
   },
   {
    "duration": 71,
    "start_time": "2022-04-11T17:33:21.445Z"
   },
   {
    "duration": 24,
    "start_time": "2022-04-11T17:33:21.518Z"
   },
   {
    "duration": 32,
    "start_time": "2022-04-11T17:33:21.544Z"
   },
   {
    "duration": 29,
    "start_time": "2022-04-11T17:33:21.578Z"
   },
   {
    "duration": 123,
    "start_time": "2022-04-11T17:33:21.609Z"
   },
   {
    "duration": 83,
    "start_time": "2022-04-11T17:33:21.734Z"
   },
   {
    "duration": 65,
    "start_time": "2022-04-11T17:33:21.819Z"
   },
   {
    "duration": 28,
    "start_time": "2022-04-11T17:33:21.886Z"
   },
   {
    "duration": 8,
    "start_time": "2022-04-11T17:33:21.916Z"
   },
   {
    "duration": 176,
    "start_time": "2022-04-11T17:33:21.926Z"
   },
   {
    "duration": 137,
    "start_time": "2022-04-11T17:33:22.105Z"
   },
   {
    "duration": 16,
    "start_time": "2022-04-11T17:33:22.243Z"
   },
   {
    "duration": 39,
    "start_time": "2022-04-11T17:33:22.260Z"
   },
   {
    "duration": 8,
    "start_time": "2022-04-11T17:33:22.301Z"
   },
   {
    "duration": 45,
    "start_time": "2022-04-11T17:33:22.311Z"
   },
   {
    "duration": 27,
    "start_time": "2022-04-11T17:33:22.358Z"
   },
   {
    "duration": 20,
    "start_time": "2022-04-11T17:33:22.387Z"
   },
   {
    "duration": 22,
    "start_time": "2022-04-11T17:33:22.409Z"
   },
   {
    "duration": 56,
    "start_time": "2022-04-11T17:33:22.433Z"
   },
   {
    "duration": 11,
    "start_time": "2022-04-11T17:33:22.491Z"
   },
   {
    "duration": 18,
    "start_time": "2022-04-11T17:33:22.503Z"
   },
   {
    "duration": 8,
    "start_time": "2022-04-11T17:33:22.523Z"
   },
   {
    "duration": 81,
    "start_time": "2022-04-11T17:33:22.534Z"
   },
   {
    "duration": 18,
    "start_time": "2022-04-11T17:33:22.617Z"
   },
   {
    "duration": 8,
    "start_time": "2022-04-11T17:33:22.637Z"
   },
   {
    "duration": 46,
    "start_time": "2022-04-11T17:33:22.647Z"
   },
   {
    "duration": 8,
    "start_time": "2022-04-11T17:33:22.695Z"
   },
   {
    "duration": 9,
    "start_time": "2022-04-11T17:33:22.705Z"
   },
   {
    "duration": 13,
    "start_time": "2022-04-11T17:33:22.715Z"
   },
   {
    "duration": 7,
    "start_time": "2022-04-11T17:33:22.730Z"
   },
   {
    "duration": 250,
    "start_time": "2022-04-11T17:33:22.738Z"
   },
   {
    "duration": 216,
    "start_time": "2022-04-11T17:33:22.990Z"
   },
   {
    "duration": 5,
    "start_time": "2022-04-11T17:33:23.209Z"
   },
   {
    "duration": 9,
    "start_time": "2022-04-11T17:33:23.216Z"
   },
   {
    "duration": 171,
    "start_time": "2022-04-11T17:33:23.227Z"
   },
   {
    "duration": 6,
    "start_time": "2022-04-11T17:33:23.399Z"
   },
   {
    "duration": 27,
    "start_time": "2022-04-11T17:33:23.406Z"
   },
   {
    "duration": 28,
    "start_time": "2022-04-11T17:33:23.435Z"
   },
   {
    "duration": 11,
    "start_time": "2022-04-11T17:33:23.465Z"
   },
   {
    "duration": 7,
    "start_time": "2022-04-11T17:33:23.478Z"
   },
   {
    "duration": 14,
    "start_time": "2022-04-11T17:33:23.487Z"
   },
   {
    "duration": 6,
    "start_time": "2022-04-11T17:33:23.503Z"
   },
   {
    "duration": 8,
    "start_time": "2022-04-11T17:33:23.511Z"
   },
   {
    "duration": 196,
    "start_time": "2022-04-11T17:33:23.521Z"
   },
   {
    "duration": 12,
    "start_time": "2022-04-11T17:33:23.719Z"
   },
   {
    "duration": 12,
    "start_time": "2022-04-11T17:33:23.733Z"
   },
   {
    "duration": 6,
    "start_time": "2022-04-11T17:33:23.772Z"
   },
   {
    "duration": 294,
    "start_time": "2022-04-11T17:33:23.779Z"
   },
   {
    "duration": 12,
    "start_time": "2022-04-11T17:33:24.074Z"
   },
   {
    "duration": 11,
    "start_time": "2022-04-11T17:33:24.087Z"
   },
   {
    "duration": 5,
    "start_time": "2022-04-11T17:33:24.100Z"
   },
   {
    "duration": 195,
    "start_time": "2022-04-11T17:33:24.106Z"
   },
   {
    "duration": 11,
    "start_time": "2022-04-11T17:33:24.302Z"
   },
   {
    "duration": 12,
    "start_time": "2022-04-11T17:33:24.315Z"
   },
   {
    "duration": 61,
    "start_time": "2022-04-11T17:33:24.330Z"
   },
   {
    "duration": 5,
    "start_time": "2022-04-11T17:33:24.393Z"
   },
   {
    "duration": 21,
    "start_time": "2022-04-11T17:33:24.400Z"
   },
   {
    "duration": 20,
    "start_time": "2022-04-11T17:33:24.423Z"
   },
   {
    "duration": 29,
    "start_time": "2022-04-11T17:33:24.446Z"
   },
   {
    "duration": 28,
    "start_time": "2022-04-11T17:33:24.477Z"
   },
   {
    "duration": 5,
    "start_time": "2022-04-11T17:33:24.508Z"
   },
   {
    "duration": 1538,
    "start_time": "2022-04-11T18:00:15.937Z"
   },
   {
    "duration": 4,
    "start_time": "2022-04-11T18:00:21.663Z"
   },
   {
    "duration": 21,
    "start_time": "2022-04-11T18:00:21.669Z"
   },
   {
    "duration": 11,
    "start_time": "2022-04-11T18:00:21.692Z"
   },
   {
    "duration": 231,
    "start_time": "2022-04-11T18:00:21.704Z"
   },
   {
    "duration": 37,
    "start_time": "2022-04-11T18:00:21.937Z"
   },
   {
    "duration": 150,
    "start_time": "2022-04-11T18:00:21.976Z"
   },
   {
    "duration": 71,
    "start_time": "2022-04-11T18:00:22.129Z"
   },
   {
    "duration": 27,
    "start_time": "2022-04-11T18:00:22.202Z"
   },
   {
    "duration": 19,
    "start_time": "2022-04-11T18:00:22.230Z"
   },
   {
    "duration": 56,
    "start_time": "2022-04-11T18:00:22.251Z"
   },
   {
    "duration": 119,
    "start_time": "2022-04-11T18:00:22.310Z"
   },
   {
    "duration": 83,
    "start_time": "2022-04-11T18:00:22.431Z"
   },
   {
    "duration": 61,
    "start_time": "2022-04-11T18:00:22.516Z"
   },
   {
    "duration": 27,
    "start_time": "2022-04-11T18:00:22.578Z"
   },
   {
    "duration": 7,
    "start_time": "2022-04-11T18:00:22.607Z"
   },
   {
    "duration": 175,
    "start_time": "2022-04-11T18:00:22.616Z"
   },
   {
    "duration": 134,
    "start_time": "2022-04-11T18:00:22.792Z"
   },
   {
    "duration": 0,
    "start_time": "2022-04-11T18:00:22.929Z"
   },
   {
    "duration": 0,
    "start_time": "2022-04-11T18:00:22.931Z"
   },
   {
    "duration": 0,
    "start_time": "2022-04-11T18:00:22.932Z"
   },
   {
    "duration": 0,
    "start_time": "2022-04-11T18:00:22.933Z"
   },
   {
    "duration": 0,
    "start_time": "2022-04-11T18:00:22.934Z"
   },
   {
    "duration": 0,
    "start_time": "2022-04-11T18:00:22.935Z"
   },
   {
    "duration": 0,
    "start_time": "2022-04-11T18:00:22.937Z"
   },
   {
    "duration": 0,
    "start_time": "2022-04-11T18:00:22.938Z"
   },
   {
    "duration": 1,
    "start_time": "2022-04-11T18:00:22.938Z"
   },
   {
    "duration": 0,
    "start_time": "2022-04-11T18:00:22.939Z"
   },
   {
    "duration": 0,
    "start_time": "2022-04-11T18:00:22.941Z"
   },
   {
    "duration": 0,
    "start_time": "2022-04-11T18:00:22.942Z"
   },
   {
    "duration": 0,
    "start_time": "2022-04-11T18:00:22.944Z"
   },
   {
    "duration": 0,
    "start_time": "2022-04-11T18:00:22.945Z"
   },
   {
    "duration": 0,
    "start_time": "2022-04-11T18:00:22.974Z"
   },
   {
    "duration": 0,
    "start_time": "2022-04-11T18:00:22.975Z"
   },
   {
    "duration": 0,
    "start_time": "2022-04-11T18:00:22.976Z"
   },
   {
    "duration": 0,
    "start_time": "2022-04-11T18:00:22.977Z"
   },
   {
    "duration": 0,
    "start_time": "2022-04-11T18:00:22.979Z"
   },
   {
    "duration": 0,
    "start_time": "2022-04-11T18:00:22.980Z"
   },
   {
    "duration": 0,
    "start_time": "2022-04-11T18:00:22.981Z"
   },
   {
    "duration": 0,
    "start_time": "2022-04-11T18:00:22.982Z"
   },
   {
    "duration": 0,
    "start_time": "2022-04-11T18:00:22.982Z"
   },
   {
    "duration": 0,
    "start_time": "2022-04-11T18:00:22.983Z"
   },
   {
    "duration": 0,
    "start_time": "2022-04-11T18:00:22.984Z"
   },
   {
    "duration": 0,
    "start_time": "2022-04-11T18:00:22.985Z"
   },
   {
    "duration": 0,
    "start_time": "2022-04-11T18:00:22.986Z"
   },
   {
    "duration": 0,
    "start_time": "2022-04-11T18:00:22.987Z"
   },
   {
    "duration": 1,
    "start_time": "2022-04-11T18:00:22.988Z"
   },
   {
    "duration": 0,
    "start_time": "2022-04-11T18:00:22.990Z"
   },
   {
    "duration": 0,
    "start_time": "2022-04-11T18:00:22.991Z"
   },
   {
    "duration": 0,
    "start_time": "2022-04-11T18:00:22.992Z"
   },
   {
    "duration": 0,
    "start_time": "2022-04-11T18:00:22.993Z"
   },
   {
    "duration": 0,
    "start_time": "2022-04-11T18:00:22.994Z"
   },
   {
    "duration": 0,
    "start_time": "2022-04-11T18:00:22.995Z"
   },
   {
    "duration": 0,
    "start_time": "2022-04-11T18:00:22.996Z"
   },
   {
    "duration": 0,
    "start_time": "2022-04-11T18:00:22.997Z"
   },
   {
    "duration": 0,
    "start_time": "2022-04-11T18:00:22.998Z"
   },
   {
    "duration": 0,
    "start_time": "2022-04-11T18:00:22.999Z"
   },
   {
    "duration": 0,
    "start_time": "2022-04-11T18:00:23.001Z"
   },
   {
    "duration": 0,
    "start_time": "2022-04-11T18:00:23.002Z"
   },
   {
    "duration": 0,
    "start_time": "2022-04-11T18:00:23.003Z"
   },
   {
    "duration": 0,
    "start_time": "2022-04-11T18:00:23.004Z"
   },
   {
    "duration": 0,
    "start_time": "2022-04-11T18:00:23.005Z"
   },
   {
    "duration": 0,
    "start_time": "2022-04-11T18:00:23.006Z"
   },
   {
    "duration": 0,
    "start_time": "2022-04-11T18:00:23.007Z"
   },
   {
    "duration": 0,
    "start_time": "2022-04-11T18:00:23.008Z"
   },
   {
    "duration": 0,
    "start_time": "2022-04-11T18:00:23.009Z"
   },
   {
    "duration": 0,
    "start_time": "2022-04-11T18:00:23.010Z"
   },
   {
    "duration": 0,
    "start_time": "2022-04-11T18:00:23.011Z"
   },
   {
    "duration": 123,
    "start_time": "2022-04-11T18:01:39.179Z"
   },
   {
    "duration": 101,
    "start_time": "2022-04-11T18:01:43.686Z"
   },
   {
    "duration": 4,
    "start_time": "2022-04-11T18:01:47.227Z"
   },
   {
    "duration": 25,
    "start_time": "2022-04-11T18:01:47.233Z"
   },
   {
    "duration": 10,
    "start_time": "2022-04-11T18:01:47.260Z"
   },
   {
    "duration": 217,
    "start_time": "2022-04-11T18:01:47.272Z"
   },
   {
    "duration": 10,
    "start_time": "2022-04-11T18:01:47.491Z"
   },
   {
    "duration": 155,
    "start_time": "2022-04-11T18:01:47.503Z"
   },
   {
    "duration": 56,
    "start_time": "2022-04-11T18:01:47.660Z"
   },
   {
    "duration": 24,
    "start_time": "2022-04-11T18:01:47.717Z"
   },
   {
    "duration": 33,
    "start_time": "2022-04-11T18:01:47.743Z"
   },
   {
    "duration": 29,
    "start_time": "2022-04-11T18:01:47.777Z"
   },
   {
    "duration": 117,
    "start_time": "2022-04-11T18:01:47.808Z"
   },
   {
    "duration": 80,
    "start_time": "2022-04-11T18:01:47.927Z"
   },
   {
    "duration": 64,
    "start_time": "2022-04-11T18:01:48.010Z"
   },
   {
    "duration": 28,
    "start_time": "2022-04-11T18:01:48.076Z"
   },
   {
    "duration": 8,
    "start_time": "2022-04-11T18:01:48.107Z"
   },
   {
    "duration": 177,
    "start_time": "2022-04-11T18:01:48.117Z"
   },
   {
    "duration": 125,
    "start_time": "2022-04-11T18:01:48.296Z"
   },
   {
    "duration": 0,
    "start_time": "2022-04-11T18:01:48.425Z"
   },
   {
    "duration": 0,
    "start_time": "2022-04-11T18:01:48.427Z"
   },
   {
    "duration": 0,
    "start_time": "2022-04-11T18:01:48.428Z"
   },
   {
    "duration": 0,
    "start_time": "2022-04-11T18:01:48.430Z"
   },
   {
    "duration": 0,
    "start_time": "2022-04-11T18:01:48.431Z"
   },
   {
    "duration": 0,
    "start_time": "2022-04-11T18:01:48.432Z"
   },
   {
    "duration": 0,
    "start_time": "2022-04-11T18:01:48.434Z"
   },
   {
    "duration": 0,
    "start_time": "2022-04-11T18:01:48.435Z"
   },
   {
    "duration": 0,
    "start_time": "2022-04-11T18:01:48.436Z"
   },
   {
    "duration": 0,
    "start_time": "2022-04-11T18:01:48.438Z"
   },
   {
    "duration": 0,
    "start_time": "2022-04-11T18:01:48.439Z"
   },
   {
    "duration": 0,
    "start_time": "2022-04-11T18:01:48.440Z"
   },
   {
    "duration": 0,
    "start_time": "2022-04-11T18:01:48.442Z"
   },
   {
    "duration": 0,
    "start_time": "2022-04-11T18:01:48.443Z"
   },
   {
    "duration": 0,
    "start_time": "2022-04-11T18:01:48.474Z"
   },
   {
    "duration": 0,
    "start_time": "2022-04-11T18:01:48.475Z"
   },
   {
    "duration": 0,
    "start_time": "2022-04-11T18:01:48.477Z"
   },
   {
    "duration": 0,
    "start_time": "2022-04-11T18:01:48.478Z"
   },
   {
    "duration": 0,
    "start_time": "2022-04-11T18:01:48.480Z"
   },
   {
    "duration": 0,
    "start_time": "2022-04-11T18:01:48.481Z"
   },
   {
    "duration": 0,
    "start_time": "2022-04-11T18:01:48.483Z"
   },
   {
    "duration": 0,
    "start_time": "2022-04-11T18:01:48.484Z"
   },
   {
    "duration": 0,
    "start_time": "2022-04-11T18:01:48.485Z"
   },
   {
    "duration": 0,
    "start_time": "2022-04-11T18:01:48.487Z"
   },
   {
    "duration": 0,
    "start_time": "2022-04-11T18:01:48.488Z"
   },
   {
    "duration": 0,
    "start_time": "2022-04-11T18:01:48.489Z"
   },
   {
    "duration": 1,
    "start_time": "2022-04-11T18:01:48.490Z"
   },
   {
    "duration": 0,
    "start_time": "2022-04-11T18:01:48.492Z"
   },
   {
    "duration": 0,
    "start_time": "2022-04-11T18:01:48.494Z"
   },
   {
    "duration": 1,
    "start_time": "2022-04-11T18:01:48.495Z"
   },
   {
    "duration": 0,
    "start_time": "2022-04-11T18:01:48.497Z"
   },
   {
    "duration": 0,
    "start_time": "2022-04-11T18:01:48.498Z"
   },
   {
    "duration": 0,
    "start_time": "2022-04-11T18:01:48.500Z"
   },
   {
    "duration": 0,
    "start_time": "2022-04-11T18:01:48.501Z"
   },
   {
    "duration": 0,
    "start_time": "2022-04-11T18:01:48.502Z"
   },
   {
    "duration": 0,
    "start_time": "2022-04-11T18:01:48.503Z"
   },
   {
    "duration": 0,
    "start_time": "2022-04-11T18:01:48.504Z"
   },
   {
    "duration": 0,
    "start_time": "2022-04-11T18:01:48.505Z"
   },
   {
    "duration": 0,
    "start_time": "2022-04-11T18:01:48.506Z"
   },
   {
    "duration": 0,
    "start_time": "2022-04-11T18:01:48.507Z"
   },
   {
    "duration": 0,
    "start_time": "2022-04-11T18:01:48.508Z"
   },
   {
    "duration": 0,
    "start_time": "2022-04-11T18:01:48.509Z"
   },
   {
    "duration": 0,
    "start_time": "2022-04-11T18:01:48.510Z"
   },
   {
    "duration": 0,
    "start_time": "2022-04-11T18:01:48.511Z"
   },
   {
    "duration": 0,
    "start_time": "2022-04-11T18:01:48.573Z"
   },
   {
    "duration": 0,
    "start_time": "2022-04-11T18:01:48.575Z"
   },
   {
    "duration": 0,
    "start_time": "2022-04-11T18:01:48.576Z"
   },
   {
    "duration": 0,
    "start_time": "2022-04-11T18:01:48.577Z"
   },
   {
    "duration": 0,
    "start_time": "2022-04-11T18:01:48.578Z"
   },
   {
    "duration": 1,
    "start_time": "2022-04-11T18:01:48.578Z"
   },
   {
    "duration": 109,
    "start_time": "2022-04-11T18:02:46.719Z"
   },
   {
    "duration": 12,
    "start_time": "2022-04-11T18:03:38.260Z"
   },
   {
    "duration": 1721,
    "start_time": "2022-04-11T18:04:45.551Z"
   },
   {
    "duration": 4,
    "start_time": "2022-04-11T18:04:52.687Z"
   },
   {
    "duration": 20,
    "start_time": "2022-04-11T18:04:52.693Z"
   },
   {
    "duration": 13,
    "start_time": "2022-04-11T18:04:52.714Z"
   },
   {
    "duration": 269,
    "start_time": "2022-04-11T18:04:52.729Z"
   },
   {
    "duration": 12,
    "start_time": "2022-04-11T18:04:53.000Z"
   },
   {
    "duration": 147,
    "start_time": "2022-04-11T18:04:53.014Z"
   },
   {
    "duration": 56,
    "start_time": "2022-04-11T18:04:53.163Z"
   },
   {
    "duration": 25,
    "start_time": "2022-04-11T18:04:53.221Z"
   },
   {
    "duration": 37,
    "start_time": "2022-04-11T18:04:53.248Z"
   },
   {
    "duration": 28,
    "start_time": "2022-04-11T18:04:53.287Z"
   },
   {
    "duration": 117,
    "start_time": "2022-04-11T18:04:53.317Z"
   },
   {
    "duration": 79,
    "start_time": "2022-04-11T18:04:53.435Z"
   },
   {
    "duration": 57,
    "start_time": "2022-04-11T18:04:53.516Z"
   },
   {
    "duration": 27,
    "start_time": "2022-04-11T18:04:53.575Z"
   },
   {
    "duration": 7,
    "start_time": "2022-04-11T18:04:53.604Z"
   },
   {
    "duration": 167,
    "start_time": "2022-04-11T18:04:53.612Z"
   },
   {
    "duration": 1626,
    "start_time": "2022-04-11T18:04:53.781Z"
   },
   {
    "duration": 0,
    "start_time": "2022-04-11T18:04:55.410Z"
   },
   {
    "duration": 0,
    "start_time": "2022-04-11T18:04:55.411Z"
   },
   {
    "duration": 0,
    "start_time": "2022-04-11T18:04:55.412Z"
   },
   {
    "duration": 0,
    "start_time": "2022-04-11T18:04:55.413Z"
   },
   {
    "duration": 0,
    "start_time": "2022-04-11T18:04:55.414Z"
   },
   {
    "duration": 0,
    "start_time": "2022-04-11T18:04:55.415Z"
   },
   {
    "duration": 0,
    "start_time": "2022-04-11T18:04:55.416Z"
   },
   {
    "duration": 0,
    "start_time": "2022-04-11T18:04:55.417Z"
   },
   {
    "duration": 0,
    "start_time": "2022-04-11T18:04:55.418Z"
   },
   {
    "duration": 0,
    "start_time": "2022-04-11T18:04:55.419Z"
   },
   {
    "duration": 1,
    "start_time": "2022-04-11T18:04:55.419Z"
   },
   {
    "duration": 0,
    "start_time": "2022-04-11T18:04:55.420Z"
   },
   {
    "duration": 0,
    "start_time": "2022-04-11T18:04:55.421Z"
   },
   {
    "duration": 0,
    "start_time": "2022-04-11T18:04:55.422Z"
   },
   {
    "duration": 0,
    "start_time": "2022-04-11T18:04:55.423Z"
   },
   {
    "duration": 0,
    "start_time": "2022-04-11T18:04:55.423Z"
   },
   {
    "duration": 0,
    "start_time": "2022-04-11T18:04:55.425Z"
   },
   {
    "duration": 0,
    "start_time": "2022-04-11T18:04:55.426Z"
   },
   {
    "duration": 0,
    "start_time": "2022-04-11T18:04:55.427Z"
   },
   {
    "duration": 0,
    "start_time": "2022-04-11T18:04:55.428Z"
   },
   {
    "duration": 0,
    "start_time": "2022-04-11T18:04:55.429Z"
   },
   {
    "duration": 0,
    "start_time": "2022-04-11T18:04:55.430Z"
   },
   {
    "duration": 0,
    "start_time": "2022-04-11T18:04:55.432Z"
   },
   {
    "duration": 0,
    "start_time": "2022-04-11T18:04:55.433Z"
   },
   {
    "duration": 0,
    "start_time": "2022-04-11T18:04:55.434Z"
   },
   {
    "duration": 0,
    "start_time": "2022-04-11T18:04:55.435Z"
   },
   {
    "duration": 1,
    "start_time": "2022-04-11T18:04:55.435Z"
   },
   {
    "duration": 0,
    "start_time": "2022-04-11T18:04:55.436Z"
   },
   {
    "duration": 0,
    "start_time": "2022-04-11T18:04:55.438Z"
   },
   {
    "duration": 0,
    "start_time": "2022-04-11T18:04:55.438Z"
   },
   {
    "duration": 0,
    "start_time": "2022-04-11T18:04:55.439Z"
   },
   {
    "duration": 0,
    "start_time": "2022-04-11T18:04:55.440Z"
   },
   {
    "duration": 0,
    "start_time": "2022-04-11T18:04:55.441Z"
   },
   {
    "duration": 0,
    "start_time": "2022-04-11T18:04:55.442Z"
   },
   {
    "duration": 0,
    "start_time": "2022-04-11T18:04:55.442Z"
   },
   {
    "duration": 0,
    "start_time": "2022-04-11T18:04:55.443Z"
   },
   {
    "duration": 0,
    "start_time": "2022-04-11T18:04:55.444Z"
   },
   {
    "duration": 0,
    "start_time": "2022-04-11T18:04:55.445Z"
   },
   {
    "duration": 0,
    "start_time": "2022-04-11T18:04:55.474Z"
   },
   {
    "duration": 0,
    "start_time": "2022-04-11T18:04:55.475Z"
   },
   {
    "duration": 0,
    "start_time": "2022-04-11T18:04:55.476Z"
   },
   {
    "duration": 0,
    "start_time": "2022-04-11T18:04:55.477Z"
   },
   {
    "duration": 0,
    "start_time": "2022-04-11T18:04:55.478Z"
   },
   {
    "duration": 0,
    "start_time": "2022-04-11T18:04:55.480Z"
   },
   {
    "duration": 0,
    "start_time": "2022-04-11T18:04:55.480Z"
   },
   {
    "duration": 0,
    "start_time": "2022-04-11T18:04:55.481Z"
   },
   {
    "duration": 0,
    "start_time": "2022-04-11T18:04:55.482Z"
   },
   {
    "duration": 0,
    "start_time": "2022-04-11T18:04:55.483Z"
   },
   {
    "duration": 0,
    "start_time": "2022-04-11T18:04:55.484Z"
   },
   {
    "duration": 0,
    "start_time": "2022-04-11T18:04:55.485Z"
   },
   {
    "duration": 1538,
    "start_time": "2022-04-11T18:05:55.835Z"
   },
   {
    "duration": 4,
    "start_time": "2022-04-11T18:06:02.540Z"
   },
   {
    "duration": 27,
    "start_time": "2022-04-11T18:06:02.547Z"
   },
   {
    "duration": 17,
    "start_time": "2022-04-11T18:06:02.576Z"
   },
   {
    "duration": 261,
    "start_time": "2022-04-11T18:06:02.596Z"
   },
   {
    "duration": 26,
    "start_time": "2022-04-11T18:06:02.858Z"
   },
   {
    "duration": 156,
    "start_time": "2022-04-11T18:06:02.886Z"
   },
   {
    "duration": 61,
    "start_time": "2022-04-11T18:06:03.044Z"
   },
   {
    "duration": 26,
    "start_time": "2022-04-11T18:06:03.107Z"
   },
   {
    "duration": 38,
    "start_time": "2022-04-11T18:06:03.135Z"
   },
   {
    "duration": 30,
    "start_time": "2022-04-11T18:06:03.175Z"
   },
   {
    "duration": 119,
    "start_time": "2022-04-11T18:06:03.207Z"
   },
   {
    "duration": 84,
    "start_time": "2022-04-11T18:06:03.328Z"
   },
   {
    "duration": 60,
    "start_time": "2022-04-11T18:06:03.414Z"
   },
   {
    "duration": 29,
    "start_time": "2022-04-11T18:06:03.476Z"
   },
   {
    "duration": 8,
    "start_time": "2022-04-11T18:06:03.507Z"
   },
   {
    "duration": 169,
    "start_time": "2022-04-11T18:06:03.516Z"
   },
   {
    "duration": 1510,
    "start_time": "2022-04-11T18:06:03.687Z"
   },
   {
    "duration": 0,
    "start_time": "2022-04-11T18:06:05.200Z"
   },
   {
    "duration": 0,
    "start_time": "2022-04-11T18:06:05.201Z"
   },
   {
    "duration": 0,
    "start_time": "2022-04-11T18:06:05.202Z"
   },
   {
    "duration": 0,
    "start_time": "2022-04-11T18:06:05.203Z"
   },
   {
    "duration": 0,
    "start_time": "2022-04-11T18:06:05.204Z"
   },
   {
    "duration": 0,
    "start_time": "2022-04-11T18:06:05.205Z"
   },
   {
    "duration": 0,
    "start_time": "2022-04-11T18:06:05.206Z"
   },
   {
    "duration": 0,
    "start_time": "2022-04-11T18:06:05.207Z"
   },
   {
    "duration": 0,
    "start_time": "2022-04-11T18:06:05.208Z"
   },
   {
    "duration": 0,
    "start_time": "2022-04-11T18:06:05.209Z"
   },
   {
    "duration": 0,
    "start_time": "2022-04-11T18:06:05.210Z"
   },
   {
    "duration": 0,
    "start_time": "2022-04-11T18:06:05.211Z"
   },
   {
    "duration": 0,
    "start_time": "2022-04-11T18:06:05.212Z"
   },
   {
    "duration": 0,
    "start_time": "2022-04-11T18:06:05.213Z"
   },
   {
    "duration": 0,
    "start_time": "2022-04-11T18:06:05.214Z"
   },
   {
    "duration": 0,
    "start_time": "2022-04-11T18:06:05.215Z"
   },
   {
    "duration": 0,
    "start_time": "2022-04-11T18:06:05.216Z"
   },
   {
    "duration": 0,
    "start_time": "2022-04-11T18:06:05.217Z"
   },
   {
    "duration": 0,
    "start_time": "2022-04-11T18:06:05.218Z"
   },
   {
    "duration": 0,
    "start_time": "2022-04-11T18:06:05.220Z"
   },
   {
    "duration": 0,
    "start_time": "2022-04-11T18:06:05.221Z"
   },
   {
    "duration": 0,
    "start_time": "2022-04-11T18:06:05.222Z"
   },
   {
    "duration": 0,
    "start_time": "2022-04-11T18:06:05.223Z"
   },
   {
    "duration": 0,
    "start_time": "2022-04-11T18:06:05.224Z"
   },
   {
    "duration": 0,
    "start_time": "2022-04-11T18:06:05.225Z"
   },
   {
    "duration": 0,
    "start_time": "2022-04-11T18:06:05.226Z"
   },
   {
    "duration": 0,
    "start_time": "2022-04-11T18:06:05.227Z"
   },
   {
    "duration": 0,
    "start_time": "2022-04-11T18:06:05.228Z"
   },
   {
    "duration": 0,
    "start_time": "2022-04-11T18:06:05.229Z"
   },
   {
    "duration": 0,
    "start_time": "2022-04-11T18:06:05.230Z"
   },
   {
    "duration": 0,
    "start_time": "2022-04-11T18:06:05.231Z"
   },
   {
    "duration": 0,
    "start_time": "2022-04-11T18:06:05.232Z"
   },
   {
    "duration": 0,
    "start_time": "2022-04-11T18:06:05.233Z"
   },
   {
    "duration": 0,
    "start_time": "2022-04-11T18:06:05.234Z"
   },
   {
    "duration": 0,
    "start_time": "2022-04-11T18:06:05.235Z"
   },
   {
    "duration": 0,
    "start_time": "2022-04-11T18:06:05.236Z"
   },
   {
    "duration": 0,
    "start_time": "2022-04-11T18:06:05.273Z"
   },
   {
    "duration": 0,
    "start_time": "2022-04-11T18:06:05.274Z"
   },
   {
    "duration": 0,
    "start_time": "2022-04-11T18:06:05.276Z"
   },
   {
    "duration": 0,
    "start_time": "2022-04-11T18:06:05.277Z"
   },
   {
    "duration": 0,
    "start_time": "2022-04-11T18:06:05.278Z"
   },
   {
    "duration": 0,
    "start_time": "2022-04-11T18:06:05.279Z"
   },
   {
    "duration": 0,
    "start_time": "2022-04-11T18:06:05.280Z"
   },
   {
    "duration": 0,
    "start_time": "2022-04-11T18:06:05.281Z"
   },
   {
    "duration": 0,
    "start_time": "2022-04-11T18:06:05.281Z"
   },
   {
    "duration": 0,
    "start_time": "2022-04-11T18:06:05.283Z"
   },
   {
    "duration": 0,
    "start_time": "2022-04-11T18:06:05.284Z"
   },
   {
    "duration": 0,
    "start_time": "2022-04-11T18:06:05.285Z"
   },
   {
    "duration": 0,
    "start_time": "2022-04-11T18:06:05.286Z"
   },
   {
    "duration": 0,
    "start_time": "2022-04-11T18:06:05.287Z"
   },
   {
    "duration": 106,
    "start_time": "2022-04-11T18:06:34.739Z"
   },
   {
    "duration": 122,
    "start_time": "2022-04-11T18:24:41.863Z"
   },
   {
    "duration": 3,
    "start_time": "2022-04-11T18:24:44.962Z"
   },
   {
    "duration": 29,
    "start_time": "2022-04-11T18:24:44.967Z"
   },
   {
    "duration": 17,
    "start_time": "2022-04-11T18:24:44.998Z"
   },
   {
    "duration": 255,
    "start_time": "2022-04-11T18:24:45.019Z"
   },
   {
    "duration": 13,
    "start_time": "2022-04-11T18:24:45.276Z"
   },
   {
    "duration": 158,
    "start_time": "2022-04-11T18:24:45.290Z"
   },
   {
    "duration": 58,
    "start_time": "2022-04-11T18:24:45.450Z"
   },
   {
    "duration": 25,
    "start_time": "2022-04-11T18:24:45.510Z"
   },
   {
    "duration": 39,
    "start_time": "2022-04-11T18:24:45.537Z"
   },
   {
    "duration": 30,
    "start_time": "2022-04-11T18:24:45.577Z"
   },
   {
    "duration": 121,
    "start_time": "2022-04-11T18:24:45.609Z"
   },
   {
    "duration": 76,
    "start_time": "2022-04-11T18:24:45.731Z"
   },
   {
    "duration": 48,
    "start_time": "2022-04-11T18:24:45.809Z"
   },
   {
    "duration": 27,
    "start_time": "2022-04-11T18:24:45.873Z"
   },
   {
    "duration": 8,
    "start_time": "2022-04-11T18:24:45.901Z"
   },
   {
    "duration": 178,
    "start_time": "2022-04-11T18:24:45.910Z"
   },
   {
    "duration": 129,
    "start_time": "2022-04-11T18:24:46.090Z"
   },
   {
    "duration": 0,
    "start_time": "2022-04-11T18:24:46.222Z"
   },
   {
    "duration": 0,
    "start_time": "2022-04-11T18:24:46.223Z"
   },
   {
    "duration": 0,
    "start_time": "2022-04-11T18:24:46.225Z"
   },
   {
    "duration": 0,
    "start_time": "2022-04-11T18:24:46.226Z"
   },
   {
    "duration": 0,
    "start_time": "2022-04-11T18:24:46.227Z"
   },
   {
    "duration": 0,
    "start_time": "2022-04-11T18:24:46.228Z"
   },
   {
    "duration": 0,
    "start_time": "2022-04-11T18:24:46.230Z"
   },
   {
    "duration": 0,
    "start_time": "2022-04-11T18:24:46.231Z"
   },
   {
    "duration": 0,
    "start_time": "2022-04-11T18:24:46.232Z"
   },
   {
    "duration": 0,
    "start_time": "2022-04-11T18:24:46.234Z"
   },
   {
    "duration": 0,
    "start_time": "2022-04-11T18:24:46.236Z"
   },
   {
    "duration": 0,
    "start_time": "2022-04-11T18:24:46.237Z"
   },
   {
    "duration": 0,
    "start_time": "2022-04-11T18:24:46.238Z"
   },
   {
    "duration": 0,
    "start_time": "2022-04-11T18:24:46.240Z"
   },
   {
    "duration": 0,
    "start_time": "2022-04-11T18:24:46.274Z"
   },
   {
    "duration": 0,
    "start_time": "2022-04-11T18:24:46.275Z"
   },
   {
    "duration": 0,
    "start_time": "2022-04-11T18:24:46.277Z"
   },
   {
    "duration": 0,
    "start_time": "2022-04-11T18:24:46.278Z"
   },
   {
    "duration": 0,
    "start_time": "2022-04-11T18:24:46.279Z"
   },
   {
    "duration": 0,
    "start_time": "2022-04-11T18:24:46.281Z"
   },
   {
    "duration": 0,
    "start_time": "2022-04-11T18:24:46.282Z"
   },
   {
    "duration": 0,
    "start_time": "2022-04-11T18:24:46.284Z"
   },
   {
    "duration": 0,
    "start_time": "2022-04-11T18:24:46.285Z"
   },
   {
    "duration": 0,
    "start_time": "2022-04-11T18:24:46.286Z"
   },
   {
    "duration": 0,
    "start_time": "2022-04-11T18:24:46.287Z"
   },
   {
    "duration": 0,
    "start_time": "2022-04-11T18:24:46.289Z"
   },
   {
    "duration": 0,
    "start_time": "2022-04-11T18:24:46.291Z"
   },
   {
    "duration": 0,
    "start_time": "2022-04-11T18:24:46.292Z"
   },
   {
    "duration": 0,
    "start_time": "2022-04-11T18:24:46.293Z"
   },
   {
    "duration": 0,
    "start_time": "2022-04-11T18:24:46.295Z"
   },
   {
    "duration": 0,
    "start_time": "2022-04-11T18:24:46.297Z"
   },
   {
    "duration": 0,
    "start_time": "2022-04-11T18:24:46.298Z"
   },
   {
    "duration": 0,
    "start_time": "2022-04-11T18:24:46.299Z"
   },
   {
    "duration": 0,
    "start_time": "2022-04-11T18:24:46.300Z"
   },
   {
    "duration": 0,
    "start_time": "2022-04-11T18:24:46.302Z"
   },
   {
    "duration": 0,
    "start_time": "2022-04-11T18:24:46.303Z"
   },
   {
    "duration": 0,
    "start_time": "2022-04-11T18:24:46.304Z"
   },
   {
    "duration": 0,
    "start_time": "2022-04-11T18:24:46.306Z"
   },
   {
    "duration": 0,
    "start_time": "2022-04-11T18:24:46.307Z"
   },
   {
    "duration": 0,
    "start_time": "2022-04-11T18:24:46.308Z"
   },
   {
    "duration": 0,
    "start_time": "2022-04-11T18:24:46.310Z"
   },
   {
    "duration": 0,
    "start_time": "2022-04-11T18:24:46.372Z"
   },
   {
    "duration": 0,
    "start_time": "2022-04-11T18:24:46.374Z"
   },
   {
    "duration": 0,
    "start_time": "2022-04-11T18:24:46.376Z"
   },
   {
    "duration": 0,
    "start_time": "2022-04-11T18:24:46.378Z"
   },
   {
    "duration": 0,
    "start_time": "2022-04-11T18:24:46.379Z"
   },
   {
    "duration": 0,
    "start_time": "2022-04-11T18:24:46.380Z"
   },
   {
    "duration": 0,
    "start_time": "2022-04-11T18:24:46.382Z"
   },
   {
    "duration": 0,
    "start_time": "2022-04-11T18:24:46.383Z"
   },
   {
    "duration": 0,
    "start_time": "2022-04-11T18:24:46.384Z"
   },
   {
    "duration": 125,
    "start_time": "2022-04-11T18:25:57.235Z"
   },
   {
    "duration": 226,
    "start_time": "2022-04-11T18:26:20.050Z"
   },
   {
    "duration": 132,
    "start_time": "2022-04-11T18:26:44.674Z"
   },
   {
    "duration": 3,
    "start_time": "2022-04-11T18:26:49.890Z"
   },
   {
    "duration": 17,
    "start_time": "2022-04-11T18:26:49.898Z"
   },
   {
    "duration": 10,
    "start_time": "2022-04-11T18:26:49.917Z"
   },
   {
    "duration": 249,
    "start_time": "2022-04-11T18:26:49.929Z"
   },
   {
    "duration": 12,
    "start_time": "2022-04-11T18:26:50.181Z"
   },
   {
    "duration": 160,
    "start_time": "2022-04-11T18:26:50.195Z"
   },
   {
    "duration": 57,
    "start_time": "2022-04-11T18:26:50.357Z"
   },
   {
    "duration": 26,
    "start_time": "2022-04-11T18:26:50.416Z"
   },
   {
    "duration": 38,
    "start_time": "2022-04-11T18:26:50.443Z"
   },
   {
    "duration": 30,
    "start_time": "2022-04-11T18:26:50.482Z"
   },
   {
    "duration": 121,
    "start_time": "2022-04-11T18:26:50.516Z"
   },
   {
    "duration": 88,
    "start_time": "2022-04-11T18:26:50.639Z"
   },
   {
    "duration": 58,
    "start_time": "2022-04-11T18:26:50.729Z"
   },
   {
    "duration": 29,
    "start_time": "2022-04-11T18:26:50.789Z"
   },
   {
    "duration": 14,
    "start_time": "2022-04-11T18:26:50.820Z"
   },
   {
    "duration": 171,
    "start_time": "2022-04-11T18:26:50.836Z"
   },
   {
    "duration": 139,
    "start_time": "2022-04-11T18:26:51.009Z"
   },
   {
    "duration": 0,
    "start_time": "2022-04-11T18:26:51.150Z"
   },
   {
    "duration": 0,
    "start_time": "2022-04-11T18:26:51.152Z"
   },
   {
    "duration": 0,
    "start_time": "2022-04-11T18:26:51.153Z"
   },
   {
    "duration": 0,
    "start_time": "2022-04-11T18:26:51.155Z"
   },
   {
    "duration": 0,
    "start_time": "2022-04-11T18:26:51.156Z"
   },
   {
    "duration": 0,
    "start_time": "2022-04-11T18:26:51.157Z"
   },
   {
    "duration": 0,
    "start_time": "2022-04-11T18:26:51.158Z"
   },
   {
    "duration": 0,
    "start_time": "2022-04-11T18:26:51.173Z"
   },
   {
    "duration": 0,
    "start_time": "2022-04-11T18:26:51.175Z"
   },
   {
    "duration": 0,
    "start_time": "2022-04-11T18:26:51.176Z"
   },
   {
    "duration": 0,
    "start_time": "2022-04-11T18:26:51.177Z"
   },
   {
    "duration": 0,
    "start_time": "2022-04-11T18:26:51.178Z"
   },
   {
    "duration": 0,
    "start_time": "2022-04-11T18:26:51.179Z"
   },
   {
    "duration": 0,
    "start_time": "2022-04-11T18:26:51.181Z"
   },
   {
    "duration": 0,
    "start_time": "2022-04-11T18:26:51.182Z"
   },
   {
    "duration": 0,
    "start_time": "2022-04-11T18:26:51.183Z"
   },
   {
    "duration": 0,
    "start_time": "2022-04-11T18:26:51.184Z"
   },
   {
    "duration": 0,
    "start_time": "2022-04-11T18:26:51.185Z"
   },
   {
    "duration": 0,
    "start_time": "2022-04-11T18:26:51.186Z"
   },
   {
    "duration": 0,
    "start_time": "2022-04-11T18:26:51.188Z"
   },
   {
    "duration": 0,
    "start_time": "2022-04-11T18:26:51.189Z"
   },
   {
    "duration": 0,
    "start_time": "2022-04-11T18:26:51.190Z"
   },
   {
    "duration": 0,
    "start_time": "2022-04-11T18:26:51.191Z"
   },
   {
    "duration": 0,
    "start_time": "2022-04-11T18:26:51.192Z"
   },
   {
    "duration": 0,
    "start_time": "2022-04-11T18:26:51.193Z"
   },
   {
    "duration": 0,
    "start_time": "2022-04-11T18:26:51.194Z"
   },
   {
    "duration": 0,
    "start_time": "2022-04-11T18:26:51.195Z"
   },
   {
    "duration": 0,
    "start_time": "2022-04-11T18:26:51.196Z"
   },
   {
    "duration": 0,
    "start_time": "2022-04-11T18:26:51.197Z"
   },
   {
    "duration": 0,
    "start_time": "2022-04-11T18:26:51.198Z"
   },
   {
    "duration": 0,
    "start_time": "2022-04-11T18:26:51.199Z"
   },
   {
    "duration": 0,
    "start_time": "2022-04-11T18:26:51.200Z"
   },
   {
    "duration": 0,
    "start_time": "2022-04-11T18:26:51.201Z"
   },
   {
    "duration": 0,
    "start_time": "2022-04-11T18:26:51.202Z"
   },
   {
    "duration": 0,
    "start_time": "2022-04-11T18:26:51.203Z"
   },
   {
    "duration": 0,
    "start_time": "2022-04-11T18:26:51.205Z"
   },
   {
    "duration": 0,
    "start_time": "2022-04-11T18:26:51.205Z"
   },
   {
    "duration": 0,
    "start_time": "2022-04-11T18:26:51.206Z"
   },
   {
    "duration": 0,
    "start_time": "2022-04-11T18:26:51.207Z"
   },
   {
    "duration": 0,
    "start_time": "2022-04-11T18:26:51.208Z"
   },
   {
    "duration": 0,
    "start_time": "2022-04-11T18:26:51.274Z"
   },
   {
    "duration": 0,
    "start_time": "2022-04-11T18:26:51.275Z"
   },
   {
    "duration": 0,
    "start_time": "2022-04-11T18:26:51.276Z"
   },
   {
    "duration": 0,
    "start_time": "2022-04-11T18:26:51.277Z"
   },
   {
    "duration": 0,
    "start_time": "2022-04-11T18:26:51.278Z"
   },
   {
    "duration": 0,
    "start_time": "2022-04-11T18:26:51.279Z"
   },
   {
    "duration": 0,
    "start_time": "2022-04-11T18:26:51.280Z"
   },
   {
    "duration": 0,
    "start_time": "2022-04-11T18:26:51.281Z"
   },
   {
    "duration": 1,
    "start_time": "2022-04-11T18:26:51.282Z"
   },
   {
    "duration": 0,
    "start_time": "2022-04-11T18:26:51.284Z"
   },
   {
    "duration": 146,
    "start_time": "2022-04-11T18:27:36.375Z"
   },
   {
    "duration": 228,
    "start_time": "2022-04-11T18:42:19.959Z"
   },
   {
    "duration": 3,
    "start_time": "2022-04-11T18:42:26.937Z"
   },
   {
    "duration": 22,
    "start_time": "2022-04-11T18:42:26.943Z"
   },
   {
    "duration": 10,
    "start_time": "2022-04-11T18:42:26.966Z"
   },
   {
    "duration": 219,
    "start_time": "2022-04-11T18:42:26.977Z"
   },
   {
    "duration": 10,
    "start_time": "2022-04-11T18:42:27.198Z"
   },
   {
    "duration": 150,
    "start_time": "2022-04-11T18:42:27.210Z"
   },
   {
    "duration": 54,
    "start_time": "2022-04-11T18:42:27.361Z"
   },
   {
    "duration": 22,
    "start_time": "2022-04-11T18:42:27.416Z"
   },
   {
    "duration": 33,
    "start_time": "2022-04-11T18:42:27.440Z"
   },
   {
    "duration": 28,
    "start_time": "2022-04-11T18:42:27.475Z"
   },
   {
    "duration": 108,
    "start_time": "2022-04-11T18:42:27.506Z"
   },
   {
    "duration": 76,
    "start_time": "2022-04-11T18:42:27.615Z"
   },
   {
    "duration": 45,
    "start_time": "2022-04-11T18:42:27.693Z"
   },
   {
    "duration": 43,
    "start_time": "2022-04-11T18:42:27.740Z"
   },
   {
    "duration": 7,
    "start_time": "2022-04-11T18:42:27.785Z"
   },
   {
    "duration": 154,
    "start_time": "2022-04-11T18:42:27.793Z"
   },
   {
    "duration": 237,
    "start_time": "2022-04-11T18:42:27.949Z"
   },
   {
    "duration": 0,
    "start_time": "2022-04-11T18:42:28.188Z"
   },
   {
    "duration": 0,
    "start_time": "2022-04-11T18:42:28.189Z"
   },
   {
    "duration": 0,
    "start_time": "2022-04-11T18:42:28.190Z"
   },
   {
    "duration": 0,
    "start_time": "2022-04-11T18:42:28.191Z"
   },
   {
    "duration": 0,
    "start_time": "2022-04-11T18:42:28.192Z"
   },
   {
    "duration": 0,
    "start_time": "2022-04-11T18:42:28.192Z"
   },
   {
    "duration": 0,
    "start_time": "2022-04-11T18:42:28.193Z"
   },
   {
    "duration": 0,
    "start_time": "2022-04-11T18:42:28.194Z"
   },
   {
    "duration": 0,
    "start_time": "2022-04-11T18:42:28.195Z"
   },
   {
    "duration": 0,
    "start_time": "2022-04-11T18:42:28.196Z"
   },
   {
    "duration": 0,
    "start_time": "2022-04-11T18:42:28.197Z"
   },
   {
    "duration": 0,
    "start_time": "2022-04-11T18:42:28.198Z"
   },
   {
    "duration": 0,
    "start_time": "2022-04-11T18:42:28.199Z"
   },
   {
    "duration": 1,
    "start_time": "2022-04-11T18:42:28.199Z"
   },
   {
    "duration": 0,
    "start_time": "2022-04-11T18:42:28.200Z"
   },
   {
    "duration": 0,
    "start_time": "2022-04-11T18:42:28.201Z"
   },
   {
    "duration": 0,
    "start_time": "2022-04-11T18:42:28.202Z"
   },
   {
    "duration": 0,
    "start_time": "2022-04-11T18:42:28.203Z"
   },
   {
    "duration": 0,
    "start_time": "2022-04-11T18:42:28.203Z"
   },
   {
    "duration": 0,
    "start_time": "2022-04-11T18:42:28.204Z"
   },
   {
    "duration": 0,
    "start_time": "2022-04-11T18:42:28.205Z"
   },
   {
    "duration": 0,
    "start_time": "2022-04-11T18:42:28.206Z"
   },
   {
    "duration": 0,
    "start_time": "2022-04-11T18:42:28.207Z"
   },
   {
    "duration": 0,
    "start_time": "2022-04-11T18:42:28.208Z"
   },
   {
    "duration": 1,
    "start_time": "2022-04-11T18:42:28.208Z"
   },
   {
    "duration": 0,
    "start_time": "2022-04-11T18:42:28.209Z"
   },
   {
    "duration": 0,
    "start_time": "2022-04-11T18:42:28.210Z"
   },
   {
    "duration": 0,
    "start_time": "2022-04-11T18:42:28.211Z"
   },
   {
    "duration": 0,
    "start_time": "2022-04-11T18:42:28.212Z"
   },
   {
    "duration": 0,
    "start_time": "2022-04-11T18:42:28.213Z"
   },
   {
    "duration": 0,
    "start_time": "2022-04-11T18:42:28.214Z"
   },
   {
    "duration": 0,
    "start_time": "2022-04-11T18:42:28.215Z"
   },
   {
    "duration": 0,
    "start_time": "2022-04-11T18:42:28.216Z"
   },
   {
    "duration": 0,
    "start_time": "2022-04-11T18:42:28.217Z"
   },
   {
    "duration": 0,
    "start_time": "2022-04-11T18:42:28.218Z"
   },
   {
    "duration": 0,
    "start_time": "2022-04-11T18:42:28.219Z"
   },
   {
    "duration": 0,
    "start_time": "2022-04-11T18:42:28.220Z"
   },
   {
    "duration": 0,
    "start_time": "2022-04-11T18:42:28.221Z"
   },
   {
    "duration": 0,
    "start_time": "2022-04-11T18:42:28.222Z"
   },
   {
    "duration": 0,
    "start_time": "2022-04-11T18:42:28.223Z"
   },
   {
    "duration": 0,
    "start_time": "2022-04-11T18:42:28.223Z"
   },
   {
    "duration": 0,
    "start_time": "2022-04-11T18:42:28.274Z"
   },
   {
    "duration": 0,
    "start_time": "2022-04-11T18:42:28.275Z"
   },
   {
    "duration": 0,
    "start_time": "2022-04-11T18:42:28.276Z"
   },
   {
    "duration": 0,
    "start_time": "2022-04-11T18:42:28.276Z"
   },
   {
    "duration": 0,
    "start_time": "2022-04-11T18:42:28.277Z"
   },
   {
    "duration": 0,
    "start_time": "2022-04-11T18:42:28.278Z"
   },
   {
    "duration": 0,
    "start_time": "2022-04-11T18:42:28.279Z"
   },
   {
    "duration": 0,
    "start_time": "2022-04-11T18:42:28.280Z"
   },
   {
    "duration": 0,
    "start_time": "2022-04-11T18:42:28.280Z"
   },
   {
    "duration": 106,
    "start_time": "2022-04-11T18:43:04.364Z"
   },
   {
    "duration": 16,
    "start_time": "2022-04-11T18:43:51.091Z"
   },
   {
    "duration": 10,
    "start_time": "2022-04-11T18:44:33.448Z"
   },
   {
    "duration": 4,
    "start_time": "2022-04-11T18:44:38.292Z"
   },
   {
    "duration": 30,
    "start_time": "2022-04-11T18:44:38.298Z"
   },
   {
    "duration": 16,
    "start_time": "2022-04-11T18:44:38.330Z"
   },
   {
    "duration": 242,
    "start_time": "2022-04-11T18:44:38.348Z"
   },
   {
    "duration": 10,
    "start_time": "2022-04-11T18:44:38.592Z"
   },
   {
    "duration": 143,
    "start_time": "2022-04-11T18:44:38.604Z"
   },
   {
    "duration": 61,
    "start_time": "2022-04-11T18:44:38.749Z"
   },
   {
    "duration": 23,
    "start_time": "2022-04-11T18:44:38.812Z"
   },
   {
    "duration": 15,
    "start_time": "2022-04-11T18:44:38.837Z"
   },
   {
    "duration": 28,
    "start_time": "2022-04-11T18:44:38.874Z"
   },
   {
    "duration": 108,
    "start_time": "2022-04-11T18:44:38.905Z"
   },
   {
    "duration": 73,
    "start_time": "2022-04-11T18:44:39.015Z"
   },
   {
    "duration": 46,
    "start_time": "2022-04-11T18:44:39.090Z"
   },
   {
    "duration": 44,
    "start_time": "2022-04-11T18:44:39.137Z"
   },
   {
    "duration": 8,
    "start_time": "2022-04-11T18:44:39.182Z"
   },
   {
    "duration": 141,
    "start_time": "2022-04-11T18:44:39.191Z"
   },
   {
    "duration": 115,
    "start_time": "2022-04-11T18:44:39.334Z"
   },
   {
    "duration": 0,
    "start_time": "2022-04-11T18:44:39.452Z"
   },
   {
    "duration": 0,
    "start_time": "2022-04-11T18:44:39.453Z"
   },
   {
    "duration": 0,
    "start_time": "2022-04-11T18:44:39.454Z"
   },
   {
    "duration": 0,
    "start_time": "2022-04-11T18:44:39.455Z"
   },
   {
    "duration": 0,
    "start_time": "2022-04-11T18:44:39.456Z"
   },
   {
    "duration": 0,
    "start_time": "2022-04-11T18:44:39.474Z"
   },
   {
    "duration": 0,
    "start_time": "2022-04-11T18:44:39.475Z"
   },
   {
    "duration": 0,
    "start_time": "2022-04-11T18:44:39.476Z"
   },
   {
    "duration": 0,
    "start_time": "2022-04-11T18:44:39.477Z"
   },
   {
    "duration": 0,
    "start_time": "2022-04-11T18:44:39.478Z"
   },
   {
    "duration": 0,
    "start_time": "2022-04-11T18:44:39.479Z"
   },
   {
    "duration": 0,
    "start_time": "2022-04-11T18:44:39.480Z"
   },
   {
    "duration": 0,
    "start_time": "2022-04-11T18:44:39.481Z"
   },
   {
    "duration": 0,
    "start_time": "2022-04-11T18:44:39.482Z"
   },
   {
    "duration": 0,
    "start_time": "2022-04-11T18:44:39.484Z"
   },
   {
    "duration": 0,
    "start_time": "2022-04-11T18:44:39.485Z"
   },
   {
    "duration": 0,
    "start_time": "2022-04-11T18:44:39.485Z"
   },
   {
    "duration": 0,
    "start_time": "2022-04-11T18:44:39.487Z"
   },
   {
    "duration": 0,
    "start_time": "2022-04-11T18:44:39.488Z"
   },
   {
    "duration": 0,
    "start_time": "2022-04-11T18:44:39.489Z"
   },
   {
    "duration": 0,
    "start_time": "2022-04-11T18:44:39.490Z"
   },
   {
    "duration": 0,
    "start_time": "2022-04-11T18:44:39.491Z"
   },
   {
    "duration": 0,
    "start_time": "2022-04-11T18:44:39.492Z"
   },
   {
    "duration": 0,
    "start_time": "2022-04-11T18:44:39.493Z"
   },
   {
    "duration": 0,
    "start_time": "2022-04-11T18:44:39.494Z"
   },
   {
    "duration": 0,
    "start_time": "2022-04-11T18:44:39.495Z"
   },
   {
    "duration": 0,
    "start_time": "2022-04-11T18:44:39.496Z"
   },
   {
    "duration": 0,
    "start_time": "2022-04-11T18:44:39.497Z"
   },
   {
    "duration": 0,
    "start_time": "2022-04-11T18:44:39.498Z"
   },
   {
    "duration": 0,
    "start_time": "2022-04-11T18:44:39.499Z"
   },
   {
    "duration": 0,
    "start_time": "2022-04-11T18:44:39.500Z"
   },
   {
    "duration": 0,
    "start_time": "2022-04-11T18:44:39.500Z"
   },
   {
    "duration": 0,
    "start_time": "2022-04-11T18:44:39.501Z"
   },
   {
    "duration": 0,
    "start_time": "2022-04-11T18:44:39.502Z"
   },
   {
    "duration": 0,
    "start_time": "2022-04-11T18:44:39.503Z"
   },
   {
    "duration": 0,
    "start_time": "2022-04-11T18:44:39.504Z"
   },
   {
    "duration": 0,
    "start_time": "2022-04-11T18:44:39.505Z"
   },
   {
    "duration": 0,
    "start_time": "2022-04-11T18:44:39.507Z"
   },
   {
    "duration": 0,
    "start_time": "2022-04-11T18:44:39.508Z"
   },
   {
    "duration": 0,
    "start_time": "2022-04-11T18:44:39.509Z"
   },
   {
    "duration": 0,
    "start_time": "2022-04-11T18:44:39.510Z"
   },
   {
    "duration": 0,
    "start_time": "2022-04-11T18:44:39.511Z"
   },
   {
    "duration": 0,
    "start_time": "2022-04-11T18:44:39.573Z"
   },
   {
    "duration": 0,
    "start_time": "2022-04-11T18:44:39.575Z"
   },
   {
    "duration": 0,
    "start_time": "2022-04-11T18:44:39.576Z"
   },
   {
    "duration": 0,
    "start_time": "2022-04-11T18:44:39.577Z"
   },
   {
    "duration": 0,
    "start_time": "2022-04-11T18:44:39.578Z"
   },
   {
    "duration": 0,
    "start_time": "2022-04-11T18:44:39.579Z"
   },
   {
    "duration": 0,
    "start_time": "2022-04-11T18:44:39.580Z"
   },
   {
    "duration": 0,
    "start_time": "2022-04-11T18:44:39.581Z"
   },
   {
    "duration": 14,
    "start_time": "2022-04-11T18:44:58.116Z"
   },
   {
    "duration": 12,
    "start_time": "2022-04-11T18:45:11.907Z"
   },
   {
    "duration": 10,
    "start_time": "2022-04-11T18:45:19.948Z"
   },
   {
    "duration": 3,
    "start_time": "2022-04-11T18:45:26.572Z"
   },
   {
    "duration": 16,
    "start_time": "2022-04-11T18:45:26.579Z"
   },
   {
    "duration": 12,
    "start_time": "2022-04-11T18:45:26.597Z"
   },
   {
    "duration": 233,
    "start_time": "2022-04-11T18:45:26.610Z"
   },
   {
    "duration": 38,
    "start_time": "2022-04-11T18:45:26.845Z"
   },
   {
    "duration": 145,
    "start_time": "2022-04-11T18:45:26.885Z"
   },
   {
    "duration": 61,
    "start_time": "2022-04-11T18:45:27.032Z"
   },
   {
    "duration": 23,
    "start_time": "2022-04-11T18:45:27.096Z"
   },
   {
    "duration": 18,
    "start_time": "2022-04-11T18:45:27.121Z"
   },
   {
    "duration": 52,
    "start_time": "2022-04-11T18:45:27.140Z"
   },
   {
    "duration": 102,
    "start_time": "2022-04-11T18:45:27.195Z"
   },
   {
    "duration": 59,
    "start_time": "2022-04-11T18:45:27.299Z"
   },
   {
    "duration": 47,
    "start_time": "2022-04-11T18:45:27.373Z"
   },
   {
    "duration": 26,
    "start_time": "2022-04-11T18:45:27.422Z"
   },
   {
    "duration": 30,
    "start_time": "2022-04-11T18:45:27.450Z"
   },
   {
    "duration": 149,
    "start_time": "2022-04-11T18:45:27.481Z"
   },
   {
    "duration": 428,
    "start_time": "2022-04-11T18:45:27.632Z"
   },
   {
    "duration": 0,
    "start_time": "2022-04-11T18:45:28.063Z"
   },
   {
    "duration": 0,
    "start_time": "2022-04-11T18:45:28.064Z"
   },
   {
    "duration": 0,
    "start_time": "2022-04-11T18:45:28.073Z"
   },
   {
    "duration": 0,
    "start_time": "2022-04-11T18:45:28.074Z"
   },
   {
    "duration": 0,
    "start_time": "2022-04-11T18:45:28.075Z"
   },
   {
    "duration": 0,
    "start_time": "2022-04-11T18:45:28.076Z"
   },
   {
    "duration": 0,
    "start_time": "2022-04-11T18:45:28.077Z"
   },
   {
    "duration": 0,
    "start_time": "2022-04-11T18:45:28.078Z"
   },
   {
    "duration": 0,
    "start_time": "2022-04-11T18:45:28.078Z"
   },
   {
    "duration": 0,
    "start_time": "2022-04-11T18:45:28.080Z"
   },
   {
    "duration": 0,
    "start_time": "2022-04-11T18:45:28.081Z"
   },
   {
    "duration": 0,
    "start_time": "2022-04-11T18:45:28.082Z"
   },
   {
    "duration": 0,
    "start_time": "2022-04-11T18:45:28.082Z"
   },
   {
    "duration": 0,
    "start_time": "2022-04-11T18:45:28.084Z"
   },
   {
    "duration": 0,
    "start_time": "2022-04-11T18:45:28.085Z"
   },
   {
    "duration": 0,
    "start_time": "2022-04-11T18:45:28.086Z"
   },
   {
    "duration": 1,
    "start_time": "2022-04-11T18:45:28.086Z"
   },
   {
    "duration": 0,
    "start_time": "2022-04-11T18:45:28.088Z"
   },
   {
    "duration": 0,
    "start_time": "2022-04-11T18:45:28.088Z"
   },
   {
    "duration": 0,
    "start_time": "2022-04-11T18:45:28.089Z"
   },
   {
    "duration": 0,
    "start_time": "2022-04-11T18:45:28.090Z"
   },
   {
    "duration": 0,
    "start_time": "2022-04-11T18:45:28.091Z"
   },
   {
    "duration": 0,
    "start_time": "2022-04-11T18:45:28.092Z"
   },
   {
    "duration": 0,
    "start_time": "2022-04-11T18:45:28.093Z"
   },
   {
    "duration": 0,
    "start_time": "2022-04-11T18:45:28.094Z"
   },
   {
    "duration": 0,
    "start_time": "2022-04-11T18:45:28.094Z"
   },
   {
    "duration": 0,
    "start_time": "2022-04-11T18:45:28.095Z"
   },
   {
    "duration": 0,
    "start_time": "2022-04-11T18:45:28.096Z"
   },
   {
    "duration": 0,
    "start_time": "2022-04-11T18:45:28.097Z"
   },
   {
    "duration": 0,
    "start_time": "2022-04-11T18:45:28.098Z"
   },
   {
    "duration": 0,
    "start_time": "2022-04-11T18:45:28.099Z"
   },
   {
    "duration": 0,
    "start_time": "2022-04-11T18:45:28.099Z"
   },
   {
    "duration": 0,
    "start_time": "2022-04-11T18:45:28.100Z"
   },
   {
    "duration": 0,
    "start_time": "2022-04-11T18:45:28.101Z"
   },
   {
    "duration": 0,
    "start_time": "2022-04-11T18:45:28.102Z"
   },
   {
    "duration": 0,
    "start_time": "2022-04-11T18:45:28.103Z"
   },
   {
    "duration": 0,
    "start_time": "2022-04-11T18:45:28.104Z"
   },
   {
    "duration": 0,
    "start_time": "2022-04-11T18:45:28.105Z"
   },
   {
    "duration": 0,
    "start_time": "2022-04-11T18:45:28.106Z"
   },
   {
    "duration": 0,
    "start_time": "2022-04-11T18:45:28.107Z"
   },
   {
    "duration": 0,
    "start_time": "2022-04-11T18:45:28.108Z"
   },
   {
    "duration": 0,
    "start_time": "2022-04-11T18:45:28.109Z"
   },
   {
    "duration": 0,
    "start_time": "2022-04-11T18:45:28.110Z"
   },
   {
    "duration": 0,
    "start_time": "2022-04-11T18:45:28.111Z"
   },
   {
    "duration": 0,
    "start_time": "2022-04-11T18:45:28.112Z"
   },
   {
    "duration": 0,
    "start_time": "2022-04-11T18:45:28.113Z"
   },
   {
    "duration": 0,
    "start_time": "2022-04-11T18:45:28.173Z"
   },
   {
    "duration": 0,
    "start_time": "2022-04-11T18:45:28.174Z"
   },
   {
    "duration": 0,
    "start_time": "2022-04-11T18:45:28.175Z"
   },
   {
    "duration": 0,
    "start_time": "2022-04-11T18:45:28.177Z"
   },
   {
    "duration": 362,
    "start_time": "2022-04-11T18:45:58.468Z"
   },
   {
    "duration": 4,
    "start_time": "2022-04-11T18:46:02.584Z"
   },
   {
    "duration": 19,
    "start_time": "2022-04-11T18:46:02.590Z"
   },
   {
    "duration": 10,
    "start_time": "2022-04-11T18:46:02.611Z"
   },
   {
    "duration": 196,
    "start_time": "2022-04-11T18:46:02.622Z"
   },
   {
    "duration": 11,
    "start_time": "2022-04-11T18:46:02.820Z"
   },
   {
    "duration": 169,
    "start_time": "2022-04-11T18:46:02.833Z"
   },
   {
    "duration": 51,
    "start_time": "2022-04-11T18:46:03.004Z"
   },
   {
    "duration": 35,
    "start_time": "2022-04-11T18:46:03.057Z"
   },
   {
    "duration": 15,
    "start_time": "2022-04-11T18:46:03.094Z"
   },
   {
    "duration": 27,
    "start_time": "2022-04-11T18:46:03.110Z"
   },
   {
    "duration": 116,
    "start_time": "2022-04-11T18:46:03.140Z"
   },
   {
    "duration": 78,
    "start_time": "2022-04-11T18:46:03.258Z"
   },
   {
    "duration": 68,
    "start_time": "2022-04-11T18:46:03.337Z"
   },
   {
    "duration": 27,
    "start_time": "2022-04-11T18:46:03.406Z"
   },
   {
    "duration": 7,
    "start_time": "2022-04-11T18:46:03.435Z"
   },
   {
    "duration": 153,
    "start_time": "2022-04-11T18:46:03.444Z"
   },
   {
    "duration": 421,
    "start_time": "2022-04-11T18:46:03.599Z"
   },
   {
    "duration": 0,
    "start_time": "2022-04-11T18:46:04.023Z"
   },
   {
    "duration": 0,
    "start_time": "2022-04-11T18:46:04.024Z"
   },
   {
    "duration": 0,
    "start_time": "2022-04-11T18:46:04.025Z"
   },
   {
    "duration": 0,
    "start_time": "2022-04-11T18:46:04.027Z"
   },
   {
    "duration": 0,
    "start_time": "2022-04-11T18:46:04.028Z"
   },
   {
    "duration": 0,
    "start_time": "2022-04-11T18:46:04.029Z"
   },
   {
    "duration": 0,
    "start_time": "2022-04-11T18:46:04.030Z"
   },
   {
    "duration": 0,
    "start_time": "2022-04-11T18:46:04.031Z"
   },
   {
    "duration": 0,
    "start_time": "2022-04-11T18:46:04.032Z"
   },
   {
    "duration": 0,
    "start_time": "2022-04-11T18:46:04.033Z"
   },
   {
    "duration": 0,
    "start_time": "2022-04-11T18:46:04.034Z"
   },
   {
    "duration": 0,
    "start_time": "2022-04-11T18:46:04.035Z"
   },
   {
    "duration": 0,
    "start_time": "2022-04-11T18:46:04.036Z"
   },
   {
    "duration": 0,
    "start_time": "2022-04-11T18:46:04.037Z"
   },
   {
    "duration": 0,
    "start_time": "2022-04-11T18:46:04.038Z"
   },
   {
    "duration": 0,
    "start_time": "2022-04-11T18:46:04.039Z"
   },
   {
    "duration": 0,
    "start_time": "2022-04-11T18:46:04.040Z"
   },
   {
    "duration": 0,
    "start_time": "2022-04-11T18:46:04.073Z"
   },
   {
    "duration": 0,
    "start_time": "2022-04-11T18:46:04.075Z"
   },
   {
    "duration": 0,
    "start_time": "2022-04-11T18:46:04.077Z"
   },
   {
    "duration": 0,
    "start_time": "2022-04-11T18:46:04.078Z"
   },
   {
    "duration": 0,
    "start_time": "2022-04-11T18:46:04.079Z"
   },
   {
    "duration": 0,
    "start_time": "2022-04-11T18:46:04.080Z"
   },
   {
    "duration": 0,
    "start_time": "2022-04-11T18:46:04.082Z"
   },
   {
    "duration": 0,
    "start_time": "2022-04-11T18:46:04.083Z"
   },
   {
    "duration": 0,
    "start_time": "2022-04-11T18:46:04.084Z"
   },
   {
    "duration": 0,
    "start_time": "2022-04-11T18:46:04.085Z"
   },
   {
    "duration": 0,
    "start_time": "2022-04-11T18:46:04.087Z"
   },
   {
    "duration": 0,
    "start_time": "2022-04-11T18:46:04.088Z"
   },
   {
    "duration": 0,
    "start_time": "2022-04-11T18:46:04.089Z"
   },
   {
    "duration": 0,
    "start_time": "2022-04-11T18:46:04.091Z"
   },
   {
    "duration": 0,
    "start_time": "2022-04-11T18:46:04.092Z"
   },
   {
    "duration": 0,
    "start_time": "2022-04-11T18:46:04.093Z"
   },
   {
    "duration": 0,
    "start_time": "2022-04-11T18:46:04.095Z"
   },
   {
    "duration": 0,
    "start_time": "2022-04-11T18:46:04.096Z"
   },
   {
    "duration": 1,
    "start_time": "2022-04-11T18:46:04.097Z"
   },
   {
    "duration": 0,
    "start_time": "2022-04-11T18:46:04.099Z"
   },
   {
    "duration": 0,
    "start_time": "2022-04-11T18:46:04.100Z"
   },
   {
    "duration": 0,
    "start_time": "2022-04-11T18:46:04.101Z"
   },
   {
    "duration": 0,
    "start_time": "2022-04-11T18:46:04.103Z"
   },
   {
    "duration": 0,
    "start_time": "2022-04-11T18:46:04.104Z"
   },
   {
    "duration": 0,
    "start_time": "2022-04-11T18:46:04.105Z"
   },
   {
    "duration": 0,
    "start_time": "2022-04-11T18:46:04.107Z"
   },
   {
    "duration": 0,
    "start_time": "2022-04-11T18:46:04.108Z"
   },
   {
    "duration": 0,
    "start_time": "2022-04-11T18:46:04.109Z"
   },
   {
    "duration": 0,
    "start_time": "2022-04-11T18:46:04.111Z"
   },
   {
    "duration": 0,
    "start_time": "2022-04-11T18:46:04.112Z"
   },
   {
    "duration": 0,
    "start_time": "2022-04-11T18:46:04.113Z"
   },
   {
    "duration": 0,
    "start_time": "2022-04-11T18:46:04.174Z"
   },
   {
    "duration": 0,
    "start_time": "2022-04-11T18:46:04.175Z"
   },
   {
    "duration": 98,
    "start_time": "2022-04-11T18:50:52.199Z"
   },
   {
    "duration": 114,
    "start_time": "2022-04-11T18:52:33.804Z"
   },
   {
    "duration": 112,
    "start_time": "2022-04-11T18:53:48.160Z"
   },
   {
    "duration": 108,
    "start_time": "2022-04-11T18:53:52.460Z"
   },
   {
    "duration": 3,
    "start_time": "2022-04-11T18:53:56.248Z"
   },
   {
    "duration": 16,
    "start_time": "2022-04-11T18:53:56.255Z"
   },
   {
    "duration": 11,
    "start_time": "2022-04-11T18:53:56.273Z"
   },
   {
    "duration": 195,
    "start_time": "2022-04-11T18:53:56.285Z"
   },
   {
    "duration": 11,
    "start_time": "2022-04-11T18:53:56.483Z"
   },
   {
    "duration": 143,
    "start_time": "2022-04-11T18:53:56.495Z"
   },
   {
    "duration": 71,
    "start_time": "2022-04-11T18:53:56.640Z"
   },
   {
    "duration": 23,
    "start_time": "2022-04-11T18:53:56.713Z"
   },
   {
    "duration": 15,
    "start_time": "2022-04-11T18:53:56.738Z"
   },
   {
    "duration": 26,
    "start_time": "2022-04-11T18:53:56.773Z"
   },
   {
    "duration": 99,
    "start_time": "2022-04-11T18:53:56.802Z"
   },
   {
    "duration": 71,
    "start_time": "2022-04-11T18:53:56.903Z"
   },
   {
    "duration": 46,
    "start_time": "2022-04-11T18:53:56.975Z"
   },
   {
    "duration": 24,
    "start_time": "2022-04-11T18:53:57.023Z"
   },
   {
    "duration": 28,
    "start_time": "2022-04-11T18:53:57.049Z"
   },
   {
    "duration": 129,
    "start_time": "2022-04-11T18:53:57.079Z"
   },
   {
    "duration": 138,
    "start_time": "2022-04-11T18:53:57.210Z"
   },
   {
    "duration": 10,
    "start_time": "2022-04-11T18:53:57.350Z"
   },
   {
    "duration": 32,
    "start_time": "2022-04-11T18:53:57.361Z"
   },
   {
    "duration": 7,
    "start_time": "2022-04-11T18:53:57.395Z"
   },
   {
    "duration": 35,
    "start_time": "2022-04-11T18:53:57.404Z"
   },
   {
    "duration": 15,
    "start_time": "2022-04-11T18:53:57.440Z"
   },
   {
    "duration": 33,
    "start_time": "2022-04-11T18:53:57.456Z"
   },
   {
    "duration": 19,
    "start_time": "2022-04-11T18:53:57.491Z"
   },
   {
    "duration": 22,
    "start_time": "2022-04-11T18:53:57.511Z"
   },
   {
    "duration": 39,
    "start_time": "2022-04-11T18:53:57.534Z"
   },
   {
    "duration": 16,
    "start_time": "2022-04-11T18:53:57.575Z"
   },
   {
    "duration": 7,
    "start_time": "2022-04-11T18:53:57.593Z"
   },
   {
    "duration": 69,
    "start_time": "2022-04-11T18:53:57.604Z"
   },
   {
    "duration": 15,
    "start_time": "2022-04-11T18:53:57.675Z"
   },
   {
    "duration": 8,
    "start_time": "2022-04-11T18:53:57.691Z"
   },
   {
    "duration": 29,
    "start_time": "2022-04-11T18:53:57.700Z"
   },
   {
    "duration": 7,
    "start_time": "2022-04-11T18:53:57.730Z"
   },
   {
    "duration": 5,
    "start_time": "2022-04-11T18:53:57.738Z"
   },
   {
    "duration": 35,
    "start_time": "2022-04-11T18:53:57.745Z"
   },
   {
    "duration": 8,
    "start_time": "2022-04-11T18:53:57.782Z"
   },
   {
    "duration": 274,
    "start_time": "2022-04-11T18:53:57.792Z"
   },
   {
    "duration": 184,
    "start_time": "2022-04-11T18:53:58.068Z"
   },
   {
    "duration": 5,
    "start_time": "2022-04-11T18:53:58.254Z"
   },
   {
    "duration": 5,
    "start_time": "2022-04-11T18:53:58.273Z"
   },
   {
    "duration": 153,
    "start_time": "2022-04-11T18:53:58.280Z"
   },
   {
    "duration": 5,
    "start_time": "2022-04-11T18:53:58.434Z"
   },
   {
    "duration": 15,
    "start_time": "2022-04-11T18:53:58.440Z"
   },
   {
    "duration": 34,
    "start_time": "2022-04-11T18:53:58.456Z"
   },
   {
    "duration": 6,
    "start_time": "2022-04-11T18:53:58.491Z"
   },
   {
    "duration": 15,
    "start_time": "2022-04-11T18:53:58.498Z"
   },
   {
    "duration": 7,
    "start_time": "2022-04-11T18:53:58.514Z"
   },
   {
    "duration": 4,
    "start_time": "2022-04-11T18:53:58.522Z"
   },
   {
    "duration": 6,
    "start_time": "2022-04-11T18:53:58.527Z"
   },
   {
    "duration": 177,
    "start_time": "2022-04-11T18:53:58.535Z"
   },
   {
    "duration": 9,
    "start_time": "2022-04-11T18:53:58.714Z"
   },
   {
    "duration": 13,
    "start_time": "2022-04-11T18:53:58.724Z"
   },
   {
    "duration": 5,
    "start_time": "2022-04-11T18:53:58.738Z"
   },
   {
    "duration": 173,
    "start_time": "2022-04-11T18:53:58.745Z"
   },
   {
    "duration": 10,
    "start_time": "2022-04-11T18:53:58.920Z"
   },
   {
    "duration": 10,
    "start_time": "2022-04-11T18:53:58.932Z"
   },
   {
    "duration": 31,
    "start_time": "2022-04-11T18:53:58.944Z"
   },
   {
    "duration": 159,
    "start_time": "2022-04-11T18:53:58.977Z"
   },
   {
    "duration": 11,
    "start_time": "2022-04-11T18:53:59.138Z"
   },
   {
    "duration": 28,
    "start_time": "2022-04-11T18:53:59.151Z"
   },
   {
    "duration": 32,
    "start_time": "2022-04-11T18:53:59.181Z"
   },
   {
    "duration": 6,
    "start_time": "2022-04-11T18:53:59.215Z"
   },
   {
    "duration": 11,
    "start_time": "2022-04-11T18:53:59.223Z"
   },
   {
    "duration": 38,
    "start_time": "2022-04-11T18:53:59.236Z"
   },
   {
    "duration": 26,
    "start_time": "2022-04-11T18:53:59.275Z"
   },
   {
    "duration": 24,
    "start_time": "2022-04-11T18:53:59.303Z"
   },
   {
    "duration": 6,
    "start_time": "2022-04-11T18:53:59.329Z"
   },
   {
    "duration": 1355,
    "start_time": "2022-04-11T18:55:02.920Z"
   },
   {
    "duration": 3,
    "start_time": "2022-04-11T18:55:07.860Z"
   },
   {
    "duration": 19,
    "start_time": "2022-04-11T18:55:07.865Z"
   },
   {
    "duration": 10,
    "start_time": "2022-04-11T18:55:07.885Z"
   },
   {
    "duration": 197,
    "start_time": "2022-04-11T18:55:07.896Z"
   },
   {
    "duration": 11,
    "start_time": "2022-04-11T18:55:08.095Z"
   },
   {
    "duration": 165,
    "start_time": "2022-04-11T18:55:08.108Z"
   },
   {
    "duration": 52,
    "start_time": "2022-04-11T18:55:08.275Z"
   },
   {
    "duration": 24,
    "start_time": "2022-04-11T18:55:08.328Z"
   },
   {
    "duration": 18,
    "start_time": "2022-04-11T18:55:08.372Z"
   },
   {
    "duration": 27,
    "start_time": "2022-04-11T18:55:08.391Z"
   },
   {
    "duration": 112,
    "start_time": "2022-04-11T18:55:08.420Z"
   },
   {
    "duration": 75,
    "start_time": "2022-04-11T18:55:08.533Z"
   },
   {
    "duration": 47,
    "start_time": "2022-04-11T18:55:08.609Z"
   },
   {
    "duration": 37,
    "start_time": "2022-04-11T18:55:08.659Z"
   },
   {
    "duration": 7,
    "start_time": "2022-04-11T18:55:08.697Z"
   },
   {
    "duration": 146,
    "start_time": "2022-04-11T18:55:08.706Z"
   },
   {
    "duration": 142,
    "start_time": "2022-04-11T18:55:08.854Z"
   },
   {
    "duration": 13,
    "start_time": "2022-04-11T18:55:08.997Z"
   },
   {
    "duration": 0,
    "start_time": "2022-04-11T18:55:09.012Z"
   },
   {
    "duration": 0,
    "start_time": "2022-04-11T18:55:09.014Z"
   },
   {
    "duration": 0,
    "start_time": "2022-04-11T18:55:09.015Z"
   },
   {
    "duration": 0,
    "start_time": "2022-04-11T18:55:09.016Z"
   },
   {
    "duration": 0,
    "start_time": "2022-04-11T18:55:09.017Z"
   },
   {
    "duration": 0,
    "start_time": "2022-04-11T18:55:09.017Z"
   },
   {
    "duration": 0,
    "start_time": "2022-04-11T18:55:09.018Z"
   },
   {
    "duration": 0,
    "start_time": "2022-04-11T18:55:09.020Z"
   },
   {
    "duration": 0,
    "start_time": "2022-04-11T18:55:09.021Z"
   },
   {
    "duration": 0,
    "start_time": "2022-04-11T18:55:09.022Z"
   },
   {
    "duration": 0,
    "start_time": "2022-04-11T18:55:09.023Z"
   },
   {
    "duration": 0,
    "start_time": "2022-04-11T18:55:09.024Z"
   },
   {
    "duration": 0,
    "start_time": "2022-04-11T18:55:09.025Z"
   },
   {
    "duration": 0,
    "start_time": "2022-04-11T18:55:09.026Z"
   },
   {
    "duration": 0,
    "start_time": "2022-04-11T18:55:09.027Z"
   },
   {
    "duration": 0,
    "start_time": "2022-04-11T18:55:09.028Z"
   },
   {
    "duration": 0,
    "start_time": "2022-04-11T18:55:09.029Z"
   },
   {
    "duration": 0,
    "start_time": "2022-04-11T18:55:09.030Z"
   },
   {
    "duration": 0,
    "start_time": "2022-04-11T18:55:09.031Z"
   },
   {
    "duration": 0,
    "start_time": "2022-04-11T18:55:09.032Z"
   },
   {
    "duration": 0,
    "start_time": "2022-04-11T18:55:09.033Z"
   },
   {
    "duration": 0,
    "start_time": "2022-04-11T18:55:09.074Z"
   },
   {
    "duration": 0,
    "start_time": "2022-04-11T18:55:09.075Z"
   },
   {
    "duration": 0,
    "start_time": "2022-04-11T18:55:09.076Z"
   },
   {
    "duration": 0,
    "start_time": "2022-04-11T18:55:09.078Z"
   },
   {
    "duration": 0,
    "start_time": "2022-04-11T18:55:09.079Z"
   },
   {
    "duration": 0,
    "start_time": "2022-04-11T18:55:09.080Z"
   },
   {
    "duration": 0,
    "start_time": "2022-04-11T18:55:09.081Z"
   },
   {
    "duration": 0,
    "start_time": "2022-04-11T18:55:09.082Z"
   },
   {
    "duration": 0,
    "start_time": "2022-04-11T18:55:09.083Z"
   },
   {
    "duration": 0,
    "start_time": "2022-04-11T18:55:09.083Z"
   },
   {
    "duration": 0,
    "start_time": "2022-04-11T18:55:09.085Z"
   },
   {
    "duration": 0,
    "start_time": "2022-04-11T18:55:09.086Z"
   },
   {
    "duration": 0,
    "start_time": "2022-04-11T18:55:09.087Z"
   },
   {
    "duration": 0,
    "start_time": "2022-04-11T18:55:09.087Z"
   },
   {
    "duration": 0,
    "start_time": "2022-04-11T18:55:09.089Z"
   },
   {
    "duration": 0,
    "start_time": "2022-04-11T18:55:09.090Z"
   },
   {
    "duration": 0,
    "start_time": "2022-04-11T18:55:09.091Z"
   },
   {
    "duration": 0,
    "start_time": "2022-04-11T18:55:09.092Z"
   },
   {
    "duration": 0,
    "start_time": "2022-04-11T18:55:09.093Z"
   },
   {
    "duration": 0,
    "start_time": "2022-04-11T18:55:09.094Z"
   },
   {
    "duration": 0,
    "start_time": "2022-04-11T18:55:09.095Z"
   },
   {
    "duration": 0,
    "start_time": "2022-04-11T18:55:09.096Z"
   },
   {
    "duration": 0,
    "start_time": "2022-04-11T18:55:09.097Z"
   },
   {
    "duration": 0,
    "start_time": "2022-04-11T18:55:09.099Z"
   },
   {
    "duration": 0,
    "start_time": "2022-04-11T18:55:09.100Z"
   },
   {
    "duration": 0,
    "start_time": "2022-04-11T18:55:09.101Z"
   },
   {
    "duration": 0,
    "start_time": "2022-04-11T18:55:09.103Z"
   },
   {
    "duration": 0,
    "start_time": "2022-04-11T18:55:09.105Z"
   },
   {
    "duration": 1313,
    "start_time": "2022-04-11T18:55:45.816Z"
   },
   {
    "duration": 3,
    "start_time": "2022-04-11T18:55:51.112Z"
   },
   {
    "duration": 24,
    "start_time": "2022-04-11T18:55:51.117Z"
   },
   {
    "duration": 11,
    "start_time": "2022-04-11T18:55:51.142Z"
   },
   {
    "duration": 188,
    "start_time": "2022-04-11T18:55:51.155Z"
   },
   {
    "duration": 29,
    "start_time": "2022-04-11T18:55:51.345Z"
   },
   {
    "duration": 136,
    "start_time": "2022-04-11T18:55:51.376Z"
   },
   {
    "duration": 61,
    "start_time": "2022-04-11T18:55:51.514Z"
   },
   {
    "duration": 26,
    "start_time": "2022-04-11T18:55:51.576Z"
   },
   {
    "duration": 16,
    "start_time": "2022-04-11T18:55:51.604Z"
   },
   {
    "duration": 26,
    "start_time": "2022-04-11T18:55:51.622Z"
   },
   {
    "duration": 91,
    "start_time": "2022-04-11T18:55:51.672Z"
   },
   {
    "duration": 66,
    "start_time": "2022-04-11T18:55:51.774Z"
   },
   {
    "duration": 65,
    "start_time": "2022-04-11T18:55:51.842Z"
   },
   {
    "duration": 26,
    "start_time": "2022-04-11T18:55:51.909Z"
   },
   {
    "duration": 8,
    "start_time": "2022-04-11T18:55:51.937Z"
   },
   {
    "duration": 161,
    "start_time": "2022-04-11T18:55:51.947Z"
   },
   {
    "duration": 128,
    "start_time": "2022-04-11T18:55:52.109Z"
   },
   {
    "duration": 10,
    "start_time": "2022-04-11T18:55:52.238Z"
   },
   {
    "duration": 0,
    "start_time": "2022-04-11T18:55:52.251Z"
   },
   {
    "duration": 0,
    "start_time": "2022-04-11T18:55:52.252Z"
   },
   {
    "duration": 0,
    "start_time": "2022-04-11T18:55:52.253Z"
   },
   {
    "duration": 0,
    "start_time": "2022-04-11T18:55:52.254Z"
   },
   {
    "duration": 0,
    "start_time": "2022-04-11T18:55:52.255Z"
   },
   {
    "duration": 0,
    "start_time": "2022-04-11T18:55:52.256Z"
   },
   {
    "duration": 0,
    "start_time": "2022-04-11T18:55:52.273Z"
   },
   {
    "duration": 0,
    "start_time": "2022-04-11T18:55:52.274Z"
   },
   {
    "duration": 0,
    "start_time": "2022-04-11T18:55:52.275Z"
   },
   {
    "duration": 0,
    "start_time": "2022-04-11T18:55:52.276Z"
   },
   {
    "duration": 0,
    "start_time": "2022-04-11T18:55:52.277Z"
   },
   {
    "duration": 0,
    "start_time": "2022-04-11T18:55:52.278Z"
   },
   {
    "duration": 0,
    "start_time": "2022-04-11T18:55:52.278Z"
   },
   {
    "duration": 0,
    "start_time": "2022-04-11T18:55:52.279Z"
   },
   {
    "duration": 0,
    "start_time": "2022-04-11T18:55:52.280Z"
   },
   {
    "duration": 0,
    "start_time": "2022-04-11T18:55:52.281Z"
   },
   {
    "duration": 0,
    "start_time": "2022-04-11T18:55:52.282Z"
   },
   {
    "duration": 0,
    "start_time": "2022-04-11T18:55:52.283Z"
   },
   {
    "duration": 0,
    "start_time": "2022-04-11T18:55:52.283Z"
   },
   {
    "duration": 0,
    "start_time": "2022-04-11T18:55:52.285Z"
   },
   {
    "duration": 0,
    "start_time": "2022-04-11T18:55:52.286Z"
   },
   {
    "duration": 1,
    "start_time": "2022-04-11T18:55:52.286Z"
   },
   {
    "duration": 0,
    "start_time": "2022-04-11T18:55:52.288Z"
   },
   {
    "duration": 0,
    "start_time": "2022-04-11T18:55:52.288Z"
   },
   {
    "duration": 0,
    "start_time": "2022-04-11T18:55:52.289Z"
   },
   {
    "duration": 0,
    "start_time": "2022-04-11T18:55:52.290Z"
   },
   {
    "duration": 0,
    "start_time": "2022-04-11T18:55:52.291Z"
   },
   {
    "duration": 0,
    "start_time": "2022-04-11T18:55:52.292Z"
   },
   {
    "duration": 0,
    "start_time": "2022-04-11T18:55:52.293Z"
   },
   {
    "duration": 0,
    "start_time": "2022-04-11T18:55:52.293Z"
   },
   {
    "duration": 0,
    "start_time": "2022-04-11T18:55:52.294Z"
   },
   {
    "duration": 0,
    "start_time": "2022-04-11T18:55:52.295Z"
   },
   {
    "duration": 0,
    "start_time": "2022-04-11T18:55:52.296Z"
   },
   {
    "duration": 0,
    "start_time": "2022-04-11T18:55:52.297Z"
   },
   {
    "duration": 0,
    "start_time": "2022-04-11T18:55:52.298Z"
   },
   {
    "duration": 0,
    "start_time": "2022-04-11T18:55:52.299Z"
   },
   {
    "duration": 0,
    "start_time": "2022-04-11T18:55:52.300Z"
   },
   {
    "duration": 0,
    "start_time": "2022-04-11T18:55:52.301Z"
   },
   {
    "duration": 0,
    "start_time": "2022-04-11T18:55:52.302Z"
   },
   {
    "duration": 0,
    "start_time": "2022-04-11T18:55:52.302Z"
   },
   {
    "duration": 0,
    "start_time": "2022-04-11T18:55:52.303Z"
   },
   {
    "duration": 0,
    "start_time": "2022-04-11T18:55:52.304Z"
   },
   {
    "duration": 0,
    "start_time": "2022-04-11T18:55:52.305Z"
   },
   {
    "duration": 0,
    "start_time": "2022-04-11T18:55:52.306Z"
   },
   {
    "duration": 0,
    "start_time": "2022-04-11T18:55:52.307Z"
   },
   {
    "duration": 0,
    "start_time": "2022-04-11T18:55:52.308Z"
   },
   {
    "duration": 0,
    "start_time": "2022-04-11T18:55:52.309Z"
   },
   {
    "duration": 0,
    "start_time": "2022-04-11T18:55:52.310Z"
   },
   {
    "duration": 0,
    "start_time": "2022-04-11T18:55:52.310Z"
   },
   {
    "duration": 1576,
    "start_time": "2022-04-11T18:56:19.288Z"
   },
   {
    "duration": 3,
    "start_time": "2022-04-11T18:56:25.200Z"
   },
   {
    "duration": 20,
    "start_time": "2022-04-11T18:56:25.206Z"
   },
   {
    "duration": 12,
    "start_time": "2022-04-11T18:56:25.229Z"
   },
   {
    "duration": 200,
    "start_time": "2022-04-11T18:56:25.243Z"
   },
   {
    "duration": 32,
    "start_time": "2022-04-11T18:56:25.445Z"
   },
   {
    "duration": 130,
    "start_time": "2022-04-11T18:56:25.479Z"
   },
   {
    "duration": 62,
    "start_time": "2022-04-11T18:56:25.611Z"
   },
   {
    "duration": 24,
    "start_time": "2022-04-11T18:56:25.675Z"
   },
   {
    "duration": 16,
    "start_time": "2022-04-11T18:56:25.700Z"
   },
   {
    "duration": 29,
    "start_time": "2022-04-11T18:56:25.717Z"
   },
   {
    "duration": 100,
    "start_time": "2022-04-11T18:56:25.773Z"
   },
   {
    "duration": 63,
    "start_time": "2022-04-11T18:56:25.875Z"
   },
   {
    "duration": 67,
    "start_time": "2022-04-11T18:56:25.940Z"
   },
   {
    "duration": 27,
    "start_time": "2022-04-11T18:56:26.009Z"
   },
   {
    "duration": 7,
    "start_time": "2022-04-11T18:56:26.038Z"
   },
   {
    "duration": 158,
    "start_time": "2022-04-11T18:56:26.047Z"
   },
   {
    "duration": 131,
    "start_time": "2022-04-11T18:56:26.207Z"
   },
   {
    "duration": 11,
    "start_time": "2022-04-11T18:56:26.340Z"
   },
   {
    "duration": 0,
    "start_time": "2022-04-11T18:56:26.353Z"
   },
   {
    "duration": 0,
    "start_time": "2022-04-11T18:56:26.355Z"
   },
   {
    "duration": 0,
    "start_time": "2022-04-11T18:56:26.356Z"
   },
   {
    "duration": 0,
    "start_time": "2022-04-11T18:56:26.374Z"
   },
   {
    "duration": 0,
    "start_time": "2022-04-11T18:56:26.375Z"
   },
   {
    "duration": 0,
    "start_time": "2022-04-11T18:56:26.376Z"
   },
   {
    "duration": 0,
    "start_time": "2022-04-11T18:56:26.377Z"
   },
   {
    "duration": 0,
    "start_time": "2022-04-11T18:56:26.379Z"
   },
   {
    "duration": 0,
    "start_time": "2022-04-11T18:56:26.380Z"
   },
   {
    "duration": 0,
    "start_time": "2022-04-11T18:56:26.381Z"
   },
   {
    "duration": 0,
    "start_time": "2022-04-11T18:56:26.382Z"
   },
   {
    "duration": 0,
    "start_time": "2022-04-11T18:56:26.383Z"
   },
   {
    "duration": 0,
    "start_time": "2022-04-11T18:56:26.384Z"
   },
   {
    "duration": 0,
    "start_time": "2022-04-11T18:56:26.385Z"
   },
   {
    "duration": 0,
    "start_time": "2022-04-11T18:56:26.386Z"
   },
   {
    "duration": 0,
    "start_time": "2022-04-11T18:56:26.387Z"
   },
   {
    "duration": 0,
    "start_time": "2022-04-11T18:56:26.388Z"
   },
   {
    "duration": 0,
    "start_time": "2022-04-11T18:56:26.389Z"
   },
   {
    "duration": 0,
    "start_time": "2022-04-11T18:56:26.390Z"
   },
   {
    "duration": 0,
    "start_time": "2022-04-11T18:56:26.391Z"
   },
   {
    "duration": 0,
    "start_time": "2022-04-11T18:56:26.392Z"
   },
   {
    "duration": 0,
    "start_time": "2022-04-11T18:56:26.393Z"
   },
   {
    "duration": 0,
    "start_time": "2022-04-11T18:56:26.394Z"
   },
   {
    "duration": 0,
    "start_time": "2022-04-11T18:56:26.396Z"
   },
   {
    "duration": 1,
    "start_time": "2022-04-11T18:56:26.396Z"
   },
   {
    "duration": 0,
    "start_time": "2022-04-11T18:56:26.397Z"
   },
   {
    "duration": 0,
    "start_time": "2022-04-11T18:56:26.398Z"
   },
   {
    "duration": 0,
    "start_time": "2022-04-11T18:56:26.399Z"
   },
   {
    "duration": 0,
    "start_time": "2022-04-11T18:56:26.400Z"
   },
   {
    "duration": 0,
    "start_time": "2022-04-11T18:56:26.401Z"
   },
   {
    "duration": 0,
    "start_time": "2022-04-11T18:56:26.402Z"
   },
   {
    "duration": 0,
    "start_time": "2022-04-11T18:56:26.403Z"
   },
   {
    "duration": 0,
    "start_time": "2022-04-11T18:56:26.404Z"
   },
   {
    "duration": 0,
    "start_time": "2022-04-11T18:56:26.405Z"
   },
   {
    "duration": 0,
    "start_time": "2022-04-11T18:56:26.406Z"
   },
   {
    "duration": 0,
    "start_time": "2022-04-11T18:56:26.407Z"
   },
   {
    "duration": 0,
    "start_time": "2022-04-11T18:56:26.408Z"
   },
   {
    "duration": 0,
    "start_time": "2022-04-11T18:56:26.410Z"
   },
   {
    "duration": 0,
    "start_time": "2022-04-11T18:56:26.473Z"
   },
   {
    "duration": 0,
    "start_time": "2022-04-11T18:56:26.474Z"
   },
   {
    "duration": 0,
    "start_time": "2022-04-11T18:56:26.475Z"
   },
   {
    "duration": 0,
    "start_time": "2022-04-11T18:56:26.477Z"
   },
   {
    "duration": 0,
    "start_time": "2022-04-11T18:56:26.478Z"
   },
   {
    "duration": 0,
    "start_time": "2022-04-11T18:56:26.479Z"
   },
   {
    "duration": 0,
    "start_time": "2022-04-11T18:56:26.480Z"
   },
   {
    "duration": 0,
    "start_time": "2022-04-11T18:56:26.482Z"
   },
   {
    "duration": 0,
    "start_time": "2022-04-11T18:56:26.483Z"
   },
   {
    "duration": 0,
    "start_time": "2022-04-11T18:56:26.484Z"
   },
   {
    "duration": 0,
    "start_time": "2022-04-11T18:56:26.485Z"
   },
   {
    "duration": 12,
    "start_time": "2022-04-11T18:56:32.951Z"
   },
   {
    "duration": 1359,
    "start_time": "2022-04-11T18:56:57.368Z"
   },
   {
    "duration": 4,
    "start_time": "2022-04-11T18:57:02.920Z"
   },
   {
    "duration": 15,
    "start_time": "2022-04-11T18:57:03.082Z"
   },
   {
    "duration": 10,
    "start_time": "2022-04-11T18:57:03.099Z"
   },
   {
    "duration": 186,
    "start_time": "2022-04-11T18:57:03.111Z"
   },
   {
    "duration": 11,
    "start_time": "2022-04-11T18:57:03.298Z"
   },
   {
    "duration": 135,
    "start_time": "2022-04-11T18:57:03.311Z"
   },
   {
    "duration": 61,
    "start_time": "2022-04-11T18:57:03.448Z"
   },
   {
    "duration": 25,
    "start_time": "2022-04-11T18:57:03.510Z"
   },
   {
    "duration": 38,
    "start_time": "2022-04-11T18:57:03.537Z"
   },
   {
    "duration": 30,
    "start_time": "2022-04-11T18:57:03.577Z"
   },
   {
    "duration": 109,
    "start_time": "2022-04-11T18:57:03.609Z"
   },
   {
    "duration": 78,
    "start_time": "2022-04-11T18:57:03.720Z"
   },
   {
    "duration": 50,
    "start_time": "2022-04-11T18:57:03.799Z"
   },
   {
    "duration": 43,
    "start_time": "2022-04-11T18:57:03.850Z"
   },
   {
    "duration": 7,
    "start_time": "2022-04-11T18:57:03.897Z"
   },
   {
    "duration": 153,
    "start_time": "2022-04-11T18:57:03.905Z"
   },
   {
    "duration": 141,
    "start_time": "2022-04-11T18:57:04.060Z"
   },
   {
    "duration": 11,
    "start_time": "2022-04-11T18:57:04.203Z"
   },
   {
    "duration": 24,
    "start_time": "2022-04-11T18:57:04.216Z"
   },
   {
    "duration": 7,
    "start_time": "2022-04-11T18:57:04.242Z"
   },
   {
    "duration": 35,
    "start_time": "2022-04-11T18:57:04.274Z"
   },
   {
    "duration": 16,
    "start_time": "2022-04-11T18:57:04.311Z"
   },
   {
    "duration": 19,
    "start_time": "2022-04-11T18:57:04.329Z"
   },
   {
    "duration": 41,
    "start_time": "2022-04-11T18:57:04.350Z"
   },
   {
    "duration": 22,
    "start_time": "2022-04-11T18:57:04.393Z"
   },
   {
    "duration": 9,
    "start_time": "2022-04-11T18:57:04.417Z"
   },
   {
    "duration": 14,
    "start_time": "2022-04-11T18:57:04.428Z"
   },
   {
    "duration": 7,
    "start_time": "2022-04-11T18:57:04.474Z"
   },
   {
    "duration": 51,
    "start_time": "2022-04-11T18:57:04.483Z"
   },
   {
    "duration": 37,
    "start_time": "2022-04-11T18:57:04.536Z"
   },
   {
    "duration": 8,
    "start_time": "2022-04-11T18:57:04.574Z"
   },
   {
    "duration": 29,
    "start_time": "2022-04-11T18:57:04.584Z"
   },
   {
    "duration": 6,
    "start_time": "2022-04-11T18:57:04.614Z"
   },
   {
    "duration": 12,
    "start_time": "2022-04-11T18:57:04.621Z"
   },
   {
    "duration": 10,
    "start_time": "2022-04-11T18:57:04.635Z"
   },
   {
    "duration": 6,
    "start_time": "2022-04-11T18:57:04.647Z"
   },
   {
    "duration": 192,
    "start_time": "2022-04-11T18:57:04.673Z"
   },
   {
    "duration": 190,
    "start_time": "2022-04-11T18:57:04.866Z"
   },
   {
    "duration": 4,
    "start_time": "2022-04-11T18:57:05.058Z"
   },
   {
    "duration": 6,
    "start_time": "2022-04-11T18:57:05.072Z"
   },
   {
    "duration": 156,
    "start_time": "2022-04-11T18:57:05.079Z"
   },
   {
    "duration": 5,
    "start_time": "2022-04-11T18:57:05.239Z"
   },
   {
    "duration": 12,
    "start_time": "2022-04-11T18:57:05.245Z"
   },
   {
    "duration": 26,
    "start_time": "2022-04-11T18:57:05.273Z"
   },
   {
    "duration": 6,
    "start_time": "2022-04-11T18:57:05.301Z"
   },
   {
    "duration": 5,
    "start_time": "2022-04-11T18:57:05.309Z"
   },
   {
    "duration": 11,
    "start_time": "2022-04-11T18:57:05.315Z"
   },
   {
    "duration": 7,
    "start_time": "2022-04-11T18:57:05.327Z"
   },
   {
    "duration": 8,
    "start_time": "2022-04-11T18:57:05.335Z"
   },
   {
    "duration": 304,
    "start_time": "2022-04-11T18:57:05.344Z"
   },
   {
    "duration": 23,
    "start_time": "2022-04-11T18:57:05.650Z"
   },
   {
    "duration": 10,
    "start_time": "2022-04-11T18:57:05.675Z"
   },
   {
    "duration": 5,
    "start_time": "2022-04-11T18:57:05.687Z"
   },
   {
    "duration": 190,
    "start_time": "2022-04-11T18:57:05.694Z"
   },
   {
    "duration": 12,
    "start_time": "2022-04-11T18:57:05.886Z"
   },
   {
    "duration": 19,
    "start_time": "2022-04-11T18:57:05.900Z"
   },
   {
    "duration": 7,
    "start_time": "2022-04-11T18:57:05.920Z"
   },
   {
    "duration": 183,
    "start_time": "2022-04-11T18:57:05.929Z"
   },
   {
    "duration": 10,
    "start_time": "2022-04-11T18:57:06.114Z"
   },
   {
    "duration": 19,
    "start_time": "2022-04-11T18:57:06.126Z"
   },
   {
    "duration": 49,
    "start_time": "2022-04-11T18:57:06.147Z"
   },
   {
    "duration": 5,
    "start_time": "2022-04-11T18:57:06.197Z"
   },
   {
    "duration": 27,
    "start_time": "2022-04-11T18:57:06.204Z"
   },
   {
    "duration": 11,
    "start_time": "2022-04-11T18:57:06.232Z"
   },
   {
    "duration": 33,
    "start_time": "2022-04-11T18:57:06.244Z"
   },
   {
    "duration": 26,
    "start_time": "2022-04-11T18:57:06.279Z"
   },
   {
    "duration": 6,
    "start_time": "2022-04-11T18:57:06.306Z"
   },
   {
    "duration": 1348,
    "start_time": "2022-04-11T18:57:59.040Z"
   },
   {
    "duration": 4,
    "start_time": "2022-04-11T18:58:03.560Z"
   },
   {
    "duration": 18,
    "start_time": "2022-04-11T18:58:03.567Z"
   },
   {
    "duration": 13,
    "start_time": "2022-04-11T18:58:03.587Z"
   },
   {
    "duration": 226,
    "start_time": "2022-04-11T18:58:03.602Z"
   },
   {
    "duration": 43,
    "start_time": "2022-04-11T18:58:03.831Z"
   },
   {
    "duration": 156,
    "start_time": "2022-04-11T18:58:03.876Z"
   },
   {
    "duration": 68,
    "start_time": "2022-04-11T18:58:04.034Z"
   },
   {
    "duration": 30,
    "start_time": "2022-04-11T18:58:04.104Z"
   },
   {
    "duration": 38,
    "start_time": "2022-04-11T18:58:04.136Z"
   },
   {
    "duration": 30,
    "start_time": "2022-04-11T18:58:04.177Z"
   },
   {
    "duration": 114,
    "start_time": "2022-04-11T18:58:04.210Z"
   },
   {
    "duration": 77,
    "start_time": "2022-04-11T18:58:04.326Z"
   },
   {
    "duration": 49,
    "start_time": "2022-04-11T18:58:04.404Z"
   },
   {
    "duration": 41,
    "start_time": "2022-04-11T18:58:04.454Z"
   },
   {
    "duration": 7,
    "start_time": "2022-04-11T18:58:04.497Z"
   },
   {
    "duration": 145,
    "start_time": "2022-04-11T18:58:04.506Z"
   },
   {
    "duration": 142,
    "start_time": "2022-04-11T18:58:04.652Z"
   },
   {
    "duration": 9,
    "start_time": "2022-04-11T18:58:04.796Z"
   },
   {
    "duration": 23,
    "start_time": "2022-04-11T18:58:04.807Z"
   },
   {
    "duration": 7,
    "start_time": "2022-04-11T18:58:04.832Z"
   },
   {
    "duration": 46,
    "start_time": "2022-04-11T18:58:04.840Z"
   },
   {
    "duration": 15,
    "start_time": "2022-04-11T18:58:04.888Z"
   },
   {
    "duration": 21,
    "start_time": "2022-04-11T18:58:04.905Z"
   },
   {
    "duration": 46,
    "start_time": "2022-04-11T18:58:04.927Z"
   },
   {
    "duration": 22,
    "start_time": "2022-04-11T18:58:04.975Z"
   },
   {
    "duration": 10,
    "start_time": "2022-04-11T18:58:04.999Z"
   },
   {
    "duration": 16,
    "start_time": "2022-04-11T18:58:05.011Z"
   },
   {
    "duration": 11,
    "start_time": "2022-04-11T18:58:05.029Z"
   },
   {
    "duration": 51,
    "start_time": "2022-04-11T18:58:05.073Z"
   },
   {
    "duration": 18,
    "start_time": "2022-04-11T18:58:05.126Z"
   },
   {
    "duration": 34,
    "start_time": "2022-04-11T18:58:05.146Z"
   },
   {
    "duration": 31,
    "start_time": "2022-04-11T18:58:05.181Z"
   },
   {
    "duration": 6,
    "start_time": "2022-04-11T18:58:05.214Z"
   },
   {
    "duration": 10,
    "start_time": "2022-04-11T18:58:05.221Z"
   },
   {
    "duration": 10,
    "start_time": "2022-04-11T18:58:05.232Z"
   },
   {
    "duration": 6,
    "start_time": "2022-04-11T18:58:05.244Z"
   },
   {
    "duration": 198,
    "start_time": "2022-04-11T18:58:05.252Z"
   },
   {
    "duration": 194,
    "start_time": "2022-04-11T18:58:05.452Z"
   },
   {
    "duration": 5,
    "start_time": "2022-04-11T18:58:05.647Z"
   },
   {
    "duration": 14,
    "start_time": "2022-04-11T18:58:05.654Z"
   },
   {
    "duration": 160,
    "start_time": "2022-04-11T18:58:05.673Z"
   },
   {
    "duration": 4,
    "start_time": "2022-04-11T18:58:05.835Z"
   },
   {
    "duration": 16,
    "start_time": "2022-04-11T18:58:05.841Z"
   },
   {
    "duration": 34,
    "start_time": "2022-04-11T18:58:05.858Z"
   },
   {
    "duration": 7,
    "start_time": "2022-04-11T18:58:05.894Z"
   },
   {
    "duration": 7,
    "start_time": "2022-04-11T18:58:05.902Z"
   },
   {
    "duration": 13,
    "start_time": "2022-04-11T18:58:05.911Z"
   },
   {
    "duration": 13,
    "start_time": "2022-04-11T18:58:05.925Z"
   },
   {
    "duration": 6,
    "start_time": "2022-04-11T18:58:05.940Z"
   },
   {
    "duration": 193,
    "start_time": "2022-04-11T18:58:05.948Z"
   },
   {
    "duration": 10,
    "start_time": "2022-04-11T18:58:06.143Z"
   },
   {
    "duration": 26,
    "start_time": "2022-04-11T18:58:06.155Z"
   },
   {
    "duration": 5,
    "start_time": "2022-04-11T18:58:06.183Z"
   },
   {
    "duration": 174,
    "start_time": "2022-04-11T18:58:06.189Z"
   },
   {
    "duration": 15,
    "start_time": "2022-04-11T18:58:06.364Z"
   },
   {
    "duration": 13,
    "start_time": "2022-04-11T18:58:06.380Z"
   },
   {
    "duration": 6,
    "start_time": "2022-04-11T18:58:06.395Z"
   },
   {
    "duration": 182,
    "start_time": "2022-04-11T18:58:06.403Z"
   },
   {
    "duration": 10,
    "start_time": "2022-04-11T18:58:06.587Z"
   },
   {
    "duration": 12,
    "start_time": "2022-04-11T18:58:06.599Z"
   },
   {
    "duration": 34,
    "start_time": "2022-04-11T18:58:06.612Z"
   },
   {
    "duration": 29,
    "start_time": "2022-04-11T18:58:06.647Z"
   },
   {
    "duration": 11,
    "start_time": "2022-04-11T18:58:06.678Z"
   },
   {
    "duration": 10,
    "start_time": "2022-04-11T18:58:06.691Z"
   },
   {
    "duration": 26,
    "start_time": "2022-04-11T18:58:06.702Z"
   },
   {
    "duration": 44,
    "start_time": "2022-04-11T18:58:06.730Z"
   },
   {
    "duration": 5,
    "start_time": "2022-04-11T18:58:06.776Z"
   },
   {
    "duration": 1384,
    "start_time": "2022-04-11T18:58:43.916Z"
   },
   {
    "duration": 3,
    "start_time": "2022-04-11T18:58:48.912Z"
   },
   {
    "duration": 20,
    "start_time": "2022-04-11T18:58:48.917Z"
   },
   {
    "duration": 10,
    "start_time": "2022-04-11T18:58:48.939Z"
   },
   {
    "duration": 188,
    "start_time": "2022-04-11T18:58:48.951Z"
   },
   {
    "duration": 33,
    "start_time": "2022-04-11T18:58:49.141Z"
   },
   {
    "duration": 119,
    "start_time": "2022-04-11T18:58:49.176Z"
   },
   {
    "duration": 49,
    "start_time": "2022-04-11T18:58:49.297Z"
   },
   {
    "duration": 35,
    "start_time": "2022-04-11T18:58:49.348Z"
   },
   {
    "duration": 16,
    "start_time": "2022-04-11T18:58:49.384Z"
   },
   {
    "duration": 28,
    "start_time": "2022-04-11T18:58:49.401Z"
   },
   {
    "duration": 118,
    "start_time": "2022-04-11T18:58:49.431Z"
   },
   {
    "duration": 71,
    "start_time": "2022-04-11T18:58:49.551Z"
   },
   {
    "duration": 58,
    "start_time": "2022-04-11T18:58:49.624Z"
   },
   {
    "duration": 24,
    "start_time": "2022-04-11T18:58:49.684Z"
   },
   {
    "duration": 7,
    "start_time": "2022-04-11T18:58:49.709Z"
   },
   {
    "duration": 146,
    "start_time": "2022-04-11T18:58:49.717Z"
   },
   {
    "duration": 142,
    "start_time": "2022-04-11T18:58:49.872Z"
   },
   {
    "duration": 11,
    "start_time": "2022-04-11T18:58:50.015Z"
   },
   {
    "duration": 26,
    "start_time": "2022-04-11T18:58:50.028Z"
   },
   {
    "duration": 8,
    "start_time": "2022-04-11T18:58:50.074Z"
   },
   {
    "duration": 38,
    "start_time": "2022-04-11T18:58:50.083Z"
   },
   {
    "duration": 16,
    "start_time": "2022-04-11T18:58:50.123Z"
   },
   {
    "duration": 34,
    "start_time": "2022-04-11T18:58:50.141Z"
   },
   {
    "duration": 19,
    "start_time": "2022-04-11T18:58:50.177Z"
   },
   {
    "duration": 20,
    "start_time": "2022-04-11T18:58:50.197Z"
   },
   {
    "duration": 9,
    "start_time": "2022-04-11T18:58:50.219Z"
   },
   {
    "duration": 48,
    "start_time": "2022-04-11T18:58:50.229Z"
   },
   {
    "duration": 7,
    "start_time": "2022-04-11T18:58:50.279Z"
   },
   {
    "duration": 48,
    "start_time": "2022-04-11T18:58:50.290Z"
   },
   {
    "duration": 36,
    "start_time": "2022-04-11T18:58:50.340Z"
   },
   {
    "duration": 7,
    "start_time": "2022-04-11T18:58:50.378Z"
   },
   {
    "duration": 27,
    "start_time": "2022-04-11T18:58:50.386Z"
   },
   {
    "duration": 6,
    "start_time": "2022-04-11T18:58:50.414Z"
   },
   {
    "duration": 12,
    "start_time": "2022-04-11T18:58:50.422Z"
   },
   {
    "duration": 9,
    "start_time": "2022-04-11T18:58:50.436Z"
   },
   {
    "duration": 26,
    "start_time": "2022-04-11T18:58:50.447Z"
   },
   {
    "duration": 287,
    "start_time": "2022-04-11T18:58:50.475Z"
   },
   {
    "duration": 184,
    "start_time": "2022-04-11T18:58:50.764Z"
   },
   {
    "duration": 4,
    "start_time": "2022-04-11T18:58:50.950Z"
   },
   {
    "duration": 17,
    "start_time": "2022-04-11T18:58:50.956Z"
   },
   {
    "duration": 158,
    "start_time": "2022-04-11T18:58:50.974Z"
   },
   {
    "duration": 4,
    "start_time": "2022-04-11T18:58:51.134Z"
   },
   {
    "duration": 13,
    "start_time": "2022-04-11T18:58:51.140Z"
   },
   {
    "duration": 34,
    "start_time": "2022-04-11T18:58:51.154Z"
   },
   {
    "duration": 5,
    "start_time": "2022-04-11T18:58:51.190Z"
   },
   {
    "duration": 9,
    "start_time": "2022-04-11T18:58:51.197Z"
   },
   {
    "duration": 11,
    "start_time": "2022-04-11T18:58:51.207Z"
   },
   {
    "duration": 7,
    "start_time": "2022-04-11T18:58:51.219Z"
   },
   {
    "duration": 6,
    "start_time": "2022-04-11T18:58:51.227Z"
   },
   {
    "duration": 182,
    "start_time": "2022-04-11T18:58:51.234Z"
   },
   {
    "duration": 9,
    "start_time": "2022-04-11T18:58:51.418Z"
   },
   {
    "duration": 12,
    "start_time": "2022-04-11T18:58:51.429Z"
   },
   {
    "duration": 4,
    "start_time": "2022-04-11T18:58:51.443Z"
   },
   {
    "duration": 176,
    "start_time": "2022-04-11T18:58:51.449Z"
   },
   {
    "duration": 10,
    "start_time": "2022-04-11T18:58:51.627Z"
   },
   {
    "duration": 11,
    "start_time": "2022-04-11T18:58:51.639Z"
   },
   {
    "duration": 22,
    "start_time": "2022-04-11T18:58:51.653Z"
   },
   {
    "duration": 172,
    "start_time": "2022-04-11T18:58:51.677Z"
   },
   {
    "duration": 22,
    "start_time": "2022-04-11T18:58:51.851Z"
   },
   {
    "duration": 8,
    "start_time": "2022-04-11T18:58:51.875Z"
   },
   {
    "duration": 31,
    "start_time": "2022-04-11T18:58:51.885Z"
   },
   {
    "duration": 4,
    "start_time": "2022-04-11T18:58:51.918Z"
   },
   {
    "duration": 10,
    "start_time": "2022-04-11T18:58:51.924Z"
   },
   {
    "duration": 11,
    "start_time": "2022-04-11T18:58:51.935Z"
   },
   {
    "duration": 46,
    "start_time": "2022-04-11T18:58:51.947Z"
   },
   {
    "duration": 24,
    "start_time": "2022-04-11T18:58:51.994Z"
   },
   {
    "duration": 5,
    "start_time": "2022-04-11T18:58:52.020Z"
   },
   {
    "duration": 1355,
    "start_time": "2022-04-11T19:01:19.300Z"
   },
   {
    "duration": 4,
    "start_time": "2022-04-11T19:01:28.116Z"
   },
   {
    "duration": 18,
    "start_time": "2022-04-11T19:01:28.122Z"
   },
   {
    "duration": 12,
    "start_time": "2022-04-11T19:01:28.142Z"
   },
   {
    "duration": 236,
    "start_time": "2022-04-11T19:01:28.156Z"
   },
   {
    "duration": 13,
    "start_time": "2022-04-11T19:01:28.395Z"
   },
   {
    "duration": 157,
    "start_time": "2022-04-11T19:01:28.410Z"
   },
   {
    "duration": 55,
    "start_time": "2022-04-11T19:01:28.573Z"
   },
   {
    "duration": 25,
    "start_time": "2022-04-11T19:01:28.630Z"
   },
   {
    "duration": 17,
    "start_time": "2022-04-11T19:01:28.674Z"
   },
   {
    "duration": 28,
    "start_time": "2022-04-11T19:01:28.693Z"
   },
   {
    "duration": 123,
    "start_time": "2022-04-11T19:01:28.724Z"
   },
   {
    "duration": 80,
    "start_time": "2022-04-11T19:01:28.849Z"
   },
   {
    "duration": 62,
    "start_time": "2022-04-11T19:01:28.931Z"
   },
   {
    "duration": 29,
    "start_time": "2022-04-11T19:01:28.996Z"
   },
   {
    "duration": 7,
    "start_time": "2022-04-11T19:01:29.028Z"
   },
   {
    "duration": 164,
    "start_time": "2022-04-11T19:01:29.036Z"
   },
   {
    "duration": 124,
    "start_time": "2022-04-11T19:01:29.201Z"
   },
   {
    "duration": 12,
    "start_time": "2022-04-11T19:01:29.327Z"
   },
   {
    "duration": 43,
    "start_time": "2022-04-11T19:01:29.340Z"
   },
   {
    "duration": 8,
    "start_time": "2022-04-11T19:01:29.385Z"
   },
   {
    "duration": 38,
    "start_time": "2022-04-11T19:01:29.395Z"
   },
   {
    "duration": 17,
    "start_time": "2022-04-11T19:01:29.435Z"
   },
   {
    "duration": 37,
    "start_time": "2022-04-11T19:01:29.454Z"
   },
   {
    "duration": 21,
    "start_time": "2022-04-11T19:01:29.493Z"
   },
   {
    "duration": 24,
    "start_time": "2022-04-11T19:01:29.515Z"
   },
   {
    "duration": 40,
    "start_time": "2022-04-11T19:01:29.541Z"
   },
   {
    "duration": 16,
    "start_time": "2022-04-11T19:01:29.582Z"
   },
   {
    "duration": 8,
    "start_time": "2022-04-11T19:01:29.599Z"
   },
   {
    "duration": 72,
    "start_time": "2022-04-11T19:01:29.609Z"
   },
   {
    "duration": 17,
    "start_time": "2022-04-11T19:01:29.683Z"
   },
   {
    "duration": 8,
    "start_time": "2022-04-11T19:01:29.702Z"
   },
   {
    "duration": 30,
    "start_time": "2022-04-11T19:01:29.712Z"
   },
   {
    "duration": 34,
    "start_time": "2022-04-11T19:01:29.743Z"
   },
   {
    "duration": 6,
    "start_time": "2022-04-11T19:01:29.779Z"
   },
   {
    "duration": 11,
    "start_time": "2022-04-11T19:01:29.786Z"
   },
   {
    "duration": 6,
    "start_time": "2022-04-11T19:01:29.798Z"
   },
   {
    "duration": 219,
    "start_time": "2022-04-11T19:01:29.806Z"
   },
   {
    "duration": 210,
    "start_time": "2022-04-11T19:01:30.027Z"
   },
   {
    "duration": 5,
    "start_time": "2022-04-11T19:01:30.239Z"
   },
   {
    "duration": 7,
    "start_time": "2022-04-11T19:01:30.246Z"
   },
   {
    "duration": 163,
    "start_time": "2022-04-11T19:01:30.275Z"
   },
   {
    "duration": 6,
    "start_time": "2022-04-11T19:01:30.439Z"
   },
   {
    "duration": 26,
    "start_time": "2022-04-11T19:01:30.447Z"
   },
   {
    "duration": 28,
    "start_time": "2022-04-11T19:01:30.475Z"
   },
   {
    "duration": 8,
    "start_time": "2022-04-11T19:01:30.504Z"
   },
   {
    "duration": 11,
    "start_time": "2022-04-11T19:01:30.513Z"
   },
   {
    "duration": 10,
    "start_time": "2022-04-11T19:01:30.525Z"
   },
   {
    "duration": 23,
    "start_time": "2022-04-11T19:01:30.537Z"
   },
   {
    "duration": 15,
    "start_time": "2022-04-11T19:01:30.562Z"
   },
   {
    "duration": 183,
    "start_time": "2022-04-11T19:01:30.579Z"
   },
   {
    "duration": 17,
    "start_time": "2022-04-11T19:01:30.764Z"
   },
   {
    "duration": 15,
    "start_time": "2022-04-11T19:01:30.782Z"
   },
   {
    "duration": 12,
    "start_time": "2022-04-11T19:01:30.799Z"
   },
   {
    "duration": 308,
    "start_time": "2022-04-11T19:01:30.813Z"
   },
   {
    "duration": 10,
    "start_time": "2022-04-11T19:01:31.123Z"
   },
   {
    "duration": 13,
    "start_time": "2022-04-11T19:01:31.135Z"
   },
   {
    "duration": 23,
    "start_time": "2022-04-11T19:01:31.150Z"
   },
   {
    "duration": 168,
    "start_time": "2022-04-11T19:01:31.175Z"
   },
   {
    "duration": 11,
    "start_time": "2022-04-11T19:01:31.344Z"
   },
   {
    "duration": 28,
    "start_time": "2022-04-11T19:01:31.357Z"
   },
   {
    "duration": 49,
    "start_time": "2022-04-11T19:01:31.387Z"
   },
   {
    "duration": 5,
    "start_time": "2022-04-11T19:01:31.437Z"
   },
   {
    "duration": 21,
    "start_time": "2022-04-11T19:01:31.444Z"
   },
   {
    "duration": 18,
    "start_time": "2022-04-11T19:01:31.467Z"
   },
   {
    "duration": 36,
    "start_time": "2022-04-11T19:01:31.487Z"
   },
   {
    "duration": 37,
    "start_time": "2022-04-11T19:01:31.525Z"
   },
   {
    "duration": 6,
    "start_time": "2022-04-11T19:01:31.563Z"
   },
   {
    "duration": 1527,
    "start_time": "2022-04-11T19:04:38.676Z"
   },
   {
    "duration": 4,
    "start_time": "2022-04-11T19:04:43.711Z"
   },
   {
    "duration": 19,
    "start_time": "2022-04-11T19:04:43.716Z"
   },
   {
    "duration": 10,
    "start_time": "2022-04-11T19:04:43.737Z"
   },
   {
    "duration": 189,
    "start_time": "2022-04-11T19:04:43.749Z"
   },
   {
    "duration": 35,
    "start_time": "2022-04-11T19:04:43.940Z"
   },
   {
    "duration": 145,
    "start_time": "2022-04-11T19:04:43.977Z"
   },
   {
    "duration": 61,
    "start_time": "2022-04-11T19:04:44.123Z"
   },
   {
    "duration": 27,
    "start_time": "2022-04-11T19:04:44.186Z"
   },
   {
    "duration": 17,
    "start_time": "2022-04-11T19:04:44.215Z"
   },
   {
    "duration": 55,
    "start_time": "2022-04-11T19:04:44.234Z"
   },
   {
    "duration": 105,
    "start_time": "2022-04-11T19:04:44.291Z"
   },
   {
    "duration": 75,
    "start_time": "2022-04-11T19:04:44.398Z"
   },
   {
    "duration": 48,
    "start_time": "2022-04-11T19:04:44.475Z"
   },
   {
    "duration": 26,
    "start_time": "2022-04-11T19:04:44.525Z"
   },
   {
    "duration": 8,
    "start_time": "2022-04-11T19:04:44.574Z"
   },
   {
    "duration": 155,
    "start_time": "2022-04-11T19:04:44.584Z"
   },
   {
    "duration": 113,
    "start_time": "2022-04-11T19:04:44.741Z"
   },
   {
    "duration": 27,
    "start_time": "2022-04-11T19:04:44.856Z"
   },
   {
    "duration": 27,
    "start_time": "2022-04-11T19:04:44.884Z"
   },
   {
    "duration": 7,
    "start_time": "2022-04-11T19:04:44.913Z"
   },
   {
    "duration": 43,
    "start_time": "2022-04-11T19:04:44.921Z"
   },
   {
    "duration": 22,
    "start_time": "2022-04-11T19:04:44.966Z"
   },
   {
    "duration": 22,
    "start_time": "2022-04-11T19:04:44.990Z"
   },
   {
    "duration": 25,
    "start_time": "2022-04-11T19:04:45.014Z"
   },
   {
    "duration": 54,
    "start_time": "2022-04-11T19:04:45.040Z"
   },
   {
    "duration": 9,
    "start_time": "2022-04-11T19:04:45.096Z"
   },
   {
    "duration": 20,
    "start_time": "2022-04-11T19:04:45.107Z"
   },
   {
    "duration": 8,
    "start_time": "2022-04-11T19:04:45.129Z"
   },
   {
    "duration": 75,
    "start_time": "2022-04-11T19:04:45.141Z"
   },
   {
    "duration": 16,
    "start_time": "2022-04-11T19:04:45.218Z"
   },
   {
    "duration": 7,
    "start_time": "2022-04-11T19:04:45.236Z"
   },
   {
    "duration": 49,
    "start_time": "2022-04-11T19:04:45.245Z"
   },
   {
    "duration": 7,
    "start_time": "2022-04-11T19:04:45.295Z"
   },
   {
    "duration": 10,
    "start_time": "2022-04-11T19:04:45.303Z"
   },
   {
    "duration": 14,
    "start_time": "2022-04-11T19:04:45.314Z"
   },
   {
    "duration": 6,
    "start_time": "2022-04-11T19:04:45.330Z"
   },
   {
    "duration": 209,
    "start_time": "2022-04-11T19:04:45.337Z"
   },
   {
    "duration": 194,
    "start_time": "2022-04-11T19:04:45.548Z"
   },
   {
    "duration": 5,
    "start_time": "2022-04-11T19:04:45.744Z"
   },
   {
    "duration": 8,
    "start_time": "2022-04-11T19:04:45.751Z"
   },
   {
    "duration": 155,
    "start_time": "2022-04-11T19:04:45.774Z"
   },
   {
    "duration": 5,
    "start_time": "2022-04-11T19:04:45.931Z"
   },
   {
    "duration": 10,
    "start_time": "2022-04-11T19:04:45.937Z"
   },
   {
    "duration": 42,
    "start_time": "2022-04-11T19:04:45.949Z"
   },
   {
    "duration": 7,
    "start_time": "2022-04-11T19:04:45.993Z"
   },
   {
    "duration": 7,
    "start_time": "2022-04-11T19:04:46.001Z"
   },
   {
    "duration": 10,
    "start_time": "2022-04-11T19:04:46.010Z"
   },
   {
    "duration": 7,
    "start_time": "2022-04-11T19:04:46.022Z"
   },
   {
    "duration": 6,
    "start_time": "2022-04-11T19:04:46.030Z"
   },
   {
    "duration": 196,
    "start_time": "2022-04-11T19:04:46.038Z"
   },
   {
    "duration": 10,
    "start_time": "2022-04-11T19:04:46.236Z"
   },
   {
    "duration": 28,
    "start_time": "2022-04-11T19:04:46.248Z"
   },
   {
    "duration": 5,
    "start_time": "2022-04-11T19:04:46.277Z"
   },
   {
    "duration": 177,
    "start_time": "2022-04-11T19:04:46.284Z"
   },
   {
    "duration": 17,
    "start_time": "2022-04-11T19:04:46.463Z"
   },
   {
    "duration": 13,
    "start_time": "2022-04-11T19:04:46.481Z"
   },
   {
    "duration": 8,
    "start_time": "2022-04-11T19:04:46.496Z"
   },
   {
    "duration": 159,
    "start_time": "2022-04-11T19:04:46.506Z"
   },
   {
    "duration": 12,
    "start_time": "2022-04-11T19:04:46.667Z"
   },
   {
    "duration": 9,
    "start_time": "2022-04-11T19:04:46.680Z"
   },
   {
    "duration": 35,
    "start_time": "2022-04-11T19:04:46.690Z"
   },
   {
    "duration": 5,
    "start_time": "2022-04-11T19:04:46.727Z"
   },
   {
    "duration": 40,
    "start_time": "2022-04-11T19:04:46.734Z"
   },
   {
    "duration": 7,
    "start_time": "2022-04-11T19:04:46.776Z"
   },
   {
    "duration": 28,
    "start_time": "2022-04-11T19:04:46.784Z"
   },
   {
    "duration": 26,
    "start_time": "2022-04-11T19:04:46.814Z"
   },
   {
    "duration": 4,
    "start_time": "2022-04-11T19:04:46.843Z"
   },
   {
    "duration": 29,
    "start_time": "2022-04-11T19:06:27.088Z"
   },
   {
    "duration": 9,
    "start_time": "2022-04-11T19:06:34.331Z"
   },
   {
    "duration": 28,
    "start_time": "2022-04-11T19:06:52.205Z"
   },
   {
    "duration": 8,
    "start_time": "2022-04-11T19:06:54.269Z"
   },
   {
    "duration": 3,
    "start_time": "2022-04-11T19:06:58.885Z"
   },
   {
    "duration": 17,
    "start_time": "2022-04-11T19:06:58.892Z"
   },
   {
    "duration": 11,
    "start_time": "2022-04-11T19:06:58.910Z"
   },
   {
    "duration": 200,
    "start_time": "2022-04-11T19:06:58.923Z"
   },
   {
    "duration": 11,
    "start_time": "2022-04-11T19:06:59.125Z"
   },
   {
    "duration": 153,
    "start_time": "2022-04-11T19:06:59.138Z"
   },
   {
    "duration": 51,
    "start_time": "2022-04-11T19:06:59.292Z"
   },
   {
    "duration": 42,
    "start_time": "2022-04-11T19:06:59.345Z"
   },
   {
    "duration": 17,
    "start_time": "2022-04-11T19:06:59.388Z"
   },
   {
    "duration": 28,
    "start_time": "2022-04-11T19:06:59.406Z"
   },
   {
    "duration": 121,
    "start_time": "2022-04-11T19:06:59.436Z"
   },
   {
    "duration": 70,
    "start_time": "2022-04-11T19:06:59.559Z"
   },
   {
    "duration": 60,
    "start_time": "2022-04-11T19:06:59.631Z"
   },
   {
    "duration": 27,
    "start_time": "2022-04-11T19:06:59.692Z"
   },
   {
    "duration": 7,
    "start_time": "2022-04-11T19:06:59.722Z"
   },
   {
    "duration": 156,
    "start_time": "2022-04-11T19:06:59.731Z"
   },
   {
    "duration": 116,
    "start_time": "2022-04-11T19:06:59.888Z"
   },
   {
    "duration": 17,
    "start_time": "2022-04-11T19:07:00.006Z"
   },
   {
    "duration": 27,
    "start_time": "2022-04-11T19:07:00.025Z"
   },
   {
    "duration": 8,
    "start_time": "2022-04-11T19:07:00.074Z"
   },
   {
    "duration": 41,
    "start_time": "2022-04-11T19:07:00.084Z"
   },
   {
    "duration": 16,
    "start_time": "2022-04-11T19:07:00.127Z"
   },
   {
    "duration": 30,
    "start_time": "2022-04-11T19:07:00.145Z"
   },
   {
    "duration": 20,
    "start_time": "2022-04-11T19:07:00.176Z"
   },
   {
    "duration": 21,
    "start_time": "2022-04-11T19:07:00.197Z"
   },
   {
    "duration": 10,
    "start_time": "2022-04-11T19:07:00.219Z"
   },
   {
    "duration": 44,
    "start_time": "2022-04-11T19:07:00.230Z"
   },
   {
    "duration": 8,
    "start_time": "2022-04-11T19:07:00.276Z"
   },
   {
    "duration": 58,
    "start_time": "2022-04-11T19:07:00.285Z"
   },
   {
    "duration": 30,
    "start_time": "2022-04-11T19:07:00.344Z"
   },
   {
    "duration": 8,
    "start_time": "2022-04-11T19:07:00.377Z"
   },
   {
    "duration": 37,
    "start_time": "2022-04-11T19:07:00.387Z"
   },
   {
    "duration": 7,
    "start_time": "2022-04-11T19:07:00.427Z"
   },
   {
    "duration": 19,
    "start_time": "2022-04-11T19:07:00.435Z"
   },
   {
    "duration": 19,
    "start_time": "2022-04-11T19:07:00.455Z"
   },
   {
    "duration": 14,
    "start_time": "2022-04-11T19:07:00.476Z"
   },
   {
    "duration": 198,
    "start_time": "2022-04-11T19:07:00.492Z"
   },
   {
    "duration": 301,
    "start_time": "2022-04-11T19:07:00.691Z"
   },
   {
    "duration": 5,
    "start_time": "2022-04-11T19:07:00.994Z"
   },
   {
    "duration": 7,
    "start_time": "2022-04-11T19:07:01.001Z"
   },
   {
    "duration": 163,
    "start_time": "2022-04-11T19:07:01.010Z"
   },
   {
    "duration": 5,
    "start_time": "2022-04-11T19:07:01.177Z"
   },
   {
    "duration": 13,
    "start_time": "2022-04-11T19:07:01.183Z"
   },
   {
    "duration": 30,
    "start_time": "2022-04-11T19:07:01.197Z"
   },
   {
    "duration": 9,
    "start_time": "2022-04-11T19:07:01.230Z"
   },
   {
    "duration": 34,
    "start_time": "2022-04-11T19:07:01.240Z"
   },
   {
    "duration": 20,
    "start_time": "2022-04-11T19:07:01.276Z"
   },
   {
    "duration": 13,
    "start_time": "2022-04-11T19:07:01.298Z"
   },
   {
    "duration": 23,
    "start_time": "2022-04-11T19:07:01.314Z"
   },
   {
    "duration": 180,
    "start_time": "2022-04-11T19:07:01.339Z"
   },
   {
    "duration": 11,
    "start_time": "2022-04-11T19:07:01.521Z"
   },
   {
    "duration": 15,
    "start_time": "2022-04-11T19:07:01.534Z"
   },
   {
    "duration": 23,
    "start_time": "2022-04-11T19:07:01.551Z"
   },
   {
    "duration": 180,
    "start_time": "2022-04-11T19:07:01.576Z"
   },
   {
    "duration": 23,
    "start_time": "2022-04-11T19:07:01.758Z"
   },
   {
    "duration": 22,
    "start_time": "2022-04-11T19:07:01.783Z"
   },
   {
    "duration": 5,
    "start_time": "2022-04-11T19:07:01.807Z"
   },
   {
    "duration": 162,
    "start_time": "2022-04-11T19:07:01.814Z"
   },
   {
    "duration": 11,
    "start_time": "2022-04-11T19:07:01.978Z"
   },
   {
    "duration": 33,
    "start_time": "2022-04-11T19:07:01.991Z"
   },
   {
    "duration": 63,
    "start_time": "2022-04-11T19:07:02.026Z"
   },
   {
    "duration": 5,
    "start_time": "2022-04-11T19:07:02.091Z"
   },
   {
    "duration": 17,
    "start_time": "2022-04-11T19:07:02.098Z"
   },
   {
    "duration": 19,
    "start_time": "2022-04-11T19:07:02.117Z"
   },
   {
    "duration": 50,
    "start_time": "2022-04-11T19:07:02.138Z"
   },
   {
    "duration": 27,
    "start_time": "2022-04-11T19:07:02.190Z"
   },
   {
    "duration": 5,
    "start_time": "2022-04-11T19:07:02.219Z"
   },
   {
    "duration": 29,
    "start_time": "2022-04-11T19:09:58.859Z"
   },
   {
    "duration": 8,
    "start_time": "2022-04-11T19:10:03.761Z"
   },
   {
    "duration": 1450,
    "start_time": "2022-04-11T19:10:24.944Z"
   },
   {
    "duration": 3,
    "start_time": "2022-04-11T19:10:30.594Z"
   },
   {
    "duration": 32,
    "start_time": "2022-04-11T19:10:30.600Z"
   },
   {
    "duration": 10,
    "start_time": "2022-04-11T19:10:30.634Z"
   },
   {
    "duration": 216,
    "start_time": "2022-04-11T19:10:30.646Z"
   },
   {
    "duration": 15,
    "start_time": "2022-04-11T19:10:30.865Z"
   },
   {
    "duration": 145,
    "start_time": "2022-04-11T19:10:30.882Z"
   },
   {
    "duration": 62,
    "start_time": "2022-04-11T19:10:31.028Z"
   },
   {
    "duration": 26,
    "start_time": "2022-04-11T19:10:31.092Z"
   },
   {
    "duration": 17,
    "start_time": "2022-04-11T19:10:31.120Z"
   },
   {
    "duration": 54,
    "start_time": "2022-04-11T19:10:31.139Z"
   },
   {
    "duration": 113,
    "start_time": "2022-04-11T19:10:31.194Z"
   },
   {
    "duration": 87,
    "start_time": "2022-04-11T19:10:31.309Z"
   },
   {
    "duration": 52,
    "start_time": "2022-04-11T19:10:31.398Z"
   },
   {
    "duration": 47,
    "start_time": "2022-04-11T19:10:31.454Z"
   },
   {
    "duration": 8,
    "start_time": "2022-04-11T19:10:31.504Z"
   },
   {
    "duration": 173,
    "start_time": "2022-04-11T19:10:31.514Z"
   },
   {
    "duration": 134,
    "start_time": "2022-04-11T19:10:31.689Z"
   },
   {
    "duration": 21,
    "start_time": "2022-04-11T19:10:31.825Z"
   },
   {
    "duration": 49,
    "start_time": "2022-04-11T19:10:31.848Z"
   },
   {
    "duration": 10,
    "start_time": "2022-04-11T19:10:31.899Z"
   },
   {
    "duration": 56,
    "start_time": "2022-04-11T19:10:31.911Z"
   },
   {
    "duration": 19,
    "start_time": "2022-04-11T19:10:31.969Z"
   },
   {
    "duration": 22,
    "start_time": "2022-04-11T19:10:31.990Z"
   },
   {
    "duration": 22,
    "start_time": "2022-04-11T19:10:32.013Z"
   },
   {
    "duration": 47,
    "start_time": "2022-04-11T19:10:32.037Z"
   },
   {
    "duration": 9,
    "start_time": "2022-04-11T19:10:32.086Z"
   },
   {
    "duration": 19,
    "start_time": "2022-04-11T19:10:32.097Z"
   },
   {
    "duration": 8,
    "start_time": "2022-04-11T19:10:32.118Z"
   },
   {
    "duration": 80,
    "start_time": "2022-04-11T19:10:32.128Z"
   },
   {
    "duration": 16,
    "start_time": "2022-04-11T19:10:32.210Z"
   },
   {
    "duration": 7,
    "start_time": "2022-04-11T19:10:32.228Z"
   },
   {
    "duration": 47,
    "start_time": "2022-04-11T19:10:32.236Z"
   },
   {
    "duration": 7,
    "start_time": "2022-04-11T19:10:32.285Z"
   },
   {
    "duration": 15,
    "start_time": "2022-04-11T19:10:32.294Z"
   },
   {
    "duration": 32,
    "start_time": "2022-04-11T19:10:32.311Z"
   },
   {
    "duration": 19,
    "start_time": "2022-04-11T19:10:32.345Z"
   },
   {
    "duration": 194,
    "start_time": "2022-04-11T19:10:32.366Z"
   },
   {
    "duration": 197,
    "start_time": "2022-04-11T19:10:32.562Z"
   },
   {
    "duration": 4,
    "start_time": "2022-04-11T19:10:32.761Z"
   },
   {
    "duration": 17,
    "start_time": "2022-04-11T19:10:32.772Z"
   },
   {
    "duration": 151,
    "start_time": "2022-04-11T19:10:32.793Z"
   },
   {
    "duration": 5,
    "start_time": "2022-04-11T19:10:32.945Z"
   },
   {
    "duration": 21,
    "start_time": "2022-04-11T19:10:32.952Z"
   },
   {
    "duration": 31,
    "start_time": "2022-04-11T19:10:32.975Z"
   },
   {
    "duration": 7,
    "start_time": "2022-04-11T19:10:33.007Z"
   },
   {
    "duration": 7,
    "start_time": "2022-04-11T19:10:33.016Z"
   },
   {
    "duration": 15,
    "start_time": "2022-04-11T19:10:33.024Z"
   },
   {
    "duration": 8,
    "start_time": "2022-04-11T19:10:33.041Z"
   },
   {
    "duration": 23,
    "start_time": "2022-04-11T19:10:33.051Z"
   },
   {
    "duration": 175,
    "start_time": "2022-04-11T19:10:33.076Z"
   },
   {
    "duration": 20,
    "start_time": "2022-04-11T19:10:33.253Z"
   },
   {
    "duration": 9,
    "start_time": "2022-04-11T19:10:33.275Z"
   },
   {
    "duration": 5,
    "start_time": "2022-04-11T19:10:33.286Z"
   },
   {
    "duration": 181,
    "start_time": "2022-04-11T19:10:33.292Z"
   },
   {
    "duration": 11,
    "start_time": "2022-04-11T19:10:33.474Z"
   },
   {
    "duration": 10,
    "start_time": "2022-04-11T19:10:33.486Z"
   },
   {
    "duration": 5,
    "start_time": "2022-04-11T19:10:33.497Z"
   },
   {
    "duration": 300,
    "start_time": "2022-04-11T19:10:33.503Z"
   },
   {
    "duration": 10,
    "start_time": "2022-04-11T19:10:33.805Z"
   },
   {
    "duration": 11,
    "start_time": "2022-04-11T19:10:33.817Z"
   },
   {
    "duration": 59,
    "start_time": "2022-04-11T19:10:33.830Z"
   },
   {
    "duration": 6,
    "start_time": "2022-04-11T19:10:33.891Z"
   },
   {
    "duration": 9,
    "start_time": "2022-04-11T19:10:33.899Z"
   },
   {
    "duration": 15,
    "start_time": "2022-04-11T19:10:33.910Z"
   },
   {
    "duration": 26,
    "start_time": "2022-04-11T19:10:33.927Z"
   },
   {
    "duration": 28,
    "start_time": "2022-04-11T19:10:33.974Z"
   },
   {
    "duration": 6,
    "start_time": "2022-04-11T19:10:34.004Z"
   },
   {
    "duration": 3,
    "start_time": "2022-04-11T19:12:04.420Z"
   },
   {
    "duration": 16,
    "start_time": "2022-04-11T19:12:04.428Z"
   },
   {
    "duration": 11,
    "start_time": "2022-04-11T19:12:04.445Z"
   },
   {
    "duration": 230,
    "start_time": "2022-04-11T19:12:04.458Z"
   },
   {
    "duration": 11,
    "start_time": "2022-04-11T19:12:04.690Z"
   },
   {
    "duration": 161,
    "start_time": "2022-04-11T19:12:04.702Z"
   },
   {
    "duration": 52,
    "start_time": "2022-04-11T19:12:04.873Z"
   },
   {
    "duration": 25,
    "start_time": "2022-04-11T19:12:04.927Z"
   },
   {
    "duration": 34,
    "start_time": "2022-04-11T19:12:04.954Z"
   },
   {
    "duration": 29,
    "start_time": "2022-04-11T19:12:04.989Z"
   },
   {
    "duration": 115,
    "start_time": "2022-04-11T19:12:05.021Z"
   },
   {
    "duration": 77,
    "start_time": "2022-04-11T19:12:05.138Z"
   },
   {
    "duration": 65,
    "start_time": "2022-04-11T19:12:05.216Z"
   },
   {
    "duration": 26,
    "start_time": "2022-04-11T19:12:05.283Z"
   },
   {
    "duration": 7,
    "start_time": "2022-04-11T19:12:05.311Z"
   },
   {
    "duration": 160,
    "start_time": "2022-04-11T19:12:05.319Z"
   },
   {
    "duration": 123,
    "start_time": "2022-04-11T19:12:05.481Z"
   },
   {
    "duration": 18,
    "start_time": "2022-04-11T19:12:05.606Z"
   },
   {
    "duration": 49,
    "start_time": "2022-04-11T19:12:05.625Z"
   },
   {
    "duration": 8,
    "start_time": "2022-04-11T19:12:05.676Z"
   },
   {
    "duration": 36,
    "start_time": "2022-04-11T19:12:05.686Z"
   },
   {
    "duration": 17,
    "start_time": "2022-04-11T19:12:05.723Z"
   },
   {
    "duration": 37,
    "start_time": "2022-04-11T19:12:05.742Z"
   },
   {
    "duration": 21,
    "start_time": "2022-04-11T19:12:05.780Z"
   },
   {
    "duration": 22,
    "start_time": "2022-04-11T19:12:05.802Z"
   },
   {
    "duration": 11,
    "start_time": "2022-04-11T19:12:05.825Z"
   },
   {
    "duration": 47,
    "start_time": "2022-04-11T19:12:05.837Z"
   },
   {
    "duration": 7,
    "start_time": "2022-04-11T19:12:05.886Z"
   },
   {
    "duration": 50,
    "start_time": "2022-04-11T19:12:05.897Z"
   },
   {
    "duration": 40,
    "start_time": "2022-04-11T19:12:05.949Z"
   },
   {
    "duration": 8,
    "start_time": "2022-04-11T19:12:05.990Z"
   },
   {
    "duration": 28,
    "start_time": "2022-04-11T19:12:06.000Z"
   },
   {
    "duration": 8,
    "start_time": "2022-04-11T19:12:06.029Z"
   },
   {
    "duration": 37,
    "start_time": "2022-04-11T19:12:06.038Z"
   },
   {
    "duration": 13,
    "start_time": "2022-04-11T19:12:06.077Z"
   },
   {
    "duration": 12,
    "start_time": "2022-04-11T19:12:06.092Z"
   },
   {
    "duration": 209,
    "start_time": "2022-04-11T19:12:06.105Z"
   },
   {
    "duration": 196,
    "start_time": "2022-04-11T19:12:06.316Z"
   },
   {
    "duration": 5,
    "start_time": "2022-04-11T19:12:06.513Z"
   },
   {
    "duration": 7,
    "start_time": "2022-04-11T19:12:06.520Z"
   },
   {
    "duration": 169,
    "start_time": "2022-04-11T19:12:06.528Z"
   },
   {
    "duration": 4,
    "start_time": "2022-04-11T19:12:06.699Z"
   },
   {
    "duration": 10,
    "start_time": "2022-04-11T19:12:06.705Z"
   },
   {
    "duration": 27,
    "start_time": "2022-04-11T19:12:06.717Z"
   },
   {
    "duration": 28,
    "start_time": "2022-04-11T19:12:06.746Z"
   },
   {
    "duration": 6,
    "start_time": "2022-04-11T19:12:06.776Z"
   },
   {
    "duration": 13,
    "start_time": "2022-04-11T19:12:06.783Z"
   },
   {
    "duration": 5,
    "start_time": "2022-04-11T19:12:06.798Z"
   },
   {
    "duration": 6,
    "start_time": "2022-04-11T19:12:06.805Z"
   },
   {
    "duration": 190,
    "start_time": "2022-04-11T19:12:06.813Z"
   },
   {
    "duration": 12,
    "start_time": "2022-04-11T19:12:07.005Z"
   },
   {
    "duration": 13,
    "start_time": "2022-04-11T19:12:07.019Z"
   },
   {
    "duration": 6,
    "start_time": "2022-04-11T19:12:07.033Z"
   },
   {
    "duration": 197,
    "start_time": "2022-04-11T19:12:07.041Z"
   },
   {
    "duration": 12,
    "start_time": "2022-04-11T19:12:07.240Z"
   },
   {
    "duration": 26,
    "start_time": "2022-04-11T19:12:07.253Z"
   },
   {
    "duration": 5,
    "start_time": "2022-04-11T19:12:07.280Z"
   },
   {
    "duration": 168,
    "start_time": "2022-04-11T19:12:07.286Z"
   },
   {
    "duration": 20,
    "start_time": "2022-04-11T19:12:07.455Z"
   },
   {
    "duration": 11,
    "start_time": "2022-04-11T19:12:07.477Z"
   },
   {
    "duration": 35,
    "start_time": "2022-04-11T19:12:07.490Z"
   },
   {
    "duration": 6,
    "start_time": "2022-04-11T19:12:07.527Z"
   },
   {
    "duration": 40,
    "start_time": "2022-04-11T19:12:07.534Z"
   },
   {
    "duration": 6,
    "start_time": "2022-04-11T19:12:07.576Z"
   },
   {
    "duration": 29,
    "start_time": "2022-04-11T19:12:07.584Z"
   },
   {
    "duration": 27,
    "start_time": "2022-04-11T19:12:07.615Z"
   },
   {
    "duration": 31,
    "start_time": "2022-04-11T19:12:07.643Z"
   },
   {
    "duration": 1119,
    "start_time": "2022-04-12T08:01:49.835Z"
   },
   {
    "duration": 24,
    "start_time": "2022-04-12T08:01:50.955Z"
   },
   {
    "duration": 12,
    "start_time": "2022-04-12T08:01:50.981Z"
   },
   {
    "duration": 189,
    "start_time": "2022-04-12T08:01:50.994Z"
   },
   {
    "duration": 16,
    "start_time": "2022-04-12T08:01:51.185Z"
   },
   {
    "duration": 129,
    "start_time": "2022-04-12T08:01:51.202Z"
   },
   {
    "duration": 52,
    "start_time": "2022-04-12T08:01:51.332Z"
   },
   {
    "duration": 30,
    "start_time": "2022-04-12T08:01:51.386Z"
   },
   {
    "duration": 22,
    "start_time": "2022-04-12T08:01:51.418Z"
   },
   {
    "duration": 65,
    "start_time": "2022-04-12T08:01:51.444Z"
   },
   {
    "duration": 102,
    "start_time": "2022-04-12T08:01:51.511Z"
   },
   {
    "duration": 58,
    "start_time": "2022-04-12T08:01:51.615Z"
   },
   {
    "duration": 64,
    "start_time": "2022-04-12T08:01:51.675Z"
   },
   {
    "duration": 25,
    "start_time": "2022-04-12T08:01:51.741Z"
   },
   {
    "duration": 6,
    "start_time": "2022-04-12T08:01:51.768Z"
   },
   {
    "duration": 154,
    "start_time": "2022-04-12T08:01:51.776Z"
   },
   {
    "duration": 118,
    "start_time": "2022-04-12T08:01:51.932Z"
   },
   {
    "duration": 15,
    "start_time": "2022-04-12T08:01:52.052Z"
   },
   {
    "duration": 48,
    "start_time": "2022-04-12T08:01:52.069Z"
   },
   {
    "duration": 8,
    "start_time": "2022-04-12T08:01:52.119Z"
   },
   {
    "duration": 43,
    "start_time": "2022-04-12T08:01:52.128Z"
   },
   {
    "duration": 15,
    "start_time": "2022-04-12T08:01:52.173Z"
   },
   {
    "duration": 25,
    "start_time": "2022-04-12T08:01:52.190Z"
   },
   {
    "duration": 19,
    "start_time": "2022-04-12T08:01:52.217Z"
   },
   {
    "duration": 19,
    "start_time": "2022-04-12T08:01:52.237Z"
   },
   {
    "duration": 7,
    "start_time": "2022-04-12T08:01:52.258Z"
   },
   {
    "duration": 42,
    "start_time": "2022-04-12T08:01:52.267Z"
   },
   {
    "duration": 6,
    "start_time": "2022-04-12T08:01:52.313Z"
   },
   {
    "duration": 48,
    "start_time": "2022-04-12T08:01:52.320Z"
   },
   {
    "duration": 32,
    "start_time": "2022-04-12T08:01:52.370Z"
   },
   {
    "duration": 7,
    "start_time": "2022-04-12T08:01:52.404Z"
   },
   {
    "duration": 24,
    "start_time": "2022-04-12T08:01:52.412Z"
   },
   {
    "duration": 6,
    "start_time": "2022-04-12T08:01:52.437Z"
   },
   {
    "duration": 6,
    "start_time": "2022-04-12T08:01:52.444Z"
   },
   {
    "duration": 11,
    "start_time": "2022-04-12T08:01:52.452Z"
   },
   {
    "duration": 6,
    "start_time": "2022-04-12T08:01:52.464Z"
   },
   {
    "duration": 191,
    "start_time": "2022-04-12T08:01:52.500Z"
   },
   {
    "duration": 182,
    "start_time": "2022-04-12T08:01:52.699Z"
   },
   {
    "duration": 4,
    "start_time": "2022-04-12T08:01:52.883Z"
   },
   {
    "duration": 6,
    "start_time": "2022-04-12T08:01:52.900Z"
   },
   {
    "duration": 139,
    "start_time": "2022-04-12T08:01:52.907Z"
   },
   {
    "duration": 4,
    "start_time": "2022-04-12T08:01:53.047Z"
   },
   {
    "duration": 11,
    "start_time": "2022-04-12T08:01:53.052Z"
   },
   {
    "duration": 37,
    "start_time": "2022-04-12T08:01:53.064Z"
   },
   {
    "duration": 6,
    "start_time": "2022-04-12T08:01:53.102Z"
   },
   {
    "duration": 8,
    "start_time": "2022-04-12T08:01:53.109Z"
   },
   {
    "duration": 14,
    "start_time": "2022-04-12T08:01:53.119Z"
   },
   {
    "duration": 8,
    "start_time": "2022-04-12T08:01:53.134Z"
   },
   {
    "duration": 10,
    "start_time": "2022-04-12T08:01:53.143Z"
   },
   {
    "duration": 173,
    "start_time": "2022-04-12T08:01:53.154Z"
   },
   {
    "duration": 9,
    "start_time": "2022-04-12T08:01:53.329Z"
   },
   {
    "duration": 10,
    "start_time": "2022-04-12T08:01:53.339Z"
   },
   {
    "duration": 4,
    "start_time": "2022-04-12T08:01:53.350Z"
   },
   {
    "duration": 172,
    "start_time": "2022-04-12T08:01:53.355Z"
   },
   {
    "duration": 9,
    "start_time": "2022-04-12T08:01:53.528Z"
   },
   {
    "duration": 10,
    "start_time": "2022-04-12T08:01:53.539Z"
   },
   {
    "duration": 4,
    "start_time": "2022-04-12T08:01:53.551Z"
   },
   {
    "duration": 163,
    "start_time": "2022-04-12T08:01:53.556Z"
   },
   {
    "duration": 9,
    "start_time": "2022-04-12T08:01:53.720Z"
   },
   {
    "duration": 9,
    "start_time": "2022-04-12T08:01:53.730Z"
   },
   {
    "duration": 29,
    "start_time": "2022-04-12T08:01:53.741Z"
   },
   {
    "duration": 29,
    "start_time": "2022-04-12T08:01:53.771Z"
   },
   {
    "duration": 8,
    "start_time": "2022-04-12T08:01:53.802Z"
   },
   {
    "duration": 8,
    "start_time": "2022-04-12T08:01:53.811Z"
   },
   {
    "duration": 22,
    "start_time": "2022-04-12T08:01:53.821Z"
   },
   {
    "duration": 22,
    "start_time": "2022-04-12T08:01:53.845Z"
   },
   {
    "duration": 31,
    "start_time": "2022-04-12T08:01:53.869Z"
   }
  ],
  "kernelspec": {
   "display_name": "Python 3 (ipykernel)",
   "language": "python",
   "name": "python3"
  },
  "language_info": {
   "codemirror_mode": {
    "name": "ipython",
    "version": 3
   },
   "file_extension": ".py",
   "mimetype": "text/x-python",
   "name": "python",
   "nbconvert_exporter": "python",
   "pygments_lexer": "ipython3",
   "version": "3.9.5"
  },
  "toc": {
   "base_numbering": 1,
   "nav_menu": {},
   "number_sections": false,
   "sideBar": true,
   "skip_h1_title": false,
   "title_cell": "Table of Contents",
   "title_sidebar": "Contents",
   "toc_cell": false,
   "toc_position": {},
   "toc_section_display": true,
   "toc_window_display": true
  }
 },
 "nbformat": 4,
 "nbformat_minor": 2
}
