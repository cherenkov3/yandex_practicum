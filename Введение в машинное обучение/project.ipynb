{
 "cells": [
  {
   "cell_type": "markdown",
   "metadata": {},
   "source": [
    "# Рекомендация тарифов"
   ]
  },
  {
   "cell_type": "code",
   "execution_count": 2,
   "metadata": {},
   "outputs": [],
   "source": [
    "# Все библиотеки, необходимые для выполнения проекта \n",
    "import pandas as pd\n",
    "import numpy as np\n",
    "from sklearn.model_selection import train_test_split, RandomizedSearchCV, cross_val_score, GridSearchCV\n",
    "from sklearn.tree import DecisionTreeClassifier\n",
    "from sklearn.linear_model import LogisticRegression\n",
    "from sklearn.ensemble import RandomForestClassifier\n",
    "from sklearn.metrics import accuracy_score\n",
    "import warnings\n",
    "warnings.filterwarnings('ignore') "
   ]
  },
  {
   "cell_type": "code",
   "execution_count": 3,
   "metadata": {},
   "outputs": [],
   "source": [
    "df = pd.read_csv('/datasets/users_behavior.csv')"
   ]
  },
  {
   "cell_type": "code",
   "execution_count": 4,
   "metadata": {},
   "outputs": [
    {
     "data": {
      "text/html": [
       "<div>\n",
       "<style scoped>\n",
       "    .dataframe tbody tr th:only-of-type {\n",
       "        vertical-align: middle;\n",
       "    }\n",
       "\n",
       "    .dataframe tbody tr th {\n",
       "        vertical-align: top;\n",
       "    }\n",
       "\n",
       "    .dataframe thead th {\n",
       "        text-align: right;\n",
       "    }\n",
       "</style>\n",
       "<table border=\"1\" class=\"dataframe\">\n",
       "  <thead>\n",
       "    <tr style=\"text-align: right;\">\n",
       "      <th></th>\n",
       "      <th>calls</th>\n",
       "      <th>minutes</th>\n",
       "      <th>messages</th>\n",
       "      <th>mb_used</th>\n",
       "      <th>is_ultra</th>\n",
       "    </tr>\n",
       "  </thead>\n",
       "  <tbody>\n",
       "    <tr>\n",
       "      <th>0</th>\n",
       "      <td>40.0</td>\n",
       "      <td>311.90</td>\n",
       "      <td>83.0</td>\n",
       "      <td>19915.42</td>\n",
       "      <td>0</td>\n",
       "    </tr>\n",
       "    <tr>\n",
       "      <th>1</th>\n",
       "      <td>85.0</td>\n",
       "      <td>516.75</td>\n",
       "      <td>56.0</td>\n",
       "      <td>22696.96</td>\n",
       "      <td>0</td>\n",
       "    </tr>\n",
       "    <tr>\n",
       "      <th>2</th>\n",
       "      <td>77.0</td>\n",
       "      <td>467.66</td>\n",
       "      <td>86.0</td>\n",
       "      <td>21060.45</td>\n",
       "      <td>0</td>\n",
       "    </tr>\n",
       "    <tr>\n",
       "      <th>3</th>\n",
       "      <td>106.0</td>\n",
       "      <td>745.53</td>\n",
       "      <td>81.0</td>\n",
       "      <td>8437.39</td>\n",
       "      <td>1</td>\n",
       "    </tr>\n",
       "    <tr>\n",
       "      <th>4</th>\n",
       "      <td>66.0</td>\n",
       "      <td>418.74</td>\n",
       "      <td>1.0</td>\n",
       "      <td>14502.75</td>\n",
       "      <td>0</td>\n",
       "    </tr>\n",
       "    <tr>\n",
       "      <th>5</th>\n",
       "      <td>58.0</td>\n",
       "      <td>344.56</td>\n",
       "      <td>21.0</td>\n",
       "      <td>15823.37</td>\n",
       "      <td>0</td>\n",
       "    </tr>\n",
       "    <tr>\n",
       "      <th>6</th>\n",
       "      <td>57.0</td>\n",
       "      <td>431.64</td>\n",
       "      <td>20.0</td>\n",
       "      <td>3738.90</td>\n",
       "      <td>1</td>\n",
       "    </tr>\n",
       "    <tr>\n",
       "      <th>7</th>\n",
       "      <td>15.0</td>\n",
       "      <td>132.40</td>\n",
       "      <td>6.0</td>\n",
       "      <td>21911.60</td>\n",
       "      <td>0</td>\n",
       "    </tr>\n",
       "    <tr>\n",
       "      <th>8</th>\n",
       "      <td>7.0</td>\n",
       "      <td>43.39</td>\n",
       "      <td>3.0</td>\n",
       "      <td>2538.67</td>\n",
       "      <td>1</td>\n",
       "    </tr>\n",
       "    <tr>\n",
       "      <th>9</th>\n",
       "      <td>90.0</td>\n",
       "      <td>665.41</td>\n",
       "      <td>38.0</td>\n",
       "      <td>17358.61</td>\n",
       "      <td>0</td>\n",
       "    </tr>\n",
       "  </tbody>\n",
       "</table>\n",
       "</div>"
      ],
      "text/plain": [
       "   calls  minutes  messages   mb_used  is_ultra\n",
       "0   40.0   311.90      83.0  19915.42         0\n",
       "1   85.0   516.75      56.0  22696.96         0\n",
       "2   77.0   467.66      86.0  21060.45         0\n",
       "3  106.0   745.53      81.0   8437.39         1\n",
       "4   66.0   418.74       1.0  14502.75         0\n",
       "5   58.0   344.56      21.0  15823.37         0\n",
       "6   57.0   431.64      20.0   3738.90         1\n",
       "7   15.0   132.40       6.0  21911.60         0\n",
       "8    7.0    43.39       3.0   2538.67         1\n",
       "9   90.0   665.41      38.0  17358.61         0"
      ]
     },
     "execution_count": 4,
     "metadata": {},
     "output_type": "execute_result"
    }
   ],
   "source": [
    "df.head(10)"
   ]
  },
  {
   "cell_type": "code",
   "execution_count": 5,
   "metadata": {},
   "outputs": [
    {
     "name": "stdout",
     "output_type": "stream",
     "text": [
      "<class 'pandas.core.frame.DataFrame'>\n",
      "RangeIndex: 3214 entries, 0 to 3213\n",
      "Data columns (total 5 columns):\n",
      " #   Column    Non-Null Count  Dtype  \n",
      "---  ------    --------------  -----  \n",
      " 0   calls     3214 non-null   float64\n",
      " 1   minutes   3214 non-null   float64\n",
      " 2   messages  3214 non-null   float64\n",
      " 3   mb_used   3214 non-null   float64\n",
      " 4   is_ultra  3214 non-null   int64  \n",
      "dtypes: float64(4), int64(1)\n",
      "memory usage: 125.7 KB\n"
     ]
    }
   ],
   "source": [
    "df.info()"
   ]
  },
  {
   "cell_type": "code",
   "execution_count": 6,
   "metadata": {},
   "outputs": [
    {
     "data": {
      "text/html": [
       "<div>\n",
       "<style scoped>\n",
       "    .dataframe tbody tr th:only-of-type {\n",
       "        vertical-align: middle;\n",
       "    }\n",
       "\n",
       "    .dataframe tbody tr th {\n",
       "        vertical-align: top;\n",
       "    }\n",
       "\n",
       "    .dataframe thead th {\n",
       "        text-align: right;\n",
       "    }\n",
       "</style>\n",
       "<table border=\"1\" class=\"dataframe\">\n",
       "  <thead>\n",
       "    <tr style=\"text-align: right;\">\n",
       "      <th></th>\n",
       "      <th>calls</th>\n",
       "      <th>minutes</th>\n",
       "      <th>messages</th>\n",
       "      <th>mb_used</th>\n",
       "      <th>is_ultra</th>\n",
       "    </tr>\n",
       "  </thead>\n",
       "  <tbody>\n",
       "    <tr>\n",
       "      <th>count</th>\n",
       "      <td>3214.000000</td>\n",
       "      <td>3214.000000</td>\n",
       "      <td>3214.000000</td>\n",
       "      <td>3214.000000</td>\n",
       "      <td>3214.000000</td>\n",
       "    </tr>\n",
       "    <tr>\n",
       "      <th>mean</th>\n",
       "      <td>63.038892</td>\n",
       "      <td>438.208787</td>\n",
       "      <td>38.281269</td>\n",
       "      <td>17207.673836</td>\n",
       "      <td>0.306472</td>\n",
       "    </tr>\n",
       "    <tr>\n",
       "      <th>std</th>\n",
       "      <td>33.236368</td>\n",
       "      <td>234.569872</td>\n",
       "      <td>36.148326</td>\n",
       "      <td>7570.968246</td>\n",
       "      <td>0.461100</td>\n",
       "    </tr>\n",
       "    <tr>\n",
       "      <th>min</th>\n",
       "      <td>0.000000</td>\n",
       "      <td>0.000000</td>\n",
       "      <td>0.000000</td>\n",
       "      <td>0.000000</td>\n",
       "      <td>0.000000</td>\n",
       "    </tr>\n",
       "    <tr>\n",
       "      <th>25%</th>\n",
       "      <td>40.000000</td>\n",
       "      <td>274.575000</td>\n",
       "      <td>9.000000</td>\n",
       "      <td>12491.902500</td>\n",
       "      <td>0.000000</td>\n",
       "    </tr>\n",
       "    <tr>\n",
       "      <th>50%</th>\n",
       "      <td>62.000000</td>\n",
       "      <td>430.600000</td>\n",
       "      <td>30.000000</td>\n",
       "      <td>16943.235000</td>\n",
       "      <td>0.000000</td>\n",
       "    </tr>\n",
       "    <tr>\n",
       "      <th>75%</th>\n",
       "      <td>82.000000</td>\n",
       "      <td>571.927500</td>\n",
       "      <td>57.000000</td>\n",
       "      <td>21424.700000</td>\n",
       "      <td>1.000000</td>\n",
       "    </tr>\n",
       "    <tr>\n",
       "      <th>max</th>\n",
       "      <td>244.000000</td>\n",
       "      <td>1632.060000</td>\n",
       "      <td>224.000000</td>\n",
       "      <td>49745.730000</td>\n",
       "      <td>1.000000</td>\n",
       "    </tr>\n",
       "  </tbody>\n",
       "</table>\n",
       "</div>"
      ],
      "text/plain": [
       "             calls      minutes     messages       mb_used     is_ultra\n",
       "count  3214.000000  3214.000000  3214.000000   3214.000000  3214.000000\n",
       "mean     63.038892   438.208787    38.281269  17207.673836     0.306472\n",
       "std      33.236368   234.569872    36.148326   7570.968246     0.461100\n",
       "min       0.000000     0.000000     0.000000      0.000000     0.000000\n",
       "25%      40.000000   274.575000     9.000000  12491.902500     0.000000\n",
       "50%      62.000000   430.600000    30.000000  16943.235000     0.000000\n",
       "75%      82.000000   571.927500    57.000000  21424.700000     1.000000\n",
       "max     244.000000  1632.060000   224.000000  49745.730000     1.000000"
      ]
     },
     "execution_count": 6,
     "metadata": {},
     "output_type": "execute_result"
    }
   ],
   "source": [
    "df.describe()"
   ]
  },
  {
   "cell_type": "markdown",
   "metadata": {},
   "source": [
    "Каждый объект в наборе данных — это информация о поведении одного пользователя за месяц.\n",
    "Таким образом для каждого из 3214 клиентов мы знаем количество звонков, минут, сообщений и мегабайт-интернет трафика, а также каким тарифом пользуется клиент (если 0 то Смарт, если 1 то Ультра).\n",
    "По условию данные в предобработке не нуждаются. Пропусков в них нет."
   ]
  },
  {
   "cell_type": "markdown",
   "metadata": {},
   "source": [
    "## Разбейте данные на выборки"
   ]
  },
  {
   "cell_type": "code",
   "execution_count": 27,
   "metadata": {},
   "outputs": [
    {
     "data": {
      "text/plain": [
       "(1928, 643, 643)"
      ]
     },
     "execution_count": 27,
     "metadata": {},
     "output_type": "execute_result"
    }
   ],
   "source": [
    "# Разобьем исходные данные на обучающую (df_train), валидационную (df_val) и тестовую выборки (df_test) в соотношении 3:1:1\n",
    "df_train, df_test = train_test_split(df, test_size=0.2, random_state=12345)\n",
    "df_train, df_val = train_test_split(df_train, test_size=0.25, random_state=12345)\n",
    "# Проверим получилось ли разделить данные в необходимом соотношении\n",
    "df_train.shape[0], df_test.shape[0], df_val.shape[0]\n"
   ]
  },
  {
   "cell_type": "code",
   "execution_count": 10,
   "metadata": {},
   "outputs": [
    {
     "data": {
      "text/plain": [
       "((643, 4), (643, 4))"
      ]
     },
     "execution_count": 10,
     "metadata": {},
     "output_type": "execute_result"
    }
   ],
   "source": [
    "features_train = df_train.drop(['is_ultra'], axis=1)\n",
    "target_train = df_train['is_ultra']\n",
    "features_val = df_val.drop(['is_ultra'], axis=1)\n",
    "target_val = df_val['is_ultra']\n",
    "features_test = df_test.drop(['is_ultra'], axis=1)\n",
    "target_test = df_test['is_ultra']\n",
    "features_test.shape, features_val.shape,"
   ]
  },
  {
   "cell_type": "code",
   "execution_count": 11,
   "metadata": {},
   "outputs": [],
   "source": [
    "features = df.drop(['is_ultra'], axis=1)\n",
    "target = df['is_ultra']"
   ]
  },
  {
   "cell_type": "markdown",
   "metadata": {},
   "source": [
    "## Исследуйте модели"
   ]
  },
  {
   "cell_type": "markdown",
   "metadata": {},
   "source": [
    "### \"Решающее дерево\""
   ]
  },
  {
   "cell_type": "code",
   "execution_count": 12,
   "metadata": {},
   "outputs": [
    {
     "name": "stdout",
     "output_type": "stream",
     "text": [
      "Accuracy для Decision Tree на тренировочной выборке: 0.8074679113185531\n",
      "Accuracy для Decision Tree на валидационной выборке: 0.7776049766718507\n"
     ]
    }
   ],
   "source": [
    "# Проверим влияние различных гиперпараметров на качество модели решающего дерева\n",
    "dt = DecisionTreeClassifier(random_state = 12345)\n",
    "parameters_dt = {'criterion': ['gini', 'entropy'], # критерий\n",
    "                 'max_depth':range(1, 50), # глубина дерева\n",
    "                 'min_samples_split': [0.1, 0.5, 0.7, 1.0], # минимальное количество выборок для разделения\n",
    "                 'min_samples_leaf': range(1, 20), # минимальное количесто объектов в листе\n",
    "                 'max_features':['auto', 'log2', 'sqrt', None]} # максимальное количество фич\n",
    "search_dt = RandomizedSearchCV(dt, parameters_dt, cv=5, n_jobs = -1)\n",
    "search_dt.fit(features_train, target_train)\n",
    "best_dt = search_dt.best_estimator_\n",
    "predict_dt = best_dt.predict(features_val)\n",
    "print('Accuracy для Decision Tree на тренировочной выборке:', best_dt.score(features_train, target_train))\n",
    "print('Accuracy для Decision Tree на валидационной выборке:', best_dt.score(features_val, target_val))"
   ]
  },
  {
   "cell_type": "markdown",
   "metadata": {},
   "source": [
    "### \"Случайный лес\""
   ]
  },
  {
   "cell_type": "code",
   "execution_count": 13,
   "metadata": {},
   "outputs": [
    {
     "name": "stdout",
     "output_type": "stream",
     "text": [
      "Accuracy для Random Forest на тренировочной выборке: 0.809412679891093\n",
      "Accuracy для Random Forest на валидационной выборке: 0.7776049766718507\n"
     ]
    }
   ],
   "source": [
    "# Проверим влияние различных гиперпараметров на качество модели случайного леса\n",
    "rf = RandomForestClassifier(random_state = 12345)\n",
    "parameters_rf = {'n_estimators': range(1, 200, 10), # количество деревьев \n",
    "                 'criterion': ['gini', 'entropy'], # критерий\n",
    "                 'max_depth':range(1, 50, 1), # глубина дерева\n",
    "                 'min_samples_split': [0.1, 0.5, 0.7, 1.0], # минимальное количество выборок для разделения\n",
    "                 'min_samples_leaf': range(1, 10), # минимальное количесто объектов в листе\n",
    "                 'max_features':['auto', 'log2', 'sqrt', None]} # максимальное количество фич\n",
    "search_rf = RandomizedSearchCV(rf, parameters_rf, cv=5, n_jobs = -1)\n",
    "search_rf.fit(features_train, target_train)\n",
    "best_rf = search_rf.best_estimator_\n",
    "predict_dt = best_rf.predict(features_val)\n",
    "print('Accuracy для Random Forest на тренировочной выборке:', best_rf.score(features_train, target_train))\n",
    "print('Accuracy для Random Forest на валидационной выборке:', best_rf.score(features_val, target_val))"
   ]
  },
  {
   "cell_type": "markdown",
   "metadata": {},
   "source": [
    "### \"Логистическая регрессия\""
   ]
  },
  {
   "cell_type": "code",
   "execution_count": 19,
   "metadata": {},
   "outputs": [
    {
     "name": "stdout",
     "output_type": "stream",
     "text": [
      "Accuracy для Logistic Regression (регуляризация l1) на тренировочной выборке : 0.7464021781408012\n",
      "Accuracy для Logistic Regression (регуляризация l1) на валидационной выборке: 0.7262830482115086\n",
      "\n",
      "Accuracy для Logistic Regression (регуляризация l2) на тренировочной выборке: 0.7467911318553092\n",
      "Accuracy для Logistic Regression (регуляризация l2) на валидационной выборке: 0.7262830482115086\n"
     ]
    }
   ],
   "source": [
    "# Проверим влияние \"параметров\" на качество модели логистической регрессии\n",
    "lr = LogisticRegression(random_state = 12345)\n",
    "parameters_lr_1 = {'C': [0.1, 0.2, 0.3, 0.4, 0.5, 0.6, 0.7, 0.8, 0.9, 1.0, 5, 10, 20, 50], # обратная сила регуляризации\n",
    "                 'penalty':['l1'], # Регуляризация \n",
    "                 'solver':['liblinear', 'saga']} # функция потерь\n",
    "parameters_lr_2 = {'C': [0.1, 0.2, 0.3, 0.4, 0.5, 0.6, 0.7, 0.8, 0.9, 1.0, 5, 10, 20, 50], # обратная сила регуляризации\n",
    "                 'penalty':['l2'], # Регуляризация \n",
    "                 'solver':['lbfgs', 'saga', 'sag', 'newton-cg']} # функция потерь\n",
    "\n",
    "search_lr_1 = RandomizedSearchCV(lr, parameters_lr_1, cv=5, n_jobs = -1)\n",
    "search_lr_1.fit(features_train, target_train)\n",
    "best_lr_1 = search_lr_1.best_estimator_\n",
    "predict_lr_1 = best_lr_1.predict(features_val)\n",
    "\n",
    "search_lr_2 = RandomizedSearchCV(lr, parameters_lr_2, cv=5, n_jobs = -1)\n",
    "search_lr_2.fit(features_train, target_train)\n",
    "best_lr_2 = search_lr_2.best_estimator_\n",
    "predict_lr_2 = best_lr_2.predict(features_val)\n",
    "\n",
    "print('Accuracy для Logistic Regression (регуляризация l1) на тренировочной выборке :', best_lr_1.score(features_train, target_train))\n",
    "print('Accuracy для Logistic Regression (регуляризация l1) на валидационной выборке:', best_lr_1.score(features_val, target_val))\n",
    "print()\n",
    "print('Accuracy для Logistic Regression (регуляризация l2) на тренировочной выборке:', best_lr_2.score(features_train, target_train))\n",
    "print('Accuracy для Logistic Regression (регуляризация l2) на валидационной выборке:', best_lr_2.score(features_val, target_val))\n"
   ]
  },
  {
   "cell_type": "code",
   "execution_count": 20,
   "metadata": {},
   "outputs": [
    {
     "data": {
      "text/html": [
       "<div>\n",
       "<style scoped>\n",
       "    .dataframe tbody tr th:only-of-type {\n",
       "        vertical-align: middle;\n",
       "    }\n",
       "\n",
       "    .dataframe tbody tr th {\n",
       "        vertical-align: top;\n",
       "    }\n",
       "\n",
       "    .dataframe thead th {\n",
       "        text-align: right;\n",
       "    }\n",
       "</style>\n",
       "<table border=\"1\" class=\"dataframe\">\n",
       "  <thead>\n",
       "    <tr style=\"text-align: right;\">\n",
       "      <th></th>\n",
       "      <th>model</th>\n",
       "      <th>accuracy</th>\n",
       "    </tr>\n",
       "  </thead>\n",
       "  <tbody>\n",
       "    <tr>\n",
       "      <th>0</th>\n",
       "      <td>decision tree</td>\n",
       "      <td>0.777605</td>\n",
       "    </tr>\n",
       "    <tr>\n",
       "      <th>1</th>\n",
       "      <td>random forest</td>\n",
       "      <td>0.777605</td>\n",
       "    </tr>\n",
       "    <tr>\n",
       "      <th>2</th>\n",
       "      <td>logistic regression (l1)</td>\n",
       "      <td>0.726283</td>\n",
       "    </tr>\n",
       "    <tr>\n",
       "      <th>3</th>\n",
       "      <td>logistic regression (l2)</td>\n",
       "      <td>0.726283</td>\n",
       "    </tr>\n",
       "  </tbody>\n",
       "</table>\n",
       "</div>"
      ],
      "text/plain": [
       "                      model  accuracy\n",
       "0             decision tree  0.777605\n",
       "1             random forest  0.777605\n",
       "2  logistic regression (l1)  0.726283\n",
       "3  logistic regression (l2)  0.726283"
      ]
     },
     "execution_count": 20,
     "metadata": {},
     "output_type": "execute_result"
    }
   ],
   "source": [
    "data_for_score_val = [['decision tree', best_dt.score(features_val, target_val)],\n",
    "                      ['random forest', best_rf.score(features_val, target_val)],\n",
    "                      ['logistic regression (l1)', best_lr_1.score(features_val, target_val)], \n",
    "                      ['logistic regression (l2)', best_lr_2.score(features_val, target_val)]]\n",
    "columns_for_score_val = ['model', 'accuracy']\n",
    "table_for_score_val = pd.DataFrame(data = data_for_score_val, columns = columns_for_score_val)\n",
    "table_for_score_val"
   ]
  },
  {
   "cell_type": "markdown",
   "metadata": {},
   "source": [
    "+ Вывод\n",
    "\n",
    "Были исследованы три модели: как видно, наибольшей точностью модели обладает модель \"случайного леса\", что вполне логично (много деревьев по сравнению с одним решающим деревом).\n",
    "\n"
   ]
  },
  {
   "cell_type": "markdown",
   "metadata": {},
   "source": [
    "## Проверьте модель на тестовой выборке"
   ]
  },
  {
   "cell_type": "code",
   "execution_count": 21,
   "metadata": {},
   "outputs": [
    {
     "name": "stdout",
     "output_type": "stream",
     "text": [
      "Accuracy для Random Forest на тестовой выборке: 0.7931570762052877\n"
     ]
    }
   ],
   "source": [
    "# Так как наибольшей точностью все-таки обладает модель случайного леса, то проанализируем её на тестовой выборке\n",
    "accuracy_rf_test = best_rf.score(features_test, target_test)\n",
    "print('Accuracy для Random Forest на тестовой выборке:', accuracy_rf_test)"
   ]
  },
  {
   "cell_type": "markdown",
   "metadata": {},
   "source": [
    "+ Вывод\n",
    "\n",
    "Качество модели случайного леса на тестовой выборке оказалось даже выше, чем необходимо"
   ]
  },
  {
   "cell_type": "markdown",
   "metadata": {},
   "source": [
    "## (бонус) Проверьте модели на адекватность"
   ]
  },
  {
   "cell_type": "code",
   "execution_count": 22,
   "metadata": {},
   "outputs": [
    {
     "name": "stdout",
     "output_type": "stream",
     "text": [
      "Соотношение двух классов (тарифов \"ультра\" и \"смарт\"):  0.693528313627878\n"
     ]
    }
   ],
   "source": [
    "# Посмотрим на соотношение классов в датасете \n",
    "df_smart = df[df['is_ultra'] == 0]\n",
    "df_ultra = df[df['is_ultra'] == 1]\n",
    "df_smart_len = df_smart.shape[0] \n",
    "df_ultra_len = df_ultra.shape[0]\n",
    "ratio = df_smart_len / (df_smart_len + df_ultra_len)\n",
    "print('Соотношение двух классов (тарифов \"ультра\" и \"смарт\"): ', ratio)\n",
    "# Считается, что модель считается адекватной, если её точность выше, чем доля бОльшего класса в выборке,\n",
    "# поэтому можно считать, что все модели, рассмотренные в шаге 4, могут быть адекватными"
   ]
  },
  {
   "cell_type": "markdown",
   "metadata": {},
   "source": [
    "Сравним настроенные модели с базовыми:\n",
    "\n",
    "Первая модель - \"решающее дерево\"."
   ]
  },
  {
   "cell_type": "code",
   "execution_count": 23,
   "metadata": {},
   "outputs": [
    {
     "name": "stdout",
     "output_type": "stream",
     "text": [
      "Точность модели \"решающее дерево\": 0.71850699844479\n"
     ]
    }
   ],
   "source": [
    "dt_base = DecisionTreeClassifier(random_state=12345)\n",
    "dt_base.fit(features_train, target_train)\n",
    "accuracy_dt_base_test = dt_base.score(features_test, target_test)\n",
    "print('Точность модели \"решающее дерево\":', accuracy_dt_base_test)"
   ]
  },
  {
   "cell_type": "markdown",
   "metadata": {},
   "source": [
    "\"Cлучайный лес\""
   ]
  },
  {
   "cell_type": "code",
   "execution_count": 24,
   "metadata": {},
   "outputs": [
    {
     "name": "stdout",
     "output_type": "stream",
     "text": [
      "Точность модели \"случайного леса\": 0.776049766718507\n"
     ]
    }
   ],
   "source": [
    "rf_base = RandomForestClassifier(random_state=12345)\n",
    "rf_base.fit(features_train, target_train)\n",
    "accuracy_rf_base_test =  rf_base.score(features_test, target_test)\n",
    "print('Точность модели \"случайного леса\":', accuracy_rf_base_test)"
   ]
  },
  {
   "cell_type": "markdown",
   "metadata": {},
   "source": [
    "\"Логистическая регрессия\""
   ]
  },
  {
   "cell_type": "code",
   "execution_count": 25,
   "metadata": {},
   "outputs": [
    {
     "name": "stdout",
     "output_type": "stream",
     "text": [
      "Точность модели \"логичестической регрессии\": 0.7573872472783826\n"
     ]
    }
   ],
   "source": [
    "lr_base = LogisticRegression(random_state=12345)\n",
    "lr_base.fit(features_train, target_train)\n",
    "accuracy_lr_base_test = lr_base.score(features_test, target_test)\n",
    "print('Точность модели \"логичестической регрессии\":', accuracy_lr_base_test)"
   ]
  },
  {
   "cell_type": "code",
   "execution_count": 26,
   "metadata": {},
   "outputs": [
    {
     "data": {
      "text/html": [
       "<div>\n",
       "<style scoped>\n",
       "    .dataframe tbody tr th:only-of-type {\n",
       "        vertical-align: middle;\n",
       "    }\n",
       "\n",
       "    .dataframe tbody tr th {\n",
       "        vertical-align: top;\n",
       "    }\n",
       "\n",
       "    .dataframe thead th {\n",
       "        text-align: right;\n",
       "    }\n",
       "</style>\n",
       "<table border=\"1\" class=\"dataframe\">\n",
       "  <thead>\n",
       "    <tr style=\"text-align: right;\">\n",
       "      <th></th>\n",
       "      <th>model</th>\n",
       "      <th>base</th>\n",
       "      <th>create</th>\n",
       "    </tr>\n",
       "  </thead>\n",
       "  <tbody>\n",
       "    <tr>\n",
       "      <th>0</th>\n",
       "      <td>decision_tree</td>\n",
       "      <td>0.718507</td>\n",
       "      <td>0.790047</td>\n",
       "    </tr>\n",
       "    <tr>\n",
       "      <th>1</th>\n",
       "      <td>random_forest</td>\n",
       "      <td>0.776050</td>\n",
       "      <td>0.793157</td>\n",
       "    </tr>\n",
       "    <tr>\n",
       "      <th>2</th>\n",
       "      <td>logistic_regression</td>\n",
       "      <td>0.757387</td>\n",
       "      <td>0.760498</td>\n",
       "    </tr>\n",
       "  </tbody>\n",
       "</table>\n",
       "</div>"
      ],
      "text/plain": [
       "                 model      base    create\n",
       "0        decision_tree  0.718507  0.790047\n",
       "1        random_forest  0.776050  0.793157\n",
       "2  logistic_regression  0.757387  0.760498"
      ]
     },
     "execution_count": 26,
     "metadata": {},
     "output_type": "execute_result"
    }
   ],
   "source": [
    "data_base_create_ml = [['decision_tree', accuracy_dt_base_test, best_dt.score(features_test, target_test)], \n",
    "                    ['random_forest', accuracy_rf_base_test, best_rf.score(features_test, target_test)], \n",
    "                    ['logistic_regression', accuracy_lr_base_test, best_lr_1.score(features_test, target_test)]]\n",
    "columns_base_create_ml = ['model', 'base','create']\n",
    "table_base_create_ml = pd.DataFrame(data = data_base_create_ml, columns = columns_base_create_ml)\n",
    "table_base_create_ml"
   ]
  },
  {
   "cell_type": "markdown",
   "metadata": {},
   "source": [
    "## Общий вывод"
   ]
  },
  {
   "cell_type": "markdown",
   "metadata": {},
   "source": [
    "Были проанализированы модели решающего дерева, случайного леса и логистической регрессии на адекватность: получено, что все модели адекватны и имеют место для использования в данной задаче.\n",
    "Примечательно то, что все три модели обладают accuracy > 0.75, и, таким образом, поставленная задача была выполнена. В дальнейшем нужно принять решение о выборе быстродействия модели - нужна ли в этой задачи максимальная точность, но при этом низкое быстродействие, или же наоборот - можно пренебречь несколькими процентами точности, но при этом модель будет работать гораздо быстрее."
   ]
  }
 ],
 "metadata": {
  "ExecuteTimeLog": [
   {
    "duration": 1106,
    "start_time": "2022-04-26T18:34:34.958Z"
   },
   {
    "duration": 28,
    "start_time": "2022-04-26T18:35:39.046Z"
   },
   {
    "duration": 17,
    "start_time": "2022-04-26T18:36:02.582Z"
   },
   {
    "duration": 9,
    "start_time": "2022-04-26T18:37:14.340Z"
   },
   {
    "duration": 10,
    "start_time": "2022-04-26T18:37:37.095Z"
   },
   {
    "duration": 20,
    "start_time": "2022-04-26T18:45:02.347Z"
   },
   {
    "duration": 8,
    "start_time": "2022-04-26T18:47:15.668Z"
   },
   {
    "duration": 7,
    "start_time": "2022-04-26T18:49:57.244Z"
   },
   {
    "duration": 8,
    "start_time": "2022-04-26T18:50:03.208Z"
   },
   {
    "duration": 3,
    "start_time": "2022-04-26T18:50:16.253Z"
   },
   {
    "duration": 18,
    "start_time": "2022-04-26T18:50:16.258Z"
   },
   {
    "duration": 10,
    "start_time": "2022-04-26T18:50:16.278Z"
   },
   {
    "duration": 12,
    "start_time": "2022-04-26T18:50:16.289Z"
   },
   {
    "duration": 20,
    "start_time": "2022-04-26T18:50:16.304Z"
   },
   {
    "duration": 6,
    "start_time": "2022-04-26T18:50:16.326Z"
   },
   {
    "duration": 20,
    "start_time": "2022-04-26T18:50:24.812Z"
   },
   {
    "duration": 8,
    "start_time": "2022-04-26T18:50:27.032Z"
   },
   {
    "duration": 9,
    "start_time": "2022-04-26T18:51:00.396Z"
   },
   {
    "duration": 8,
    "start_time": "2022-04-26T18:51:19.276Z"
   },
   {
    "duration": 4,
    "start_time": "2022-04-26T18:51:35.080Z"
   },
   {
    "duration": 267,
    "start_time": "2022-04-26T18:53:02.869Z"
   },
   {
    "duration": 6610,
    "start_time": "2022-04-26T18:54:40.970Z"
   },
   {
    "duration": 2955,
    "start_time": "2022-04-26T18:55:53.154Z"
   },
   {
    "duration": 138,
    "start_time": "2022-04-26T18:59:29.985Z"
   },
   {
    "duration": 45,
    "start_time": "2022-04-26T19:00:04.302Z"
   },
   {
    "duration": 78,
    "start_time": "2022-04-26T19:00:13.682Z"
   },
   {
    "duration": 4461,
    "start_time": "2022-04-26T19:01:18.946Z"
   },
   {
    "duration": 34,
    "start_time": "2022-04-26T19:01:43.425Z"
   },
   {
    "duration": 22,
    "start_time": "2022-04-26T19:03:23.821Z"
   },
   {
    "duration": 14,
    "start_time": "2022-04-26T19:06:54.145Z"
   },
   {
    "duration": 9,
    "start_time": "2022-04-26T19:08:08.251Z"
   },
   {
    "duration": 16,
    "start_time": "2022-04-26T19:09:05.573Z"
   },
   {
    "duration": 375,
    "start_time": "2022-04-26T19:09:44.201Z"
   },
   {
    "duration": 32,
    "start_time": "2022-04-26T19:10:44.061Z"
   },
   {
    "duration": 31,
    "start_time": "2022-04-26T19:11:08.141Z"
   },
   {
    "duration": 3,
    "start_time": "2022-04-26T19:14:12.659Z"
   },
   {
    "duration": 26,
    "start_time": "2022-04-26T19:14:12.665Z"
   },
   {
    "duration": 11,
    "start_time": "2022-04-26T19:14:12.693Z"
   },
   {
    "duration": 15,
    "start_time": "2022-04-26T19:14:12.705Z"
   },
   {
    "duration": 24,
    "start_time": "2022-04-26T19:14:12.724Z"
   },
   {
    "duration": 12,
    "start_time": "2022-04-26T19:14:12.751Z"
   },
   {
    "duration": 10,
    "start_time": "2022-04-26T19:14:12.765Z"
   },
   {
    "duration": 7,
    "start_time": "2022-04-26T19:14:12.777Z"
   },
   {
    "duration": 293,
    "start_time": "2022-04-26T19:14:12.785Z"
   },
   {
    "duration": 8670,
    "start_time": "2022-04-26T19:14:13.080Z"
   },
   {
    "duration": 2141,
    "start_time": "2022-04-26T19:14:21.752Z"
   },
   {
    "duration": 59,
    "start_time": "2022-04-26T19:14:23.896Z"
   },
   {
    "duration": 25,
    "start_time": "2022-04-26T19:14:23.957Z"
   },
   {
    "duration": 7,
    "start_time": "2022-04-26T19:14:23.985Z"
   },
   {
    "duration": 44,
    "start_time": "2022-04-26T19:14:23.994Z"
   },
   {
    "duration": 552,
    "start_time": "2022-04-26T19:14:24.041Z"
   },
   {
    "duration": 49,
    "start_time": "2022-04-26T19:14:24.595Z"
   },
   {
    "duration": 51,
    "start_time": "2022-04-26T19:14:24.646Z"
   },
   {
    "duration": 1358,
    "start_time": "2022-04-27T14:51:22.755Z"
   },
   {
    "duration": 31,
    "start_time": "2022-04-27T14:51:24.115Z"
   },
   {
    "duration": 18,
    "start_time": "2022-04-27T14:51:24.148Z"
   },
   {
    "duration": 10,
    "start_time": "2022-04-27T14:51:24.169Z"
   },
   {
    "duration": 25,
    "start_time": "2022-04-27T14:51:24.181Z"
   },
   {
    "duration": 8,
    "start_time": "2022-04-27T14:51:24.208Z"
   },
   {
    "duration": 7,
    "start_time": "2022-04-27T14:51:24.222Z"
   },
   {
    "duration": 6,
    "start_time": "2022-04-27T14:51:24.231Z"
   },
   {
    "duration": 266,
    "start_time": "2022-04-27T14:51:24.238Z"
   },
   {
    "duration": 7048,
    "start_time": "2022-04-27T14:51:24.506Z"
   },
   {
    "duration": 2945,
    "start_time": "2022-04-27T14:51:31.556Z"
   },
   {
    "duration": 44,
    "start_time": "2022-04-27T14:51:34.503Z"
   },
   {
    "duration": 19,
    "start_time": "2022-04-27T14:51:34.548Z"
   },
   {
    "duration": 10,
    "start_time": "2022-04-27T14:51:34.569Z"
   },
   {
    "duration": 17,
    "start_time": "2022-04-27T14:51:34.580Z"
   },
   {
    "duration": 412,
    "start_time": "2022-04-27T14:51:34.598Z"
   },
   {
    "duration": 40,
    "start_time": "2022-04-27T14:51:35.012Z"
   },
   {
    "duration": 27,
    "start_time": "2022-04-27T14:51:35.054Z"
   },
   {
    "duration": 52,
    "start_time": "2022-04-27T17:51:48.641Z"
   },
   {
    "duration": 1151,
    "start_time": "2022-04-27T17:51:51.981Z"
   },
   {
    "duration": 19,
    "start_time": "2022-04-27T17:51:53.134Z"
   },
   {
    "duration": 21,
    "start_time": "2022-04-27T17:51:53.154Z"
   },
   {
    "duration": 12,
    "start_time": "2022-04-27T17:51:53.176Z"
   },
   {
    "duration": 23,
    "start_time": "2022-04-27T17:51:53.191Z"
   },
   {
    "duration": 70,
    "start_time": "2022-04-27T17:51:53.233Z"
   },
   {
    "duration": 0,
    "start_time": "2022-04-27T17:51:53.305Z"
   },
   {
    "duration": 0,
    "start_time": "2022-04-27T17:51:53.307Z"
   },
   {
    "duration": 0,
    "start_time": "2022-04-27T17:51:53.308Z"
   },
   {
    "duration": 0,
    "start_time": "2022-04-27T17:51:53.309Z"
   },
   {
    "duration": 0,
    "start_time": "2022-04-27T17:51:53.310Z"
   },
   {
    "duration": 0,
    "start_time": "2022-04-27T17:51:53.334Z"
   },
   {
    "duration": 0,
    "start_time": "2022-04-27T17:51:53.335Z"
   },
   {
    "duration": 0,
    "start_time": "2022-04-27T17:51:53.336Z"
   },
   {
    "duration": 0,
    "start_time": "2022-04-27T17:51:53.337Z"
   },
   {
    "duration": 0,
    "start_time": "2022-04-27T17:51:53.338Z"
   },
   {
    "duration": 0,
    "start_time": "2022-04-27T17:51:53.340Z"
   },
   {
    "duration": 0,
    "start_time": "2022-04-27T17:51:53.341Z"
   },
   {
    "duration": 9,
    "start_time": "2022-04-27T17:52:04.352Z"
   },
   {
    "duration": 7,
    "start_time": "2022-04-27T17:52:28.045Z"
   },
   {
    "duration": 7,
    "start_time": "2022-04-27T17:52:36.341Z"
   },
   {
    "duration": 5,
    "start_time": "2022-04-27T17:52:37.867Z"
   },
   {
    "duration": 359,
    "start_time": "2022-04-27T17:52:41.880Z"
   },
   {
    "duration": 12961,
    "start_time": "2022-04-27T17:52:49.128Z"
   },
   {
    "duration": 119,
    "start_time": "2022-04-27T17:53:22.533Z"
   },
   {
    "duration": 5880,
    "start_time": "2022-04-27T17:53:22.655Z"
   },
   {
    "duration": 120,
    "start_time": "2022-04-27T17:53:28.538Z"
   },
   {
    "duration": 7384,
    "start_time": "2022-04-27T17:53:34.053Z"
   },
   {
    "duration": 121,
    "start_time": "2022-04-27T17:53:41.441Z"
   },
   {
    "duration": 19,
    "start_time": "2022-04-27T17:53:41.565Z"
   },
   {
    "duration": 7,
    "start_time": "2022-04-27T17:53:57.552Z"
   },
   {
    "duration": 28,
    "start_time": "2022-04-27T17:54:01.853Z"
   },
   {
    "duration": 556,
    "start_time": "2022-04-27T17:54:04.180Z"
   },
   {
    "duration": 805,
    "start_time": "2022-04-27T17:54:06.129Z"
   },
   {
    "duration": 29,
    "start_time": "2022-04-27T17:54:10.760Z"
   },
   {
    "duration": 9,
    "start_time": "2022-04-27T18:58:25.134Z"
   }
  ],
  "kernelspec": {
   "display_name": "Python 3 (ipykernel)",
   "language": "python",
   "name": "python3"
  },
  "language_info": {
   "codemirror_mode": {
    "name": "ipython",
    "version": 3
   },
   "file_extension": ".py",
   "mimetype": "text/x-python",
   "name": "python",
   "nbconvert_exporter": "python",
   "pygments_lexer": "ipython3",
   "version": "3.9.5"
  },
  "toc": {
   "base_numbering": 1,
   "nav_menu": {},
   "number_sections": true,
   "sideBar": true,
   "skip_h1_title": true,
   "title_cell": "Table of Contents",
   "title_sidebar": "Contents",
   "toc_cell": false,
   "toc_position": {},
   "toc_section_display": true,
   "toc_window_display": false
  }
 },
 "nbformat": 4,
 "nbformat_minor": 2
}
