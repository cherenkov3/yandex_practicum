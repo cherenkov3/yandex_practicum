{
 "cells": [
  {
   "cell_type": "markdown",
   "metadata": {},
   "source": [
    "# Определение стоимости автомобилей"
   ]
  },
  {
   "cell_type": "markdown",
   "metadata": {},
   "source": [
    "## Подготовка данных"
   ]
  },
  {
   "cell_type": "code",
   "execution_count": 1,
   "metadata": {},
   "outputs": [],
   "source": [
    "import pandas as pd\n",
    "pd.options.mode.chained_assignment = None\n",
    "import numpy as np\n",
    "from sklearn.metrics import mean_squared_error\n",
    "from sklearn.preprocessing import StandardScaler, OrdinalEncoder\n",
    "from sklearn.model_selection import train_test_split, cross_val_score\n",
    "from sklearn.linear_model import LinearRegression\n",
    "from catboost import CatBoostRegressor\n",
    "import lightgbm as lgb\n",
    "from lightgbm import LGBMRegressor"
   ]
  },
  {
   "cell_type": "code",
   "execution_count": 2,
   "metadata": {},
   "outputs": [],
   "source": [
    "car_data = pd.read_csv('/datasets/autos.csv')"
   ]
  },
  {
   "cell_type": "code",
   "execution_count": 3,
   "metadata": {},
   "outputs": [
    {
     "name": "stdout",
     "output_type": "stream",
     "text": [
      "<class 'pandas.core.frame.DataFrame'>\n",
      "RangeIndex: 354369 entries, 0 to 354368\n",
      "Data columns (total 16 columns):\n",
      " #   Column             Non-Null Count   Dtype \n",
      "---  ------             --------------   ----- \n",
      " 0   DateCrawled        354369 non-null  object\n",
      " 1   Price              354369 non-null  int64 \n",
      " 2   VehicleType        316879 non-null  object\n",
      " 3   RegistrationYear   354369 non-null  int64 \n",
      " 4   Gearbox            334536 non-null  object\n",
      " 5   Power              354369 non-null  int64 \n",
      " 6   Model              334664 non-null  object\n",
      " 7   Kilometer          354369 non-null  int64 \n",
      " 8   RegistrationMonth  354369 non-null  int64 \n",
      " 9   FuelType           321474 non-null  object\n",
      " 10  Brand              354369 non-null  object\n",
      " 11  NotRepaired        283215 non-null  object\n",
      " 12  DateCreated        354369 non-null  object\n",
      " 13  NumberOfPictures   354369 non-null  int64 \n",
      " 14  PostalCode         354369 non-null  int64 \n",
      " 15  LastSeen           354369 non-null  object\n",
      "dtypes: int64(7), object(9)\n",
      "memory usage: 43.3+ MB\n"
     ]
    },
    {
     "data": {
      "text/plain": [
       "None"
      ]
     },
     "metadata": {},
     "output_type": "display_data"
    },
    {
     "data": {
      "text/html": [
       "<div>\n",
       "<style scoped>\n",
       "    .dataframe tbody tr th:only-of-type {\n",
       "        vertical-align: middle;\n",
       "    }\n",
       "\n",
       "    .dataframe tbody tr th {\n",
       "        vertical-align: top;\n",
       "    }\n",
       "\n",
       "    .dataframe thead th {\n",
       "        text-align: right;\n",
       "    }\n",
       "</style>\n",
       "<table border=\"1\" class=\"dataframe\">\n",
       "  <thead>\n",
       "    <tr style=\"text-align: right;\">\n",
       "      <th></th>\n",
       "      <th>DateCrawled</th>\n",
       "      <th>Price</th>\n",
       "      <th>VehicleType</th>\n",
       "      <th>RegistrationYear</th>\n",
       "      <th>Gearbox</th>\n",
       "      <th>Power</th>\n",
       "      <th>Model</th>\n",
       "      <th>Kilometer</th>\n",
       "      <th>RegistrationMonth</th>\n",
       "      <th>FuelType</th>\n",
       "      <th>Brand</th>\n",
       "      <th>NotRepaired</th>\n",
       "      <th>DateCreated</th>\n",
       "      <th>NumberOfPictures</th>\n",
       "      <th>PostalCode</th>\n",
       "      <th>LastSeen</th>\n",
       "    </tr>\n",
       "  </thead>\n",
       "  <tbody>\n",
       "    <tr>\n",
       "      <th>0</th>\n",
       "      <td>2016-03-24 11:52:17</td>\n",
       "      <td>480</td>\n",
       "      <td>NaN</td>\n",
       "      <td>1993</td>\n",
       "      <td>manual</td>\n",
       "      <td>0</td>\n",
       "      <td>golf</td>\n",
       "      <td>150000</td>\n",
       "      <td>0</td>\n",
       "      <td>petrol</td>\n",
       "      <td>volkswagen</td>\n",
       "      <td>NaN</td>\n",
       "      <td>2016-03-24 00:00:00</td>\n",
       "      <td>0</td>\n",
       "      <td>70435</td>\n",
       "      <td>2016-04-07 03:16:57</td>\n",
       "    </tr>\n",
       "    <tr>\n",
       "      <th>1</th>\n",
       "      <td>2016-03-24 10:58:45</td>\n",
       "      <td>18300</td>\n",
       "      <td>coupe</td>\n",
       "      <td>2011</td>\n",
       "      <td>manual</td>\n",
       "      <td>190</td>\n",
       "      <td>NaN</td>\n",
       "      <td>125000</td>\n",
       "      <td>5</td>\n",
       "      <td>gasoline</td>\n",
       "      <td>audi</td>\n",
       "      <td>yes</td>\n",
       "      <td>2016-03-24 00:00:00</td>\n",
       "      <td>0</td>\n",
       "      <td>66954</td>\n",
       "      <td>2016-04-07 01:46:50</td>\n",
       "    </tr>\n",
       "    <tr>\n",
       "      <th>2</th>\n",
       "      <td>2016-03-14 12:52:21</td>\n",
       "      <td>9800</td>\n",
       "      <td>suv</td>\n",
       "      <td>2004</td>\n",
       "      <td>auto</td>\n",
       "      <td>163</td>\n",
       "      <td>grand</td>\n",
       "      <td>125000</td>\n",
       "      <td>8</td>\n",
       "      <td>gasoline</td>\n",
       "      <td>jeep</td>\n",
       "      <td>NaN</td>\n",
       "      <td>2016-03-14 00:00:00</td>\n",
       "      <td>0</td>\n",
       "      <td>90480</td>\n",
       "      <td>2016-04-05 12:47:46</td>\n",
       "    </tr>\n",
       "    <tr>\n",
       "      <th>3</th>\n",
       "      <td>2016-03-17 16:54:04</td>\n",
       "      <td>1500</td>\n",
       "      <td>small</td>\n",
       "      <td>2001</td>\n",
       "      <td>manual</td>\n",
       "      <td>75</td>\n",
       "      <td>golf</td>\n",
       "      <td>150000</td>\n",
       "      <td>6</td>\n",
       "      <td>petrol</td>\n",
       "      <td>volkswagen</td>\n",
       "      <td>no</td>\n",
       "      <td>2016-03-17 00:00:00</td>\n",
       "      <td>0</td>\n",
       "      <td>91074</td>\n",
       "      <td>2016-03-17 17:40:17</td>\n",
       "    </tr>\n",
       "    <tr>\n",
       "      <th>4</th>\n",
       "      <td>2016-03-31 17:25:20</td>\n",
       "      <td>3600</td>\n",
       "      <td>small</td>\n",
       "      <td>2008</td>\n",
       "      <td>manual</td>\n",
       "      <td>69</td>\n",
       "      <td>fabia</td>\n",
       "      <td>90000</td>\n",
       "      <td>7</td>\n",
       "      <td>gasoline</td>\n",
       "      <td>skoda</td>\n",
       "      <td>no</td>\n",
       "      <td>2016-03-31 00:00:00</td>\n",
       "      <td>0</td>\n",
       "      <td>60437</td>\n",
       "      <td>2016-04-06 10:17:21</td>\n",
       "    </tr>\n",
       "  </tbody>\n",
       "</table>\n",
       "</div>"
      ],
      "text/plain": [
       "           DateCrawled  Price VehicleType  RegistrationYear Gearbox  Power  \\\n",
       "0  2016-03-24 11:52:17    480         NaN              1993  manual      0   \n",
       "1  2016-03-24 10:58:45  18300       coupe              2011  manual    190   \n",
       "2  2016-03-14 12:52:21   9800         suv              2004    auto    163   \n",
       "3  2016-03-17 16:54:04   1500       small              2001  manual     75   \n",
       "4  2016-03-31 17:25:20   3600       small              2008  manual     69   \n",
       "\n",
       "   Model  Kilometer  RegistrationMonth  FuelType       Brand NotRepaired  \\\n",
       "0   golf     150000                  0    petrol  volkswagen         NaN   \n",
       "1    NaN     125000                  5  gasoline        audi         yes   \n",
       "2  grand     125000                  8  gasoline        jeep         NaN   \n",
       "3   golf     150000                  6    petrol  volkswagen          no   \n",
       "4  fabia      90000                  7  gasoline       skoda          no   \n",
       "\n",
       "           DateCreated  NumberOfPictures  PostalCode             LastSeen  \n",
       "0  2016-03-24 00:00:00                 0       70435  2016-04-07 03:16:57  \n",
       "1  2016-03-24 00:00:00                 0       66954  2016-04-07 01:46:50  \n",
       "2  2016-03-14 00:00:00                 0       90480  2016-04-05 12:47:46  \n",
       "3  2016-03-17 00:00:00                 0       91074  2016-03-17 17:40:17  \n",
       "4  2016-03-31 00:00:00                 0       60437  2016-04-06 10:17:21  "
      ]
     },
     "execution_count": 3,
     "metadata": {},
     "output_type": "execute_result"
    }
   ],
   "source": [
    "display(car_data.info())\n",
    "car_data.head()"
   ]
  },
  {
   "cell_type": "code",
   "execution_count": 4,
   "metadata": {},
   "outputs": [
    {
     "data": {
      "text/html": [
       "<div>\n",
       "<style scoped>\n",
       "    .dataframe tbody tr th:only-of-type {\n",
       "        vertical-align: middle;\n",
       "    }\n",
       "\n",
       "    .dataframe tbody tr th {\n",
       "        vertical-align: top;\n",
       "    }\n",
       "\n",
       "    .dataframe thead th {\n",
       "        text-align: right;\n",
       "    }\n",
       "</style>\n",
       "<table border=\"1\" class=\"dataframe\">\n",
       "  <thead>\n",
       "    <tr style=\"text-align: right;\">\n",
       "      <th></th>\n",
       "      <th>Price</th>\n",
       "      <th>RegistrationYear</th>\n",
       "      <th>Power</th>\n",
       "      <th>Kilometer</th>\n",
       "      <th>RegistrationMonth</th>\n",
       "      <th>NumberOfPictures</th>\n",
       "      <th>PostalCode</th>\n",
       "    </tr>\n",
       "  </thead>\n",
       "  <tbody>\n",
       "    <tr>\n",
       "      <th>count</th>\n",
       "      <td>354369.000000</td>\n",
       "      <td>354369.000000</td>\n",
       "      <td>354369.000000</td>\n",
       "      <td>354369.000000</td>\n",
       "      <td>354369.000000</td>\n",
       "      <td>354369.0</td>\n",
       "      <td>354369.000000</td>\n",
       "    </tr>\n",
       "    <tr>\n",
       "      <th>mean</th>\n",
       "      <td>4416.656776</td>\n",
       "      <td>2004.234448</td>\n",
       "      <td>110.094337</td>\n",
       "      <td>128211.172535</td>\n",
       "      <td>5.714645</td>\n",
       "      <td>0.0</td>\n",
       "      <td>50508.689087</td>\n",
       "    </tr>\n",
       "    <tr>\n",
       "      <th>std</th>\n",
       "      <td>4514.158514</td>\n",
       "      <td>90.227958</td>\n",
       "      <td>189.850405</td>\n",
       "      <td>37905.341530</td>\n",
       "      <td>3.726421</td>\n",
       "      <td>0.0</td>\n",
       "      <td>25783.096248</td>\n",
       "    </tr>\n",
       "    <tr>\n",
       "      <th>min</th>\n",
       "      <td>0.000000</td>\n",
       "      <td>1000.000000</td>\n",
       "      <td>0.000000</td>\n",
       "      <td>5000.000000</td>\n",
       "      <td>0.000000</td>\n",
       "      <td>0.0</td>\n",
       "      <td>1067.000000</td>\n",
       "    </tr>\n",
       "    <tr>\n",
       "      <th>25%</th>\n",
       "      <td>1050.000000</td>\n",
       "      <td>1999.000000</td>\n",
       "      <td>69.000000</td>\n",
       "      <td>125000.000000</td>\n",
       "      <td>3.000000</td>\n",
       "      <td>0.0</td>\n",
       "      <td>30165.000000</td>\n",
       "    </tr>\n",
       "    <tr>\n",
       "      <th>50%</th>\n",
       "      <td>2700.000000</td>\n",
       "      <td>2003.000000</td>\n",
       "      <td>105.000000</td>\n",
       "      <td>150000.000000</td>\n",
       "      <td>6.000000</td>\n",
       "      <td>0.0</td>\n",
       "      <td>49413.000000</td>\n",
       "    </tr>\n",
       "    <tr>\n",
       "      <th>75%</th>\n",
       "      <td>6400.000000</td>\n",
       "      <td>2008.000000</td>\n",
       "      <td>143.000000</td>\n",
       "      <td>150000.000000</td>\n",
       "      <td>9.000000</td>\n",
       "      <td>0.0</td>\n",
       "      <td>71083.000000</td>\n",
       "    </tr>\n",
       "    <tr>\n",
       "      <th>max</th>\n",
       "      <td>20000.000000</td>\n",
       "      <td>9999.000000</td>\n",
       "      <td>20000.000000</td>\n",
       "      <td>150000.000000</td>\n",
       "      <td>12.000000</td>\n",
       "      <td>0.0</td>\n",
       "      <td>99998.000000</td>\n",
       "    </tr>\n",
       "  </tbody>\n",
       "</table>\n",
       "</div>"
      ],
      "text/plain": [
       "               Price  RegistrationYear          Power      Kilometer  \\\n",
       "count  354369.000000     354369.000000  354369.000000  354369.000000   \n",
       "mean     4416.656776       2004.234448     110.094337  128211.172535   \n",
       "std      4514.158514         90.227958     189.850405   37905.341530   \n",
       "min         0.000000       1000.000000       0.000000    5000.000000   \n",
       "25%      1050.000000       1999.000000      69.000000  125000.000000   \n",
       "50%      2700.000000       2003.000000     105.000000  150000.000000   \n",
       "75%      6400.000000       2008.000000     143.000000  150000.000000   \n",
       "max     20000.000000       9999.000000   20000.000000  150000.000000   \n",
       "\n",
       "       RegistrationMonth  NumberOfPictures     PostalCode  \n",
       "count      354369.000000          354369.0  354369.000000  \n",
       "mean            5.714645               0.0   50508.689087  \n",
       "std             3.726421               0.0   25783.096248  \n",
       "min             0.000000               0.0    1067.000000  \n",
       "25%             3.000000               0.0   30165.000000  \n",
       "50%             6.000000               0.0   49413.000000  \n",
       "75%             9.000000               0.0   71083.000000  \n",
       "max            12.000000               0.0   99998.000000  "
      ]
     },
     "execution_count": 4,
     "metadata": {},
     "output_type": "execute_result"
    }
   ],
   "source": [
    "car_data.describe()"
   ]
  },
  {
   "cell_type": "markdown",
   "metadata": {},
   "source": [
    "При первом взгляде на датасет заметно, что в нем есть пропуски, а также много ненужных столбцов, например:\n",
    "\n",
    "+ DateCrawled — дата скачивания анкеты из базы\n",
    "+ RegistrationMonth — месяц регистрации автомобиля\n",
    "+ DateCreated — дата создания анкеты\n",
    "+ NumberOfPictures — количество фотографий автомобиля\n",
    "+ PostalCode — почтовый индекс владельца анкеты (пользователя)\n",
    "+ LastSeen — дата последней активности пользователя\n",
    "\n",
    "Избавимся от них и перейдем к обратке пропусков."
   ]
  },
  {
   "cell_type": "code",
   "execution_count": 5,
   "metadata": {},
   "outputs": [],
   "source": [
    "cars_data = car_data.drop(['DateCrawled', 'RegistrationMonth', 'DateCreated', 'NumberOfPictures', 'PostalCode', 'LastSeen'], axis='columns')\n"
   ]
  },
  {
   "cell_type": "code",
   "execution_count": 6,
   "metadata": {},
   "outputs": [
    {
     "name": "stdout",
     "output_type": "stream",
     "text": [
      "<class 'pandas.core.frame.DataFrame'>\n",
      "RangeIndex: 354369 entries, 0 to 354368\n",
      "Data columns (total 10 columns):\n",
      " #   Column            Non-Null Count   Dtype \n",
      "---  ------            --------------   ----- \n",
      " 0   Price             354369 non-null  int64 \n",
      " 1   VehicleType       316879 non-null  object\n",
      " 2   RegistrationYear  354369 non-null  int64 \n",
      " 3   Gearbox           334536 non-null  object\n",
      " 4   Power             354369 non-null  int64 \n",
      " 5   Model             334664 non-null  object\n",
      " 6   Kilometer         354369 non-null  int64 \n",
      " 7   FuelType          321474 non-null  object\n",
      " 8   Brand             354369 non-null  object\n",
      " 9   NotRepaired       283215 non-null  object\n",
      "dtypes: int64(4), object(6)\n",
      "memory usage: 27.0+ MB\n"
     ]
    },
    {
     "data": {
      "text/plain": [
       "None"
      ]
     },
     "metadata": {},
     "output_type": "display_data"
    },
    {
     "data": {
      "text/html": [
       "<div>\n",
       "<style scoped>\n",
       "    .dataframe tbody tr th:only-of-type {\n",
       "        vertical-align: middle;\n",
       "    }\n",
       "\n",
       "    .dataframe tbody tr th {\n",
       "        vertical-align: top;\n",
       "    }\n",
       "\n",
       "    .dataframe thead th {\n",
       "        text-align: right;\n",
       "    }\n",
       "</style>\n",
       "<table border=\"1\" class=\"dataframe\">\n",
       "  <thead>\n",
       "    <tr style=\"text-align: right;\">\n",
       "      <th></th>\n",
       "      <th>Price</th>\n",
       "      <th>VehicleType</th>\n",
       "      <th>RegistrationYear</th>\n",
       "      <th>Gearbox</th>\n",
       "      <th>Power</th>\n",
       "      <th>Model</th>\n",
       "      <th>Kilometer</th>\n",
       "      <th>FuelType</th>\n",
       "      <th>Brand</th>\n",
       "      <th>NotRepaired</th>\n",
       "    </tr>\n",
       "  </thead>\n",
       "  <tbody>\n",
       "    <tr>\n",
       "      <th>0</th>\n",
       "      <td>480</td>\n",
       "      <td>NaN</td>\n",
       "      <td>1993</td>\n",
       "      <td>manual</td>\n",
       "      <td>0</td>\n",
       "      <td>golf</td>\n",
       "      <td>150000</td>\n",
       "      <td>petrol</td>\n",
       "      <td>volkswagen</td>\n",
       "      <td>NaN</td>\n",
       "    </tr>\n",
       "    <tr>\n",
       "      <th>1</th>\n",
       "      <td>18300</td>\n",
       "      <td>coupe</td>\n",
       "      <td>2011</td>\n",
       "      <td>manual</td>\n",
       "      <td>190</td>\n",
       "      <td>NaN</td>\n",
       "      <td>125000</td>\n",
       "      <td>gasoline</td>\n",
       "      <td>audi</td>\n",
       "      <td>yes</td>\n",
       "    </tr>\n",
       "    <tr>\n",
       "      <th>2</th>\n",
       "      <td>9800</td>\n",
       "      <td>suv</td>\n",
       "      <td>2004</td>\n",
       "      <td>auto</td>\n",
       "      <td>163</td>\n",
       "      <td>grand</td>\n",
       "      <td>125000</td>\n",
       "      <td>gasoline</td>\n",
       "      <td>jeep</td>\n",
       "      <td>NaN</td>\n",
       "    </tr>\n",
       "    <tr>\n",
       "      <th>3</th>\n",
       "      <td>1500</td>\n",
       "      <td>small</td>\n",
       "      <td>2001</td>\n",
       "      <td>manual</td>\n",
       "      <td>75</td>\n",
       "      <td>golf</td>\n",
       "      <td>150000</td>\n",
       "      <td>petrol</td>\n",
       "      <td>volkswagen</td>\n",
       "      <td>no</td>\n",
       "    </tr>\n",
       "    <tr>\n",
       "      <th>4</th>\n",
       "      <td>3600</td>\n",
       "      <td>small</td>\n",
       "      <td>2008</td>\n",
       "      <td>manual</td>\n",
       "      <td>69</td>\n",
       "      <td>fabia</td>\n",
       "      <td>90000</td>\n",
       "      <td>gasoline</td>\n",
       "      <td>skoda</td>\n",
       "      <td>no</td>\n",
       "    </tr>\n",
       "  </tbody>\n",
       "</table>\n",
       "</div>"
      ],
      "text/plain": [
       "   Price VehicleType  RegistrationYear Gearbox  Power  Model  Kilometer  \\\n",
       "0    480         NaN              1993  manual      0   golf     150000   \n",
       "1  18300       coupe              2011  manual    190    NaN     125000   \n",
       "2   9800         suv              2004    auto    163  grand     125000   \n",
       "3   1500       small              2001  manual     75   golf     150000   \n",
       "4   3600       small              2008  manual     69  fabia      90000   \n",
       "\n",
       "   FuelType       Brand NotRepaired  \n",
       "0    petrol  volkswagen         NaN  \n",
       "1  gasoline        audi         yes  \n",
       "2  gasoline        jeep         NaN  \n",
       "3    petrol  volkswagen          no  \n",
       "4  gasoline       skoda          no  "
      ]
     },
     "execution_count": 6,
     "metadata": {},
     "output_type": "execute_result"
    }
   ],
   "source": [
    "display(cars_data.info())\n",
    "cars_data.head()"
   ]
  },
  {
   "cell_type": "markdown",
   "metadata": {},
   "source": [
    "Пропуски есть в столбцах VehicleType, Gearbox, Model, FuelType, NotRepaired. Заменим NaN-ы нетипичным значением unk - модель воспримет их как отдельную категорию."
   ]
  },
  {
   "cell_type": "code",
   "execution_count": 7,
   "metadata": {},
   "outputs": [
    {
     "data": {
      "text/html": [
       "<div>\n",
       "<style scoped>\n",
       "    .dataframe tbody tr th:only-of-type {\n",
       "        vertical-align: middle;\n",
       "    }\n",
       "\n",
       "    .dataframe tbody tr th {\n",
       "        vertical-align: top;\n",
       "    }\n",
       "\n",
       "    .dataframe thead th {\n",
       "        text-align: right;\n",
       "    }\n",
       "</style>\n",
       "<table border=\"1\" class=\"dataframe\">\n",
       "  <thead>\n",
       "    <tr style=\"text-align: right;\">\n",
       "      <th></th>\n",
       "      <th>Price</th>\n",
       "      <th>VehicleType</th>\n",
       "      <th>RegistrationYear</th>\n",
       "      <th>Gearbox</th>\n",
       "      <th>Power</th>\n",
       "      <th>Model</th>\n",
       "      <th>Kilometer</th>\n",
       "      <th>FuelType</th>\n",
       "      <th>Brand</th>\n",
       "      <th>NotRepaired</th>\n",
       "    </tr>\n",
       "  </thead>\n",
       "  <tbody>\n",
       "    <tr>\n",
       "      <th>0</th>\n",
       "      <td>480</td>\n",
       "      <td>unk</td>\n",
       "      <td>1993</td>\n",
       "      <td>manual</td>\n",
       "      <td>0</td>\n",
       "      <td>golf</td>\n",
       "      <td>150000</td>\n",
       "      <td>petrol</td>\n",
       "      <td>volkswagen</td>\n",
       "      <td>unk</td>\n",
       "    </tr>\n",
       "    <tr>\n",
       "      <th>1</th>\n",
       "      <td>18300</td>\n",
       "      <td>coupe</td>\n",
       "      <td>2011</td>\n",
       "      <td>manual</td>\n",
       "      <td>190</td>\n",
       "      <td>unk</td>\n",
       "      <td>125000</td>\n",
       "      <td>gasoline</td>\n",
       "      <td>audi</td>\n",
       "      <td>yes</td>\n",
       "    </tr>\n",
       "    <tr>\n",
       "      <th>2</th>\n",
       "      <td>9800</td>\n",
       "      <td>suv</td>\n",
       "      <td>2004</td>\n",
       "      <td>auto</td>\n",
       "      <td>163</td>\n",
       "      <td>grand</td>\n",
       "      <td>125000</td>\n",
       "      <td>gasoline</td>\n",
       "      <td>jeep</td>\n",
       "      <td>unk</td>\n",
       "    </tr>\n",
       "    <tr>\n",
       "      <th>3</th>\n",
       "      <td>1500</td>\n",
       "      <td>small</td>\n",
       "      <td>2001</td>\n",
       "      <td>manual</td>\n",
       "      <td>75</td>\n",
       "      <td>golf</td>\n",
       "      <td>150000</td>\n",
       "      <td>petrol</td>\n",
       "      <td>volkswagen</td>\n",
       "      <td>no</td>\n",
       "    </tr>\n",
       "    <tr>\n",
       "      <th>4</th>\n",
       "      <td>3600</td>\n",
       "      <td>small</td>\n",
       "      <td>2008</td>\n",
       "      <td>manual</td>\n",
       "      <td>69</td>\n",
       "      <td>fabia</td>\n",
       "      <td>90000</td>\n",
       "      <td>gasoline</td>\n",
       "      <td>skoda</td>\n",
       "      <td>no</td>\n",
       "    </tr>\n",
       "  </tbody>\n",
       "</table>\n",
       "</div>"
      ],
      "text/plain": [
       "   Price VehicleType  RegistrationYear Gearbox  Power  Model  Kilometer  \\\n",
       "0    480         unk              1993  manual      0   golf     150000   \n",
       "1  18300       coupe              2011  manual    190    unk     125000   \n",
       "2   9800         suv              2004    auto    163  grand     125000   \n",
       "3   1500       small              2001  manual     75   golf     150000   \n",
       "4   3600       small              2008  manual     69  fabia      90000   \n",
       "\n",
       "   FuelType       Brand NotRepaired  \n",
       "0    petrol  volkswagen         unk  \n",
       "1  gasoline        audi         yes  \n",
       "2  gasoline        jeep         unk  \n",
       "3    petrol  volkswagen          no  \n",
       "4  gasoline       skoda          no  "
      ]
     },
     "execution_count": 7,
     "metadata": {},
     "output_type": "execute_result"
    }
   ],
   "source": [
    "cars_data.fillna(value='unk', inplace=True)\n",
    "cars_data.head()"
   ]
  },
  {
   "cell_type": "markdown",
   "metadata": {},
   "source": [
    "Проверим датасет на наличие выбросов."
   ]
  },
  {
   "cell_type": "code",
   "execution_count": 8,
   "metadata": {},
   "outputs": [
    {
     "data": {
      "text/plain": [
       "<AxesSubplot:>"
      ]
     },
     "execution_count": 8,
     "metadata": {},
     "output_type": "execute_result"
    },
    {
     "data": {
      "image/png": "[encoded data removed]",
      "text/plain": [
       "<Figure size 432x288 with 1 Axes>"
      ]
     },
     "metadata": {
      "needs_background": "light"
     },
     "output_type": "display_data"
    }
   ],
   "source": [
    "cars_data.boxplot()"
   ]
  },
  {
   "cell_type": "markdown",
   "metadata": {},
   "source": [
    "Пробег и цену трогать не будем - здесь значения могут быть самыми разными. А вот выбросы в столбцах RegistrationYear и Power интересны - например, мощностью больше 1000 лошадиных сил могут похвастаться только спротивные автомобили, а год регистрации не может быть больше 2022 и меньше 1931, когда был зарегистрирован первый автомобиль."
   ]
  },
  {
   "cell_type": "code",
   "execution_count": 9,
   "metadata": {},
   "outputs": [
    {
     "data": {
      "text/plain": [
       "(354369, 10)"
      ]
     },
     "execution_count": 9,
     "metadata": {},
     "output_type": "execute_result"
    }
   ],
   "source": [
    "cars_data.shape"
   ]
  },
  {
   "cell_type": "code",
   "execution_count": 10,
   "metadata": {},
   "outputs": [],
   "source": [
    "#Код ревьюера\n",
    "cars_data = cars_data.query('RegistrationYear <= 2016 and RegistrationYear >= 1931 and Power <= 1200')"
   ]
  },
  {
   "cell_type": "code",
   "execution_count": 11,
   "metadata": {},
   "outputs": [
    {
     "data": {
      "text/plain": [
       "array([1993, 2011, 2004, 2001, 2008, 1995, 1980, 2014, 1998, 2005, 2016,\n",
       "       2007, 2009, 2002, 1997, 1990, 1981, 2003, 1994, 1991, 1984, 2006,\n",
       "       1999, 2012, 2010, 2000, 1992, 2013, 1996, 1985, 1989, 2015, 1982,\n",
       "       1976, 1983, 1973, 1969, 1971, 1987, 1986, 1988, 1970, 1965, 1945,\n",
       "       1974, 1979, 1955, 1978, 1972, 1968, 1977, 1961, 1960, 1966, 1975,\n",
       "       1963, 1964, 1954, 1958, 1967, 1959, 1956, 1941, 1962, 1957, 1940,\n",
       "       1949, 1937, 1951, 1953, 1933, 1950, 1948, 1952, 1932, 1942, 1935,\n",
       "       1936, 1944, 1943, 1934, 1938, 1931, 1947, 1946])"
      ]
     },
     "execution_count": 11,
     "metadata": {},
     "output_type": "execute_result"
    }
   ],
   "source": [
    "cars_data['RegistrationYear'].unique()"
   ]
  },
  {
   "cell_type": "markdown",
   "metadata": {},
   "source": [
    "## Обучение  и анализ моделей"
   ]
  },
  {
   "cell_type": "markdown",
   "metadata": {},
   "source": [
    "Задействуем технику прямого кодирования, чтобы преобразовать категориальные признаки в численные."
   ]
  },
  {
   "cell_type": "code",
   "execution_count": 12,
   "metadata": {},
   "outputs": [],
   "source": [
    "cars_data_ohe = pd.get_dummies(cars_data, drop_first=True)"
   ]
  },
  {
   "cell_type": "code",
   "execution_count": 13,
   "metadata": {},
   "outputs": [
    {
     "data": {
      "text/html": [
       "<div>\n",
       "<style scoped>\n",
       "    .dataframe tbody tr th:only-of-type {\n",
       "        vertical-align: middle;\n",
       "    }\n",
       "\n",
       "    .dataframe tbody tr th {\n",
       "        vertical-align: top;\n",
       "    }\n",
       "\n",
       "    .dataframe thead th {\n",
       "        text-align: right;\n",
       "    }\n",
       "</style>\n",
       "<table border=\"1\" class=\"dataframe\">\n",
       "  <thead>\n",
       "    <tr style=\"text-align: right;\">\n",
       "      <th></th>\n",
       "      <th>Price</th>\n",
       "      <th>RegistrationYear</th>\n",
       "      <th>Power</th>\n",
       "      <th>Kilometer</th>\n",
       "      <th>VehicleType_convertible</th>\n",
       "      <th>VehicleType_coupe</th>\n",
       "      <th>VehicleType_other</th>\n",
       "      <th>VehicleType_sedan</th>\n",
       "      <th>VehicleType_small</th>\n",
       "      <th>VehicleType_suv</th>\n",
       "      <th>...</th>\n",
       "      <th>Brand_smart</th>\n",
       "      <th>Brand_sonstige_autos</th>\n",
       "      <th>Brand_subaru</th>\n",
       "      <th>Brand_suzuki</th>\n",
       "      <th>Brand_toyota</th>\n",
       "      <th>Brand_trabant</th>\n",
       "      <th>Brand_volkswagen</th>\n",
       "      <th>Brand_volvo</th>\n",
       "      <th>NotRepaired_unk</th>\n",
       "      <th>NotRepaired_yes</th>\n",
       "    </tr>\n",
       "  </thead>\n",
       "  <tbody>\n",
       "    <tr>\n",
       "      <th>0</th>\n",
       "      <td>480</td>\n",
       "      <td>1993</td>\n",
       "      <td>0</td>\n",
       "      <td>150000</td>\n",
       "      <td>0</td>\n",
       "      <td>0</td>\n",
       "      <td>0</td>\n",
       "      <td>0</td>\n",
       "      <td>0</td>\n",
       "      <td>0</td>\n",
       "      <td>...</td>\n",
       "      <td>0</td>\n",
       "      <td>0</td>\n",
       "      <td>0</td>\n",
       "      <td>0</td>\n",
       "      <td>0</td>\n",
       "      <td>0</td>\n",
       "      <td>1</td>\n",
       "      <td>0</td>\n",
       "      <td>1</td>\n",
       "      <td>0</td>\n",
       "    </tr>\n",
       "    <tr>\n",
       "      <th>1</th>\n",
       "      <td>18300</td>\n",
       "      <td>2011</td>\n",
       "      <td>190</td>\n",
       "      <td>125000</td>\n",
       "      <td>0</td>\n",
       "      <td>1</td>\n",
       "      <td>0</td>\n",
       "      <td>0</td>\n",
       "      <td>0</td>\n",
       "      <td>0</td>\n",
       "      <td>...</td>\n",
       "      <td>0</td>\n",
       "      <td>0</td>\n",
       "      <td>0</td>\n",
       "      <td>0</td>\n",
       "      <td>0</td>\n",
       "      <td>0</td>\n",
       "      <td>0</td>\n",
       "      <td>0</td>\n",
       "      <td>0</td>\n",
       "      <td>1</td>\n",
       "    </tr>\n",
       "    <tr>\n",
       "      <th>2</th>\n",
       "      <td>9800</td>\n",
       "      <td>2004</td>\n",
       "      <td>163</td>\n",
       "      <td>125000</td>\n",
       "      <td>0</td>\n",
       "      <td>0</td>\n",
       "      <td>0</td>\n",
       "      <td>0</td>\n",
       "      <td>0</td>\n",
       "      <td>1</td>\n",
       "      <td>...</td>\n",
       "      <td>0</td>\n",
       "      <td>0</td>\n",
       "      <td>0</td>\n",
       "      <td>0</td>\n",
       "      <td>0</td>\n",
       "      <td>0</td>\n",
       "      <td>0</td>\n",
       "      <td>0</td>\n",
       "      <td>1</td>\n",
       "      <td>0</td>\n",
       "    </tr>\n",
       "    <tr>\n",
       "      <th>3</th>\n",
       "      <td>1500</td>\n",
       "      <td>2001</td>\n",
       "      <td>75</td>\n",
       "      <td>150000</td>\n",
       "      <td>0</td>\n",
       "      <td>0</td>\n",
       "      <td>0</td>\n",
       "      <td>0</td>\n",
       "      <td>1</td>\n",
       "      <td>0</td>\n",
       "      <td>...</td>\n",
       "      <td>0</td>\n",
       "      <td>0</td>\n",
       "      <td>0</td>\n",
       "      <td>0</td>\n",
       "      <td>0</td>\n",
       "      <td>0</td>\n",
       "      <td>1</td>\n",
       "      <td>0</td>\n",
       "      <td>0</td>\n",
       "      <td>0</td>\n",
       "    </tr>\n",
       "    <tr>\n",
       "      <th>4</th>\n",
       "      <td>3600</td>\n",
       "      <td>2008</td>\n",
       "      <td>69</td>\n",
       "      <td>90000</td>\n",
       "      <td>0</td>\n",
       "      <td>0</td>\n",
       "      <td>0</td>\n",
       "      <td>0</td>\n",
       "      <td>1</td>\n",
       "      <td>0</td>\n",
       "      <td>...</td>\n",
       "      <td>0</td>\n",
       "      <td>0</td>\n",
       "      <td>0</td>\n",
       "      <td>0</td>\n",
       "      <td>0</td>\n",
       "      <td>0</td>\n",
       "      <td>0</td>\n",
       "      <td>0</td>\n",
       "      <td>0</td>\n",
       "      <td>0</td>\n",
       "    </tr>\n",
       "  </tbody>\n",
       "</table>\n",
       "<p>5 rows × 312 columns</p>\n",
       "</div>"
      ],
      "text/plain": [
       "   Price  RegistrationYear  Power  Kilometer  VehicleType_convertible  \\\n",
       "0    480              1993      0     150000                        0   \n",
       "1  18300              2011    190     125000                        0   \n",
       "2   9800              2004    163     125000                        0   \n",
       "3   1500              2001     75     150000                        0   \n",
       "4   3600              2008     69      90000                        0   \n",
       "\n",
       "   VehicleType_coupe  VehicleType_other  VehicleType_sedan  VehicleType_small  \\\n",
       "0                  0                  0                  0                  0   \n",
       "1                  1                  0                  0                  0   \n",
       "2                  0                  0                  0                  0   \n",
       "3                  0                  0                  0                  1   \n",
       "4                  0                  0                  0                  1   \n",
       "\n",
       "   VehicleType_suv  ...  Brand_smart  Brand_sonstige_autos  Brand_subaru  \\\n",
       "0                0  ...            0                     0             0   \n",
       "1                0  ...            0                     0             0   \n",
       "2                1  ...            0                     0             0   \n",
       "3                0  ...            0                     0             0   \n",
       "4                0  ...            0                     0             0   \n",
       "\n",
       "   Brand_suzuki  Brand_toyota  Brand_trabant  Brand_volkswagen  Brand_volvo  \\\n",
       "0             0             0              0                 1            0   \n",
       "1             0             0              0                 0            0   \n",
       "2             0             0              0                 0            0   \n",
       "3             0             0              0                 1            0   \n",
       "4             0             0              0                 0            0   \n",
       "\n",
       "   NotRepaired_unk  NotRepaired_yes  \n",
       "0                1                0  \n",
       "1                0                1  \n",
       "2                1                0  \n",
       "3                0                0  \n",
       "4                0                0  \n",
       "\n",
       "[5 rows x 312 columns]"
      ]
     },
     "execution_count": 13,
     "metadata": {},
     "output_type": "execute_result"
    }
   ],
   "source": [
    "# Код ревьюера\n",
    "cars_data_ohe.head()"
   ]
  },
  {
   "cell_type": "markdown",
   "metadata": {},
   "source": [
    "Подготовим признаки и целевой признак, а затем разделим данные на обучающую и тестовую выборки."
   ]
  },
  {
   "cell_type": "code",
   "execution_count": 14,
   "metadata": {},
   "outputs": [],
   "source": [
    "#признаки для обучения модели линейной регрессии\n",
    "features_lr = cars_data_ohe.drop(['Price'], axis = 1)\n",
    "target_lr = cars_data_ohe['Price']"
   ]
  },
  {
   "cell_type": "markdown",
   "metadata": {},
   "source": [
    "Преобразуем столбцы с категориальными признаками в тип данных category"
   ]
  },
  {
   "cell_type": "code",
   "execution_count": 15,
   "metadata": {},
   "outputs": [],
   "source": [
    "categorical = ['VehicleType', 'Gearbox', 'Model', 'FuelType', 'Brand', 'NotRepaired']"
   ]
  },
  {
   "cell_type": "code",
   "execution_count": 16,
   "metadata": {},
   "outputs": [],
   "source": [
    "for col in categorical:\n",
    "    cars_data[col] = cars_data[col].astype('category')"
   ]
  },
  {
   "cell_type": "code",
   "execution_count": 17,
   "metadata": {},
   "outputs": [],
   "source": [
    "#признаки для обучения моделей CBR и LGBM\n",
    "features = cars_data.drop(['Price'], axis = 1)\n",
    "target = cars_data['Price']"
   ]
  },
  {
   "cell_type": "code",
   "execution_count": 18,
   "metadata": {},
   "outputs": [],
   "source": [
    "features_train_lr, features_test_lr, target_train_lr, target_test_lr = train_test_split(features_lr, target_lr, test_size=.25, random_state=12345)"
   ]
  },
  {
   "cell_type": "code",
   "execution_count": 19,
   "metadata": {},
   "outputs": [],
   "source": [
    "features_train, features_test, target_train, target_test = train_test_split(features, target, test_size=.25, random_state=12345)"
   ]
  },
  {
   "cell_type": "code",
   "execution_count": 20,
   "metadata": {},
   "outputs": [
    {
     "data": {
      "text/plain": [
       "(        RegistrationYear  Power  Kilometer  VehicleType_convertible  \\\n",
       " 298313              1999    218     150000                        0   \n",
       " 42546               2012    140      60000                        0   \n",
       " 175923              2002     58     125000                        0   \n",
       " 294498              2005    101     150000                        0   \n",
       " 321836              2013    116      50000                        0   \n",
       " ...                  ...    ...        ...                      ...   \n",
       " 165726              2003     84     150000                        0   \n",
       " 49983               1990     50     150000                        0   \n",
       " 90118               2009    102     150000                        0   \n",
       " 80606               2004    140     150000                        0   \n",
       " 227131              2005    224     150000                        0   \n",
       " \n",
       "         VehicleType_coupe  VehicleType_other  VehicleType_sedan  \\\n",
       " 298313                  0                  0                  0   \n",
       " 42546                   0                  0                  0   \n",
       " 175923                  0                  0                  0   \n",
       " 294498                  0                  0                  0   \n",
       " 321836                  1                  0                  0   \n",
       " ...                   ...                ...                ...   \n",
       " 165726                  0                  0                  1   \n",
       " 49983                   0                  0                  0   \n",
       " 90118                   0                  0                  1   \n",
       " 80606                   0                  0                  1   \n",
       " 227131                  0                  0                  1   \n",
       " \n",
       "         VehicleType_small  VehicleType_suv  VehicleType_unk  ...  Brand_smart  \\\n",
       " 298313                  0                1                0  ...            0   \n",
       " 42546                   0                0                0  ...            0   \n",
       " 175923                  1                0                0  ...            0   \n",
       " 294498                  0                0                0  ...            0   \n",
       " 321836                  0                0                0  ...            0   \n",
       " ...                   ...              ...              ...  ...          ...   \n",
       " 165726                  0                0                0  ...            0   \n",
       " 49983                   1                0                0  ...            0   \n",
       " 90118                   0                0                0  ...            0   \n",
       " 80606                   0                0                0  ...            0   \n",
       " 227131                  0                0                0  ...            0   \n",
       " \n",
       "         Brand_sonstige_autos  Brand_subaru  Brand_suzuki  Brand_toyota  \\\n",
       " 298313                     0             0             0             0   \n",
       " 42546                      0             0             0             0   \n",
       " 175923                     0             0             0             0   \n",
       " 294498                     0             0             0             0   \n",
       " 321836                     0             0             0             0   \n",
       " ...                      ...           ...           ...           ...   \n",
       " 165726                     0             0             0             0   \n",
       " 49983                      0             1             0             0   \n",
       " 90118                      0             0             0             0   \n",
       " 80606                      0             0             0             0   \n",
       " 227131                     0             0             0             0   \n",
       " \n",
       "         Brand_trabant  Brand_volkswagen  Brand_volvo  NotRepaired_unk  \\\n",
       " 298313              0                 0            0                0   \n",
       " 42546               0                 1            0                0   \n",
       " 175923              0                 0            0                0   \n",
       " 294498              0                 0            0                0   \n",
       " 321836              0                 0            0                0   \n",
       " ...               ...               ...          ...              ...   \n",
       " 165726              0                 0            0                0   \n",
       " 49983               0                 0            0                1   \n",
       " 90118               0                 1            0                1   \n",
       " 80606               0                 1            0                0   \n",
       " 227131              0                 0            0                0   \n",
       " \n",
       "         NotRepaired_yes  \n",
       " 298313                1  \n",
       " 42546                 0  \n",
       " 175923                0  \n",
       " 294498                0  \n",
       " 321836                0  \n",
       " ...                 ...  \n",
       " 165726                0  \n",
       " 49983                 0  \n",
       " 90118                 0  \n",
       " 80606                 1  \n",
       " 227131                0  \n",
       " \n",
       " [254565 rows x 311 columns],\n",
       "         RegistrationYear  Power  Kilometer  VehicleType_convertible  \\\n",
       " 303148              1997    140     150000                        0   \n",
       " 192927              2007    170     150000                        0   \n",
       " 251959              2009    105     150000                        0   \n",
       " 137961              2016     75       5000                        0   \n",
       " 139553              2002    220     125000                        1   \n",
       " ...                  ...    ...        ...                      ...   \n",
       " 47252               2005    122     150000                        0   \n",
       " 308168              1989    188     150000                        0   \n",
       " 248950              2001    146     150000                        0   \n",
       " 33551               2005      0     125000                        0   \n",
       " 80307               2010     86      40000                        0   \n",
       " \n",
       "         VehicleType_coupe  VehicleType_other  VehicleType_sedan  \\\n",
       " 303148                  1                  0                  0   \n",
       " 192927                  0                  0                  0   \n",
       " 251959                  0                  0                  0   \n",
       " 137961                  0                  0                  0   \n",
       " 139553                  0                  0                  0   \n",
       " ...                   ...                ...                ...   \n",
       " 47252                   0                  0                  1   \n",
       " 308168                  0                  0                  1   \n",
       " 248950                  0                  0                  0   \n",
       " 33551                   0                  0                  0   \n",
       " 80307                   0                  0                  0   \n",
       " \n",
       "         VehicleType_small  VehicleType_suv  VehicleType_unk  ...  Brand_smart  \\\n",
       " 303148                  0                0                0  ...            0   \n",
       " 192927                  0                0                0  ...            0   \n",
       " 251959                  0                0                0  ...            0   \n",
       " 137961                  0                0                1  ...            0   \n",
       " 139553                  0                0                0  ...            0   \n",
       " ...                   ...              ...              ...  ...          ...   \n",
       " 47252                   0                0                0  ...            0   \n",
       " 308168                  0                0                0  ...            0   \n",
       " 248950                  0                0                0  ...            0   \n",
       " 33551                   0                0                1  ...            0   \n",
       " 80307                   1                0                0  ...            0   \n",
       " \n",
       "         Brand_sonstige_autos  Brand_subaru  Brand_suzuki  Brand_toyota  \\\n",
       " 303148                     0             0             0             0   \n",
       " 192927                     0             0             0             0   \n",
       " 251959                     0             0             0             0   \n",
       " 137961                     0             0             0             0   \n",
       " 139553                     0             0             0             0   \n",
       " ...                      ...           ...           ...           ...   \n",
       " 47252                      0             0             0             0   \n",
       " 308168                     0             0             0             0   \n",
       " 248950                     0             0             0             0   \n",
       " 33551                      0             0             0             0   \n",
       " 80307                      0             0             0             0   \n",
       " \n",
       "         Brand_trabant  Brand_volkswagen  Brand_volvo  NotRepaired_unk  \\\n",
       " 303148              0                 0            0                0   \n",
       " 192927              0                 1            0                1   \n",
       " 251959              0                 1            0                0   \n",
       " 137961              0                 0            0                1   \n",
       " 139553              0                 0            0                0   \n",
       " ...               ...               ...          ...              ...   \n",
       " 47252               0                 0            0                0   \n",
       " 308168              0                 0            0                0   \n",
       " 248950              0                 0            0                0   \n",
       " 33551               0                 0            0                1   \n",
       " 80307               0                 0            0                0   \n",
       " \n",
       "         NotRepaired_yes  \n",
       " 303148                1  \n",
       " 192927                0  \n",
       " 251959                0  \n",
       " 137961                0  \n",
       " 139553                0  \n",
       " ...                 ...  \n",
       " 47252                 0  \n",
       " 308168                1  \n",
       " 248950                1  \n",
       " 33551                 0  \n",
       " 80307                 0  \n",
       " \n",
       " [84855 rows x 311 columns],\n",
       " 298313     3500\n",
       " 42546     16750\n",
       " 175923     1650\n",
       " 294498     3300\n",
       " 321836    14299\n",
       "           ...  \n",
       " 165726      700\n",
       " 49983        20\n",
       " 90118      6250\n",
       " 80606      3700\n",
       " 227131     6850\n",
       " Name: Price, Length: 254565, dtype: int64,\n",
       " (84855,))"
      ]
     },
     "execution_count": 20,
     "metadata": {},
     "output_type": "execute_result"
    }
   ],
   "source": [
    "features_train_lr, features_test_lr, target_train_lr, target_test_lr.shape"
   ]
  },
  {
   "cell_type": "code",
   "execution_count": 21,
   "metadata": {},
   "outputs": [
    {
     "data": {
      "text/plain": [
       "(       VehicleType  RegistrationYear Gearbox  Power     Model  Kilometer  \\\n",
       " 298313         suv              1999    auto    218  m_klasse     150000   \n",
       " 42546        wagon              2012  manual    140    passat      60000   \n",
       " 175923       small              2002  manual     58     other     125000   \n",
       " 294498         bus              2005  manual    101    meriva     150000   \n",
       " 321836       coupe              2013  manual    116       1er      50000   \n",
       " ...            ...               ...     ...    ...       ...        ...   \n",
       " 165726       sedan              2003  manual     84   primera     150000   \n",
       " 49983        small              1990  manual     50     justy     150000   \n",
       " 90118        sedan              2009  manual    102     caddy     150000   \n",
       " 80606        sedan              2004  manual    140    passat     150000   \n",
       " 227131       sedan              2005    auto    224  e_klasse     150000   \n",
       " \n",
       "         FuelType          Brand NotRepaired  \n",
       " 298313    petrol  mercedes_benz         yes  \n",
       " 42546   gasoline     volkswagen          no  \n",
       " 175923    petrol        hyundai          no  \n",
       " 294498       lpg           opel          no  \n",
       " 321836  gasoline            bmw          no  \n",
       " ...          ...            ...         ...  \n",
       " 165726    petrol         nissan          no  \n",
       " 49983     petrol         subaru         unk  \n",
       " 90118        lpg     volkswagen         unk  \n",
       " 80606   gasoline     volkswagen         yes  \n",
       " 227131  gasoline  mercedes_benz          no  \n",
       " \n",
       " [254565 rows x 9 columns],\n",
       "         VehicleType  RegistrationYear Gearbox  Power     Model  Kilometer  \\\n",
       " 303148        coupe              1997  manual    140       3er     150000   \n",
       " 192927        wagon              2007     unk    170    passat     150000   \n",
       " 251959          bus              2009  manual    105    touran     150000   \n",
       " 137961          unk              2016  manual     75     astra       5000   \n",
       " 139553  convertible              2002    auto    220     other     125000   \n",
       " ...             ...               ...     ...    ...       ...        ...   \n",
       " 47252         sedan              2005    auto    122  e_klasse     150000   \n",
       " 308168        sedan              1989    auto    188     other     150000   \n",
       " 248950          bus              2001    auto    146     other     150000   \n",
       " 33551           unk              2005     unk      0     corsa     125000   \n",
       " 80307         small              2010  manual     86        a1      40000   \n",
       " \n",
       "         FuelType          Brand NotRepaired  \n",
       " 303148    petrol            bmw         yes  \n",
       " 192927  gasoline     volkswagen         unk  \n",
       " 251959  gasoline     volkswagen          no  \n",
       " 137961    petrol           opel         unk  \n",
       " 139553    petrol           audi          no  \n",
       " ...          ...            ...         ...  \n",
       " 47252   gasoline  mercedes_benz          no  \n",
       " 308168    petrol  mercedes_benz         yes  \n",
       " 248950    petrol           ford         yes  \n",
       " 33551        unk           opel         unk  \n",
       " 80307     petrol           audi          no  \n",
       " \n",
       " [84855 rows x 9 columns],\n",
       " 298313     3500\n",
       " 42546     16750\n",
       " 175923     1650\n",
       " 294498     3300\n",
       " 321836    14299\n",
       "           ...  \n",
       " 165726      700\n",
       " 49983        20\n",
       " 90118      6250\n",
       " 80606      3700\n",
       " 227131     6850\n",
       " Name: Price, Length: 254565, dtype: int64,\n",
       " (84855,))"
      ]
     },
     "execution_count": 21,
     "metadata": {},
     "output_type": "execute_result"
    }
   ],
   "source": [
    "features_train, features_test, target_train, target_test.shape"
   ]
  },
  {
   "cell_type": "code",
   "execution_count": 22,
   "metadata": {},
   "outputs": [],
   "source": [
    "#напишем формулу для получения значения метрики RMSE\n",
    "def rmse (target, predictions):\n",
    "    mse = mean_squared_error(target, predictions)\n",
    "    rmse = mse ** 0.5\n",
    "    return rmse"
   ]
  },
  {
   "cell_type": "markdown",
   "metadata": {},
   "source": [
    "Обучим и проанализируем время работы и качество моделей."
   ]
  },
  {
   "cell_type": "markdown",
   "metadata": {},
   "source": [
    "# LinearRegression"
   ]
  },
  {
   "cell_type": "code",
   "execution_count": 23,
   "metadata": {},
   "outputs": [],
   "source": [
    "lr_model = LinearRegression()"
   ]
  },
  {
   "cell_type": "code",
   "execution_count": 24,
   "metadata": {},
   "outputs": [
    {
     "name": "stdout",
     "output_type": "stream",
     "text": [
      "CPU times: user 38.8 s, sys: 46.7 s, total: 1min 25s\n",
      "Wall time: 1min 25s\n"
     ]
    },
    {
     "data": {
      "text/plain": [
       "LinearRegression()"
      ]
     },
     "execution_count": 24,
     "metadata": {},
     "output_type": "execute_result"
    }
   ],
   "source": [
    "%%time\n",
    "lr_model.fit(features_train_lr, target_train_lr)"
   ]
  },
  {
   "cell_type": "code",
   "execution_count": 25,
   "metadata": {},
   "outputs": [
    {
     "name": "stdout",
     "output_type": "stream",
     "text": [
      "CPU times: user 206 ms, sys: 179 ms, total: 385 ms\n",
      "Wall time: 385 ms\n"
     ]
    }
   ],
   "source": [
    "%%time\n",
    "predicted_lr = pd.Series(lr_model.predict(features_test_lr))"
   ]
  },
  {
   "cell_type": "code",
   "execution_count": 26,
   "metadata": {},
   "outputs": [
    {
     "data": {
      "text/plain": [
       "2760.7785613130814"
      ]
     },
     "execution_count": 26,
     "metadata": {},
     "output_type": "execute_result"
    }
   ],
   "source": [
    "rmse(target_test_lr, predicted_lr)"
   ]
  },
  {
   "cell_type": "markdown",
   "metadata": {},
   "source": [
    "# CatBoostRegressor"
   ]
  },
  {
   "cell_type": "code",
   "execution_count": 27,
   "metadata": {},
   "outputs": [
    {
     "name": "stdout",
     "output_type": "stream",
     "text": [
      "Learning rate set to 0.5\n",
      "0:\tlearn: 3135.0838491\ttotal: 150ms\tremaining: 1.35s\n",
      "9:\tlearn: 1876.6074971\ttotal: 923ms\tremaining: 0us\n",
      "Learning rate set to 0.5\n",
      "0:\tlearn: 3150.2613221\ttotal: 86.6ms\tremaining: 779ms\n",
      "9:\tlearn: 1858.3482942\ttotal: 923ms\tremaining: 0us\n",
      "Score при iterations = 10 : [0.82564921 0.82413942]\n",
      "Score mean = 0.824894316412616\n",
      "\n",
      "Learning rate set to 0.5\n",
      "0:\tlearn: 3135.0838491\ttotal: 102ms\tremaining: 3.47s\n",
      "10:\tlearn: 1866.2250422\ttotal: 956ms\tremaining: 2.09s\n",
      "20:\tlearn: 1760.2188308\ttotal: 1.79s\tremaining: 1.2s\n",
      "30:\tlearn: 1697.3868746\ttotal: 2.62s\tremaining: 339ms\n",
      "34:\tlearn: 1685.1033214\ttotal: 2.98s\tremaining: 0us\n",
      "Learning rate set to 0.5\n",
      "0:\tlearn: 3150.2613221\ttotal: 95.5ms\tremaining: 3.25s\n",
      "10:\tlearn: 1848.7198347\ttotal: 965ms\tremaining: 2.11s\n",
      "20:\tlearn: 1751.0822624\ttotal: 1.82s\tremaining: 1.21s\n",
      "30:\tlearn: 1675.8109840\ttotal: 2.69s\tremaining: 347ms\n",
      "34:\tlearn: 1658.3652032\ttotal: 3.05s\tremaining: 0us\n",
      "Score при iterations = 35 : [0.84589477 0.8436015 ]\n",
      "Score mean = 0.8447481337928022\n",
      "\n",
      "Learning rate set to 0.5\n",
      "0:\tlearn: 3135.0838491\ttotal: 105ms\tremaining: 6.22s\n",
      "10:\tlearn: 1866.2250422\ttotal: 969ms\tremaining: 4.32s\n",
      "20:\tlearn: 1760.2188308\ttotal: 1.87s\tremaining: 3.48s\n",
      "30:\tlearn: 1697.3868746\ttotal: 2.69s\tremaining: 2.52s\n",
      "40:\tlearn: 1659.4897878\ttotal: 3.54s\tremaining: 1.64s\n",
      "50:\tlearn: 1610.7304502\ttotal: 4.44s\tremaining: 783ms\n",
      "59:\tlearn: 1577.8160010\ttotal: 5.22s\tremaining: 0us\n",
      "Learning rate set to 0.5\n",
      "0:\tlearn: 3150.2613221\ttotal: 107ms\tremaining: 6.29s\n",
      "10:\tlearn: 1848.7198347\ttotal: 1s\tremaining: 4.46s\n",
      "20:\tlearn: 1751.0822624\ttotal: 1.84s\tremaining: 3.42s\n",
      "30:\tlearn: 1675.8109840\ttotal: 2.71s\tremaining: 2.54s\n",
      "40:\tlearn: 1630.7728672\ttotal: 3.56s\tremaining: 1.65s\n",
      "50:\tlearn: 1606.5228555\ttotal: 4.45s\tremaining: 786ms\n",
      "59:\tlearn: 1571.4332585\ttotal: 5.3s\tremaining: 0us\n",
      "Score при iterations = 60 : [0.8512927  0.84781105]\n",
      "Score mean = 0.8495518737744407\n",
      "\n",
      "Learning rate set to 0.5\n",
      "0:\tlearn: 3135.0838491\ttotal: 96.6ms\tremaining: 8.12s\n",
      "10:\tlearn: 1866.2250422\ttotal: 992ms\tremaining: 6.68s\n",
      "20:\tlearn: 1760.2188308\ttotal: 1.82s\tremaining: 5.54s\n",
      "30:\tlearn: 1697.3868746\ttotal: 2.7s\tremaining: 4.71s\n",
      "40:\tlearn: 1659.4897878\ttotal: 3.62s\tremaining: 3.88s\n",
      "50:\tlearn: 1610.7304502\ttotal: 4.59s\tremaining: 3.06s\n",
      "60:\tlearn: 1575.7244626\ttotal: 5.55s\tremaining: 2.18s\n",
      "70:\tlearn: 1547.7849873\ttotal: 6.48s\tremaining: 1.28s\n",
      "80:\tlearn: 1524.0497748\ttotal: 7.47s\tremaining: 369ms\n",
      "84:\tlearn: 1515.9217424\ttotal: 7.86s\tremaining: 0us\n",
      "Learning rate set to 0.5\n",
      "0:\tlearn: 3150.2613221\ttotal: 114ms\tremaining: 9.57s\n",
      "10:\tlearn: 1848.7198347\ttotal: 1.04s\tremaining: 6.97s\n",
      "20:\tlearn: 1751.0822624\ttotal: 1.92s\tremaining: 5.84s\n",
      "30:\tlearn: 1675.8109840\ttotal: 2.77s\tremaining: 4.82s\n",
      "40:\tlearn: 1630.7728672\ttotal: 3.6s\tremaining: 3.87s\n",
      "50:\tlearn: 1606.5228555\ttotal: 4.48s\tremaining: 2.99s\n",
      "60:\tlearn: 1567.4482271\ttotal: 5.36s\tremaining: 2.11s\n",
      "70:\tlearn: 1539.2158480\ttotal: 6.19s\tremaining: 1.22s\n",
      "80:\tlearn: 1515.8740371\ttotal: 7.08s\tremaining: 349ms\n",
      "84:\tlearn: 1507.7420522\ttotal: 7.45s\tremaining: 0us\n",
      "Score при iterations = 85 : [0.85280472 0.84974648]\n",
      "Score mean = 0.8512756005648433\n",
      "\n",
      "Learning rate set to 0.5\n",
      "0:\tlearn: 3135.0838491\ttotal: 102ms\tremaining: 11.1s\n",
      "10:\tlearn: 1866.2250422\ttotal: 1.02s\tremaining: 9.16s\n",
      "20:\tlearn: 1760.2188308\ttotal: 1.88s\tremaining: 7.98s\n",
      "30:\tlearn: 1697.3868746\ttotal: 2.76s\tremaining: 7.03s\n",
      "40:\tlearn: 1659.4897878\ttotal: 3.61s\tremaining: 6.07s\n",
      "50:\tlearn: 1610.7304502\ttotal: 4.47s\tremaining: 5.17s\n",
      "60:\tlearn: 1575.7244626\ttotal: 5.34s\tremaining: 4.29s\n",
      "70:\tlearn: 1547.7849873\ttotal: 6.25s\tremaining: 3.43s\n",
      "80:\tlearn: 1524.0497748\ttotal: 7.16s\tremaining: 2.56s\n",
      "90:\tlearn: 1506.2387891\ttotal: 8.05s\tremaining: 1.68s\n",
      "100:\tlearn: 1486.5306340\ttotal: 9.03s\tremaining: 805ms\n",
      "109:\tlearn: 1471.2445368\ttotal: 9.84s\tremaining: 0us\n",
      "Learning rate set to 0.5\n",
      "0:\tlearn: 3150.2613221\ttotal: 108ms\tremaining: 11.8s\n",
      "10:\tlearn: 1848.7198347\ttotal: 1.03s\tremaining: 9.3s\n",
      "20:\tlearn: 1751.0822624\ttotal: 1.88s\tremaining: 7.98s\n",
      "30:\tlearn: 1675.8109840\ttotal: 2.74s\tremaining: 6.97s\n",
      "40:\tlearn: 1630.7728672\ttotal: 3.61s\tremaining: 6.08s\n",
      "50:\tlearn: 1606.5228555\ttotal: 4.52s\tremaining: 5.23s\n",
      "60:\tlearn: 1567.4482271\ttotal: 5.46s\tremaining: 4.38s\n",
      "70:\tlearn: 1539.2158480\ttotal: 6.32s\tremaining: 3.47s\n",
      "80:\tlearn: 1515.8740371\ttotal: 7.19s\tremaining: 2.57s\n",
      "90:\tlearn: 1494.9472120\ttotal: 8.02s\tremaining: 1.67s\n",
      "100:\tlearn: 1478.7183599\ttotal: 8.88s\tremaining: 791ms\n",
      "109:\tlearn: 1467.0807839\ttotal: 9.76s\tremaining: 0us\n",
      "Score при iterations = 110 : [0.85366159 0.85045427]\n",
      "Score mean = 0.8520579324666796\n",
      "\n"
     ]
    }
   ],
   "source": [
    "#построим модель CBR и исследуем её работу с различными значениями гиперпараметра iterations с помощью кросс-валидации\n",
    "for iteration in range(10, 111, 25):\n",
    "    cat_model = CatBoostRegressor(loss_function=\"RMSE\", iterations=iteration, depth=10, verbose=10, cat_features=categorical)\n",
    "    cat_cv = cross_val_score(cat_model, features_train, target_train, cv=2)\n",
    "    print(\"Score при iterations =\", iteration, \":\", cat_cv)\n",
    "    print(\"Score mean =\", sum(cat_cv)/len(cat_cv))\n",
    "    print()"
   ]
  },
  {
   "cell_type": "code",
   "execution_count": 28,
   "metadata": {},
   "outputs": [
    {
     "name": "stdout",
     "output_type": "stream",
     "text": [
      "Learning rate set to 0.5\n",
      "0:\tlearn: 3354.7690283\ttotal: 62.2ms\tremaining: 1.18s\n",
      "10:\tlearn: 2066.7076318\ttotal: 508ms\tremaining: 416ms\n",
      "19:\tlearn: 1971.8047027\ttotal: 877ms\tremaining: 0us\n",
      "Learning rate set to 0.5\n",
      "0:\tlearn: 3368.8176983\ttotal: 58.4ms\tremaining: 1.11s\n",
      "10:\tlearn: 2056.6851906\ttotal: 585ms\tremaining: 478ms\n",
      "19:\tlearn: 1970.4400392\ttotal: 996ms\tremaining: 0us\n",
      "Score при depth = 5 : [0.81391212 0.80999174]\n",
      "Score mean = 0.8119519267210422\n",
      "\n",
      "Learning rate set to 0.5\n",
      "0:\tlearn: 3245.1627066\ttotal: 86.4ms\tremaining: 1.64s\n",
      "10:\tlearn: 1977.2526813\ttotal: 807ms\tremaining: 661ms\n",
      "19:\tlearn: 1897.4884358\ttotal: 1.37s\tremaining: 0us\n",
      "Learning rate set to 0.5\n",
      "0:\tlearn: 3267.8748141\ttotal: 90.7ms\tremaining: 1.72s\n",
      "10:\tlearn: 1964.1426362\ttotal: 793ms\tremaining: 649ms\n",
      "19:\tlearn: 1887.4670328\ttotal: 1.4s\tremaining: 0us\n",
      "Score при depth = 7 : [0.82480362 0.82190467]\n",
      "Score mean = 0.8233541427455593\n",
      "\n",
      "Learning rate set to 0.5\n",
      "0:\tlearn: 3164.4717368\ttotal: 111ms\tremaining: 2.11s\n",
      "10:\tlearn: 1891.7021002\ttotal: 1.02s\tremaining: 839ms\n",
      "19:\tlearn: 1800.8532758\ttotal: 1.82s\tremaining: 0us\n",
      "Learning rate set to 0.5\n",
      "0:\tlearn: 3179.1714877\ttotal: 117ms\tremaining: 2.22s\n",
      "10:\tlearn: 1880.8465851\ttotal: 1.03s\tremaining: 842ms\n",
      "19:\tlearn: 1788.9308246\ttotal: 1.82s\tremaining: 0us\n",
      "Score при depth = 9 : [0.83495423 0.83466071]\n",
      "Score mean = 0.8348074691611018\n",
      "\n",
      "Learning rate set to 0.5\n",
      "0:\tlearn: 3105.3348552\ttotal: 141ms\tremaining: 2.69s\n",
      "10:\tlearn: 1821.7858163\ttotal: 1.45s\tremaining: 1.18s\n",
      "19:\tlearn: 1729.5915999\ttotal: 2.55s\tremaining: 0us\n",
      "Learning rate set to 0.5\n",
      "0:\tlearn: 3125.0802786\ttotal: 172ms\tremaining: 3.27s\n",
      "10:\tlearn: 1803.8816302\ttotal: 1.54s\tremaining: 1.26s\n",
      "19:\tlearn: 1703.3899809\ttotal: 2.7s\tremaining: 0us\n",
      "Score при depth = 11 : [0.83987542 0.83800669]\n",
      "Score mean = 0.8389410562748119\n",
      "\n",
      "Learning rate set to 0.5\n",
      "0:\tlearn: 3082.1043116\ttotal: 250ms\tremaining: 4.74s\n",
      "10:\tlearn: 1723.0406256\ttotal: 2.46s\tremaining: 2.02s\n",
      "19:\tlearn: 1622.9581703\ttotal: 4.43s\tremaining: 0us\n",
      "Learning rate set to 0.5\n",
      "0:\tlearn: 3087.4241947\ttotal: 298ms\tremaining: 5.66s\n",
      "10:\tlearn: 1706.0907417\ttotal: 2.7s\tremaining: 2.21s\n",
      "19:\tlearn: 1592.4543990\ttotal: 4.67s\tremaining: 0us\n",
      "Score при depth = 13 : [0.84370705 0.84168744]\n",
      "Score mean = 0.8426972424226151\n",
      "\n",
      "Learning rate set to 0.5\n",
      "0:\tlearn: 3063.5067669\ttotal: 769ms\tremaining: 14.6s\n",
      "10:\tlearn: 1631.9860211\ttotal: 7.38s\tremaining: 6.03s\n",
      "19:\tlearn: 1519.6021999\ttotal: 13.7s\tremaining: 0us\n",
      "Learning rate set to 0.5\n",
      "0:\tlearn: 3076.3748360\ttotal: 660ms\tremaining: 12.5s\n",
      "10:\tlearn: 1643.2905334\ttotal: 7.16s\tremaining: 5.85s\n",
      "19:\tlearn: 1513.2525817\ttotal: 12.5s\tremaining: 0us\n",
      "Score при depth = 15 : [0.84404742 0.84136606]\n",
      "Score mean = 0.8427067412699752\n",
      "\n"
     ]
    }
   ],
   "source": [
    "#исследуем работу модели с различными значениями гиперпараметра depth\n",
    "for depth in range(5, 16, 2):\n",
    "    cat_model = CatBoostRegressor(loss_function=\"RMSE\", iterations=20, depth=depth, verbose=10, cat_features=categorical)\n",
    "    cat_cv = cross_val_score(cat_model, features_train, target_train, cv=2)\n",
    "    print(\"Score при depth =\", depth, \":\", cat_cv)\n",
    "    print(\"Score mean =\", sum(cat_cv)/len(cat_cv))\n",
    "    print()"
   ]
  },
  {
   "cell_type": "markdown",
   "metadata": {},
   "source": [
    "Можно отметить, что при увеличении iterations модель сначала дает намного бОльшую точность (в 2 раза), затем увеличение точности начинает снижаться, до тех пор, пока разница не становится совсем незначительной. Нужно помнить, что скорость обучения модели для нас важна так же, как и точность ее работы, поэтому не будем жертвовать скоростью и выберем оптимальный вариант с числом iterations 85.\n",
    "\n",
    "При изменении параметра depth прослеживается такая же тенденция, поэтому оптимальной глубиной будет число 13.\n",
    "\n",
    "Измерим время обучения и работы модели со значением iterations = 90 и depth = 11."
   ]
  },
  {
   "cell_type": "code",
   "execution_count": 29,
   "metadata": {},
   "outputs": [],
   "source": [
    "cat_model_90_11= CatBoostRegressor(loss_function=\"RMSE\", iterations=90, depth=11, verbose=10)"
   ]
  },
  {
   "cell_type": "code",
   "execution_count": 30,
   "metadata": {},
   "outputs": [
    {
     "name": "stdout",
     "output_type": "stream",
     "text": [
      "Learning rate set to 0.5\n",
      "0:\tlearn: 3103.0181426\ttotal: 244ms\tremaining: 21.7s\n",
      "10:\tlearn: 1812.6694723\ttotal: 2.44s\tremaining: 17.6s\n",
      "20:\tlearn: 1731.0852916\ttotal: 4.59s\tremaining: 15.1s\n",
      "30:\tlearn: 1658.6923732\ttotal: 6.96s\tremaining: 13.3s\n",
      "40:\tlearn: 1612.7195691\ttotal: 9.34s\tremaining: 11.2s\n",
      "50:\tlearn: 1581.0668345\ttotal: 11.6s\tremaining: 8.89s\n",
      "60:\tlearn: 1557.4410926\ttotal: 13.9s\tremaining: 6.59s\n",
      "70:\tlearn: 1537.1047290\ttotal: 16.2s\tremaining: 4.34s\n",
      "80:\tlearn: 1515.8843260\ttotal: 18.3s\tremaining: 2.04s\n",
      "89:\tlearn: 1497.3205062\ttotal: 20.2s\tremaining: 0us\n",
      "CPU times: user 19.6 s, sys: 101 ms, total: 19.7 s\n",
      "Wall time: 21.3 s\n"
     ]
    },
    {
     "data": {
      "text/plain": [
       "<catboost.core.CatBoostRegressor at 0x7fa706ba8c40>"
      ]
     },
     "execution_count": 30,
     "metadata": {},
     "output_type": "execute_result"
    }
   ],
   "source": [
    "%%time\n",
    "cat_model_90_11.fit(features_train, target_train, cat_features=categorical)"
   ]
  },
  {
   "cell_type": "code",
   "execution_count": 31,
   "metadata": {},
   "outputs": [
    {
     "name": "stdout",
     "output_type": "stream",
     "text": [
      "CPU times: user 108 ms, sys: 4.68 ms, total: 113 ms\n",
      "Wall time: 127 ms\n"
     ]
    }
   ],
   "source": [
    "%%time\n",
    "predicted_cat_90_11 = pd.Series(cat_model_90_11.predict(features_test))\n"
   ]
  },
  {
   "cell_type": "code",
   "execution_count": 32,
   "metadata": {},
   "outputs": [
    {
     "data": {
      "text/plain": [
       "1716.3732109038617"
      ]
     },
     "execution_count": 32,
     "metadata": {},
     "output_type": "execute_result"
    }
   ],
   "source": [
    "rmse(target_test, predicted_cat_90_11)"
   ]
  },
  {
   "cell_type": "markdown",
   "metadata": {},
   "source": [
    "# LightGBM"
   ]
  },
  {
   "cell_type": "code",
   "execution_count": 33,
   "metadata": {},
   "outputs": [
    {
     "name": "stdout",
     "output_type": "stream",
     "text": [
      "CPU times: user 8min 8s, sys: 6.44 s, total: 8min 15s\n",
      "Wall time: 8min 19s\n"
     ]
    },
    {
     "data": {
      "text/plain": [
       "LGBMRegressor(max_depth=6, num_leaves=100, random_state=12345)"
      ]
     },
     "execution_count": 33,
     "metadata": {},
     "output_type": "execute_result"
    }
   ],
   "source": [
    "%%time\n",
    "\n",
    "lgbmmodel = LGBMRegressor(learning_rate=0.1, \n",
    "                      num_leaves=100, \n",
    "                      random_state=12345,max_depth=6)\n",
    "lgbmmodel.fit(features_train, target_train)"
   ]
  },
  {
   "cell_type": "code",
   "execution_count": 34,
   "metadata": {},
   "outputs": [
    {
     "name": "stdout",
     "output_type": "stream",
     "text": [
      "CPU times: user 935 ms, sys: 0 ns, total: 935 ms\n",
      "Wall time: 914 ms\n"
     ]
    }
   ],
   "source": [
    "%%time\n",
    "predictions_lgbm = lgbmmodel.predict(features_test)"
   ]
  },
  {
   "cell_type": "code",
   "execution_count": 35,
   "metadata": {},
   "outputs": [
    {
     "data": {
      "text/plain": [
       "1725.3502947506508"
      ]
     },
     "execution_count": 35,
     "metadata": {},
     "output_type": "execute_result"
    }
   ],
   "source": [
    "rmse(target_test, predictions_lgbm)"
   ]
  },
  {
   "cell_type": "markdown",
   "metadata": {},
   "source": [
    "# Вывод"
   ]
  },
  {
   "cell_type": "markdown",
   "metadata": {},
   "source": [
    "Сравним полученные результаты"
   ]
  },
  {
   "cell_type": "code",
   "execution_count": 36,
   "metadata": {},
   "outputs": [
    {
     "data": {
      "text/html": [
       "<div>\n",
       "<style scoped>\n",
       "    .dataframe tbody tr th:only-of-type {\n",
       "        vertical-align: middle;\n",
       "    }\n",
       "\n",
       "    .dataframe tbody tr th {\n",
       "        vertical-align: top;\n",
       "    }\n",
       "\n",
       "    .dataframe thead th {\n",
       "        text-align: right;\n",
       "    }\n",
       "</style>\n",
       "<table border=\"1\" class=\"dataframe\">\n",
       "  <thead>\n",
       "    <tr style=\"text-align: right;\">\n",
       "      <th></th>\n",
       "      <th>model</th>\n",
       "      <th>train_time, sec</th>\n",
       "      <th>work_time, msec</th>\n",
       "      <th>rmse</th>\n",
       "    </tr>\n",
       "  </thead>\n",
       "  <tbody>\n",
       "    <tr>\n",
       "      <th>0</th>\n",
       "      <td>LR</td>\n",
       "      <td>25.2</td>\n",
       "      <td>301</td>\n",
       "      <td>2786</td>\n",
       "    </tr>\n",
       "    <tr>\n",
       "      <th>1</th>\n",
       "      <td>CBR</td>\n",
       "      <td>16.5</td>\n",
       "      <td>103</td>\n",
       "      <td>1742</td>\n",
       "    </tr>\n",
       "    <tr>\n",
       "      <th>2</th>\n",
       "      <td>LGB</td>\n",
       "      <td>8.3</td>\n",
       "      <td>983</td>\n",
       "      <td>1775</td>\n",
       "    </tr>\n",
       "  </tbody>\n",
       "</table>\n",
       "</div>"
      ],
      "text/plain": [
       "  model  train_time, sec  work_time, msec  rmse\n",
       "0    LR             25.2              301  2786\n",
       "1   CBR             16.5              103  1742\n",
       "2   LGB              8.3              983  1775"
      ]
     },
     "execution_count": 36,
     "metadata": {},
     "output_type": "execute_result"
    }
   ],
   "source": [
    "models = [['LR', 25.2, 301, 2786], ['CBR', 16.5, 103, 1742], \n",
    "       ['LGB', 8.3, 983, 1775]] \n",
    "    \n",
    "df = pd.DataFrame(models, columns =['model', 'train_time, sec', 'work_time, msec', 'rmse']) \n",
    "df "
   ]
  },
  {
   "cell_type": "markdown",
   "metadata": {},
   "source": [
    "Скорость предсказания любой модели значительно меньше, чем её обучение. Важно, чтобы время предсказания было как можно меньше - обучаем модель мы только один раз, но предсказывать она может до бесконечности.\n",
    "\n",
    "Метрика RMSE лучше всего выглядит у модели CBR. Быстрее всего обучается модель LGB,а метрика RMSE прктически одинакова по сравнению с моделью CBR - данную модель можно посоветовать сервису как прототип. Модель LR показала худшие результаты по значениям метрики и по скорости работы.  "
   ]
  }
 ],
 "metadata": {
  "ExecuteTimeLog": [
   {
    "duration": 1245,
    "start_time": "2022-07-02T11:24:00.040Z"
   },
   {
    "duration": 4,
    "start_time": "2022-07-02T11:24:17.289Z"
   },
   {
    "duration": 986,
    "start_time": "2022-07-02T11:24:44.577Z"
   },
   {
    "duration": 144,
    "start_time": "2022-07-02T11:25:28.491Z"
   },
   {
    "duration": 99,
    "start_time": "2022-07-02T11:26:08.493Z"
   },
   {
    "duration": 106,
    "start_time": "2022-07-02T11:26:19.497Z"
   },
   {
    "duration": 26,
    "start_time": "2022-07-02T11:28:06.932Z"
   },
   {
    "duration": 54,
    "start_time": "2022-07-02T11:28:36.565Z"
   },
   {
    "duration": 25,
    "start_time": "2022-07-02T11:28:42.761Z"
   },
   {
    "duration": 98,
    "start_time": "2022-07-02T11:28:52.585Z"
   },
   {
    "duration": 19,
    "start_time": "2022-07-02T11:28:54.413Z"
   },
   {
    "duration": 89,
    "start_time": "2022-07-02T11:29:27.853Z"
   },
   {
    "duration": 85,
    "start_time": "2022-07-02T11:30:36.269Z"
   },
   {
    "duration": 91,
    "start_time": "2022-07-02T11:31:13.197Z"
   },
   {
    "duration": 1635,
    "start_time": "2022-07-02T11:31:18.077Z"
   },
   {
    "duration": 70,
    "start_time": "2022-07-02T11:33:04.595Z"
   },
   {
    "duration": 34,
    "start_time": "2022-07-02T11:33:11.265Z"
   },
   {
    "duration": 4,
    "start_time": "2022-07-02T11:33:28.077Z"
   },
   {
    "duration": 27,
    "start_time": "2022-07-02T11:34:55.810Z"
   },
   {
    "duration": 5,
    "start_time": "2022-07-02T11:34:56.777Z"
   },
   {
    "duration": 822,
    "start_time": "2022-07-02T11:39:18.855Z"
   },
   {
    "duration": 222,
    "start_time": "2022-07-02T11:40:00.186Z"
   },
   {
    "duration": 3,
    "start_time": "2022-07-02T11:41:01.998Z"
   },
   {
    "duration": 3,
    "start_time": "2022-07-02T11:41:30.588Z"
   },
   {
    "duration": 151,
    "start_time": "2022-07-02T11:41:49.785Z"
   },
   {
    "duration": 3,
    "start_time": "2022-07-02T11:41:57.166Z"
   },
   {
    "duration": 7,
    "start_time": "2022-07-02T11:41:57.542Z"
   },
   {
    "duration": 5,
    "start_time": "2022-07-02T11:42:26.538Z"
   },
   {
    "duration": 340,
    "start_time": "2022-07-02T11:42:41.587Z"
   },
   {
    "duration": 37,
    "start_time": "2022-07-02T11:43:06.609Z"
   },
   {
    "duration": 3,
    "start_time": "2022-07-02T11:43:20.070Z"
   },
   {
    "duration": 3,
    "start_time": "2022-07-02T11:44:37.362Z"
   },
   {
    "duration": 26285,
    "start_time": "2022-07-02T11:45:01.742Z"
   },
   {
    "duration": 380,
    "start_time": "2022-07-02T11:45:31.849Z"
   },
   {
    "duration": 5,
    "start_time": "2022-07-02T11:45:51.603Z"
   },
   {
    "duration": 57850,
    "start_time": "2022-07-02T11:46:37.177Z"
   },
   {
    "duration": 49867,
    "start_time": "2022-07-02T11:47:55.581Z"
   },
   {
    "duration": 3,
    "start_time": "2022-07-02T11:51:16.832Z"
   },
   {
    "duration": 16216,
    "start_time": "2022-07-02T11:51:33.987Z"
   },
   {
    "duration": 91,
    "start_time": "2022-07-02T11:52:32.954Z"
   },
   {
    "duration": 5,
    "start_time": "2022-07-02T11:52:53.666Z"
   },
   {
    "duration": 5,
    "start_time": "2022-07-02T11:53:50.622Z"
   },
   {
    "duration": 3,
    "start_time": "2022-07-02T11:53:56.371Z"
   },
   {
    "duration": 3,
    "start_time": "2022-07-02T11:54:12.506Z"
   },
   {
    "duration": 5254,
    "start_time": "2022-07-02T11:54:27.982Z"
   },
   {
    "duration": 866,
    "start_time": "2022-07-02T11:55:05.559Z"
   },
   {
    "duration": 51,
    "start_time": "2022-07-02T11:55:23.047Z"
   },
   {
    "duration": 5,
    "start_time": "2022-07-02T11:55:35.703Z"
   },
   {
    "duration": 10,
    "start_time": "2022-07-02T11:56:31.271Z"
   },
   {
    "duration": 5973,
    "start_time": "2022-07-02T12:00:49.856Z"
   },
   {
    "duration": 5351,
    "start_time": "2022-07-02T12:01:01.880Z"
   },
   {
    "duration": 875,
    "start_time": "2022-07-02T12:01:19.552Z"
   },
   {
    "duration": 7,
    "start_time": "2022-07-02T12:01:21.679Z"
   },
   {
    "duration": 10,
    "start_time": "2022-07-02T12:01:55.801Z"
   },
   {
    "duration": 49,
    "start_time": "2022-07-02T12:07:07.986Z"
   },
   {
    "duration": 251,
    "start_time": "2022-07-02T12:07:15.840Z"
   },
   {
    "duration": 50,
    "start_time": "2022-07-02T12:07:37.450Z"
   },
   {
    "duration": 70,
    "start_time": "2022-07-02T12:07:43.496Z"
   },
   {
    "duration": 4,
    "start_time": "2022-07-02T12:07:49.976Z"
   },
   {
    "duration": 3,
    "start_time": "2022-07-02T12:07:50.980Z"
   },
   {
    "duration": 5407,
    "start_time": "2022-07-02T12:07:51.721Z"
   },
   {
    "duration": 3,
    "start_time": "2022-07-02T12:09:05.397Z"
   },
   {
    "duration": 3,
    "start_time": "2022-07-02T12:09:06.185Z"
   },
   {
    "duration": 5548,
    "start_time": "2022-07-02T12:09:06.783Z"
   },
   {
    "duration": 69,
    "start_time": "2022-07-02T12:12:09.849Z"
   },
   {
    "duration": 9094,
    "start_time": "2022-07-02T12:12:50.449Z"
   },
   {
    "duration": 11776,
    "start_time": "2022-07-02T12:13:22.450Z"
   },
   {
    "duration": 7404,
    "start_time": "2022-07-02T12:13:34.228Z"
   },
   {
    "duration": 5803,
    "start_time": "2022-07-02T12:14:00.125Z"
   },
   {
    "duration": 916,
    "start_time": "2022-07-02T12:14:05.930Z"
   },
   {
    "duration": 6,
    "start_time": "2022-07-02T12:14:11.026Z"
   },
   {
    "duration": 10350,
    "start_time": "2022-07-02T12:14:51.582Z"
   },
   {
    "duration": 9147,
    "start_time": "2022-07-02T12:15:33.380Z"
   },
   {
    "duration": 923,
    "start_time": "2022-07-02T12:15:42.530Z"
   },
   {
    "duration": 6,
    "start_time": "2022-07-02T12:15:45.475Z"
   },
   {
    "duration": 6725,
    "start_time": "2022-07-02T12:16:47.906Z"
   },
   {
    "duration": 885,
    "start_time": "2022-07-02T12:17:16.638Z"
   },
   {
    "duration": 5,
    "start_time": "2022-07-02T12:17:18.662Z"
   },
   {
    "duration": 6822,
    "start_time": "2022-07-02T12:17:29.614Z"
   },
   {
    "duration": 864,
    "start_time": "2022-07-02T12:17:40.866Z"
   },
   {
    "duration": 6,
    "start_time": "2022-07-02T12:17:42.494Z"
   },
   {
    "duration": 5487,
    "start_time": "2022-07-02T12:17:50.742Z"
   },
   {
    "duration": 837,
    "start_time": "2022-07-02T12:18:03.692Z"
   },
   {
    "duration": 5,
    "start_time": "2022-07-02T12:18:05.622Z"
   },
   {
    "duration": 4,
    "start_time": "2022-07-02T12:26:29.643Z"
   },
   {
    "duration": 3,
    "start_time": "2022-07-02T12:31:52.400Z"
   },
   {
    "duration": 4,
    "start_time": "2022-07-02T12:31:56.274Z"
   },
   {
    "duration": 687,
    "start_time": "2022-07-02T12:31:56.298Z"
   },
   {
    "duration": 146,
    "start_time": "2022-07-02T12:31:56.988Z"
   },
   {
    "duration": 96,
    "start_time": "2022-07-02T12:31:57.136Z"
   },
   {
    "duration": 16,
    "start_time": "2022-07-02T12:31:57.235Z"
   },
   {
    "duration": 111,
    "start_time": "2022-07-02T12:31:57.254Z"
   },
   {
    "duration": 99,
    "start_time": "2022-07-02T12:31:57.367Z"
   },
   {
    "duration": 1263,
    "start_time": "2022-07-02T12:31:57.468Z"
   },
   {
    "duration": 57,
    "start_time": "2022-07-02T12:31:58.732Z"
   },
   {
    "duration": 4,
    "start_time": "2022-07-02T12:31:58.790Z"
   },
   {
    "duration": 852,
    "start_time": "2022-07-02T12:31:58.796Z"
   },
   {
    "duration": 223,
    "start_time": "2022-07-02T12:31:59.650Z"
   },
   {
    "duration": 3,
    "start_time": "2022-07-02T12:31:59.875Z"
   },
   {
    "duration": 167,
    "start_time": "2022-07-02T12:31:59.879Z"
   },
   {
    "duration": 6,
    "start_time": "2022-07-02T12:32:00.049Z"
   },
   {
    "duration": 347,
    "start_time": "2022-07-02T12:32:00.057Z"
   },
   {
    "duration": 42,
    "start_time": "2022-07-02T12:32:00.406Z"
   },
   {
    "duration": 3,
    "start_time": "2022-07-02T12:32:00.450Z"
   },
   {
    "duration": 11,
    "start_time": "2022-07-02T12:32:00.454Z"
   },
   {
    "duration": 25257,
    "start_time": "2022-07-02T12:32:00.467Z"
   },
   {
    "duration": 397,
    "start_time": "2022-07-02T12:32:25.726Z"
   },
   {
    "duration": 98,
    "start_time": "2022-07-02T12:32:26.126Z"
   },
   {
    "duration": 55554,
    "start_time": "2022-07-02T12:32:26.226Z"
   },
   {
    "duration": 50909,
    "start_time": "2022-07-02T12:33:21.781Z"
   },
   {
    "duration": 4,
    "start_time": "2022-07-02T12:34:12.692Z"
   },
   {
    "duration": 16563,
    "start_time": "2022-07-02T12:34:12.697Z"
   },
   {
    "duration": 106,
    "start_time": "2022-07-02T12:34:29.262Z"
   },
   {
    "duration": 6,
    "start_time": "2022-07-02T12:34:29.370Z"
   },
   {
    "duration": 8362,
    "start_time": "2022-07-02T12:34:29.378Z"
   },
   {
    "duration": 987,
    "start_time": "2022-07-02T12:34:37.742Z"
   },
   {
    "duration": 5,
    "start_time": "2022-07-02T12:34:38.731Z"
   },
   {
    "duration": 13,
    "start_time": "2022-07-02T12:34:38.738Z"
   },
   {
    "duration": 11,
    "start_time": "2022-07-02T12:37:03.532Z"
   },
   {
    "duration": 1544,
    "start_time": "2022-07-02T13:42:10.600Z"
   },
   {
    "duration": 1064,
    "start_time": "2022-07-02T13:42:16.109Z"
   },
   {
    "duration": 171,
    "start_time": "2022-07-02T13:42:19.869Z"
   },
   {
    "duration": 92,
    "start_time": "2022-07-02T13:42:22.799Z"
   },
   {
    "duration": 27,
    "start_time": "2022-07-02T13:42:28.099Z"
   },
   {
    "duration": 127,
    "start_time": "2022-07-02T13:42:32.200Z"
   },
   {
    "duration": 901,
    "start_time": "2022-07-02T13:47:52.941Z"
   },
   {
    "duration": 11,
    "start_time": "2022-07-02T13:48:23.323Z"
   },
   {
    "duration": 508,
    "start_time": "2022-07-02T13:48:32.057Z"
   },
   {
    "duration": 299,
    "start_time": "2022-07-02T13:53:45.506Z"
   },
   {
    "duration": 296,
    "start_time": "2022-07-02T13:54:01.941Z"
   },
   {
    "duration": 92,
    "start_time": "2022-07-02T14:11:05.211Z"
   },
   {
    "duration": 1332,
    "start_time": "2022-07-02T14:11:07.461Z"
   },
   {
    "duration": 70,
    "start_time": "2022-07-02T14:12:08.604Z"
   },
   {
    "duration": 4,
    "start_time": "2022-07-02T14:12:10.410Z"
   },
   {
    "duration": 881,
    "start_time": "2022-07-02T14:12:13.720Z"
   },
   {
    "duration": 38,
    "start_time": "2022-07-02T14:12:30.717Z"
   },
   {
    "duration": 9,
    "start_time": "2022-07-02T14:13:00.925Z"
   },
   {
    "duration": 9,
    "start_time": "2022-07-02T14:13:05.887Z"
   },
   {
    "duration": 15,
    "start_time": "2022-07-02T14:13:13.184Z"
   },
   {
    "duration": 226,
    "start_time": "2022-07-02T14:15:10.016Z"
   },
   {
    "duration": 3,
    "start_time": "2022-07-02T14:15:15.838Z"
   },
   {
    "duration": 147,
    "start_time": "2022-07-02T14:15:18.178Z"
   },
   {
    "duration": 5,
    "start_time": "2022-07-02T14:15:28.534Z"
   },
   {
    "duration": 332,
    "start_time": "2022-07-02T14:15:31.254Z"
   },
   {
    "duration": 46,
    "start_time": "2022-07-02T14:15:32.098Z"
   },
   {
    "duration": 3,
    "start_time": "2022-07-02T14:15:37.330Z"
   },
   {
    "duration": 2,
    "start_time": "2022-07-02T14:17:29.794Z"
   },
   {
    "duration": 38037,
    "start_time": "2022-07-02T14:17:31.294Z"
   },
   {
    "duration": 277,
    "start_time": "2022-07-02T14:18:26.872Z"
   },
   {
    "duration": 5,
    "start_time": "2022-07-02T14:18:28.770Z"
   },
   {
    "duration": 76,
    "start_time": "2022-07-02T14:29:47.760Z"
   },
   {
    "duration": 48,
    "start_time": "2022-07-03T10:26:40.686Z"
   },
   {
    "duration": 1245,
    "start_time": "2022-07-03T10:26:44.223Z"
   },
   {
    "duration": 3045,
    "start_time": "2022-07-03T10:26:45.470Z"
   },
   {
    "duration": 141,
    "start_time": "2022-07-03T10:26:48.516Z"
   },
   {
    "duration": 121,
    "start_time": "2022-07-03T10:26:48.659Z"
   },
   {
    "duration": 26,
    "start_time": "2022-07-03T10:26:48.784Z"
   },
   {
    "duration": 108,
    "start_time": "2022-07-03T10:26:48.812Z"
   },
   {
    "duration": 83,
    "start_time": "2022-07-03T10:26:48.930Z"
   },
   {
    "duration": 1697,
    "start_time": "2022-07-03T10:26:49.015Z"
   },
   {
    "duration": 86,
    "start_time": "2022-07-03T10:26:50.714Z"
   },
   {
    "duration": 5,
    "start_time": "2022-07-03T10:26:50.802Z"
   },
   {
    "duration": 933,
    "start_time": "2022-07-03T10:26:50.809Z"
   },
   {
    "duration": 15,
    "start_time": "2022-07-03T10:26:51.743Z"
   },
   {
    "duration": 223,
    "start_time": "2022-07-03T10:26:51.759Z"
   },
   {
    "duration": 3,
    "start_time": "2022-07-03T10:26:51.985Z"
   },
   {
    "duration": 150,
    "start_time": "2022-07-03T10:26:51.990Z"
   },
   {
    "duration": 5,
    "start_time": "2022-07-03T10:26:52.142Z"
   },
   {
    "duration": 339,
    "start_time": "2022-07-03T10:26:52.149Z"
   },
   {
    "duration": 54,
    "start_time": "2022-07-03T10:26:52.490Z"
   },
   {
    "duration": 3,
    "start_time": "2022-07-03T10:26:52.546Z"
   },
   {
    "duration": 10,
    "start_time": "2022-07-03T10:26:52.550Z"
   },
   {
    "duration": 28474,
    "start_time": "2022-07-03T10:26:52.562Z"
   },
   {
    "duration": 393,
    "start_time": "2022-07-03T10:27:21.037Z"
   },
   {
    "duration": 5,
    "start_time": "2022-07-03T10:27:21.432Z"
   },
   {
    "duration": 56049,
    "start_time": "2022-07-03T10:27:21.439Z"
   },
   {
    "duration": 51412,
    "start_time": "2022-07-03T10:28:17.490Z"
   },
   {
    "duration": 3,
    "start_time": "2022-07-03T10:29:08.904Z"
   },
   {
    "duration": 16144,
    "start_time": "2022-07-03T10:29:08.909Z"
   },
   {
    "duration": 94,
    "start_time": "2022-07-03T10:29:25.054Z"
   },
   {
    "duration": 6,
    "start_time": "2022-07-03T10:29:25.149Z"
   },
   {
    "duration": 0,
    "start_time": "2022-07-03T10:37:00.033Z"
   },
   {
    "duration": 0,
    "start_time": "2022-07-03T10:37:00.035Z"
   },
   {
    "duration": 0,
    "start_time": "2022-07-03T10:37:00.037Z"
   },
   {
    "duration": 0,
    "start_time": "2022-07-03T10:37:00.038Z"
   },
   {
    "duration": 0,
    "start_time": "2022-07-03T10:37:00.039Z"
   },
   {
    "duration": 0,
    "start_time": "2022-07-03T10:37:00.039Z"
   },
   {
    "duration": 0,
    "start_time": "2022-07-03T10:37:00.040Z"
   },
   {
    "duration": 0,
    "start_time": "2022-07-03T10:37:00.041Z"
   },
   {
    "duration": 0,
    "start_time": "2022-07-03T10:37:00.044Z"
   },
   {
    "duration": 4,
    "start_time": "2022-07-03T10:37:04.750Z"
   },
   {
    "duration": 651,
    "start_time": "2022-07-03T10:37:14.223Z"
   },
   {
    "duration": 13,
    "start_time": "2022-07-03T10:37:14.914Z"
   },
   {
    "duration": 218,
    "start_time": "2022-07-03T10:37:20.523Z"
   },
   {
    "duration": 3,
    "start_time": "2022-07-03T10:37:21.803Z"
   },
   {
    "duration": 6,
    "start_time": "2022-07-03T10:37:22.489Z"
   },
   {
    "duration": 5,
    "start_time": "2022-07-03T10:37:23.451Z"
   },
   {
    "duration": 343,
    "start_time": "2022-07-03T10:37:24.947Z"
   },
   {
    "duration": 37,
    "start_time": "2022-07-03T10:37:25.919Z"
   },
   {
    "duration": 9,
    "start_time": "2022-07-03T10:38:06.779Z"
   },
   {
    "duration": 8,
    "start_time": "2022-07-03T10:38:17.222Z"
   },
   {
    "duration": 11,
    "start_time": "2022-07-03T10:38:36.134Z"
   },
   {
    "duration": 9,
    "start_time": "2022-07-03T10:39:05.938Z"
   },
   {
    "duration": 9,
    "start_time": "2022-07-03T10:39:17.021Z"
   },
   {
    "duration": 9,
    "start_time": "2022-07-03T10:39:20.517Z"
   },
   {
    "duration": 4,
    "start_time": "2022-07-03T10:39:33.430Z"
   },
   {
    "duration": 5,
    "start_time": "2022-07-03T10:40:09.327Z"
   },
   {
    "duration": 12,
    "start_time": "2022-07-03T10:40:13.718Z"
   },
   {
    "duration": 5,
    "start_time": "2022-07-03T10:40:17.018Z"
   },
   {
    "duration": 25,
    "start_time": "2022-07-03T10:40:38.799Z"
   },
   {
    "duration": 24,
    "start_time": "2022-07-03T10:41:20.610Z"
   },
   {
    "duration": 72,
    "start_time": "2022-07-03T10:42:10.573Z"
   },
   {
    "duration": 2,
    "start_time": "2022-07-03T10:42:16.378Z"
   },
   {
    "duration": 3,
    "start_time": "2022-07-03T10:42:20.825Z"
   },
   {
    "duration": 28173,
    "start_time": "2022-07-03T10:42:21.362Z"
   },
   {
    "duration": 396,
    "start_time": "2022-07-03T10:42:49.537Z"
   },
   {
    "duration": 7,
    "start_time": "2022-07-03T10:42:49.935Z"
   },
   {
    "duration": 56363,
    "start_time": "2022-07-03T10:43:07.430Z"
   },
   {
    "duration": 51388,
    "start_time": "2022-07-03T10:44:08.405Z"
   },
   {
    "duration": 3,
    "start_time": "2022-07-03T10:45:08.993Z"
   },
   {
    "duration": 16078,
    "start_time": "2022-07-03T10:45:11.112Z"
   },
   {
    "duration": 16695,
    "start_time": "2022-07-03T10:45:36.633Z"
   },
   {
    "duration": 99,
    "start_time": "2022-07-03T10:45:53.330Z"
   },
   {
    "duration": 5,
    "start_time": "2022-07-03T10:45:57.405Z"
   },
   {
    "duration": 63432,
    "start_time": "2022-07-03T10:46:00.619Z"
   },
   {
    "duration": 90,
    "start_time": "2022-07-03T10:47:13.324Z"
   },
   {
    "duration": 102,
    "start_time": "2022-07-03T10:47:22.480Z"
   },
   {
    "duration": 14,
    "start_time": "2022-07-03T10:47:30.328Z"
   },
   {
    "duration": 15,
    "start_time": "2022-07-03T10:47:33.924Z"
   },
   {
    "duration": 826,
    "start_time": "2022-07-03T10:48:15.124Z"
   },
   {
    "duration": 5,
    "start_time": "2022-07-03T10:48:18.076Z"
   },
   {
    "duration": 9,
    "start_time": "2022-07-03T10:48:21.672Z"
   },
   {
    "duration": 1470,
    "start_time": "2022-07-03T12:03:37.189Z"
   },
   {
    "duration": 1092,
    "start_time": "2022-07-03T12:03:45.754Z"
   },
   {
    "duration": 149,
    "start_time": "2022-07-03T12:03:47.569Z"
   },
   {
    "duration": 92,
    "start_time": "2022-07-03T12:03:52.825Z"
   },
   {
    "duration": 25,
    "start_time": "2022-07-03T12:03:57.513Z"
   },
   {
    "duration": 98,
    "start_time": "2022-07-03T12:04:00.073Z"
   },
   {
    "duration": 99,
    "start_time": "2022-07-03T12:04:06.277Z"
   },
   {
    "duration": 1782,
    "start_time": "2022-07-03T12:04:09.793Z"
   },
   {
    "duration": 74,
    "start_time": "2022-07-03T12:04:18.573Z"
   },
   {
    "duration": 6,
    "start_time": "2022-07-03T12:04:21.622Z"
   },
   {
    "duration": 6,
    "start_time": "2022-07-03T12:05:30.405Z"
   },
   {
    "duration": 34,
    "start_time": "2022-07-03T12:06:52.638Z"
   },
   {
    "duration": 8,
    "start_time": "2022-07-03T12:06:53.418Z"
   },
   {
    "duration": 1247,
    "start_time": "2022-07-04T06:59:40.996Z"
   },
   {
    "duration": 1472,
    "start_time": "2022-07-04T06:59:42.245Z"
   },
   {
    "duration": 170,
    "start_time": "2022-07-04T06:59:43.718Z"
   },
   {
    "duration": 98,
    "start_time": "2022-07-04T06:59:43.890Z"
   },
   {
    "duration": 28,
    "start_time": "2022-07-04T06:59:43.993Z"
   },
   {
    "duration": 118,
    "start_time": "2022-07-04T06:59:44.023Z"
   },
   {
    "duration": 127,
    "start_time": "2022-07-04T06:59:44.143Z"
   },
   {
    "duration": 2039,
    "start_time": "2022-07-04T06:59:44.274Z"
   },
   {
    "duration": 4,
    "start_time": "2022-07-04T06:59:46.315Z"
   },
   {
    "duration": 89,
    "start_time": "2022-07-04T06:59:46.321Z"
   },
   {
    "duration": 7,
    "start_time": "2022-07-04T06:59:46.412Z"
   },
   {
    "duration": 713,
    "start_time": "2022-07-04T06:59:46.420Z"
   },
   {
    "duration": 13,
    "start_time": "2022-07-04T06:59:47.135Z"
   },
   {
    "duration": 218,
    "start_time": "2022-07-04T06:59:47.160Z"
   },
   {
    "duration": 4,
    "start_time": "2022-07-04T06:59:47.382Z"
   },
   {
    "duration": 214,
    "start_time": "2022-07-04T06:59:47.387Z"
   },
   {
    "duration": 5,
    "start_time": "2022-07-04T06:59:47.603Z"
   },
   {
    "duration": 335,
    "start_time": "2022-07-04T06:59:47.610Z"
   },
   {
    "duration": 54,
    "start_time": "2022-07-04T06:59:47.947Z"
   },
   {
    "duration": 29,
    "start_time": "2022-07-04T06:59:48.002Z"
   },
   {
    "duration": 43,
    "start_time": "2022-07-04T06:59:48.032Z"
   },
   {
    "duration": 29,
    "start_time": "2022-07-04T06:59:48.076Z"
   },
   {
    "duration": 6,
    "start_time": "2022-07-04T06:59:48.107Z"
   },
   {
    "duration": 85654,
    "start_time": "2022-07-04T06:59:48.114Z"
   },
   {
    "duration": 395,
    "start_time": "2022-07-04T07:01:13.773Z"
   },
   {
    "duration": 20,
    "start_time": "2022-07-04T07:01:14.171Z"
   },
   {
    "duration": 63825,
    "start_time": "2022-07-04T07:01:14.199Z"
   },
   {
    "duration": 62485,
    "start_time": "2022-07-04T07:02:18.027Z"
   },
   {
    "duration": 3,
    "start_time": "2022-07-04T07:03:20.513Z"
   },
   {
    "duration": 21335,
    "start_time": "2022-07-04T07:03:20.517Z"
   },
   {
    "duration": 133,
    "start_time": "2022-07-04T07:03:41.854Z"
   },
   {
    "duration": 6,
    "start_time": "2022-07-04T07:03:41.988Z"
   },
   {
    "duration": 499966,
    "start_time": "2022-07-04T07:03:41.996Z"
   },
   {
    "duration": 924,
    "start_time": "2022-07-04T07:12:01.964Z"
   },
   {
    "duration": 8,
    "start_time": "2022-07-04T07:12:02.892Z"
   },
   {
    "duration": 13,
    "start_time": "2022-07-04T07:12:02.901Z"
   }
  ],
  "kernelspec": {
   "display_name": "Python 3 (ipykernel)",
   "language": "python",
   "name": "python3"
  },
  "language_info": {
   "codemirror_mode": {
    "name": "ipython",
    "version": 3
   },
   "file_extension": ".py",
   "mimetype": "text/x-python",
   "name": "python",
   "nbconvert_exporter": "python",
   "pygments_lexer": "ipython3",
   "version": "3.9.5"
  },
  "toc": {
   "base_numbering": 1,
   "nav_menu": {},
   "number_sections": true,
   "sideBar": true,
   "skip_h1_title": true,
   "title_cell": "Table of Contents",
   "title_sidebar": "Contents",
   "toc_cell": false,
   "toc_position": {},
   "toc_section_display": true,
   "toc_window_display": false
  }
 },
 "nbformat": 4,
 "nbformat_minor": 2
}
