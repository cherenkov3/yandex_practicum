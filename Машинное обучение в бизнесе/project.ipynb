{
 "cells": [
  {
   "cell_type": "markdown",
   "metadata": {},
   "source": [
    "# Выбор локации для скважины"
   ]
  },
  {
   "cell_type": "markdown",
   "metadata": {},
   "source": [
    "## Загрузка и подготовка данных"
   ]
  },
  {
   "cell_type": "code",
   "execution_count": 1,
   "metadata": {},
   "outputs": [],
   "source": [
    "import pandas as pd\n",
    "import numpy as np\n",
    "from sklearn.model_selection import train_test_split, cross_val_predict\n",
    "from sklearn.linear_model import LinearRegression\n",
    "from sklearn.metrics import mean_squared_error\n",
    "from scipy import stats as st\n",
    "import matplotlib.pyplot as plt\n",
    "import warnings; warnings.filterwarnings(action='ignore')"
   ]
  },
  {
   "cell_type": "code",
   "execution_count": null,
   "metadata": {},
   "outputs": [
    {
     "data": {
      "text/html": [
       "<div>\n",
       "<style scoped>\n",
       "    .dataframe tbody tr th:only-of-type {\n",
       "        vertical-align: middle;\n",
       "    }\n",
       "\n",
       "    .dataframe tbody tr th {\n",
       "        vertical-align: top;\n",
       "    }\n",
       "\n",
       "    .dataframe thead th {\n",
       "        text-align: right;\n",
       "    }\n",
       "</style>\n",
       "<table border=\"1\" class=\"dataframe\">\n",
       "  <thead>\n",
       "    <tr style=\"text-align: right;\">\n",
       "      <th></th>\n",
       "      <th>id</th>\n",
       "      <th>f0</th>\n",
       "      <th>f1</th>\n",
       "      <th>f2</th>\n",
       "      <th>product</th>\n",
       "    </tr>\n",
       "  </thead>\n",
       "  <tbody>\n",
       "    <tr>\n",
       "      <th>0</th>\n",
       "      <td>txEyH</td>\n",
       "      <td>0.705745</td>\n",
       "      <td>-0.497823</td>\n",
       "      <td>1.221170</td>\n",
       "      <td>105.280062</td>\n",
       "    </tr>\n",
       "    <tr>\n",
       "      <th>1</th>\n",
       "      <td>2acmU</td>\n",
       "      <td>1.334711</td>\n",
       "      <td>-0.340164</td>\n",
       "      <td>4.365080</td>\n",
       "      <td>73.037750</td>\n",
       "    </tr>\n",
       "    <tr>\n",
       "      <th>2</th>\n",
       "      <td>409Wp</td>\n",
       "      <td>1.022732</td>\n",
       "      <td>0.151990</td>\n",
       "      <td>1.419926</td>\n",
       "      <td>85.265647</td>\n",
       "    </tr>\n",
       "    <tr>\n",
       "      <th>3</th>\n",
       "      <td>iJLyR</td>\n",
       "      <td>-0.032172</td>\n",
       "      <td>0.139033</td>\n",
       "      <td>2.978566</td>\n",
       "      <td>168.620776</td>\n",
       "    </tr>\n",
       "    <tr>\n",
       "      <th>4</th>\n",
       "      <td>Xdl7t</td>\n",
       "      <td>1.988431</td>\n",
       "      <td>0.155413</td>\n",
       "      <td>4.751769</td>\n",
       "      <td>154.036647</td>\n",
       "    </tr>\n",
       "  </tbody>\n",
       "</table>\n",
       "</div>"
      ],
      "text/plain": [
       "      id        f0        f1        f2     product\n",
       "0  txEyH  0.705745 -0.497823  1.221170  105.280062\n",
       "1  2acmU  1.334711 -0.340164  4.365080   73.037750\n",
       "2  409Wp  1.022732  0.151990  1.419926   85.265647\n",
       "3  iJLyR -0.032172  0.139033  2.978566  168.620776\n",
       "4  Xdl7t  1.988431  0.155413  4.751769  154.036647"
      ]
     },
     "metadata": {},
     "output_type": "display_data"
    },
    {
     "data": {
      "text/html": [
       "<div>\n",
       "<style scoped>\n",
       "    .dataframe tbody tr th:only-of-type {\n",
       "        vertical-align: middle;\n",
       "    }\n",
       "\n",
       "    .dataframe tbody tr th {\n",
       "        vertical-align: top;\n",
       "    }\n",
       "\n",
       "    .dataframe thead th {\n",
       "        text-align: right;\n",
       "    }\n",
       "</style>\n",
       "<table border=\"1\" class=\"dataframe\">\n",
       "  <thead>\n",
       "    <tr style=\"text-align: right;\">\n",
       "      <th></th>\n",
       "      <th>id</th>\n",
       "      <th>f0</th>\n",
       "      <th>f1</th>\n",
       "      <th>f2</th>\n",
       "      <th>product</th>\n",
       "    </tr>\n",
       "  </thead>\n",
       "  <tbody>\n",
       "    <tr>\n",
       "      <th>0</th>\n",
       "      <td>kBEdx</td>\n",
       "      <td>-15.001348</td>\n",
       "      <td>-8.276000</td>\n",
       "      <td>-0.005876</td>\n",
       "      <td>3.179103</td>\n",
       "    </tr>\n",
       "    <tr>\n",
       "      <th>1</th>\n",
       "      <td>62mP7</td>\n",
       "      <td>14.272088</td>\n",
       "      <td>-3.475083</td>\n",
       "      <td>0.999183</td>\n",
       "      <td>26.953261</td>\n",
       "    </tr>\n",
       "    <tr>\n",
       "      <th>2</th>\n",
       "      <td>vyE1P</td>\n",
       "      <td>6.263187</td>\n",
       "      <td>-5.948386</td>\n",
       "      <td>5.001160</td>\n",
       "      <td>134.766305</td>\n",
       "    </tr>\n",
       "    <tr>\n",
       "      <th>3</th>\n",
       "      <td>KcrkZ</td>\n",
       "      <td>-13.081196</td>\n",
       "      <td>-11.506057</td>\n",
       "      <td>4.999415</td>\n",
       "      <td>137.945408</td>\n",
       "    </tr>\n",
       "    <tr>\n",
       "      <th>4</th>\n",
       "      <td>AHL4O</td>\n",
       "      <td>12.702195</td>\n",
       "      <td>-8.147433</td>\n",
       "      <td>5.004363</td>\n",
       "      <td>134.766305</td>\n",
       "    </tr>\n",
       "  </tbody>\n",
       "</table>\n",
       "</div>"
      ],
      "text/plain": [
       "      id         f0         f1        f2     product\n",
       "0  kBEdx -15.001348  -8.276000 -0.005876    3.179103\n",
       "1  62mP7  14.272088  -3.475083  0.999183   26.953261\n",
       "2  vyE1P   6.263187  -5.948386  5.001160  134.766305\n",
       "3  KcrkZ -13.081196 -11.506057  4.999415  137.945408\n",
       "4  AHL4O  12.702195  -8.147433  5.004363  134.766305"
      ]
     },
     "metadata": {},
     "output_type": "display_data"
    },
    {
     "data": {
      "text/html": [
       "<div>\n",
       "<style scoped>\n",
       "    .dataframe tbody tr th:only-of-type {\n",
       "        vertical-align: middle;\n",
       "    }\n",
       "\n",
       "    .dataframe tbody tr th {\n",
       "        vertical-align: top;\n",
       "    }\n",
       "\n",
       "    .dataframe thead th {\n",
       "        text-align: right;\n",
       "    }\n",
       "</style>\n",
       "<table border=\"1\" class=\"dataframe\">\n",
       "  <thead>\n",
       "    <tr style=\"text-align: right;\">\n",
       "      <th></th>\n",
       "      <th>id</th>\n",
       "      <th>f0</th>\n",
       "      <th>f1</th>\n",
       "      <th>f2</th>\n",
       "      <th>product</th>\n",
       "    </tr>\n",
       "  </thead>\n",
       "  <tbody>\n",
       "    <tr>\n",
       "      <th>0</th>\n",
       "      <td>fwXo0</td>\n",
       "      <td>-1.146987</td>\n",
       "      <td>0.963328</td>\n",
       "      <td>-0.828965</td>\n",
       "      <td>27.758673</td>\n",
       "    </tr>\n",
       "    <tr>\n",
       "      <th>1</th>\n",
       "      <td>WJtFt</td>\n",
       "      <td>0.262778</td>\n",
       "      <td>0.269839</td>\n",
       "      <td>-2.530187</td>\n",
       "      <td>56.069697</td>\n",
       "    </tr>\n",
       "    <tr>\n",
       "      <th>2</th>\n",
       "      <td>ovLUW</td>\n",
       "      <td>0.194587</td>\n",
       "      <td>0.289035</td>\n",
       "      <td>-5.586433</td>\n",
       "      <td>62.871910</td>\n",
       "    </tr>\n",
       "    <tr>\n",
       "      <th>3</th>\n",
       "      <td>q6cA6</td>\n",
       "      <td>2.236060</td>\n",
       "      <td>-0.553760</td>\n",
       "      <td>0.930038</td>\n",
       "      <td>114.572842</td>\n",
       "    </tr>\n",
       "    <tr>\n",
       "      <th>4</th>\n",
       "      <td>WPMUX</td>\n",
       "      <td>-0.515993</td>\n",
       "      <td>1.716266</td>\n",
       "      <td>5.899011</td>\n",
       "      <td>149.600746</td>\n",
       "    </tr>\n",
       "  </tbody>\n",
       "</table>\n",
       "</div>"
      ],
      "text/plain": [
       "      id        f0        f1        f2     product\n",
       "0  fwXo0 -1.146987  0.963328 -0.828965   27.758673\n",
       "1  WJtFt  0.262778  0.269839 -2.530187   56.069697\n",
       "2  ovLUW  0.194587  0.289035 -5.586433   62.871910\n",
       "3  q6cA6  2.236060 -0.553760  0.930038  114.572842\n",
       "4  WPMUX -0.515993  1.716266  5.899011  149.600746"
      ]
     },
     "metadata": {},
     "output_type": "display_data"
    }
   ],
   "source": [
    "geo_data_0 = pd.read_csv('/datasets/geo_data_0.csv')\n",
    "geo_data_1 = pd.read_csv('/datasets/geo_data_1.csv')\n",
    "geo_data_2 = pd.read_csv('/datasets/geo_data_2.csv')\n",
    "display(geo_data_0.head())\n",
    "display(geo_data_1.head())\n",
    "display(geo_data_2.head())"
   ]
  },
  {
   "cell_type": "markdown",
   "metadata": {},
   "source": [
    "Из представленных строк сложно провести какую-либо аналитику, т.к. значение показателей неизвестно. Известно только что в целевом столбце product указан объем залежей. Посмотрим наполнение таблиц и статистики данных."
   ]
  },
  {
   "cell_type": "code",
   "execution_count": 3,
   "metadata": {},
   "outputs": [
    {
     "name": "stdout",
     "output_type": "stream",
     "text": [
      "<class 'pandas.core.frame.DataFrame'>\n",
      "RangeIndex: 100000 entries, 0 to 99999\n",
      "Data columns (total 5 columns):\n",
      " #   Column   Non-Null Count   Dtype  \n",
      "---  ------   --------------   -----  \n",
      " 0   id       100000 non-null  object \n",
      " 1   f0       100000 non-null  float64\n",
      " 2   f1       100000 non-null  float64\n",
      " 3   f2       100000 non-null  float64\n",
      " 4   product  100000 non-null  float64\n",
      "dtypes: float64(4), object(1)\n",
      "memory usage: 3.8+ MB\n"
     ]
    },
    {
     "data": {
      "text/plain": [
       "None"
      ]
     },
     "metadata": {},
     "output_type": "display_data"
    },
    {
     "name": "stdout",
     "output_type": "stream",
     "text": [
      "<class 'pandas.core.frame.DataFrame'>\n",
      "RangeIndex: 100000 entries, 0 to 99999\n",
      "Data columns (total 5 columns):\n",
      " #   Column   Non-Null Count   Dtype  \n",
      "---  ------   --------------   -----  \n",
      " 0   id       100000 non-null  object \n",
      " 1   f0       100000 non-null  float64\n",
      " 2   f1       100000 non-null  float64\n",
      " 3   f2       100000 non-null  float64\n",
      " 4   product  100000 non-null  float64\n",
      "dtypes: float64(4), object(1)\n",
      "memory usage: 3.8+ MB\n"
     ]
    },
    {
     "data": {
      "text/plain": [
       "None"
      ]
     },
     "metadata": {},
     "output_type": "display_data"
    },
    {
     "name": "stdout",
     "output_type": "stream",
     "text": [
      "<class 'pandas.core.frame.DataFrame'>\n",
      "RangeIndex: 100000 entries, 0 to 99999\n",
      "Data columns (total 5 columns):\n",
      " #   Column   Non-Null Count   Dtype  \n",
      "---  ------   --------------   -----  \n",
      " 0   id       100000 non-null  object \n",
      " 1   f0       100000 non-null  float64\n",
      " 2   f1       100000 non-null  float64\n",
      " 3   f2       100000 non-null  float64\n",
      " 4   product  100000 non-null  float64\n",
      "dtypes: float64(4), object(1)\n",
      "memory usage: 3.8+ MB\n"
     ]
    },
    {
     "data": {
      "text/plain": [
       "None"
      ]
     },
     "metadata": {},
     "output_type": "display_data"
    }
   ],
   "source": [
    "display(geo_data_0.info())\n",
    "display(geo_data_1.info())\n",
    "display(geo_data_2.info())"
   ]
  },
  {
   "cell_type": "markdown",
   "metadata": {},
   "source": [
    "Все данные заполнены, пропусков нет."
   ]
  },
  {
   "cell_type": "code",
   "execution_count": 4,
   "metadata": {},
   "outputs": [
    {
     "data": {
      "text/html": [
       "<div>\n",
       "<style scoped>\n",
       "    .dataframe tbody tr th:only-of-type {\n",
       "        vertical-align: middle;\n",
       "    }\n",
       "\n",
       "    .dataframe tbody tr th {\n",
       "        vertical-align: top;\n",
       "    }\n",
       "\n",
       "    .dataframe thead th {\n",
       "        text-align: right;\n",
       "    }\n",
       "</style>\n",
       "<table border=\"1\" class=\"dataframe\">\n",
       "  <thead>\n",
       "    <tr style=\"text-align: right;\">\n",
       "      <th></th>\n",
       "      <th>f0</th>\n",
       "      <th>f1</th>\n",
       "      <th>f2</th>\n",
       "      <th>product</th>\n",
       "    </tr>\n",
       "  </thead>\n",
       "  <tbody>\n",
       "    <tr>\n",
       "      <th>count</th>\n",
       "      <td>100000.000000</td>\n",
       "      <td>100000.000000</td>\n",
       "      <td>100000.000000</td>\n",
       "      <td>100000.000000</td>\n",
       "    </tr>\n",
       "    <tr>\n",
       "      <th>mean</th>\n",
       "      <td>0.500419</td>\n",
       "      <td>0.250143</td>\n",
       "      <td>2.502647</td>\n",
       "      <td>92.500000</td>\n",
       "    </tr>\n",
       "    <tr>\n",
       "      <th>std</th>\n",
       "      <td>0.871832</td>\n",
       "      <td>0.504433</td>\n",
       "      <td>3.248248</td>\n",
       "      <td>44.288691</td>\n",
       "    </tr>\n",
       "    <tr>\n",
       "      <th>min</th>\n",
       "      <td>-1.408605</td>\n",
       "      <td>-0.848218</td>\n",
       "      <td>-12.088328</td>\n",
       "      <td>0.000000</td>\n",
       "    </tr>\n",
       "    <tr>\n",
       "      <th>25%</th>\n",
       "      <td>-0.072580</td>\n",
       "      <td>-0.200881</td>\n",
       "      <td>0.287748</td>\n",
       "      <td>56.497507</td>\n",
       "    </tr>\n",
       "    <tr>\n",
       "      <th>50%</th>\n",
       "      <td>0.502360</td>\n",
       "      <td>0.250252</td>\n",
       "      <td>2.515969</td>\n",
       "      <td>91.849972</td>\n",
       "    </tr>\n",
       "    <tr>\n",
       "      <th>75%</th>\n",
       "      <td>1.073581</td>\n",
       "      <td>0.700646</td>\n",
       "      <td>4.715088</td>\n",
       "      <td>128.564089</td>\n",
       "    </tr>\n",
       "    <tr>\n",
       "      <th>max</th>\n",
       "      <td>2.362331</td>\n",
       "      <td>1.343769</td>\n",
       "      <td>16.003790</td>\n",
       "      <td>185.364347</td>\n",
       "    </tr>\n",
       "  </tbody>\n",
       "</table>\n",
       "</div>"
      ],
      "text/plain": [
       "                  f0             f1             f2        product\n",
       "count  100000.000000  100000.000000  100000.000000  100000.000000\n",
       "mean        0.500419       0.250143       2.502647      92.500000\n",
       "std         0.871832       0.504433       3.248248      44.288691\n",
       "min        -1.408605      -0.848218     -12.088328       0.000000\n",
       "25%        -0.072580      -0.200881       0.287748      56.497507\n",
       "50%         0.502360       0.250252       2.515969      91.849972\n",
       "75%         1.073581       0.700646       4.715088     128.564089\n",
       "max         2.362331       1.343769      16.003790     185.364347"
      ]
     },
     "metadata": {},
     "output_type": "display_data"
    },
    {
     "data": {
      "text/html": [
       "<div>\n",
       "<style scoped>\n",
       "    .dataframe tbody tr th:only-of-type {\n",
       "        vertical-align: middle;\n",
       "    }\n",
       "\n",
       "    .dataframe tbody tr th {\n",
       "        vertical-align: top;\n",
       "    }\n",
       "\n",
       "    .dataframe thead th {\n",
       "        text-align: right;\n",
       "    }\n",
       "</style>\n",
       "<table border=\"1\" class=\"dataframe\">\n",
       "  <thead>\n",
       "    <tr style=\"text-align: right;\">\n",
       "      <th></th>\n",
       "      <th>f0</th>\n",
       "      <th>f1</th>\n",
       "      <th>f2</th>\n",
       "      <th>product</th>\n",
       "    </tr>\n",
       "  </thead>\n",
       "  <tbody>\n",
       "    <tr>\n",
       "      <th>count</th>\n",
       "      <td>100000.000000</td>\n",
       "      <td>100000.000000</td>\n",
       "      <td>100000.000000</td>\n",
       "      <td>100000.000000</td>\n",
       "    </tr>\n",
       "    <tr>\n",
       "      <th>mean</th>\n",
       "      <td>1.141296</td>\n",
       "      <td>-4.796579</td>\n",
       "      <td>2.494541</td>\n",
       "      <td>68.825000</td>\n",
       "    </tr>\n",
       "    <tr>\n",
       "      <th>std</th>\n",
       "      <td>8.965932</td>\n",
       "      <td>5.119872</td>\n",
       "      <td>1.703572</td>\n",
       "      <td>45.944423</td>\n",
       "    </tr>\n",
       "    <tr>\n",
       "      <th>min</th>\n",
       "      <td>-31.609576</td>\n",
       "      <td>-26.358598</td>\n",
       "      <td>-0.018144</td>\n",
       "      <td>0.000000</td>\n",
       "    </tr>\n",
       "    <tr>\n",
       "      <th>25%</th>\n",
       "      <td>-6.298551</td>\n",
       "      <td>-8.267985</td>\n",
       "      <td>1.000021</td>\n",
       "      <td>26.953261</td>\n",
       "    </tr>\n",
       "    <tr>\n",
       "      <th>50%</th>\n",
       "      <td>1.153055</td>\n",
       "      <td>-4.813172</td>\n",
       "      <td>2.011479</td>\n",
       "      <td>57.085625</td>\n",
       "    </tr>\n",
       "    <tr>\n",
       "      <th>75%</th>\n",
       "      <td>8.621015</td>\n",
       "      <td>-1.332816</td>\n",
       "      <td>3.999904</td>\n",
       "      <td>107.813044</td>\n",
       "    </tr>\n",
       "    <tr>\n",
       "      <th>max</th>\n",
       "      <td>29.421755</td>\n",
       "      <td>18.734063</td>\n",
       "      <td>5.019721</td>\n",
       "      <td>137.945408</td>\n",
       "    </tr>\n",
       "  </tbody>\n",
       "</table>\n",
       "</div>"
      ],
      "text/plain": [
       "                  f0             f1             f2        product\n",
       "count  100000.000000  100000.000000  100000.000000  100000.000000\n",
       "mean        1.141296      -4.796579       2.494541      68.825000\n",
       "std         8.965932       5.119872       1.703572      45.944423\n",
       "min       -31.609576     -26.358598      -0.018144       0.000000\n",
       "25%        -6.298551      -8.267985       1.000021      26.953261\n",
       "50%         1.153055      -4.813172       2.011479      57.085625\n",
       "75%         8.621015      -1.332816       3.999904     107.813044\n",
       "max        29.421755      18.734063       5.019721     137.945408"
      ]
     },
     "metadata": {},
     "output_type": "display_data"
    },
    {
     "data": {
      "text/html": [
       "<div>\n",
       "<style scoped>\n",
       "    .dataframe tbody tr th:only-of-type {\n",
       "        vertical-align: middle;\n",
       "    }\n",
       "\n",
       "    .dataframe tbody tr th {\n",
       "        vertical-align: top;\n",
       "    }\n",
       "\n",
       "    .dataframe thead th {\n",
       "        text-align: right;\n",
       "    }\n",
       "</style>\n",
       "<table border=\"1\" class=\"dataframe\">\n",
       "  <thead>\n",
       "    <tr style=\"text-align: right;\">\n",
       "      <th></th>\n",
       "      <th>f0</th>\n",
       "      <th>f1</th>\n",
       "      <th>f2</th>\n",
       "      <th>product</th>\n",
       "    </tr>\n",
       "  </thead>\n",
       "  <tbody>\n",
       "    <tr>\n",
       "      <th>count</th>\n",
       "      <td>100000.000000</td>\n",
       "      <td>100000.000000</td>\n",
       "      <td>100000.000000</td>\n",
       "      <td>100000.000000</td>\n",
       "    </tr>\n",
       "    <tr>\n",
       "      <th>mean</th>\n",
       "      <td>0.002023</td>\n",
       "      <td>-0.002081</td>\n",
       "      <td>2.495128</td>\n",
       "      <td>95.000000</td>\n",
       "    </tr>\n",
       "    <tr>\n",
       "      <th>std</th>\n",
       "      <td>1.732045</td>\n",
       "      <td>1.730417</td>\n",
       "      <td>3.473445</td>\n",
       "      <td>44.749921</td>\n",
       "    </tr>\n",
       "    <tr>\n",
       "      <th>min</th>\n",
       "      <td>-8.760004</td>\n",
       "      <td>-7.084020</td>\n",
       "      <td>-11.970335</td>\n",
       "      <td>0.000000</td>\n",
       "    </tr>\n",
       "    <tr>\n",
       "      <th>25%</th>\n",
       "      <td>-1.162288</td>\n",
       "      <td>-1.174820</td>\n",
       "      <td>0.130359</td>\n",
       "      <td>59.450441</td>\n",
       "    </tr>\n",
       "    <tr>\n",
       "      <th>50%</th>\n",
       "      <td>0.009424</td>\n",
       "      <td>-0.009482</td>\n",
       "      <td>2.484236</td>\n",
       "      <td>94.925613</td>\n",
       "    </tr>\n",
       "    <tr>\n",
       "      <th>75%</th>\n",
       "      <td>1.158535</td>\n",
       "      <td>1.163678</td>\n",
       "      <td>4.858794</td>\n",
       "      <td>130.595027</td>\n",
       "    </tr>\n",
       "    <tr>\n",
       "      <th>max</th>\n",
       "      <td>7.238262</td>\n",
       "      <td>7.844801</td>\n",
       "      <td>16.739402</td>\n",
       "      <td>190.029838</td>\n",
       "    </tr>\n",
       "  </tbody>\n",
       "</table>\n",
       "</div>"
      ],
      "text/plain": [
       "                  f0             f1             f2        product\n",
       "count  100000.000000  100000.000000  100000.000000  100000.000000\n",
       "mean        0.002023      -0.002081       2.495128      95.000000\n",
       "std         1.732045       1.730417       3.473445      44.749921\n",
       "min        -8.760004      -7.084020     -11.970335       0.000000\n",
       "25%        -1.162288      -1.174820       0.130359      59.450441\n",
       "50%         0.009424      -0.009482       2.484236      94.925613\n",
       "75%         1.158535       1.163678       4.858794     130.595027\n",
       "max         7.238262       7.844801      16.739402     190.029838"
      ]
     },
     "metadata": {},
     "output_type": "display_data"
    }
   ],
   "source": [
    "display(geo_data_0.describe())\n",
    "display(geo_data_1.describe())\n",
    "display(geo_data_2.describe())"
   ]
  },
  {
   "cell_type": "markdown",
   "metadata": {},
   "source": [
    "Для всех датасетов средние близки к медианным значениям, значит значительных выбросов в данных нет."
   ]
  },
  {
   "cell_type": "code",
   "execution_count": 5,
   "metadata": {},
   "outputs": [],
   "source": [
    "#Т.к. мы будем использовать эти данные для прогнозирования, то столбцы с id нам не нужны, удалим их из датасетов.\n",
    "geo_data_0 = geo_data_0.drop(['id'], axis=1)\n",
    "geo_data_1 = geo_data_1.drop(['id'], axis=1)\n",
    "geo_data_2 = geo_data_2.drop(['id'], axis=1)"
   ]
  },
  {
   "cell_type": "code",
   "execution_count": 6,
   "metadata": {},
   "outputs": [
    {
     "data": {
      "text/plain": [
       "0"
      ]
     },
     "execution_count": 6,
     "metadata": {},
     "output_type": "execute_result"
    }
   ],
   "source": [
    "#проверим данные на наличие дубликатов\n",
    "geo_data_0.duplicated().sum()"
   ]
  },
  {
   "cell_type": "code",
   "execution_count": 7,
   "metadata": {},
   "outputs": [
    {
     "data": {
      "text/plain": [
       "0"
      ]
     },
     "execution_count": 7,
     "metadata": {},
     "output_type": "execute_result"
    }
   ],
   "source": [
    "geo_data_1.duplicated().sum()"
   ]
  },
  {
   "cell_type": "code",
   "execution_count": 8,
   "metadata": {},
   "outputs": [
    {
     "data": {
      "text/plain": [
       "0"
      ]
     },
     "execution_count": 8,
     "metadata": {},
     "output_type": "execute_result"
    }
   ],
   "source": [
    "geo_data_2.duplicated().sum()"
   ]
  },
  {
   "cell_type": "markdown",
   "metadata": {},
   "source": [
    "Дубликатов в данных нет.\n",
    "\n",
    "Данные загружены и проанализированы, необходимости в серьезной обработке не выявлено."
   ]
  },
  {
   "cell_type": "markdown",
   "metadata": {},
   "source": [
    "## Обучение и проверка модели"
   ]
  },
  {
   "cell_type": "code",
   "execution_count": 9,
   "metadata": {},
   "outputs": [
    {
     "data": {
      "text/plain": [
       "((75000, 4), (25000, 4))"
      ]
     },
     "execution_count": 9,
     "metadata": {},
     "output_type": "execute_result"
    }
   ],
   "source": [
    "# Разделим данные для региона 0 на обучающую и валидационную выборки в соотношении 75:25\n",
    "geo_data_0_train, geo_data_0_valid = train_test_split(geo_data_0, test_size=0.25, random_state=12345)\n",
    "geo_data_0_train.shape, geo_data_0_valid.shape"
   ]
  },
  {
   "cell_type": "code",
   "execution_count": 10,
   "metadata": {},
   "outputs": [],
   "source": [
    "features_geo_data_0_train = geo_data_0_train.drop(['product'], axis=1)\n",
    "target_geo_data_0_train = geo_data_0_train['product']\n",
    "features_geo_data_0_valid = geo_data_0_valid.drop(['product'], axis=1)\n",
    "target_geo_data_0_valid = geo_data_0_valid['product']"
   ]
  },
  {
   "cell_type": "code",
   "execution_count": 11,
   "metadata": {},
   "outputs": [
    {
     "data": {
      "text/plain": [
       "((75000, 4), (25000, 4))"
      ]
     },
     "execution_count": 11,
     "metadata": {},
     "output_type": "execute_result"
    }
   ],
   "source": [
    "# Разделим данные для региона 1 на обучающую и валидационную выборки в соотношении 75:25\n",
    "geo_data_1_train, geo_data_1_valid = train_test_split(geo_data_1, test_size=0.25, random_state=12345)\n",
    "geo_data_1_train.shape, geo_data_1_valid.shape"
   ]
  },
  {
   "cell_type": "code",
   "execution_count": 12,
   "metadata": {},
   "outputs": [],
   "source": [
    "features_geo_data_1_train = geo_data_1_train.drop(['product'], axis=1)\n",
    "target_geo_data_1_train = geo_data_1_train['product']\n",
    "features_geo_data_1_valid = geo_data_1_valid.drop(['product'], axis=1)\n",
    "target_geo_data_1_valid = geo_data_1_valid['product']"
   ]
  },
  {
   "cell_type": "code",
   "execution_count": 13,
   "metadata": {},
   "outputs": [
    {
     "data": {
      "text/plain": [
       "((75000, 4), (25000, 4))"
      ]
     },
     "execution_count": 13,
     "metadata": {},
     "output_type": "execute_result"
    }
   ],
   "source": [
    "# Разделим данные для региона 2 на обучающую и валидационную выборки в соотношении 75:25\n",
    "geo_data_2_train, geo_data_2_valid = train_test_split(geo_data_2, test_size=0.25, random_state=12345)\n",
    "geo_data_2_train.shape, geo_data_2_valid.shape"
   ]
  },
  {
   "cell_type": "code",
   "execution_count": 14,
   "metadata": {},
   "outputs": [],
   "source": [
    "features_geo_data_2_train = geo_data_2_train.drop(['product'], axis=1)\n",
    "target_geo_data_2_train = geo_data_2_train['product']\n",
    "features_geo_data_2_valid = geo_data_2_valid.drop(['product'], axis=1)\n",
    "target_geo_data_2_valid = geo_data_2_valid['product']"
   ]
  },
  {
   "cell_type": "code",
   "execution_count": 15,
   "metadata": {},
   "outputs": [
    {
     "name": "stdout",
     "output_type": "stream",
     "text": [
      "Средний запас сырья для региона 0: 92.59256778438035\n",
      "RMSE для региона 0: 37.5794217150813\n"
     ]
    }
   ],
   "source": [
    "#Обучение и проверка для региона 0\n",
    "model_0 = LinearRegression()\n",
    "model_0.fit(features_geo_data_0_train, target_geo_data_0_train)\n",
    "predicted_valid_0 = model_0.predict(features_geo_data_0_valid)\n",
    "print('Средний запас сырья для региона 0:', predicted_valid_0.mean())\n",
    "print('RMSE для региона 0:', mean_squared_error(target_geo_data_0_valid, predicted_valid_0)**0.5)"
   ]
  },
  {
   "cell_type": "code",
   "execution_count": 16,
   "metadata": {},
   "outputs": [
    {
     "name": "stdout",
     "output_type": "stream",
     "text": [
      "Фактический средний запас сырья для региона 0: 92.50000000000001\n",
      "Фактическое стандартное отклонение для региона 0: 44.288691136853394\n"
     ]
    }
   ],
   "source": [
    "print('Фактический средний запас сырья для региона 0:', geo_data_0['product'].mean())\n",
    "print('Фактическое стандартное отклонение для региона 0:', geo_data_0['product'].std())"
   ]
  },
  {
   "cell_type": "code",
   "execution_count": 17,
   "metadata": {},
   "outputs": [
    {
     "name": "stdout",
     "output_type": "stream",
     "text": [
      "Средний запас сырья для региона 1: 68.728546895446\n",
      "RMSE для региона 1: 0.893099286775617\n"
     ]
    }
   ],
   "source": [
    "#Обучение и проверка для региона 1\n",
    "model_1 = LinearRegression()\n",
    "model_1.fit(features_geo_data_1_train, target_geo_data_1_train)\n",
    "predicted_valid_1 = model_1.predict(features_geo_data_1_valid)\n",
    "print('Средний запас сырья для региона 1:', predicted_valid_1.mean())\n",
    "print('RMSE для региона 1:', mean_squared_error(target_geo_data_1_valid, predicted_valid_1)**0.5)"
   ]
  },
  {
   "cell_type": "code",
   "execution_count": 18,
   "metadata": {},
   "outputs": [
    {
     "name": "stdout",
     "output_type": "stream",
     "text": [
      "Фактический средний запас сырья для региона 1: 68.82500000000002\n",
      "Фактическое стандартное отклонение для региона 1: 45.94442289497512\n"
     ]
    }
   ],
   "source": [
    "print('Фактический средний запас сырья для региона 1:', geo_data_1['product'].mean())\n",
    "print('Фактическое стандартное отклонение для региона 1:', geo_data_1['product'].std())"
   ]
  },
  {
   "cell_type": "code",
   "execution_count": 19,
   "metadata": {},
   "outputs": [
    {
     "name": "stdout",
     "output_type": "stream",
     "text": [
      "Средний запас сырья для региона 2: 94.96504596800489\n",
      "RMSE для региона 2: 40.02970873393434\n"
     ]
    }
   ],
   "source": [
    "#Обучение и проверка для региона 2\n",
    "model_2 = LinearRegression()\n",
    "model_2.fit(features_geo_data_2_train, target_geo_data_2_train)\n",
    "predicted_valid_2 = model_2.predict(features_geo_data_2_valid)\n",
    "print('Средний запас сырья для региона 2:', predicted_valid_2.mean())\n",
    "print('RMSE для региона 2:', mean_squared_error(target_geo_data_2_valid, predicted_valid_2)**0.5)"
   ]
  },
  {
   "cell_type": "code",
   "execution_count": 20,
   "metadata": {},
   "outputs": [
    {
     "name": "stdout",
     "output_type": "stream",
     "text": [
      "Фактический средний запас сырья для региона 2: 95.00000000000004\n",
      "Фактическое стандартное отклонение для региона 2: 44.74992106895218\n"
     ]
    }
   ],
   "source": [
    "print('Фактический средний запас сырья для региона 2:', geo_data_2['product'].mean())\n",
    "print('Фактическое стандартное отклонение для региона 2:', geo_data_2['product'].std())"
   ]
  },
  {
   "cell_type": "markdown",
   "metadata": {},
   "source": [
    "Анализируя полученные модели, можно предположить, что рациональнее добывать нефть в регионе 2, так как именно в этом регионе максимальный средний запас сырья, что говорит о возможности принести наибольшую прибыль."
   ]
  },
  {
   "cell_type": "markdown",
   "metadata": {},
   "source": [
    "## Подготовка к расчёту прибыли"
   ]
  },
  {
   "cell_type": "code",
   "execution_count": 21,
   "metadata": {},
   "outputs": [],
   "source": [
    "#бюджет на разработку скважин в одном регионе в рублях\n",
    "budget = 10000000000\n",
    "\n",
    "#количество скважин для бурения\n",
    "oil_wells_number = 200\n",
    "\n",
    "#бюджет на одну скважину\n",
    "budget_for_one = budget / oil_wells_number\n",
    "\n",
    "#доход с одной единицы продукта в рублях\n",
    "revenue_rub = 450000\n",
    "\n",
    "#максимальная доля убытков\n",
    "max_risk = 0.025\n",
    "\n",
    "#рублей в млрд\n",
    "mlrd = 1000000000"
   ]
  },
  {
   "cell_type": "markdown",
   "metadata": {},
   "source": [
    "Чтобы проект был прибыльным, посчитаем минимальное среднее количество продукта в месторождениях региона, достаточное для разработки."
   ]
  },
  {
   "cell_type": "code",
   "execution_count": 22,
   "metadata": {},
   "outputs": [
    {
     "data": {
      "text/plain": [
       "111.11111111111111"
      ]
     },
     "execution_count": 22,
     "metadata": {},
     "output_type": "execute_result"
    }
   ],
   "source": [
    "budget_for_one / revenue_rub"
   ]
  },
  {
   "cell_type": "markdown",
   "metadata": {},
   "source": [
    "Необходимый объем сырья для того, чтобы разработка скважины была окупаемой составил 111 тыс. баррелей. Грубо говоря - это минимальный объем сырья, при котором проект не станет убыточным. Если сравнивать со средним истинным объемом сырья, который мы посчитали в предыдущем шаге, то проект будет убыточным в любом регионе. Но мы будем исследовать только 500 скважин, из которых выберем 200 самых прибыльных."
   ]
  },
  {
   "cell_type": "code",
   "execution_count": 23,
   "metadata": {},
   "outputs": [
    {
     "name": "stdout",
     "output_type": "stream",
     "text": [
      "Средний истинный запас сырья в регионах, тыс. баррелей:\n",
      "\n",
      "Регион 1: 92.07859674082927\n",
      "Регион 2: 68.72313602435997\n",
      "Регион 3: 94.88423280885438\n"
     ]
    }
   ],
   "source": [
    "print(\"Средний истинный запас сырья в регионах, тыс. баррелей:\")\n",
    "print()\n",
    "print(\"Регион 1:\", target_geo_data_0_valid.mean())\n",
    "print(\"Регион 2:\", target_geo_data_1_valid.mean())\n",
    "print(\"Регион 3:\", target_geo_data_2_valid.mean())"
   ]
  },
  {
   "cell_type": "code",
   "execution_count": 24,
   "metadata": {},
   "outputs": [],
   "source": [
    "#Напишем функцию рассчета прибыли по 200 скважинам каждого региона, из которых получается самый большой объем сырья.\n",
    "def revenue(target, probabilities):\n",
    "    target = pd.Series(target).reset_index(drop=True)\n",
    "    probabilities = pd.Series(probabilities).reset_index(drop=True)\n",
    "    probs_sorted = probabilities.sort_values(ascending=False)\n",
    "    selected = target[probs_sorted.index][:oil_wells_number]\n",
    "    return ((revenue_rub * selected.sum()) - budget) / mlrd"
   ]
  },
  {
   "cell_type": "code",
   "execution_count": 25,
   "metadata": {},
   "outputs": [
    {
     "data": {
      "text/plain": [
       "3.3208260431398506"
      ]
     },
     "execution_count": 25,
     "metadata": {},
     "output_type": "execute_result"
    }
   ],
   "source": [
    "revenue(target_geo_data_0_valid, predicted_valid_0)"
   ]
  },
  {
   "cell_type": "code",
   "execution_count": 26,
   "metadata": {},
   "outputs": [
    {
     "data": {
      "text/plain": [
       "2.4150866966815108"
      ]
     },
     "execution_count": 26,
     "metadata": {},
     "output_type": "execute_result"
    }
   ],
   "source": [
    "revenue(target_geo_data_1_valid, predicted_valid_1)"
   ]
  },
  {
   "cell_type": "code",
   "execution_count": 27,
   "metadata": {},
   "outputs": [
    {
     "data": {
      "text/plain": [
       "2.7103499635998327"
      ]
     },
     "execution_count": 27,
     "metadata": {},
     "output_type": "execute_result"
    }
   ],
   "source": [
    "revenue(target_geo_data_2_valid, predicted_valid_2)"
   ]
  },
  {
   "cell_type": "markdown",
   "metadata": {},
   "source": [
    "На данном этапе, судя из рассчетов, самым прибыльным является регион 0 - выручка здесь больше 3-х млрд рублей."
   ]
  },
  {
   "cell_type": "markdown",
   "metadata": {},
   "source": [
    "## Расчёт прибыли и рисков "
   ]
  },
  {
   "cell_type": "code",
   "execution_count": 28,
   "metadata": {},
   "outputs": [],
   "source": [
    "#Посчитаем риски и прибыль для всех трех регионов с помощью процедуры Bootstrap.\n",
    "state = np.random.RandomState(12345)"
   ]
  },
  {
   "cell_type": "code",
   "execution_count": 29,
   "metadata": {},
   "outputs": [],
   "source": [
    "def bootstrap (target, predictions):\n",
    "    values = []\n",
    "    for i in range(1000):\n",
    "        target_subsample = target.reset_index(drop=True).sample(n=500, replace=True, random_state=state)\n",
    "        probs_subsample = predictions[target_subsample.index]\n",
    "        rev = revenue(target_subsample, probs_subsample)\n",
    "        values.append(rev)\n",
    "\n",
    "    values = pd.Series(values)\n",
    "    lower = values.quantile(max_risk)\n",
    "    confidence_interval = st.t.interval(0.95, len(values)-1, values.mean(), values.sem())\n",
    "    mean = values.mean()\n",
    "\n",
    "    print(\"Средняя выручка:\", mean)\n",
    "    print(\"2.5%-квантиль:\", lower)\n",
    "    print(\"Доверительный интервал:\", confidence_interval)\n",
    "    print(\"Риски убытка:\", (values < 0).mean())"
   ]
  },
  {
   "cell_type": "code",
   "execution_count": 30,
   "metadata": {},
   "outputs": [
    {
     "name": "stdout",
     "output_type": "stream",
     "text": [
      "Средняя выручка: 0.3961649848023711\n",
      "2.5%-квантиль: -0.11121554589049526\n",
      "Доверительный интервал: (0.3796203151479725, 0.4127096544567697)\n",
      "Риски убытка: 0.069\n"
     ]
    }
   ],
   "source": [
    "bootstrap(target_geo_data_0_valid, predicted_valid_0)"
   ]
  },
  {
   "cell_type": "code",
   "execution_count": 31,
   "metadata": {},
   "outputs": [
    {
     "name": "stdout",
     "output_type": "stream",
     "text": [
      "Средняя выручка: 0.46115581727723964\n",
      "2.5%-квантиль: 0.07805081075174171\n",
      "Доверительный интервал: (0.4488289364815785, 0.4734826980729008)\n",
      "Риски убытка: 0.007\n"
     ]
    }
   ],
   "source": [
    "bootstrap(target_geo_data_1_valid, predicted_valid_1)"
   ]
  },
  {
   "cell_type": "code",
   "execution_count": 32,
   "metadata": {},
   "outputs": [
    {
     "name": "stdout",
     "output_type": "stream",
     "text": [
      "Средняя выручка: 0.39295047517060455\n",
      "2.5%-квантиль: -0.11222762537857565\n",
      "Доверительный интервал: (0.3761642253295495, 0.4097367250116596)\n",
      "Риски убытка: 0.065\n"
     ]
    }
   ],
   "source": [
    "bootstrap(target_geo_data_2_valid, predicted_valid_2)"
   ]
  },
  {
   "cell_type": "markdown",
   "metadata": {},
   "source": [
    "# Вывод\n",
    "Исходя из полученных результатов, можно сделать предположение, что наиболее перспективным является регион 1, так как обладает наибольшей средней прибылью и не имеет убытков. Стоит отметить, что ни один регион не несет убытки. В итоге, для реализации проекта больше всего подходит регион 1. Бурение скважин здесь связанно с наименьшими рисками и принесет бОльшую выручку."
   ]
  }
 ],
 "metadata": {
  "ExecuteTimeLog": [
   {
    "duration": 4,
    "start_time": "2022-05-22T19:29:55.796Z"
   },
   {
    "duration": 208,
    "start_time": "2022-05-22T19:30:13.004Z"
   },
   {
    "duration": 1726,
    "start_time": "2022-05-22T19:30:48.393Z"
   },
   {
    "duration": 40,
    "start_time": "2022-05-22T19:32:41.446Z"
   },
   {
    "duration": 101,
    "start_time": "2022-05-22T19:35:14.904Z"
   },
   {
    "duration": 49,
    "start_time": "2022-05-22T19:35:42.808Z"
   },
   {
    "duration": 108,
    "start_time": "2022-05-22T19:35:47.569Z"
   },
   {
    "duration": 16,
    "start_time": "2022-05-22T19:37:49.707Z"
   },
   {
    "duration": 82,
    "start_time": "2022-05-22T19:40:34.853Z"
   },
   {
    "duration": 22,
    "start_time": "2022-05-22T19:41:02.099Z"
   },
   {
    "duration": 36,
    "start_time": "2022-05-22T19:41:15.656Z"
   },
   {
    "duration": 22,
    "start_time": "2022-05-22T19:41:16.149Z"
   },
   {
    "duration": 30,
    "start_time": "2022-05-22T19:41:16.692Z"
   },
   {
    "duration": 38,
    "start_time": "2022-05-22T19:41:55.450Z"
   },
   {
    "duration": 17,
    "start_time": "2022-05-22T20:15:40.762Z"
   },
   {
    "duration": 32,
    "start_time": "2022-05-22T20:16:15.938Z"
   },
   {
    "duration": 6,
    "start_time": "2022-05-22T20:16:20.766Z"
   },
   {
    "duration": 14,
    "start_time": "2022-05-22T20:17:35.998Z"
   },
   {
    "duration": 7,
    "start_time": "2022-05-22T20:17:58.562Z"
   },
   {
    "duration": 18,
    "start_time": "2022-05-22T20:18:20.750Z"
   },
   {
    "duration": 6,
    "start_time": "2022-05-22T20:18:38.802Z"
   },
   {
    "duration": 184,
    "start_time": "2022-05-22T20:20:11.994Z"
   },
   {
    "duration": 5,
    "start_time": "2022-05-22T20:20:34.434Z"
   },
   {
    "duration": 20,
    "start_time": "2022-05-22T20:21:12.994Z"
   },
   {
    "duration": 5,
    "start_time": "2022-05-22T20:21:30.482Z"
   },
   {
    "duration": 13,
    "start_time": "2022-05-22T20:21:59.158Z"
   },
   {
    "duration": 5,
    "start_time": "2022-05-22T20:22:17.386Z"
   },
   {
    "duration": 3,
    "start_time": "2022-05-22T20:28:08.985Z"
   },
   {
    "duration": 4,
    "start_time": "2022-05-22T20:28:37.557Z"
   },
   {
    "duration": 4,
    "start_time": "2022-05-22T20:29:50.636Z"
   },
   {
    "duration": 3,
    "start_time": "2022-05-22T20:30:19.621Z"
   },
   {
    "duration": 3,
    "start_time": "2022-05-22T20:30:22.989Z"
   },
   {
    "duration": 23,
    "start_time": "2022-05-22T20:30:27.993Z"
   },
   {
    "duration": 21,
    "start_time": "2022-05-22T20:30:40.729Z"
   },
   {
    "duration": 3,
    "start_time": "2022-05-22T20:31:22.389Z"
   },
   {
    "duration": 3,
    "start_time": "2022-05-22T20:31:22.985Z"
   },
   {
    "duration": 3,
    "start_time": "2022-05-22T20:31:24.317Z"
   },
   {
    "duration": 21,
    "start_time": "2022-05-22T20:31:25.096Z"
   },
   {
    "duration": 22,
    "start_time": "2022-05-22T20:34:38.821Z"
   },
   {
    "duration": 4,
    "start_time": "2022-05-22T20:42:30.537Z"
   },
   {
    "duration": 3,
    "start_time": "2022-05-22T20:42:59.665Z"
   },
   {
    "duration": 3,
    "start_time": "2022-05-22T20:43:42.001Z"
   },
   {
    "duration": 4,
    "start_time": "2022-05-22T20:44:56.797Z"
   },
   {
    "duration": 10,
    "start_time": "2022-05-22T20:45:24.641Z"
   },
   {
    "duration": 11,
    "start_time": "2022-05-22T20:47:21.349Z"
   },
   {
    "duration": 19,
    "start_time": "2022-05-22T20:48:13.177Z"
   },
   {
    "duration": 24,
    "start_time": "2022-05-22T20:50:25.821Z"
   },
   {
    "duration": 20,
    "start_time": "2022-05-22T20:51:15.601Z"
   },
   {
    "duration": 3,
    "start_time": "2022-05-22T20:57:43.515Z"
   },
   {
    "duration": 3,
    "start_time": "2022-05-22T20:58:00.604Z"
   },
   {
    "duration": 10,
    "start_time": "2022-05-22T20:58:41.528Z"
   },
   {
    "duration": 3,
    "start_time": "2022-05-22T20:59:51.469Z"
   },
   {
    "duration": 4,
    "start_time": "2022-05-22T21:00:26.362Z"
   },
   {
    "duration": 3,
    "start_time": "2022-05-22T21:01:02.693Z"
   },
   {
    "duration": 25,
    "start_time": "2022-05-22T21:01:17.121Z"
   },
   {
    "duration": 29,
    "start_time": "2022-05-22T21:02:00.578Z"
   },
   {
    "duration": 26,
    "start_time": "2022-05-22T21:02:39.631Z"
   },
   {
    "duration": 34,
    "start_time": "2022-05-22T21:02:51.842Z"
   },
   {
    "duration": 23,
    "start_time": "2022-05-22T21:03:06.984Z"
   },
   {
    "duration": 23,
    "start_time": "2022-05-22T21:03:20.910Z"
   },
   {
    "duration": 32,
    "start_time": "2022-05-22T21:04:09.451Z"
   },
   {
    "duration": 28,
    "start_time": "2022-05-22T21:04:30.763Z"
   },
   {
    "duration": 36,
    "start_time": "2022-05-22T21:05:06.279Z"
   },
   {
    "duration": 39,
    "start_time": "2022-05-22T21:05:25.590Z"
   },
   {
    "duration": 26,
    "start_time": "2022-05-22T21:05:54.577Z"
   },
   {
    "duration": 9,
    "start_time": "2022-05-22T21:09:18.309Z"
   },
   {
    "duration": 25,
    "start_time": "2022-05-22T21:09:21.529Z"
   },
   {
    "duration": 9,
    "start_time": "2022-05-22T21:09:43.205Z"
   },
   {
    "duration": 9,
    "start_time": "2022-05-22T21:10:15.885Z"
   },
   {
    "duration": 8,
    "start_time": "2022-05-22T21:10:24.385Z"
   },
   {
    "duration": 4,
    "start_time": "2022-05-22T21:12:11.317Z"
   },
   {
    "duration": 4,
    "start_time": "2022-05-22T21:12:15.962Z"
   },
   {
    "duration": 21,
    "start_time": "2022-05-22T21:12:31.406Z"
   },
   {
    "duration": 26,
    "start_time": "2022-05-22T21:14:02.487Z"
   },
   {
    "duration": 20,
    "start_time": "2022-05-22T21:14:12.662Z"
   },
   {
    "duration": 20,
    "start_time": "2022-05-22T21:14:28.786Z"
   },
   {
    "duration": 25,
    "start_time": "2022-05-22T21:14:38.754Z"
   },
   {
    "duration": 2,
    "start_time": "2022-05-22T21:16:25.071Z"
   },
   {
    "duration": 4,
    "start_time": "2022-05-22T21:16:55.118Z"
   },
   {
    "duration": 10,
    "start_time": "2022-05-22T21:18:32.133Z"
   },
   {
    "duration": 17,
    "start_time": "2022-05-22T21:19:49.436Z"
   },
   {
    "duration": 3,
    "start_time": "2022-05-22T21:20:29.131Z"
   },
   {
    "duration": 4,
    "start_time": "2022-05-22T21:22:05.796Z"
   },
   {
    "duration": 4,
    "start_time": "2022-05-22T21:23:15.776Z"
   },
   {
    "duration": 4,
    "start_time": "2022-05-22T21:23:23.436Z"
   },
   {
    "duration": 19,
    "start_time": "2022-05-22T21:23:24.180Z"
   },
   {
    "duration": 3,
    "start_time": "2022-05-22T21:23:33.224Z"
   },
   {
    "duration": 18,
    "start_time": "2022-05-22T21:23:34.031Z"
   },
   {
    "duration": 3,
    "start_time": "2022-05-22T21:23:43.580Z"
   },
   {
    "duration": 19,
    "start_time": "2022-05-22T21:23:44.064Z"
   },
   {
    "duration": 3,
    "start_time": "2022-05-22T21:24:50.763Z"
   },
   {
    "duration": 3,
    "start_time": "2022-05-22T21:25:06.272Z"
   },
   {
    "duration": 3,
    "start_time": "2022-05-22T21:25:24.728Z"
   },
   {
    "duration": 25,
    "start_time": "2022-05-22T21:25:56.456Z"
   },
   {
    "duration": 11,
    "start_time": "2022-05-22T21:29:36.165Z"
   },
   {
    "duration": 9,
    "start_time": "2022-05-22T21:30:24.408Z"
   },
   {
    "duration": 3,
    "start_time": "2022-05-22T21:30:54.223Z"
   },
   {
    "duration": 8,
    "start_time": "2022-05-22T21:31:14.867Z"
   },
   {
    "duration": 3,
    "start_time": "2022-05-22T21:31:42.725Z"
   },
   {
    "duration": 9,
    "start_time": "2022-05-22T21:31:58.575Z"
   },
   {
    "duration": 25,
    "start_time": "2022-05-22T21:32:29.066Z"
   },
   {
    "duration": 8,
    "start_time": "2022-05-22T21:32:37.536Z"
   },
   {
    "duration": 2,
    "start_time": "2022-05-22T21:32:41.823Z"
   },
   {
    "duration": 8,
    "start_time": "2022-05-22T21:32:42.375Z"
   },
   {
    "duration": 3,
    "start_time": "2022-05-22T21:32:43.782Z"
   },
   {
    "duration": 8,
    "start_time": "2022-05-22T21:32:44.939Z"
   },
   {
    "duration": 8,
    "start_time": "2022-05-22T21:34:03.746Z"
   },
   {
    "duration": 4,
    "start_time": "2022-05-22T21:34:19.321Z"
   },
   {
    "duration": 19,
    "start_time": "2022-05-22T21:34:20.690Z"
   },
   {
    "duration": 2,
    "start_time": "2022-05-22T21:34:46.690Z"
   },
   {
    "duration": 20,
    "start_time": "2022-05-22T21:34:55.585Z"
   },
   {
    "duration": 3,
    "start_time": "2022-05-22T21:34:59.878Z"
   },
   {
    "duration": 8,
    "start_time": "2022-05-22T21:35:00.901Z"
   },
   {
    "duration": 3,
    "start_time": "2022-05-22T21:35:02.489Z"
   },
   {
    "duration": 7,
    "start_time": "2022-05-22T21:35:03.018Z"
   },
   {
    "duration": 2,
    "start_time": "2022-05-22T21:35:42.142Z"
   },
   {
    "duration": 19,
    "start_time": "2022-05-22T21:35:42.942Z"
   },
   {
    "duration": 19,
    "start_time": "2022-05-22T21:35:53.927Z"
   },
   {
    "duration": 3,
    "start_time": "2022-05-22T21:35:58.853Z"
   },
   {
    "duration": 9,
    "start_time": "2022-05-22T21:36:02.045Z"
   },
   {
    "duration": 2,
    "start_time": "2022-05-22T21:36:02.686Z"
   },
   {
    "duration": 7,
    "start_time": "2022-05-22T21:36:03.098Z"
   },
   {
    "duration": 3,
    "start_time": "2022-05-22T21:36:20.373Z"
   },
   {
    "duration": 3,
    "start_time": "2022-05-22T21:36:21.298Z"
   },
   {
    "duration": 20,
    "start_time": "2022-05-22T21:36:22.557Z"
   },
   {
    "duration": 20,
    "start_time": "2022-05-22T21:36:34.253Z"
   },
   {
    "duration": 2,
    "start_time": "2022-05-22T21:36:36.325Z"
   },
   {
    "duration": 20,
    "start_time": "2022-05-22T21:37:09.961Z"
   },
   {
    "duration": 3,
    "start_time": "2022-05-22T21:37:14.164Z"
   },
   {
    "duration": 372,
    "start_time": "2022-05-22T21:37:14.168Z"
   },
   {
    "duration": 45,
    "start_time": "2022-05-22T21:37:14.541Z"
   },
   {
    "duration": 95,
    "start_time": "2022-05-22T21:37:14.587Z"
   },
   {
    "duration": 12,
    "start_time": "2022-05-22T21:37:14.683Z"
   },
   {
    "duration": 29,
    "start_time": "2022-05-22T21:37:14.697Z"
   },
   {
    "duration": 21,
    "start_time": "2022-05-22T21:37:14.728Z"
   },
   {
    "duration": 44,
    "start_time": "2022-05-22T21:37:14.750Z"
   },
   {
    "duration": 9,
    "start_time": "2022-05-22T21:37:14.795Z"
   },
   {
    "duration": 5,
    "start_time": "2022-05-22T21:37:14.806Z"
   },
   {
    "duration": 13,
    "start_time": "2022-05-22T21:37:14.813Z"
   },
   {
    "duration": 5,
    "start_time": "2022-05-22T21:37:14.827Z"
   },
   {
    "duration": 12,
    "start_time": "2022-05-22T21:37:14.833Z"
   },
   {
    "duration": 29,
    "start_time": "2022-05-22T21:37:14.846Z"
   },
   {
    "duration": 98,
    "start_time": "2022-05-22T21:37:14.877Z"
   },
   {
    "duration": 99,
    "start_time": "2022-05-22T21:37:14.976Z"
   },
   {
    "duration": 18,
    "start_time": "2022-05-22T21:37:15.077Z"
   },
   {
    "duration": 82,
    "start_time": "2022-05-22T21:37:15.097Z"
   },
   {
    "duration": 112,
    "start_time": "2022-05-22T21:37:15.181Z"
   },
   {
    "duration": 84,
    "start_time": "2022-05-22T21:37:15.295Z"
   },
   {
    "duration": 3,
    "start_time": "2022-05-22T21:37:15.382Z"
   },
   {
    "duration": 90,
    "start_time": "2022-05-22T21:37:15.387Z"
   },
   {
    "duration": 7,
    "start_time": "2022-05-22T21:37:15.479Z"
   },
   {
    "duration": 11,
    "start_time": "2022-05-22T21:37:15.487Z"
   },
   {
    "duration": 3,
    "start_time": "2022-05-22T21:37:15.499Z"
   },
   {
    "duration": 11,
    "start_time": "2022-05-22T21:37:15.503Z"
   },
   {
    "duration": 2,
    "start_time": "2022-05-22T21:37:15.516Z"
   },
   {
    "duration": 9,
    "start_time": "2022-05-22T21:37:15.519Z"
   },
   {
    "duration": 3,
    "start_time": "2022-05-22T21:37:28.021Z"
   },
   {
    "duration": 9,
    "start_time": "2022-05-22T21:37:28.797Z"
   },
   {
    "duration": 2,
    "start_time": "2022-05-22T21:37:30.129Z"
   },
   {
    "duration": 8,
    "start_time": "2022-05-22T21:37:31.165Z"
   },
   {
    "duration": 3,
    "start_time": "2022-05-22T21:37:32.137Z"
   },
   {
    "duration": 8,
    "start_time": "2022-05-22T21:37:32.609Z"
   },
   {
    "duration": 15,
    "start_time": "2022-05-22T21:38:06.609Z"
   },
   {
    "duration": 48,
    "start_time": "2022-05-22T21:38:18.994Z"
   },
   {
    "duration": 8,
    "start_time": "2022-05-22T21:38:27.259Z"
   },
   {
    "duration": 8,
    "start_time": "2022-05-22T21:38:36.309Z"
   },
   {
    "duration": 3,
    "start_time": "2022-05-22T21:38:41.741Z"
   },
   {
    "duration": 8,
    "start_time": "2022-05-22T21:38:42.269Z"
   },
   {
    "duration": 3,
    "start_time": "2022-05-22T21:38:44.114Z"
   },
   {
    "duration": 8,
    "start_time": "2022-05-22T21:38:44.696Z"
   },
   {
    "duration": 9,
    "start_time": "2022-05-22T21:42:54.595Z"
   },
   {
    "duration": 3,
    "start_time": "2022-05-22T21:42:56.074Z"
   },
   {
    "duration": 8,
    "start_time": "2022-05-22T21:42:56.696Z"
   },
   {
    "duration": 2,
    "start_time": "2022-05-22T21:42:58.204Z"
   },
   {
    "duration": 7,
    "start_time": "2022-05-22T21:42:59.861Z"
   },
   {
    "duration": 9,
    "start_time": "2022-05-23T17:00:13.894Z"
   },
   {
    "duration": 3,
    "start_time": "2022-05-23T17:00:17.518Z"
   },
   {
    "duration": 9,
    "start_time": "2022-05-23T17:00:18.590Z"
   },
   {
    "duration": 3,
    "start_time": "2022-05-23T17:00:19.352Z"
   },
   {
    "duration": 8,
    "start_time": "2022-05-23T17:00:20.002Z"
   },
   {
    "duration": 138,
    "start_time": "2022-05-23T17:02:40.198Z"
   },
   {
    "duration": 53,
    "start_time": "2022-05-23T17:02:51.080Z"
   },
   {
    "duration": 25,
    "start_time": "2022-05-23T17:04:39.347Z"
   },
   {
    "duration": 21,
    "start_time": "2022-05-23T17:05:19.787Z"
   },
   {
    "duration": 3,
    "start_time": "2022-05-23T17:05:19.930Z"
   },
   {
    "duration": 23,
    "start_time": "2022-05-23T17:05:31.447Z"
   },
   {
    "duration": 8,
    "start_time": "2022-05-23T17:05:45.749Z"
   },
   {
    "duration": 4,
    "start_time": "2022-05-23T17:05:47.154Z"
   },
   {
    "duration": 7,
    "start_time": "2022-05-23T17:05:47.644Z"
   },
   {
    "duration": 3,
    "start_time": "2022-05-23T17:05:48.402Z"
   },
   {
    "duration": 9,
    "start_time": "2022-05-23T17:05:48.871Z"
   },
   {
    "duration": 8,
    "start_time": "2022-05-23T17:05:51.248Z"
   },
   {
    "duration": 3,
    "start_time": "2022-05-23T17:05:52.382Z"
   },
   {
    "duration": 8,
    "start_time": "2022-05-23T17:05:52.874Z"
   },
   {
    "duration": 3,
    "start_time": "2022-05-23T17:05:53.410Z"
   },
   {
    "duration": 8,
    "start_time": "2022-05-23T17:05:53.798Z"
   },
   {
    "duration": 3,
    "start_time": "2022-05-23T17:05:59.990Z"
   },
   {
    "duration": 4,
    "start_time": "2022-05-23T17:06:02.714Z"
   },
   {
    "duration": 10,
    "start_time": "2022-05-23T17:08:04.852Z"
   },
   {
    "duration": 2,
    "start_time": "2022-05-23T17:08:06.887Z"
   },
   {
    "duration": 7,
    "start_time": "2022-05-23T17:08:07.554Z"
   },
   {
    "duration": 3,
    "start_time": "2022-05-23T17:08:08.322Z"
   },
   {
    "duration": 10,
    "start_time": "2022-05-23T17:08:09.055Z"
   },
   {
    "duration": 11,
    "start_time": "2022-05-23T17:08:16.495Z"
   },
   {
    "duration": 2,
    "start_time": "2022-05-23T17:08:17.795Z"
   },
   {
    "duration": 9,
    "start_time": "2022-05-23T17:08:18.255Z"
   },
   {
    "duration": 3,
    "start_time": "2022-05-23T17:08:18.863Z"
   },
   {
    "duration": 8,
    "start_time": "2022-05-23T17:08:19.271Z"
   },
   {
    "duration": 13,
    "start_time": "2022-05-23T17:08:33.230Z"
   },
   {
    "duration": 3,
    "start_time": "2022-05-23T17:08:34.215Z"
   },
   {
    "duration": 11,
    "start_time": "2022-05-23T17:08:34.852Z"
   },
   {
    "duration": 3,
    "start_time": "2022-05-23T17:08:36.384Z"
   },
   {
    "duration": 8,
    "start_time": "2022-05-23T17:08:36.907Z"
   },
   {
    "duration": 25,
    "start_time": "2022-05-23T17:10:50.011Z"
   },
   {
    "duration": 22,
    "start_time": "2022-05-23T17:12:18.495Z"
   },
   {
    "duration": 4,
    "start_time": "2022-05-23T17:12:22.561Z"
   },
   {
    "duration": 416,
    "start_time": "2022-05-23T17:12:22.566Z"
   },
   {
    "duration": 42,
    "start_time": "2022-05-23T17:12:22.984Z"
   },
   {
    "duration": 139,
    "start_time": "2022-05-23T17:12:23.028Z"
   },
   {
    "duration": 15,
    "start_time": "2022-05-23T17:12:23.170Z"
   },
   {
    "duration": 37,
    "start_time": "2022-05-23T17:12:23.187Z"
   },
   {
    "duration": 41,
    "start_time": "2022-05-23T17:12:23.225Z"
   },
   {
    "duration": 30,
    "start_time": "2022-05-23T17:12:23.268Z"
   },
   {
    "duration": 11,
    "start_time": "2022-05-23T17:12:23.300Z"
   },
   {
    "duration": 6,
    "start_time": "2022-05-23T17:12:23.312Z"
   },
   {
    "duration": 14,
    "start_time": "2022-05-23T17:12:23.319Z"
   },
   {
    "duration": 29,
    "start_time": "2022-05-23T17:12:23.335Z"
   },
   {
    "duration": 11,
    "start_time": "2022-05-23T17:12:23.366Z"
   },
   {
    "duration": 8,
    "start_time": "2022-05-23T17:12:23.380Z"
   },
   {
    "duration": 78,
    "start_time": "2022-05-23T17:12:23.389Z"
   },
   {
    "duration": 97,
    "start_time": "2022-05-23T17:12:23.469Z"
   },
   {
    "duration": 21,
    "start_time": "2022-05-23T17:12:23.568Z"
   },
   {
    "duration": 79,
    "start_time": "2022-05-23T17:12:23.591Z"
   },
   {
    "duration": 122,
    "start_time": "2022-05-23T17:12:23.673Z"
   },
   {
    "duration": 11,
    "start_time": "2022-05-23T17:12:23.864Z"
   },
   {
    "duration": 87,
    "start_time": "2022-05-23T17:12:23.879Z"
   },
   {
    "duration": 6,
    "start_time": "2022-05-23T17:12:23.968Z"
   },
   {
    "duration": 4,
    "start_time": "2022-05-23T17:12:23.976Z"
   },
   {
    "duration": 12,
    "start_time": "2022-05-23T17:12:23.982Z"
   },
   {
    "duration": 3,
    "start_time": "2022-05-23T17:12:23.997Z"
   },
   {
    "duration": 16,
    "start_time": "2022-05-23T17:12:24.002Z"
   },
   {
    "duration": 3,
    "start_time": "2022-05-23T17:12:24.020Z"
   },
   {
    "duration": 44,
    "start_time": "2022-05-23T17:12:24.025Z"
   },
   {
    "duration": 24,
    "start_time": "2022-05-23T17:12:24.071Z"
   },
   {
    "duration": 3,
    "start_time": "2022-05-23T17:22:26.315Z"
   },
   {
    "duration": 4,
    "start_time": "2022-05-23T17:22:48.676Z"
   },
   {
    "duration": 13,
    "start_time": "2022-05-23T17:23:12.550Z"
   },
   {
    "duration": 12,
    "start_time": "2022-05-23T17:23:29.576Z"
   },
   {
    "duration": 14,
    "start_time": "2022-05-23T17:26:12.106Z"
   },
   {
    "duration": 15,
    "start_time": "2022-05-23T17:26:25.461Z"
   },
   {
    "duration": 11,
    "start_time": "2022-05-23T17:26:38.097Z"
   },
   {
    "duration": 6,
    "start_time": "2022-05-23T17:26:47.105Z"
   },
   {
    "duration": 8,
    "start_time": "2022-05-23T17:28:39.964Z"
   },
   {
    "duration": 10,
    "start_time": "2022-05-23T17:29:06.289Z"
   },
   {
    "duration": 10,
    "start_time": "2022-05-23T17:29:34.085Z"
   },
   {
    "duration": 9,
    "start_time": "2022-05-23T17:29:53.252Z"
   },
   {
    "duration": 11,
    "start_time": "2022-05-23T17:30:30.104Z"
   },
   {
    "duration": 10,
    "start_time": "2022-05-23T17:31:16.198Z"
   },
   {
    "duration": 10,
    "start_time": "2022-05-23T17:31:21.241Z"
   },
   {
    "duration": 3,
    "start_time": "2022-05-23T17:36:51.243Z"
   },
   {
    "duration": 4,
    "start_time": "2022-05-23T17:36:53.092Z"
   },
   {
    "duration": 5,
    "start_time": "2022-05-23T17:37:23.568Z"
   },
   {
    "duration": 6,
    "start_time": "2022-05-23T17:38:52.940Z"
   },
   {
    "duration": 3,
    "start_time": "2022-05-23T17:38:55.493Z"
   },
   {
    "duration": 9,
    "start_time": "2022-05-23T17:38:55.941Z"
   },
   {
    "duration": 10,
    "start_time": "2022-05-23T17:38:56.589Z"
   },
   {
    "duration": 10,
    "start_time": "2022-05-23T17:38:57.253Z"
   },
   {
    "duration": 3,
    "start_time": "2022-05-23T17:39:49.549Z"
   },
   {
    "duration": 10,
    "start_time": "2022-05-23T17:39:50.052Z"
   },
   {
    "duration": 9,
    "start_time": "2022-05-23T17:39:50.869Z"
   },
   {
    "duration": 10,
    "start_time": "2022-05-23T17:39:51.660Z"
   },
   {
    "duration": 4,
    "start_time": "2022-05-23T17:40:11.738Z"
   },
   {
    "duration": 9,
    "start_time": "2022-05-23T17:40:12.412Z"
   },
   {
    "duration": 9,
    "start_time": "2022-05-23T17:40:12.865Z"
   },
   {
    "duration": 9,
    "start_time": "2022-05-23T17:40:13.297Z"
   },
   {
    "duration": 3,
    "start_time": "2022-05-23T17:52:21.354Z"
   },
   {
    "duration": 3,
    "start_time": "2022-05-23T17:52:58.945Z"
   },
   {
    "duration": 5,
    "start_time": "2022-05-23T17:53:19.566Z"
   },
   {
    "duration": 5,
    "start_time": "2022-05-23T17:53:25.506Z"
   },
   {
    "duration": 1393,
    "start_time": "2022-05-23T17:54:26.319Z"
   },
   {
    "duration": 3,
    "start_time": "2022-05-23T17:55:42.182Z"
   },
   {
    "duration": 3,
    "start_time": "2022-05-23T17:55:45.367Z"
   },
   {
    "duration": 428,
    "start_time": "2022-05-23T17:55:45.372Z"
   },
   {
    "duration": 38,
    "start_time": "2022-05-23T17:55:45.801Z"
   },
   {
    "duration": 134,
    "start_time": "2022-05-23T17:55:45.841Z"
   },
   {
    "duration": 14,
    "start_time": "2022-05-23T17:55:45.977Z"
   },
   {
    "duration": 40,
    "start_time": "2022-05-23T17:55:45.993Z"
   },
   {
    "duration": 35,
    "start_time": "2022-05-23T17:55:46.035Z"
   },
   {
    "duration": 30,
    "start_time": "2022-05-23T17:55:46.072Z"
   },
   {
    "duration": 11,
    "start_time": "2022-05-23T17:55:46.104Z"
   },
   {
    "duration": 10,
    "start_time": "2022-05-23T17:55:46.116Z"
   },
   {
    "duration": 19,
    "start_time": "2022-05-23T17:55:46.128Z"
   },
   {
    "duration": 20,
    "start_time": "2022-05-23T17:55:46.149Z"
   },
   {
    "duration": 14,
    "start_time": "2022-05-23T17:55:46.172Z"
   },
   {
    "duration": 5,
    "start_time": "2022-05-23T17:55:46.188Z"
   },
   {
    "duration": 22,
    "start_time": "2022-05-23T17:55:46.195Z"
   },
   {
    "duration": 95,
    "start_time": "2022-05-23T17:55:46.271Z"
   },
   {
    "duration": 16,
    "start_time": "2022-05-23T17:55:46.368Z"
   },
   {
    "duration": 97,
    "start_time": "2022-05-23T17:55:46.467Z"
   },
   {
    "duration": 23,
    "start_time": "2022-05-23T17:55:46.567Z"
   },
   {
    "duration": 174,
    "start_time": "2022-05-23T17:55:46.593Z"
   },
   {
    "duration": 4,
    "start_time": "2022-05-23T17:55:46.768Z"
   },
   {
    "duration": 12,
    "start_time": "2022-05-23T17:55:46.773Z"
   },
   {
    "duration": 10,
    "start_time": "2022-05-23T17:55:46.787Z"
   },
   {
    "duration": 8,
    "start_time": "2022-05-23T17:55:46.799Z"
   },
   {
    "duration": 18,
    "start_time": "2022-05-23T17:55:46.809Z"
   },
   {
    "duration": 9,
    "start_time": "2022-05-23T17:55:46.829Z"
   },
   {
    "duration": 28,
    "start_time": "2022-05-23T17:55:46.840Z"
   },
   {
    "duration": 4,
    "start_time": "2022-05-23T17:55:46.869Z"
   },
   {
    "duration": 5,
    "start_time": "2022-05-23T17:55:46.875Z"
   },
   {
    "duration": 1388,
    "start_time": "2022-05-23T17:55:46.882Z"
   },
   {
    "duration": 2,
    "start_time": "2022-05-23T17:57:12.451Z"
   },
   {
    "duration": 5,
    "start_time": "2022-05-23T17:57:14.102Z"
   },
   {
    "duration": 1212,
    "start_time": "2022-05-23T17:57:14.574Z"
   },
   {
    "duration": 1222,
    "start_time": "2022-05-23T17:57:56.102Z"
   },
   {
    "duration": 1140,
    "start_time": "2022-05-23T17:59:24.066Z"
   },
   {
    "duration": 7,
    "start_time": "2022-05-23T18:03:12.498Z"
   },
   {
    "duration": 4,
    "start_time": "2022-05-23T18:14:27.647Z"
   },
   {
    "duration": 447,
    "start_time": "2022-05-23T18:14:27.652Z"
   },
   {
    "duration": 39,
    "start_time": "2022-05-23T18:14:28.101Z"
   },
   {
    "duration": 139,
    "start_time": "2022-05-23T18:14:28.141Z"
   },
   {
    "duration": 19,
    "start_time": "2022-05-23T18:14:28.283Z"
   },
   {
    "duration": 35,
    "start_time": "2022-05-23T18:14:28.305Z"
   },
   {
    "duration": 47,
    "start_time": "2022-05-23T18:14:28.342Z"
   },
   {
    "duration": 30,
    "start_time": "2022-05-23T18:14:28.391Z"
   },
   {
    "duration": 11,
    "start_time": "2022-05-23T18:14:28.423Z"
   },
   {
    "duration": 6,
    "start_time": "2022-05-23T18:14:28.436Z"
   },
   {
    "duration": 17,
    "start_time": "2022-05-23T18:14:28.469Z"
   },
   {
    "duration": 15,
    "start_time": "2022-05-23T18:14:28.488Z"
   },
   {
    "duration": 18,
    "start_time": "2022-05-23T18:14:28.504Z"
   },
   {
    "duration": 6,
    "start_time": "2022-05-23T18:14:28.524Z"
   },
   {
    "duration": 53,
    "start_time": "2022-05-23T18:14:28.531Z"
   },
   {
    "duration": 12,
    "start_time": "2022-05-23T18:14:28.590Z"
   },
   {
    "duration": 111,
    "start_time": "2022-05-23T18:14:28.667Z"
   },
   {
    "duration": 17,
    "start_time": "2022-05-23T18:14:28.782Z"
   },
   {
    "duration": 124,
    "start_time": "2022-05-23T18:14:28.803Z"
   },
   {
    "duration": 42,
    "start_time": "2022-05-23T18:14:28.929Z"
   },
   {
    "duration": 129,
    "start_time": "2022-05-23T18:14:28.973Z"
   },
   {
    "duration": 12,
    "start_time": "2022-05-23T18:14:29.104Z"
   },
   {
    "duration": 15,
    "start_time": "2022-05-23T18:14:29.118Z"
   },
   {
    "duration": 8,
    "start_time": "2022-05-23T18:14:29.136Z"
   },
   {
    "duration": 24,
    "start_time": "2022-05-23T18:14:29.146Z"
   },
   {
    "duration": 31,
    "start_time": "2022-05-23T18:14:29.176Z"
   },
   {
    "duration": 13,
    "start_time": "2022-05-23T18:14:29.209Z"
   },
   {
    "duration": 4,
    "start_time": "2022-05-23T18:14:29.224Z"
   },
   {
    "duration": 7,
    "start_time": "2022-05-23T18:14:29.232Z"
   },
   {
    "duration": 1263,
    "start_time": "2022-05-23T18:14:29.241Z"
   },
   {
    "duration": 1277,
    "start_time": "2022-05-23T18:14:30.506Z"
   },
   {
    "duration": 1263,
    "start_time": "2022-05-23T18:14:31.784Z"
   },
   {
    "duration": 3,
    "start_time": "2022-05-23T18:15:52.506Z"
   },
   {
    "duration": 467,
    "start_time": "2022-05-23T18:15:53.187Z"
   },
   {
    "duration": 50,
    "start_time": "2022-05-23T18:15:54.152Z"
   },
   {
    "duration": 117,
    "start_time": "2022-05-23T18:15:55.053Z"
   },
   {
    "duration": 15,
    "start_time": "2022-05-23T18:15:56.748Z"
   },
   {
    "duration": 30,
    "start_time": "2022-05-23T18:15:57.205Z"
   },
   {
    "duration": 23,
    "start_time": "2022-05-23T18:15:57.722Z"
   },
   {
    "duration": 36,
    "start_time": "2022-05-23T18:15:58.147Z"
   },
   {
    "duration": 11,
    "start_time": "2022-05-23T18:15:59.392Z"
   },
   {
    "duration": 5,
    "start_time": "2022-05-23T18:15:59.814Z"
   },
   {
    "duration": 12,
    "start_time": "2022-05-23T18:16:00.188Z"
   },
   {
    "duration": 8,
    "start_time": "2022-05-23T18:16:00.684Z"
   },
   {
    "duration": 12,
    "start_time": "2022-05-23T18:16:01.091Z"
   },
   {
    "duration": 6,
    "start_time": "2022-05-23T18:16:01.548Z"
   },
   {
    "duration": 23,
    "start_time": "2022-05-23T18:16:02.038Z"
   },
   {
    "duration": 10,
    "start_time": "2022-05-23T18:16:06.985Z"
   },
   {
    "duration": 11,
    "start_time": "2022-05-23T18:16:07.327Z"
   },
   {
    "duration": 5,
    "start_time": "2022-05-23T18:16:16.894Z"
   },
   {
    "duration": 15,
    "start_time": "2022-05-23T18:16:17.350Z"
   },
   {
    "duration": 5,
    "start_time": "2022-05-23T18:16:17.726Z"
   },
   {
    "duration": 15,
    "start_time": "2022-05-23T18:16:18.210Z"
   },
   {
    "duration": 6,
    "start_time": "2022-05-23T18:16:18.694Z"
   },
   {
    "duration": 25,
    "start_time": "2022-05-23T18:16:19.097Z"
   },
   {
    "duration": 7,
    "start_time": "2022-05-23T18:16:19.522Z"
   },
   {
    "duration": 3,
    "start_time": "2022-05-23T18:16:20.802Z"
   },
   {
    "duration": 3,
    "start_time": "2022-05-23T18:16:21.651Z"
   },
   {
    "duration": 6,
    "start_time": "2022-05-23T18:16:23.202Z"
   },
   {
    "duration": 6,
    "start_time": "2022-05-23T18:16:23.682Z"
   },
   {
    "duration": 10,
    "start_time": "2022-05-23T18:16:24.122Z"
   },
   {
    "duration": 16,
    "start_time": "2022-05-23T18:16:24.767Z"
   },
   {
    "duration": 16,
    "start_time": "2022-05-23T18:16:25.262Z"
   },
   {
    "duration": 4,
    "start_time": "2022-05-23T18:16:28.950Z"
   },
   {
    "duration": 5,
    "start_time": "2022-05-23T18:16:29.490Z"
   },
   {
    "duration": 1262,
    "start_time": "2022-05-23T18:16:29.962Z"
   },
   {
    "duration": 1298,
    "start_time": "2022-05-23T18:16:31.226Z"
   },
   {
    "duration": 1304,
    "start_time": "2022-05-23T18:16:32.526Z"
   },
   {
    "duration": 32,
    "start_time": "2022-05-24T11:37:57.777Z"
   },
   {
    "duration": 42,
    "start_time": "2022-05-24T11:42:55.670Z"
   },
   {
    "duration": 1432,
    "start_time": "2022-10-29T18:32:23.173Z"
   },
   {
    "duration": 2132,
    "start_time": "2022-10-29T18:32:24.607Z"
   },
   {
    "duration": 45,
    "start_time": "2022-10-29T18:32:26.741Z"
   },
   {
    "duration": 142,
    "start_time": "2022-10-29T18:32:26.789Z"
   },
   {
    "duration": 16,
    "start_time": "2022-10-29T18:32:26.932Z"
   },
   {
    "duration": 43,
    "start_time": "2022-10-29T18:32:26.949Z"
   },
   {
    "duration": 41,
    "start_time": "2022-10-29T18:32:26.994Z"
   },
   {
    "duration": 40,
    "start_time": "2022-10-29T18:32:27.036Z"
   },
   {
    "duration": 17,
    "start_time": "2022-10-29T18:32:27.078Z"
   },
   {
    "duration": 27,
    "start_time": "2022-10-29T18:32:27.102Z"
   },
   {
    "duration": 23,
    "start_time": "2022-10-29T18:32:27.131Z"
   },
   {
    "duration": 8,
    "start_time": "2022-10-29T18:32:27.156Z"
   },
   {
    "duration": 20,
    "start_time": "2022-10-29T18:32:27.166Z"
   },
   {
    "duration": 7,
    "start_time": "2022-10-29T18:32:27.188Z"
   },
   {
    "duration": 44,
    "start_time": "2022-10-29T18:32:27.197Z"
   },
   {
    "duration": 179,
    "start_time": "2022-10-29T18:32:27.244Z"
   },
   {
    "duration": 19,
    "start_time": "2022-10-29T18:32:27.426Z"
   },
   {
    "duration": 9,
    "start_time": "2022-10-29T18:32:27.523Z"
   },
   {
    "duration": 15,
    "start_time": "2022-10-29T18:32:27.625Z"
   },
   {
    "duration": 102,
    "start_time": "2022-10-29T18:32:27.724Z"
   },
   {
    "duration": 4,
    "start_time": "2022-10-29T18:32:27.828Z"
   },
   {
    "duration": 8,
    "start_time": "2022-10-29T18:32:27.833Z"
   },
   {
    "duration": 7,
    "start_time": "2022-10-29T18:32:27.843Z"
   },
   {
    "duration": 8,
    "start_time": "2022-10-29T18:32:27.852Z"
   },
   {
    "duration": 14,
    "start_time": "2022-10-29T18:32:27.862Z"
   },
   {
    "duration": 11,
    "start_time": "2022-10-29T18:32:27.877Z"
   },
   {
    "duration": 43,
    "start_time": "2022-10-29T18:32:27.889Z"
   },
   {
    "duration": 3,
    "start_time": "2022-10-29T18:32:27.935Z"
   },
   {
    "duration": 9,
    "start_time": "2022-10-29T18:32:27.939Z"
   },
   {
    "duration": 1119,
    "start_time": "2022-10-29T18:32:27.950Z"
   },
   {
    "duration": 1184,
    "start_time": "2022-10-29T18:32:29.070Z"
   },
   {
    "duration": 1185,
    "start_time": "2022-10-29T18:32:30.256Z"
   }
  ],
  "kernelspec": {
   "display_name": "Python 3 (ipykernel)",
   "language": "python",
   "name": "python3"
  },
  "language_info": {
   "codemirror_mode": {
    "name": "ipython",
    "version": 3
   },
   "file_extension": ".py",
   "mimetype": "text/x-python",
   "name": "python",
   "nbconvert_exporter": "python",
   "pygments_lexer": "ipython3",
   "version": "3.9.5"
  },
  "toc": {
   "base_numbering": 1,
   "nav_menu": {},
   "number_sections": true,
   "sideBar": true,
   "skip_h1_title": true,
   "title_cell": "Table of Contents",
   "title_sidebar": "Contents",
   "toc_cell": false,
   "toc_position": {},
   "toc_section_display": true,
   "toc_window_display": false
  }
 },
 "nbformat": 4,
 "nbformat_minor": 2
}
