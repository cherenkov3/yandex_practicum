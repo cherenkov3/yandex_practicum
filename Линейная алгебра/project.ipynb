{
 "cells": [
  {
   "cell_type": "markdown",
   "metadata": {},
   "source": [
    "# Защита персональных данных клиентов"
   ]
  },
  {
   "cell_type": "markdown",
   "metadata": {},
   "source": [
    "## Загрузка данных"
   ]
  },
  {
   "cell_type": "code",
   "execution_count": 28,
   "metadata": {},
   "outputs": [],
   "source": [
    "import pandas as pd\n",
    "from sklearn.datasets import make_spd_matrix\n",
    "from sklearn.model_selection import train_test_split, cross_val_score\n",
    "from sklearn.linear_model import LinearRegression\n",
    "from sklearn.metrics import r2_score\n",
    "from numpy.linalg import inv, cond\n",
    "import numpy as np"
   ]
  },
  {
   "cell_type": "code",
   "execution_count": 29,
   "metadata": {},
   "outputs": [],
   "source": [
    "data = pd.read_csv('/datasets/insurance.csv')"
   ]
  },
  {
   "cell_type": "code",
   "execution_count": 30,
   "metadata": {},
   "outputs": [
    {
     "name": "stdout",
     "output_type": "stream",
     "text": [
      "<class 'pandas.core.frame.DataFrame'>\n",
      "RangeIndex: 5000 entries, 0 to 4999\n",
      "Data columns (total 5 columns):\n",
      " #   Column             Non-Null Count  Dtype  \n",
      "---  ------             --------------  -----  \n",
      " 0   Пол                5000 non-null   int64  \n",
      " 1   Возраст            5000 non-null   float64\n",
      " 2   Зарплата           5000 non-null   float64\n",
      " 3   Члены семьи        5000 non-null   int64  \n",
      " 4   Страховые выплаты  5000 non-null   int64  \n",
      "dtypes: float64(2), int64(3)\n",
      "memory usage: 195.4 KB\n",
      "None\n"
     ]
    },
    {
     "data": {
      "text/html": [
       "<div>\n",
       "<style scoped>\n",
       "    .dataframe tbody tr th:only-of-type {\n",
       "        vertical-align: middle;\n",
       "    }\n",
       "\n",
       "    .dataframe tbody tr th {\n",
       "        vertical-align: top;\n",
       "    }\n",
       "\n",
       "    .dataframe thead th {\n",
       "        text-align: right;\n",
       "    }\n",
       "</style>\n",
       "<table border=\"1\" class=\"dataframe\">\n",
       "  <thead>\n",
       "    <tr style=\"text-align: right;\">\n",
       "      <th></th>\n",
       "      <th>Пол</th>\n",
       "      <th>Возраст</th>\n",
       "      <th>Зарплата</th>\n",
       "      <th>Члены семьи</th>\n",
       "      <th>Страховые выплаты</th>\n",
       "    </tr>\n",
       "  </thead>\n",
       "  <tbody>\n",
       "    <tr>\n",
       "      <th>0</th>\n",
       "      <td>1</td>\n",
       "      <td>41.0</td>\n",
       "      <td>49600.0</td>\n",
       "      <td>1</td>\n",
       "      <td>0</td>\n",
       "    </tr>\n",
       "    <tr>\n",
       "      <th>1</th>\n",
       "      <td>0</td>\n",
       "      <td>46.0</td>\n",
       "      <td>38000.0</td>\n",
       "      <td>1</td>\n",
       "      <td>1</td>\n",
       "    </tr>\n",
       "    <tr>\n",
       "      <th>2</th>\n",
       "      <td>0</td>\n",
       "      <td>29.0</td>\n",
       "      <td>21000.0</td>\n",
       "      <td>0</td>\n",
       "      <td>0</td>\n",
       "    </tr>\n",
       "    <tr>\n",
       "      <th>3</th>\n",
       "      <td>0</td>\n",
       "      <td>21.0</td>\n",
       "      <td>41700.0</td>\n",
       "      <td>2</td>\n",
       "      <td>0</td>\n",
       "    </tr>\n",
       "    <tr>\n",
       "      <th>4</th>\n",
       "      <td>1</td>\n",
       "      <td>28.0</td>\n",
       "      <td>26100.0</td>\n",
       "      <td>0</td>\n",
       "      <td>0</td>\n",
       "    </tr>\n",
       "  </tbody>\n",
       "</table>\n",
       "</div>"
      ],
      "text/plain": [
       "   Пол  Возраст  Зарплата  Члены семьи  Страховые выплаты\n",
       "0    1     41.0   49600.0            1                  0\n",
       "1    0     46.0   38000.0            1                  1\n",
       "2    0     29.0   21000.0            0                  0\n",
       "3    0     21.0   41700.0            2                  0\n",
       "4    1     28.0   26100.0            0                  0"
      ]
     },
     "execution_count": 30,
     "metadata": {},
     "output_type": "execute_result"
    }
   ],
   "source": [
    "print(data.info())\n",
    "data.head()"
   ]
  },
  {
   "cell_type": "markdown",
   "metadata": {},
   "source": [
    "Предоставленные данные состоят из 5 столбцов. 4 из них - признаки, а один - Страховые выплаты - целевой признак. Пропущенных значений нет, но можно проверить датасет на наличие дубликатов."
   ]
  },
  {
   "cell_type": "code",
   "execution_count": 31,
   "metadata": {},
   "outputs": [
    {
     "data": {
      "text/plain": [
       "False    4847\n",
       "True      153\n",
       "dtype: int64"
      ]
     },
     "execution_count": 31,
     "metadata": {},
     "output_type": "execute_result"
    }
   ],
   "source": [
    "data.duplicated().value_counts()"
   ]
  },
  {
   "cell_type": "markdown",
   "metadata": {},
   "source": [
    "Дубликаты есть, но так как совпадение по всем признакам маловероятно, избавимся от них."
   ]
  },
  {
   "cell_type": "code",
   "execution_count": 32,
   "metadata": {},
   "outputs": [],
   "source": [
    "data.drop_duplicates(inplace=True)"
   ]
  },
  {
   "cell_type": "code",
   "execution_count": 33,
   "metadata": {},
   "outputs": [
    {
     "data": {
      "text/plain": [
       "False    4847\n",
       "dtype: int64"
      ]
     },
     "execution_count": 33,
     "metadata": {},
     "output_type": "execute_result"
    }
   ],
   "source": [
    "data.duplicated().value_counts()"
   ]
  },
  {
   "cell_type": "markdown",
   "metadata": {},
   "source": [
    "Переименуем столбцы датасета для удобства."
   ]
  },
  {
   "cell_type": "code",
   "execution_count": 34,
   "metadata": {},
   "outputs": [],
   "source": [
    "data.columns = ['sex', 'age', 'salary', 'family_members', 'insurance_payments']"
   ]
  },
  {
   "cell_type": "markdown",
   "metadata": {},
   "source": [
    "## Умножение матриц"
   ]
  },
  {
   "cell_type": "markdown",
   "metadata": {},
   "source": [
    "Обозначения:\n",
    "\n",
    "- $X$ — матрица признаков (нулевой столбец состоит из единиц)\n",
    "\n",
    "- $y$ — вектор целевого признака\n",
    "\n",
    "- $P$ — матрица, на которую умножаются признаки\n",
    "\n",
    "- $w$ — вектор весов линейной регрессии (нулевой элемент равен сдвигу)"
   ]
  },
  {
   "cell_type": "markdown",
   "metadata": {},
   "source": [
    "**Вопрос:** Признаки умножают на обратимую матрицу. Изменится ли качество линейной регрессии?\n",
    "\n",
    "\n",
    "**Ответ:** Нет, не изменится.\n"
   ]
  },
  {
   "cell_type": "markdown",
   "metadata": {},
   "source": [
    "**Обоснование:**\n",
    "\n",
    "\n",
    "Предсказания:\n",
    "\n",
    "$$\n",
    "a = Xw\n",
    "$$\n",
    "\n",
    "Задача обучения:\n",
    "\n",
    "$$\n",
    "w = \\arg\\min_w MSE(Xw, y)\n",
    "$$\n",
    "\n",
    "Формула обучения:\n",
    "\n",
    "$$\n",
    "w = (X^T X)^{-1} X^T y\n",
    "$$\n",
    "\n",
    "Умножим матрицу признаков X на обратимую матрицу P:\n",
    "\n",
    "$$\n",
    "a' = (XP)w'\n",
    "$$\n",
    "\n",
    "\n",
    "$$\n",
    "w' = ((XP)^T XP)^{-1} (XP)^T y\n",
    "$$\n",
    "\n",
    "Транспонированное произведение матриц равно произведению транспонированных матриц, взятых в обратном порядке\n",
    "\n",
    "$$\n",
    "w' = (P^TX^TXP)^{-1}P^TX^Ty\n",
    "$$\n",
    "\n",
    "Используя формулу\n",
    "\n",
    "$$ \n",
    "(A * B)^{-1} = B^{-1} * A^{-1}\n",
    "$$\n",
    "\n",
    "где A и B квадратные\n",
    "\n",
    "$\n",
    "P,P^T , X^TX квадратные\n",
    "$\n",
    "\n",
    "$$\n",
    "w' = P^{-1}(X^TX)^{-1}(P^T)^{-1}P^TX^Ty\n",
    "$$\n",
    "\n",
    "Умножение матрицы на обратную матрицу равно единичной матрице\n",
    "\n",
    "$$\n",
    "w' = P^{-1}(X^TX)^{-1}IX^Ty\n",
    "$$\n",
    "\n",
    "Умножение любой матрицы на единичную равно этой самой матрице.\n",
    "\n",
    "$$\n",
    "w' = P^{-1}(X^TX)^{-1}X^Ty\n",
    "$$\n",
    "\n",
    "$$\n",
    "a' = XPw'\n",
    "$$\n",
    "\n",
    "$$\n",
    "a' = XPP^{-1}(X^TX)^{-1}X^Ty\n",
    "$$\n",
    "\n",
    "$$\n",
    "a' = X(X^TX)^{-1}X^Ty\n",
    "$$\n",
    "\n",
    "$$\n",
    "a' = Xw\n",
    "$$"
   ]
  },
  {
   "cell_type": "markdown",
   "metadata": {},
   "source": [
    "## Алгоритм преобразования"
   ]
  },
  {
   "cell_type": "markdown",
   "metadata": {},
   "source": [
    "**Алгоритм**\n",
    "\n",
    "В качестве алгоритма преобразования примем домножение обучающих признаков X на случайную обратимую матрицу P размером 4х4. Создадим модель линейной регрессии до преобразования и посчитаем метрику R2. Далее умножим исходные признаки на обратимую матрицу и на основе полученных значений вновь посчитаем метрику R2. Метрики R2 по итогу должны быть равны."
   ]
  },
  {
   "cell_type": "markdown",
   "metadata": {},
   "source": [
    "**Обоснование**\n",
    "\n",
    "Как было показано в предыдущем пункте, домножение признаков на какую-либо обратимую матрицу не приводит к изменению предсказаний, поэтому результаты R2 должны оказаться равны."
   ]
  },
  {
   "cell_type": "markdown",
   "metadata": {},
   "source": [
    "## Проверка алгоритма"
   ]
  },
  {
   "cell_type": "markdown",
   "metadata": {},
   "source": [
    "Выделим из датасета набор признаков и целевой признак."
   ]
  },
  {
   "cell_type": "code",
   "execution_count": 35,
   "metadata": {},
   "outputs": [],
   "source": [
    "insurance_features = data.drop('insurance_payments', axis=1)"
   ]
  },
  {
   "cell_type": "code",
   "execution_count": 36,
   "metadata": {},
   "outputs": [],
   "source": [
    "insurance_target = data['insurance_payments']"
   ]
  },
  {
   "cell_type": "markdown",
   "metadata": {},
   "source": [
    "Получим матрицу из значений набора признаков."
   ]
  },
  {
   "cell_type": "code",
   "execution_count": 37,
   "metadata": {},
   "outputs": [],
   "source": [
    "insurance_features_matrix = insurance_features.values"
   ]
  },
  {
   "cell_type": "code",
   "execution_count": 38,
   "metadata": {},
   "outputs": [
    {
     "data": {
      "text/plain": [
       "array([[1.00e+00, 4.10e+01, 4.96e+04, 1.00e+00],\n",
       "       [0.00e+00, 4.60e+01, 3.80e+04, 1.00e+00],\n",
       "       [0.00e+00, 2.90e+01, 2.10e+04, 0.00e+00],\n",
       "       ...,\n",
       "       [0.00e+00, 2.00e+01, 3.39e+04, 2.00e+00],\n",
       "       [1.00e+00, 2.20e+01, 3.27e+04, 3.00e+00],\n",
       "       [1.00e+00, 2.80e+01, 4.06e+04, 1.00e+00]])"
      ]
     },
     "metadata": {},
     "output_type": "display_data"
    }
   ],
   "source": [
    "display(insurance_features_matrix)"
   ]
  },
  {
   "cell_type": "markdown",
   "metadata": {},
   "source": [
    "Создадим рандомную матрицу нужного размера с помощью инструмента make_spd_matrix библиотеки sklearn."
   ]
  },
  {
   "cell_type": "code",
   "execution_count": 39,
   "metadata": {},
   "outputs": [
    {
     "data": {
      "text/plain": [
       "array([[ 1.37245706, -1.03845957, -0.84389737, -0.26033015],\n",
       "       [-1.03845957,  2.87886199,  1.67157893,  0.48470484],\n",
       "       [-0.84389737,  1.67157893,  2.10204907,  0.3257384 ],\n",
       "       [-0.26033015,  0.48470484,  0.3257384 ,  1.01695329]])"
      ]
     },
     "metadata": {},
     "output_type": "display_data"
    }
   ],
   "source": [
    "random_matrix = make_spd_matrix(n_dim=4, random_state=12345)\n",
    "display(random_matrix)"
   ]
  },
  {
   "cell_type": "markdown",
   "metadata": {},
   "source": [
    "Проверим матрицу на обратимость - вероятность сгенерировать необратимую матрицу очень мала, но все же есть. При использовании необратимой матрицы дальнейшая работа по описанному алгоритму невозможна. Для проверки будем использовать функцию numpy.linalg.inv(), если матрица необратима, то код упадет с ошибкой."
   ]
  },
  {
   "cell_type": "code",
   "execution_count": 40,
   "metadata": {},
   "outputs": [
    {
     "data": {
      "text/plain": [
       "array([[ 1.06341364,  0.23949912,  0.22304514,  0.08662924],\n",
       "       [ 0.23949912,  0.72198481, -0.45683306, -0.13647886],\n",
       "       [ 0.22304514, -0.45683306,  0.93223396, -0.0237669 ],\n",
       "       [ 0.08662924, -0.13647886, -0.0237669 ,  1.07816747]])"
      ]
     },
     "execution_count": 40,
     "metadata": {},
     "output_type": "execute_result"
    }
   ],
   "source": [
    "inv(random_matrix)"
   ]
  },
  {
   "cell_type": "markdown",
   "metadata": {},
   "source": [
    "Матрица обратима, двигаемся дальше."
   ]
  },
  {
   "cell_type": "code",
   "execution_count": 41,
   "metadata": {},
   "outputs": [],
   "source": [
    "#перемножим матрицы\n",
    "transformed_matrix = insurance_features_matrix @ random_matrix\n",
    "features_transformed = list(transformed_matrix)"
   ]
  },
  {
   "cell_type": "markdown",
   "metadata": {},
   "source": [
    "Разделим набор признаков и целевой признак исходного датасета на обучающую и тестовую выборки."
   ]
  },
  {
   "cell_type": "code",
   "execution_count": 42,
   "metadata": {},
   "outputs": [],
   "source": [
    "features_train_origin, features_test_origin = train_test_split(insurance_features, test_size=0.25, random_state=12345)"
   ]
  },
  {
   "cell_type": "code",
   "execution_count": 43,
   "metadata": {},
   "outputs": [],
   "source": [
    "target_train_origin, target_test_origin = train_test_split(insurance_target, test_size=0.25,random_state=12345)"
   ]
  },
  {
   "cell_type": "markdown",
   "metadata": {},
   "source": [
    "Создадим модели."
   ]
  },
  {
   "cell_type": "code",
   "execution_count": 44,
   "metadata": {},
   "outputs": [],
   "source": [
    "model1 = LinearRegression()\n",
    "model2 = LinearRegression()"
   ]
  },
  {
   "cell_type": "markdown",
   "metadata": {},
   "source": [
    "Обучим первую модель, сделаем предсказание и оценим качество модели."
   ]
  },
  {
   "cell_type": "code",
   "execution_count": 45,
   "metadata": {},
   "outputs": [
    {
     "data": {
      "text/plain": [
       "LinearRegression()"
      ]
     },
     "execution_count": 45,
     "metadata": {},
     "output_type": "execute_result"
    }
   ],
   "source": [
    "model1.fit(features_train_origin, target_train_origin)"
   ]
  },
  {
   "cell_type": "code",
   "execution_count": 46,
   "metadata": {},
   "outputs": [
    {
     "name": "stdout",
     "output_type": "stream",
     "text": [
      "R2 исходного набора данных: 0.42307727492147584\n"
     ]
    }
   ],
   "source": [
    "predicted_origin = model1.predict(features_test_origin)\n",
    "print(\"R2 исходного набора данных:\", r2_score(target_test_origin,predicted_origin))"
   ]
  },
  {
   "cell_type": "markdown",
   "metadata": {},
   "source": [
    "Разделим набор признаков преобразованного датасета на обучающую и тестовую выборки. Обучим вторую модель, сделаем предсказание и оценим качество модели."
   ]
  },
  {
   "cell_type": "code",
   "execution_count": 47,
   "metadata": {},
   "outputs": [],
   "source": [
    "features_train_transformed, features_test_transformed = train_test_split(features_transformed, test_size=0.25, random_state=12345)"
   ]
  },
  {
   "cell_type": "code",
   "execution_count": 48,
   "metadata": {},
   "outputs": [
    {
     "data": {
      "text/plain": [
       "LinearRegression()"
      ]
     },
     "execution_count": 48,
     "metadata": {},
     "output_type": "execute_result"
    }
   ],
   "source": [
    "model2.fit(features_train_transformed, target_train_origin)"
   ]
  },
  {
   "cell_type": "code",
   "execution_count": 49,
   "metadata": {},
   "outputs": [
    {
     "name": "stdout",
     "output_type": "stream",
     "text": [
      "R2 преобразованного набора данных: 0.423077274921817\n"
     ]
    }
   ],
   "source": [
    "predicted_transformed = model2.predict(features_test_transformed)\n",
    "print(\"R2 преобразованного набора данных:\", r2_score(target_test_origin,predicted_transformed))"
   ]
  },
  {
   "cell_type": "markdown",
   "metadata": {},
   "source": [
    "Показатели R2 очень низкие,но отличаются совсем незначительно.\n",
    "\n",
    "Попробуем восстановить исходную матрицу, используя формулу из шага 3.\n",
    "\n",
    "$$\n",
    "Z@P^{-1} = X\n",
    "$$"
   ]
  },
  {
   "cell_type": "code",
   "execution_count": 50,
   "metadata": {},
   "outputs": [],
   "source": [
    "final_matrix = transformed_matrix.dot(inv(random_matrix))"
   ]
  },
  {
   "cell_type": "code",
   "execution_count": 51,
   "metadata": {},
   "outputs": [
    {
     "data": {
      "text/plain": [
       "array([[ True,  True,  True,  True],\n",
       "       [ True,  True,  True,  True],\n",
       "       [ True,  True,  True,  True],\n",
       "       ...,\n",
       "       [ True,  True,  True,  True],\n",
       "       [ True,  True,  True,  True],\n",
       "       [ True,  True,  True,  True]])"
      ]
     },
     "execution_count": 51,
     "metadata": {},
     "output_type": "execute_result"
    }
   ],
   "source": [
    "#сравним округленные матрицы\n",
    "np.round(final_matrix) == np.round(insurance_features_matrix)"
   ]
  },
  {
   "cell_type": "markdown",
   "metadata": {},
   "source": [
    "# Вывод\n",
    "Матрицы одинаковы. Таким образом, мы реализовали алгоритм, описанный в шаге 3 и доказали, что качество линейной регрессии не меняется при умножении матрицы признаков на любую обратимую матрицу P."
   ]
  }
 ],
 "metadata": {
  "ExecuteTimeLog": [
   {
    "duration": 3,
    "start_time": "2022-06-22T17:35:36.420Z"
   },
   {
    "duration": 106,
    "start_time": "2022-06-22T17:35:36.870Z"
   },
   {
    "duration": 25,
    "start_time": "2022-06-22T17:36:15.164Z"
   },
   {
    "duration": 7,
    "start_time": "2022-06-22T17:37:31.989Z"
   },
   {
    "duration": 4,
    "start_time": "2022-06-22T17:38:47.149Z"
   },
   {
    "duration": 8,
    "start_time": "2022-06-22T17:39:05.141Z"
   },
   {
    "duration": 3,
    "start_time": "2022-06-22T17:40:15.801Z"
   },
   {
    "duration": 3,
    "start_time": "2022-06-22T17:40:24.296Z"
   },
   {
    "duration": 4,
    "start_time": "2022-06-22T17:54:44.469Z"
   },
   {
    "duration": 3,
    "start_time": "2022-06-22T17:55:05.345Z"
   },
   {
    "duration": 5,
    "start_time": "2022-06-22T17:55:16.943Z"
   },
   {
    "duration": 3,
    "start_time": "2022-06-22T17:55:52.685Z"
   },
   {
    "duration": 4,
    "start_time": "2022-06-22T17:56:07.877Z"
   },
   {
    "duration": 4,
    "start_time": "2022-06-22T17:56:15.006Z"
   },
   {
    "duration": 6,
    "start_time": "2022-06-22T17:56:59.669Z"
   },
   {
    "duration": 4,
    "start_time": "2022-06-22T17:57:53.033Z"
   },
   {
    "duration": 6,
    "start_time": "2022-06-22T17:58:51.001Z"
   },
   {
    "duration": 5,
    "start_time": "2022-06-22T17:59:42.385Z"
   },
   {
    "duration": 3,
    "start_time": "2022-06-22T17:59:58.581Z"
   },
   {
    "duration": 4,
    "start_time": "2022-06-22T18:00:18.593Z"
   },
   {
    "duration": 2,
    "start_time": "2022-06-22T18:00:53.333Z"
   },
   {
    "duration": 8,
    "start_time": "2022-06-22T18:01:24.933Z"
   },
   {
    "duration": 5,
    "start_time": "2022-06-22T18:01:49.717Z"
   },
   {
    "duration": 5,
    "start_time": "2022-06-22T18:02:05.834Z"
   },
   {
    "duration": 5,
    "start_time": "2022-06-22T18:02:43.881Z"
   },
   {
    "duration": 8,
    "start_time": "2022-06-22T18:02:57.945Z"
   },
   {
    "duration": 4,
    "start_time": "2022-06-22T18:03:15.205Z"
   },
   {
    "duration": 6,
    "start_time": "2022-06-22T18:03:35.713Z"
   },
   {
    "duration": 3,
    "start_time": "2022-06-22T18:05:36.099Z"
   },
   {
    "duration": 4,
    "start_time": "2022-06-22T18:05:53.666Z"
   },
   {
    "duration": 1215,
    "start_time": "2022-06-23T03:37:59.535Z"
   },
   {
    "duration": 79,
    "start_time": "2022-06-23T03:38:00.752Z"
   },
   {
    "duration": 24,
    "start_time": "2022-06-23T03:38:00.833Z"
   },
   {
    "duration": 10,
    "start_time": "2022-06-23T03:38:00.859Z"
   },
   {
    "duration": 9,
    "start_time": "2022-06-23T03:38:00.871Z"
   },
   {
    "duration": 11,
    "start_time": "2022-06-23T03:38:00.882Z"
   },
   {
    "duration": 10,
    "start_time": "2022-06-23T03:38:00.894Z"
   },
   {
    "duration": 12,
    "start_time": "2022-06-23T03:38:00.906Z"
   },
   {
    "duration": 12,
    "start_time": "2022-06-23T03:38:00.920Z"
   },
   {
    "duration": 15,
    "start_time": "2022-06-23T03:38:00.934Z"
   },
   {
    "duration": 28,
    "start_time": "2022-06-23T03:38:00.950Z"
   },
   {
    "duration": 13,
    "start_time": "2022-06-23T03:38:00.980Z"
   },
   {
    "duration": 15,
    "start_time": "2022-06-23T03:38:00.995Z"
   },
   {
    "duration": 29,
    "start_time": "2022-06-23T03:38:01.012Z"
   },
   {
    "duration": 100,
    "start_time": "2022-06-23T03:38:01.043Z"
   },
   {
    "duration": 32,
    "start_time": "2022-06-23T03:38:01.145Z"
   },
   {
    "duration": 20,
    "start_time": "2022-06-23T03:38:01.179Z"
   },
   {
    "duration": 18,
    "start_time": "2022-06-23T03:38:01.201Z"
   },
   {
    "duration": 27,
    "start_time": "2022-06-23T03:38:01.220Z"
   },
   {
    "duration": 11,
    "start_time": "2022-06-23T03:38:01.248Z"
   },
   {
    "duration": 63,
    "start_time": "2022-06-23T03:38:01.261Z"
   },
   {
    "duration": 11,
    "start_time": "2022-06-23T03:38:01.326Z"
   },
   {
    "duration": 7,
    "start_time": "2022-06-23T03:38:01.338Z"
   },
   {
    "duration": 18,
    "start_time": "2022-06-23T03:38:01.347Z"
   },
   {
    "duration": 46,
    "start_time": "2022-06-23T17:47:24.296Z"
   },
   {
    "duration": 1139,
    "start_time": "2022-06-23T17:47:28.196Z"
   },
   {
    "duration": 87,
    "start_time": "2022-06-23T17:47:29.337Z"
   },
   {
    "duration": 25,
    "start_time": "2022-06-23T17:47:29.426Z"
   },
   {
    "duration": 6,
    "start_time": "2022-06-23T17:47:29.453Z"
   },
   {
    "duration": 21,
    "start_time": "2022-06-23T17:47:29.461Z"
   },
   {
    "duration": 9,
    "start_time": "2022-06-23T17:47:29.484Z"
   },
   {
    "duration": 3,
    "start_time": "2022-06-23T17:47:29.495Z"
   },
   {
    "duration": 10,
    "start_time": "2022-06-23T17:47:29.499Z"
   },
   {
    "duration": 5,
    "start_time": "2022-06-23T17:47:29.511Z"
   },
   {
    "duration": 10,
    "start_time": "2022-06-23T17:47:29.518Z"
   },
   {
    "duration": 7,
    "start_time": "2022-06-23T17:47:29.530Z"
   },
   {
    "duration": 14,
    "start_time": "2022-06-23T17:47:29.539Z"
   },
   {
    "duration": 10,
    "start_time": "2022-06-23T17:47:29.554Z"
   },
   {
    "duration": 23,
    "start_time": "2022-06-23T17:47:29.566Z"
   },
   {
    "duration": 36,
    "start_time": "2022-06-23T17:47:29.659Z"
   },
   {
    "duration": 6,
    "start_time": "2022-06-23T17:47:29.697Z"
   },
   {
    "duration": 59,
    "start_time": "2022-06-23T17:47:29.704Z"
   },
   {
    "duration": 25,
    "start_time": "2022-06-23T17:47:29.765Z"
   },
   {
    "duration": 13,
    "start_time": "2022-06-23T17:47:29.791Z"
   },
   {
    "duration": 8,
    "start_time": "2022-06-23T17:47:29.806Z"
   },
   {
    "duration": 13,
    "start_time": "2022-06-23T17:47:29.815Z"
   },
   {
    "duration": 6,
    "start_time": "2022-06-23T17:47:29.829Z"
   },
   {
    "duration": 14,
    "start_time": "2022-06-23T17:47:29.837Z"
   },
   {
    "duration": 21,
    "start_time": "2022-06-23T17:47:29.863Z"
   },
   {
    "duration": 13,
    "start_time": "2022-06-23T17:47:53.261Z"
   },
   {
    "duration": 60,
    "start_time": "2022-06-23T18:37:50.837Z"
   },
   {
    "duration": 3,
    "start_time": "2022-06-23T18:37:59.145Z"
   },
   {
    "duration": 44,
    "start_time": "2022-06-23T18:37:59.149Z"
   },
   {
    "duration": 15,
    "start_time": "2022-06-23T18:37:59.195Z"
   },
   {
    "duration": 5,
    "start_time": "2022-06-23T18:37:59.212Z"
   },
   {
    "duration": 23,
    "start_time": "2022-06-23T18:37:59.219Z"
   },
   {
    "duration": 26,
    "start_time": "2022-06-23T18:37:59.243Z"
   },
   {
    "duration": 12,
    "start_time": "2022-06-23T18:37:59.271Z"
   },
   {
    "duration": 7,
    "start_time": "2022-06-23T18:37:59.285Z"
   },
   {
    "duration": 15,
    "start_time": "2022-06-23T18:37:59.294Z"
   },
   {
    "duration": 13,
    "start_time": "2022-06-23T18:37:59.312Z"
   },
   {
    "duration": 18,
    "start_time": "2022-06-23T18:37:59.326Z"
   },
   {
    "duration": 21,
    "start_time": "2022-06-23T18:37:59.346Z"
   },
   {
    "duration": 20,
    "start_time": "2022-06-23T18:37:59.369Z"
   },
   {
    "duration": 71,
    "start_time": "2022-06-23T18:37:59.391Z"
   },
   {
    "duration": 15,
    "start_time": "2022-06-23T18:37:59.465Z"
   },
   {
    "duration": 102,
    "start_time": "2022-06-23T18:37:59.483Z"
   },
   {
    "duration": 13,
    "start_time": "2022-06-23T18:37:59.587Z"
   },
   {
    "duration": 33,
    "start_time": "2022-06-23T18:37:59.601Z"
   },
   {
    "duration": 35,
    "start_time": "2022-06-23T18:37:59.635Z"
   },
   {
    "duration": 18,
    "start_time": "2022-06-23T18:37:59.672Z"
   },
   {
    "duration": 32,
    "start_time": "2022-06-23T18:37:59.691Z"
   },
   {
    "duration": 26,
    "start_time": "2022-06-23T18:37:59.725Z"
   },
   {
    "duration": 11,
    "start_time": "2022-06-23T18:37:59.753Z"
   },
   {
    "duration": 94,
    "start_time": "2022-06-23T18:37:59.767Z"
   }
  ],
  "kernelspec": {
   "display_name": "Python 3 (ipykernel)",
   "language": "python",
   "name": "python3"
  },
  "language_info": {
   "codemirror_mode": {
    "name": "ipython",
    "version": 3
   },
   "file_extension": ".py",
   "mimetype": "text/x-python",
   "name": "python",
   "nbconvert_exporter": "python",
   "pygments_lexer": "ipython3",
   "version": "3.9.5"
  },
  "toc": {
   "base_numbering": 1,
   "nav_menu": {},
   "number_sections": true,
   "sideBar": true,
   "skip_h1_title": true,
   "title_cell": "Содержание",
   "title_sidebar": "Contents",
   "toc_cell": true,
   "toc_position": {},
   "toc_section_display": true,
   "toc_window_display": true
  }
 },
 "nbformat": 4,
 "nbformat_minor": 2
}
