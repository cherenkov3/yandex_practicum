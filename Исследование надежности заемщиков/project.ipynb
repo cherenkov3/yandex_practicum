{
 "cells": [
  {
   "cell_type": "markdown",
   "id": "47e42bbf",
   "metadata": {},
   "source": [
    "# Исследование надежности заемщиков."
   ]
  },
  {
   "cell_type": "markdown",
   "id": "f6cdb6c7",
   "metadata": {},
   "source": [
    "# 1. Обзор данных"
   ]
  },
  {
   "cell_type": "code",
   "execution_count": 1,
   "id": "4736980e",
   "metadata": {},
   "outputs": [],
   "source": [
    "import pandas as pd\n"
   ]
  },
  {
   "cell_type": "code",
   "execution_count": 2,
   "id": "6f16eae9",
   "metadata": {},
   "outputs": [],
   "source": [
    "bank_clients = pd.read_csv('/datasets/data.csv')\n",
    "bank_clients.to_csv('proj.csv', index=False)"
   ]
  },
  {
   "cell_type": "code",
   "execution_count": 3,
   "id": "2358f38e",
   "metadata": {},
   "outputs": [
    {
     "data": {
      "text/html": [
       "<div>\n",
       "<style scoped>\n",
       "    .dataframe tbody tr th:only-of-type {\n",
       "        vertical-align: middle;\n",
       "    }\n",
       "\n",
       "    .dataframe tbody tr th {\n",
       "        vertical-align: top;\n",
       "    }\n",
       "\n",
       "    .dataframe thead th {\n",
       "        text-align: right;\n",
       "    }\n",
       "</style>\n",
       "<table border=\"1\" class=\"dataframe\">\n",
       "  <thead>\n",
       "    <tr style=\"text-align: right;\">\n",
       "      <th></th>\n",
       "      <th>children</th>\n",
       "      <th>days_employed</th>\n",
       "      <th>dob_years</th>\n",
       "      <th>education</th>\n",
       "      <th>education_id</th>\n",
       "      <th>family_status</th>\n",
       "      <th>family_status_id</th>\n",
       "      <th>gender</th>\n",
       "      <th>income_type</th>\n",
       "      <th>debt</th>\n",
       "      <th>total_income</th>\n",
       "      <th>purpose</th>\n",
       "    </tr>\n",
       "  </thead>\n",
       "  <tbody>\n",
       "    <tr>\n",
       "      <th>0</th>\n",
       "      <td>1</td>\n",
       "      <td>-8437.673028</td>\n",
       "      <td>42</td>\n",
       "      <td>высшее</td>\n",
       "      <td>0</td>\n",
       "      <td>женат / замужем</td>\n",
       "      <td>0</td>\n",
       "      <td>F</td>\n",
       "      <td>сотрудник</td>\n",
       "      <td>0</td>\n",
       "      <td>253875.639453</td>\n",
       "      <td>покупка жилья</td>\n",
       "    </tr>\n",
       "    <tr>\n",
       "      <th>1</th>\n",
       "      <td>1</td>\n",
       "      <td>-4024.803754</td>\n",
       "      <td>36</td>\n",
       "      <td>среднее</td>\n",
       "      <td>1</td>\n",
       "      <td>женат / замужем</td>\n",
       "      <td>0</td>\n",
       "      <td>F</td>\n",
       "      <td>сотрудник</td>\n",
       "      <td>0</td>\n",
       "      <td>112080.014102</td>\n",
       "      <td>приобретение автомобиля</td>\n",
       "    </tr>\n",
       "    <tr>\n",
       "      <th>2</th>\n",
       "      <td>0</td>\n",
       "      <td>-5623.422610</td>\n",
       "      <td>33</td>\n",
       "      <td>Среднее</td>\n",
       "      <td>1</td>\n",
       "      <td>женат / замужем</td>\n",
       "      <td>0</td>\n",
       "      <td>M</td>\n",
       "      <td>сотрудник</td>\n",
       "      <td>0</td>\n",
       "      <td>145885.952297</td>\n",
       "      <td>покупка жилья</td>\n",
       "    </tr>\n",
       "    <tr>\n",
       "      <th>3</th>\n",
       "      <td>3</td>\n",
       "      <td>-4124.747207</td>\n",
       "      <td>32</td>\n",
       "      <td>среднее</td>\n",
       "      <td>1</td>\n",
       "      <td>женат / замужем</td>\n",
       "      <td>0</td>\n",
       "      <td>M</td>\n",
       "      <td>сотрудник</td>\n",
       "      <td>0</td>\n",
       "      <td>267628.550329</td>\n",
       "      <td>дополнительное образование</td>\n",
       "    </tr>\n",
       "    <tr>\n",
       "      <th>4</th>\n",
       "      <td>0</td>\n",
       "      <td>340266.072047</td>\n",
       "      <td>53</td>\n",
       "      <td>среднее</td>\n",
       "      <td>1</td>\n",
       "      <td>гражданский брак</td>\n",
       "      <td>1</td>\n",
       "      <td>F</td>\n",
       "      <td>пенсионер</td>\n",
       "      <td>0</td>\n",
       "      <td>158616.077870</td>\n",
       "      <td>сыграть свадьбу</td>\n",
       "    </tr>\n",
       "    <tr>\n",
       "      <th>5</th>\n",
       "      <td>0</td>\n",
       "      <td>-926.185831</td>\n",
       "      <td>27</td>\n",
       "      <td>высшее</td>\n",
       "      <td>0</td>\n",
       "      <td>гражданский брак</td>\n",
       "      <td>1</td>\n",
       "      <td>M</td>\n",
       "      <td>компаньон</td>\n",
       "      <td>0</td>\n",
       "      <td>255763.565419</td>\n",
       "      <td>покупка жилья</td>\n",
       "    </tr>\n",
       "    <tr>\n",
       "      <th>6</th>\n",
       "      <td>0</td>\n",
       "      <td>-2879.202052</td>\n",
       "      <td>43</td>\n",
       "      <td>высшее</td>\n",
       "      <td>0</td>\n",
       "      <td>женат / замужем</td>\n",
       "      <td>0</td>\n",
       "      <td>F</td>\n",
       "      <td>компаньон</td>\n",
       "      <td>0</td>\n",
       "      <td>240525.971920</td>\n",
       "      <td>операции с жильем</td>\n",
       "    </tr>\n",
       "    <tr>\n",
       "      <th>7</th>\n",
       "      <td>0</td>\n",
       "      <td>-152.779569</td>\n",
       "      <td>50</td>\n",
       "      <td>СРЕДНЕЕ</td>\n",
       "      <td>1</td>\n",
       "      <td>женат / замужем</td>\n",
       "      <td>0</td>\n",
       "      <td>M</td>\n",
       "      <td>сотрудник</td>\n",
       "      <td>0</td>\n",
       "      <td>135823.934197</td>\n",
       "      <td>образование</td>\n",
       "    </tr>\n",
       "    <tr>\n",
       "      <th>8</th>\n",
       "      <td>2</td>\n",
       "      <td>-6929.865299</td>\n",
       "      <td>35</td>\n",
       "      <td>ВЫСШЕЕ</td>\n",
       "      <td>0</td>\n",
       "      <td>гражданский брак</td>\n",
       "      <td>1</td>\n",
       "      <td>F</td>\n",
       "      <td>сотрудник</td>\n",
       "      <td>0</td>\n",
       "      <td>95856.832424</td>\n",
       "      <td>на проведение свадьбы</td>\n",
       "    </tr>\n",
       "    <tr>\n",
       "      <th>9</th>\n",
       "      <td>0</td>\n",
       "      <td>-2188.756445</td>\n",
       "      <td>41</td>\n",
       "      <td>среднее</td>\n",
       "      <td>1</td>\n",
       "      <td>женат / замужем</td>\n",
       "      <td>0</td>\n",
       "      <td>M</td>\n",
       "      <td>сотрудник</td>\n",
       "      <td>0</td>\n",
       "      <td>144425.938277</td>\n",
       "      <td>покупка жилья для семьи</td>\n",
       "    </tr>\n",
       "  </tbody>\n",
       "</table>\n",
       "</div>"
      ],
      "text/plain": [
       "   children  days_employed  dob_years education  education_id  \\\n",
       "0         1   -8437.673028         42    высшее             0   \n",
       "1         1   -4024.803754         36   среднее             1   \n",
       "2         0   -5623.422610         33   Среднее             1   \n",
       "3         3   -4124.747207         32   среднее             1   \n",
       "4         0  340266.072047         53   среднее             1   \n",
       "5         0    -926.185831         27    высшее             0   \n",
       "6         0   -2879.202052         43    высшее             0   \n",
       "7         0    -152.779569         50   СРЕДНЕЕ             1   \n",
       "8         2   -6929.865299         35    ВЫСШЕЕ             0   \n",
       "9         0   -2188.756445         41   среднее             1   \n",
       "\n",
       "      family_status  family_status_id gender income_type  debt   total_income  \\\n",
       "0   женат / замужем                 0      F   сотрудник     0  253875.639453   \n",
       "1   женат / замужем                 0      F   сотрудник     0  112080.014102   \n",
       "2   женат / замужем                 0      M   сотрудник     0  145885.952297   \n",
       "3   женат / замужем                 0      M   сотрудник     0  267628.550329   \n",
       "4  гражданский брак                 1      F   пенсионер     0  158616.077870   \n",
       "5  гражданский брак                 1      M   компаньон     0  255763.565419   \n",
       "6   женат / замужем                 0      F   компаньон     0  240525.971920   \n",
       "7   женат / замужем                 0      M   сотрудник     0  135823.934197   \n",
       "8  гражданский брак                 1      F   сотрудник     0   95856.832424   \n",
       "9   женат / замужем                 0      M   сотрудник     0  144425.938277   \n",
       "\n",
       "                      purpose  \n",
       "0               покупка жилья  \n",
       "1     приобретение автомобиля  \n",
       "2               покупка жилья  \n",
       "3  дополнительное образование  \n",
       "4             сыграть свадьбу  \n",
       "5               покупка жилья  \n",
       "6           операции с жильем  \n",
       "7                 образование  \n",
       "8       на проведение свадьбы  \n",
       "9     покупка жилья для семьи  "
      ]
     },
     "execution_count": 3,
     "metadata": {},
     "output_type": "execute_result"
    }
   ],
   "source": [
    "bank_clients.head(10)"
   ]
  },
  {
   "cell_type": "code",
   "execution_count": 4,
   "id": "101623e3",
   "metadata": {},
   "outputs": [
    {
     "name": "stdout",
     "output_type": "stream",
     "text": [
      "<class 'pandas.core.frame.DataFrame'>\n",
      "RangeIndex: 21525 entries, 0 to 21524\n",
      "Data columns (total 12 columns):\n",
      " #   Column            Non-Null Count  Dtype  \n",
      "---  ------            --------------  -----  \n",
      " 0   children          21525 non-null  int64  \n",
      " 1   days_employed     19351 non-null  float64\n",
      " 2   dob_years         21525 non-null  int64  \n",
      " 3   education         21525 non-null  object \n",
      " 4   education_id      21525 non-null  int64  \n",
      " 5   family_status     21525 non-null  object \n",
      " 6   family_status_id  21525 non-null  int64  \n",
      " 7   gender            21525 non-null  object \n",
      " 8   income_type       21525 non-null  object \n",
      " 9   debt              21525 non-null  int64  \n",
      " 10  total_income      19351 non-null  float64\n",
      " 11  purpose           21525 non-null  object \n",
      "dtypes: float64(2), int64(5), object(5)\n",
      "memory usage: 2.0+ MB\n"
     ]
    }
   ],
   "source": [
    "bank_clients.info()"
   ]
  },
  {
   "cell_type": "markdown",
   "id": "9b42cb12",
   "metadata": {},
   "source": [
    "\n",
    "Всего в таблице 12 столбцов с типами float, int и object. Количество значений в столбцах отличается, это значит, что в столбцах есть пропущенные значения. Некоторые данные представлены в вещественном типе, его нужно изменить на целочисленный для удобства подсчёта.\n",
    "\n",
    "Причинами появления пропусков могут быть как человеческий фактор, так и ошибки системы или процесса выгрузки. В данном случае можно отследить закономерность - в строках с пропущенными значениями days_employed также пропущены значения total_income. Вероятность пропуска зависит от других значений в наборе данных, но не от значений собственного столбца. Эти пропуски случайны.\n",
    "\n"
   ]
  },
  {
   "cell_type": "markdown",
   "id": "1821aff6",
   "metadata": {},
   "source": [
    "# 2.   Заполнение пропусков. Проверка данных на аномалии"
   ]
  },
  {
   "cell_type": "markdown",
   "id": "c958ca96",
   "metadata": {},
   "source": [
    "В столбце days_employed найдены пропуски и артефакты - в некоторых случаях стаж отрицательный, в остальных он неправдоподобно большой. Скорее всего, база данных была ошибочно заполнена, либо данные были неправильно извлечены. Избавимся от этого столбца для удобства работы - для дальнейших расчетов он не понадобится.\n",
    "\n",
    "Пропуски также найдены в столбце total_income. Этот столбец нам понадобится, поэтому заменим пропущенные значение средним арифметическим или медианой, чтобы не потерять другие данные. Так как речь идёт о доходе, для заполнения лучше использовать медиану, чтобы сильно выделяющиеся значения не повлияли на общий результат. Медиану рассчитаем отдельно для каждого типа дохода."
   ]
  },
  {
   "cell_type": "code",
   "execution_count": 5,
   "id": "ea603dba",
   "metadata": {},
   "outputs": [],
   "source": [
    "bank_clients.drop(['days_employed'], axis='columns', inplace=True)"
   ]
  },
  {
   "cell_type": "code",
   "execution_count": 6,
   "id": "6c44237e",
   "metadata": {},
   "outputs": [],
   "source": [
    "bank_clients['total_income'] = bank_clients['total_income'].fillna(-1)"
   ]
  },
  {
   "cell_type": "code",
   "execution_count": 7,
   "id": "d57d580e",
   "metadata": {},
   "outputs": [
    {
     "name": "stdout",
     "output_type": "stream",
     "text": [
      "<class 'pandas.core.frame.DataFrame'>\n",
      "RangeIndex: 21525 entries, 0 to 21524\n",
      "Data columns (total 11 columns):\n",
      " #   Column            Non-Null Count  Dtype  \n",
      "---  ------            --------------  -----  \n",
      " 0   children          21525 non-null  int64  \n",
      " 1   dob_years         21525 non-null  int64  \n",
      " 2   education         21525 non-null  object \n",
      " 3   education_id      21525 non-null  int64  \n",
      " 4   family_status     21525 non-null  object \n",
      " 5   family_status_id  21525 non-null  int64  \n",
      " 6   gender            21525 non-null  object \n",
      " 7   income_type       21525 non-null  object \n",
      " 8   debt              21525 non-null  int64  \n",
      " 9   total_income      21525 non-null  float64\n",
      " 10  purpose           21525 non-null  object \n",
      "dtypes: float64(1), int64(5), object(5)\n",
      "memory usage: 1.8+ MB\n"
     ]
    }
   ],
   "source": [
    "def fill_income(row):\n",
    "    total_income = row['total_income']\n",
    "    income_type = row['income_type']\n",
    "    if total_income == -1:      \n",
    "        return income_type_to_median[income_type]\n",
    "    return total_income\n",
    " \n",
    "income_type_to_median = bank_clients.groupby(\"income_type\").median()[\"total_income\"].to_dict()    \n",
    "       \n",
    "bank_clients['total_income'] = bank_clients.apply(fill_income, axis=1)\n",
    "\n",
    "bank_clients.info()"
   ]
  },
  {
   "cell_type": "markdown",
   "id": "2a8049b6",
   "metadata": {},
   "source": [
    "Проверим столбец dob_years."
   ]
  },
  {
   "cell_type": "code",
   "execution_count": 8,
   "id": "13a69228",
   "metadata": {},
   "outputs": [
    {
     "data": {
      "text/plain": [
       "66    183\n",
       "22    183\n",
       "67    167\n",
       "21    111\n",
       "0     101\n",
       "68     99\n",
       "69     85\n",
       "70     65\n",
       "71     58\n",
       "20     51\n",
       "72     33\n",
       "19     14\n",
       "73      8\n",
       "74      6\n",
       "75      1\n",
       "Name: dob_years, dtype: int64"
      ]
     },
     "execution_count": 8,
     "metadata": {},
     "output_type": "execute_result"
    }
   ],
   "source": [
    "bank_clients['dob_years'].value_counts().tail(15)"
   ]
  },
  {
   "cell_type": "markdown",
   "id": "679c85ec",
   "metadata": {},
   "source": [
    "В столбце есть нулевые значения, заменим их на среднее арифметическое - в случае возраста такой метод допустим."
   ]
  },
  {
   "cell_type": "code",
   "execution_count": 9,
   "id": "9b7de214",
   "metadata": {},
   "outputs": [
    {
     "data": {
      "text/plain": [
       "0"
      ]
     },
     "execution_count": 9,
     "metadata": {},
     "output_type": "execute_result"
    }
   ],
   "source": [
    "bank_clients.loc[bank_clients['dob_years'] == 0] = int(bank_clients['dob_years'].mean())\n",
    "bank_clients.loc[bank_clients['dob_years'] == 0].count().sum()"
   ]
  },
  {
   "cell_type": "markdown",
   "id": "a6fc343d",
   "metadata": {},
   "source": [
    "Проверим столбец children на аномалии."
   ]
  },
  {
   "cell_type": "code",
   "execution_count": 10,
   "id": "c6c9ee2f",
   "metadata": {},
   "outputs": [
    {
     "data": {
      "text/plain": [
       " 0     14080\n",
       " 1      4802\n",
       " 2      2042\n",
       " 3       328\n",
       " 43      101\n",
       " 20       75\n",
       "-1        47\n",
       " 4        41\n",
       " 5         9\n",
       "Name: children, dtype: int64"
      ]
     },
     "execution_count": 10,
     "metadata": {},
     "output_type": "execute_result"
    }
   ],
   "source": [
    "bank_clients['children'].value_counts()"
   ]
  },
  {
   "cell_type": "markdown",
   "id": "ee351081",
   "metadata": {},
   "source": [
    "В столбце встречаются отрицательные и аномально большие значения. Доля неверных значений - меньше одного процента, на результат исследования они не повлияют. Избавимся от этих строчек для правильности подсчетов."
   ]
  },
  {
   "cell_type": "code",
   "execution_count": 11,
   "id": "caf90b7d",
   "metadata": {},
   "outputs": [
    {
     "data": {
      "text/plain": [
       "0    14080\n",
       "1     4802\n",
       "2     2042\n",
       "3      328\n",
       "4       41\n",
       "5        9\n",
       "Name: children, dtype: int64"
      ]
     },
     "execution_count": 11,
     "metadata": {},
     "output_type": "execute_result"
    }
   ],
   "source": [
    "bank_clients = bank_clients.loc[bank_clients['children'] >= 0]\n",
    "bank_clients = bank_clients.loc[bank_clients['children'] < 20]\n",
    "bank_clients['children'].value_counts()"
   ]
  },
  {
   "cell_type": "markdown",
   "id": "4c3c43f6",
   "metadata": {},
   "source": [
    "Вывод\n",
    "В данных найдены пропуски и ошибки. Мы избавились от ошибочных данных, которые нам не понадобятся, заполнили NaN значения и изменили неправильные в данных, которые нужны."
   ]
  },
  {
   "cell_type": "markdown",
   "id": "713a4e52",
   "metadata": {},
   "source": [
    "# 3.  Изменение типов данных."
   ]
  },
  {
   "cell_type": "code",
   "execution_count": 12,
   "id": "79860174",
   "metadata": {},
   "outputs": [
    {
     "data": {
      "text/plain": [
       "dtype('int64')"
      ]
     },
     "execution_count": 12,
     "metadata": {},
     "output_type": "execute_result"
    }
   ],
   "source": [
    "bank_clients['total_income'] = bank_clients['total_income'].astype(int)\n",
    "bank_clients['total_income'].dtype"
   ]
  },
  {
   "cell_type": "markdown",
   "id": "69816b24",
   "metadata": {},
   "source": [
    "Все данные представлены в довольно удобном формате. Месячную зарплату и стаж в днях перевели в 'int', чтобы видеть целочисленные значения. В остальном типа данных везде выглядят хорошо."
   ]
  },
  {
   "cell_type": "markdown",
   "id": "eeaa42f5",
   "metadata": {},
   "source": [
    "# 4. Удаление дубликатов."
   ]
  },
  {
   "cell_type": "markdown",
   "id": "c5a93f9e",
   "metadata": {},
   "source": [
    "Значения в столбце education отличаются регистром. Применим к столбцу метод value_counts() для проверки, а после приведем значения к одному регистру."
   ]
  },
  {
   "cell_type": "code",
   "execution_count": 13,
   "id": "503178a9",
   "metadata": {},
   "outputs": [
    {
     "data": {
      "text/plain": [
       "среднее                13609\n",
       "высшее                  4666\n",
       "СРЕДНЕЕ                  764\n",
       "Среднее                  700\n",
       "неоконченное высшее      663\n",
       "ВЫСШЕЕ                   270\n",
       "Высшее                   266\n",
       "начальное                250\n",
       "Неоконченное высшее       47\n",
       "НЕОКОНЧЕННОЕ ВЫСШЕЕ       29\n",
       "НАЧАЛЬНОЕ                 17\n",
       "Начальное                 15\n",
       "ученая степень             4\n",
       "УЧЕНАЯ СТЕПЕНЬ             1\n",
       "Ученая степень             1\n",
       "Name: education, dtype: int64"
      ]
     },
     "execution_count": 13,
     "metadata": {},
     "output_type": "execute_result"
    }
   ],
   "source": [
    "bank_clients['education'].value_counts()"
   ]
  },
  {
   "cell_type": "code",
   "execution_count": 14,
   "id": "81263d06",
   "metadata": {},
   "outputs": [
    {
     "data": {
      "text/plain": [
       "среднее                15073\n",
       "высшее                  5202\n",
       "неоконченное высшее      739\n",
       "начальное                282\n",
       "ученая степень             6\n",
       "Name: education, dtype: int64"
      ]
     },
     "execution_count": 14,
     "metadata": {},
     "output_type": "execute_result"
    }
   ],
   "source": [
    "bank_clients['education'] = bank_clients['education'].str.lower()\n",
    "bank_clients['education'].value_counts()"
   ]
  },
  {
   "cell_type": "markdown",
   "id": "885c80f4",
   "metadata": {},
   "source": [
    "Теперь установим наличие полных дубликатов и избавимся от них."
   ]
  },
  {
   "cell_type": "code",
   "execution_count": 15,
   "id": "1fa48f19",
   "metadata": {},
   "outputs": [
    {
     "data": {
      "text/plain": [
       "71"
      ]
     },
     "execution_count": 15,
     "metadata": {},
     "output_type": "execute_result"
    }
   ],
   "source": [
    "bank_clients.duplicated().sum()"
   ]
  },
  {
   "cell_type": "code",
   "execution_count": 16,
   "id": "a1059b9b",
   "metadata": {},
   "outputs": [
    {
     "data": {
      "text/plain": [
       "0"
      ]
     },
     "execution_count": 16,
     "metadata": {},
     "output_type": "execute_result"
    }
   ],
   "source": [
    "bank_clients = bank_clients.drop_duplicates().reset_index(drop=True)\n",
    "bank_clients.duplicated().sum()"
   ]
  },
  {
   "cell_type": "markdown",
   "id": "e21221f4",
   "metadata": {},
   "source": [
    "Дубликаты в данных могли появиться в результате сбоев или неправильных скриптов. Мы использовали метод value_counts() для ознакомления со всеми значениями столбца education, привели их к одному регистру, а после удалили полные дубликаты используя метод drop_duplicates()."
   ]
  },
  {
   "cell_type": "markdown",
   "id": "eb558f54",
   "metadata": {},
   "source": [
    "# 5. Формирование дополнительных датафреймов словарей, декомпозиция исходного датафрейма."
   ]
  },
  {
   "cell_type": "code",
   "execution_count": 17,
   "id": "a11cdf8a",
   "metadata": {},
   "outputs": [
    {
     "data": {
      "text/html": [
       "<div>\n",
       "<style scoped>\n",
       "    .dataframe tbody tr th:only-of-type {\n",
       "        vertical-align: middle;\n",
       "    }\n",
       "\n",
       "    .dataframe tbody tr th {\n",
       "        vertical-align: top;\n",
       "    }\n",
       "\n",
       "    .dataframe thead th {\n",
       "        text-align: right;\n",
       "    }\n",
       "</style>\n",
       "<table border=\"1\" class=\"dataframe\">\n",
       "  <thead>\n",
       "    <tr style=\"text-align: right;\">\n",
       "      <th></th>\n",
       "      <th>education_id</th>\n",
       "      <th>education</th>\n",
       "    </tr>\n",
       "  </thead>\n",
       "  <tbody>\n",
       "    <tr>\n",
       "      <th>0</th>\n",
       "      <td>0</td>\n",
       "      <td>высшее</td>\n",
       "    </tr>\n",
       "    <tr>\n",
       "      <th>1</th>\n",
       "      <td>1</td>\n",
       "      <td>среднее</td>\n",
       "    </tr>\n",
       "    <tr>\n",
       "      <th>2</th>\n",
       "      <td>2</td>\n",
       "      <td>неоконченное высшее</td>\n",
       "    </tr>\n",
       "    <tr>\n",
       "      <th>3</th>\n",
       "      <td>3</td>\n",
       "      <td>начальное</td>\n",
       "    </tr>\n",
       "    <tr>\n",
       "      <th>4</th>\n",
       "      <td>4</td>\n",
       "      <td>ученая степень</td>\n",
       "    </tr>\n",
       "  </tbody>\n",
       "</table>\n",
       "</div>"
      ],
      "text/plain": [
       "   education_id            education\n",
       "0             0               высшее\n",
       "1             1              среднее\n",
       "2             2  неоконченное высшее\n",
       "3             3            начальное\n",
       "4             4       ученая степень"
      ]
     },
     "metadata": {},
     "output_type": "display_data"
    }
   ],
   "source": [
    "education_dict = bank_clients[['education_id', 'education']].drop_duplicates().reset_index(drop=True)\n",
    "display(education_dict.head(10))"
   ]
  },
  {
   "cell_type": "markdown",
   "id": "d9527107",
   "metadata": {},
   "source": [
    "Выделили словарь для education,удалили дубликаты из словаря и проверили содержимое"
   ]
  },
  {
   "cell_type": "markdown",
   "id": "4d951080",
   "metadata": {},
   "source": [
    "Аналогичным образом поступим для family_status."
   ]
  },
  {
   "cell_type": "code",
   "execution_count": 18,
   "id": "68006b20",
   "metadata": {},
   "outputs": [
    {
     "data": {
      "text/html": [
       "<div>\n",
       "<style scoped>\n",
       "    .dataframe tbody tr th:only-of-type {\n",
       "        vertical-align: middle;\n",
       "    }\n",
       "\n",
       "    .dataframe tbody tr th {\n",
       "        vertical-align: top;\n",
       "    }\n",
       "\n",
       "    .dataframe thead th {\n",
       "        text-align: right;\n",
       "    }\n",
       "</style>\n",
       "<table border=\"1\" class=\"dataframe\">\n",
       "  <thead>\n",
       "    <tr style=\"text-align: right;\">\n",
       "      <th></th>\n",
       "      <th>family_status_id</th>\n",
       "      <th>family_status</th>\n",
       "    </tr>\n",
       "  </thead>\n",
       "  <tbody>\n",
       "    <tr>\n",
       "      <th>0</th>\n",
       "      <td>0</td>\n",
       "      <td>женат / замужем</td>\n",
       "    </tr>\n",
       "    <tr>\n",
       "      <th>1</th>\n",
       "      <td>1</td>\n",
       "      <td>гражданский брак</td>\n",
       "    </tr>\n",
       "    <tr>\n",
       "      <th>2</th>\n",
       "      <td>2</td>\n",
       "      <td>вдовец / вдова</td>\n",
       "    </tr>\n",
       "    <tr>\n",
       "      <th>3</th>\n",
       "      <td>3</td>\n",
       "      <td>в разводе</td>\n",
       "    </tr>\n",
       "    <tr>\n",
       "      <th>4</th>\n",
       "      <td>4</td>\n",
       "      <td>Не женат / не замужем</td>\n",
       "    </tr>\n",
       "  </tbody>\n",
       "</table>\n",
       "</div>"
      ],
      "text/plain": [
       "   family_status_id          family_status\n",
       "0                 0        женат / замужем\n",
       "1                 1       гражданский брак\n",
       "2                 2         вдовец / вдова\n",
       "3                 3              в разводе\n",
       "4                 4  Не женат / не замужем"
      ]
     },
     "metadata": {},
     "output_type": "display_data"
    }
   ],
   "source": [
    "family_status_dict = bank_clients[['family_status_id', 'family_status']].drop_duplicates().reset_index(drop=True)\n",
    "display(family_status_dict.head(10))"
   ]
  },
  {
   "cell_type": "markdown",
   "id": "0f91e5a2",
   "metadata": {},
   "source": [
    "Так как словари мы сохранили, id проставлены, удалим столбцы education и family_status из основной таблицы"
   ]
  },
  {
   "cell_type": "code",
   "execution_count": 19,
   "id": "3784b87f",
   "metadata": {},
   "outputs": [
    {
     "name": "stdout",
     "output_type": "stream",
     "text": [
      "<class 'pandas.core.frame.DataFrame'>\n",
      "RangeIndex: 21231 entries, 0 to 21230\n",
      "Data columns (total 9 columns):\n",
      " #   Column            Non-Null Count  Dtype \n",
      "---  ------            --------------  ----- \n",
      " 0   children          21231 non-null  int64 \n",
      " 1   dob_years         21231 non-null  int64 \n",
      " 2   education_id      21231 non-null  int64 \n",
      " 3   family_status_id  21231 non-null  int64 \n",
      " 4   gender            21231 non-null  object\n",
      " 5   income_type       21231 non-null  object\n",
      " 6   debt              21231 non-null  int64 \n",
      " 7   total_income      21231 non-null  int64 \n",
      " 8   purpose           21231 non-null  object\n",
      "dtypes: int64(6), object(3)\n",
      "memory usage: 1.5+ MB\n"
     ]
    }
   ],
   "source": [
    "bank_clients = bank_clients.drop('education', axis=1)\n",
    "bank_clients = bank_clients.drop('family_status', axis=1)\n",
    "bank_clients.info()"
   ]
  },
  {
   "cell_type": "markdown",
   "id": "3908e17d",
   "metadata": {},
   "source": [
    "# 6. Категоризация дохода."
   ]
  },
  {
   "cell_type": "code",
   "execution_count": 20,
   "id": "b22cb8c8",
   "metadata": {},
   "outputs": [],
   "source": [
    "def category_definition(income):\n",
    "    try:\n",
    "        if 0 <= income <= 30000:\n",
    "            return 'E'\n",
    "        if 30001 <= income <= 50000:\n",
    "            return 'D'\n",
    "        if 50001 <= income <= 200000:\n",
    "            return 'C'\n",
    "        if 200001 <= income <= 1000000:\n",
    "            return 'B'\n",
    "        if income >= 1000001:\n",
    "            return 'A'\n",
    "    except:\n",
    "        print('Ошибка')\n"
   ]
  },
  {
   "cell_type": "code",
   "execution_count": 21,
   "id": "2d5ffff2",
   "metadata": {},
   "outputs": [
    {
     "data": {
      "text/plain": [
       "C    15849\n",
       "B     4988\n",
       "D      347\n",
       "A       25\n",
       "E       22\n",
       "Name: total_income_category, dtype: int64"
      ]
     },
     "metadata": {},
     "output_type": "display_data"
    }
   ],
   "source": [
    "bank_clients['total_income_category'] = bank_clients['total_income'].apply(category_definition)\n",
    "display(bank_clients['total_income_category'].value_counts())\n"
   ]
  },
  {
   "cell_type": "markdown",
   "id": "18b9647c",
   "metadata": {},
   "source": [
    "Применяем функцию category_definition к каждой строке датафрейма, \n",
    "результат записывается в новый столбец total_income_category.Проверяем с помощью value_counts()"
   ]
  },
  {
   "cell_type": "markdown",
   "id": "064945ac",
   "metadata": {},
   "source": [
    "# 7. Категоризация целей кредита."
   ]
  },
  {
   "cell_type": "code",
   "execution_count": 22,
   "id": "8dba3eda",
   "metadata": {},
   "outputs": [
    {
     "data": {
      "text/plain": [
       "0                         покупка жилья\n",
       "1               приобретение автомобиля\n",
       "2                         покупка жилья\n",
       "3            дополнительное образование\n",
       "4                       сыграть свадьбу\n",
       "5                         покупка жилья\n",
       "6                     операции с жильем\n",
       "7                           образование\n",
       "8                 на проведение свадьбы\n",
       "9               покупка жилья для семьи\n",
       "10                 покупка недвижимости\n",
       "11    покупка коммерческой недвижимости\n",
       "12                      сыграть свадьбу\n",
       "13              приобретение автомобиля\n",
       "14           покупка жилой недвижимости\n",
       "Name: purpose, dtype: object"
      ]
     },
     "metadata": {},
     "output_type": "display_data"
    }
   ],
   "source": [
    "display(bank_clients['purpose'].head(15))"
   ]
  },
  {
   "cell_type": "markdown",
   "id": "4d4ecc2f",
   "metadata": {},
   "source": [
    "Изучим данные в столбце purpose и определим, какие подстроки помогут правильно определить категорию."
   ]
  },
  {
   "cell_type": "code",
   "execution_count": 23,
   "id": "0ae09a67",
   "metadata": {},
   "outputs": [
    {
     "name": "stdout",
     "output_type": "stream",
     "text": [
      "0     операции с недвижимостью\n",
      "1       операции с автомобилем\n",
      "2     операции с недвижимостью\n",
      "3        получение образования\n",
      "4           проведение свадьбы\n",
      "5     операции с недвижимостью\n",
      "6     операции с недвижимостью\n",
      "7        получение образования\n",
      "8           проведение свадьбы\n",
      "9     операции с недвижимостью\n",
      "10    операции с недвижимостью\n",
      "11    операции с недвижимостью\n",
      "12          проведение свадьбы\n",
      "13      операции с автомобилем\n",
      "14    операции с недвижимостью\n",
      "Name: purpose_category, dtype: object\n"
     ]
    }
   ],
   "source": [
    "\n",
    "def change_purpose(row):\n",
    "    purpose = row['purpose']\n",
    "    if 'автомобил' in purpose:\n",
    "        return 'операции с автомобилем'\n",
    "    elif 'жил' in purpose:\n",
    "        return 'операции с недвижимостью'\n",
    "    elif 'недвиж' in purpose:\n",
    "        return 'операции с недвижимостью'\n",
    "    elif 'свадьб' in purpose:\n",
    "        return 'проведение свадьбы'\n",
    "    elif 'образ' in purpose:\n",
    "        return 'получение образования'\n",
    "    else:\n",
    "        return 'не входит ни в одну из котегорий'\n",
    "bank_clients['purpose_category'] = bank_clients.apply(change_purpose,axis=1)\n",
    "print(bank_clients['purpose_category'].head(15))"
   ]
  },
  {
   "cell_type": "markdown",
   "id": "88343bbd",
   "metadata": {},
   "source": [
    "Создаём функцию, которая на основании данных из столбца purpose сформирует новый столбец purpose_category, в который войдут следующие категории: \n",
    "'операции с автомобилем',\n",
    "'операции с недвижимостью',\n",
    "'проведение свадьбы',\n",
    "'получение образования'. Методом apply применяем функцию ко всему датафрейму и добавляем в новый столбец датафрейма."
   ]
  },
  {
   "cell_type": "markdown",
   "id": "3b2bd15a",
   "metadata": {},
   "source": [
    "# Ответы на вопросы."
   ]
  },
  {
   "cell_type": "markdown",
   "id": "457b3815",
   "metadata": {},
   "source": [
    "# Вопрос 1:\n",
    "Есть ли зависимость между количеством детей и возвратом кредита в срок?\n"
   ]
  },
  {
   "cell_type": "code",
   "execution_count": null,
   "id": "fac627f6",
   "metadata": {},
   "outputs": [
    {
     "data": {
      "text/html": [
       "<div>\n",
       "<style scoped>\n",
       "    .dataframe tbody tr th:only-of-type {\n",
       "        vertical-align: middle;\n",
       "    }\n",
       "\n",
       "    .dataframe tbody tr th {\n",
       "        vertical-align: top;\n",
       "    }\n",
       "\n",
       "    .dataframe thead tr th {\n",
       "        text-align: left;\n",
       "    }\n",
       "\n",
       "    .dataframe thead tr:last-of-type th {\n",
       "        text-align: right;\n",
       "    }\n",
       "</style>\n",
       "<table border=\"1\" class=\"dataframe\">\n",
       "  <thead>\n",
       "    <tr>\n",
       "      <th></th>\n",
       "      <th>sum</th>\n",
       "      <th>count</th>\n",
       "      <th>make_proportion</th>\n",
       "    </tr>\n",
       "    <tr>\n",
       "      <th></th>\n",
       "      <th>debt</th>\n",
       "      <th>debt</th>\n",
       "      <th>debt</th>\n",
       "    </tr>\n",
       "    <tr>\n",
       "      <th>children</th>\n",
       "      <th></th>\n",
       "      <th></th>\n",
       "      <th></th>\n",
       "    </tr>\n",
       "  </thead>\n",
       "  <tbody>\n",
       "    <tr>\n",
       "      <th>5</th>\n",
       "      <td>0</td>\n",
       "      <td>9</td>\n",
       "      <td>0.0%</td>\n",
       "    </tr>\n",
       "    <tr>\n",
       "      <th>0</th>\n",
       "      <td>1058</td>\n",
       "      <td>14022</td>\n",
       "      <td>7.55%</td>\n",
       "    </tr>\n",
       "    <tr>\n",
       "      <th>3</th>\n",
       "      <td>27</td>\n",
       "      <td>328</td>\n",
       "      <td>8.23%</td>\n",
       "    </tr>\n",
       "    <tr>\n",
       "      <th>1</th>\n",
       "      <td>441</td>\n",
       "      <td>4792</td>\n",
       "      <td>9.2%</td>\n",
       "    </tr>\n",
       "    <tr>\n",
       "      <th>2</th>\n",
       "      <td>194</td>\n",
       "      <td>2039</td>\n",
       "      <td>9.51%</td>\n",
       "    </tr>\n",
       "    <tr>\n",
       "      <th>4</th>\n",
       "      <td>4</td>\n",
       "      <td>41</td>\n",
       "      <td>9.76%</td>\n",
       "    </tr>\n",
       "  </tbody>\n",
       "</table>\n",
       "</div>"
      ],
      "text/plain": [
       "           sum  count make_proportion\n",
       "          debt   debt            debt\n",
       "children                             \n",
       "5            0      9            0.0%\n",
       "0         1058  14022           7.55%\n",
       "3           27    328           8.23%\n",
       "1          441   4792            9.2%\n",
       "2          194   2039           9.51%\n",
       "4            4     41           9.76%"
      ]
     },
     "metadata": {},
     "output_type": "display_data"
    }
   ],
   "source": [
    "#функция, что посчитает нам отношение в процентах\n",
    "def make_proportion(pdSerises):\n",
    "    return str(round((pdSerises.sum() / pdSerises.count()) * 100, 2)) + '%'\n",
    "\n",
    "# построим сводную таблицу для ответа на вопрос\n",
    "data_pivot = bank_clients.pivot_table(index=['children'], values=[\"debt\"], aggfunc=['sum', 'count', make_proportion])\n",
    "# сортируем,по возрастанию долю % для удобства\n",
    "data_pivot = data_pivot.sort_values(by=('make_proportion', 'debt'))\n",
    "display(data_pivot)"
   ]
  },
  {
   "cell_type": "markdown",
   "id": "3e4c26e9",
   "metadata": {},
   "source": [
    "# Вывод \n",
    "Доля заёмщиков с детьми - выше, чем бездетных.Но у должников с пятью детьми просрочки задолжности не наблюдается."
   ]
  },
  {
   "cell_type": "markdown",
   "id": "e381e93d",
   "metadata": {},
   "source": [
    "# Вопрос 2:\n",
    "Есть ли зависимость между семейным положением и возвратом кредита в срок?\n",
    "\n"
   ]
  },
  {
   "cell_type": "code",
   "execution_count": 25,
   "id": "be0dce81",
   "metadata": {},
   "outputs": [
    {
     "data": {
      "text/html": [
       "<div>\n",
       "<style scoped>\n",
       "    .dataframe tbody tr th:only-of-type {\n",
       "        vertical-align: middle;\n",
       "    }\n",
       "\n",
       "    .dataframe tbody tr th {\n",
       "        vertical-align: top;\n",
       "    }\n",
       "\n",
       "    .dataframe thead th {\n",
       "        text-align: right;\n",
       "    }\n",
       "</style>\n",
       "<table border=\"1\" class=\"dataframe\">\n",
       "  <thead>\n",
       "    <tr style=\"text-align: right;\">\n",
       "      <th></th>\n",
       "      <th>debt</th>\n",
       "      <th>number</th>\n",
       "      <th>mean, %</th>\n",
       "    </tr>\n",
       "    <tr>\n",
       "      <th>family_status_id</th>\n",
       "      <th></th>\n",
       "      <th></th>\n",
       "      <th></th>\n",
       "    </tr>\n",
       "  </thead>\n",
       "  <tbody>\n",
       "    <tr>\n",
       "      <th>4</th>\n",
       "      <td>2780</td>\n",
       "      <td>272</td>\n",
       "      <td>9.784173</td>\n",
       "    </tr>\n",
       "    <tr>\n",
       "      <th>1</th>\n",
       "      <td>4113</td>\n",
       "      <td>383</td>\n",
       "      <td>9.311938</td>\n",
       "    </tr>\n",
       "    <tr>\n",
       "      <th>0</th>\n",
       "      <td>12213</td>\n",
       "      <td>923</td>\n",
       "      <td>7.557521</td>\n",
       "    </tr>\n",
       "    <tr>\n",
       "      <th>3</th>\n",
       "      <td>1179</td>\n",
       "      <td>84</td>\n",
       "      <td>7.124682</td>\n",
       "    </tr>\n",
       "    <tr>\n",
       "      <th>2</th>\n",
       "      <td>946</td>\n",
       "      <td>62</td>\n",
       "      <td>6.553911</td>\n",
       "    </tr>\n",
       "  </tbody>\n",
       "</table>\n",
       "</div>"
      ],
      "text/plain": [
       "                   debt  number   mean, %\n",
       "family_status_id                         \n",
       "4                  2780     272  9.784173\n",
       "1                  4113     383  9.311938\n",
       "0                 12213     923  7.557521\n",
       "3                  1179      84  7.124682\n",
       "2                   946      62  6.553911"
      ]
     },
     "execution_count": 25,
     "metadata": {},
     "output_type": "execute_result"
    }
   ],
   "source": [
    "debtors_family_status = bank_clients[['family_status_id', 'debt']]\n",
    "debtors_family_status_grouped = debtors_family_status.groupby('family_status_id').count()\n",
    "debtors_family_status_grouped['number'] = debtors_family_status.loc[debtors_family_status['debt'] == 1].groupby('family_status_id').sum()\n",
    "debtors_family_status_grouped['mean, %'] = debtors_family_status_grouped['number'] / debtors_family_status_grouped['debt'] * 100\n",
    "debtors_family_status_grouped.sort_values('mean, %', ascending=False)"
   ]
  },
  {
   "cell_type": "markdown",
   "id": "d6ccaedc",
   "metadata": {},
   "source": [
    "<div class=\"alert alert-info\"> <b> Добавлю вариант с применением фурнкции из предыдущего вопроса и использованием сводных таблиц."
   ]
  },
  {
   "cell_type": "code",
   "execution_count": 26,
   "id": "86459711",
   "metadata": {},
   "outputs": [
    {
     "data": {
      "text/html": [
       "<div>\n",
       "<style scoped>\n",
       "    .dataframe tbody tr th:only-of-type {\n",
       "        vertical-align: middle;\n",
       "    }\n",
       "\n",
       "    .dataframe tbody tr th {\n",
       "        vertical-align: top;\n",
       "    }\n",
       "\n",
       "    .dataframe thead tr th {\n",
       "        text-align: left;\n",
       "    }\n",
       "\n",
       "    .dataframe thead tr:last-of-type th {\n",
       "        text-align: right;\n",
       "    }\n",
       "</style>\n",
       "<table border=\"1\" class=\"dataframe\">\n",
       "  <thead>\n",
       "    <tr>\n",
       "      <th></th>\n",
       "      <th>sum</th>\n",
       "      <th>count</th>\n",
       "      <th>make_proportion</th>\n",
       "    </tr>\n",
       "    <tr>\n",
       "      <th></th>\n",
       "      <th>debt</th>\n",
       "      <th>debt</th>\n",
       "      <th>debt</th>\n",
       "    </tr>\n",
       "    <tr>\n",
       "      <th>family_status</th>\n",
       "      <th></th>\n",
       "      <th></th>\n",
       "      <th></th>\n",
       "    </tr>\n",
       "  </thead>\n",
       "  <tbody>\n",
       "    <tr>\n",
       "      <th>вдовец / вдова</th>\n",
       "      <td>62</td>\n",
       "      <td>946</td>\n",
       "      <td>6.55%</td>\n",
       "    </tr>\n",
       "    <tr>\n",
       "      <th>в разводе</th>\n",
       "      <td>84</td>\n",
       "      <td>1179</td>\n",
       "      <td>7.12%</td>\n",
       "    </tr>\n",
       "    <tr>\n",
       "      <th>женат / замужем</th>\n",
       "      <td>923</td>\n",
       "      <td>12213</td>\n",
       "      <td>7.56%</td>\n",
       "    </tr>\n",
       "    <tr>\n",
       "      <th>гражданский брак</th>\n",
       "      <td>383</td>\n",
       "      <td>4113</td>\n",
       "      <td>9.31%</td>\n",
       "    </tr>\n",
       "    <tr>\n",
       "      <th>Не женат / не замужем</th>\n",
       "      <td>272</td>\n",
       "      <td>2780</td>\n",
       "      <td>9.78%</td>\n",
       "    </tr>\n",
       "  </tbody>\n",
       "</table>\n",
       "</div>"
      ],
      "text/plain": [
       "                       sum  count make_proportion\n",
       "                      debt   debt            debt\n",
       "family_status                                    \n",
       "вдовец / вдова          62    946           6.55%\n",
       "в разводе               84   1179           7.12%\n",
       "женат / замужем        923  12213           7.56%\n",
       "гражданский брак       383   4113           9.31%\n",
       "Не женат / не замужем  272   2780           9.78%"
      ]
     },
     "metadata": {},
     "output_type": "display_data"
    }
   ],
   "source": [
    "# Так как  мы до этого удаляли из основных данных текстовые значения family_status, тут необходимо их вернуть\n",
    "df_with_family_status = bank_clients.merge(family_status_dict, on='family_status_id', how='left')\n",
    "\n",
    "# построим сводную таблицу для ответа на вопрос\n",
    "data_pivot = df_with_family_status.pivot_table(index=['family_status'], values=[\"debt\"], aggfunc=['sum', 'count', make_proportion])\n",
    "# сортируем для удобства\n",
    "data_pivot = data_pivot.sort_values(by=('make_proportion', 'debt'))\n",
    "display(data_pivot)"
   ]
  },
  {
   "cell_type": "markdown",
   "id": "015d98c9",
   "metadata": {},
   "source": [
    "# Вывод\n",
    "Результат исследования показывает, что в группе клиентов со статусом не женат / не замужем доля должников больше всего - почти 9,8%. Меньше всего должников среди вдовцов - 6,5%.\n",
    "\n"
   ]
  },
  {
   "cell_type": "markdown",
   "id": "26e60a79",
   "metadata": {},
   "source": [
    "# Вопрос 3:\n",
    "Есть ли зависимость между уровнем дохода и возвратом кредита в срок?\n"
   ]
  },
  {
   "cell_type": "code",
   "execution_count": 27,
   "id": "92c7ae17",
   "metadata": {},
   "outputs": [
    {
     "data": {
      "text/html": [
       "<div>\n",
       "<style scoped>\n",
       "    .dataframe tbody tr th:only-of-type {\n",
       "        vertical-align: middle;\n",
       "    }\n",
       "\n",
       "    .dataframe tbody tr th {\n",
       "        vertical-align: top;\n",
       "    }\n",
       "\n",
       "    .dataframe thead tr th {\n",
       "        text-align: left;\n",
       "    }\n",
       "\n",
       "    .dataframe thead tr:last-of-type th {\n",
       "        text-align: right;\n",
       "    }\n",
       "</style>\n",
       "<table border=\"1\" class=\"dataframe\">\n",
       "  <thead>\n",
       "    <tr>\n",
       "      <th></th>\n",
       "      <th>sum</th>\n",
       "      <th>count</th>\n",
       "      <th>make_proportion</th>\n",
       "    </tr>\n",
       "    <tr>\n",
       "      <th></th>\n",
       "      <th>debt</th>\n",
       "      <th>debt</th>\n",
       "      <th>debt</th>\n",
       "    </tr>\n",
       "    <tr>\n",
       "      <th>total_income_category</th>\n",
       "      <th></th>\n",
       "      <th></th>\n",
       "      <th></th>\n",
       "    </tr>\n",
       "  </thead>\n",
       "  <tbody>\n",
       "    <tr>\n",
       "      <th>D</th>\n",
       "      <td>21</td>\n",
       "      <td>347</td>\n",
       "      <td>6.05%</td>\n",
       "    </tr>\n",
       "    <tr>\n",
       "      <th>B</th>\n",
       "      <td>353</td>\n",
       "      <td>4988</td>\n",
       "      <td>7.08%</td>\n",
       "    </tr>\n",
       "    <tr>\n",
       "      <th>A</th>\n",
       "      <td>2</td>\n",
       "      <td>25</td>\n",
       "      <td>8.0%</td>\n",
       "    </tr>\n",
       "    <tr>\n",
       "      <th>C</th>\n",
       "      <td>1346</td>\n",
       "      <td>15849</td>\n",
       "      <td>8.49%</td>\n",
       "    </tr>\n",
       "    <tr>\n",
       "      <th>E</th>\n",
       "      <td>2</td>\n",
       "      <td>22</td>\n",
       "      <td>9.09%</td>\n",
       "    </tr>\n",
       "  </tbody>\n",
       "</table>\n",
       "</div>"
      ],
      "text/plain": [
       "                        sum  count make_proportion\n",
       "                       debt   debt            debt\n",
       "total_income_category                             \n",
       "D                        21    347           6.05%\n",
       "B                       353   4988           7.08%\n",
       "A                         2     25            8.0%\n",
       "C                      1346  15849           8.49%\n",
       "E                         2     22           9.09%"
      ]
     },
     "metadata": {},
     "output_type": "display_data"
    }
   ],
   "source": [
    "# построим сводную таблицу для ответа на вопрос\n",
    "data_pivot = bank_clients.pivot_table(index=['total_income_category'], values=[\"debt\"], aggfunc=['sum', 'count', make_proportion])\n",
    "# сортируем для удобства\n",
    "data_pivot = data_pivot.sort_values(by=('make_proportion', 'debt'))\n",
    "display(data_pivot)"
   ]
  },
  {
   "cell_type": "markdown",
   "id": "0df19fb9",
   "metadata": {},
   "source": [
    "# Вывод\n",
    "В результате подсчета в этих категорих видим, что меньше всего просрочки у людей категории 'D',но их небольшое количество.Доля просрочки кредита более высокая у людей категории 'C' и 'E', но опять же люди с самым меньшим доходом категории 'E' реже берут кредиты.  "
   ]
  },
  {
   "cell_type": "markdown",
   "id": "f99448c8",
   "metadata": {},
   "source": [
    "# Вопрос 4:\n",
    "Как разные цели кредита влияют на его возврат в срок?\n"
   ]
  },
  {
   "cell_type": "code",
   "execution_count": 28,
   "id": "9443d28b",
   "metadata": {},
   "outputs": [
    {
     "data": {
      "text/html": [
       "<div>\n",
       "<style scoped>\n",
       "    .dataframe tbody tr th:only-of-type {\n",
       "        vertical-align: middle;\n",
       "    }\n",
       "\n",
       "    .dataframe tbody tr th {\n",
       "        vertical-align: top;\n",
       "    }\n",
       "\n",
       "    .dataframe thead tr th {\n",
       "        text-align: left;\n",
       "    }\n",
       "\n",
       "    .dataframe thead tr:last-of-type th {\n",
       "        text-align: right;\n",
       "    }\n",
       "</style>\n",
       "<table border=\"1\" class=\"dataframe\">\n",
       "  <thead>\n",
       "    <tr>\n",
       "      <th></th>\n",
       "      <th>sum</th>\n",
       "      <th>count</th>\n",
       "      <th>make_proportion</th>\n",
       "    </tr>\n",
       "    <tr>\n",
       "      <th></th>\n",
       "      <th>debt</th>\n",
       "      <th>debt</th>\n",
       "      <th>debt</th>\n",
       "    </tr>\n",
       "    <tr>\n",
       "      <th>purpose_category</th>\n",
       "      <th></th>\n",
       "      <th></th>\n",
       "      <th></th>\n",
       "    </tr>\n",
       "  </thead>\n",
       "  <tbody>\n",
       "    <tr>\n",
       "      <th>операции с недвижимостью</th>\n",
       "      <td>777</td>\n",
       "      <td>10704</td>\n",
       "      <td>7.26%</td>\n",
       "    </tr>\n",
       "    <tr>\n",
       "      <th>проведение свадьбы</th>\n",
       "      <td>181</td>\n",
       "      <td>2299</td>\n",
       "      <td>7.87%</td>\n",
       "    </tr>\n",
       "    <tr>\n",
       "      <th>получение образования</th>\n",
       "      <td>369</td>\n",
       "      <td>3970</td>\n",
       "      <td>9.29%</td>\n",
       "    </tr>\n",
       "    <tr>\n",
       "      <th>операции с автомобилем</th>\n",
       "      <td>397</td>\n",
       "      <td>4258</td>\n",
       "      <td>9.32%</td>\n",
       "    </tr>\n",
       "  </tbody>\n",
       "</table>\n",
       "</div>"
      ],
      "text/plain": [
       "                          sum  count make_proportion\n",
       "                         debt   debt            debt\n",
       "purpose_category                                    \n",
       "операции с недвижимостью  777  10704           7.26%\n",
       "проведение свадьбы        181   2299           7.87%\n",
       "получение образования     369   3970           9.29%\n",
       "операции с автомобилем    397   4258           9.32%"
      ]
     },
     "metadata": {},
     "output_type": "display_data"
    }
   ],
   "source": [
    "# построим сводную таблицу для ответа на вопрос\n",
    "data_pivot = bank_clients.pivot_table(index=['purpose_category'], values=[\"debt\"], aggfunc=['sum', 'count', make_proportion])\n",
    "# сортируем для удобства\n",
    "data_pivot = data_pivot.sort_values(by=('make_proportion', 'debt'))\n",
    "display(data_pivot)"
   ]
  },
  {
   "cell_type": "markdown",
   "id": "b8c39680",
   "metadata": {},
   "source": [
    "# Вывод\n",
    "В результате группирования по категории цели кредита видим, что количество должников в категориях \"операции с автомобилем\" и \"получение образования\" преобладает."
   ]
  },
  {
   "cell_type": "markdown",
   "id": "713c0706",
   "metadata": {},
   "source": [
    "# Общий вывод:"
   ]
  },
  {
   "cell_type": "markdown",
   "id": "1530fabf",
   "metadata": {},
   "source": [
    "В ходе работы искали зависимость между:\n",
    "\n",
    "наличием детей и возвратом кредита в срок - доля должников среди заемщиков с детьми выше</b>;\n",
    "\n",
    "семейным положением и возвратом кредита в срок - зависимость есть, чаще всего становятся должниками люди с семейным положением не женат / не замужем</b>;\n",
    "\n",
    "уровнем дохода и возвратом кредита в срок - выраженная зависимость между уровнем дохода и возвратом кредита в срок не установлена</b>;\n",
    "\n",
    "целью кредита и возвратом кредита в срок - зависимость есть, большая доля должников взяла кредит на автомобиль или образование</b>.\n",
    "\n",
    "Как результат, выявили зависимость между потециальным долгом и семейным положением, наличием детей и целью кредита. Наличие зависимости между уровнем дохода и возвратом кредита в срок не подтверждено."
   ]
  }
 ],
 "metadata": {
  "ExecuteTimeLog": [
   {
    "duration": 689,
    "start_time": "2022-02-23T11:40:49.983Z"
   },
   {
    "duration": 321,
    "start_time": "2022-02-23T11:46:35.249Z"
   },
   {
    "duration": 3,
    "start_time": "2022-02-23T11:47:12.565Z"
   },
   {
    "duration": 94,
    "start_time": "2022-02-23T11:47:12.573Z"
   },
   {
    "duration": 22,
    "start_time": "2022-02-23T11:47:12.670Z"
   },
   {
    "duration": 19,
    "start_time": "2022-02-23T11:50:54.005Z"
   },
   {
    "duration": 203,
    "start_time": "2022-02-23T13:10:33.868Z"
   },
   {
    "duration": 3,
    "start_time": "2022-02-23T13:10:38.751Z"
   },
   {
    "duration": 53,
    "start_time": "2022-02-23T13:10:38.758Z"
   },
   {
    "duration": 15,
    "start_time": "2022-02-23T13:10:38.813Z"
   },
   {
    "duration": 12,
    "start_time": "2022-02-23T13:10:38.830Z"
   },
   {
    "duration": 396,
    "start_time": "2022-02-23T13:48:58.722Z"
   },
   {
    "duration": 2,
    "start_time": "2022-02-23T13:49:04.012Z"
   },
   {
    "duration": 58,
    "start_time": "2022-02-23T13:49:04.016Z"
   },
   {
    "duration": 13,
    "start_time": "2022-02-23T13:49:04.077Z"
   },
   {
    "duration": 28,
    "start_time": "2022-02-23T13:49:04.093Z"
   },
   {
    "duration": 27,
    "start_time": "2022-02-23T13:49:04.122Z"
   },
   {
    "duration": 27,
    "start_time": "2022-02-23T13:49:04.151Z"
   },
   {
    "duration": 416,
    "start_time": "2022-02-23T13:49:04.180Z"
   },
   {
    "duration": 7,
    "start_time": "2022-02-23T13:50:30.987Z"
   },
   {
    "duration": 7,
    "start_time": "2022-02-23T13:50:53.269Z"
   },
   {
    "duration": 18,
    "start_time": "2022-02-23T13:51:52.419Z"
   },
   {
    "duration": 243,
    "start_time": "2022-02-23T14:14:10.512Z"
   },
   {
    "duration": 220,
    "start_time": "2022-02-23T14:14:36.668Z"
   },
   {
    "duration": 7,
    "start_time": "2022-02-23T14:20:04.237Z"
   },
   {
    "duration": 14,
    "start_time": "2022-02-23T14:21:07.141Z"
   },
   {
    "duration": -146,
    "start_time": "2022-02-23T14:23:16.407Z"
   },
   {
    "duration": -151,
    "start_time": "2022-02-23T14:23:16.413Z"
   },
   {
    "duration": -155,
    "start_time": "2022-02-23T14:23:16.418Z"
   },
   {
    "duration": -161,
    "start_time": "2022-02-23T14:23:16.426Z"
   },
   {
    "duration": -173,
    "start_time": "2022-02-23T14:23:16.439Z"
   },
   {
    "duration": -176,
    "start_time": "2022-02-23T14:23:16.443Z"
   },
   {
    "duration": -178,
    "start_time": "2022-02-23T14:23:16.446Z"
   },
   {
    "duration": -180,
    "start_time": "2022-02-23T14:23:16.449Z"
   },
   {
    "duration": -182,
    "start_time": "2022-02-23T14:23:16.452Z"
   },
   {
    "duration": -186,
    "start_time": "2022-02-23T14:23:16.457Z"
   },
   {
    "duration": -211,
    "start_time": "2022-02-23T14:23:16.484Z"
   },
   {
    "duration": -215,
    "start_time": "2022-02-23T14:23:16.489Z"
   },
   {
    "duration": 5288,
    "start_time": "2022-02-23T14:23:23.741Z"
   },
   {
    "duration": 12,
    "start_time": "2022-02-23T14:23:36.680Z"
   },
   {
    "duration": 204,
    "start_time": "2022-02-23T14:23:42.897Z"
   },
   {
    "duration": 3,
    "start_time": "2022-02-23T14:23:49.786Z"
   },
   {
    "duration": 62,
    "start_time": "2022-02-23T14:23:49.791Z"
   },
   {
    "duration": 15,
    "start_time": "2022-02-23T14:23:49.855Z"
   },
   {
    "duration": 12,
    "start_time": "2022-02-23T14:23:49.873Z"
   },
   {
    "duration": 8,
    "start_time": "2022-02-23T14:23:49.887Z"
   },
   {
    "duration": 10,
    "start_time": "2022-02-23T14:23:49.897Z"
   },
   {
    "duration": 422,
    "start_time": "2022-02-23T14:23:49.909Z"
   },
   {
    "duration": 6,
    "start_time": "2022-02-23T14:23:50.333Z"
   },
   {
    "duration": 33,
    "start_time": "2022-02-23T14:23:50.342Z"
   },
   {
    "duration": 5,
    "start_time": "2022-02-23T14:23:50.377Z"
   },
   {
    "duration": 22,
    "start_time": "2022-02-23T14:23:50.384Z"
   },
   {
    "duration": 5322,
    "start_time": "2022-02-23T14:23:50.408Z"
   },
   {
    "duration": 6,
    "start_time": "2022-02-23T14:27:42.681Z"
   },
   {
    "duration": 8,
    "start_time": "2022-02-23T14:48:31.817Z"
   },
   {
    "duration": 18,
    "start_time": "2022-02-23T14:49:08.337Z"
   },
   {
    "duration": 19,
    "start_time": "2022-02-23T14:50:27.313Z"
   },
   {
    "duration": 41,
    "start_time": "2022-02-23T14:50:44.893Z"
   },
   {
    "duration": 3,
    "start_time": "2022-02-23T15:17:07.025Z"
   },
   {
    "duration": 60,
    "start_time": "2022-02-23T15:17:07.030Z"
   },
   {
    "duration": 24,
    "start_time": "2022-02-23T15:17:07.093Z"
   },
   {
    "duration": 14,
    "start_time": "2022-02-23T15:17:07.120Z"
   },
   {
    "duration": 6,
    "start_time": "2022-02-23T15:17:07.137Z"
   },
   {
    "duration": 6,
    "start_time": "2022-02-23T15:17:07.169Z"
   },
   {
    "duration": 436,
    "start_time": "2022-02-23T15:17:07.178Z"
   },
   {
    "duration": 6,
    "start_time": "2022-02-23T15:17:07.617Z"
   },
   {
    "duration": 18,
    "start_time": "2022-02-23T15:17:07.625Z"
   },
   {
    "duration": 31,
    "start_time": "2022-02-23T15:17:07.645Z"
   },
   {
    "duration": 12,
    "start_time": "2022-02-23T15:17:07.679Z"
   },
   {
    "duration": 6,
    "start_time": "2022-02-23T15:17:07.693Z"
   },
   {
    "duration": 17,
    "start_time": "2022-02-23T15:17:07.701Z"
   },
   {
    "duration": 52,
    "start_time": "2022-02-23T15:17:07.719Z"
   },
   {
    "duration": 27,
    "start_time": "2022-02-23T15:17:07.773Z"
   },
   {
    "duration": 33,
    "start_time": "2022-02-23T15:17:07.803Z"
   },
   {
    "duration": 265,
    "start_time": "2022-02-27T15:38:53.464Z"
   },
   {
    "duration": 598,
    "start_time": "2022-02-27T15:39:03.405Z"
   },
   {
    "duration": 53,
    "start_time": "2022-02-27T15:39:04.005Z"
   },
   {
    "duration": 24,
    "start_time": "2022-02-27T15:39:04.061Z"
   },
   {
    "duration": 14,
    "start_time": "2022-02-27T15:39:04.087Z"
   },
   {
    "duration": 12,
    "start_time": "2022-02-27T15:39:04.103Z"
   },
   {
    "duration": 8,
    "start_time": "2022-02-27T15:39:04.117Z"
   },
   {
    "duration": 436,
    "start_time": "2022-02-27T15:39:04.126Z"
   },
   {
    "duration": 12,
    "start_time": "2022-02-27T15:39:04.564Z"
   },
   {
    "duration": 20,
    "start_time": "2022-02-27T15:39:04.579Z"
   },
   {
    "duration": 6,
    "start_time": "2022-02-27T15:39:04.601Z"
   },
   {
    "duration": 17,
    "start_time": "2022-02-27T15:39:04.609Z"
   },
   {
    "duration": 5,
    "start_time": "2022-02-27T15:39:04.628Z"
   },
   {
    "duration": 45,
    "start_time": "2022-02-27T15:39:04.635Z"
   },
   {
    "duration": 24,
    "start_time": "2022-02-27T15:39:04.682Z"
   },
   {
    "duration": 28,
    "start_time": "2022-02-27T15:39:04.708Z"
   },
   {
    "duration": 43,
    "start_time": "2022-02-27T15:39:04.738Z"
   },
   {
    "duration": 7,
    "start_time": "2022-02-27T15:39:04.783Z"
   },
   {
    "duration": 5,
    "start_time": "2022-02-27T15:39:13.004Z"
   },
   {
    "duration": 9,
    "start_time": "2022-02-27T15:39:43.756Z"
   },
   {
    "duration": 19,
    "start_time": "2022-02-27T15:41:27.552Z"
   },
   {
    "duration": 16,
    "start_time": "2022-02-27T15:42:15.040Z"
   },
   {
    "duration": 378,
    "start_time": "2022-02-27T15:50:04.724Z"
   },
   {
    "duration": 222,
    "start_time": "2022-02-27T15:50:19.756Z"
   },
   {
    "duration": 4,
    "start_time": "2022-02-27T15:50:29.632Z"
   },
   {
    "duration": 56,
    "start_time": "2022-02-27T15:50:29.638Z"
   },
   {
    "duration": 14,
    "start_time": "2022-02-27T15:50:29.696Z"
   },
   {
    "duration": 18,
    "start_time": "2022-02-27T15:50:29.712Z"
   },
   {
    "duration": 5,
    "start_time": "2022-02-27T15:50:29.732Z"
   },
   {
    "duration": 8,
    "start_time": "2022-02-27T15:50:29.739Z"
   },
   {
    "duration": 439,
    "start_time": "2022-02-27T15:50:29.749Z"
   },
   {
    "duration": 7,
    "start_time": "2022-02-27T15:50:30.190Z"
   },
   {
    "duration": 24,
    "start_time": "2022-02-27T15:50:30.200Z"
   },
   {
    "duration": 7,
    "start_time": "2022-02-27T15:50:30.226Z"
   },
   {
    "duration": 17,
    "start_time": "2022-02-27T15:50:30.235Z"
   },
   {
    "duration": 29,
    "start_time": "2022-02-27T15:50:30.254Z"
   },
   {
    "duration": 35,
    "start_time": "2022-02-27T15:50:30.285Z"
   },
   {
    "duration": 25,
    "start_time": "2022-02-27T15:50:30.321Z"
   },
   {
    "duration": 25,
    "start_time": "2022-02-27T15:50:30.347Z"
   },
   {
    "duration": 30,
    "start_time": "2022-02-27T15:50:30.374Z"
   },
   {
    "duration": 219,
    "start_time": "2022-02-27T15:50:30.406Z"
   },
   {
    "duration": 13,
    "start_time": "2022-02-27T15:50:49.783Z"
   },
   {
    "duration": 215,
    "start_time": "2022-02-27T15:55:39.978Z"
   },
   {
    "duration": 226,
    "start_time": "2022-02-27T15:55:53.202Z"
   },
   {
    "duration": 271,
    "start_time": "2022-02-27T15:56:00.282Z"
   },
   {
    "duration": 12,
    "start_time": "2022-02-27T15:56:07.078Z"
   },
   {
    "duration": 14,
    "start_time": "2022-02-27T16:00:03.794Z"
   },
   {
    "duration": 78,
    "start_time": "2022-02-27T16:13:41.075Z"
   },
   {
    "duration": 4,
    "start_time": "2022-02-27T16:14:19.127Z"
   },
   {
    "duration": 4,
    "start_time": "2022-02-27T16:14:22.912Z"
   },
   {
    "duration": 2,
    "start_time": "2022-02-27T16:14:30.607Z"
   },
   {
    "duration": 84,
    "start_time": "2022-02-27T16:14:30.613Z"
   },
   {
    "duration": 14,
    "start_time": "2022-02-27T16:14:30.699Z"
   },
   {
    "duration": 19,
    "start_time": "2022-02-27T16:14:30.716Z"
   },
   {
    "duration": 7,
    "start_time": "2022-02-27T16:14:30.737Z"
   },
   {
    "duration": 9,
    "start_time": "2022-02-27T16:14:30.746Z"
   },
   {
    "duration": 449,
    "start_time": "2022-02-27T16:14:30.757Z"
   },
   {
    "duration": 7,
    "start_time": "2022-02-27T16:14:31.208Z"
   },
   {
    "duration": 21,
    "start_time": "2022-02-27T16:14:31.217Z"
   },
   {
    "duration": 8,
    "start_time": "2022-02-27T16:14:31.241Z"
   },
   {
    "duration": 13,
    "start_time": "2022-02-27T16:14:31.278Z"
   },
   {
    "duration": 7,
    "start_time": "2022-02-27T16:14:31.292Z"
   },
   {
    "duration": 10,
    "start_time": "2022-02-27T16:14:31.300Z"
   },
   {
    "duration": 22,
    "start_time": "2022-02-27T16:14:31.311Z"
   },
   {
    "duration": 49,
    "start_time": "2022-02-27T16:14:31.335Z"
   },
   {
    "duration": 37,
    "start_time": "2022-02-27T16:14:31.386Z"
   },
   {
    "duration": 12,
    "start_time": "2022-02-27T16:14:31.424Z"
   },
   {
    "duration": 11,
    "start_time": "2022-02-27T16:14:31.438Z"
   },
   {
    "duration": 38,
    "start_time": "2022-02-27T16:14:31.450Z"
   },
   {
    "duration": 5,
    "start_time": "2022-02-27T16:14:31.489Z"
   },
   {
    "duration": 4,
    "start_time": "2022-02-27T16:14:40.931Z"
   },
   {
    "duration": 13,
    "start_time": "2022-02-27T16:18:17.575Z"
   },
   {
    "duration": 21,
    "start_time": "2022-02-27T16:18:21.575Z"
   },
   {
    "duration": 2,
    "start_time": "2022-02-27T16:18:28.972Z"
   },
   {
    "duration": 53,
    "start_time": "2022-02-27T16:18:28.978Z"
   },
   {
    "duration": 15,
    "start_time": "2022-02-27T16:18:29.033Z"
   },
   {
    "duration": 28,
    "start_time": "2022-02-27T16:18:29.051Z"
   },
   {
    "duration": 6,
    "start_time": "2022-02-27T16:18:29.082Z"
   },
   {
    "duration": 15,
    "start_time": "2022-02-27T16:18:29.090Z"
   },
   {
    "duration": 415,
    "start_time": "2022-02-27T16:18:29.107Z"
   },
   {
    "duration": 6,
    "start_time": "2022-02-27T16:18:29.524Z"
   },
   {
    "duration": 25,
    "start_time": "2022-02-27T16:18:29.532Z"
   },
   {
    "duration": 18,
    "start_time": "2022-02-27T16:18:29.560Z"
   },
   {
    "duration": 17,
    "start_time": "2022-02-27T16:18:29.580Z"
   },
   {
    "duration": 20,
    "start_time": "2022-02-27T16:18:29.598Z"
   },
   {
    "duration": 40,
    "start_time": "2022-02-27T16:18:29.620Z"
   },
   {
    "duration": 49,
    "start_time": "2022-02-27T16:18:29.662Z"
   },
   {
    "duration": 34,
    "start_time": "2022-02-27T16:18:29.713Z"
   },
   {
    "duration": 37,
    "start_time": "2022-02-27T16:18:29.749Z"
   },
   {
    "duration": 13,
    "start_time": "2022-02-27T16:18:29.788Z"
   },
   {
    "duration": 21,
    "start_time": "2022-02-27T16:18:29.803Z"
   },
   {
    "duration": 19,
    "start_time": "2022-02-27T16:18:29.826Z"
   },
   {
    "duration": 15,
    "start_time": "2022-02-27T16:18:29.847Z"
   },
   {
    "duration": 20,
    "start_time": "2022-02-27T16:18:29.864Z"
   },
   {
    "duration": 306,
    "start_time": "2022-02-27T16:23:25.848Z"
   },
   {
    "duration": 249,
    "start_time": "2022-02-27T16:25:11.661Z"
   },
   {
    "duration": 3,
    "start_time": "2022-02-27T16:25:21.141Z"
   },
   {
    "duration": 55,
    "start_time": "2022-02-27T16:25:21.146Z"
   },
   {
    "duration": 13,
    "start_time": "2022-02-27T16:25:21.203Z"
   },
   {
    "duration": 13,
    "start_time": "2022-02-27T16:25:21.218Z"
   },
   {
    "duration": 6,
    "start_time": "2022-02-27T16:25:21.233Z"
   },
   {
    "duration": 6,
    "start_time": "2022-02-27T16:25:21.241Z"
   },
   {
    "duration": 400,
    "start_time": "2022-02-27T16:25:21.248Z"
   },
   {
    "duration": 6,
    "start_time": "2022-02-27T16:25:21.650Z"
   },
   {
    "duration": 30,
    "start_time": "2022-02-27T16:25:21.658Z"
   },
   {
    "duration": 5,
    "start_time": "2022-02-27T16:25:21.690Z"
   },
   {
    "duration": 10,
    "start_time": "2022-02-27T16:25:21.697Z"
   },
   {
    "duration": 5,
    "start_time": "2022-02-27T16:25:21.709Z"
   },
   {
    "duration": 9,
    "start_time": "2022-02-27T16:25:21.715Z"
   },
   {
    "duration": 17,
    "start_time": "2022-02-27T16:25:21.726Z"
   },
   {
    "duration": 47,
    "start_time": "2022-02-27T16:25:21.745Z"
   },
   {
    "duration": 30,
    "start_time": "2022-02-27T16:25:21.793Z"
   },
   {
    "duration": 13,
    "start_time": "2022-02-27T16:25:21.825Z"
   },
   {
    "duration": 46,
    "start_time": "2022-02-27T16:25:21.840Z"
   },
   {
    "duration": 12,
    "start_time": "2022-02-27T16:25:21.888Z"
   },
   {
    "duration": 4,
    "start_time": "2022-02-27T16:25:21.902Z"
   },
   {
    "duration": 291,
    "start_time": "2022-02-27T16:25:21.908Z"
   },
   {
    "duration": 231,
    "start_time": "2022-02-27T16:27:16.353Z"
   },
   {
    "duration": 13,
    "start_time": "2022-02-27T16:28:33.193Z"
   },
   {
    "duration": 11,
    "start_time": "2022-02-27T16:28:54.120Z"
   },
   {
    "duration": 4,
    "start_time": "2022-02-27T16:28:57.329Z"
   },
   {
    "duration": 10,
    "start_time": "2022-02-27T16:28:58.105Z"
   },
   {
    "duration": 2,
    "start_time": "2022-02-27T16:29:02.202Z"
   },
   {
    "duration": 60,
    "start_time": "2022-02-27T16:29:02.206Z"
   },
   {
    "duration": 14,
    "start_time": "2022-02-27T16:29:02.268Z"
   },
   {
    "duration": 16,
    "start_time": "2022-02-27T16:29:02.285Z"
   },
   {
    "duration": 6,
    "start_time": "2022-02-27T16:29:02.303Z"
   },
   {
    "duration": 10,
    "start_time": "2022-02-27T16:29:02.311Z"
   },
   {
    "duration": 408,
    "start_time": "2022-02-27T16:29:02.323Z"
   },
   {
    "duration": 8,
    "start_time": "2022-02-27T16:29:02.733Z"
   },
   {
    "duration": 34,
    "start_time": "2022-02-27T16:29:02.744Z"
   },
   {
    "duration": 6,
    "start_time": "2022-02-27T16:29:02.781Z"
   },
   {
    "duration": 12,
    "start_time": "2022-02-27T16:29:02.789Z"
   },
   {
    "duration": 8,
    "start_time": "2022-02-27T16:29:02.803Z"
   },
   {
    "duration": 11,
    "start_time": "2022-02-27T16:29:02.813Z"
   },
   {
    "duration": 19,
    "start_time": "2022-02-27T16:29:02.826Z"
   },
   {
    "duration": 19,
    "start_time": "2022-02-27T16:29:02.878Z"
   },
   {
    "duration": 30,
    "start_time": "2022-02-27T16:29:02.899Z"
   },
   {
    "duration": 13,
    "start_time": "2022-02-27T16:29:02.931Z"
   },
   {
    "duration": 42,
    "start_time": "2022-02-27T16:29:02.946Z"
   },
   {
    "duration": 15,
    "start_time": "2022-02-27T16:29:02.989Z"
   },
   {
    "duration": 4,
    "start_time": "2022-02-27T16:29:03.006Z"
   },
   {
    "duration": 15,
    "start_time": "2022-02-27T16:29:03.012Z"
   },
   {
    "duration": 65,
    "start_time": "2022-02-27T17:03:46.616Z"
   },
   {
    "duration": 12,
    "start_time": "2022-02-27T17:03:54.917Z"
   },
   {
    "duration": 10,
    "start_time": "2022-02-27T17:03:57.816Z"
   },
   {
    "duration": 12,
    "start_time": "2022-02-27T17:04:41.388Z"
   },
   {
    "duration": 11,
    "start_time": "2022-02-27T17:04:54.189Z"
   },
   {
    "duration": 11,
    "start_time": "2022-02-27T17:05:08.644Z"
   },
   {
    "duration": 11,
    "start_time": "2022-02-27T17:05:50.080Z"
   },
   {
    "duration": 4,
    "start_time": "2022-02-27T17:10:38.536Z"
   },
   {
    "duration": 11,
    "start_time": "2022-02-27T17:11:14.264Z"
   },
   {
    "duration": 2,
    "start_time": "2022-02-27T17:11:24.977Z"
   },
   {
    "duration": 64,
    "start_time": "2022-02-27T17:11:24.982Z"
   },
   {
    "duration": 13,
    "start_time": "2022-02-27T17:11:25.048Z"
   },
   {
    "duration": 19,
    "start_time": "2022-02-27T17:11:25.063Z"
   },
   {
    "duration": 6,
    "start_time": "2022-02-27T17:11:25.084Z"
   },
   {
    "duration": 11,
    "start_time": "2022-02-27T17:11:25.091Z"
   },
   {
    "duration": 388,
    "start_time": "2022-02-27T17:11:25.104Z"
   },
   {
    "duration": 5,
    "start_time": "2022-02-27T17:11:25.494Z"
   },
   {
    "duration": 14,
    "start_time": "2022-02-27T17:11:25.501Z"
   },
   {
    "duration": 5,
    "start_time": "2022-02-27T17:11:25.518Z"
   },
   {
    "duration": 16,
    "start_time": "2022-02-27T17:11:25.524Z"
   },
   {
    "duration": 6,
    "start_time": "2022-02-27T17:11:25.541Z"
   },
   {
    "duration": 7,
    "start_time": "2022-02-27T17:11:25.578Z"
   },
   {
    "duration": 22,
    "start_time": "2022-02-27T17:11:25.587Z"
   },
   {
    "duration": 22,
    "start_time": "2022-02-27T17:11:25.611Z"
   },
   {
    "duration": 45,
    "start_time": "2022-02-27T17:11:25.635Z"
   },
   {
    "duration": 11,
    "start_time": "2022-02-27T17:11:25.682Z"
   },
   {
    "duration": 11,
    "start_time": "2022-02-27T17:11:25.695Z"
   },
   {
    "duration": 12,
    "start_time": "2022-02-27T17:11:25.708Z"
   },
   {
    "duration": 5,
    "start_time": "2022-02-27T17:11:25.722Z"
   },
   {
    "duration": 19,
    "start_time": "2022-02-27T17:11:25.728Z"
   },
   {
    "duration": 5634,
    "start_time": "2022-02-27T18:10:26.488Z"
   },
   {
    "duration": 12,
    "start_time": "2022-02-27T18:12:28.396Z"
   },
   {
    "duration": 3,
    "start_time": "2022-02-27T18:12:34.652Z"
   },
   {
    "duration": 53,
    "start_time": "2022-02-27T18:12:34.659Z"
   },
   {
    "duration": 14,
    "start_time": "2022-02-27T18:12:34.715Z"
   },
   {
    "duration": 19,
    "start_time": "2022-02-27T18:12:34.731Z"
   },
   {
    "duration": 6,
    "start_time": "2022-02-27T18:12:34.752Z"
   },
   {
    "duration": 20,
    "start_time": "2022-02-27T18:12:34.760Z"
   },
   {
    "duration": 408,
    "start_time": "2022-02-27T18:12:34.782Z"
   },
   {
    "duration": 6,
    "start_time": "2022-02-27T18:12:35.193Z"
   },
   {
    "duration": 16,
    "start_time": "2022-02-27T18:12:35.202Z"
   },
   {
    "duration": 10,
    "start_time": "2022-02-27T18:12:35.220Z"
   },
   {
    "duration": 19,
    "start_time": "2022-02-27T18:12:35.232Z"
   },
   {
    "duration": 27,
    "start_time": "2022-02-27T18:12:35.253Z"
   },
   {
    "duration": 11,
    "start_time": "2022-02-27T18:12:35.282Z"
   },
   {
    "duration": 20,
    "start_time": "2022-02-27T18:12:35.295Z"
   },
   {
    "duration": 29,
    "start_time": "2022-02-27T18:12:35.317Z"
   },
   {
    "duration": 56,
    "start_time": "2022-02-27T18:12:35.348Z"
   },
   {
    "duration": 11,
    "start_time": "2022-02-27T18:12:35.406Z"
   },
   {
    "duration": 21,
    "start_time": "2022-02-27T18:12:35.419Z"
   },
   {
    "duration": 13,
    "start_time": "2022-02-27T18:12:35.442Z"
   },
   {
    "duration": 21,
    "start_time": "2022-02-27T18:12:35.457Z"
   },
   {
    "duration": 30,
    "start_time": "2022-02-27T18:12:35.480Z"
   },
   {
    "duration": 8,
    "start_time": "2022-02-27T18:12:35.512Z"
   },
   {
    "duration": 13,
    "start_time": "2022-02-27T18:12:47.640Z"
   },
   {
    "duration": 4,
    "start_time": "2022-02-27T18:14:18.660Z"
   },
   {
    "duration": 5,
    "start_time": "2022-02-27T18:14:45.981Z"
   },
   {
    "duration": 3,
    "start_time": "2022-02-27T18:19:56.791Z"
   },
   {
    "duration": 11,
    "start_time": "2022-02-27T18:21:54.457Z"
   },
   {
    "duration": 971,
    "start_time": "2022-02-27T18:22:36.021Z"
   },
   {
    "duration": 1013,
    "start_time": "2022-02-27T18:24:42.469Z"
   },
   {
    "duration": -49,
    "start_time": "2022-02-27T18:24:55.864Z"
   },
   {
    "duration": 3,
    "start_time": "2022-02-27T18:24:59.297Z"
   },
   {
    "duration": 49,
    "start_time": "2022-02-27T18:24:59.304Z"
   },
   {
    "duration": 13,
    "start_time": "2022-02-27T18:24:59.355Z"
   },
   {
    "duration": 13,
    "start_time": "2022-02-27T18:24:59.370Z"
   },
   {
    "duration": 4,
    "start_time": "2022-02-27T18:24:59.385Z"
   },
   {
    "duration": 6,
    "start_time": "2022-02-27T18:24:59.391Z"
   },
   {
    "duration": 392,
    "start_time": "2022-02-27T18:24:59.398Z"
   },
   {
    "duration": 5,
    "start_time": "2022-02-27T18:24:59.792Z"
   },
   {
    "duration": 15,
    "start_time": "2022-02-27T18:24:59.800Z"
   },
   {
    "duration": 5,
    "start_time": "2022-02-27T18:24:59.817Z"
   },
   {
    "duration": 13,
    "start_time": "2022-02-27T18:24:59.823Z"
   },
   {
    "duration": 5,
    "start_time": "2022-02-27T18:24:59.838Z"
   },
   {
    "duration": 38,
    "start_time": "2022-02-27T18:24:59.845Z"
   },
   {
    "duration": 18,
    "start_time": "2022-02-27T18:24:59.885Z"
   },
   {
    "duration": 18,
    "start_time": "2022-02-27T18:24:59.905Z"
   },
   {
    "duration": 55,
    "start_time": "2022-02-27T18:24:59.925Z"
   },
   {
    "duration": 12,
    "start_time": "2022-02-27T18:24:59.982Z"
   },
   {
    "duration": 15,
    "start_time": "2022-02-27T18:24:59.996Z"
   },
   {
    "duration": 14,
    "start_time": "2022-02-27T18:25:00.013Z"
   },
   {
    "duration": 8,
    "start_time": "2022-02-27T18:25:00.029Z"
   },
   {
    "duration": 39,
    "start_time": "2022-02-27T18:25:00.038Z"
   },
   {
    "duration": 12,
    "start_time": "2022-02-27T18:25:00.079Z"
   },
   {
    "duration": 1069,
    "start_time": "2022-02-27T18:25:10.765Z"
   },
   {
    "duration": 1071,
    "start_time": "2022-02-27T19:08:58.644Z"
   },
   {
    "duration": 3,
    "start_time": "2022-02-27T19:09:05.149Z"
   },
   {
    "duration": 56,
    "start_time": "2022-02-27T19:09:05.154Z"
   },
   {
    "duration": 13,
    "start_time": "2022-02-27T19:09:05.212Z"
   },
   {
    "duration": 15,
    "start_time": "2022-02-27T19:09:05.227Z"
   },
   {
    "duration": 17,
    "start_time": "2022-02-27T19:09:05.244Z"
   },
   {
    "duration": 14,
    "start_time": "2022-02-27T19:09:05.263Z"
   },
   {
    "duration": 404,
    "start_time": "2022-02-27T19:09:05.279Z"
   },
   {
    "duration": 6,
    "start_time": "2022-02-27T19:09:05.686Z"
   },
   {
    "duration": 25,
    "start_time": "2022-02-27T19:09:05.694Z"
   },
   {
    "duration": 10,
    "start_time": "2022-02-27T19:09:05.721Z"
   },
   {
    "duration": 15,
    "start_time": "2022-02-27T19:09:05.732Z"
   },
   {
    "duration": 7,
    "start_time": "2022-02-27T19:09:05.749Z"
   },
   {
    "duration": 8,
    "start_time": "2022-02-27T19:09:05.778Z"
   },
   {
    "duration": 19,
    "start_time": "2022-02-27T19:09:05.788Z"
   },
   {
    "duration": 22,
    "start_time": "2022-02-27T19:09:05.808Z"
   },
   {
    "duration": 48,
    "start_time": "2022-02-27T19:09:05.832Z"
   },
   {
    "duration": 13,
    "start_time": "2022-02-27T19:09:05.881Z"
   },
   {
    "duration": 12,
    "start_time": "2022-02-27T19:09:05.895Z"
   },
   {
    "duration": 13,
    "start_time": "2022-02-27T19:09:05.908Z"
   },
   {
    "duration": 4,
    "start_time": "2022-02-27T19:09:05.923Z"
   },
   {
    "duration": 49,
    "start_time": "2022-02-27T19:09:05.929Z"
   },
   {
    "duration": 12,
    "start_time": "2022-02-27T19:09:05.979Z"
   },
   {
    "duration": 11,
    "start_time": "2022-02-27T19:09:11.073Z"
   },
   {
    "duration": 13,
    "start_time": "2022-02-27T19:10:33.096Z"
   },
   {
    "duration": 12,
    "start_time": "2022-02-27T19:11:17.765Z"
   },
   {
    "duration": 13,
    "start_time": "2022-02-27T19:12:16.284Z"
   },
   {
    "duration": 12,
    "start_time": "2022-02-27T19:13:02.385Z"
   },
   {
    "duration": 11,
    "start_time": "2022-02-27T19:13:16.153Z"
   },
   {
    "duration": 13,
    "start_time": "2022-02-27T19:16:57.164Z"
   },
   {
    "duration": 9,
    "start_time": "2022-02-27T19:17:51.357Z"
   },
   {
    "duration": 12,
    "start_time": "2022-02-27T19:19:08.492Z"
   },
   {
    "duration": 11,
    "start_time": "2022-02-27T19:19:17.709Z"
   },
   {
    "duration": 12,
    "start_time": "2022-02-27T19:20:04.065Z"
   },
   {
    "duration": 12,
    "start_time": "2022-02-27T19:20:35.480Z"
   },
   {
    "duration": 203,
    "start_time": "2022-02-27T19:47:34.264Z"
   },
   {
    "duration": 215,
    "start_time": "2022-02-27T19:48:31.516Z"
   },
   {
    "duration": 26,
    "start_time": "2022-02-27T19:48:55.976Z"
   },
   {
    "duration": 3,
    "start_time": "2022-02-27T19:56:20.453Z"
   },
   {
    "duration": 343,
    "start_time": "2022-02-27T19:56:41.733Z"
   },
   {
    "duration": 347,
    "start_time": "2022-02-27T19:56:51.885Z"
   },
   {
    "duration": 363,
    "start_time": "2022-02-27T19:56:59.853Z"
   },
   {
    "duration": 361,
    "start_time": "2022-02-27T19:57:10.252Z"
   },
   {
    "duration": 3,
    "start_time": "2022-02-27T19:57:24.288Z"
   },
   {
    "duration": 54,
    "start_time": "2022-02-27T19:57:24.295Z"
   },
   {
    "duration": 12,
    "start_time": "2022-02-27T19:57:24.351Z"
   },
   {
    "duration": 18,
    "start_time": "2022-02-27T19:57:24.365Z"
   },
   {
    "duration": 14,
    "start_time": "2022-02-27T19:57:24.385Z"
   },
   {
    "duration": 9,
    "start_time": "2022-02-27T19:57:24.400Z"
   },
   {
    "duration": 367,
    "start_time": "2022-02-27T19:57:24.411Z"
   },
   {
    "duration": 5,
    "start_time": "2022-02-27T19:57:24.779Z"
   },
   {
    "duration": 14,
    "start_time": "2022-02-27T19:57:24.787Z"
   },
   {
    "duration": 5,
    "start_time": "2022-02-27T19:57:24.803Z"
   },
   {
    "duration": 12,
    "start_time": "2022-02-27T19:57:24.810Z"
   },
   {
    "duration": 5,
    "start_time": "2022-02-27T19:57:24.823Z"
   },
   {
    "duration": 8,
    "start_time": "2022-02-27T19:57:24.829Z"
   },
   {
    "duration": 51,
    "start_time": "2022-02-27T19:57:24.839Z"
   },
   {
    "duration": 16,
    "start_time": "2022-02-27T19:57:24.891Z"
   },
   {
    "duration": 28,
    "start_time": "2022-02-27T19:57:24.909Z"
   },
   {
    "duration": 11,
    "start_time": "2022-02-27T19:57:24.938Z"
   },
   {
    "duration": 11,
    "start_time": "2022-02-27T19:57:24.978Z"
   },
   {
    "duration": 12,
    "start_time": "2022-02-27T19:57:24.990Z"
   },
   {
    "duration": 6,
    "start_time": "2022-02-27T19:57:25.004Z"
   },
   {
    "duration": 20,
    "start_time": "2022-02-27T19:57:25.012Z"
   },
   {
    "duration": 15,
    "start_time": "2022-02-27T19:57:25.033Z"
   },
   {
    "duration": 441,
    "start_time": "2022-02-27T19:57:25.050Z"
   },
   {
    "duration": 9,
    "start_time": "2022-02-27T19:57:54.089Z"
   },
   {
    "duration": 3,
    "start_time": "2022-02-27T19:58:09.756Z"
   },
   {
    "duration": 52,
    "start_time": "2022-02-27T19:58:09.763Z"
   },
   {
    "duration": 13,
    "start_time": "2022-02-27T19:58:09.817Z"
   },
   {
    "duration": 12,
    "start_time": "2022-02-27T19:58:09.832Z"
   },
   {
    "duration": 5,
    "start_time": "2022-02-27T19:58:09.847Z"
   },
   {
    "duration": 26,
    "start_time": "2022-02-27T19:58:09.853Z"
   },
   {
    "duration": 386,
    "start_time": "2022-02-27T19:58:09.880Z"
   },
   {
    "duration": 10,
    "start_time": "2022-02-27T19:58:10.268Z"
   },
   {
    "duration": 18,
    "start_time": "2022-02-27T19:58:10.280Z"
   },
   {
    "duration": 5,
    "start_time": "2022-02-27T19:58:10.300Z"
   },
   {
    "duration": 13,
    "start_time": "2022-02-27T19:58:10.307Z"
   },
   {
    "duration": 8,
    "start_time": "2022-02-27T19:58:10.322Z"
   },
   {
    "duration": 11,
    "start_time": "2022-02-27T19:58:10.331Z"
   },
   {
    "duration": 44,
    "start_time": "2022-02-27T19:58:10.344Z"
   },
   {
    "duration": 18,
    "start_time": "2022-02-27T19:58:10.390Z"
   },
   {
    "duration": 31,
    "start_time": "2022-02-27T19:58:10.410Z"
   },
   {
    "duration": 44,
    "start_time": "2022-02-27T19:58:10.443Z"
   },
   {
    "duration": 13,
    "start_time": "2022-02-27T19:58:10.489Z"
   },
   {
    "duration": 13,
    "start_time": "2022-02-27T19:58:10.504Z"
   },
   {
    "duration": 4,
    "start_time": "2022-02-27T19:58:10.518Z"
   },
   {
    "duration": 16,
    "start_time": "2022-02-27T19:58:10.523Z"
   },
   {
    "duration": 48,
    "start_time": "2022-02-27T19:58:10.540Z"
   },
   {
    "duration": 15,
    "start_time": "2022-02-27T19:58:10.590Z"
   },
   {
    "duration": 214,
    "start_time": "2022-02-27T20:01:10.373Z"
   },
   {
    "duration": 218,
    "start_time": "2022-02-27T20:01:28.549Z"
   },
   {
    "duration": 17,
    "start_time": "2022-02-27T20:01:50.697Z"
   },
   {
    "duration": 563,
    "start_time": "2022-02-27T20:12:42.750Z"
   },
   {
    "duration": 217,
    "start_time": "2022-02-27T20:13:12.854Z"
   },
   {
    "duration": 215,
    "start_time": "2022-02-27T20:13:30.474Z"
   },
   {
    "duration": 207,
    "start_time": "2022-02-27T20:13:44.366Z"
   },
   {
    "duration": 3,
    "start_time": "2022-02-27T20:13:48.073Z"
   },
   {
    "duration": 68,
    "start_time": "2022-02-27T20:13:48.080Z"
   },
   {
    "duration": 27,
    "start_time": "2022-02-27T20:13:48.150Z"
   },
   {
    "duration": 12,
    "start_time": "2022-02-27T20:13:48.179Z"
   },
   {
    "duration": 6,
    "start_time": "2022-02-27T20:13:48.193Z"
   },
   {
    "duration": 7,
    "start_time": "2022-02-27T20:13:48.201Z"
   },
   {
    "duration": 385,
    "start_time": "2022-02-27T20:13:48.210Z"
   },
   {
    "duration": 6,
    "start_time": "2022-02-27T20:13:48.597Z"
   },
   {
    "duration": 18,
    "start_time": "2022-02-27T20:13:48.604Z"
   },
   {
    "duration": 5,
    "start_time": "2022-02-27T20:13:48.625Z"
   },
   {
    "duration": 12,
    "start_time": "2022-02-27T20:13:48.632Z"
   },
   {
    "duration": 35,
    "start_time": "2022-02-27T20:13:48.645Z"
   },
   {
    "duration": 12,
    "start_time": "2022-02-27T20:13:48.682Z"
   },
   {
    "duration": 17,
    "start_time": "2022-02-27T20:13:48.696Z"
   },
   {
    "duration": 19,
    "start_time": "2022-02-27T20:13:48.714Z"
   },
   {
    "duration": 69,
    "start_time": "2022-02-27T20:13:48.735Z"
   },
   {
    "duration": 12,
    "start_time": "2022-02-27T20:13:48.805Z"
   },
   {
    "duration": 11,
    "start_time": "2022-02-27T20:13:48.819Z"
   },
   {
    "duration": 13,
    "start_time": "2022-02-27T20:13:48.832Z"
   },
   {
    "duration": 6,
    "start_time": "2022-02-27T20:13:48.877Z"
   },
   {
    "duration": 14,
    "start_time": "2022-02-27T20:13:48.885Z"
   },
   {
    "duration": 14,
    "start_time": "2022-02-27T20:13:48.901Z"
   },
   {
    "duration": 12,
    "start_time": "2022-02-27T20:13:48.916Z"
   },
   {
    "duration": 48,
    "start_time": "2022-02-27T20:13:48.930Z"
   },
   {
    "duration": 207,
    "start_time": "2022-02-27T20:15:25.270Z"
   },
   {
    "duration": -42,
    "start_time": "2022-02-27T20:15:44.401Z"
   },
   {
    "duration": -45,
    "start_time": "2022-02-27T20:56:14.358Z"
   },
   {
    "duration": 3,
    "start_time": "2022-02-27T20:56:21.663Z"
   },
   {
    "duration": 54,
    "start_time": "2022-02-27T20:56:21.670Z"
   },
   {
    "duration": 15,
    "start_time": "2022-02-27T20:56:21.726Z"
   },
   {
    "duration": 35,
    "start_time": "2022-02-27T20:56:21.743Z"
   },
   {
    "duration": 5,
    "start_time": "2022-02-27T20:56:21.780Z"
   },
   {
    "duration": 6,
    "start_time": "2022-02-27T20:56:21.787Z"
   },
   {
    "duration": 395,
    "start_time": "2022-02-27T20:56:21.794Z"
   },
   {
    "duration": 6,
    "start_time": "2022-02-27T20:56:22.191Z"
   },
   {
    "duration": 15,
    "start_time": "2022-02-27T20:56:22.201Z"
   },
   {
    "duration": 6,
    "start_time": "2022-02-27T20:56:22.219Z"
   },
   {
    "duration": 11,
    "start_time": "2022-02-27T20:56:22.227Z"
   },
   {
    "duration": 7,
    "start_time": "2022-02-27T20:56:22.276Z"
   },
   {
    "duration": 8,
    "start_time": "2022-02-27T20:56:22.285Z"
   },
   {
    "duration": 18,
    "start_time": "2022-02-27T20:56:22.295Z"
   },
   {
    "duration": 17,
    "start_time": "2022-02-27T20:56:22.314Z"
   },
   {
    "duration": 59,
    "start_time": "2022-02-27T20:56:22.333Z"
   },
   {
    "duration": 22,
    "start_time": "2022-02-27T20:56:22.394Z"
   },
   {
    "duration": 10,
    "start_time": "2022-02-27T20:56:22.418Z"
   },
   {
    "duration": 12,
    "start_time": "2022-02-27T20:56:22.430Z"
   },
   {
    "duration": 33,
    "start_time": "2022-02-27T20:56:22.444Z"
   },
   {
    "duration": 13,
    "start_time": "2022-02-27T20:56:22.479Z"
   },
   {
    "duration": 14,
    "start_time": "2022-02-27T20:56:22.493Z"
   },
   {
    "duration": 11,
    "start_time": "2022-02-27T20:56:22.509Z"
   },
   {
    "duration": 16,
    "start_time": "2022-02-27T20:56:22.523Z"
   },
   {
    "duration": 328,
    "start_time": "2022-02-27T21:01:58.115Z"
   },
   {
    "duration": 209,
    "start_time": "2022-02-27T21:02:54.055Z"
   },
   {
    "duration": 5439,
    "start_time": "2022-02-27T21:03:13.971Z"
   },
   {
    "duration": 2,
    "start_time": "2022-02-27T21:03:47.887Z"
   },
   {
    "duration": 59,
    "start_time": "2022-02-27T21:03:47.893Z"
   },
   {
    "duration": 13,
    "start_time": "2022-02-27T21:03:47.953Z"
   },
   {
    "duration": 11,
    "start_time": "2022-02-27T21:03:49.376Z"
   },
   {
    "duration": 5,
    "start_time": "2022-02-27T21:03:49.389Z"
   },
   {
    "duration": 4,
    "start_time": "2022-02-27T21:03:49.396Z"
   },
   {
    "duration": 382,
    "start_time": "2022-02-27T21:03:50.887Z"
   },
   {
    "duration": 10,
    "start_time": "2022-02-27T21:03:51.271Z"
   },
   {
    "duration": 27,
    "start_time": "2022-02-27T21:03:51.283Z"
   },
   {
    "duration": 16,
    "start_time": "2022-02-27T21:03:51.312Z"
   },
   {
    "duration": 14,
    "start_time": "2022-02-27T21:03:51.329Z"
   },
   {
    "duration": 6,
    "start_time": "2022-02-27T21:03:51.344Z"
   },
   {
    "duration": 12,
    "start_time": "2022-02-27T21:03:51.351Z"
   },
   {
    "duration": 29,
    "start_time": "2022-02-27T21:03:51.365Z"
   },
   {
    "duration": 21,
    "start_time": "2022-02-27T21:03:51.396Z"
   },
   {
    "duration": 31,
    "start_time": "2022-02-27T21:03:51.419Z"
   },
   {
    "duration": 33,
    "start_time": "2022-02-27T21:03:51.452Z"
   },
   {
    "duration": 223,
    "start_time": "2022-02-27T21:03:51.487Z"
   },
   {
    "duration": -349,
    "start_time": "2022-02-27T21:03:52.060Z"
   },
   {
    "duration": -350,
    "start_time": "2022-02-27T21:03:52.063Z"
   },
   {
    "duration": -495,
    "start_time": "2022-02-27T21:03:52.208Z"
   },
   {
    "duration": -500,
    "start_time": "2022-02-27T21:03:52.214Z"
   },
   {
    "duration": -502,
    "start_time": "2022-02-27T21:03:52.217Z"
   },
   {
    "duration": -503,
    "start_time": "2022-02-27T21:03:52.220Z"
   },
   {
    "duration": 17,
    "start_time": "2022-02-27T21:03:58.908Z"
   },
   {
    "duration": 10,
    "start_time": "2022-02-27T21:04:09.104Z"
   },
   {
    "duration": 12,
    "start_time": "2022-02-27T21:04:12.815Z"
   },
   {
    "duration": 15,
    "start_time": "2022-02-27T21:04:19.099Z"
   },
   {
    "duration": 20,
    "start_time": "2022-02-27T21:04:22.231Z"
   },
   {
    "duration": 15,
    "start_time": "2022-02-27T21:05:17.911Z"
   },
   {
    "duration": 222,
    "start_time": "2022-02-27T21:05:28.971Z"
   },
   {
    "duration": 16,
    "start_time": "2022-02-27T21:05:38.791Z"
   },
   {
    "duration": 5657,
    "start_time": "2022-02-27T21:05:52.327Z"
   },
   {
    "duration": 5630,
    "start_time": "2022-02-27T21:07:31.675Z"
   },
   {
    "duration": 5617,
    "start_time": "2022-02-27T21:07:46.335Z"
   },
   {
    "duration": 5275,
    "start_time": "2022-02-27T21:09:14.087Z"
   },
   {
    "duration": 3,
    "start_time": "2022-02-27T21:09:29.499Z"
   },
   {
    "duration": 63,
    "start_time": "2022-02-27T21:09:29.505Z"
   },
   {
    "duration": 13,
    "start_time": "2022-02-27T21:09:29.570Z"
   },
   {
    "duration": 25,
    "start_time": "2022-02-27T21:09:29.585Z"
   },
   {
    "duration": 17,
    "start_time": "2022-02-27T21:09:29.612Z"
   },
   {
    "duration": 17,
    "start_time": "2022-02-27T21:09:29.631Z"
   },
   {
    "duration": 385,
    "start_time": "2022-02-27T21:09:29.650Z"
   },
   {
    "duration": 6,
    "start_time": "2022-02-27T21:09:30.037Z"
   },
   {
    "duration": 18,
    "start_time": "2022-02-27T21:09:30.045Z"
   },
   {
    "duration": 17,
    "start_time": "2022-02-27T21:09:30.065Z"
   },
   {
    "duration": 24,
    "start_time": "2022-02-27T21:09:30.084Z"
   },
   {
    "duration": 5,
    "start_time": "2022-02-27T21:09:30.109Z"
   },
   {
    "duration": 16,
    "start_time": "2022-02-27T21:09:30.116Z"
   },
   {
    "duration": 20,
    "start_time": "2022-02-27T21:09:30.133Z"
   },
   {
    "duration": 34,
    "start_time": "2022-02-27T21:09:30.154Z"
   },
   {
    "duration": 31,
    "start_time": "2022-02-27T21:09:30.189Z"
   },
   {
    "duration": 25,
    "start_time": "2022-02-27T21:09:30.222Z"
   },
   {
    "duration": 256,
    "start_time": "2022-02-27T21:09:30.248Z"
   },
   {
    "duration": -42,
    "start_time": "2022-02-27T21:09:30.548Z"
   },
   {
    "duration": -44,
    "start_time": "2022-02-27T21:09:30.551Z"
   },
   {
    "duration": -45,
    "start_time": "2022-02-27T21:09:30.553Z"
   },
   {
    "duration": -48,
    "start_time": "2022-02-27T21:09:30.556Z"
   },
   {
    "duration": -50,
    "start_time": "2022-02-27T21:09:30.559Z"
   },
   {
    "duration": -51,
    "start_time": "2022-02-27T21:09:30.561Z"
   },
   {
    "duration": 238,
    "start_time": "2022-02-27T21:16:12.511Z"
   },
   {
    "duration": 179,
    "start_time": "2022-02-28T18:59:44.329Z"
   },
   {
    "duration": 515,
    "start_time": "2022-02-28T18:59:52.897Z"
   },
   {
    "duration": 51,
    "start_time": "2022-02-28T18:59:53.413Z"
   },
   {
    "duration": 18,
    "start_time": "2022-02-28T18:59:53.466Z"
   },
   {
    "duration": 13,
    "start_time": "2022-02-28T18:59:53.485Z"
   },
   {
    "duration": 4,
    "start_time": "2022-02-28T18:59:53.499Z"
   },
   {
    "duration": 6,
    "start_time": "2022-02-28T18:59:53.505Z"
   },
   {
    "duration": 350,
    "start_time": "2022-02-28T18:59:53.512Z"
   },
   {
    "duration": 6,
    "start_time": "2022-02-28T18:59:53.864Z"
   },
   {
    "duration": 19,
    "start_time": "2022-02-28T18:59:53.872Z"
   },
   {
    "duration": 5,
    "start_time": "2022-02-28T18:59:53.892Z"
   },
   {
    "duration": 12,
    "start_time": "2022-02-28T18:59:53.899Z"
   },
   {
    "duration": 7,
    "start_time": "2022-02-28T18:59:53.937Z"
   },
   {
    "duration": 12,
    "start_time": "2022-02-28T18:59:53.945Z"
   },
   {
    "duration": 18,
    "start_time": "2022-02-28T18:59:53.959Z"
   },
   {
    "duration": 24,
    "start_time": "2022-02-28T18:59:53.979Z"
   },
   {
    "duration": 41,
    "start_time": "2022-02-28T18:59:54.005Z"
   },
   {
    "duration": 23,
    "start_time": "2022-02-28T18:59:54.048Z"
   },
   {
    "duration": 21,
    "start_time": "2022-02-28T18:59:54.073Z"
   },
   {
    "duration": 13,
    "start_time": "2022-02-28T18:59:54.095Z"
   },
   {
    "duration": 4,
    "start_time": "2022-02-28T18:59:54.138Z"
   },
   {
    "duration": 168,
    "start_time": "2022-02-28T18:59:54.143Z"
   },
   {
    "duration": -36,
    "start_time": "2022-02-28T18:59:54.349Z"
   },
   {
    "duration": -40,
    "start_time": "2022-02-28T18:59:54.354Z"
   },
   {
    "duration": -40,
    "start_time": "2022-02-28T18:59:54.356Z"
   },
   {
    "duration": 133,
    "start_time": "2022-02-28T19:04:41.598Z"
   },
   {
    "duration": 11,
    "start_time": "2022-02-28T19:07:59.266Z"
   },
   {
    "duration": 10,
    "start_time": "2022-02-28T19:08:57.592Z"
   },
   {
    "duration": 18,
    "start_time": "2022-02-28T19:09:01.487Z"
   },
   {
    "duration": 132,
    "start_time": "2022-02-28T19:23:53.138Z"
   },
   {
    "duration": 2,
    "start_time": "2022-02-28T19:38:53.211Z"
   },
   {
    "duration": 245,
    "start_time": "2022-02-28T19:39:31.215Z"
   },
   {
    "duration": 446,
    "start_time": "2022-02-28T19:39:45.871Z"
   },
   {
    "duration": 217,
    "start_time": "2022-02-28T19:39:54.766Z"
   },
   {
    "duration": 9,
    "start_time": "2022-02-28T19:41:31.111Z"
   },
   {
    "duration": 10,
    "start_time": "2022-02-28T19:42:52.515Z"
   },
   {
    "duration": 150,
    "start_time": "2022-02-28T19:44:32.611Z"
   },
   {
    "duration": 2,
    "start_time": "2022-02-28T19:45:26.583Z"
   },
   {
    "duration": 61,
    "start_time": "2022-02-28T19:45:26.587Z"
   },
   {
    "duration": 12,
    "start_time": "2022-02-28T19:45:26.650Z"
   },
   {
    "duration": 21,
    "start_time": "2022-02-28T19:45:26.663Z"
   },
   {
    "duration": 11,
    "start_time": "2022-02-28T19:45:26.686Z"
   },
   {
    "duration": 14,
    "start_time": "2022-02-28T19:45:26.699Z"
   },
   {
    "duration": 349,
    "start_time": "2022-02-28T19:45:26.715Z"
   },
   {
    "duration": 7,
    "start_time": "2022-02-28T19:45:27.067Z"
   },
   {
    "duration": 16,
    "start_time": "2022-02-28T19:45:27.076Z"
   },
   {
    "duration": 6,
    "start_time": "2022-02-28T19:45:27.094Z"
   },
   {
    "duration": 42,
    "start_time": "2022-02-28T19:45:27.101Z"
   },
   {
    "duration": 6,
    "start_time": "2022-02-28T19:45:27.145Z"
   },
   {
    "duration": 11,
    "start_time": "2022-02-28T19:45:27.153Z"
   },
   {
    "duration": 18,
    "start_time": "2022-02-28T19:45:27.166Z"
   },
   {
    "duration": 16,
    "start_time": "2022-02-28T19:45:27.186Z"
   },
   {
    "duration": 60,
    "start_time": "2022-02-28T19:45:27.203Z"
   },
   {
    "duration": 23,
    "start_time": "2022-02-28T19:45:27.265Z"
   },
   {
    "duration": 22,
    "start_time": "2022-02-28T19:45:27.289Z"
   },
   {
    "duration": 13,
    "start_time": "2022-02-28T19:45:27.337Z"
   },
   {
    "duration": 4,
    "start_time": "2022-02-28T19:45:27.352Z"
   },
   {
    "duration": 13,
    "start_time": "2022-02-28T19:45:27.357Z"
   },
   {
    "duration": 19,
    "start_time": "2022-02-28T19:45:27.372Z"
   },
   {
    "duration": 15,
    "start_time": "2022-02-28T19:45:27.393Z"
   },
   {
    "duration": 31,
    "start_time": "2022-02-28T19:45:27.410Z"
   },
   {
    "duration": 43,
    "start_time": "2022-02-28T19:45:27.442Z"
   },
   {
    "duration": 12,
    "start_time": "2022-02-28T19:46:10.610Z"
   },
   {
    "duration": 2,
    "start_time": "2022-02-28T19:46:14.015Z"
   },
   {
    "duration": 44,
    "start_time": "2022-02-28T19:46:14.020Z"
   },
   {
    "duration": 12,
    "start_time": "2022-02-28T19:46:14.066Z"
   },
   {
    "duration": 12,
    "start_time": "2022-02-28T19:46:14.080Z"
   },
   {
    "duration": 4,
    "start_time": "2022-02-28T19:46:14.093Z"
   },
   {
    "duration": 5,
    "start_time": "2022-02-28T19:46:14.099Z"
   },
   {
    "duration": 356,
    "start_time": "2022-02-28T19:46:14.106Z"
   },
   {
    "duration": 6,
    "start_time": "2022-02-28T19:46:14.464Z"
   },
   {
    "duration": 16,
    "start_time": "2022-02-28T19:46:14.472Z"
   },
   {
    "duration": 5,
    "start_time": "2022-02-28T19:46:14.490Z"
   },
   {
    "duration": 13,
    "start_time": "2022-02-28T19:46:14.497Z"
   },
   {
    "duration": 29,
    "start_time": "2022-02-28T19:46:14.512Z"
   },
   {
    "duration": 10,
    "start_time": "2022-02-28T19:46:14.543Z"
   },
   {
    "duration": 18,
    "start_time": "2022-02-28T19:46:14.554Z"
   },
   {
    "duration": 17,
    "start_time": "2022-02-28T19:46:14.574Z"
   },
   {
    "duration": 52,
    "start_time": "2022-02-28T19:46:14.592Z"
   },
   {
    "duration": 23,
    "start_time": "2022-02-28T19:46:14.646Z"
   },
   {
    "duration": 21,
    "start_time": "2022-02-28T19:46:14.671Z"
   },
   {
    "duration": 12,
    "start_time": "2022-02-28T19:46:14.693Z"
   },
   {
    "duration": 31,
    "start_time": "2022-02-28T19:46:14.707Z"
   },
   {
    "duration": 12,
    "start_time": "2022-02-28T19:46:14.739Z"
   },
   {
    "duration": 9,
    "start_time": "2022-02-28T19:46:14.753Z"
   },
   {
    "duration": 13,
    "start_time": "2022-02-28T19:46:14.764Z"
   },
   {
    "duration": 15,
    "start_time": "2022-02-28T19:46:14.780Z"
   },
   {
    "duration": 45,
    "start_time": "2022-02-28T19:46:14.797Z"
   },
   {
    "duration": 131,
    "start_time": "2022-02-28T19:48:25.839Z"
   },
   {
    "duration": 174,
    "start_time": "2022-02-28T19:48:47.827Z"
   },
   {
    "duration": 152,
    "start_time": "2022-02-28T19:48:59.447Z"
   },
   {
    "duration": 35,
    "start_time": "2022-02-28T19:49:17.231Z"
   },
   {
    "duration": 3,
    "start_time": "2022-02-28T20:01:48.952Z"
   },
   {
    "duration": 20,
    "start_time": "2022-02-28T20:02:42.432Z"
   },
   {
    "duration": 282,
    "start_time": "2022-02-28T20:04:29.809Z"
   },
   {
    "duration": 278,
    "start_time": "2022-02-28T20:04:42.352Z"
   },
   {
    "duration": 10,
    "start_time": "2022-02-28T20:05:24.824Z"
   },
   {
    "duration": 169,
    "start_time": "2022-02-28T20:08:27.888Z"
   },
   {
    "duration": 226,
    "start_time": "2022-02-28T20:08:50.598Z"
   },
   {
    "duration": 11,
    "start_time": "2022-02-28T20:09:01.616Z"
   },
   {
    "duration": 20,
    "start_time": "2022-02-28T20:12:53.792Z"
   },
   {
    "duration": 17,
    "start_time": "2022-02-28T20:14:54.996Z"
   },
   {
    "duration": 187,
    "start_time": "2022-02-28T20:16:56.800Z"
   },
   {
    "duration": 16,
    "start_time": "2022-02-28T20:18:04.432Z"
   },
   {
    "duration": -145,
    "start_time": "2022-02-28T20:20:39.068Z"
   },
   {
    "duration": 203,
    "start_time": "2022-02-28T20:20:49.248Z"
   },
   {
    "duration": 3966,
    "start_time": "2022-02-28T20:20:58.244Z"
   },
   {
    "duration": 13,
    "start_time": "2022-02-28T20:21:26.705Z"
   },
   {
    "duration": 19,
    "start_time": "2022-02-28T20:24:51.361Z"
   },
   {
    "duration": 20,
    "start_time": "2022-02-28T20:31:41.150Z"
   },
   {
    "duration": 3,
    "start_time": "2022-02-28T20:51:00.646Z"
   },
   {
    "duration": 61,
    "start_time": "2022-02-28T20:51:00.651Z"
   },
   {
    "duration": 13,
    "start_time": "2022-02-28T20:51:00.714Z"
   },
   {
    "duration": 31,
    "start_time": "2022-02-28T20:51:00.728Z"
   },
   {
    "duration": 11,
    "start_time": "2022-02-28T20:51:00.761Z"
   },
   {
    "duration": 13,
    "start_time": "2022-02-28T20:51:00.773Z"
   },
   {
    "duration": 378,
    "start_time": "2022-02-28T20:51:00.787Z"
   },
   {
    "duration": 6,
    "start_time": "2022-02-28T20:51:01.167Z"
   },
   {
    "duration": 20,
    "start_time": "2022-02-28T20:51:01.176Z"
   },
   {
    "duration": 5,
    "start_time": "2022-02-28T20:51:01.198Z"
   },
   {
    "duration": 36,
    "start_time": "2022-02-28T20:51:01.205Z"
   },
   {
    "duration": 8,
    "start_time": "2022-02-28T20:51:01.243Z"
   },
   {
    "duration": 30,
    "start_time": "2022-02-28T20:51:01.253Z"
   },
   {
    "duration": 54,
    "start_time": "2022-02-28T20:51:01.285Z"
   },
   {
    "duration": 32,
    "start_time": "2022-02-28T20:51:01.342Z"
   },
   {
    "duration": 30,
    "start_time": "2022-02-28T20:51:01.375Z"
   },
   {
    "duration": 46,
    "start_time": "2022-02-28T20:51:01.406Z"
   },
   {
    "duration": 25,
    "start_time": "2022-02-28T20:51:01.454Z"
   },
   {
    "duration": 18,
    "start_time": "2022-02-28T20:51:01.481Z"
   },
   {
    "duration": 20,
    "start_time": "2022-02-28T20:51:01.501Z"
   },
   {
    "duration": 23,
    "start_time": "2022-02-28T20:51:01.523Z"
   },
   {
    "duration": 27,
    "start_time": "2022-02-28T20:51:01.548Z"
   },
   {
    "duration": 17,
    "start_time": "2022-02-28T20:51:01.577Z"
   },
   {
    "duration": 16,
    "start_time": "2022-02-28T20:51:01.596Z"
   },
   {
    "duration": 26,
    "start_time": "2022-02-28T20:51:01.614Z"
   },
   {
    "duration": 89,
    "start_time": "2022-02-28T20:51:01.641Z"
   },
   {
    "duration": 21,
    "start_time": "2022-02-28T20:51:01.733Z"
   },
   {
    "duration": 734,
    "start_time": "2022-03-09T12:46:48.245Z"
   },
   {
    "duration": 59,
    "start_time": "2022-03-09T12:46:48.983Z"
   },
   {
    "duration": 39,
    "start_time": "2022-03-09T12:46:49.045Z"
   },
   {
    "duration": 15,
    "start_time": "2022-03-09T12:46:49.087Z"
   },
   {
    "duration": 6,
    "start_time": "2022-03-09T12:46:49.105Z"
   },
   {
    "duration": 8,
    "start_time": "2022-03-09T12:46:49.113Z"
   },
   {
    "duration": 607,
    "start_time": "2022-03-09T12:46:49.124Z"
   },
   {
    "duration": 8,
    "start_time": "2022-03-09T12:46:49.733Z"
   },
   {
    "duration": 41,
    "start_time": "2022-03-09T12:46:49.745Z"
   },
   {
    "duration": 7,
    "start_time": "2022-03-09T12:46:49.789Z"
   },
   {
    "duration": 17,
    "start_time": "2022-03-09T12:46:49.799Z"
   },
   {
    "duration": 14,
    "start_time": "2022-03-09T12:46:49.819Z"
   },
   {
    "duration": 10,
    "start_time": "2022-03-09T12:46:49.836Z"
   },
   {
    "duration": 54,
    "start_time": "2022-03-09T12:46:49.848Z"
   },
   {
    "duration": 28,
    "start_time": "2022-03-09T12:46:49.904Z"
   },
   {
    "duration": 58,
    "start_time": "2022-03-09T12:46:49.935Z"
   },
   {
    "duration": 34,
    "start_time": "2022-03-09T12:46:49.996Z"
   },
   {
    "duration": 56,
    "start_time": "2022-03-09T12:46:50.032Z"
   },
   {
    "duration": 18,
    "start_time": "2022-03-09T12:46:50.091Z"
   },
   {
    "duration": 5,
    "start_time": "2022-03-09T12:46:50.111Z"
   },
   {
    "duration": 365,
    "start_time": "2022-03-09T12:46:50.118Z"
   },
   {
    "duration": 1328,
    "start_time": "2022-03-09T12:46:49.157Z"
   },
   {
    "duration": 1324,
    "start_time": "2022-03-09T12:46:49.163Z"
   },
   {
    "duration": 1320,
    "start_time": "2022-03-09T12:46:49.168Z"
   },
   {
    "duration": 1318,
    "start_time": "2022-03-09T12:46:49.172Z"
   },
   {
    "duration": 1262,
    "start_time": "2022-03-09T12:46:49.230Z"
   },
   {
    "duration": 1258,
    "start_time": "2022-03-09T12:46:49.235Z"
   },
   {
    "duration": 277,
    "start_time": "2022-03-09T13:00:11.304Z"
   },
   {
    "duration": 8,
    "start_time": "2022-03-09T13:00:34.845Z"
   },
   {
    "duration": 271,
    "start_time": "2022-03-09T13:02:15.639Z"
   },
   {
    "duration": 30,
    "start_time": "2022-03-09T13:06:23.039Z"
   },
   {
    "duration": 49,
    "start_time": "2022-03-09T13:13:39.033Z"
   },
   {
    "duration": 30,
    "start_time": "2022-03-09T13:14:15.848Z"
   },
   {
    "duration": 16,
    "start_time": "2022-03-09T13:20:10.026Z"
   },
   {
    "duration": 18,
    "start_time": "2022-03-09T13:23:25.565Z"
   },
   {
    "duration": 27,
    "start_time": "2022-03-09T13:28:42.080Z"
   },
   {
    "duration": 21,
    "start_time": "2022-03-09T13:30:58.574Z"
   },
   {
    "duration": 28,
    "start_time": "2022-03-09T13:37:16.214Z"
   },
   {
    "duration": 28,
    "start_time": "2022-03-09T13:38:21.826Z"
   },
   {
    "duration": 731,
    "start_time": "2022-03-09T13:56:23.671Z"
   },
   {
    "duration": 62,
    "start_time": "2022-03-09T13:56:24.405Z"
   },
   {
    "duration": 29,
    "start_time": "2022-03-09T13:56:24.470Z"
   },
   {
    "duration": 13,
    "start_time": "2022-03-09T13:56:24.502Z"
   },
   {
    "duration": 6,
    "start_time": "2022-03-09T13:56:24.518Z"
   },
   {
    "duration": 14,
    "start_time": "2022-03-09T13:56:24.526Z"
   },
   {
    "duration": 625,
    "start_time": "2022-03-09T13:56:24.542Z"
   },
   {
    "duration": 15,
    "start_time": "2022-03-09T13:56:25.169Z"
   },
   {
    "duration": 32,
    "start_time": "2022-03-09T13:56:25.188Z"
   },
   {
    "duration": 7,
    "start_time": "2022-03-09T13:56:25.223Z"
   },
   {
    "duration": 24,
    "start_time": "2022-03-09T13:56:25.232Z"
   },
   {
    "duration": 28,
    "start_time": "2022-03-09T13:56:25.258Z"
   },
   {
    "duration": 16,
    "start_time": "2022-03-09T13:56:25.288Z"
   },
   {
    "duration": 26,
    "start_time": "2022-03-09T13:56:25.306Z"
   },
   {
    "duration": 29,
    "start_time": "2022-03-09T13:56:25.334Z"
   },
   {
    "duration": 54,
    "start_time": "2022-03-09T13:56:25.365Z"
   },
   {
    "duration": 35,
    "start_time": "2022-03-09T13:56:25.422Z"
   },
   {
    "duration": 34,
    "start_time": "2022-03-09T13:56:25.483Z"
   },
   {
    "duration": 18,
    "start_time": "2022-03-09T13:56:25.519Z"
   },
   {
    "duration": 9,
    "start_time": "2022-03-09T13:56:25.540Z"
   },
   {
    "duration": 377,
    "start_time": "2022-03-09T13:56:25.551Z"
   },
   {
    "duration": 1255,
    "start_time": "2022-03-09T13:56:24.675Z"
   },
   {
    "duration": 1250,
    "start_time": "2022-03-09T13:56:24.682Z"
   },
   {
    "duration": 1168,
    "start_time": "2022-03-09T13:56:24.765Z"
   },
   {
    "duration": 1155,
    "start_time": "2022-03-09T13:56:24.779Z"
   },
   {
    "duration": 1151,
    "start_time": "2022-03-09T13:56:24.785Z"
   },
   {
    "duration": 1147,
    "start_time": "2022-03-09T13:56:24.790Z"
   },
   {
    "duration": 408,
    "start_time": "2022-03-09T17:40:55.868Z"
   },
   {
    "duration": 797,
    "start_time": "2022-03-09T17:46:30.617Z"
   },
   {
    "duration": 77,
    "start_time": "2022-03-09T17:46:31.416Z"
   },
   {
    "duration": 31,
    "start_time": "2022-03-09T17:46:31.496Z"
   },
   {
    "duration": 18,
    "start_time": "2022-03-09T17:46:31.532Z"
   },
   {
    "duration": 7,
    "start_time": "2022-03-09T17:46:31.553Z"
   },
   {
    "duration": 9,
    "start_time": "2022-03-09T17:46:31.563Z"
   },
   {
    "duration": 641,
    "start_time": "2022-03-09T17:46:31.574Z"
   },
   {
    "duration": 16,
    "start_time": "2022-03-09T17:46:32.219Z"
   },
   {
    "duration": 21,
    "start_time": "2022-03-09T17:46:32.238Z"
   },
   {
    "duration": 7,
    "start_time": "2022-03-09T17:46:32.261Z"
   },
   {
    "duration": 17,
    "start_time": "2022-03-09T17:46:32.270Z"
   },
   {
    "duration": 313,
    "start_time": "2022-03-09T17:46:32.289Z"
   },
   {
    "duration": -95,
    "start_time": "2022-03-09T17:46:32.699Z"
   },
   {
    "duration": -100,
    "start_time": "2022-03-09T17:46:32.706Z"
   },
   {
    "duration": -117,
    "start_time": "2022-03-09T17:46:32.724Z"
   },
   {
    "duration": -120,
    "start_time": "2022-03-09T17:46:32.728Z"
   },
   {
    "duration": -124,
    "start_time": "2022-03-09T17:46:32.734Z"
   },
   {
    "duration": -129,
    "start_time": "2022-03-09T17:46:32.740Z"
   },
   {
    "duration": -148,
    "start_time": "2022-03-09T17:46:32.760Z"
   },
   {
    "duration": -151,
    "start_time": "2022-03-09T17:46:32.765Z"
   },
   {
    "duration": -156,
    "start_time": "2022-03-09T17:46:32.771Z"
   },
   {
    "duration": -159,
    "start_time": "2022-03-09T17:46:32.775Z"
   },
   {
    "duration": -173,
    "start_time": "2022-03-09T17:46:32.791Z"
   },
   {
    "duration": -177,
    "start_time": "2022-03-09T17:46:32.796Z"
   },
   {
    "duration": -179,
    "start_time": "2022-03-09T17:46:32.800Z"
   },
   {
    "duration": -182,
    "start_time": "2022-03-09T17:46:32.805Z"
   },
   {
    "duration": -186,
    "start_time": "2022-03-09T17:46:32.811Z"
   },
   {
    "duration": 339,
    "start_time": "2022-03-09T17:51:34.153Z"
   },
   {
    "duration": 8,
    "start_time": "2022-03-09T17:51:51.855Z"
   },
   {
    "duration": 11,
    "start_time": "2022-03-09T17:51:57.741Z"
   },
   {
    "duration": 4,
    "start_time": "2022-03-09T17:52:03.683Z"
   },
   {
    "duration": 71,
    "start_time": "2022-03-09T17:52:03.689Z"
   },
   {
    "duration": 19,
    "start_time": "2022-03-09T17:52:03.763Z"
   },
   {
    "duration": 20,
    "start_time": "2022-03-09T17:52:03.785Z"
   },
   {
    "duration": 30,
    "start_time": "2022-03-09T17:52:03.807Z"
   },
   {
    "duration": 6,
    "start_time": "2022-03-09T17:52:03.840Z"
   },
   {
    "duration": 667,
    "start_time": "2022-03-09T17:52:03.849Z"
   },
   {
    "duration": 16,
    "start_time": "2022-03-09T17:52:04.518Z"
   },
   {
    "duration": 29,
    "start_time": "2022-03-09T17:52:04.541Z"
   },
   {
    "duration": 11,
    "start_time": "2022-03-09T17:52:04.575Z"
   },
   {
    "duration": 51,
    "start_time": "2022-03-09T17:52:04.589Z"
   },
   {
    "duration": 12,
    "start_time": "2022-03-09T17:52:04.643Z"
   },
   {
    "duration": 12,
    "start_time": "2022-03-09T17:52:04.659Z"
   },
   {
    "duration": 66,
    "start_time": "2022-03-09T17:52:04.673Z"
   },
   {
    "duration": 27,
    "start_time": "2022-03-09T17:52:04.742Z"
   },
   {
    "duration": 66,
    "start_time": "2022-03-09T17:52:04.772Z"
   },
   {
    "duration": 39,
    "start_time": "2022-03-09T17:52:04.840Z"
   },
   {
    "duration": 56,
    "start_time": "2022-03-09T17:52:04.881Z"
   },
   {
    "duration": 27,
    "start_time": "2022-03-09T17:52:04.941Z"
   },
   {
    "duration": 5,
    "start_time": "2022-03-09T17:52:04.971Z"
   },
   {
    "duration": 352,
    "start_time": "2022-03-09T17:52:04.978Z"
   },
   {
    "duration": -69,
    "start_time": "2022-03-09T17:52:05.402Z"
   },
   {
    "duration": -75,
    "start_time": "2022-03-09T17:52:05.410Z"
   },
   {
    "duration": -105,
    "start_time": "2022-03-09T17:52:05.441Z"
   },
   {
    "duration": -109,
    "start_time": "2022-03-09T17:52:05.447Z"
   },
   {
    "duration": -111,
    "start_time": "2022-03-09T17:52:05.450Z"
   },
   {
    "duration": -112,
    "start_time": "2022-03-09T17:52:05.453Z"
   },
   {
    "duration": 10,
    "start_time": "2022-03-09T17:53:29.039Z"
   },
   {
    "duration": 8,
    "start_time": "2022-03-09T17:53:59.265Z"
   },
   {
    "duration": 9,
    "start_time": "2022-03-09T17:54:07.566Z"
   },
   {
    "duration": 4,
    "start_time": "2022-03-09T17:54:13.850Z"
   },
   {
    "duration": 74,
    "start_time": "2022-03-09T17:54:13.858Z"
   },
   {
    "duration": 24,
    "start_time": "2022-03-09T17:54:13.937Z"
   },
   {
    "duration": 19,
    "start_time": "2022-03-09T17:54:13.964Z"
   },
   {
    "duration": 8,
    "start_time": "2022-03-09T17:54:13.986Z"
   },
   {
    "duration": 50,
    "start_time": "2022-03-09T17:54:13.997Z"
   },
   {
    "duration": 688,
    "start_time": "2022-03-09T17:54:14.050Z"
   },
   {
    "duration": 10,
    "start_time": "2022-03-09T17:54:14.742Z"
   },
   {
    "duration": 30,
    "start_time": "2022-03-09T17:54:14.758Z"
   },
   {
    "duration": 7,
    "start_time": "2022-03-09T17:54:14.791Z"
   },
   {
    "duration": 43,
    "start_time": "2022-03-09T17:54:14.801Z"
   },
   {
    "duration": 9,
    "start_time": "2022-03-09T17:54:14.846Z"
   },
   {
    "duration": 12,
    "start_time": "2022-03-09T17:54:14.858Z"
   },
   {
    "duration": 24,
    "start_time": "2022-03-09T17:54:14.873Z"
   },
   {
    "duration": 27,
    "start_time": "2022-03-09T17:54:14.932Z"
   },
   {
    "duration": 47,
    "start_time": "2022-03-09T17:54:14.962Z"
   },
   {
    "duration": 42,
    "start_time": "2022-03-09T17:54:15.032Z"
   },
   {
    "duration": 73,
    "start_time": "2022-03-09T17:54:15.076Z"
   },
   {
    "duration": 18,
    "start_time": "2022-03-09T17:54:15.152Z"
   },
   {
    "duration": 5,
    "start_time": "2022-03-09T17:54:15.172Z"
   },
   {
    "duration": 349,
    "start_time": "2022-03-09T17:54:15.179Z"
   },
   {
    "duration": -82,
    "start_time": "2022-03-09T17:54:15.613Z"
   },
   {
    "duration": -84,
    "start_time": "2022-03-09T17:54:15.616Z"
   },
   {
    "duration": -93,
    "start_time": "2022-03-09T17:54:15.627Z"
   },
   {
    "duration": -96,
    "start_time": "2022-03-09T17:54:15.631Z"
   },
   {
    "duration": -98,
    "start_time": "2022-03-09T17:54:15.634Z"
   },
   {
    "duration": -99,
    "start_time": "2022-03-09T17:54:15.638Z"
   },
   {
    "duration": 89,
    "start_time": "2022-03-09T18:02:39.030Z"
   },
   {
    "duration": 320,
    "start_time": "2022-03-09T18:02:43.626Z"
   },
   {
    "duration": 329,
    "start_time": "2022-03-09T18:03:21.806Z"
   },
   {
    "duration": 4257,
    "start_time": "2022-03-09T18:03:40.245Z"
   },
   {
    "duration": 379,
    "start_time": "2022-03-09T18:03:56.113Z"
   },
   {
    "duration": 7,
    "start_time": "2022-03-09T18:09:50.534Z"
   },
   {
    "duration": 402,
    "start_time": "2022-03-09T18:19:12.922Z"
   },
   {
    "duration": 21,
    "start_time": "2022-03-09T18:19:50.986Z"
   },
   {
    "duration": 23,
    "start_time": "2022-03-09T18:20:40.686Z"
   },
   {
    "duration": 5,
    "start_time": "2022-03-09T18:22:33.455Z"
   },
   {
    "duration": 18,
    "start_time": "2022-03-09T18:22:34.991Z"
   },
   {
    "duration": 4,
    "start_time": "2022-03-09T18:22:48.495Z"
   },
   {
    "duration": 64,
    "start_time": "2022-03-09T18:22:48.502Z"
   },
   {
    "duration": 20,
    "start_time": "2022-03-09T18:22:48.569Z"
   },
   {
    "duration": 17,
    "start_time": "2022-03-09T18:22:48.592Z"
   },
   {
    "duration": 6,
    "start_time": "2022-03-09T18:22:48.634Z"
   },
   {
    "duration": 8,
    "start_time": "2022-03-09T18:22:48.642Z"
   },
   {
    "duration": 626,
    "start_time": "2022-03-09T18:22:48.653Z"
   },
   {
    "duration": 8,
    "start_time": "2022-03-09T18:22:49.281Z"
   },
   {
    "duration": 41,
    "start_time": "2022-03-09T18:22:49.293Z"
   },
   {
    "duration": 8,
    "start_time": "2022-03-09T18:22:49.338Z"
   },
   {
    "duration": 16,
    "start_time": "2022-03-09T18:22:49.349Z"
   },
   {
    "duration": 6,
    "start_time": "2022-03-09T18:22:49.368Z"
   },
   {
    "duration": 10,
    "start_time": "2022-03-09T18:22:49.377Z"
   },
   {
    "duration": 64,
    "start_time": "2022-03-09T18:22:49.389Z"
   },
   {
    "duration": 23,
    "start_time": "2022-03-09T18:22:49.456Z"
   },
   {
    "duration": 76,
    "start_time": "2022-03-09T18:22:49.481Z"
   },
   {
    "duration": 45,
    "start_time": "2022-03-09T18:22:49.560Z"
   },
   {
    "duration": 57,
    "start_time": "2022-03-09T18:22:49.608Z"
   },
   {
    "duration": 16,
    "start_time": "2022-03-09T18:22:49.668Z"
   },
   {
    "duration": 4,
    "start_time": "2022-03-09T18:22:49.687Z"
   },
   {
    "duration": 51,
    "start_time": "2022-03-09T18:22:49.693Z"
   },
   {
    "duration": 17,
    "start_time": "2022-03-09T18:22:49.747Z"
   },
   {
    "duration": 16,
    "start_time": "2022-03-09T18:22:49.766Z"
   },
   {
    "duration": 58,
    "start_time": "2022-03-09T18:22:49.785Z"
   },
   {
    "duration": 22,
    "start_time": "2022-03-09T18:22:49.846Z"
   },
   {
    "duration": 62,
    "start_time": "2022-03-09T18:22:49.872Z"
   },
   {
    "duration": 32,
    "start_time": "2022-03-09T18:22:49.939Z"
   },
   {
    "duration": 5,
    "start_time": "2022-03-09T18:23:47.139Z"
   },
   {
    "duration": 21,
    "start_time": "2022-03-09T18:23:48.482Z"
   },
   {
    "duration": 6854,
    "start_time": "2022-03-09T18:26:35.939Z"
   },
   {
    "duration": 286,
    "start_time": "2022-03-09T18:49:54.008Z"
   },
   {
    "duration": 291,
    "start_time": "2022-03-09T18:50:04.664Z"
   },
   {
    "duration": 298,
    "start_time": "2022-03-09T18:50:15.008Z"
   },
   {
    "duration": 292,
    "start_time": "2022-03-09T18:50:41.140Z"
   },
   {
    "duration": 277,
    "start_time": "2022-03-09T18:51:55.540Z"
   },
   {
    "duration": 3,
    "start_time": "2022-03-09T18:52:08.432Z"
   },
   {
    "duration": 69,
    "start_time": "2022-03-09T18:52:08.438Z"
   },
   {
    "duration": 33,
    "start_time": "2022-03-09T18:52:08.510Z"
   },
   {
    "duration": 24,
    "start_time": "2022-03-09T18:52:08.545Z"
   },
   {
    "duration": 10,
    "start_time": "2022-03-09T18:52:08.571Z"
   },
   {
    "duration": 19,
    "start_time": "2022-03-09T18:52:08.583Z"
   },
   {
    "duration": 611,
    "start_time": "2022-03-09T18:52:08.605Z"
   },
   {
    "duration": 18,
    "start_time": "2022-03-09T18:52:09.220Z"
   },
   {
    "duration": 27,
    "start_time": "2022-03-09T18:52:09.241Z"
   },
   {
    "duration": 7,
    "start_time": "2022-03-09T18:52:09.271Z"
   },
   {
    "duration": 30,
    "start_time": "2022-03-09T18:52:09.280Z"
   },
   {
    "duration": 6,
    "start_time": "2022-03-09T18:52:09.332Z"
   },
   {
    "duration": 18,
    "start_time": "2022-03-09T18:52:09.341Z"
   },
   {
    "duration": 26,
    "start_time": "2022-03-09T18:52:09.362Z"
   },
   {
    "duration": 43,
    "start_time": "2022-03-09T18:52:09.390Z"
   },
   {
    "duration": 44,
    "start_time": "2022-03-09T18:52:09.436Z"
   },
   {
    "duration": 19,
    "start_time": "2022-03-09T18:52:09.483Z"
   },
   {
    "duration": 46,
    "start_time": "2022-03-09T18:52:09.533Z"
   },
   {
    "duration": 18,
    "start_time": "2022-03-09T18:52:09.581Z"
   },
   {
    "duration": 32,
    "start_time": "2022-03-09T18:52:09.602Z"
   },
   {
    "duration": 26,
    "start_time": "2022-03-09T18:52:09.636Z"
   },
   {
    "duration": 25,
    "start_time": "2022-03-09T18:52:09.664Z"
   },
   {
    "duration": 41,
    "start_time": "2022-03-09T18:52:09.695Z"
   },
   {
    "duration": 29,
    "start_time": "2022-03-09T18:52:09.740Z"
   },
   {
    "duration": 22,
    "start_time": "2022-03-09T18:52:09.772Z"
   },
   {
    "duration": 60,
    "start_time": "2022-03-09T18:52:09.797Z"
   },
   {
    "duration": 29,
    "start_time": "2022-03-09T18:52:09.860Z"
   },
   {
    "duration": 288,
    "start_time": "2022-03-09T18:54:08.624Z"
   },
   {
    "duration": 4,
    "start_time": "2022-03-09T18:54:15.692Z"
   },
   {
    "duration": 68,
    "start_time": "2022-03-09T18:54:15.699Z"
   },
   {
    "duration": 20,
    "start_time": "2022-03-09T18:54:15.770Z"
   },
   {
    "duration": 39,
    "start_time": "2022-03-09T18:54:15.793Z"
   },
   {
    "duration": 7,
    "start_time": "2022-03-09T18:54:15.835Z"
   },
   {
    "duration": 16,
    "start_time": "2022-03-09T18:54:15.845Z"
   },
   {
    "duration": 640,
    "start_time": "2022-03-09T18:54:15.864Z"
   },
   {
    "duration": 8,
    "start_time": "2022-03-09T18:54:16.506Z"
   },
   {
    "duration": 35,
    "start_time": "2022-03-09T18:54:16.518Z"
   },
   {
    "duration": 8,
    "start_time": "2022-03-09T18:54:16.557Z"
   },
   {
    "duration": 20,
    "start_time": "2022-03-09T18:54:16.568Z"
   },
   {
    "duration": 43,
    "start_time": "2022-03-09T18:54:16.590Z"
   },
   {
    "duration": 11,
    "start_time": "2022-03-09T18:54:16.635Z"
   },
   {
    "duration": 23,
    "start_time": "2022-03-09T18:54:16.648Z"
   },
   {
    "duration": 59,
    "start_time": "2022-03-09T18:54:16.674Z"
   },
   {
    "duration": 51,
    "start_time": "2022-03-09T18:54:16.735Z"
   },
   {
    "duration": 18,
    "start_time": "2022-03-09T18:54:16.789Z"
   },
   {
    "duration": 45,
    "start_time": "2022-03-09T18:54:16.834Z"
   },
   {
    "duration": 20,
    "start_time": "2022-03-09T18:54:16.882Z"
   },
   {
    "duration": 29,
    "start_time": "2022-03-09T18:54:16.904Z"
   },
   {
    "duration": 23,
    "start_time": "2022-03-09T18:54:16.935Z"
   },
   {
    "duration": 17,
    "start_time": "2022-03-09T18:54:16.960Z"
   },
   {
    "duration": 53,
    "start_time": "2022-03-09T18:54:16.979Z"
   },
   {
    "duration": 25,
    "start_time": "2022-03-09T18:54:17.035Z"
   },
   {
    "duration": 23,
    "start_time": "2022-03-09T18:54:17.062Z"
   },
   {
    "duration": 65,
    "start_time": "2022-03-09T18:54:17.088Z"
   },
   {
    "duration": 29,
    "start_time": "2022-03-09T18:54:17.158Z"
   },
   {
    "duration": 283,
    "start_time": "2022-03-09T18:54:41.712Z"
   },
   {
    "duration": 332,
    "start_time": "2022-03-09T18:55:51.784Z"
   },
   {
    "duration": 308,
    "start_time": "2022-03-09T18:59:50.168Z"
   },
   {
    "duration": 276,
    "start_time": "2022-03-09T19:03:29.596Z"
   },
   {
    "duration": 3,
    "start_time": "2022-03-09T19:03:33.677Z"
   },
   {
    "duration": 69,
    "start_time": "2022-03-09T19:03:33.683Z"
   },
   {
    "duration": 19,
    "start_time": "2022-03-09T19:03:33.755Z"
   },
   {
    "duration": 15,
    "start_time": "2022-03-09T19:03:33.777Z"
   },
   {
    "duration": 40,
    "start_time": "2022-03-09T19:03:33.794Z"
   },
   {
    "duration": 5,
    "start_time": "2022-03-09T19:03:33.836Z"
   },
   {
    "duration": 637,
    "start_time": "2022-03-09T19:03:33.843Z"
   },
   {
    "duration": 10,
    "start_time": "2022-03-09T19:03:34.484Z"
   },
   {
    "duration": 43,
    "start_time": "2022-03-09T19:03:34.501Z"
   },
   {
    "duration": 8,
    "start_time": "2022-03-09T19:03:34.548Z"
   },
   {
    "duration": 19,
    "start_time": "2022-03-09T19:03:34.558Z"
   },
   {
    "duration": 6,
    "start_time": "2022-03-09T19:03:34.579Z"
   },
   {
    "duration": 51,
    "start_time": "2022-03-09T19:03:34.588Z"
   },
   {
    "duration": 28,
    "start_time": "2022-03-09T19:03:34.641Z"
   },
   {
    "duration": 22,
    "start_time": "2022-03-09T19:03:34.671Z"
   },
   {
    "duration": 62,
    "start_time": "2022-03-09T19:03:34.696Z"
   },
   {
    "duration": 15,
    "start_time": "2022-03-09T19:03:34.761Z"
   },
   {
    "duration": 68,
    "start_time": "2022-03-09T19:03:34.779Z"
   },
   {
    "duration": 17,
    "start_time": "2022-03-09T19:03:34.850Z"
   },
   {
    "duration": 5,
    "start_time": "2022-03-09T19:03:34.870Z"
   },
   {
    "duration": 22,
    "start_time": "2022-03-09T19:03:34.877Z"
   },
   {
    "duration": 17,
    "start_time": "2022-03-09T19:03:34.932Z"
   },
   {
    "duration": 17,
    "start_time": "2022-03-09T19:03:34.951Z"
   },
   {
    "duration": 24,
    "start_time": "2022-03-09T19:03:34.970Z"
   },
   {
    "duration": 56,
    "start_time": "2022-03-09T19:03:34.997Z"
   },
   {
    "duration": 29,
    "start_time": "2022-03-09T19:03:35.056Z"
   },
   {
    "duration": 61,
    "start_time": "2022-03-09T19:03:35.091Z"
   },
   {
    "duration": 291,
    "start_time": "2022-03-09T19:06:02.121Z"
   },
   {
    "duration": 3,
    "start_time": "2022-03-09T19:06:14.461Z"
   },
   {
    "duration": 72,
    "start_time": "2022-03-09T19:06:14.471Z"
   },
   {
    "duration": 29,
    "start_time": "2022-03-09T19:06:14.547Z"
   },
   {
    "duration": 14,
    "start_time": "2022-03-09T19:06:14.580Z"
   },
   {
    "duration": 6,
    "start_time": "2022-03-09T19:06:14.597Z"
   },
   {
    "duration": 5,
    "start_time": "2022-03-09T19:06:14.633Z"
   },
   {
    "duration": 626,
    "start_time": "2022-03-09T19:06:14.640Z"
   },
   {
    "duration": 8,
    "start_time": "2022-03-09T19:06:15.269Z"
   },
   {
    "duration": 22,
    "start_time": "2022-03-09T19:06:15.279Z"
   },
   {
    "duration": 47,
    "start_time": "2022-03-09T19:06:15.305Z"
   },
   {
    "duration": 17,
    "start_time": "2022-03-09T19:06:15.356Z"
   },
   {
    "duration": 6,
    "start_time": "2022-03-09T19:06:15.376Z"
   },
   {
    "duration": 11,
    "start_time": "2022-03-09T19:06:15.384Z"
   },
   {
    "duration": 47,
    "start_time": "2022-03-09T19:06:15.397Z"
   },
   {
    "duration": 24,
    "start_time": "2022-03-09T19:06:15.446Z"
   },
   {
    "duration": 61,
    "start_time": "2022-03-09T19:06:15.473Z"
   },
   {
    "duration": 16,
    "start_time": "2022-03-09T19:06:15.537Z"
   },
   {
    "duration": 15,
    "start_time": "2022-03-09T19:06:15.556Z"
   },
   {
    "duration": 17,
    "start_time": "2022-03-09T19:06:15.574Z"
   },
   {
    "duration": 5,
    "start_time": "2022-03-09T19:06:15.633Z"
   },
   {
    "duration": 25,
    "start_time": "2022-03-09T19:06:15.641Z"
   },
   {
    "duration": 16,
    "start_time": "2022-03-09T19:06:15.668Z"
   },
   {
    "duration": 16,
    "start_time": "2022-03-09T19:06:15.687Z"
   },
   {
    "duration": 23,
    "start_time": "2022-03-09T19:06:15.733Z"
   },
   {
    "duration": 19,
    "start_time": "2022-03-09T19:06:15.758Z"
   },
   {
    "duration": 61,
    "start_time": "2022-03-09T19:06:15.779Z"
   },
   {
    "duration": 28,
    "start_time": "2022-03-09T19:06:15.842Z"
   },
   {
    "duration": 41,
    "start_time": "2022-03-09T19:08:19.921Z"
   },
   {
    "duration": 22,
    "start_time": "2022-03-09T19:08:22.628Z"
   },
   {
    "duration": 22,
    "start_time": "2022-03-09T19:08:26.309Z"
   },
   {
    "duration": 3,
    "start_time": "2022-03-09T19:08:30.723Z"
   },
   {
    "duration": 73,
    "start_time": "2022-03-09T19:08:30.729Z"
   },
   {
    "duration": 33,
    "start_time": "2022-03-09T19:08:30.805Z"
   },
   {
    "duration": 19,
    "start_time": "2022-03-09T19:08:30.841Z"
   },
   {
    "duration": 7,
    "start_time": "2022-03-09T19:08:30.863Z"
   },
   {
    "duration": 14,
    "start_time": "2022-03-09T19:08:30.872Z"
   },
   {
    "duration": 633,
    "start_time": "2022-03-09T19:08:30.888Z"
   },
   {
    "duration": 15,
    "start_time": "2022-03-09T19:08:31.523Z"
   },
   {
    "duration": 25,
    "start_time": "2022-03-09T19:08:31.544Z"
   },
   {
    "duration": 9,
    "start_time": "2022-03-09T19:08:31.573Z"
   },
   {
    "duration": 65,
    "start_time": "2022-03-09T19:08:31.585Z"
   },
   {
    "duration": 9,
    "start_time": "2022-03-09T19:08:31.653Z"
   },
   {
    "duration": 13,
    "start_time": "2022-03-09T19:08:31.665Z"
   },
   {
    "duration": 71,
    "start_time": "2022-03-09T19:08:31.681Z"
   },
   {
    "duration": 29,
    "start_time": "2022-03-09T19:08:31.755Z"
   },
   {
    "duration": 69,
    "start_time": "2022-03-09T19:08:31.787Z"
   },
   {
    "duration": 18,
    "start_time": "2022-03-09T19:08:31.859Z"
   },
   {
    "duration": 17,
    "start_time": "2022-03-09T19:08:31.880Z"
   },
   {
    "duration": 19,
    "start_time": "2022-03-09T19:08:31.931Z"
   },
   {
    "duration": 6,
    "start_time": "2022-03-09T19:08:31.953Z"
   },
   {
    "duration": 23,
    "start_time": "2022-03-09T19:08:31.962Z"
   },
   {
    "duration": 58,
    "start_time": "2022-03-09T19:08:31.988Z"
   },
   {
    "duration": 20,
    "start_time": "2022-03-09T19:08:32.049Z"
   },
   {
    "duration": 25,
    "start_time": "2022-03-09T19:08:32.072Z"
   },
   {
    "duration": 55,
    "start_time": "2022-03-09T19:08:32.099Z"
   },
   {
    "duration": 30,
    "start_time": "2022-03-09T19:08:32.157Z"
   },
   {
    "duration": 62,
    "start_time": "2022-03-09T19:08:32.192Z"
   },
   {
    "duration": 294,
    "start_time": "2022-03-09T19:10:52.398Z"
   },
   {
    "duration": 317,
    "start_time": "2022-03-09T19:11:54.461Z"
   },
   {
    "duration": 3,
    "start_time": "2022-03-09T19:12:02.782Z"
   },
   {
    "duration": 72,
    "start_time": "2022-03-09T19:12:02.788Z"
   },
   {
    "duration": 19,
    "start_time": "2022-03-09T19:12:02.863Z"
   },
   {
    "duration": 15,
    "start_time": "2022-03-09T19:12:02.884Z"
   },
   {
    "duration": 36,
    "start_time": "2022-03-09T19:12:02.902Z"
   },
   {
    "duration": 9,
    "start_time": "2022-03-09T19:12:02.941Z"
   },
   {
    "duration": 630,
    "start_time": "2022-03-09T19:12:02.952Z"
   },
   {
    "duration": 8,
    "start_time": "2022-03-09T19:12:03.585Z"
   },
   {
    "duration": 47,
    "start_time": "2022-03-09T19:12:03.596Z"
   },
   {
    "duration": 7,
    "start_time": "2022-03-09T19:12:03.646Z"
   },
   {
    "duration": 20,
    "start_time": "2022-03-09T19:12:03.656Z"
   },
   {
    "duration": 7,
    "start_time": "2022-03-09T19:12:03.678Z"
   },
   {
    "duration": 45,
    "start_time": "2022-03-09T19:12:03.687Z"
   },
   {
    "duration": 24,
    "start_time": "2022-03-09T19:12:03.735Z"
   },
   {
    "duration": 29,
    "start_time": "2022-03-09T19:12:03.762Z"
   },
   {
    "duration": 65,
    "start_time": "2022-03-09T19:12:03.794Z"
   },
   {
    "duration": 18,
    "start_time": "2022-03-09T19:12:03.863Z"
   },
   {
    "duration": 18,
    "start_time": "2022-03-09T19:12:03.884Z"
   },
   {
    "duration": 21,
    "start_time": "2022-03-09T19:12:03.933Z"
   },
   {
    "duration": 13,
    "start_time": "2022-03-09T19:12:03.957Z"
   },
   {
    "duration": 38,
    "start_time": "2022-03-09T19:12:03.973Z"
   },
   {
    "duration": 33,
    "start_time": "2022-03-09T19:12:04.014Z"
   },
   {
    "duration": 22,
    "start_time": "2022-03-09T19:12:04.050Z"
   },
   {
    "duration": 27,
    "start_time": "2022-03-09T19:12:04.074Z"
   },
   {
    "duration": 46,
    "start_time": "2022-03-09T19:12:04.104Z"
   },
   {
    "duration": 36,
    "start_time": "2022-03-09T19:12:04.153Z"
   },
   {
    "duration": 55,
    "start_time": "2022-03-09T19:12:04.193Z"
   },
   {
    "duration": 331,
    "start_time": "2022-03-09T19:14:37.609Z"
   },
   {
    "duration": 272,
    "start_time": "2022-03-09T19:15:22.645Z"
   },
   {
    "duration": 5,
    "start_time": "2022-03-09T19:15:28.163Z"
   },
   {
    "duration": 80,
    "start_time": "2022-03-09T19:15:28.172Z"
   },
   {
    "duration": 18,
    "start_time": "2022-03-09T19:15:28.255Z"
   },
   {
    "duration": 16,
    "start_time": "2022-03-09T19:15:28.277Z"
   },
   {
    "duration": 36,
    "start_time": "2022-03-09T19:15:28.296Z"
   },
   {
    "duration": 5,
    "start_time": "2022-03-09T19:15:28.334Z"
   },
   {
    "duration": 601,
    "start_time": "2022-03-09T19:15:28.341Z"
   },
   {
    "duration": 8,
    "start_time": "2022-03-09T19:15:28.946Z"
   },
   {
    "duration": 21,
    "start_time": "2022-03-09T19:15:28.957Z"
   },
   {
    "duration": 6,
    "start_time": "2022-03-09T19:15:28.981Z"
   },
   {
    "duration": 53,
    "start_time": "2022-03-09T19:15:28.990Z"
   },
   {
    "duration": 6,
    "start_time": "2022-03-09T19:15:29.045Z"
   },
   {
    "duration": 11,
    "start_time": "2022-03-09T19:15:29.053Z"
   },
   {
    "duration": 21,
    "start_time": "2022-03-09T19:15:29.066Z"
   },
   {
    "duration": 61,
    "start_time": "2022-03-09T19:15:29.091Z"
   },
   {
    "duration": 41,
    "start_time": "2022-03-09T19:15:29.155Z"
   },
   {
    "duration": 44,
    "start_time": "2022-03-09T19:15:29.199Z"
   },
   {
    "duration": 17,
    "start_time": "2022-03-09T19:15:29.246Z"
   },
   {
    "duration": 20,
    "start_time": "2022-03-09T19:15:29.266Z"
   },
   {
    "duration": 45,
    "start_time": "2022-03-09T19:15:29.288Z"
   },
   {
    "duration": 26,
    "start_time": "2022-03-09T19:15:29.336Z"
   },
   {
    "duration": 16,
    "start_time": "2022-03-09T19:15:29.365Z"
   },
   {
    "duration": 47,
    "start_time": "2022-03-09T19:15:29.386Z"
   },
   {
    "duration": 25,
    "start_time": "2022-03-09T19:15:29.435Z"
   },
   {
    "duration": 21,
    "start_time": "2022-03-09T19:15:29.462Z"
   },
   {
    "duration": 57,
    "start_time": "2022-03-09T19:15:29.486Z"
   },
   {
    "duration": 31,
    "start_time": "2022-03-09T19:15:29.545Z"
   },
   {
    "duration": 291,
    "start_time": "2022-03-09T19:17:54.545Z"
   },
   {
    "duration": 301,
    "start_time": "2022-03-09T19:18:12.433Z"
   },
   {
    "duration": 109,
    "start_time": "2022-03-09T19:18:35.740Z"
   },
   {
    "duration": 1308,
    "start_time": "2022-03-09T19:18:44.617Z"
   },
   {
    "duration": 3,
    "start_time": "2022-03-09T19:25:41.146Z"
   },
   {
    "duration": 65,
    "start_time": "2022-03-09T19:25:41.152Z"
   },
   {
    "duration": 29,
    "start_time": "2022-03-09T19:25:41.220Z"
   },
   {
    "duration": 15,
    "start_time": "2022-03-09T19:25:41.252Z"
   },
   {
    "duration": 7,
    "start_time": "2022-03-09T19:25:41.269Z"
   },
   {
    "duration": 5,
    "start_time": "2022-03-09T19:25:41.279Z"
   },
   {
    "duration": 648,
    "start_time": "2022-03-09T19:25:41.286Z"
   },
   {
    "duration": 8,
    "start_time": "2022-03-09T19:25:41.937Z"
   },
   {
    "duration": 23,
    "start_time": "2022-03-09T19:25:41.950Z"
   },
   {
    "duration": 8,
    "start_time": "2022-03-09T19:25:41.977Z"
   },
   {
    "duration": 62,
    "start_time": "2022-03-09T19:25:41.987Z"
   },
   {
    "duration": 8,
    "start_time": "2022-03-09T19:25:42.052Z"
   },
   {
    "duration": 14,
    "start_time": "2022-03-09T19:25:42.062Z"
   },
   {
    "duration": 65,
    "start_time": "2022-03-09T19:25:42.079Z"
   },
   {
    "duration": 25,
    "start_time": "2022-03-09T19:25:42.147Z"
   },
   {
    "duration": 77,
    "start_time": "2022-03-09T19:25:42.176Z"
   },
   {
    "duration": 19,
    "start_time": "2022-03-09T19:25:42.256Z"
   },
   {
    "duration": 24,
    "start_time": "2022-03-09T19:25:42.278Z"
   },
   {
    "duration": 52,
    "start_time": "2022-03-09T19:25:42.305Z"
   },
   {
    "duration": 7,
    "start_time": "2022-03-09T19:25:42.360Z"
   },
   {
    "duration": 65,
    "start_time": "2022-03-09T19:25:42.370Z"
   },
   {
    "duration": 26,
    "start_time": "2022-03-09T19:25:42.438Z"
   },
   {
    "duration": 23,
    "start_time": "2022-03-09T19:25:42.467Z"
   },
   {
    "duration": 57,
    "start_time": "2022-03-09T19:25:42.493Z"
   },
   {
    "duration": 22,
    "start_time": "2022-03-09T19:25:42.552Z"
   },
   {
    "duration": 62,
    "start_time": "2022-03-09T19:25:42.576Z"
   },
   {
    "duration": 30,
    "start_time": "2022-03-09T19:25:42.642Z"
   },
   {
    "duration": -37,
    "start_time": "2022-03-09T19:38:59.167Z"
   },
   {
    "duration": -38,
    "start_time": "2022-03-09T19:38:59.170Z"
   },
   {
    "duration": 6989,
    "start_time": "2022-03-09T19:38:59.418Z"
   },
   {
    "duration": -108,
    "start_time": "2022-03-09T19:39:06.522Z"
   },
   {
    "duration": -112,
    "start_time": "2022-03-09T19:39:06.527Z"
   },
   {
    "duration": 332,
    "start_time": "2022-03-09T19:39:18.438Z"
   },
   {
    "duration": 315,
    "start_time": "2022-03-09T19:39:29.915Z"
   },
   {
    "duration": 395,
    "start_time": "2022-03-09T19:39:33.422Z"
   },
   {
    "duration": 5,
    "start_time": "2022-03-09T19:39:46.313Z"
   },
   {
    "duration": 22,
    "start_time": "2022-03-09T19:39:47.730Z"
   },
   {
    "duration": 16,
    "start_time": "2022-03-09T19:39:58.250Z"
   },
   {
    "duration": 3,
    "start_time": "2022-03-09T19:40:05.098Z"
   },
   {
    "duration": 65,
    "start_time": "2022-03-09T19:40:05.104Z"
   },
   {
    "duration": 22,
    "start_time": "2022-03-09T19:40:05.172Z"
   },
   {
    "duration": 47,
    "start_time": "2022-03-09T19:40:05.197Z"
   },
   {
    "duration": 9,
    "start_time": "2022-03-09T19:40:05.247Z"
   },
   {
    "duration": 7,
    "start_time": "2022-03-09T19:40:05.259Z"
   },
   {
    "duration": 647,
    "start_time": "2022-03-09T19:40:05.271Z"
   },
   {
    "duration": 20,
    "start_time": "2022-03-09T19:40:05.922Z"
   },
   {
    "duration": 23,
    "start_time": "2022-03-09T19:40:05.944Z"
   },
   {
    "duration": 7,
    "start_time": "2022-03-09T19:40:05.970Z"
   },
   {
    "duration": 58,
    "start_time": "2022-03-09T19:40:05.981Z"
   },
   {
    "duration": 7,
    "start_time": "2022-03-09T19:40:06.042Z"
   },
   {
    "duration": 11,
    "start_time": "2022-03-09T19:40:06.051Z"
   },
   {
    "duration": 23,
    "start_time": "2022-03-09T19:40:06.065Z"
   },
   {
    "duration": 60,
    "start_time": "2022-03-09T19:40:06.090Z"
   },
   {
    "duration": 43,
    "start_time": "2022-03-09T19:40:06.153Z"
   },
   {
    "duration": 47,
    "start_time": "2022-03-09T19:40:06.199Z"
   },
   {
    "duration": 19,
    "start_time": "2022-03-09T19:40:06.248Z"
   },
   {
    "duration": 18,
    "start_time": "2022-03-09T19:40:06.273Z"
   },
   {
    "duration": 42,
    "start_time": "2022-03-09T19:40:06.294Z"
   },
   {
    "duration": 24,
    "start_time": "2022-03-09T19:40:06.340Z"
   },
   {
    "duration": 15,
    "start_time": "2022-03-09T19:40:06.367Z"
   },
   {
    "duration": 56,
    "start_time": "2022-03-09T19:40:06.385Z"
   },
   {
    "duration": 24,
    "start_time": "2022-03-09T19:40:06.443Z"
   },
   {
    "duration": 19,
    "start_time": "2022-03-09T19:40:06.470Z"
   },
   {
    "duration": 57,
    "start_time": "2022-03-09T19:40:06.492Z"
   },
   {
    "duration": 30,
    "start_time": "2022-03-09T19:40:06.551Z"
   },
   {
    "duration": 130,
    "start_time": "2022-03-09T19:41:50.046Z"
   },
   {
    "duration": 291,
    "start_time": "2022-03-09T19:44:17.178Z"
   },
   {
    "duration": 141,
    "start_time": "2022-03-09T19:44:55.854Z"
   },
   {
    "duration": 313,
    "start_time": "2022-03-09T19:44:59.871Z"
   },
   {
    "duration": 17,
    "start_time": "2022-03-09T19:45:40.758Z"
   },
   {
    "duration": 6,
    "start_time": "2022-03-09T19:46:58.791Z"
   },
   {
    "duration": 4184,
    "start_time": "2022-03-09T19:47:00.063Z"
   },
   {
    "duration": -133,
    "start_time": "2022-03-09T19:47:40.831Z"
   },
   {
    "duration": -135,
    "start_time": "2022-03-09T19:47:40.835Z"
   },
   {
    "duration": 6752,
    "start_time": "2022-03-09T19:47:41.775Z"
   },
   {
    "duration": 4016,
    "start_time": "2022-03-09T19:53:04.647Z"
   },
   {
    "duration": 3856,
    "start_time": "2022-03-09T19:53:25.735Z"
   },
   {
    "duration": 3951,
    "start_time": "2022-03-09T19:53:35.683Z"
   },
   {
    "duration": 4,
    "start_time": "2022-03-09T19:53:44.096Z"
   },
   {
    "duration": 69,
    "start_time": "2022-03-09T19:53:44.102Z"
   },
   {
    "duration": 19,
    "start_time": "2022-03-09T19:53:44.173Z"
   },
   {
    "duration": 39,
    "start_time": "2022-03-09T19:53:44.195Z"
   },
   {
    "duration": 6,
    "start_time": "2022-03-09T19:53:44.237Z"
   },
   {
    "duration": 6,
    "start_time": "2022-03-09T19:53:44.245Z"
   },
   {
    "duration": 646,
    "start_time": "2022-03-09T19:53:44.255Z"
   },
   {
    "duration": 10,
    "start_time": "2022-03-09T19:53:44.904Z"
   },
   {
    "duration": 22,
    "start_time": "2022-03-09T19:53:44.933Z"
   },
   {
    "duration": 7,
    "start_time": "2022-03-09T19:53:44.958Z"
   },
   {
    "duration": 22,
    "start_time": "2022-03-09T19:53:44.967Z"
   },
   {
    "duration": 41,
    "start_time": "2022-03-09T19:53:44.992Z"
   },
   {
    "duration": 10,
    "start_time": "2022-03-09T19:53:45.036Z"
   },
   {
    "duration": 23,
    "start_time": "2022-03-09T19:53:45.048Z"
   },
   {
    "duration": 63,
    "start_time": "2022-03-09T19:53:45.074Z"
   },
   {
    "duration": 40,
    "start_time": "2022-03-09T19:53:45.140Z"
   },
   {
    "duration": 16,
    "start_time": "2022-03-09T19:53:45.183Z"
   },
   {
    "duration": 45,
    "start_time": "2022-03-09T19:53:45.201Z"
   },
   {
    "duration": 19,
    "start_time": "2022-03-09T19:53:45.250Z"
   },
   {
    "duration": 6,
    "start_time": "2022-03-09T19:53:45.273Z"
   },
   {
    "duration": 54,
    "start_time": "2022-03-09T19:53:45.282Z"
   },
   {
    "duration": 22,
    "start_time": "2022-03-09T19:53:45.339Z"
   },
   {
    "duration": 17,
    "start_time": "2022-03-09T19:53:45.364Z"
   },
   {
    "duration": 61,
    "start_time": "2022-03-09T19:53:45.384Z"
   },
   {
    "duration": 22,
    "start_time": "2022-03-09T19:53:45.448Z"
   },
   {
    "duration": 29,
    "start_time": "2022-03-09T19:53:45.472Z"
   },
   {
    "duration": 55,
    "start_time": "2022-03-09T19:53:45.503Z"
   },
   {
    "duration": 20,
    "start_time": "2022-03-09T19:55:39.671Z"
   },
   {
    "duration": 20,
    "start_time": "2022-03-09T19:56:07.523Z"
   },
   {
    "duration": 21,
    "start_time": "2022-03-09T19:56:09.566Z"
   },
   {
    "duration": 6,
    "start_time": "2022-03-09T19:58:47.915Z"
   },
   {
    "duration": 6,
    "start_time": "2022-03-09T19:59:02.183Z"
   },
   {
    "duration": 6,
    "start_time": "2022-03-09T19:59:09.478Z"
   },
   {
    "duration": 7,
    "start_time": "2022-03-09T19:59:13.847Z"
   },
   {
    "duration": 6,
    "start_time": "2022-03-09T19:59:43.083Z"
   },
   {
    "duration": 5,
    "start_time": "2022-03-09T20:03:51.419Z"
   },
   {
    "duration": 14,
    "start_time": "2022-03-09T20:09:07.928Z"
   },
   {
    "duration": 3,
    "start_time": "2022-03-09T20:09:22.832Z"
   },
   {
    "duration": 69,
    "start_time": "2022-03-09T20:09:22.838Z"
   },
   {
    "duration": 39,
    "start_time": "2022-03-09T20:09:22.911Z"
   },
   {
    "duration": 20,
    "start_time": "2022-03-09T20:09:22.955Z"
   },
   {
    "duration": 11,
    "start_time": "2022-03-09T20:09:22.979Z"
   },
   {
    "duration": 42,
    "start_time": "2022-03-09T20:09:22.996Z"
   },
   {
    "duration": 641,
    "start_time": "2022-03-09T20:09:23.041Z"
   },
   {
    "duration": 9,
    "start_time": "2022-03-09T20:09:23.685Z"
   },
   {
    "duration": 44,
    "start_time": "2022-03-09T20:09:23.698Z"
   },
   {
    "duration": 12,
    "start_time": "2022-03-09T20:09:23.746Z"
   },
   {
    "duration": 18,
    "start_time": "2022-03-09T20:09:23.760Z"
   },
   {
    "duration": 7,
    "start_time": "2022-03-09T20:09:23.780Z"
   },
   {
    "duration": 51,
    "start_time": "2022-03-09T20:09:23.789Z"
   },
   {
    "duration": 23,
    "start_time": "2022-03-09T20:09:23.843Z"
   },
   {
    "duration": 26,
    "start_time": "2022-03-09T20:09:23.869Z"
   },
   {
    "duration": 70,
    "start_time": "2022-03-09T20:09:23.897Z"
   },
   {
    "duration": 16,
    "start_time": "2022-03-09T20:09:23.970Z"
   },
   {
    "duration": 45,
    "start_time": "2022-03-09T20:09:23.989Z"
   },
   {
    "duration": 21,
    "start_time": "2022-03-09T20:09:24.036Z"
   },
   {
    "duration": 5,
    "start_time": "2022-03-09T20:09:24.059Z"
   },
   {
    "duration": 24,
    "start_time": "2022-03-09T20:09:24.066Z"
   },
   {
    "duration": 44,
    "start_time": "2022-03-09T20:09:24.093Z"
   },
   {
    "duration": 16,
    "start_time": "2022-03-09T20:09:24.140Z"
   },
   {
    "duration": 25,
    "start_time": "2022-03-09T20:09:24.159Z"
   },
   {
    "duration": 60,
    "start_time": "2022-03-09T20:09:24.186Z"
   },
   {
    "duration": 29,
    "start_time": "2022-03-09T20:09:24.249Z"
   },
   {
    "duration": 61,
    "start_time": "2022-03-09T20:09:24.285Z"
   },
   {
    "duration": 16,
    "start_time": "2022-03-09T20:09:34.043Z"
   },
   {
    "duration": 1104,
    "start_time": "2022-03-09T20:10:14.812Z"
   },
   {
    "duration": 18,
    "start_time": "2022-03-09T20:10:36.819Z"
   },
   {
    "duration": 237,
    "start_time": "2022-03-09T20:13:39.308Z"
   },
   {
    "duration": 4,
    "start_time": "2022-03-09T20:16:32.082Z"
   },
   {
    "duration": 67,
    "start_time": "2022-03-09T20:16:32.089Z"
   },
   {
    "duration": 19,
    "start_time": "2022-03-09T20:16:32.160Z"
   },
   {
    "duration": 16,
    "start_time": "2022-03-09T20:16:32.182Z"
   },
   {
    "duration": 32,
    "start_time": "2022-03-09T20:16:32.200Z"
   },
   {
    "duration": 7,
    "start_time": "2022-03-09T20:16:32.235Z"
   },
   {
    "duration": 604,
    "start_time": "2022-03-09T20:16:32.244Z"
   },
   {
    "duration": 8,
    "start_time": "2022-03-09T20:16:32.850Z"
   },
   {
    "duration": 22,
    "start_time": "2022-03-09T20:16:32.862Z"
   },
   {
    "duration": 8,
    "start_time": "2022-03-09T20:16:32.887Z"
   },
   {
    "duration": 18,
    "start_time": "2022-03-09T20:16:32.932Z"
   },
   {
    "duration": 8,
    "start_time": "2022-03-09T20:16:32.953Z"
   },
   {
    "duration": 13,
    "start_time": "2022-03-09T20:16:32.964Z"
   },
   {
    "duration": 56,
    "start_time": "2022-03-09T20:16:32.979Z"
   },
   {
    "duration": 23,
    "start_time": "2022-03-09T20:16:33.037Z"
   },
   {
    "duration": 42,
    "start_time": "2022-03-09T20:16:33.062Z"
   },
   {
    "duration": 40,
    "start_time": "2022-03-09T20:16:33.106Z"
   },
   {
    "duration": 14,
    "start_time": "2022-03-09T20:16:33.149Z"
   },
   {
    "duration": 19,
    "start_time": "2022-03-09T20:16:33.165Z"
   },
   {
    "duration": 45,
    "start_time": "2022-03-09T20:16:33.187Z"
   },
   {
    "duration": 27,
    "start_time": "2022-03-09T20:16:33.235Z"
   },
   {
    "duration": 270,
    "start_time": "2022-03-09T20:16:33.265Z"
   },
   {
    "duration": 15,
    "start_time": "2022-03-09T20:16:33.538Z"
   },
   {
    "duration": 25,
    "start_time": "2022-03-09T20:16:33.555Z"
   },
   {
    "duration": 54,
    "start_time": "2022-03-09T20:16:33.583Z"
   },
   {
    "duration": 326,
    "start_time": "2022-03-09T20:16:33.640Z"
   },
   {
    "duration": -2429,
    "start_time": "2022-03-09T20:16:36.398Z"
   },
   {
    "duration": 20,
    "start_time": "2022-03-09T20:16:50.692Z"
   },
   {
    "duration": -151,
    "start_time": "2022-03-09T20:18:05.931Z"
   },
   {
    "duration": -17,
    "start_time": "2022-03-09T20:18:17.692Z"
   },
   {
    "duration": -32,
    "start_time": "2022-03-09T20:18:17.709Z"
   },
   {
    "duration": -36,
    "start_time": "2022-03-09T20:18:17.715Z"
   },
   {
    "duration": -38,
    "start_time": "2022-03-09T20:18:17.719Z"
   },
   {
    "duration": -39,
    "start_time": "2022-03-09T20:18:17.722Z"
   },
   {
    "duration": -41,
    "start_time": "2022-03-09T20:18:17.725Z"
   },
   {
    "duration": -49,
    "start_time": "2022-03-09T20:18:17.735Z"
   },
   {
    "duration": -51,
    "start_time": "2022-03-09T20:18:17.739Z"
   },
   {
    "duration": -53,
    "start_time": "2022-03-09T20:18:17.743Z"
   },
   {
    "duration": -55,
    "start_time": "2022-03-09T20:18:17.746Z"
   },
   {
    "duration": -57,
    "start_time": "2022-03-09T20:18:17.750Z"
   },
   {
    "duration": -58,
    "start_time": "2022-03-09T20:18:17.753Z"
   },
   {
    "duration": -61,
    "start_time": "2022-03-09T20:18:17.757Z"
   },
   {
    "duration": -61,
    "start_time": "2022-03-09T20:18:17.759Z"
   },
   {
    "duration": -64,
    "start_time": "2022-03-09T20:18:17.763Z"
   },
   {
    "duration": -65,
    "start_time": "2022-03-09T20:18:17.766Z"
   },
   {
    "duration": -66,
    "start_time": "2022-03-09T20:18:17.769Z"
   },
   {
    "duration": -68,
    "start_time": "2022-03-09T20:18:17.772Z"
   },
   {
    "duration": -70,
    "start_time": "2022-03-09T20:18:17.775Z"
   },
   {
    "duration": -72,
    "start_time": "2022-03-09T20:18:17.779Z"
   },
   {
    "duration": -74,
    "start_time": "2022-03-09T20:18:17.782Z"
   },
   {
    "duration": -85,
    "start_time": "2022-03-09T20:18:17.794Z"
   },
   {
    "duration": -88,
    "start_time": "2022-03-09T20:18:17.798Z"
   },
   {
    "duration": -88,
    "start_time": "2022-03-09T20:18:17.800Z"
   },
   {
    "duration": -92,
    "start_time": "2022-03-09T20:18:17.805Z"
   },
   {
    "duration": -94,
    "start_time": "2022-03-09T20:18:17.808Z"
   },
   {
    "duration": -96,
    "start_time": "2022-03-09T20:18:17.811Z"
   },
   {
    "duration": 89,
    "start_time": "2022-03-09T20:18:59.748Z"
   },
   {
    "duration": 4065,
    "start_time": "2022-03-09T20:19:07.933Z"
   },
   {
    "duration": 5505,
    "start_time": "2022-03-09T20:19:44.296Z"
   },
   {
    "duration": 721,
    "start_time": "2022-03-09T20:20:27.514Z"
   },
   {
    "duration": 409,
    "start_time": "2022-03-09T20:21:37.733Z"
   },
   {
    "duration": 393,
    "start_time": "2022-03-09T20:22:05.332Z"
   },
   {
    "duration": 391,
    "start_time": "2022-03-09T20:22:18.000Z"
   },
   {
    "duration": 414,
    "start_time": "2022-03-09T20:32:14.669Z"
   },
   {
    "duration": 387,
    "start_time": "2022-03-09T20:33:02.413Z"
   },
   {
    "duration": 393,
    "start_time": "2022-03-09T20:33:11.785Z"
   },
   {
    "duration": 7,
    "start_time": "2022-03-09T20:34:29.507Z"
   },
   {
    "duration": 394,
    "start_time": "2022-03-09T20:36:44.413Z"
   },
   {
    "duration": 44,
    "start_time": "2022-03-09T20:51:44.002Z"
   },
   {
    "duration": 17,
    "start_time": "2022-03-09T20:53:44.990Z"
   },
   {
    "duration": 19,
    "start_time": "2022-03-09T20:54:01.593Z"
   },
   {
    "duration": 14,
    "start_time": "2022-03-09T20:57:02.670Z"
   },
   {
    "duration": 291,
    "start_time": "2022-03-09T21:01:35.080Z"
   },
   {
    "duration": 300,
    "start_time": "2022-03-09T21:02:20.592Z"
   },
   {
    "duration": 48,
    "start_time": "2022-03-09T21:03:03.576Z"
   },
   {
    "duration": 49,
    "start_time": "2022-03-09T21:23:39.981Z"
   },
   {
    "duration": 48,
    "start_time": "2022-03-09T21:50:03.406Z"
   },
   {
    "duration": 48,
    "start_time": "2022-03-09T21:51:30.070Z"
   },
   {
    "duration": 23,
    "start_time": "2022-03-09T21:52:41.084Z"
   },
   {
    "duration": 302,
    "start_time": "2022-03-09T21:53:24.046Z"
   },
   {
    "duration": 78,
    "start_time": "2022-03-09T21:53:47.118Z"
   },
   {
    "duration": 80,
    "start_time": "2022-03-09T21:54:02.278Z"
   },
   {
    "duration": 24,
    "start_time": "2022-03-09T21:54:39.982Z"
   },
   {
    "duration": 303,
    "start_time": "2022-03-09T22:00:01.411Z"
   },
   {
    "duration": 68,
    "start_time": "2022-03-09T22:00:17.434Z"
   },
   {
    "duration": 66,
    "start_time": "2022-03-09T22:01:09.822Z"
   },
   {
    "duration": 67,
    "start_time": "2022-03-09T22:01:36.307Z"
   },
   {
    "duration": 700,
    "start_time": "2022-03-10T07:35:51.078Z"
   },
   {
    "duration": 52,
    "start_time": "2022-03-10T07:35:51.780Z"
   },
   {
    "duration": 21,
    "start_time": "2022-03-10T07:35:51.835Z"
   },
   {
    "duration": 12,
    "start_time": "2022-03-10T07:35:51.858Z"
   },
   {
    "duration": 15,
    "start_time": "2022-03-10T07:35:51.871Z"
   },
   {
    "duration": 6,
    "start_time": "2022-03-10T07:35:51.902Z"
   },
   {
    "duration": 410,
    "start_time": "2022-03-10T07:35:51.910Z"
   },
   {
    "duration": 6,
    "start_time": "2022-03-10T07:35:52.323Z"
   },
   {
    "duration": 28,
    "start_time": "2022-03-10T07:35:52.332Z"
   },
   {
    "duration": 16,
    "start_time": "2022-03-10T07:35:52.362Z"
   },
   {
    "duration": 52,
    "start_time": "2022-03-10T07:35:52.379Z"
   },
   {
    "duration": 6,
    "start_time": "2022-03-10T07:35:52.433Z"
   },
   {
    "duration": 21,
    "start_time": "2022-03-10T07:35:52.440Z"
   },
   {
    "duration": 23,
    "start_time": "2022-03-10T07:35:52.463Z"
   },
   {
    "duration": 35,
    "start_time": "2022-03-10T07:35:52.488Z"
   },
   {
    "duration": 31,
    "start_time": "2022-03-10T07:35:52.525Z"
   },
   {
    "duration": 12,
    "start_time": "2022-03-10T07:35:52.557Z"
   },
   {
    "duration": 31,
    "start_time": "2022-03-10T07:35:52.571Z"
   },
   {
    "duration": 14,
    "start_time": "2022-03-10T07:35:52.604Z"
   },
   {
    "duration": 4,
    "start_time": "2022-03-10T07:35:52.620Z"
   },
   {
    "duration": 32,
    "start_time": "2022-03-10T07:35:52.626Z"
   },
   {
    "duration": 8,
    "start_time": "2022-03-10T07:35:52.660Z"
   },
   {
    "duration": 271,
    "start_time": "2022-03-10T07:35:52.671Z"
   },
   {
    "duration": 33,
    "start_time": "2022-03-10T07:35:52.944Z"
   },
   {
    "duration": 33,
    "start_time": "2022-03-10T07:35:52.979Z"
   },
   {
    "duration": 46,
    "start_time": "2022-03-10T07:35:53.014Z"
   },
   {
    "duration": 14,
    "start_time": "2022-03-10T07:35:53.062Z"
   },
   {
    "duration": 21,
    "start_time": "2022-03-10T07:35:53.102Z"
   },
   {
    "duration": 20,
    "start_time": "2022-03-10T07:35:53.125Z"
   },
   {
    "duration": 267,
    "start_time": "2022-03-10T07:38:47.810Z"
   },
   {
    "duration": 34,
    "start_time": "2022-03-10T07:42:04.304Z"
   },
   {
    "duration": 35,
    "start_time": "2022-03-10T07:42:30.904Z"
   },
   {
    "duration": 16,
    "start_time": "2022-03-10T07:49:49.784Z"
   },
   {
    "duration": 52,
    "start_time": "2022-03-10T07:51:19.342Z"
   },
   {
    "duration": 37,
    "start_time": "2022-03-10T07:51:36.783Z"
   },
   {
    "duration": 38,
    "start_time": "2022-03-10T07:52:07.912Z"
   },
   {
    "duration": 89,
    "start_time": "2022-03-10T07:53:51.501Z"
   },
   {
    "duration": 66,
    "start_time": "2022-03-10T07:54:18.691Z"
   },
   {
    "duration": 93,
    "start_time": "2022-03-10T07:54:24.091Z"
   },
   {
    "duration": 72,
    "start_time": "2022-03-10T07:54:27.675Z"
   },
   {
    "duration": 4,
    "start_time": "2022-03-10T08:32:26.379Z"
   },
   {
    "duration": 61,
    "start_time": "2022-03-10T08:32:26.386Z"
   },
   {
    "duration": 14,
    "start_time": "2022-03-10T08:32:26.449Z"
   },
   {
    "duration": 38,
    "start_time": "2022-03-10T08:32:26.465Z"
   },
   {
    "duration": 6,
    "start_time": "2022-03-10T08:32:26.505Z"
   },
   {
    "duration": 16,
    "start_time": "2022-03-10T08:32:26.513Z"
   },
   {
    "duration": 401,
    "start_time": "2022-03-10T08:32:26.531Z"
   },
   {
    "duration": 7,
    "start_time": "2022-03-10T08:32:26.933Z"
   },
   {
    "duration": 21,
    "start_time": "2022-03-10T08:32:26.943Z"
   },
   {
    "duration": 36,
    "start_time": "2022-03-10T08:32:26.966Z"
   },
   {
    "duration": 12,
    "start_time": "2022-03-10T08:32:27.004Z"
   },
   {
    "duration": 6,
    "start_time": "2022-03-10T08:32:27.018Z"
   },
   {
    "duration": 14,
    "start_time": "2022-03-10T08:32:27.026Z"
   },
   {
    "duration": 32,
    "start_time": "2022-03-10T08:32:27.043Z"
   },
   {
    "duration": 26,
    "start_time": "2022-03-10T08:32:27.102Z"
   },
   {
    "duration": 45,
    "start_time": "2022-03-10T08:32:27.131Z"
   },
   {
    "duration": 33,
    "start_time": "2022-03-10T08:32:27.178Z"
   },
   {
    "duration": 11,
    "start_time": "2022-03-10T08:32:27.213Z"
   },
   {
    "duration": 19,
    "start_time": "2022-03-10T08:32:27.226Z"
   },
   {
    "duration": 4,
    "start_time": "2022-03-10T08:32:27.247Z"
   },
   {
    "duration": 28,
    "start_time": "2022-03-10T08:32:27.253Z"
   },
   {
    "duration": 6,
    "start_time": "2022-03-10T08:32:27.302Z"
   },
   {
    "duration": 271,
    "start_time": "2022-03-10T08:32:27.310Z"
   },
   {
    "duration": 44,
    "start_time": "2022-03-10T08:32:27.585Z"
   },
   {
    "duration": 18,
    "start_time": "2022-03-10T08:32:27.632Z"
   },
   {
    "duration": 67,
    "start_time": "2022-03-10T08:32:27.653Z"
   },
   {
    "duration": 37,
    "start_time": "2022-03-10T08:32:27.722Z"
   },
   {
    "duration": 60,
    "start_time": "2022-03-10T08:32:27.761Z"
   },
   {
    "duration": 588,
    "start_time": "2022-03-10T20:22:32.569Z"
   },
   {
    "duration": 49,
    "start_time": "2022-03-10T20:22:33.159Z"
   },
   {
    "duration": 20,
    "start_time": "2022-03-10T20:22:33.209Z"
   },
   {
    "duration": 12,
    "start_time": "2022-03-10T20:22:33.231Z"
   },
   {
    "duration": 6,
    "start_time": "2022-03-10T20:22:33.244Z"
   },
   {
    "duration": 12,
    "start_time": "2022-03-10T20:22:33.251Z"
   },
   {
    "duration": 360,
    "start_time": "2022-03-10T20:22:33.264Z"
   },
   {
    "duration": 6,
    "start_time": "2022-03-10T20:22:33.626Z"
   },
   {
    "duration": 29,
    "start_time": "2022-03-10T20:22:33.634Z"
   },
   {
    "duration": 5,
    "start_time": "2022-03-10T20:22:33.664Z"
   },
   {
    "duration": 10,
    "start_time": "2022-03-10T20:22:33.671Z"
   },
   {
    "duration": 4,
    "start_time": "2022-03-10T20:22:33.683Z"
   },
   {
    "duration": 9,
    "start_time": "2022-03-10T20:22:33.688Z"
   },
   {
    "duration": 16,
    "start_time": "2022-03-10T20:22:33.698Z"
   },
   {
    "duration": 15,
    "start_time": "2022-03-10T20:22:33.716Z"
   },
   {
    "duration": 28,
    "start_time": "2022-03-10T20:22:33.763Z"
   },
   {
    "duration": 9,
    "start_time": "2022-03-10T20:22:33.793Z"
   },
   {
    "duration": 9,
    "start_time": "2022-03-10T20:22:33.804Z"
   },
   {
    "duration": 10,
    "start_time": "2022-03-10T20:22:33.815Z"
   },
   {
    "duration": 3,
    "start_time": "2022-03-10T20:22:33.827Z"
   },
   {
    "duration": 53,
    "start_time": "2022-03-10T20:22:33.831Z"
   },
   {
    "duration": 9,
    "start_time": "2022-03-10T20:22:33.886Z"
   },
   {
    "duration": 235,
    "start_time": "2022-03-10T20:22:33.898Z"
   },
   {
    "duration": 38,
    "start_time": "2022-03-10T20:22:34.135Z"
   },
   {
    "duration": 18,
    "start_time": "2022-03-10T20:22:34.175Z"
   },
   {
    "duration": 39,
    "start_time": "2022-03-10T20:22:34.194Z"
   },
   {
    "duration": 47,
    "start_time": "2022-03-10T20:22:34.235Z"
   },
   {
    "duration": 32,
    "start_time": "2022-03-10T20:22:34.284Z"
   },
   {
    "duration": 6,
    "start_time": "2022-03-10T20:43:12.776Z"
   },
   {
    "duration": 548,
    "start_time": "2022-03-10T20:56:34.690Z"
   },
   {
    "duration": 51,
    "start_time": "2022-03-10T20:56:35.239Z"
   },
   {
    "duration": 19,
    "start_time": "2022-03-10T20:56:35.292Z"
   },
   {
    "duration": 12,
    "start_time": "2022-03-10T20:56:35.313Z"
   },
   {
    "duration": 6,
    "start_time": "2022-03-10T20:56:35.327Z"
   },
   {
    "duration": 30,
    "start_time": "2022-03-10T20:56:35.334Z"
   },
   {
    "duration": 378,
    "start_time": "2022-03-10T20:56:35.366Z"
   },
   {
    "duration": 18,
    "start_time": "2022-03-10T20:56:35.747Z"
   },
   {
    "duration": 24,
    "start_time": "2022-03-10T20:56:35.767Z"
   },
   {
    "duration": 5,
    "start_time": "2022-03-10T20:56:35.793Z"
   },
   {
    "duration": 16,
    "start_time": "2022-03-10T20:56:35.799Z"
   },
   {
    "duration": 5,
    "start_time": "2022-03-10T20:56:35.816Z"
   },
   {
    "duration": 15,
    "start_time": "2022-03-10T20:56:35.822Z"
   },
   {
    "duration": 32,
    "start_time": "2022-03-10T20:56:35.838Z"
   },
   {
    "duration": 22,
    "start_time": "2022-03-10T20:56:35.872Z"
   },
   {
    "duration": 29,
    "start_time": "2022-03-10T20:56:35.896Z"
   },
   {
    "duration": 11,
    "start_time": "2022-03-10T20:56:35.927Z"
   },
   {
    "duration": 27,
    "start_time": "2022-03-10T20:56:35.940Z"
   },
   {
    "duration": 12,
    "start_time": "2022-03-10T20:56:35.968Z"
   },
   {
    "duration": 3,
    "start_time": "2022-03-10T20:56:35.982Z"
   },
   {
    "duration": 19,
    "start_time": "2022-03-10T20:56:35.986Z"
   },
   {
    "duration": 5,
    "start_time": "2022-03-10T20:56:36.006Z"
   },
   {
    "duration": 245,
    "start_time": "2022-03-10T20:56:36.014Z"
   },
   {
    "duration": 30,
    "start_time": "2022-03-10T20:56:36.263Z"
   },
   {
    "duration": 24,
    "start_time": "2022-03-10T20:56:36.295Z"
   },
   {
    "duration": 78,
    "start_time": "2022-03-10T20:56:36.320Z"
   },
   {
    "duration": 28,
    "start_time": "2022-03-10T20:56:36.399Z"
   },
   {
    "duration": 35,
    "start_time": "2022-03-10T20:56:36.429Z"
   },
   {
    "duration": 49,
    "start_time": "2022-03-30T18:06:27.971Z"
   },
   {
    "duration": 6,
    "start_time": "2022-03-30T18:06:39.063Z"
   },
   {
    "duration": 417,
    "start_time": "2022-03-30T18:06:42.968Z"
   },
   {
    "duration": 60,
    "start_time": "2022-03-30T18:06:43.387Z"
   },
   {
    "duration": 19,
    "start_time": "2022-03-30T18:06:43.449Z"
   },
   {
    "duration": 15,
    "start_time": "2022-03-30T18:06:43.470Z"
   },
   {
    "duration": 4,
    "start_time": "2022-03-30T18:06:43.502Z"
   },
   {
    "duration": 6,
    "start_time": "2022-03-30T18:06:43.507Z"
   },
   {
    "duration": 205,
    "start_time": "2022-03-30T18:06:43.514Z"
   },
   {
    "duration": 5,
    "start_time": "2022-03-30T18:06:43.720Z"
   },
   {
    "duration": 12,
    "start_time": "2022-03-30T18:06:43.727Z"
   },
   {
    "duration": 5,
    "start_time": "2022-03-30T18:06:43.741Z"
   },
   {
    "duration": 13,
    "start_time": "2022-03-30T18:06:43.747Z"
   },
   {
    "duration": 5,
    "start_time": "2022-03-30T18:06:43.761Z"
   },
   {
    "duration": 37,
    "start_time": "2022-03-30T18:06:43.767Z"
   },
   {
    "duration": 16,
    "start_time": "2022-03-30T18:06:43.806Z"
   },
   {
    "duration": 19,
    "start_time": "2022-03-30T18:06:43.824Z"
   },
   {
    "duration": 57,
    "start_time": "2022-03-30T18:06:43.844Z"
   },
   {
    "duration": 12,
    "start_time": "2022-03-30T18:06:43.903Z"
   },
   {
    "duration": 11,
    "start_time": "2022-03-30T18:06:43.917Z"
   },
   {
    "duration": 16,
    "start_time": "2022-03-30T18:06:43.930Z"
   },
   {
    "duration": 3,
    "start_time": "2022-03-30T18:06:43.948Z"
   },
   {
    "duration": 18,
    "start_time": "2022-03-30T18:06:43.953Z"
   },
   {
    "duration": 5,
    "start_time": "2022-03-30T18:06:44.002Z"
   },
   {
    "duration": 141,
    "start_time": "2022-03-30T18:06:44.008Z"
   },
   {
    "duration": 29,
    "start_time": "2022-03-30T18:06:44.151Z"
   },
   {
    "duration": 26,
    "start_time": "2022-03-30T18:06:44.182Z"
   },
   {
    "duration": 38,
    "start_time": "2022-03-30T18:06:44.210Z"
   },
   {
    "duration": 28,
    "start_time": "2022-03-30T18:06:44.249Z"
   },
   {
    "duration": 51,
    "start_time": "2022-03-30T18:06:44.279Z"
   },
   {
    "duration": 25,
    "start_time": "2022-03-30T18:06:44.331Z"
   },
   {
    "duration": 7,
    "start_time": "2022-03-30T18:06:49.440Z"
   },
   {
    "duration": 3,
    "start_time": "2022-03-30T18:06:54.007Z"
   },
   {
    "duration": 63,
    "start_time": "2022-03-30T18:06:54.012Z"
   },
   {
    "duration": 12,
    "start_time": "2022-03-30T18:06:54.077Z"
   },
   {
    "duration": 23,
    "start_time": "2022-03-30T18:06:54.090Z"
   },
   {
    "duration": 4,
    "start_time": "2022-03-30T18:06:54.115Z"
   },
   {
    "duration": 4,
    "start_time": "2022-03-30T18:06:54.121Z"
   },
   {
    "duration": 206,
    "start_time": "2022-03-30T18:06:54.126Z"
   },
   {
    "duration": 6,
    "start_time": "2022-03-30T18:06:54.333Z"
   },
   {
    "duration": 11,
    "start_time": "2022-03-30T18:06:54.340Z"
   },
   {
    "duration": 7,
    "start_time": "2022-03-30T18:06:54.353Z"
   },
   {
    "duration": 10,
    "start_time": "2022-03-30T18:06:54.361Z"
   },
   {
    "duration": 6,
    "start_time": "2022-03-30T18:06:54.400Z"
   },
   {
    "duration": 9,
    "start_time": "2022-03-30T18:06:54.408Z"
   },
   {
    "duration": 21,
    "start_time": "2022-03-30T18:06:54.418Z"
   },
   {
    "duration": 17,
    "start_time": "2022-03-30T18:06:54.440Z"
   },
   {
    "duration": 55,
    "start_time": "2022-03-30T18:06:54.459Z"
   },
   {
    "duration": 12,
    "start_time": "2022-03-30T18:06:54.516Z"
   },
   {
    "duration": 11,
    "start_time": "2022-03-30T18:06:54.530Z"
   },
   {
    "duration": 16,
    "start_time": "2022-03-30T18:06:54.543Z"
   },
   {
    "duration": 4,
    "start_time": "2022-03-30T18:06:54.561Z"
   },
   {
    "duration": 45,
    "start_time": "2022-03-30T18:06:54.566Z"
   },
   {
    "duration": 4,
    "start_time": "2022-03-30T18:06:54.613Z"
   },
   {
    "duration": 139,
    "start_time": "2022-03-30T18:06:54.619Z"
   },
   {
    "duration": 26,
    "start_time": "2022-03-30T18:06:54.760Z"
   },
   {
    "duration": 24,
    "start_time": "2022-03-30T18:06:54.788Z"
   },
   {
    "duration": 41,
    "start_time": "2022-03-30T18:06:54.813Z"
   },
   {
    "duration": 55,
    "start_time": "2022-03-30T18:06:54.856Z"
   },
   {
    "duration": 30,
    "start_time": "2022-03-30T18:06:54.913Z"
   },
   {
    "duration": 6,
    "start_time": "2022-03-30T18:06:54.945Z"
   },
   {
    "duration": 64,
    "start_time": "2022-03-30T18:08:19.236Z"
   },
   {
    "duration": 3,
    "start_time": "2022-03-30T18:08:24.412Z"
   },
   {
    "duration": 63,
    "start_time": "2022-03-30T18:08:24.416Z"
   },
   {
    "duration": 0,
    "start_time": "2022-03-30T18:08:24.481Z"
   },
   {
    "duration": 0,
    "start_time": "2022-03-30T18:08:24.483Z"
   },
   {
    "duration": 0,
    "start_time": "2022-03-30T18:08:24.484Z"
   },
   {
    "duration": 0,
    "start_time": "2022-03-30T18:08:24.485Z"
   },
   {
    "duration": 0,
    "start_time": "2022-03-30T18:08:24.487Z"
   },
   {
    "duration": 0,
    "start_time": "2022-03-30T18:08:24.488Z"
   },
   {
    "duration": 0,
    "start_time": "2022-03-30T18:08:24.489Z"
   },
   {
    "duration": 0,
    "start_time": "2022-03-30T18:08:24.491Z"
   },
   {
    "duration": 0,
    "start_time": "2022-03-30T18:08:24.492Z"
   },
   {
    "duration": 0,
    "start_time": "2022-03-30T18:08:24.500Z"
   },
   {
    "duration": 0,
    "start_time": "2022-03-30T18:08:24.502Z"
   },
   {
    "duration": 0,
    "start_time": "2022-03-30T18:08:24.503Z"
   },
   {
    "duration": 0,
    "start_time": "2022-03-30T18:08:24.504Z"
   },
   {
    "duration": 0,
    "start_time": "2022-03-30T18:08:24.505Z"
   },
   {
    "duration": 0,
    "start_time": "2022-03-30T18:08:24.506Z"
   },
   {
    "duration": 0,
    "start_time": "2022-03-30T18:08:24.507Z"
   },
   {
    "duration": 0,
    "start_time": "2022-03-30T18:08:24.508Z"
   },
   {
    "duration": 0,
    "start_time": "2022-03-30T18:08:24.509Z"
   },
   {
    "duration": 1,
    "start_time": "2022-03-30T18:08:24.509Z"
   },
   {
    "duration": 7,
    "start_time": "2022-03-30T18:08:24.512Z"
   },
   {
    "duration": 187,
    "start_time": "2022-03-30T18:08:24.520Z"
   },
   {
    "duration": 29,
    "start_time": "2022-03-30T18:08:24.708Z"
   },
   {
    "duration": 15,
    "start_time": "2022-03-30T18:08:24.738Z"
   },
   {
    "duration": 49,
    "start_time": "2022-03-30T18:08:24.754Z"
   },
   {
    "duration": 0,
    "start_time": "2022-03-30T18:08:24.804Z"
   },
   {
    "duration": 0,
    "start_time": "2022-03-30T18:08:24.806Z"
   },
   {
    "duration": 613,
    "start_time": "2022-03-30T18:09:03.008Z"
   },
   {
    "duration": 371,
    "start_time": "2022-10-29T14:22:06.772Z"
   },
   {
    "duration": 443,
    "start_time": "2022-10-29T14:22:07.145Z"
   },
   {
    "duration": 19,
    "start_time": "2022-10-29T14:22:07.591Z"
   },
   {
    "duration": 14,
    "start_time": "2022-10-29T14:22:07.611Z"
   },
   {
    "duration": 3,
    "start_time": "2022-10-29T14:22:07.628Z"
   },
   {
    "duration": 9,
    "start_time": "2022-10-29T14:22:07.633Z"
   },
   {
    "duration": 202,
    "start_time": "2022-10-29T14:22:07.643Z"
   },
   {
    "duration": 5,
    "start_time": "2022-10-29T14:22:07.846Z"
   },
   {
    "duration": 16,
    "start_time": "2022-10-29T14:22:07.853Z"
   },
   {
    "duration": 6,
    "start_time": "2022-10-29T14:22:07.870Z"
   },
   {
    "duration": 31,
    "start_time": "2022-10-29T14:22:07.877Z"
   },
   {
    "duration": 5,
    "start_time": "2022-10-29T14:22:07.910Z"
   },
   {
    "duration": 11,
    "start_time": "2022-10-29T14:22:07.917Z"
   },
   {
    "duration": 19,
    "start_time": "2022-10-29T14:22:07.931Z"
   },
   {
    "duration": 20,
    "start_time": "2022-10-29T14:22:07.952Z"
   },
   {
    "duration": 60,
    "start_time": "2022-10-29T14:22:07.973Z"
   },
   {
    "duration": 12,
    "start_time": "2022-10-29T14:22:08.034Z"
   },
   {
    "duration": 12,
    "start_time": "2022-10-29T14:22:08.048Z"
   },
   {
    "duration": 17,
    "start_time": "2022-10-29T14:22:08.061Z"
   },
   {
    "duration": 4,
    "start_time": "2022-10-29T14:22:08.105Z"
   },
   {
    "duration": 18,
    "start_time": "2022-10-29T14:22:08.110Z"
   },
   {
    "duration": 6,
    "start_time": "2022-10-29T14:22:08.129Z"
   },
   {
    "duration": 192,
    "start_time": "2022-10-29T14:22:08.137Z"
   },
   {
    "duration": 29,
    "start_time": "2022-10-29T14:22:08.331Z"
   },
   {
    "duration": 14,
    "start_time": "2022-10-29T14:22:08.361Z"
   },
   {
    "duration": 60,
    "start_time": "2022-10-29T14:22:08.377Z"
   },
   {
    "duration": 27,
    "start_time": "2022-10-29T14:22:08.439Z"
   },
   {
    "duration": 46,
    "start_time": "2022-10-29T14:22:08.468Z"
   }
  ],
  "kernelspec": {
   "display_name": "Python 3 (ipykernel)",
   "language": "python",
   "name": "python3"
  },
  "language_info": {
   "codemirror_mode": {
    "name": "ipython",
    "version": 3
   },
   "file_extension": ".py",
   "mimetype": "text/x-python",
   "name": "python",
   "nbconvert_exporter": "python",
   "pygments_lexer": "ipython3",
   "version": "3.9.5"
  },
  "toc": {
   "base_numbering": 1,
   "nav_menu": {},
   "number_sections": true,
   "sideBar": true,
   "skip_h1_title": true,
   "title_cell": "Table of Contents",
   "title_sidebar": "Contents",
   "toc_cell": false,
   "toc_position": {},
   "toc_section_display": true,
   "toc_window_display": false
  }
 },
 "nbformat": 4,
 "nbformat_minor": 5
}
