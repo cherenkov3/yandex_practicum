{
 "cells": [
  {
   "cell_type": "markdown",
   "metadata": {},
   "source": [
    "# Изучение закономерностей, определяющих успешность игр"
   ]
  },
  {
   "cell_type": "markdown",
   "metadata": {},
   "source": [
    "# Описание данных\n",
    "Name — название игры\n",
    "\n",
    "Platform — платформа\n",
    "\n",
    "Year_of_Release — год выпуска\n",
    "\n",
    "Genre — жанр игры\n",
    "\n",
    "NA_sales — продажи в Северной Америке (миллионы проданных копий)\n",
    "\n",
    "EU_sales — продажи в Европе (миллионы проданных копий)\n",
    "\n",
    "JP_sales — продажи в Японии (миллионы проданных копий)\n",
    "\n",
    "Other_sales — продажи в других странах (миллионы проданных копий)\n",
    "\n",
    "Critic_Score — оценка критиков (максимум 100)\n",
    "\n",
    "User_Score — оценка пользователей (максимум 10)\n",
    "\n",
    "Rating — рейтинг от организации ESRB (англ. Entertainment Software Rating Board). Эта ассоциация определяет рейтинг компьютерных игр и присваивает им подходящую возрастную категорию"
   ]
  },
  {
   "cell_type": "markdown",
   "metadata": {},
   "source": [
    "# Импортируем библиотеки"
   ]
  },
  {
   "cell_type": "code",
   "execution_count": 665,
   "metadata": {},
   "outputs": [],
   "source": [
    "import pandas as pd\n",
    "import numpy as np\n",
    "import matplotlib.pyplot as plt\n",
    "import seaborn as sns\n",
    "import scipy.stats as st"
   ]
  },
  {
   "cell_type": "markdown",
   "metadata": {},
   "source": [
    "# Откроем файл с данными и изучим общую информацию"
   ]
  },
  {
   "cell_type": "code",
   "execution_count": 666,
   "metadata": {},
   "outputs": [],
   "source": [
    "games = pd.read_csv('/datasets/games.csv')"
   ]
  },
  {
   "cell_type": "code",
   "execution_count": 726,
   "metadata": {},
   "outputs": [
    {
     "data": {
      "text/html": [
       "<div>\n",
       "<style scoped>\n",
       "    .dataframe tbody tr th:only-of-type {\n",
       "        vertical-align: middle;\n",
       "    }\n",
       "\n",
       "    .dataframe tbody tr th {\n",
       "        vertical-align: top;\n",
       "    }\n",
       "\n",
       "    .dataframe thead th {\n",
       "        text-align: right;\n",
       "    }\n",
       "</style>\n",
       "<table border=\"1\" class=\"dataframe\">\n",
       "  <thead>\n",
       "    <tr style=\"text-align: right;\">\n",
       "      <th></th>\n",
       "      <th>name</th>\n",
       "      <th>platform</th>\n",
       "      <th>year_of_release</th>\n",
       "      <th>genre</th>\n",
       "      <th>na_sales</th>\n",
       "      <th>eu_sales</th>\n",
       "      <th>jp_sales</th>\n",
       "      <th>other_sales</th>\n",
       "      <th>critic_score</th>\n",
       "      <th>user_score</th>\n",
       "      <th>rating</th>\n",
       "      <th>total_sales</th>\n",
       "    </tr>\n",
       "  </thead>\n",
       "  <tbody>\n",
       "    <tr>\n",
       "      <th>0</th>\n",
       "      <td>wii sports</td>\n",
       "      <td>wii</td>\n",
       "      <td>2006.0</td>\n",
       "      <td>sports</td>\n",
       "      <td>41.36</td>\n",
       "      <td>28.96</td>\n",
       "      <td>3.77</td>\n",
       "      <td>8.45</td>\n",
       "      <td>76.0</td>\n",
       "      <td>8.0</td>\n",
       "      <td>e</td>\n",
       "      <td>82.54</td>\n",
       "    </tr>\n",
       "    <tr>\n",
       "      <th>1</th>\n",
       "      <td>super mario bros.</td>\n",
       "      <td>nes</td>\n",
       "      <td>1985.0</td>\n",
       "      <td>platform</td>\n",
       "      <td>29.08</td>\n",
       "      <td>3.58</td>\n",
       "      <td>6.81</td>\n",
       "      <td>0.77</td>\n",
       "      <td>NaN</td>\n",
       "      <td>NaN</td>\n",
       "      <td>rp</td>\n",
       "      <td>40.24</td>\n",
       "    </tr>\n",
       "    <tr>\n",
       "      <th>2</th>\n",
       "      <td>mario kart wii</td>\n",
       "      <td>wii</td>\n",
       "      <td>2008.0</td>\n",
       "      <td>racing</td>\n",
       "      <td>15.68</td>\n",
       "      <td>12.76</td>\n",
       "      <td>3.79</td>\n",
       "      <td>3.29</td>\n",
       "      <td>82.0</td>\n",
       "      <td>8.3</td>\n",
       "      <td>e</td>\n",
       "      <td>35.52</td>\n",
       "    </tr>\n",
       "    <tr>\n",
       "      <th>3</th>\n",
       "      <td>wii sports resort</td>\n",
       "      <td>wii</td>\n",
       "      <td>2009.0</td>\n",
       "      <td>sports</td>\n",
       "      <td>15.61</td>\n",
       "      <td>10.93</td>\n",
       "      <td>3.28</td>\n",
       "      <td>2.95</td>\n",
       "      <td>80.0</td>\n",
       "      <td>8.0</td>\n",
       "      <td>e</td>\n",
       "      <td>32.77</td>\n",
       "    </tr>\n",
       "    <tr>\n",
       "      <th>4</th>\n",
       "      <td>pokemon red/pokemon blue</td>\n",
       "      <td>gb</td>\n",
       "      <td>1996.0</td>\n",
       "      <td>role-playing</td>\n",
       "      <td>11.27</td>\n",
       "      <td>8.89</td>\n",
       "      <td>10.22</td>\n",
       "      <td>1.00</td>\n",
       "      <td>NaN</td>\n",
       "      <td>NaN</td>\n",
       "      <td>rp</td>\n",
       "      <td>31.38</td>\n",
       "    </tr>\n",
       "    <tr>\n",
       "      <th>5</th>\n",
       "      <td>tetris</td>\n",
       "      <td>gb</td>\n",
       "      <td>1989.0</td>\n",
       "      <td>puzzle</td>\n",
       "      <td>23.20</td>\n",
       "      <td>2.26</td>\n",
       "      <td>4.22</td>\n",
       "      <td>0.58</td>\n",
       "      <td>NaN</td>\n",
       "      <td>NaN</td>\n",
       "      <td>rp</td>\n",
       "      <td>30.26</td>\n",
       "    </tr>\n",
       "    <tr>\n",
       "      <th>6</th>\n",
       "      <td>new super mario bros.</td>\n",
       "      <td>ds</td>\n",
       "      <td>2006.0</td>\n",
       "      <td>platform</td>\n",
       "      <td>11.28</td>\n",
       "      <td>9.14</td>\n",
       "      <td>6.50</td>\n",
       "      <td>2.88</td>\n",
       "      <td>89.0</td>\n",
       "      <td>8.5</td>\n",
       "      <td>e</td>\n",
       "      <td>29.80</td>\n",
       "    </tr>\n",
       "    <tr>\n",
       "      <th>7</th>\n",
       "      <td>wii play</td>\n",
       "      <td>wii</td>\n",
       "      <td>2006.0</td>\n",
       "      <td>misc</td>\n",
       "      <td>13.96</td>\n",
       "      <td>9.18</td>\n",
       "      <td>2.93</td>\n",
       "      <td>2.84</td>\n",
       "      <td>58.0</td>\n",
       "      <td>6.6</td>\n",
       "      <td>e</td>\n",
       "      <td>28.91</td>\n",
       "    </tr>\n",
       "    <tr>\n",
       "      <th>8</th>\n",
       "      <td>new super mario bros. wii</td>\n",
       "      <td>wii</td>\n",
       "      <td>2009.0</td>\n",
       "      <td>platform</td>\n",
       "      <td>14.44</td>\n",
       "      <td>6.94</td>\n",
       "      <td>4.70</td>\n",
       "      <td>2.24</td>\n",
       "      <td>87.0</td>\n",
       "      <td>8.4</td>\n",
       "      <td>e</td>\n",
       "      <td>28.32</td>\n",
       "    </tr>\n",
       "    <tr>\n",
       "      <th>9</th>\n",
       "      <td>duck hunt</td>\n",
       "      <td>nes</td>\n",
       "      <td>1984.0</td>\n",
       "      <td>shooter</td>\n",
       "      <td>26.93</td>\n",
       "      <td>0.63</td>\n",
       "      <td>0.28</td>\n",
       "      <td>0.47</td>\n",
       "      <td>NaN</td>\n",
       "      <td>NaN</td>\n",
       "      <td>rp</td>\n",
       "      <td>28.31</td>\n",
       "    </tr>\n",
       "  </tbody>\n",
       "</table>\n",
       "</div>"
      ],
      "text/plain": [
       "                        name platform  year_of_release         genre  \\\n",
       "0                 wii sports      wii           2006.0        sports   \n",
       "1          super mario bros.      nes           1985.0      platform   \n",
       "2             mario kart wii      wii           2008.0        racing   \n",
       "3          wii sports resort      wii           2009.0        sports   \n",
       "4   pokemon red/pokemon blue       gb           1996.0  role-playing   \n",
       "5                     tetris       gb           1989.0        puzzle   \n",
       "6      new super mario bros.       ds           2006.0      platform   \n",
       "7                   wii play      wii           2006.0          misc   \n",
       "8  new super mario bros. wii      wii           2009.0      platform   \n",
       "9                  duck hunt      nes           1984.0       shooter   \n",
       "\n",
       "   na_sales  eu_sales  jp_sales  other_sales  critic_score  user_score rating  \\\n",
       "0     41.36     28.96      3.77         8.45          76.0         8.0      e   \n",
       "1     29.08      3.58      6.81         0.77           NaN         NaN     rp   \n",
       "2     15.68     12.76      3.79         3.29          82.0         8.3      e   \n",
       "3     15.61     10.93      3.28         2.95          80.0         8.0      e   \n",
       "4     11.27      8.89     10.22         1.00           NaN         NaN     rp   \n",
       "5     23.20      2.26      4.22         0.58           NaN         NaN     rp   \n",
       "6     11.28      9.14      6.50         2.88          89.0         8.5      e   \n",
       "7     13.96      9.18      2.93         2.84          58.0         6.6      e   \n",
       "8     14.44      6.94      4.70         2.24          87.0         8.4      e   \n",
       "9     26.93      0.63      0.28         0.47           NaN         NaN     rp   \n",
       "\n",
       "   total_sales  \n",
       "0        82.54  \n",
       "1        40.24  \n",
       "2        35.52  \n",
       "3        32.77  \n",
       "4        31.38  \n",
       "5        30.26  \n",
       "6        29.80  \n",
       "7        28.91  \n",
       "8        28.32  \n",
       "9        28.31  "
      ]
     },
     "execution_count": 726,
     "metadata": {},
     "output_type": "execute_result"
    }
   ],
   "source": [
    "games.head(10)"
   ]
  },
  {
   "cell_type": "code",
   "execution_count": 727,
   "metadata": {},
   "outputs": [
    {
     "data": {
      "text/plain": [
       "Index(['name', 'platform', 'year_of_release', 'genre', 'na_sales', 'eu_sales',\n",
       "       'jp_sales', 'other_sales', 'critic_score', 'user_score', 'rating',\n",
       "       'total_sales'],\n",
       "      dtype='object')"
      ]
     },
     "execution_count": 727,
     "metadata": {},
     "output_type": "execute_result"
    }
   ],
   "source": [
    "games.columns"
   ]
  },
  {
   "cell_type": "markdown",
   "metadata": {},
   "source": [
    "Заметим, что названия столбцов находятся в разном регистре. Так же приведем к нижнему регистру все значения их столбцов содержащих текст"
   ]
  },
  {
   "cell_type": "markdown",
   "metadata": {},
   "source": [
    "# Обработка полученных данных"
   ]
  },
  {
   "cell_type": "code",
   "execution_count": 728,
   "metadata": {},
   "outputs": [],
   "source": [
    "games.columns = games.columns.str.lower()\n",
    "list_to_lower = ['name','platform','genre','rating']\n",
    "for column in list_to_lower:\n",
    "    games[column] = games[column].str.lower()"
   ]
  },
  {
   "cell_type": "markdown",
   "metadata": {},
   "source": [
    "Текстовые значения данных и названия столбцов исправлены\n",
    "\n",
    "Посмотрим на информацию о данных"
   ]
  },
  {
   "cell_type": "code",
   "execution_count": 729,
   "metadata": {},
   "outputs": [
    {
     "name": "stdout",
     "output_type": "stream",
     "text": [
      "<class 'pandas.core.frame.DataFrame'>\n",
      "Int64Index: 16444 entries, 0 to 16714\n",
      "Data columns (total 12 columns):\n",
      " #   Column           Non-Null Count  Dtype  \n",
      "---  ------           --------------  -----  \n",
      " 0   name             16444 non-null  object \n",
      " 1   platform         16444 non-null  object \n",
      " 2   year_of_release  16444 non-null  float64\n",
      " 3   genre            16444 non-null  object \n",
      " 4   na_sales         16444 non-null  float64\n",
      " 5   eu_sales         16444 non-null  float64\n",
      " 6   jp_sales         16444 non-null  float64\n",
      " 7   other_sales      16444 non-null  float64\n",
      " 8   critic_score     7983 non-null   float64\n",
      " 9   user_score       7463 non-null   float64\n",
      " 10  rating           16444 non-null  object \n",
      " 11  total_sales      16444 non-null  float64\n",
      "dtypes: float64(8), object(4)\n",
      "memory usage: 1.6+ MB\n"
     ]
    }
   ],
   "source": [
    "games.info()"
   ]
  },
  {
   "cell_type": "markdown",
   "metadata": {},
   "source": [
    "В столбце 'user_score', кроме пропусков и значений содержится значения \"tbd\", которые стоит заменить на NaN, так как эта аббревиатура обозначает \"Будет определено\""
   ]
  },
  {
   "cell_type": "code",
   "execution_count": 730,
   "metadata": {},
   "outputs": [],
   "source": [
    "games.loc[games['user_score'] =='tbd','user_score'] = np.nan"
   ]
  },
  {
   "cell_type": "code",
   "execution_count": 731,
   "metadata": {},
   "outputs": [],
   "source": [
    "games['user_score'] = games['user_score'].astype('float')"
   ]
  },
  {
   "cell_type": "code",
   "execution_count": 732,
   "metadata": {},
   "outputs": [
    {
     "name": "stdout",
     "output_type": "stream",
     "text": [
      "<class 'pandas.core.frame.DataFrame'>\n",
      "Int64Index: 16444 entries, 0 to 16714\n",
      "Data columns (total 12 columns):\n",
      " #   Column           Non-Null Count  Dtype  \n",
      "---  ------           --------------  -----  \n",
      " 0   name             16444 non-null  object \n",
      " 1   platform         16444 non-null  object \n",
      " 2   year_of_release  16444 non-null  float64\n",
      " 3   genre            16444 non-null  object \n",
      " 4   na_sales         16444 non-null  float64\n",
      " 5   eu_sales         16444 non-null  float64\n",
      " 6   jp_sales         16444 non-null  float64\n",
      " 7   other_sales      16444 non-null  float64\n",
      " 8   critic_score     7983 non-null   float64\n",
      " 9   user_score       7463 non-null   float64\n",
      " 10  rating           16444 non-null  object \n",
      " 11  total_sales      16444 non-null  float64\n",
      "dtypes: float64(8), object(4)\n",
      "memory usage: 1.6+ MB\n"
     ]
    }
   ],
   "source": [
    "games.info()"
   ]
  },
  {
   "cell_type": "code",
   "execution_count": 733,
   "metadata": {},
   "outputs": [
    {
     "data": {
      "text/html": [
       "<div>\n",
       "<style scoped>\n",
       "    .dataframe tbody tr th:only-of-type {\n",
       "        vertical-align: middle;\n",
       "    }\n",
       "\n",
       "    .dataframe tbody tr th {\n",
       "        vertical-align: top;\n",
       "    }\n",
       "\n",
       "    .dataframe thead th {\n",
       "        text-align: right;\n",
       "    }\n",
       "</style>\n",
       "<table border=\"1\" class=\"dataframe\">\n",
       "  <thead>\n",
       "    <tr style=\"text-align: right;\">\n",
       "      <th></th>\n",
       "      <th>name</th>\n",
       "      <th>platform</th>\n",
       "      <th>year_of_release</th>\n",
       "      <th>genre</th>\n",
       "      <th>na_sales</th>\n",
       "      <th>eu_sales</th>\n",
       "      <th>jp_sales</th>\n",
       "      <th>other_sales</th>\n",
       "      <th>critic_score</th>\n",
       "      <th>user_score</th>\n",
       "      <th>rating</th>\n",
       "      <th>total_sales</th>\n",
       "    </tr>\n",
       "  </thead>\n",
       "  <tbody>\n",
       "  </tbody>\n",
       "</table>\n",
       "</div>"
      ],
      "text/plain": [
       "Empty DataFrame\n",
       "Columns: [name, platform, year_of_release, genre, na_sales, eu_sales, jp_sales, other_sales, critic_score, user_score, rating, total_sales]\n",
       "Index: []"
      ]
     },
     "execution_count": 733,
     "metadata": {},
     "output_type": "execute_result"
    }
   ],
   "source": [
    "games[games['name'].isnull()]"
   ]
  },
  {
   "cell_type": "markdown",
   "metadata": {},
   "source": [
    "Данных в этих строчках практически нет, поэтому их удаление не нанесет вреда дальнейшему анализу"
   ]
  },
  {
   "cell_type": "code",
   "execution_count": 734,
   "metadata": {},
   "outputs": [],
   "source": [
    "games = games.dropna(subset = ['name'])"
   ]
  },
  {
   "cell_type": "markdown",
   "metadata": {},
   "source": [
    "Изучим пропуски в 'year_of_release'"
   ]
  },
  {
   "cell_type": "code",
   "execution_count": 735,
   "metadata": {},
   "outputs": [
    {
     "data": {
      "text/html": [
       "<div>\n",
       "<style scoped>\n",
       "    .dataframe tbody tr th:only-of-type {\n",
       "        vertical-align: middle;\n",
       "    }\n",
       "\n",
       "    .dataframe tbody tr th {\n",
       "        vertical-align: top;\n",
       "    }\n",
       "\n",
       "    .dataframe thead th {\n",
       "        text-align: right;\n",
       "    }\n",
       "</style>\n",
       "<table border=\"1\" class=\"dataframe\">\n",
       "  <thead>\n",
       "    <tr style=\"text-align: right;\">\n",
       "      <th></th>\n",
       "      <th>name</th>\n",
       "      <th>platform</th>\n",
       "      <th>year_of_release</th>\n",
       "      <th>genre</th>\n",
       "      <th>na_sales</th>\n",
       "      <th>eu_sales</th>\n",
       "      <th>jp_sales</th>\n",
       "      <th>other_sales</th>\n",
       "      <th>critic_score</th>\n",
       "      <th>user_score</th>\n",
       "      <th>rating</th>\n",
       "      <th>total_sales</th>\n",
       "    </tr>\n",
       "  </thead>\n",
       "  <tbody>\n",
       "  </tbody>\n",
       "</table>\n",
       "</div>"
      ],
      "text/plain": [
       "Empty DataFrame\n",
       "Columns: [name, platform, year_of_release, genre, na_sales, eu_sales, jp_sales, other_sales, critic_score, user_score, rating, total_sales]\n",
       "Index: []"
      ]
     },
     "execution_count": 735,
     "metadata": {},
     "output_type": "execute_result"
    }
   ],
   "source": [
    "games[games['year_of_release'].isnull()].head()"
   ]
  },
  {
   "cell_type": "markdown",
   "metadata": {},
   "source": [
    "Данных тоже очень мало, поэтому поступим с ними также как и с пропусками в 'user_score'"
   ]
  },
  {
   "cell_type": "code",
   "execution_count": 736,
   "metadata": {},
   "outputs": [],
   "source": [
    "games = games.dropna(subset = ['year_of_release'])"
   ]
  },
  {
   "cell_type": "code",
   "execution_count": 737,
   "metadata": {},
   "outputs": [
    {
     "data": {
      "text/html": [
       "<div>\n",
       "<style scoped>\n",
       "    .dataframe tbody tr th:only-of-type {\n",
       "        vertical-align: middle;\n",
       "    }\n",
       "\n",
       "    .dataframe tbody tr th {\n",
       "        vertical-align: top;\n",
       "    }\n",
       "\n",
       "    .dataframe thead th {\n",
       "        text-align: right;\n",
       "    }\n",
       "</style>\n",
       "<table border=\"1\" class=\"dataframe\">\n",
       "  <thead>\n",
       "    <tr style=\"text-align: right;\">\n",
       "      <th></th>\n",
       "      <th>name</th>\n",
       "      <th>platform</th>\n",
       "      <th>year_of_release</th>\n",
       "      <th>genre</th>\n",
       "      <th>na_sales</th>\n",
       "      <th>eu_sales</th>\n",
       "      <th>jp_sales</th>\n",
       "      <th>other_sales</th>\n",
       "      <th>critic_score</th>\n",
       "      <th>user_score</th>\n",
       "      <th>rating</th>\n",
       "      <th>total_sales</th>\n",
       "    </tr>\n",
       "  </thead>\n",
       "  <tbody>\n",
       "    <tr>\n",
       "      <th>1</th>\n",
       "      <td>super mario bros.</td>\n",
       "      <td>nes</td>\n",
       "      <td>1985.0</td>\n",
       "      <td>platform</td>\n",
       "      <td>29.08</td>\n",
       "      <td>3.58</td>\n",
       "      <td>6.81</td>\n",
       "      <td>0.77</td>\n",
       "      <td>NaN</td>\n",
       "      <td>NaN</td>\n",
       "      <td>rp</td>\n",
       "      <td>40.24</td>\n",
       "    </tr>\n",
       "    <tr>\n",
       "      <th>4</th>\n",
       "      <td>pokemon red/pokemon blue</td>\n",
       "      <td>gb</td>\n",
       "      <td>1996.0</td>\n",
       "      <td>role-playing</td>\n",
       "      <td>11.27</td>\n",
       "      <td>8.89</td>\n",
       "      <td>10.22</td>\n",
       "      <td>1.00</td>\n",
       "      <td>NaN</td>\n",
       "      <td>NaN</td>\n",
       "      <td>rp</td>\n",
       "      <td>31.38</td>\n",
       "    </tr>\n",
       "    <tr>\n",
       "      <th>5</th>\n",
       "      <td>tetris</td>\n",
       "      <td>gb</td>\n",
       "      <td>1989.0</td>\n",
       "      <td>puzzle</td>\n",
       "      <td>23.20</td>\n",
       "      <td>2.26</td>\n",
       "      <td>4.22</td>\n",
       "      <td>0.58</td>\n",
       "      <td>NaN</td>\n",
       "      <td>NaN</td>\n",
       "      <td>rp</td>\n",
       "      <td>30.26</td>\n",
       "    </tr>\n",
       "    <tr>\n",
       "      <th>9</th>\n",
       "      <td>duck hunt</td>\n",
       "      <td>nes</td>\n",
       "      <td>1984.0</td>\n",
       "      <td>shooter</td>\n",
       "      <td>26.93</td>\n",
       "      <td>0.63</td>\n",
       "      <td>0.28</td>\n",
       "      <td>0.47</td>\n",
       "      <td>NaN</td>\n",
       "      <td>NaN</td>\n",
       "      <td>rp</td>\n",
       "      <td>28.31</td>\n",
       "    </tr>\n",
       "    <tr>\n",
       "      <th>10</th>\n",
       "      <td>nintendogs</td>\n",
       "      <td>ds</td>\n",
       "      <td>2005.0</td>\n",
       "      <td>simulation</td>\n",
       "      <td>9.05</td>\n",
       "      <td>10.95</td>\n",
       "      <td>1.93</td>\n",
       "      <td>2.74</td>\n",
       "      <td>NaN</td>\n",
       "      <td>NaN</td>\n",
       "      <td>rp</td>\n",
       "      <td>24.67</td>\n",
       "    </tr>\n",
       "  </tbody>\n",
       "</table>\n",
       "</div>"
      ],
      "text/plain": [
       "                        name platform  year_of_release         genre  \\\n",
       "1          super mario bros.      nes           1985.0      platform   \n",
       "4   pokemon red/pokemon blue       gb           1996.0  role-playing   \n",
       "5                     tetris       gb           1989.0        puzzle   \n",
       "9                  duck hunt      nes           1984.0       shooter   \n",
       "10                nintendogs       ds           2005.0    simulation   \n",
       "\n",
       "    na_sales  eu_sales  jp_sales  other_sales  critic_score  user_score  \\\n",
       "1      29.08      3.58      6.81         0.77           NaN         NaN   \n",
       "4      11.27      8.89     10.22         1.00           NaN         NaN   \n",
       "5      23.20      2.26      4.22         0.58           NaN         NaN   \n",
       "9      26.93      0.63      0.28         0.47           NaN         NaN   \n",
       "10      9.05     10.95      1.93         2.74           NaN         NaN   \n",
       "\n",
       "   rating  total_sales  \n",
       "1      rp        40.24  \n",
       "4      rp        31.38  \n",
       "5      rp        30.26  \n",
       "9      rp        28.31  \n",
       "10     rp        24.67  "
      ]
     },
     "execution_count": 737,
     "metadata": {},
     "output_type": "execute_result"
    }
   ],
   "source": [
    "games[games['critic_score'].isnull()].head()"
   ]
  },
  {
   "cell_type": "markdown",
   "metadata": {},
   "source": [
    "Создадим Сводную таблицу отражающую медианную оценку пользователей и критиков по каждому жанру"
   ]
  },
  {
   "cell_type": "code",
   "execution_count": 738,
   "metadata": {},
   "outputs": [],
   "source": [
    "genre_pivot_table = games.pivot_table(index = 'genre', values = [\"critic_score\",\"user_score\"], aggfunc = ['median'])"
   ]
  },
  {
   "cell_type": "code",
   "execution_count": 739,
   "metadata": {},
   "outputs": [],
   "source": [
    "genre_pivot_table = games.pivot_table(index = 'genre', values = [\"critic_score\",\"user_score\"], aggfunc = ['median'])\n",
    "genre_pivot_table.columns = ['critic_score','user_score']"
   ]
  },
  {
   "cell_type": "markdown",
   "metadata": {},
   "source": [
    "Заменим пропуски в rating на rp, что расшифровывается как «Рейтинг ожидается»"
   ]
  },
  {
   "cell_type": "code",
   "execution_count": 740,
   "metadata": {},
   "outputs": [],
   "source": [
    "games.loc[games.loc[:,'rating'].isnull(),'rating'] = 'rp'"
   ]
  },
  {
   "cell_type": "markdown",
   "metadata": {},
   "source": [
    "Проверим наличие дубликатов"
   ]
  },
  {
   "cell_type": "code",
   "execution_count": 741,
   "metadata": {},
   "outputs": [
    {
     "data": {
      "text/plain": [
       "0"
      ]
     },
     "execution_count": 741,
     "metadata": {},
     "output_type": "execute_result"
    }
   ],
   "source": [
    "games.duplicated().sum()"
   ]
  },
  {
   "cell_type": "markdown",
   "metadata": {},
   "source": [
    "Создадим столбец, отвечающий за общие продажи"
   ]
  },
  {
   "cell_type": "code",
   "execution_count": 742,
   "metadata": {},
   "outputs": [],
   "source": [
    "games['total_sales'] = games.apply(lambda row: sum(row[['na_sales','eu_sales','jp_sales','other_sales']]),axis =1)"
   ]
  },
  {
   "cell_type": "code",
   "execution_count": 743,
   "metadata": {},
   "outputs": [
    {
     "data": {
      "text/html": [
       "<div>\n",
       "<style scoped>\n",
       "    .dataframe tbody tr th:only-of-type {\n",
       "        vertical-align: middle;\n",
       "    }\n",
       "\n",
       "    .dataframe tbody tr th {\n",
       "        vertical-align: top;\n",
       "    }\n",
       "\n",
       "    .dataframe thead th {\n",
       "        text-align: right;\n",
       "    }\n",
       "</style>\n",
       "<table border=\"1\" class=\"dataframe\">\n",
       "  <thead>\n",
       "    <tr style=\"text-align: right;\">\n",
       "      <th></th>\n",
       "      <th>year_of_release</th>\n",
       "      <th>na_sales</th>\n",
       "      <th>eu_sales</th>\n",
       "      <th>jp_sales</th>\n",
       "      <th>other_sales</th>\n",
       "      <th>critic_score</th>\n",
       "      <th>user_score</th>\n",
       "      <th>total_sales</th>\n",
       "    </tr>\n",
       "  </thead>\n",
       "  <tbody>\n",
       "    <tr>\n",
       "      <th>count</th>\n",
       "      <td>16444.000000</td>\n",
       "      <td>16444.000000</td>\n",
       "      <td>16444.000000</td>\n",
       "      <td>16444.000000</td>\n",
       "      <td>16444.000000</td>\n",
       "      <td>7983.000000</td>\n",
       "      <td>7463.000000</td>\n",
       "      <td>16444.000000</td>\n",
       "    </tr>\n",
       "    <tr>\n",
       "      <th>mean</th>\n",
       "      <td>2006.486256</td>\n",
       "      <td>0.264012</td>\n",
       "      <td>0.145930</td>\n",
       "      <td>0.078487</td>\n",
       "      <td>0.047594</td>\n",
       "      <td>68.994363</td>\n",
       "      <td>7.126330</td>\n",
       "      <td>0.536023</td>\n",
       "    </tr>\n",
       "    <tr>\n",
       "      <th>std</th>\n",
       "      <td>5.875525</td>\n",
       "      <td>0.818378</td>\n",
       "      <td>0.506716</td>\n",
       "      <td>0.311100</td>\n",
       "      <td>0.188005</td>\n",
       "      <td>13.920060</td>\n",
       "      <td>1.499447</td>\n",
       "      <td>1.558786</td>\n",
       "    </tr>\n",
       "    <tr>\n",
       "      <th>min</th>\n",
       "      <td>1980.000000</td>\n",
       "      <td>0.000000</td>\n",
       "      <td>0.000000</td>\n",
       "      <td>0.000000</td>\n",
       "      <td>0.000000</td>\n",
       "      <td>13.000000</td>\n",
       "      <td>0.000000</td>\n",
       "      <td>0.000000</td>\n",
       "    </tr>\n",
       "    <tr>\n",
       "      <th>25%</th>\n",
       "      <td>2003.000000</td>\n",
       "      <td>0.000000</td>\n",
       "      <td>0.000000</td>\n",
       "      <td>0.000000</td>\n",
       "      <td>0.000000</td>\n",
       "      <td>60.000000</td>\n",
       "      <td>6.400000</td>\n",
       "      <td>0.060000</td>\n",
       "    </tr>\n",
       "    <tr>\n",
       "      <th>50%</th>\n",
       "      <td>2007.000000</td>\n",
       "      <td>0.080000</td>\n",
       "      <td>0.020000</td>\n",
       "      <td>0.000000</td>\n",
       "      <td>0.010000</td>\n",
       "      <td>71.000000</td>\n",
       "      <td>7.500000</td>\n",
       "      <td>0.170000</td>\n",
       "    </tr>\n",
       "    <tr>\n",
       "      <th>75%</th>\n",
       "      <td>2010.000000</td>\n",
       "      <td>0.240000</td>\n",
       "      <td>0.110000</td>\n",
       "      <td>0.040000</td>\n",
       "      <td>0.030000</td>\n",
       "      <td>79.000000</td>\n",
       "      <td>8.200000</td>\n",
       "      <td>0.470000</td>\n",
       "    </tr>\n",
       "    <tr>\n",
       "      <th>max</th>\n",
       "      <td>2016.000000</td>\n",
       "      <td>41.360000</td>\n",
       "      <td>28.960000</td>\n",
       "      <td>10.220000</td>\n",
       "      <td>10.570000</td>\n",
       "      <td>98.000000</td>\n",
       "      <td>9.700000</td>\n",
       "      <td>82.540000</td>\n",
       "    </tr>\n",
       "  </tbody>\n",
       "</table>\n",
       "</div>"
      ],
      "text/plain": [
       "       year_of_release      na_sales      eu_sales      jp_sales  \\\n",
       "count     16444.000000  16444.000000  16444.000000  16444.000000   \n",
       "mean       2006.486256      0.264012      0.145930      0.078487   \n",
       "std           5.875525      0.818378      0.506716      0.311100   \n",
       "min        1980.000000      0.000000      0.000000      0.000000   \n",
       "25%        2003.000000      0.000000      0.000000      0.000000   \n",
       "50%        2007.000000      0.080000      0.020000      0.000000   \n",
       "75%        2010.000000      0.240000      0.110000      0.040000   \n",
       "max        2016.000000     41.360000     28.960000     10.220000   \n",
       "\n",
       "        other_sales  critic_score   user_score   total_sales  \n",
       "count  16444.000000   7983.000000  7463.000000  16444.000000  \n",
       "mean       0.047594     68.994363     7.126330      0.536023  \n",
       "std        0.188005     13.920060     1.499447      1.558786  \n",
       "min        0.000000     13.000000     0.000000      0.000000  \n",
       "25%        0.000000     60.000000     6.400000      0.060000  \n",
       "50%        0.010000     71.000000     7.500000      0.170000  \n",
       "75%        0.030000     79.000000     8.200000      0.470000  \n",
       "max       10.570000     98.000000     9.700000     82.540000  "
      ]
     },
     "execution_count": 743,
     "metadata": {},
     "output_type": "execute_result"
    }
   ],
   "source": [
    "games.describe()"
   ]
  },
  {
   "cell_type": "markdown",
   "metadata": {},
   "source": [
    "# Проанализируем данные"
   ]
  },
  {
   "cell_type": "code",
   "execution_count": 744,
   "metadata": {},
   "outputs": [],
   "source": [
    "years_groupby = games.groupby('year_of_release').agg({'name':'count'})"
   ]
  },
  {
   "cell_type": "code",
   "execution_count": 745,
   "metadata": {},
   "outputs": [
    {
     "data": {
      "image/png": "[encoded data removed]",
      "text/plain": [
       "<Figure size 1800x720 with 1 Axes>"
      ]
     },
     "metadata": {},
     "output_type": "display_data"
    }
   ],
   "source": [
    "with plt.style.context('dark_background'):\n",
    "    years_groupby.loc[1992:].plot(y = 'name', kind= 'bar', figsize = (25,10), color = 'w')\n",
    "    plt.xlabel(\"\\nГод релиза\", fontsize=14, fontweight=\"bold\")\n",
    "    plt.ylabel(\"Количество игр\", fontsize=14, fontweight=\"bold\")"
   ]
  },
  {
   "cell_type": "markdown",
   "metadata": {},
   "source": [
    "Заметим, что больше всего игр было выпущено в период с 2005 по 2011 год\n",
    "\n",
    "Получим топ-10 популярных платформ"
   ]
  },
  {
   "cell_type": "code",
   "execution_count": 746,
   "metadata": {},
   "outputs": [],
   "source": [
    "top10_platforms = games.groupby('platform').agg({'total_sales':'sum'}).sort_values(by = 'total_sales', ascending = False)[:10].index"
   ]
  },
  {
   "cell_type": "code",
   "execution_count": 747,
   "metadata": {},
   "outputs": [],
   "source": [
    "platform_pivot_table_years = games.pivot_table(index=['platform','year_of_release'],values = 'total_sales', aggfunc = 'sum')"
   ]
  },
  {
   "cell_type": "code",
   "execution_count": 748,
   "metadata": {},
   "outputs": [],
   "source": [
    "platform_pivot_table_years['years'] =  platform_pivot_table_years.index\n",
    "platform_pivot_table_years['years'] = platform_pivot_table_years['years'].apply (lambda row: row[1]).astype('int')"
   ]
  },
  {
   "cell_type": "code",
   "execution_count": 749,
   "metadata": {},
   "outputs": [
    {
     "data": {
      "text/html": [
       "<div>\n",
       "<style scoped>\n",
       "    .dataframe tbody tr th:only-of-type {\n",
       "        vertical-align: middle;\n",
       "    }\n",
       "\n",
       "    .dataframe tbody tr th {\n",
       "        vertical-align: top;\n",
       "    }\n",
       "\n",
       "    .dataframe thead th {\n",
       "        text-align: right;\n",
       "    }\n",
       "</style>\n",
       "<table border=\"1\" class=\"dataframe\">\n",
       "  <thead>\n",
       "    <tr style=\"text-align: right;\">\n",
       "      <th></th>\n",
       "      <th></th>\n",
       "      <th>total_sales</th>\n",
       "      <th>years</th>\n",
       "    </tr>\n",
       "    <tr>\n",
       "      <th>platform</th>\n",
       "      <th>year_of_release</th>\n",
       "      <th></th>\n",
       "      <th></th>\n",
       "    </tr>\n",
       "  </thead>\n",
       "  <tbody>\n",
       "    <tr>\n",
       "      <th rowspan=\"5\" valign=\"top\">2600</th>\n",
       "      <th>1980.0</th>\n",
       "      <td>11.38</td>\n",
       "      <td>1980</td>\n",
       "    </tr>\n",
       "    <tr>\n",
       "      <th>1981.0</th>\n",
       "      <td>35.68</td>\n",
       "      <td>1981</td>\n",
       "    </tr>\n",
       "    <tr>\n",
       "      <th>1982.0</th>\n",
       "      <td>28.88</td>\n",
       "      <td>1982</td>\n",
       "    </tr>\n",
       "    <tr>\n",
       "      <th>1983.0</th>\n",
       "      <td>5.84</td>\n",
       "      <td>1983</td>\n",
       "    </tr>\n",
       "    <tr>\n",
       "      <th>1984.0</th>\n",
       "      <td>0.27</td>\n",
       "      <td>1984</td>\n",
       "    </tr>\n",
       "    <tr>\n",
       "      <th>...</th>\n",
       "      <th>...</th>\n",
       "      <td>...</td>\n",
       "      <td>...</td>\n",
       "    </tr>\n",
       "    <tr>\n",
       "      <th>xb</th>\n",
       "      <th>2008.0</th>\n",
       "      <td>0.18</td>\n",
       "      <td>2008</td>\n",
       "    </tr>\n",
       "    <tr>\n",
       "      <th rowspan=\"4\" valign=\"top\">xone</th>\n",
       "      <th>2013.0</th>\n",
       "      <td>18.96</td>\n",
       "      <td>2013</td>\n",
       "    </tr>\n",
       "    <tr>\n",
       "      <th>2014.0</th>\n",
       "      <td>54.07</td>\n",
       "      <td>2014</td>\n",
       "    </tr>\n",
       "    <tr>\n",
       "      <th>2015.0</th>\n",
       "      <td>60.14</td>\n",
       "      <td>2015</td>\n",
       "    </tr>\n",
       "    <tr>\n",
       "      <th>2016.0</th>\n",
       "      <td>26.15</td>\n",
       "      <td>2016</td>\n",
       "    </tr>\n",
       "  </tbody>\n",
       "</table>\n",
       "<p>238 rows × 2 columns</p>\n",
       "</div>"
      ],
      "text/plain": [
       "                          total_sales  years\n",
       "platform year_of_release                    \n",
       "2600     1980.0                 11.38   1980\n",
       "         1981.0                 35.68   1981\n",
       "         1982.0                 28.88   1982\n",
       "         1983.0                  5.84   1983\n",
       "         1984.0                  0.27   1984\n",
       "...                               ...    ...\n",
       "xb       2008.0                  0.18   2008\n",
       "xone     2013.0                 18.96   2013\n",
       "         2014.0                 54.07   2014\n",
       "         2015.0                 60.14   2015\n",
       "         2016.0                 26.15   2016\n",
       "\n",
       "[238 rows x 2 columns]"
      ]
     },
     "execution_count": 749,
     "metadata": {},
     "output_type": "execute_result"
    }
   ],
   "source": [
    "platform_pivot_table_years"
   ]
  },
  {
   "cell_type": "code",
   "execution_count": 750,
   "metadata": {},
   "outputs": [
    {
     "data": {
      "image/png": "[encoded data removed]",
      "text/plain": [
       "<Figure size 720x360 with 1 Axes>"
      ]
     },
     "metadata": {
      "needs_background": "light"
     },
     "output_type": "display_data"
    }
   ],
   "source": [
    "fig, ax = plt.subplots(figsize =(10,5))\n",
    "for platform in top10_platforms:\n",
    "    platform_pivot_table_years.loc[platform].plot('years','total_sales', ax=ax)\n",
    "ax.legend(top10_platforms,prop = {'size':10})\n",
    "ax.set_xlim([2000,2017])\n",
    "ax.set_xticks(np.arange(2000,2017))\n",
    "ax.set_xticklabels(range(2000,2017))\n",
    "plt.xlabel(\"\\nГоды продаж платформ\", fontsize=14, fontweight=\"bold\")\n",
    "plt.ylabel(\"Продажи в млн.$\", fontsize=14, fontweight=\"bold\")\n",
    "plt.show()"
   ]
  },
  {
   "cell_type": "markdown",
   "metadata": {},
   "source": [
    "По графику видно, что актуальным периодом можно назвать промежуток между 2013 и 2016 годом\n",
    "\n",
    "На графике отчетливо видно, что в среднем платформы живут 10-11 лет и начиная с 2006 года новые платформы появляются каждые год, а в некоторый случаях и 2 платформы за 1 год"
   ]
  },
  {
   "cell_type": "markdown",
   "metadata": {},
   "source": [
    "Выделим актуальный период"
   ]
  },
  {
   "cell_type": "code",
   "execution_count": 751,
   "metadata": {},
   "outputs": [],
   "source": [
    "period = (2013, 2016)\n",
    "actual_games = games.query('@period[0] <= year_of_release <= @period[1]') "
   ]
  },
  {
   "cell_type": "code",
   "execution_count": 752,
   "metadata": {},
   "outputs": [
    {
     "name": "stderr",
     "output_type": "stream",
     "text": [
      "/tmp/ipykernel_37/578441361.py:1: SettingWithCopyWarning: \n",
      "A value is trying to be set on a copy of a slice from a DataFrame.\n",
      "Try using .loc[row_indexer,col_indexer] = value instead\n",
      "\n",
      "See the caveats in the documentation: https://pandas.pydata.org/pandas-docs/stable/user_guide/indexing.html#returning-a-view-versus-a-copy\n",
      "  actual_games['year_of_release'] = actual_games['year_of_release'].astype('int')\n"
     ]
    }
   ],
   "source": [
    "actual_games['year_of_release'] = actual_games['year_of_release'].astype('int')"
   ]
  },
  {
   "cell_type": "code",
   "execution_count": 753,
   "metadata": {},
   "outputs": [
    {
     "data": {
      "text/html": [
       "<div>\n",
       "<style scoped>\n",
       "    .dataframe tbody tr th:only-of-type {\n",
       "        vertical-align: middle;\n",
       "    }\n",
       "\n",
       "    .dataframe tbody tr th {\n",
       "        vertical-align: top;\n",
       "    }\n",
       "\n",
       "    .dataframe thead th {\n",
       "        text-align: right;\n",
       "    }\n",
       "</style>\n",
       "<table border=\"1\" class=\"dataframe\">\n",
       "  <thead>\n",
       "    <tr style=\"text-align: right;\">\n",
       "      <th></th>\n",
       "      <th>name</th>\n",
       "      <th>platform</th>\n",
       "      <th>year_of_release</th>\n",
       "      <th>genre</th>\n",
       "      <th>na_sales</th>\n",
       "      <th>eu_sales</th>\n",
       "      <th>jp_sales</th>\n",
       "      <th>other_sales</th>\n",
       "      <th>critic_score</th>\n",
       "      <th>user_score</th>\n",
       "      <th>rating</th>\n",
       "      <th>total_sales</th>\n",
       "    </tr>\n",
       "  </thead>\n",
       "  <tbody>\n",
       "    <tr>\n",
       "      <th>16</th>\n",
       "      <td>grand theft auto v</td>\n",
       "      <td>ps3</td>\n",
       "      <td>2013</td>\n",
       "      <td>action</td>\n",
       "      <td>7.02</td>\n",
       "      <td>9.09</td>\n",
       "      <td>0.98</td>\n",
       "      <td>3.96</td>\n",
       "      <td>97.0</td>\n",
       "      <td>8.2</td>\n",
       "      <td>m</td>\n",
       "      <td>21.05</td>\n",
       "    </tr>\n",
       "    <tr>\n",
       "      <th>23</th>\n",
       "      <td>grand theft auto v</td>\n",
       "      <td>x360</td>\n",
       "      <td>2013</td>\n",
       "      <td>action</td>\n",
       "      <td>9.66</td>\n",
       "      <td>5.14</td>\n",
       "      <td>0.06</td>\n",
       "      <td>1.41</td>\n",
       "      <td>97.0</td>\n",
       "      <td>8.1</td>\n",
       "      <td>m</td>\n",
       "      <td>16.27</td>\n",
       "    </tr>\n",
       "    <tr>\n",
       "      <th>31</th>\n",
       "      <td>call of duty: black ops 3</td>\n",
       "      <td>ps4</td>\n",
       "      <td>2015</td>\n",
       "      <td>shooter</td>\n",
       "      <td>6.03</td>\n",
       "      <td>5.86</td>\n",
       "      <td>0.36</td>\n",
       "      <td>2.38</td>\n",
       "      <td>NaN</td>\n",
       "      <td>NaN</td>\n",
       "      <td>rp</td>\n",
       "      <td>14.63</td>\n",
       "    </tr>\n",
       "    <tr>\n",
       "      <th>33</th>\n",
       "      <td>pokemon x/pokemon y</td>\n",
       "      <td>3ds</td>\n",
       "      <td>2013</td>\n",
       "      <td>role-playing</td>\n",
       "      <td>5.28</td>\n",
       "      <td>4.19</td>\n",
       "      <td>4.35</td>\n",
       "      <td>0.78</td>\n",
       "      <td>NaN</td>\n",
       "      <td>NaN</td>\n",
       "      <td>rp</td>\n",
       "      <td>14.60</td>\n",
       "    </tr>\n",
       "    <tr>\n",
       "      <th>42</th>\n",
       "      <td>grand theft auto v</td>\n",
       "      <td>ps4</td>\n",
       "      <td>2014</td>\n",
       "      <td>action</td>\n",
       "      <td>3.96</td>\n",
       "      <td>6.31</td>\n",
       "      <td>0.38</td>\n",
       "      <td>1.97</td>\n",
       "      <td>97.0</td>\n",
       "      <td>8.3</td>\n",
       "      <td>m</td>\n",
       "      <td>12.62</td>\n",
       "    </tr>\n",
       "  </tbody>\n",
       "</table>\n",
       "</div>"
      ],
      "text/plain": [
       "                         name platform  year_of_release         genre  \\\n",
       "16         grand theft auto v      ps3             2013        action   \n",
       "23         grand theft auto v     x360             2013        action   \n",
       "31  call of duty: black ops 3      ps4             2015       shooter   \n",
       "33        pokemon x/pokemon y      3ds             2013  role-playing   \n",
       "42         grand theft auto v      ps4             2014        action   \n",
       "\n",
       "    na_sales  eu_sales  jp_sales  other_sales  critic_score  user_score  \\\n",
       "16      7.02      9.09      0.98         3.96          97.0         8.2   \n",
       "23      9.66      5.14      0.06         1.41          97.0         8.1   \n",
       "31      6.03      5.86      0.36         2.38           NaN         NaN   \n",
       "33      5.28      4.19      4.35         0.78           NaN         NaN   \n",
       "42      3.96      6.31      0.38         1.97          97.0         8.3   \n",
       "\n",
       "   rating  total_sales  \n",
       "16      m        21.05  \n",
       "23      m        16.27  \n",
       "31     rp        14.63  \n",
       "33     rp        14.60  \n",
       "42      m        12.62  "
      ]
     },
     "execution_count": 753,
     "metadata": {},
     "output_type": "execute_result"
    }
   ],
   "source": [
    "actual_games.head()"
   ]
  },
  {
   "cell_type": "code",
   "execution_count": 754,
   "metadata": {},
   "outputs": [],
   "source": [
    "actual_games_pivot_table = actual_games.pivot_table(index = ['year_of_release','platform'], \n",
    "                                                    values = 'total_sales',\n",
    "                                                    aggfunc = 'sum')"
   ]
  },
  {
   "cell_type": "code",
   "execution_count": 755,
   "metadata": {},
   "outputs": [],
   "source": [
    "pivot_table_index = actual_games_pivot_table.index.to_list()"
   ]
  },
  {
   "cell_type": "code",
   "execution_count": 756,
   "metadata": {},
   "outputs": [],
   "source": [
    "actual_games_pivot_table[\"years\"] = [year for year, platform in pivot_table_index]"
   ]
  },
  {
   "cell_type": "code",
   "execution_count": 757,
   "metadata": {},
   "outputs": [],
   "source": [
    "actual_games_pivot_table.index = [platform for year, platform in pivot_table_index]"
   ]
  },
  {
   "cell_type": "code",
   "execution_count": 758,
   "metadata": {},
   "outputs": [
    {
     "data": {
      "text/html": [
       "<div>\n",
       "<style scoped>\n",
       "    .dataframe tbody tr th:only-of-type {\n",
       "        vertical-align: middle;\n",
       "    }\n",
       "\n",
       "    .dataframe tbody tr th {\n",
       "        vertical-align: top;\n",
       "    }\n",
       "\n",
       "    .dataframe thead th {\n",
       "        text-align: right;\n",
       "    }\n",
       "</style>\n",
       "<table border=\"1\" class=\"dataframe\">\n",
       "  <thead>\n",
       "    <tr style=\"text-align: right;\">\n",
       "      <th></th>\n",
       "      <th>total_sales</th>\n",
       "      <th>years</th>\n",
       "    </tr>\n",
       "  </thead>\n",
       "  <tbody>\n",
       "    <tr>\n",
       "      <th>3ds</th>\n",
       "      <td>56.57</td>\n",
       "      <td>2013</td>\n",
       "    </tr>\n",
       "    <tr>\n",
       "      <th>ds</th>\n",
       "      <td>1.54</td>\n",
       "      <td>2013</td>\n",
       "    </tr>\n",
       "    <tr>\n",
       "      <th>pc</th>\n",
       "      <td>12.38</td>\n",
       "      <td>2013</td>\n",
       "    </tr>\n",
       "    <tr>\n",
       "      <th>ps3</th>\n",
       "      <td>113.25</td>\n",
       "      <td>2013</td>\n",
       "    </tr>\n",
       "    <tr>\n",
       "      <th>ps4</th>\n",
       "      <td>25.99</td>\n",
       "      <td>2013</td>\n",
       "    </tr>\n",
       "    <tr>\n",
       "      <th>psp</th>\n",
       "      <td>3.14</td>\n",
       "      <td>2013</td>\n",
       "    </tr>\n",
       "    <tr>\n",
       "      <th>psv</th>\n",
       "      <td>10.59</td>\n",
       "      <td>2013</td>\n",
       "    </tr>\n",
       "    <tr>\n",
       "      <th>wii</th>\n",
       "      <td>8.59</td>\n",
       "      <td>2013</td>\n",
       "    </tr>\n",
       "    <tr>\n",
       "      <th>wiiu</th>\n",
       "      <td>21.65</td>\n",
       "      <td>2013</td>\n",
       "    </tr>\n",
       "    <tr>\n",
       "      <th>x360</th>\n",
       "      <td>88.58</td>\n",
       "      <td>2013</td>\n",
       "    </tr>\n",
       "    <tr>\n",
       "      <th>xone</th>\n",
       "      <td>18.96</td>\n",
       "      <td>2013</td>\n",
       "    </tr>\n",
       "    <tr>\n",
       "      <th>3ds</th>\n",
       "      <td>43.76</td>\n",
       "      <td>2014</td>\n",
       "    </tr>\n",
       "    <tr>\n",
       "      <th>pc</th>\n",
       "      <td>13.28</td>\n",
       "      <td>2014</td>\n",
       "    </tr>\n",
       "    <tr>\n",
       "      <th>ps3</th>\n",
       "      <td>47.76</td>\n",
       "      <td>2014</td>\n",
       "    </tr>\n",
       "    <tr>\n",
       "      <th>ps4</th>\n",
       "      <td>100.00</td>\n",
       "      <td>2014</td>\n",
       "    </tr>\n",
       "    <tr>\n",
       "      <th>psp</th>\n",
       "      <td>0.24</td>\n",
       "      <td>2014</td>\n",
       "    </tr>\n",
       "    <tr>\n",
       "      <th>psv</th>\n",
       "      <td>11.90</td>\n",
       "      <td>2014</td>\n",
       "    </tr>\n",
       "    <tr>\n",
       "      <th>wii</th>\n",
       "      <td>3.75</td>\n",
       "      <td>2014</td>\n",
       "    </tr>\n",
       "    <tr>\n",
       "      <th>wiiu</th>\n",
       "      <td>22.03</td>\n",
       "      <td>2014</td>\n",
       "    </tr>\n",
       "    <tr>\n",
       "      <th>x360</th>\n",
       "      <td>34.74</td>\n",
       "      <td>2014</td>\n",
       "    </tr>\n",
       "    <tr>\n",
       "      <th>xone</th>\n",
       "      <td>54.07</td>\n",
       "      <td>2014</td>\n",
       "    </tr>\n",
       "    <tr>\n",
       "      <th>3ds</th>\n",
       "      <td>27.78</td>\n",
       "      <td>2015</td>\n",
       "    </tr>\n",
       "    <tr>\n",
       "      <th>pc</th>\n",
       "      <td>8.52</td>\n",
       "      <td>2015</td>\n",
       "    </tr>\n",
       "    <tr>\n",
       "      <th>ps3</th>\n",
       "      <td>16.82</td>\n",
       "      <td>2015</td>\n",
       "    </tr>\n",
       "    <tr>\n",
       "      <th>ps4</th>\n",
       "      <td>118.90</td>\n",
       "      <td>2015</td>\n",
       "    </tr>\n",
       "    <tr>\n",
       "      <th>psp</th>\n",
       "      <td>0.12</td>\n",
       "      <td>2015</td>\n",
       "    </tr>\n",
       "    <tr>\n",
       "      <th>psv</th>\n",
       "      <td>6.25</td>\n",
       "      <td>2015</td>\n",
       "    </tr>\n",
       "    <tr>\n",
       "      <th>wii</th>\n",
       "      <td>1.14</td>\n",
       "      <td>2015</td>\n",
       "    </tr>\n",
       "    <tr>\n",
       "      <th>wiiu</th>\n",
       "      <td>16.35</td>\n",
       "      <td>2015</td>\n",
       "    </tr>\n",
       "    <tr>\n",
       "      <th>x360</th>\n",
       "      <td>11.96</td>\n",
       "      <td>2015</td>\n",
       "    </tr>\n",
       "    <tr>\n",
       "      <th>xone</th>\n",
       "      <td>60.14</td>\n",
       "      <td>2015</td>\n",
       "    </tr>\n",
       "    <tr>\n",
       "      <th>3ds</th>\n",
       "      <td>15.14</td>\n",
       "      <td>2016</td>\n",
       "    </tr>\n",
       "    <tr>\n",
       "      <th>pc</th>\n",
       "      <td>5.25</td>\n",
       "      <td>2016</td>\n",
       "    </tr>\n",
       "    <tr>\n",
       "      <th>ps3</th>\n",
       "      <td>3.60</td>\n",
       "      <td>2016</td>\n",
       "    </tr>\n",
       "    <tr>\n",
       "      <th>ps4</th>\n",
       "      <td>69.25</td>\n",
       "      <td>2016</td>\n",
       "    </tr>\n",
       "    <tr>\n",
       "      <th>psv</th>\n",
       "      <td>4.25</td>\n",
       "      <td>2016</td>\n",
       "    </tr>\n",
       "    <tr>\n",
       "      <th>wii</th>\n",
       "      <td>0.18</td>\n",
       "      <td>2016</td>\n",
       "    </tr>\n",
       "    <tr>\n",
       "      <th>wiiu</th>\n",
       "      <td>4.60</td>\n",
       "      <td>2016</td>\n",
       "    </tr>\n",
       "    <tr>\n",
       "      <th>x360</th>\n",
       "      <td>1.52</td>\n",
       "      <td>2016</td>\n",
       "    </tr>\n",
       "    <tr>\n",
       "      <th>xone</th>\n",
       "      <td>26.15</td>\n",
       "      <td>2016</td>\n",
       "    </tr>\n",
       "  </tbody>\n",
       "</table>\n",
       "</div>"
      ],
      "text/plain": [
       "      total_sales  years\n",
       "3ds         56.57   2013\n",
       "ds           1.54   2013\n",
       "pc          12.38   2013\n",
       "ps3        113.25   2013\n",
       "ps4         25.99   2013\n",
       "psp          3.14   2013\n",
       "psv         10.59   2013\n",
       "wii          8.59   2013\n",
       "wiiu        21.65   2013\n",
       "x360        88.58   2013\n",
       "xone        18.96   2013\n",
       "3ds         43.76   2014\n",
       "pc          13.28   2014\n",
       "ps3         47.76   2014\n",
       "ps4        100.00   2014\n",
       "psp          0.24   2014\n",
       "psv         11.90   2014\n",
       "wii          3.75   2014\n",
       "wiiu        22.03   2014\n",
       "x360        34.74   2014\n",
       "xone        54.07   2014\n",
       "3ds         27.78   2015\n",
       "pc           8.52   2015\n",
       "ps3         16.82   2015\n",
       "ps4        118.90   2015\n",
       "psp          0.12   2015\n",
       "psv          6.25   2015\n",
       "wii          1.14   2015\n",
       "wiiu        16.35   2015\n",
       "x360        11.96   2015\n",
       "xone        60.14   2015\n",
       "3ds         15.14   2016\n",
       "pc           5.25   2016\n",
       "ps3          3.60   2016\n",
       "ps4         69.25   2016\n",
       "psv          4.25   2016\n",
       "wii          0.18   2016\n",
       "wiiu         4.60   2016\n",
       "x360         1.52   2016\n",
       "xone        26.15   2016"
      ]
     },
     "execution_count": 758,
     "metadata": {},
     "output_type": "execute_result"
    }
   ],
   "source": [
    "actual_games_pivot_table"
   ]
  },
  {
   "cell_type": "code",
   "execution_count": 759,
   "metadata": {},
   "outputs": [
    {
     "data": {
      "image/png": "[encoded data removed]",
      "text/plain": [
       "<Figure size 720x360 with 1 Axes>"
      ]
     },
     "metadata": {
      "needs_background": "light"
     },
     "output_type": "display_data"
    }
   ],
   "source": [
    "fig, ax = plt.subplots(figsize =(10,5))\n",
    "for platform in actual_games_pivot_table.index:\n",
    "    ax.plot(actual_games_pivot_table.loc[platform]['years'],\n",
    "            actual_games_pivot_table.loc[platform]['total_sales'])\n",
    "ax.legend(actual_games_pivot_table.index.unique(),prop = {'size':10})\n",
    "plt.xlabel(\"\\nГоды продаж за актуальный период\", fontsize=14, fontweight=\"bold\")\n",
    "plt.ylabel(\"Продажи в млн.$\", fontsize=14, fontweight=\"bold\")\n",
    "plt.show()"
   ]
  },
  {
   "cell_type": "markdown",
   "metadata": {},
   "source": [
    "По данным видно, что практически все платформы находятся в стадии снижения показателя по продажам Однако, можно выделить платформу ps3 и ps4, которая на протяжении первой половины актуального периода они активно растут, но после 2015 года начинают сдавать позиции. Так же мы можем наблюдать падение продаж ps4, причиной этому стал анонс ps4 про в 2016 году, поэтому не удивительно, что продажи на таких консолях как ps4 снизились. Потенциально прибыльными могут стать xone, wiiu, pc"
   ]
  },
  {
   "cell_type": "code",
   "execution_count": 760,
   "metadata": {
    "scrolled": false
   },
   "outputs": [
    {
     "data": {
      "text/plain": [
       "(0.0, 2.5)"
      ]
     },
     "execution_count": 760,
     "metadata": {},
     "output_type": "execute_result"
    },
    {
     "data": {
      "image/png": "[encoded data removed]",
      "text/plain": [
       "<Figure size 1080x360 with 1 Axes>"
      ]
     },
     "metadata": {
      "needs_background": "light"
     },
     "output_type": "display_data"
    }
   ],
   "source": [
    "fig, ax = plt.subplots(figsize =(15,5))\n",
    "sns.boxplot(x = 'platform', \n",
    "            y = 'total_sales',\n",
    "            data = actual_games)\n",
    "plt.ylim(0, 2.5)"
   ]
  },
  {
   "cell_type": "markdown",
   "metadata": {},
   "source": [
    "Заметим, что у платформ ps4, ps3 и wii большая часть значений больше медианного. Наиболее равномерно распределены значения у платформы xone, ds"
   ]
  },
  {
   "cell_type": "code",
   "execution_count": 761,
   "metadata": {},
   "outputs": [],
   "source": [
    "genre_analysis_pivot_table = actual_games.groupby('genre').agg({'name':'count','total_sales':['median','sum']})"
   ]
  },
  {
   "cell_type": "code",
   "execution_count": 762,
   "metadata": {},
   "outputs": [],
   "source": [
    "genre_analysis_pivot_table.columns = ['count', 'median','sum']"
   ]
  },
  {
   "cell_type": "code",
   "execution_count": 763,
   "metadata": {},
   "outputs": [],
   "source": [
    "genre_analysis_pivot_table = genre_analysis_pivot_table.sort_values(by = 'sum', ascending = False)"
   ]
  },
  {
   "cell_type": "code",
   "execution_count": 764,
   "metadata": {},
   "outputs": [
    {
     "data": {
      "text/html": [
       "<div>\n",
       "<style scoped>\n",
       "    .dataframe tbody tr th:only-of-type {\n",
       "        vertical-align: middle;\n",
       "    }\n",
       "\n",
       "    .dataframe tbody tr th {\n",
       "        vertical-align: top;\n",
       "    }\n",
       "\n",
       "    .dataframe thead th {\n",
       "        text-align: right;\n",
       "    }\n",
       "</style>\n",
       "<table border=\"1\" class=\"dataframe\">\n",
       "  <thead>\n",
       "    <tr style=\"text-align: right;\">\n",
       "      <th></th>\n",
       "      <th>count</th>\n",
       "      <th>median</th>\n",
       "      <th>sum</th>\n",
       "    </tr>\n",
       "    <tr>\n",
       "      <th>genre</th>\n",
       "      <th></th>\n",
       "      <th></th>\n",
       "      <th></th>\n",
       "    </tr>\n",
       "  </thead>\n",
       "  <tbody>\n",
       "    <tr>\n",
       "      <th>action</th>\n",
       "      <td>766</td>\n",
       "      <td>0.110</td>\n",
       "      <td>321.87</td>\n",
       "    </tr>\n",
       "    <tr>\n",
       "      <th>shooter</th>\n",
       "      <td>187</td>\n",
       "      <td>0.450</td>\n",
       "      <td>232.98</td>\n",
       "    </tr>\n",
       "    <tr>\n",
       "      <th>sports</th>\n",
       "      <td>214</td>\n",
       "      <td>0.240</td>\n",
       "      <td>150.65</td>\n",
       "    </tr>\n",
       "    <tr>\n",
       "      <th>role-playing</th>\n",
       "      <td>292</td>\n",
       "      <td>0.125</td>\n",
       "      <td>145.89</td>\n",
       "    </tr>\n",
       "    <tr>\n",
       "      <th>misc</th>\n",
       "      <td>155</td>\n",
       "      <td>0.100</td>\n",
       "      <td>62.82</td>\n",
       "    </tr>\n",
       "    <tr>\n",
       "      <th>platform</th>\n",
       "      <td>74</td>\n",
       "      <td>0.225</td>\n",
       "      <td>42.63</td>\n",
       "    </tr>\n",
       "    <tr>\n",
       "      <th>racing</th>\n",
       "      <td>85</td>\n",
       "      <td>0.120</td>\n",
       "      <td>39.89</td>\n",
       "    </tr>\n",
       "    <tr>\n",
       "      <th>fighting</th>\n",
       "      <td>80</td>\n",
       "      <td>0.125</td>\n",
       "      <td>35.31</td>\n",
       "    </tr>\n",
       "    <tr>\n",
       "      <th>adventure</th>\n",
       "      <td>245</td>\n",
       "      <td>0.030</td>\n",
       "      <td>23.64</td>\n",
       "    </tr>\n",
       "    <tr>\n",
       "      <th>simulation</th>\n",
       "      <td>62</td>\n",
       "      <td>0.100</td>\n",
       "      <td>21.76</td>\n",
       "    </tr>\n",
       "    <tr>\n",
       "      <th>strategy</th>\n",
       "      <td>56</td>\n",
       "      <td>0.080</td>\n",
       "      <td>10.08</td>\n",
       "    </tr>\n",
       "    <tr>\n",
       "      <th>puzzle</th>\n",
       "      <td>17</td>\n",
       "      <td>0.060</td>\n",
       "      <td>3.17</td>\n",
       "    </tr>\n",
       "  </tbody>\n",
       "</table>\n",
       "</div>"
      ],
      "text/plain": [
       "              count  median     sum\n",
       "genre                              \n",
       "action          766   0.110  321.87\n",
       "shooter         187   0.450  232.98\n",
       "sports          214   0.240  150.65\n",
       "role-playing    292   0.125  145.89\n",
       "misc            155   0.100   62.82\n",
       "platform         74   0.225   42.63\n",
       "racing           85   0.120   39.89\n",
       "fighting         80   0.125   35.31\n",
       "adventure       245   0.030   23.64\n",
       "simulation       62   0.100   21.76\n",
       "strategy         56   0.080   10.08\n",
       "puzzle           17   0.060    3.17"
      ]
     },
     "execution_count": 764,
     "metadata": {},
     "output_type": "execute_result"
    }
   ],
   "source": [
    "genre_analysis_pivot_table"
   ]
  },
  {
   "cell_type": "markdown",
   "metadata": {},
   "source": [
    "Можно заметить, что не всегда количество игр жанра гарантирует хорошие продажи, например, в жанре adventure выпущено много игр, но они имеют очень маленькое медианное значение продаж. Так же можно увидеть, что существуют обратные случаи, когда медианное значение продаж приближается к максимальному, среди всех жанров, но количество игр очень маленькое, примером может служить жанр simulation. Если рассматривать только самые прибыльные жанры, то можно заметить, что в них сочетаются два параметра, у них большое количество игр и высокое медианное значение."
   ]
  },
  {
   "cell_type": "code",
   "execution_count": 765,
   "metadata": {},
   "outputs": [
    {
     "data": {
      "text/plain": [
       "<matplotlib.collections.PathCollection at 0x7f4d6542e220>"
      ]
     },
     "execution_count": 765,
     "metadata": {},
     "output_type": "execute_result"
    },
    {
     "data": {
      "image/png": "[encoded data removed]",
      "text/plain": [
       "<Figure size 1440x504 with 2 Axes>"
      ]
     },
     "metadata": {
      "needs_background": "light"
     },
     "output_type": "display_data"
    }
   ],
   "source": [
    "fig_scatter, (scatter_ax,scatter_ax2) = plt.subplots(2,1, figsize = (20,7))\n",
    "scatter_ax.scatter(y= 'critic_score', x = 'total_sales',data =actual_games.query('platform == \"ps4\"').dropna())\n",
    "scatter_ax2.scatter(y= 'user_score', x = 'total_sales',data =actual_games.query('platform == \"ps4\"').dropna())"
   ]
  },
  {
   "cell_type": "markdown",
   "metadata": {},
   "source": [
    "На графике видно, что корреляция между продажами и оценкой критиков сильнее"
   ]
  },
  {
   "cell_type": "code",
   "execution_count": 766,
   "metadata": {},
   "outputs": [],
   "source": [
    "ps4_critic_score = actual_games.query('platform == \"ps3\"')['critic_score']\n",
    "ps4_user_score = actual_games.query('platform == \"ps3\"')['user_score']\n",
    "ps4_total_sales = actual_games.query('platform == \"ps3\"')['total_sales']"
   ]
  },
  {
   "cell_type": "code",
   "execution_count": 767,
   "metadata": {},
   "outputs": [
    {
     "data": {
      "text/plain": [
       "0.3342853393371919"
      ]
     },
     "metadata": {},
     "output_type": "display_data"
    },
    {
     "data": {
      "text/plain": [
       "0.0023944027357566925"
      ]
     },
     "metadata": {},
     "output_type": "display_data"
    }
   ],
   "source": [
    "display(ps4_critic_score.corr(ps4_total_sales))\n",
    "display(ps4_user_score.corr(ps4_total_sales))"
   ]
  },
  {
   "cell_type": "markdown",
   "metadata": {},
   "source": [
    "В целом коэффициент корреляции показывает, что зависимость продаж от оценок критиков сильнее, чем от оценок пользователей."
   ]
  },
  {
   "cell_type": "code",
   "execution_count": 768,
   "metadata": {},
   "outputs": [
    {
     "data": {
      "text/plain": [
       "<matplotlib.collections.PathCollection at 0x7f4d658a3be0>"
      ]
     },
     "execution_count": 768,
     "metadata": {},
     "output_type": "execute_result"
    },
    {
     "data": {
      "image/png": "[encoded data removed]",
      "text/plain": [
       "<Figure size 1440x504 with 2 Axes>"
      ]
     },
     "metadata": {
      "needs_background": "light"
     },
     "output_type": "display_data"
    }
   ],
   "source": [
    "fig_scatter, (scatter_ax,scatter_ax2) = plt.subplots(2,1, figsize = (20,7))\n",
    "scatter_ax.scatter(y= 'critic_score', x = 'total_sales',data =actual_games.query('platform == \"ps4\"'))\n",
    "scatter_ax2.scatter(y= 'user_score', x = 'total_sales',data =actual_games.query('platform == \"ps4\"'))"
   ]
  },
  {
   "cell_type": "code",
   "execution_count": 769,
   "metadata": {},
   "outputs": [
    {
     "name": "stdout",
     "output_type": "stream",
     "text": [
      "0.4169983280084017\n",
      "-0.06892505328279414\n"
     ]
    },
    {
     "data": {
      "text/plain": [
       "<matplotlib.collections.PathCollection at 0x7f4d65f0b820>"
      ]
     },
     "execution_count": 769,
     "metadata": {},
     "output_type": "execute_result"
    },
    {
     "data": {
      "image/png": "[encoded data removed]",
      "text/plain": [
       "<Figure size 1440x504 with 2 Axes>"
      ]
     },
     "metadata": {
      "needs_background": "light"
     },
     "output_type": "display_data"
    }
   ],
   "source": [
    "ps4_critic_score_without_outliers = actual_games.query('platform == \"xone\"')['critic_score']\n",
    "ps4_user_score_without_outliers = actual_games.query('platform == \"xone\"')['user_score']\n",
    "ps4_total_sales_without_outliers = actual_games.query('platform == \"xone\"')['total_sales']\n",
    "\n",
    "print(ps4_critic_score_without_outliers.corr(ps4_total_sales_without_outliers))\n",
    "print(ps4_user_score_without_outliers.corr(ps4_total_sales_without_outliers))\n",
    "fig_scatter, (scatter_ax,scatter_ax2) = plt.subplots(2,1, figsize = (20,7))\n",
    "scatter_ax.scatter(y= 'critic_score', x = 'total_sales',data =actual_games.query('platform == \"xone\"'))\n",
    "scatter_ax2.scatter(y= 'user_score', x = 'total_sales',data =actual_games.query('platform == \"xone\"'))"
   ]
  },
  {
   "cell_type": "code",
   "execution_count": 770,
   "metadata": {},
   "outputs": [
    {
     "name": "stdout",
     "output_type": "stream",
     "text": [
      "0.3503445460228664\n",
      "-0.011742185147181342\n"
     ]
    },
    {
     "data": {
      "text/plain": [
       "<matplotlib.collections.PathCollection at 0x7f4d657b1a00>"
      ]
     },
     "execution_count": 770,
     "metadata": {},
     "output_type": "execute_result"
    },
    {
     "data": {
      "image/png": "[encoded data removed]",
      "text/plain": [
       "<Figure size 1440x504 with 2 Axes>"
      ]
     },
     "metadata": {
      "needs_background": "light"
     },
     "output_type": "display_data"
    }
   ],
   "source": [
    "ps4_critic_score_without_outliers = actual_games.query('platform == \"x360\"')['critic_score']\n",
    "ps4_user_score_without_outliers = actual_games.query('platform == \"x360\"')['user_score']\n",
    "ps4_total_sales_without_outliers = actual_games.query('platform == \"x360\"')['total_sales']\n",
    "\n",
    "print(ps4_critic_score_without_outliers.corr(ps4_total_sales_without_outliers))\n",
    "print(ps4_user_score_without_outliers.corr(ps4_total_sales_without_outliers))\n",
    "fig_scatter, (scatter_ax,scatter_ax2) = plt.subplots(2,1, figsize = (20,7))\n",
    "scatter_ax.scatter(y= 'critic_score', x = 'total_sales',data =actual_games.query('platform == \"x360\"'))\n",
    "scatter_ax2.scatter(y= 'user_score', x = 'total_sales',data =actual_games.query('platform == \"x360\"'))"
   ]
  },
  {
   "cell_type": "markdown",
   "metadata": {},
   "source": [
    "# Составим портрет пользователя"
   ]
  },
  {
   "cell_type": "code",
   "execution_count": 771,
   "metadata": {},
   "outputs": [],
   "source": [
    "rating_pivot_table = actual_games.pivot_table(index = 'platform', values = ['na_sales','jp_sales','eu_sales'], aggfunc = ['sum'])"
   ]
  },
  {
   "cell_type": "code",
   "execution_count": 772,
   "metadata": {},
   "outputs": [],
   "source": [
    "rating_pivot_table.columns = ['na_sales','jp_sales','eu_sales']"
   ]
  },
  {
   "cell_type": "code",
   "execution_count": 773,
   "metadata": {},
   "outputs": [],
   "source": [
    "top5_eu = rating_pivot_table.sort_values(by = 'eu_sales', ascending = False).index[:5]\n",
    "top5_jp = rating_pivot_table.sort_values(by = 'jp_sales', ascending = False).index[:5]\n",
    "top5_na = rating_pivot_table.sort_values(by = 'na_sales', ascending = False).index[:5]"
   ]
  },
  {
   "cell_type": "code",
   "execution_count": 774,
   "metadata": {
    "scrolled": true
   },
   "outputs": [
    {
     "name": "stdout",
     "output_type": "stream",
     "text": [
      "Топ платформ для европейского региона: ps4 xone x360 ps3 3ds\n",
      "\n",
      "Рассмотрим подробнее следующую платформу:  ps4\n",
      "Доля продаж 0.40911998194062954\n",
      "\n",
      "Рассмотрим подробнее следующую платформу:  xone\n",
      "Доля продаж 0.6419855222337125\n",
      "\n",
      "Рассмотрим подробнее следующую платформу:  x360\n",
      "Доля продаж 0.6549041623225601\n",
      "\n",
      "Рассмотрим подробнее следующую платформу:  ps3\n",
      "Доля продаж 0.4105780421569894\n",
      "\n",
      "Рассмотрим подробнее следующую платформу:  3ds\n",
      "Доля продаж 0.27889318828940624\n",
      "\n",
      "Топ платформ для японского региона: 3ds ps3 psv ps4 wiiu\n",
      "\n",
      "Рассмотрим подробнее следующую платформу:  3ds\n",
      "Доля продаж 0.4950719135577135\n",
      "\n",
      "Рассмотрим подробнее следующую платформу:  ps3\n",
      "Доля продаж 0.15097633518686143\n",
      "\n",
      "Рассмотрим подробнее следующую платформу:  psv\n",
      "Доля продаж 0.6252943155062242\n",
      "\n",
      "Рассмотрим подробнее следующую платформу:  ps4\n",
      "Доля продаж 0.06004740584672089\n",
      "\n",
      "Рассмотрим подробнее следующую платформу:  wiiu\n",
      "Доля продаж 0.18151484818151464\n",
      "\n",
      "Топ платформ для сверо американского региона: ps4 ps3 xone x360 3ds\n",
      "\n",
      "Рассмотрим подробнее следующую платформу:  ps4\n",
      "Доля продаж 0.5308326122126494\n",
      "\n",
      "Рассмотрим подробнее следующую платформу:  ps3\n",
      "Доля продаж 0.43844562265614906\n",
      "\n",
      "Рассмотрим подробнее следующую платформу:  xone\n",
      "Доля продаж 0.355670458462599\n",
      "\n",
      "Рассмотрим подробнее следующую платформу:  x360\n",
      "Доля продаж 0.3410056941214211\n",
      "\n",
      "Рассмотрим подробнее следующую платформу:  3ds\n",
      "Доля продаж 0.22603489815288028\n",
      "\n"
     ]
    }
   ],
   "source": [
    "list_of_top = [top5_eu,top5_jp,top5_na]\n",
    "for count,top in enumerate(list_of_top):\n",
    "    if count == 0: \n",
    "        print('Топ платформ для европейского региона:',*top)\n",
    "    elif count == 1:\n",
    "        print('Топ платформ для японского региона:',*top)\n",
    "    elif count == 2:\n",
    "        print('Топ платформ для сверо американского региона:',*top)\n",
    "    print()\n",
    "    for platform in top:\n",
    "        data = rating_pivot_table.loc[platform,['na_sales','jp_sales','eu_sales']]\n",
    "        if count == 0: \n",
    "            part = data['eu_sales']\n",
    "        elif count == 1:\n",
    "            part = data['jp_sales']\n",
    "        elif count == 2:\n",
    "            part = data['na_sales']\n",
    "        ratio = part / sum(data)\n",
    "        print('Рассмотрим подробнее следующую платформу: ',platform)\n",
    "        print('Доля продаж',ratio)\n",
    "        print()"
   ]
  },
  {
   "cell_type": "code",
   "execution_count": 775,
   "metadata": {},
   "outputs": [],
   "source": [
    "top_genre_pivot_table = actual_games.pivot_table(index = ['genre'], values = ['na_sales','jp_sales','eu_sales'], aggfunc = ['sum'])"
   ]
  },
  {
   "cell_type": "code",
   "execution_count": 776,
   "metadata": {},
   "outputs": [],
   "source": [
    "top_genre_pivot_table.columns = ['na_sales','jp_sales','eu_sales']"
   ]
  },
  {
   "cell_type": "code",
   "execution_count": 777,
   "metadata": {},
   "outputs": [],
   "source": [
    "top5_genres_eu = top_genre_pivot_table.sort_values(by = 'eu_sales', ascending = False).index[:5]\n",
    "top5_genres_jp = top_genre_pivot_table.sort_values(by = 'jp_sales', ascending = False).index[:5]\n",
    "top5_genres_na = top_genre_pivot_table.sort_values(by = 'na_sales', ascending = False).index[:5]"
   ]
  },
  {
   "cell_type": "code",
   "execution_count": 778,
   "metadata": {},
   "outputs": [
    {
     "name": "stdout",
     "output_type": "stream",
     "text": [
      "Топ 5 самых популярных жанров в европейском регионе: action shooter sports role-playing misc\n",
      "Топ 5 самых популярных жанров в японском регионе: role-playing action misc fighting shooter\n",
      "Топ 5 самых популярных жанров в северо авереканском регионе: action shooter sports role-playing racing\n"
     ]
    }
   ],
   "source": [
    "print('Топ 5 самых популярных жанров в европейском регионе:',*top5_genres_eu)\n",
    "print('Топ 5 самых популярных жанров в японском регионе:',*top5_genres_jp)\n",
    "print('Топ 5 самых популярных жанров в северо авереканском регионе:',*top5_genres_na)"
   ]
  },
  {
   "cell_type": "code",
   "execution_count": 779,
   "metadata": {},
   "outputs": [],
   "source": [
    "esrb_pivot_table = actual_games.pivot_table(index = ['rating'], values = ['na_sales','jp_sales','eu_sales'], aggfunc = ['sum'])"
   ]
  },
  {
   "cell_type": "code",
   "execution_count": 780,
   "metadata": {},
   "outputs": [
    {
     "data": {
      "text/html": [
       "<div>\n",
       "<style scoped>\n",
       "    .dataframe tbody tr th:only-of-type {\n",
       "        vertical-align: middle;\n",
       "    }\n",
       "\n",
       "    .dataframe tbody tr th {\n",
       "        vertical-align: top;\n",
       "    }\n",
       "\n",
       "    .dataframe thead tr th {\n",
       "        text-align: left;\n",
       "    }\n",
       "\n",
       "    .dataframe thead tr:last-of-type th {\n",
       "        text-align: right;\n",
       "    }\n",
       "</style>\n",
       "<table border=\"1\" class=\"dataframe\">\n",
       "  <thead>\n",
       "    <tr>\n",
       "      <th></th>\n",
       "      <th colspan=\"3\" halign=\"left\">sum</th>\n",
       "    </tr>\n",
       "    <tr>\n",
       "      <th></th>\n",
       "      <th>eu_sales</th>\n",
       "      <th>jp_sales</th>\n",
       "      <th>na_sales</th>\n",
       "    </tr>\n",
       "    <tr>\n",
       "      <th>rating</th>\n",
       "      <th></th>\n",
       "      <th></th>\n",
       "      <th></th>\n",
       "    </tr>\n",
       "  </thead>\n",
       "  <tbody>\n",
       "    <tr>\n",
       "      <th>e</th>\n",
       "      <td>83.36</td>\n",
       "      <td>15.14</td>\n",
       "      <td>79.05</td>\n",
       "    </tr>\n",
       "    <tr>\n",
       "      <th>e10+</th>\n",
       "      <td>42.69</td>\n",
       "      <td>5.89</td>\n",
       "      <td>54.24</td>\n",
       "    </tr>\n",
       "    <tr>\n",
       "      <th>m</th>\n",
       "      <td>145.32</td>\n",
       "      <td>14.11</td>\n",
       "      <td>165.21</td>\n",
       "    </tr>\n",
       "    <tr>\n",
       "      <th>rp</th>\n",
       "      <td>78.91</td>\n",
       "      <td>85.05</td>\n",
       "      <td>89.42</td>\n",
       "    </tr>\n",
       "    <tr>\n",
       "      <th>t</th>\n",
       "      <td>41.95</td>\n",
       "      <td>20.59</td>\n",
       "      <td>49.79</td>\n",
       "    </tr>\n",
       "  </tbody>\n",
       "</table>\n",
       "</div>"
      ],
      "text/plain": [
       "            sum                  \n",
       "       eu_sales jp_sales na_sales\n",
       "rating                           \n",
       "e         83.36    15.14    79.05\n",
       "e10+      42.69     5.89    54.24\n",
       "m        145.32    14.11   165.21\n",
       "rp        78.91    85.05    89.42\n",
       "t         41.95    20.59    49.79"
      ]
     },
     "execution_count": 780,
     "metadata": {},
     "output_type": "execute_result"
    }
   ],
   "source": [
    "esrb_pivot_table"
   ]
  },
  {
   "cell_type": "markdown",
   "metadata": {},
   "source": [
    "Да, влияет, так например у рейтинга \"е\" основная доля продаж приходит в европейском регионе, в то время как у рейтинга \"ес\" основные продажи проходят в Северной Америке"
   ]
  },
  {
   "cell_type": "markdown",
   "metadata": {},
   "source": [
    "# Проверим гипотезы"
   ]
  },
  {
   "cell_type": "markdown",
   "metadata": {},
   "source": [
    "# Гипотеза 1"
   ]
  },
  {
   "cell_type": "markdown",
   "metadata": {},
   "source": [
    "Нулевая гипотеза: Средние пользовательские рейтинги платформ Xbox One и PC одинаковые\n",
    "\n",
    "Альтернативная гипотеза : Средние пользовательские рейтинги платформ Xbox One и PC отличаются"
   ]
  },
  {
   "cell_type": "code",
   "execution_count": 781,
   "metadata": {},
   "outputs": [
    {
     "name": "stdout",
     "output_type": "stream",
     "text": [
      "Равны ли дисперсии двух совокупностей? False\n"
     ]
    }
   ],
   "source": [
    "xone_var = st.variation(actual_games.query('platform == \"xone\"')['user_score'])\n",
    "pc_var = st.variation(actual_games.query('platform == \"pc\"')['user_score'])\n",
    "print('Равны ли дисперсии двух совокупностей?',(xone_var * 0.05 < abs(xone_var - pc_var)))"
   ]
  },
  {
   "cell_type": "code",
   "execution_count": 782,
   "metadata": {},
   "outputs": [
    {
     "name": "stdout",
     "output_type": "stream",
     "text": [
      "p-значение: 1.3037979620149106e-05\n",
      "Отвергаем нулевую гипотезу\n"
     ]
    }
   ],
   "source": [
    "alpha = 0.05\n",
    "xone = games[(games['platform'] == 'xone') & (games['user_score'] > 0)]['user_score']\n",
    "pc = games[(games['platform'] == 'pc') & (games['user_score'] > 0)]['user_score']\n",
    "results = st.ttest_ind(xone, pc)\n",
    "print('p-значение:', results.pvalue)\n",
    "\n",
    "if (results.pvalue < alpha):\n",
    "    print(\"Отвергаем нулевую гипотезу\")\n",
    "else:\n",
    "    print(\"Не получилось отвергнуть нулевую гипотезу\")"
   ]
  },
  {
   "cell_type": "markdown",
   "metadata": {},
   "source": [
    "# Вывод\n",
    "Нулевая гипотеза не подтвердилась,разница между средними двух выборок статистически значима"
   ]
  },
  {
   "cell_type": "markdown",
   "metadata": {},
   "source": [
    "# Гипотеза 2\n",
    "Нулевая гипотеза: Средние пользовательские рейтинги жанров Action  и Sports одинаковые\n",
    "\n",
    "Альтернативна гипотеза: Средние пользовательские рейтинги жанров Action и Sports разные."
   ]
  },
  {
   "cell_type": "code",
   "execution_count": 783,
   "metadata": {},
   "outputs": [
    {
     "name": "stdout",
     "output_type": "stream",
     "text": [
      "Равны ли дисперсии двух совокупностей? False\n"
     ]
    }
   ],
   "source": [
    "action_var = st.variation(actual_games.query('genre == \"action\"')['user_score'])\n",
    "sports_var = st.variation(actual_games.query('genre == \"sports\"')['user_score'])\n",
    "print('Равны ли дисперсии двух совокупностей?',(((action_var * 0.05) < abs(action_var - sports_var))))"
   ]
  },
  {
   "cell_type": "code",
   "execution_count": 784,
   "metadata": {},
   "outputs": [
    {
     "name": "stdout",
     "output_type": "stream",
     "text": [
      "p-значение: 0.06480928064420527\n",
      "Не получилось отвергнуть нулевую гипотезу\n"
     ]
    }
   ],
   "source": [
    "action = games[(games['genre'] == 'action') & (games['user_score'] > 0)]['user_score']\n",
    "sports = games[(games['genre'] == 'sports') & (games['user_score'] > 0)]['user_score']\n",
    "results = st.ttest_ind(action, sports)\n",
    "print('p-значение:', results.pvalue)\n",
    "\n",
    "if (results.pvalue < alpha):\n",
    "    print(\"Отвергаем нулевую гипотезу\")\n",
    "else:\n",
    "    print(\"Не получилось отвергнуть нулевую гипотезу\")"
   ]
  },
  {
   "cell_type": "markdown",
   "metadata": {},
   "source": [
    "# Вывод\n",
    "Нулевая гипотеза подтвердилась,разница между средними двух выборок статистически не значима"
   ]
  },
  {
   "cell_type": "markdown",
   "metadata": {},
   "source": [
    "# Общий вывод\n",
    "Из проведенного анализы мы выяснили, самыми перспективными платформами являются xone, wiiu, pc\n",
    "\n",
    "Самыми популярными жанрами стали:\n",
    "\n",
    "+ В европейском регионе: action sports misc racing shooter\n",
    "+ В японском регионе: action adventure role-playing misc fighting\n",
    "+ В северо-американском регионе: action sports racing misc shooter\n",
    "\n",
    "В это же время самыми платформами стали:\n",
    "\n",
    "+ Для европейского региона: ds wii x360 ps2 xb\n",
    "+ Для японского региона: psp ds ps2 psv ps3\n",
    "+ Для северо-американского региона: ps2 ps pc x360 ps3\n",
    "\n",
    "Кроме того, мы проверили гипотезы и определили:\n",
    "\n",
    "+ Средние пользовательские рейтинги платформ Xbox One и PC отличаются\n",
    "+ Средние пользовательские рейтинги жанров Action и Sports разные.\n",
    "\n",
    "Рейтинг влияет на продажи\n",
    "\n",
    "Основываясь на всем выше перечисленном сделаем вывод, что игра имеет больше шансов на успех, если она выходит на Xbox One, а так же на платформе ps4 и новее и pc, относится к жанру action"
   ]
  }
 ],
 "metadata": {
  "ExecuteTimeLog": [
   {
    "duration": 5,
    "start_time": "2022-04-12T20:09:41.564Z"
   },
   {
    "duration": 1840,
    "start_time": "2022-04-12T20:10:07.340Z"
   },
   {
    "duration": 52,
    "start_time": "2022-04-12T20:11:18.680Z"
   },
   {
    "duration": 26,
    "start_time": "2022-04-12T20:11:33.328Z"
   },
   {
    "duration": 28,
    "start_time": "2022-04-12T20:13:22.654Z"
   },
   {
    "duration": 141,
    "start_time": "2022-04-12T20:16:54.857Z"
   },
   {
    "duration": 7,
    "start_time": "2022-04-12T20:17:00.467Z"
   },
   {
    "duration": 12,
    "start_time": "2022-04-12T20:17:59.113Z"
   },
   {
    "duration": 33,
    "start_time": "2022-04-12T20:18:27.633Z"
   },
   {
    "duration": 32,
    "start_time": "2022-04-12T20:18:31.666Z"
   },
   {
    "duration": 22,
    "start_time": "2022-04-12T20:19:05.114Z"
   },
   {
    "duration": 7,
    "start_time": "2022-04-12T20:23:21.328Z"
   },
   {
    "duration": 7,
    "start_time": "2022-04-12T20:23:43.314Z"
   },
   {
    "duration": 18,
    "start_time": "2022-04-12T20:23:54.810Z"
   },
   {
    "duration": 20,
    "start_time": "2022-04-12T20:24:31.858Z"
   },
   {
    "duration": 16,
    "start_time": "2022-04-12T20:25:32.829Z"
   },
   {
    "duration": 23,
    "start_time": "2022-04-12T20:26:13.717Z"
   },
   {
    "duration": 9,
    "start_time": "2022-04-12T20:30:00.242Z"
   },
   {
    "duration": 22,
    "start_time": "2022-04-12T20:30:24.393Z"
   },
   {
    "duration": 16,
    "start_time": "2022-04-12T20:31:45.186Z"
   },
   {
    "duration": 16,
    "start_time": "2022-04-12T20:32:20.790Z"
   },
   {
    "duration": 25,
    "start_time": "2022-04-12T20:32:48.018Z"
   },
   {
    "duration": 8,
    "start_time": "2022-04-12T20:32:59.945Z"
   },
   {
    "duration": 23,
    "start_time": "2022-04-12T20:33:29.362Z"
   },
   {
    "duration": 8301,
    "start_time": "2022-04-12T20:34:26.705Z"
   },
   {
    "duration": 47,
    "start_time": "2022-04-12T20:35:02.038Z"
   },
   {
    "duration": 8,
    "start_time": "2022-04-12T20:37:06.570Z"
   },
   {
    "duration": 566,
    "start_time": "2022-04-12T20:37:25.203Z"
   },
   {
    "duration": 10,
    "start_time": "2022-04-12T20:38:23.469Z"
   },
   {
    "duration": 10,
    "start_time": "2022-04-12T20:38:36.690Z"
   },
   {
    "duration": 17,
    "start_time": "2022-04-12T20:39:28.166Z"
   },
   {
    "duration": 8,
    "start_time": "2022-04-12T20:39:47.578Z"
   },
   {
    "duration": 22,
    "start_time": "2022-04-12T20:40:01.454Z"
   },
   {
    "duration": 563,
    "start_time": "2022-04-12T20:40:30.501Z"
   },
   {
    "duration": 55,
    "start_time": "2022-04-12T20:41:30.614Z"
   },
   {
    "duration": 12,
    "start_time": "2022-04-12T20:42:08.737Z"
   },
   {
    "duration": 28,
    "start_time": "2022-04-12T20:43:33.759Z"
   },
   {
    "duration": 6,
    "start_time": "2022-04-12T20:43:34.371Z"
   },
   {
    "duration": 21,
    "start_time": "2022-04-12T20:43:54.014Z"
   },
   {
    "duration": 1880,
    "start_time": "2022-04-13T12:53:59.658Z"
   },
   {
    "duration": 55,
    "start_time": "2022-04-13T12:54:01.542Z"
   },
   {
    "duration": 30,
    "start_time": "2022-04-13T12:54:01.599Z"
   },
   {
    "duration": 8,
    "start_time": "2022-04-13T12:54:01.632Z"
   },
   {
    "duration": 58,
    "start_time": "2022-04-13T12:54:01.642Z"
   },
   {
    "duration": 21,
    "start_time": "2022-04-13T12:54:01.702Z"
   },
   {
    "duration": 15,
    "start_time": "2022-04-13T12:54:01.726Z"
   },
   {
    "duration": 25,
    "start_time": "2022-04-13T12:54:01.743Z"
   },
   {
    "duration": 29,
    "start_time": "2022-04-13T12:54:01.771Z"
   },
   {
    "duration": 21,
    "start_time": "2022-04-13T12:54:01.804Z"
   },
   {
    "duration": 15,
    "start_time": "2022-04-13T12:54:01.828Z"
   },
   {
    "duration": 48,
    "start_time": "2022-04-13T12:54:01.845Z"
   },
   {
    "duration": 10,
    "start_time": "2022-04-13T12:54:01.895Z"
   },
   {
    "duration": 39,
    "start_time": "2022-04-13T12:54:01.908Z"
   },
   {
    "duration": 16,
    "start_time": "2022-04-13T12:54:01.949Z"
   },
   {
    "duration": 32,
    "start_time": "2022-04-13T12:54:01.968Z"
   },
   {
    "duration": 7,
    "start_time": "2022-04-13T12:54:02.002Z"
   },
   {
    "duration": 27,
    "start_time": "2022-04-13T12:54:02.011Z"
   },
   {
    "duration": 8229,
    "start_time": "2022-04-13T12:54:02.040Z"
   },
   {
    "duration": 60,
    "start_time": "2022-04-13T12:54:10.272Z"
   },
   {
    "duration": 10,
    "start_time": "2022-04-13T12:54:10.335Z"
   },
   {
    "duration": 570,
    "start_time": "2022-04-13T12:54:10.347Z"
   },
   {
    "duration": 10,
    "start_time": "2022-04-13T12:54:10.919Z"
   },
   {
    "duration": 16,
    "start_time": "2022-04-13T12:54:10.931Z"
   },
   {
    "duration": 8,
    "start_time": "2022-04-13T12:54:10.949Z"
   },
   {
    "duration": 55,
    "start_time": "2022-04-13T12:54:10.959Z"
   },
   {
    "duration": 594,
    "start_time": "2022-04-13T12:54:11.016Z"
   },
   {
    "duration": 167,
    "start_time": "2022-04-13T12:54:11.614Z"
   },
   {
    "duration": 10,
    "start_time": "2022-04-13T12:54:11.783Z"
   },
   {
    "duration": 26,
    "start_time": "2022-04-13T12:54:11.821Z"
   },
   {
    "duration": 12,
    "start_time": "2022-04-13T12:58:24.677Z"
   },
   {
    "duration": 4,
    "start_time": "2022-04-13T12:58:31.720Z"
   },
   {
    "duration": 69,
    "start_time": "2022-04-13T12:58:31.727Z"
   },
   {
    "duration": 32,
    "start_time": "2022-04-13T12:58:31.799Z"
   },
   {
    "duration": 6,
    "start_time": "2022-04-13T12:58:31.833Z"
   },
   {
    "duration": 74,
    "start_time": "2022-04-13T12:58:31.842Z"
   },
   {
    "duration": 21,
    "start_time": "2022-04-13T12:58:31.919Z"
   },
   {
    "duration": 13,
    "start_time": "2022-04-13T12:58:31.942Z"
   },
   {
    "duration": 11,
    "start_time": "2022-04-13T12:58:31.957Z"
   },
   {
    "duration": 45,
    "start_time": "2022-04-13T12:58:31.970Z"
   },
   {
    "duration": 20,
    "start_time": "2022-04-13T12:58:32.018Z"
   },
   {
    "duration": 16,
    "start_time": "2022-04-13T12:58:32.042Z"
   },
   {
    "duration": 59,
    "start_time": "2022-04-13T12:58:32.060Z"
   },
   {
    "duration": 10,
    "start_time": "2022-04-13T12:58:32.122Z"
   },
   {
    "duration": 21,
    "start_time": "2022-04-13T12:58:32.134Z"
   },
   {
    "duration": 46,
    "start_time": "2022-04-13T12:58:32.158Z"
   },
   {
    "duration": 20,
    "start_time": "2022-04-13T12:58:32.207Z"
   },
   {
    "duration": 7,
    "start_time": "2022-04-13T12:58:32.230Z"
   },
   {
    "duration": 56,
    "start_time": "2022-04-13T12:58:32.240Z"
   },
   {
    "duration": 9038,
    "start_time": "2022-04-13T12:58:32.299Z"
   },
   {
    "duration": 66,
    "start_time": "2022-04-13T12:58:41.339Z"
   },
   {
    "duration": 13,
    "start_time": "2022-04-13T12:58:41.408Z"
   },
   {
    "duration": 572,
    "start_time": "2022-04-13T12:58:41.424Z"
   },
   {
    "duration": 10,
    "start_time": "2022-04-13T12:58:41.998Z"
   },
   {
    "duration": 18,
    "start_time": "2022-04-13T12:58:42.011Z"
   },
   {
    "duration": 8,
    "start_time": "2022-04-13T12:58:42.032Z"
   },
   {
    "duration": 59,
    "start_time": "2022-04-13T12:58:42.042Z"
   },
   {
    "duration": 589,
    "start_time": "2022-04-13T12:58:42.104Z"
   },
   {
    "duration": 31,
    "start_time": "2022-04-13T12:58:42.695Z"
   },
   {
    "duration": 6,
    "start_time": "2022-04-13T12:58:42.731Z"
   },
   {
    "duration": 55,
    "start_time": "2022-04-13T12:58:42.740Z"
   },
   {
    "duration": 0,
    "start_time": "2022-04-13T12:58:42.816Z"
   },
   {
    "duration": 11,
    "start_time": "2022-04-13T12:59:12.355Z"
   },
   {
    "duration": 13,
    "start_time": "2022-04-13T12:59:33.332Z"
   },
   {
    "duration": 11,
    "start_time": "2022-04-13T12:59:42.348Z"
   },
   {
    "duration": 12,
    "start_time": "2022-04-13T12:59:49.534Z"
   },
   {
    "duration": 11,
    "start_time": "2022-04-13T13:00:14.243Z"
   },
   {
    "duration": 4,
    "start_time": "2022-04-13T13:00:41.597Z"
   },
   {
    "duration": 60,
    "start_time": "2022-04-13T13:00:41.604Z"
   },
   {
    "duration": 40,
    "start_time": "2022-04-13T13:00:41.668Z"
   },
   {
    "duration": 9,
    "start_time": "2022-04-13T13:00:41.710Z"
   },
   {
    "duration": 34,
    "start_time": "2022-04-13T13:00:41.722Z"
   },
   {
    "duration": 44,
    "start_time": "2022-04-13T13:00:41.759Z"
   },
   {
    "duration": 11,
    "start_time": "2022-04-13T13:00:41.806Z"
   },
   {
    "duration": 13,
    "start_time": "2022-04-13T13:00:41.820Z"
   },
   {
    "duration": 22,
    "start_time": "2022-04-13T13:00:41.835Z"
   },
   {
    "duration": 60,
    "start_time": "2022-04-13T13:00:41.859Z"
   },
   {
    "duration": 89,
    "start_time": "2022-04-13T13:00:41.923Z"
   },
   {
    "duration": 27,
    "start_time": "2022-04-13T13:00:42.014Z"
   },
   {
    "duration": 9,
    "start_time": "2022-04-13T13:00:42.044Z"
   },
   {
    "duration": 53,
    "start_time": "2022-04-13T13:00:42.056Z"
   },
   {
    "duration": 19,
    "start_time": "2022-04-13T13:00:42.111Z"
   },
   {
    "duration": 22,
    "start_time": "2022-04-13T13:00:42.132Z"
   },
   {
    "duration": 10,
    "start_time": "2022-04-13T13:00:42.157Z"
   },
   {
    "duration": 43,
    "start_time": "2022-04-13T13:00:42.169Z"
   },
   {
    "duration": 9045,
    "start_time": "2022-04-13T13:00:42.215Z"
   },
   {
    "duration": 60,
    "start_time": "2022-04-13T13:00:51.263Z"
   },
   {
    "duration": 9,
    "start_time": "2022-04-13T13:00:51.325Z"
   },
   {
    "duration": 583,
    "start_time": "2022-04-13T13:00:51.337Z"
   },
   {
    "duration": 11,
    "start_time": "2022-04-13T13:00:51.923Z"
   },
   {
    "duration": 34,
    "start_time": "2022-04-13T13:00:51.936Z"
   },
   {
    "duration": 21,
    "start_time": "2022-04-13T13:00:51.973Z"
   },
   {
    "duration": 53,
    "start_time": "2022-04-13T13:00:51.998Z"
   },
   {
    "duration": 831,
    "start_time": "2022-04-13T13:00:52.053Z"
   },
   {
    "duration": 49,
    "start_time": "2022-04-13T13:00:52.886Z"
   },
   {
    "duration": 8,
    "start_time": "2022-04-13T13:00:52.942Z"
   },
   {
    "duration": 59,
    "start_time": "2022-04-13T13:00:52.953Z"
   },
   {
    "duration": 16,
    "start_time": "2022-04-13T13:00:53.015Z"
   },
   {
    "duration": 0,
    "start_time": "2022-04-13T13:00:53.033Z"
   },
   {
    "duration": 0,
    "start_time": "2022-04-13T13:00:53.036Z"
   },
   {
    "duration": 0,
    "start_time": "2022-04-13T13:00:53.038Z"
   },
   {
    "duration": 14,
    "start_time": "2022-04-13T13:01:05.425Z"
   },
   {
    "duration": 564,
    "start_time": "2022-04-13T13:01:09.472Z"
   },
   {
    "duration": 32,
    "start_time": "2022-04-13T13:01:11.400Z"
   },
   {
    "duration": 8,
    "start_time": "2022-04-13T13:01:12.001Z"
   },
   {
    "duration": 32,
    "start_time": "2022-04-13T13:01:12.747Z"
   },
   {
    "duration": 15,
    "start_time": "2022-04-13T13:01:13.514Z"
   },
   {
    "duration": 17,
    "start_time": "2022-04-13T13:01:31.948Z"
   },
   {
    "duration": 4,
    "start_time": "2022-04-13T13:01:35.276Z"
   },
   {
    "duration": 9,
    "start_time": "2022-04-13T13:01:35.284Z"
   },
   {
    "duration": 11,
    "start_time": "2022-04-13T13:01:35.296Z"
   },
   {
    "duration": 14,
    "start_time": "2022-04-13T13:01:35.450Z"
   },
   {
    "duration": 553,
    "start_time": "2022-04-13T13:02:22.618Z"
   },
   {
    "duration": 418,
    "start_time": "2022-04-13T13:03:12.449Z"
   },
   {
    "duration": 14,
    "start_time": "2022-04-13T13:04:10.033Z"
   },
   {
    "duration": 3,
    "start_time": "2022-04-13T13:04:19.520Z"
   },
   {
    "duration": 6,
    "start_time": "2022-04-13T13:04:33.870Z"
   },
   {
    "duration": 13,
    "start_time": "2022-04-13T13:04:42.272Z"
   },
   {
    "duration": 398,
    "start_time": "2022-04-13T13:05:21.455Z"
   },
   {
    "duration": 14,
    "start_time": "2022-04-13T13:05:57.967Z"
   },
   {
    "duration": 10,
    "start_time": "2022-04-13T13:06:22.118Z"
   },
   {
    "duration": 493,
    "start_time": "2022-04-13T13:07:55.469Z"
   },
   {
    "duration": 399,
    "start_time": "2022-04-13T13:08:23.469Z"
   },
   {
    "duration": 18,
    "start_time": "2022-04-13T13:09:05.764Z"
   },
   {
    "duration": 16,
    "start_time": "2022-04-13T13:10:28.778Z"
   },
   {
    "duration": 4,
    "start_time": "2022-04-13T13:10:37.404Z"
   },
   {
    "duration": 7,
    "start_time": "2022-04-13T13:10:48.092Z"
   },
   {
    "duration": 34,
    "start_time": "2022-04-13T13:11:03.076Z"
   },
   {
    "duration": 15,
    "start_time": "2022-04-13T14:13:18.911Z"
   },
   {
    "duration": 4,
    "start_time": "2022-04-13T14:13:29.243Z"
   },
   {
    "duration": 8,
    "start_time": "2022-04-13T14:13:44.302Z"
   },
   {
    "duration": 33,
    "start_time": "2022-04-13T14:14:15.554Z"
   },
   {
    "duration": 7,
    "start_time": "2022-04-13T14:15:04.488Z"
   },
   {
    "duration": 17,
    "start_time": "2022-04-13T14:15:28.685Z"
   },
   {
    "duration": 14,
    "start_time": "2022-04-13T14:15:38.459Z"
   },
   {
    "duration": 14,
    "start_time": "2022-04-13T14:18:01.436Z"
   },
   {
    "duration": 18,
    "start_time": "2022-04-13T14:18:27.786Z"
   },
   {
    "duration": 17,
    "start_time": "2022-04-13T14:19:38.450Z"
   },
   {
    "duration": 20,
    "start_time": "2022-04-13T14:20:00.241Z"
   },
   {
    "duration": 5,
    "start_time": "2022-04-13T14:24:02.730Z"
   },
   {
    "duration": 73,
    "start_time": "2022-04-13T14:24:02.738Z"
   },
   {
    "duration": 25,
    "start_time": "2022-04-13T14:24:02.813Z"
   },
   {
    "duration": 20,
    "start_time": "2022-04-13T14:24:02.841Z"
   },
   {
    "duration": 64,
    "start_time": "2022-04-13T14:24:02.864Z"
   },
   {
    "duration": 20,
    "start_time": "2022-04-13T14:24:02.931Z"
   },
   {
    "duration": 9,
    "start_time": "2022-04-13T14:24:02.953Z"
   },
   {
    "duration": 11,
    "start_time": "2022-04-13T14:24:02.992Z"
   },
   {
    "duration": 24,
    "start_time": "2022-04-13T14:24:03.009Z"
   },
   {
    "duration": 21,
    "start_time": "2022-04-13T14:24:03.036Z"
   },
   {
    "duration": 43,
    "start_time": "2022-04-13T14:24:03.060Z"
   },
   {
    "duration": 26,
    "start_time": "2022-04-13T14:24:03.107Z"
   },
   {
    "duration": 12,
    "start_time": "2022-04-13T14:24:03.135Z"
   },
   {
    "duration": 45,
    "start_time": "2022-04-13T14:24:03.149Z"
   },
   {
    "duration": 21,
    "start_time": "2022-04-13T14:24:03.197Z"
   },
   {
    "duration": 15,
    "start_time": "2022-04-13T14:24:03.220Z"
   },
   {
    "duration": 7,
    "start_time": "2022-04-13T14:24:03.237Z"
   },
   {
    "duration": 55,
    "start_time": "2022-04-13T14:24:03.247Z"
   },
   {
    "duration": 8523,
    "start_time": "2022-04-13T14:24:03.305Z"
   },
   {
    "duration": 46,
    "start_time": "2022-04-13T14:24:11.830Z"
   },
   {
    "duration": 22,
    "start_time": "2022-04-13T14:24:11.878Z"
   },
   {
    "duration": 549,
    "start_time": "2022-04-13T14:24:11.902Z"
   },
   {
    "duration": 10,
    "start_time": "2022-04-13T14:24:12.454Z"
   },
   {
    "duration": 39,
    "start_time": "2022-04-13T14:24:12.470Z"
   },
   {
    "duration": 11,
    "start_time": "2022-04-13T14:24:12.511Z"
   },
   {
    "duration": 26,
    "start_time": "2022-04-13T14:24:12.524Z"
   },
   {
    "duration": 566,
    "start_time": "2022-04-13T14:24:12.553Z"
   },
   {
    "duration": 29,
    "start_time": "2022-04-13T14:24:13.121Z"
   },
   {
    "duration": 6,
    "start_time": "2022-04-13T14:24:13.152Z"
   },
   {
    "duration": 49,
    "start_time": "2022-04-13T14:24:13.160Z"
   },
   {
    "duration": 18,
    "start_time": "2022-04-13T14:24:13.212Z"
   },
   {
    "duration": 4,
    "start_time": "2022-04-13T14:24:13.232Z"
   },
   {
    "duration": 6,
    "start_time": "2022-04-13T14:24:13.239Z"
   },
   {
    "duration": 6,
    "start_time": "2022-04-13T14:24:13.248Z"
   },
   {
    "duration": 54,
    "start_time": "2022-04-13T14:24:13.256Z"
   },
   {
    "duration": 562,
    "start_time": "2022-04-13T14:24:13.313Z"
   },
   {
    "duration": 491,
    "start_time": "2022-04-13T14:24:13.878Z"
   },
   {
    "duration": 27,
    "start_time": "2022-04-13T14:24:14.372Z"
   },
   {
    "duration": 11,
    "start_time": "2022-04-13T14:24:14.402Z"
   },
   {
    "duration": 8,
    "start_time": "2022-04-13T14:24:14.415Z"
   },
   {
    "duration": 15,
    "start_time": "2022-04-13T14:24:14.425Z"
   },
   {
    "duration": 433,
    "start_time": "2022-04-13T14:24:14.442Z"
   },
   {
    "duration": 23,
    "start_time": "2022-04-13T14:24:14.877Z"
   },
   {
    "duration": 9,
    "start_time": "2022-04-13T14:24:14.906Z"
   },
   {
    "duration": 472,
    "start_time": "2022-04-13T14:24:14.918Z"
   },
   {
    "duration": 425,
    "start_time": "2022-04-13T14:24:15.394Z"
   },
   {
    "duration": 19,
    "start_time": "2022-04-13T14:24:15.822Z"
   },
   {
    "duration": 23,
    "start_time": "2022-04-13T14:24:15.843Z"
   },
   {
    "duration": 26,
    "start_time": "2022-04-13T14:24:15.868Z"
   },
   {
    "duration": 19,
    "start_time": "2022-04-13T14:24:15.896Z"
   },
   {
    "duration": 35,
    "start_time": "2022-04-13T14:24:15.918Z"
   },
   {
    "duration": 50,
    "start_time": "2022-04-13T14:24:15.955Z"
   },
   {
    "duration": 8,
    "start_time": "2022-04-13T14:24:16.007Z"
   },
   {
    "duration": 12,
    "start_time": "2022-04-13T14:24:16.018Z"
   },
   {
    "duration": 9,
    "start_time": "2022-04-13T14:24:16.033Z"
   },
   {
    "duration": 14,
    "start_time": "2022-04-13T14:24:16.044Z"
   },
   {
    "duration": 14,
    "start_time": "2022-04-13T14:24:16.060Z"
   },
   {
    "duration": 17,
    "start_time": "2022-04-13T14:24:16.096Z"
   },
   {
    "duration": 12,
    "start_time": "2022-04-13T14:24:16.116Z"
   },
   {
    "duration": 12,
    "start_time": "2022-04-13T14:24:16.131Z"
   },
   {
    "duration": 54,
    "start_time": "2022-04-13T14:24:16.145Z"
   },
   {
    "duration": 43,
    "start_time": "2022-04-23T07:05:32.852Z"
   },
   {
    "duration": 1119,
    "start_time": "2022-04-23T07:05:34.324Z"
   },
   {
    "duration": 3,
    "start_time": "2022-04-23T07:06:01.360Z"
   },
   {
    "duration": 42,
    "start_time": "2022-04-23T07:06:02.521Z"
   },
   {
    "duration": 18,
    "start_time": "2022-04-23T07:06:03.046Z"
   },
   {
    "duration": 4,
    "start_time": "2022-04-23T07:06:03.961Z"
   },
   {
    "duration": 13,
    "start_time": "2022-04-23T07:07:23.657Z"
   },
   {
    "duration": 3183,
    "start_time": "2022-04-23T07:08:11.868Z"
   },
   {
    "duration": 1,
    "start_time": "2022-04-23T07:08:15.052Z"
   },
   {
    "duration": 0,
    "start_time": "2022-04-23T07:08:15.054Z"
   },
   {
    "duration": 10,
    "start_time": "2022-04-23T07:08:15.499Z"
   },
   {
    "duration": 3159,
    "start_time": "2022-04-23T07:08:20.348Z"
   },
   {
    "duration": 0,
    "start_time": "2022-04-23T07:08:23.511Z"
   },
   {
    "duration": 3254,
    "start_time": "2022-04-23T07:08:25.926Z"
   },
   {
    "duration": 26,
    "start_time": "2022-04-23T07:08:40.404Z"
   },
   {
    "duration": 13,
    "start_time": "2022-04-23T07:08:42.041Z"
   },
   {
    "duration": 5,
    "start_time": "2022-04-23T07:08:43.178Z"
   },
   {
    "duration": 5,
    "start_time": "2022-04-23T07:08:44.313Z"
   },
   {
    "duration": 11,
    "start_time": "2022-04-23T07:08:45.137Z"
   },
   {
    "duration": 13,
    "start_time": "2022-04-23T07:08:46.152Z"
   },
   {
    "duration": 12,
    "start_time": "2022-04-23T07:08:46.901Z"
   },
   {
    "duration": 16,
    "start_time": "2022-04-23T07:08:48.395Z"
   },
   {
    "duration": 16,
    "start_time": "2022-04-23T07:09:07.302Z"
   },
   {
    "duration": 11,
    "start_time": "2022-04-23T07:09:10.832Z"
   },
   {
    "duration": 11,
    "start_time": "2022-04-23T07:09:32.677Z"
   },
   {
    "duration": 6,
    "start_time": "2022-04-23T07:09:33.458Z"
   },
   {
    "duration": 9,
    "start_time": "2022-04-23T07:09:55.082Z"
   },
   {
    "duration": 3,
    "start_time": "2022-04-23T07:12:18.132Z"
   },
   {
    "duration": 207,
    "start_time": "2022-04-23T07:12:23.104Z"
   },
   {
    "duration": 9,
    "start_time": "2022-04-23T07:12:45.416Z"
   },
   {
    "duration": 9,
    "start_time": "2022-04-23T07:12:53.758Z"
   },
   {
    "duration": 7,
    "start_time": "2022-04-23T07:14:10.789Z"
   },
   {
    "duration": 29,
    "start_time": "2022-04-23T07:14:20.365Z"
   },
   {
    "duration": 27,
    "start_time": "2022-04-23T07:14:45.630Z"
   },
   {
    "duration": 7,
    "start_time": "2022-04-23T07:14:47.800Z"
   },
   {
    "duration": 303,
    "start_time": "2022-04-23T07:14:49.019Z"
   },
   {
    "duration": 13,
    "start_time": "2022-04-23T07:14:57.704Z"
   },
   {
    "duration": 295,
    "start_time": "2022-04-23T07:15:00.585Z"
   },
   {
    "duration": 14,
    "start_time": "2022-04-23T07:15:03.113Z"
   },
   {
    "duration": 4966,
    "start_time": "2022-04-23T07:15:13.321Z"
   },
   {
    "duration": 317,
    "start_time": "2022-04-23T07:15:21.708Z"
   },
   {
    "duration": 9,
    "start_time": "2022-04-23T07:15:23.843Z"
   },
   {
    "duration": 12,
    "start_time": "2022-04-23T07:15:25.790Z"
   },
   {
    "duration": 7,
    "start_time": "2022-04-23T07:15:45.603Z"
   },
   {
    "duration": 13,
    "start_time": "2022-04-23T07:15:46.275Z"
   },
   {
    "duration": 320,
    "start_time": "2022-04-23T07:15:49.820Z"
   },
   {
    "duration": 24,
    "start_time": "2022-04-23T07:19:58.523Z"
   },
   {
    "duration": 5,
    "start_time": "2022-04-23T07:19:59.108Z"
   },
   {
    "duration": 13,
    "start_time": "2022-04-23T07:20:02.225Z"
   },
   {
    "duration": 10,
    "start_time": "2022-04-23T07:20:04.816Z"
   },
   {
    "duration": 3,
    "start_time": "2022-04-23T07:20:06.534Z"
   },
   {
    "duration": 3,
    "start_time": "2022-04-23T07:20:07.360Z"
   },
   {
    "duration": 3,
    "start_time": "2022-04-23T07:20:12.374Z"
   },
   {
    "duration": 10,
    "start_time": "2022-04-23T07:20:12.767Z"
   },
   {
    "duration": 334,
    "start_time": "2022-04-23T07:20:15.171Z"
   },
   {
    "duration": 245,
    "start_time": "2022-04-23T07:21:31.542Z"
   },
   {
    "duration": 307,
    "start_time": "2022-04-23T07:21:37.373Z"
   },
   {
    "duration": 324,
    "start_time": "2022-04-23T07:21:52.946Z"
   },
   {
    "duration": 324,
    "start_time": "2022-04-23T07:22:01.839Z"
   },
   {
    "duration": 9,
    "start_time": "2022-04-23T07:24:07.907Z"
   },
   {
    "duration": 3,
    "start_time": "2022-04-23T07:24:09.087Z"
   },
   {
    "duration": 4,
    "start_time": "2022-04-23T07:24:09.546Z"
   },
   {
    "duration": 9,
    "start_time": "2022-04-23T07:24:09.887Z"
   },
   {
    "duration": 205,
    "start_time": "2022-04-23T07:25:07.518Z"
   },
   {
    "duration": 11,
    "start_time": "2022-04-23T07:25:11.105Z"
   },
   {
    "duration": 7,
    "start_time": "2022-04-23T07:25:11.633Z"
   },
   {
    "duration": 266,
    "start_time": "2022-04-23T07:26:52.509Z"
   },
   {
    "duration": 11,
    "start_time": "2022-04-23T07:27:26.841Z"
   },
   {
    "duration": 1184,
    "start_time": "2022-04-23T07:29:11.992Z"
   },
   {
    "duration": 51,
    "start_time": "2022-04-23T07:29:13.178Z"
   },
   {
    "duration": 20,
    "start_time": "2022-04-23T07:29:13.231Z"
   },
   {
    "duration": 5,
    "start_time": "2022-04-23T07:29:13.253Z"
   },
   {
    "duration": 41,
    "start_time": "2022-04-23T07:29:13.259Z"
   },
   {
    "duration": 17,
    "start_time": "2022-04-23T07:29:13.305Z"
   },
   {
    "duration": 5,
    "start_time": "2022-04-23T07:29:13.324Z"
   },
   {
    "duration": 10,
    "start_time": "2022-04-23T07:29:13.330Z"
   },
   {
    "duration": 16,
    "start_time": "2022-04-23T07:29:13.342Z"
   },
   {
    "duration": 13,
    "start_time": "2022-04-23T07:29:13.360Z"
   },
   {
    "duration": 29,
    "start_time": "2022-04-23T07:29:13.374Z"
   },
   {
    "duration": 15,
    "start_time": "2022-04-23T07:29:13.408Z"
   },
   {
    "duration": 6,
    "start_time": "2022-04-23T07:29:13.425Z"
   },
   {
    "duration": 14,
    "start_time": "2022-04-23T07:29:13.432Z"
   },
   {
    "duration": 10,
    "start_time": "2022-04-23T07:29:13.447Z"
   },
   {
    "duration": 8,
    "start_time": "2022-04-23T07:29:13.459Z"
   },
   {
    "duration": 41,
    "start_time": "2022-04-23T07:29:13.469Z"
   },
   {
    "duration": 19,
    "start_time": "2022-04-23T07:29:13.512Z"
   },
   {
    "duration": 4805,
    "start_time": "2022-04-23T07:29:13.533Z"
   },
   {
    "duration": 43,
    "start_time": "2022-04-23T07:29:18.340Z"
   },
   {
    "duration": 10,
    "start_time": "2022-04-23T07:29:18.401Z"
   },
   {
    "duration": 298,
    "start_time": "2022-04-23T07:29:18.416Z"
   },
   {
    "duration": 7,
    "start_time": "2022-04-23T07:29:18.716Z"
   },
   {
    "duration": 11,
    "start_time": "2022-04-23T07:29:18.725Z"
   },
   {
    "duration": 4,
    "start_time": "2022-04-23T07:29:18.737Z"
   },
   {
    "duration": 16,
    "start_time": "2022-04-23T07:29:18.743Z"
   },
   {
    "duration": 337,
    "start_time": "2022-04-23T07:29:18.760Z"
   },
   {
    "duration": 116,
    "start_time": "2022-04-23T07:29:19.100Z"
   },
   {
    "duration": 3,
    "start_time": "2022-04-23T07:29:19.218Z"
   },
   {
    "duration": 15,
    "start_time": "2022-04-23T07:29:19.223Z"
   },
   {
    "duration": 11,
    "start_time": "2022-04-23T07:29:19.239Z"
   },
   {
    "duration": 3,
    "start_time": "2022-04-23T07:29:19.251Z"
   },
   {
    "duration": 8,
    "start_time": "2022-04-23T07:29:19.255Z"
   },
   {
    "duration": 5,
    "start_time": "2022-04-23T07:29:19.264Z"
   },
   {
    "duration": 11,
    "start_time": "2022-04-23T07:29:19.270Z"
   },
   {
    "duration": 347,
    "start_time": "2022-04-23T07:29:19.282Z"
   },
   {
    "duration": 130,
    "start_time": "2022-04-23T07:29:19.631Z"
   },
   {
    "duration": 0,
    "start_time": "2022-04-23T07:29:19.762Z"
   },
   {
    "duration": 0,
    "start_time": "2022-04-23T07:29:19.763Z"
   },
   {
    "duration": 0,
    "start_time": "2022-04-23T07:29:19.764Z"
   },
   {
    "duration": 0,
    "start_time": "2022-04-23T07:29:19.765Z"
   },
   {
    "duration": 0,
    "start_time": "2022-04-23T07:29:19.766Z"
   },
   {
    "duration": 0,
    "start_time": "2022-04-23T07:29:19.767Z"
   },
   {
    "duration": 0,
    "start_time": "2022-04-23T07:29:19.768Z"
   },
   {
    "duration": 292,
    "start_time": "2022-04-23T07:29:34.133Z"
   },
   {
    "duration": 9,
    "start_time": "2022-04-23T07:29:36.646Z"
   },
   {
    "duration": 3,
    "start_time": "2022-04-23T07:29:36.814Z"
   },
   {
    "duration": 4,
    "start_time": "2022-04-23T07:29:37.077Z"
   },
   {
    "duration": 8,
    "start_time": "2022-04-23T07:29:37.280Z"
   },
   {
    "duration": 218,
    "start_time": "2022-04-23T07:29:38.579Z"
   },
   {
    "duration": 9,
    "start_time": "2022-04-23T07:29:39.023Z"
   },
   {
    "duration": 6,
    "start_time": "2022-04-23T07:29:39.265Z"
   },
   {
    "duration": 3169,
    "start_time": "2022-04-23T07:30:14.416Z"
   },
   {
    "duration": 5,
    "start_time": "2022-04-23T07:30:22.564Z"
   },
   {
    "duration": 209,
    "start_time": "2022-04-23T07:30:31.917Z"
   },
   {
    "duration": 6,
    "start_time": "2022-04-23T07:30:39.297Z"
   },
   {
    "duration": 229,
    "start_time": "2022-04-23T07:33:10.179Z"
   },
   {
    "duration": 10,
    "start_time": "2022-04-23T07:34:04.836Z"
   },
   {
    "duration": 3,
    "start_time": "2022-04-23T07:34:05.620Z"
   },
   {
    "duration": 5,
    "start_time": "2022-04-23T07:34:06.249Z"
   },
   {
    "duration": 20,
    "start_time": "2022-04-23T07:34:07.666Z"
   },
   {
    "duration": 10,
    "start_time": "2022-04-23T07:34:15.952Z"
   },
   {
    "duration": 3,
    "start_time": "2022-04-23T07:34:18.215Z"
   },
   {
    "duration": 5,
    "start_time": "2022-04-23T07:34:18.944Z"
   },
   {
    "duration": 5,
    "start_time": "2022-04-23T07:34:19.774Z"
   },
   {
    "duration": 10,
    "start_time": "2022-04-23T07:34:20.335Z"
   },
   {
    "duration": 9,
    "start_time": "2022-04-23T07:34:20.650Z"
   },
   {
    "duration": 11,
    "start_time": "2022-04-23T07:35:31.813Z"
   },
   {
    "duration": 10,
    "start_time": "2022-04-23T07:35:32.423Z"
   },
   {
    "duration": 9,
    "start_time": "2022-04-23T07:35:47.575Z"
   },
   {
    "duration": 9,
    "start_time": "2022-04-23T07:35:48.041Z"
   },
   {
    "duration": 9,
    "start_time": "2022-04-23T07:36:18.352Z"
   },
   {
    "duration": 1163,
    "start_time": "2022-04-23T07:42:56.656Z"
   },
   {
    "duration": 41,
    "start_time": "2022-04-23T07:42:57.821Z"
   },
   {
    "duration": 20,
    "start_time": "2022-04-23T07:42:57.864Z"
   },
   {
    "duration": 4,
    "start_time": "2022-04-23T07:42:57.887Z"
   },
   {
    "duration": 28,
    "start_time": "2022-04-23T07:42:57.904Z"
   },
   {
    "duration": 14,
    "start_time": "2022-04-23T07:42:57.933Z"
   },
   {
    "duration": 5,
    "start_time": "2022-04-23T07:42:57.948Z"
   },
   {
    "duration": 7,
    "start_time": "2022-04-23T07:42:57.955Z"
   },
   {
    "duration": 38,
    "start_time": "2022-04-23T07:42:57.963Z"
   },
   {
    "duration": 14,
    "start_time": "2022-04-23T07:42:58.004Z"
   },
   {
    "duration": 10,
    "start_time": "2022-04-23T07:42:58.020Z"
   },
   {
    "duration": 13,
    "start_time": "2022-04-23T07:42:58.032Z"
   },
   {
    "duration": 7,
    "start_time": "2022-04-23T07:42:58.047Z"
   },
   {
    "duration": 13,
    "start_time": "2022-04-23T07:42:58.055Z"
   },
   {
    "duration": 48,
    "start_time": "2022-04-23T07:42:58.070Z"
   },
   {
    "duration": 10,
    "start_time": "2022-04-23T07:42:58.119Z"
   },
   {
    "duration": 5,
    "start_time": "2022-04-23T07:42:58.130Z"
   },
   {
    "duration": 16,
    "start_time": "2022-04-23T07:42:58.136Z"
   },
   {
    "duration": 4331,
    "start_time": "2022-04-23T07:42:58.154Z"
   },
   {
    "duration": 42,
    "start_time": "2022-04-23T07:43:02.486Z"
   },
   {
    "duration": 6,
    "start_time": "2022-04-23T07:43:02.530Z"
   },
   {
    "duration": 312,
    "start_time": "2022-04-23T07:43:02.537Z"
   },
   {
    "duration": 7,
    "start_time": "2022-04-23T07:43:02.850Z"
   },
   {
    "duration": 11,
    "start_time": "2022-04-23T07:43:02.859Z"
   },
   {
    "duration": 5,
    "start_time": "2022-04-23T07:43:02.871Z"
   },
   {
    "duration": 32,
    "start_time": "2022-04-23T07:43:02.878Z"
   },
   {
    "duration": 345,
    "start_time": "2022-04-23T07:43:02.912Z"
   },
   {
    "duration": 114,
    "start_time": "2022-04-23T07:43:03.261Z"
   },
   {
    "duration": 4,
    "start_time": "2022-04-23T07:43:03.376Z"
   },
   {
    "duration": 25,
    "start_time": "2022-04-23T07:43:03.382Z"
   },
   {
    "duration": 26,
    "start_time": "2022-04-23T07:43:03.409Z"
   },
   {
    "duration": 11,
    "start_time": "2022-04-23T07:43:03.437Z"
   },
   {
    "duration": 10,
    "start_time": "2022-04-23T07:43:03.450Z"
   },
   {
    "duration": 5,
    "start_time": "2022-04-23T07:43:03.462Z"
   },
   {
    "duration": 17,
    "start_time": "2022-04-23T07:43:03.469Z"
   },
   {
    "duration": 493,
    "start_time": "2022-04-23T07:43:03.487Z"
   },
   {
    "duration": 347,
    "start_time": "2022-04-23T07:43:03.982Z"
   },
   {
    "duration": 9,
    "start_time": "2022-04-23T07:43:04.331Z"
   },
   {
    "duration": 4,
    "start_time": "2022-04-23T07:43:04.341Z"
   },
   {
    "duration": 5,
    "start_time": "2022-04-23T07:43:04.347Z"
   },
   {
    "duration": 9,
    "start_time": "2022-04-23T07:43:04.353Z"
   },
   {
    "duration": 314,
    "start_time": "2022-04-23T07:43:04.364Z"
   },
   {
    "duration": 10,
    "start_time": "2022-04-23T07:43:04.679Z"
   },
   {
    "duration": 20,
    "start_time": "2022-04-23T07:43:04.690Z"
   },
   {
    "duration": 217,
    "start_time": "2022-04-23T07:43:04.711Z"
   },
   {
    "duration": 230,
    "start_time": "2022-04-23T07:43:04.930Z"
   },
   {
    "duration": 194,
    "start_time": "2022-04-23T07:43:05.162Z"
   },
   {
    "duration": 0,
    "start_time": "2022-04-23T07:43:05.357Z"
   },
   {
    "duration": 0,
    "start_time": "2022-04-23T07:43:05.358Z"
   },
   {
    "duration": 0,
    "start_time": "2022-04-23T07:43:05.359Z"
   },
   {
    "duration": 0,
    "start_time": "2022-04-23T07:43:05.360Z"
   },
   {
    "duration": 0,
    "start_time": "2022-04-23T07:43:05.361Z"
   },
   {
    "duration": 0,
    "start_time": "2022-04-23T07:43:05.362Z"
   },
   {
    "duration": 0,
    "start_time": "2022-04-23T07:43:05.363Z"
   },
   {
    "duration": 0,
    "start_time": "2022-04-23T07:43:05.364Z"
   },
   {
    "duration": 0,
    "start_time": "2022-04-23T07:43:05.365Z"
   },
   {
    "duration": 0,
    "start_time": "2022-04-23T07:43:05.366Z"
   },
   {
    "duration": 0,
    "start_time": "2022-04-23T07:43:05.367Z"
   },
   {
    "duration": 0,
    "start_time": "2022-04-23T07:43:05.367Z"
   },
   {
    "duration": 0,
    "start_time": "2022-04-23T07:43:05.368Z"
   },
   {
    "duration": 0,
    "start_time": "2022-04-23T07:43:05.369Z"
   },
   {
    "duration": 214,
    "start_time": "2022-04-23T07:43:35.732Z"
   },
   {
    "duration": 12,
    "start_time": "2022-04-23T07:43:42.784Z"
   },
   {
    "duration": 9,
    "start_time": "2022-04-23T07:43:44.630Z"
   },
   {
    "duration": 4,
    "start_time": "2022-04-23T07:43:44.729Z"
   },
   {
    "duration": 6,
    "start_time": "2022-04-23T07:43:44.820Z"
   },
   {
    "duration": 26,
    "start_time": "2022-04-23T07:43:44.924Z"
   },
   {
    "duration": 10,
    "start_time": "2022-04-23T07:43:45.100Z"
   },
   {
    "duration": 3,
    "start_time": "2022-04-23T07:43:45.184Z"
   },
   {
    "duration": 5,
    "start_time": "2022-04-23T07:43:45.282Z"
   },
   {
    "duration": 6,
    "start_time": "2022-04-23T07:43:45.384Z"
   },
   {
    "duration": 11,
    "start_time": "2022-04-23T07:43:45.548Z"
   },
   {
    "duration": 9,
    "start_time": "2022-04-23T07:43:45.646Z"
   },
   {
    "duration": 10,
    "start_time": "2022-04-23T07:43:46.167Z"
   },
   {
    "duration": 11,
    "start_time": "2022-04-23T07:43:46.255Z"
   },
   {
    "duration": 10,
    "start_time": "2022-04-23T07:43:46.588Z"
   },
   {
    "duration": 9,
    "start_time": "2022-04-23T07:43:46.689Z"
   },
   {
    "duration": 1262,
    "start_time": "2022-04-23T18:02:28.520Z"
   },
   {
    "duration": 46,
    "start_time": "2022-04-23T18:02:29.784Z"
   },
   {
    "duration": 17,
    "start_time": "2022-04-23T18:02:29.832Z"
   },
   {
    "duration": 4,
    "start_time": "2022-04-23T18:02:29.850Z"
   },
   {
    "duration": 23,
    "start_time": "2022-04-23T18:02:29.856Z"
   },
   {
    "duration": 33,
    "start_time": "2022-04-23T18:02:29.880Z"
   },
   {
    "duration": 5,
    "start_time": "2022-04-23T18:02:29.915Z"
   },
   {
    "duration": 5,
    "start_time": "2022-04-23T18:02:29.922Z"
   },
   {
    "duration": 11,
    "start_time": "2022-04-23T18:02:29.929Z"
   },
   {
    "duration": 12,
    "start_time": "2022-04-23T18:02:29.942Z"
   },
   {
    "duration": 7,
    "start_time": "2022-04-23T18:02:29.955Z"
   },
   {
    "duration": 40,
    "start_time": "2022-04-23T18:02:29.963Z"
   },
   {
    "duration": 7,
    "start_time": "2022-04-23T18:02:30.009Z"
   },
   {
    "duration": 16,
    "start_time": "2022-04-23T18:02:30.019Z"
   },
   {
    "duration": 10,
    "start_time": "2022-04-23T18:02:30.037Z"
   },
   {
    "duration": 12,
    "start_time": "2022-04-23T18:02:30.048Z"
   },
   {
    "duration": 5,
    "start_time": "2022-04-23T18:02:30.061Z"
   },
   {
    "duration": 27,
    "start_time": "2022-04-23T18:02:30.067Z"
   },
   {
    "duration": 4348,
    "start_time": "2022-04-23T18:02:30.102Z"
   },
   {
    "duration": 30,
    "start_time": "2022-04-23T18:02:34.452Z"
   },
   {
    "duration": 20,
    "start_time": "2022-04-23T18:02:34.483Z"
   },
   {
    "duration": 290,
    "start_time": "2022-04-23T18:02:34.505Z"
   },
   {
    "duration": 12,
    "start_time": "2022-04-23T18:02:34.796Z"
   },
   {
    "duration": 22,
    "start_time": "2022-04-23T18:02:34.810Z"
   },
   {
    "duration": 11,
    "start_time": "2022-04-23T18:02:34.834Z"
   },
   {
    "duration": 20,
    "start_time": "2022-04-23T18:02:34.846Z"
   },
   {
    "duration": 446,
    "start_time": "2022-04-23T18:02:34.867Z"
   },
   {
    "duration": 107,
    "start_time": "2022-04-23T18:02:35.314Z"
   },
   {
    "duration": 4,
    "start_time": "2022-04-23T18:02:35.422Z"
   },
   {
    "duration": 28,
    "start_time": "2022-04-23T18:02:35.428Z"
   },
   {
    "duration": 31,
    "start_time": "2022-04-23T18:02:35.457Z"
   },
   {
    "duration": 19,
    "start_time": "2022-04-23T18:02:35.489Z"
   },
   {
    "duration": 11,
    "start_time": "2022-04-23T18:02:35.510Z"
   },
   {
    "duration": 7,
    "start_time": "2022-04-23T18:02:35.523Z"
   },
   {
    "duration": 12,
    "start_time": "2022-04-23T18:02:35.532Z"
   },
   {
    "duration": 318,
    "start_time": "2022-04-23T18:02:35.545Z"
   },
   {
    "duration": 223,
    "start_time": "2022-04-23T18:02:35.865Z"
   },
   {
    "duration": 16,
    "start_time": "2022-04-23T18:02:36.090Z"
   },
   {
    "duration": 12,
    "start_time": "2022-04-23T18:02:36.107Z"
   },
   {
    "duration": 5,
    "start_time": "2022-04-23T18:02:36.120Z"
   },
   {
    "duration": 7,
    "start_time": "2022-04-23T18:02:36.130Z"
   },
   {
    "duration": 293,
    "start_time": "2022-04-23T18:02:36.139Z"
   },
   {
    "duration": 10,
    "start_time": "2022-04-23T18:02:36.433Z"
   },
   {
    "duration": 7,
    "start_time": "2022-04-23T18:02:36.444Z"
   },
   {
    "duration": 225,
    "start_time": "2022-04-23T18:02:36.453Z"
   },
   {
    "duration": 224,
    "start_time": "2022-04-23T18:02:36.680Z"
   },
   {
    "duration": 14,
    "start_time": "2022-04-23T18:02:36.905Z"
   },
   {
    "duration": 9,
    "start_time": "2022-04-23T18:02:36.920Z"
   },
   {
    "duration": 11,
    "start_time": "2022-04-23T18:02:36.931Z"
   },
   {
    "duration": 3,
    "start_time": "2022-04-23T18:02:36.943Z"
   },
   {
    "duration": 5,
    "start_time": "2022-04-23T18:02:36.948Z"
   },
   {
    "duration": 20,
    "start_time": "2022-04-23T18:02:36.954Z"
   },
   {
    "duration": 11,
    "start_time": "2022-04-23T18:02:37.002Z"
   },
   {
    "duration": 5,
    "start_time": "2022-04-23T18:02:37.015Z"
   },
   {
    "duration": 8,
    "start_time": "2022-04-23T18:02:37.021Z"
   },
   {
    "duration": 8,
    "start_time": "2022-04-23T18:02:37.030Z"
   },
   {
    "duration": 12,
    "start_time": "2022-04-23T18:02:37.040Z"
   },
   {
    "duration": 8,
    "start_time": "2022-04-23T18:02:37.054Z"
   },
   {
    "duration": 9,
    "start_time": "2022-04-23T18:02:37.064Z"
   },
   {
    "duration": 32,
    "start_time": "2022-04-23T18:02:37.074Z"
   },
   {
    "duration": 14,
    "start_time": "2022-04-23T18:02:37.108Z"
   },
   {
    "duration": 8,
    "start_time": "2022-04-23T18:02:37.124Z"
   },
   {
    "duration": 11,
    "start_time": "2022-04-23T18:18:49.576Z"
   },
   {
    "duration": 11,
    "start_time": "2022-04-23T18:20:28.780Z"
   },
   {
    "duration": 11,
    "start_time": "2022-04-23T18:22:33.985Z"
   },
   {
    "duration": 58,
    "start_time": "2022-04-25T17:34:29.854Z"
   },
   {
    "duration": 1574,
    "start_time": "2022-04-25T17:34:33.687Z"
   },
   {
    "duration": 59,
    "start_time": "2022-04-25T17:34:35.263Z"
   },
   {
    "duration": 19,
    "start_time": "2022-04-25T17:34:35.324Z"
   },
   {
    "duration": 12,
    "start_time": "2022-04-25T17:34:35.345Z"
   },
   {
    "duration": 55,
    "start_time": "2022-04-25T17:34:35.360Z"
   },
   {
    "duration": 16,
    "start_time": "2022-04-25T17:34:35.417Z"
   },
   {
    "duration": 7,
    "start_time": "2022-04-25T17:34:35.435Z"
   },
   {
    "duration": 13,
    "start_time": "2022-04-25T17:34:35.444Z"
   },
   {
    "duration": 47,
    "start_time": "2022-04-25T17:34:35.461Z"
   },
   {
    "duration": 14,
    "start_time": "2022-04-25T17:34:35.510Z"
   },
   {
    "duration": 11,
    "start_time": "2022-04-25T17:34:35.526Z"
   },
   {
    "duration": 22,
    "start_time": "2022-04-25T17:34:35.539Z"
   },
   {
    "duration": 42,
    "start_time": "2022-04-25T17:34:35.563Z"
   },
   {
    "duration": 21,
    "start_time": "2022-04-25T17:34:35.609Z"
   },
   {
    "duration": 53,
    "start_time": "2022-04-25T17:34:35.631Z"
   },
   {
    "duration": 14,
    "start_time": "2022-04-25T17:34:35.686Z"
   },
   {
    "duration": 7,
    "start_time": "2022-04-25T17:34:35.702Z"
   },
   {
    "duration": 30,
    "start_time": "2022-04-25T17:34:35.711Z"
   },
   {
    "duration": 4820,
    "start_time": "2022-04-25T17:34:35.743Z"
   },
   {
    "duration": 39,
    "start_time": "2022-04-25T17:34:40.565Z"
   },
   {
    "duration": 7,
    "start_time": "2022-04-25T17:34:40.606Z"
   },
   {
    "duration": 373,
    "start_time": "2022-04-25T17:34:40.615Z"
   },
   {
    "duration": 9,
    "start_time": "2022-04-25T17:34:40.990Z"
   },
   {
    "duration": 13,
    "start_time": "2022-04-25T17:34:41.001Z"
   },
   {
    "duration": 7,
    "start_time": "2022-04-25T17:34:41.015Z"
   },
   {
    "duration": 49,
    "start_time": "2022-04-25T17:34:41.024Z"
   },
   {
    "duration": 2110,
    "start_time": "2022-04-25T17:34:41.075Z"
   },
   {
    "duration": 0,
    "start_time": "2022-04-25T17:34:43.190Z"
   },
   {
    "duration": 0,
    "start_time": "2022-04-25T17:34:43.191Z"
   },
   {
    "duration": 0,
    "start_time": "2022-04-25T17:34:43.193Z"
   },
   {
    "duration": 0,
    "start_time": "2022-04-25T17:34:43.195Z"
   },
   {
    "duration": 0,
    "start_time": "2022-04-25T17:34:43.197Z"
   },
   {
    "duration": 0,
    "start_time": "2022-04-25T17:34:43.199Z"
   },
   {
    "duration": 0,
    "start_time": "2022-04-25T17:34:43.201Z"
   },
   {
    "duration": 0,
    "start_time": "2022-04-25T17:34:43.203Z"
   },
   {
    "duration": 0,
    "start_time": "2022-04-25T17:34:43.204Z"
   },
   {
    "duration": 0,
    "start_time": "2022-04-25T17:34:43.206Z"
   },
   {
    "duration": 0,
    "start_time": "2022-04-25T17:34:43.208Z"
   },
   {
    "duration": 0,
    "start_time": "2022-04-25T17:34:43.209Z"
   },
   {
    "duration": 0,
    "start_time": "2022-04-25T17:34:43.211Z"
   },
   {
    "duration": 0,
    "start_time": "2022-04-25T17:34:43.213Z"
   },
   {
    "duration": 0,
    "start_time": "2022-04-25T17:34:43.215Z"
   },
   {
    "duration": 0,
    "start_time": "2022-04-25T17:34:43.217Z"
   },
   {
    "duration": 0,
    "start_time": "2022-04-25T17:34:43.218Z"
   },
   {
    "duration": 0,
    "start_time": "2022-04-25T17:34:43.220Z"
   },
   {
    "duration": 0,
    "start_time": "2022-04-25T17:34:43.222Z"
   },
   {
    "duration": 0,
    "start_time": "2022-04-25T17:34:43.224Z"
   },
   {
    "duration": 0,
    "start_time": "2022-04-25T17:34:43.248Z"
   },
   {
    "duration": 0,
    "start_time": "2022-04-25T17:34:43.250Z"
   },
   {
    "duration": 0,
    "start_time": "2022-04-25T17:34:43.252Z"
   },
   {
    "duration": 0,
    "start_time": "2022-04-25T17:34:43.253Z"
   },
   {
    "duration": 0,
    "start_time": "2022-04-25T17:34:43.255Z"
   },
   {
    "duration": 0,
    "start_time": "2022-04-25T17:34:43.256Z"
   },
   {
    "duration": 0,
    "start_time": "2022-04-25T17:34:43.258Z"
   },
   {
    "duration": 0,
    "start_time": "2022-04-25T17:34:43.259Z"
   },
   {
    "duration": 0,
    "start_time": "2022-04-25T17:34:43.261Z"
   },
   {
    "duration": 0,
    "start_time": "2022-04-25T17:34:43.263Z"
   },
   {
    "duration": 0,
    "start_time": "2022-04-25T17:34:43.264Z"
   },
   {
    "duration": 0,
    "start_time": "2022-04-25T17:34:43.266Z"
   },
   {
    "duration": 0,
    "start_time": "2022-04-25T17:34:43.267Z"
   },
   {
    "duration": 0,
    "start_time": "2022-04-25T17:34:43.268Z"
   },
   {
    "duration": 0,
    "start_time": "2022-04-25T17:34:43.270Z"
   },
   {
    "duration": 0,
    "start_time": "2022-04-25T17:34:43.272Z"
   },
   {
    "duration": 437,
    "start_time": "2022-04-25T17:34:55.402Z"
   },
   {
    "duration": 410,
    "start_time": "2022-04-25T17:36:08.010Z"
   },
   {
    "duration": 472,
    "start_time": "2022-04-25T17:37:47.400Z"
   },
   {
    "duration": 369,
    "start_time": "2022-04-25T17:48:30.036Z"
   },
   {
    "duration": 463,
    "start_time": "2022-04-25T17:50:48.339Z"
   },
   {
    "duration": 357,
    "start_time": "2022-04-25T17:53:46.484Z"
   },
   {
    "duration": 12,
    "start_time": "2022-04-25T17:54:51.681Z"
   },
   {
    "duration": 3,
    "start_time": "2022-04-25T17:54:57.015Z"
   },
   {
    "duration": 102,
    "start_time": "2022-04-25T17:54:57.021Z"
   },
   {
    "duration": 16,
    "start_time": "2022-04-25T17:54:57.124Z"
   },
   {
    "duration": 9,
    "start_time": "2022-04-25T17:54:57.142Z"
   },
   {
    "duration": 69,
    "start_time": "2022-04-25T17:54:57.153Z"
   },
   {
    "duration": 14,
    "start_time": "2022-04-25T17:54:57.224Z"
   },
   {
    "duration": 5,
    "start_time": "2022-04-25T17:54:57.240Z"
   },
   {
    "duration": 51,
    "start_time": "2022-04-25T17:54:57.253Z"
   },
   {
    "duration": 20,
    "start_time": "2022-04-25T17:54:57.308Z"
   },
   {
    "duration": 30,
    "start_time": "2022-04-25T17:54:57.330Z"
   },
   {
    "duration": 13,
    "start_time": "2022-04-25T17:54:57.362Z"
   },
   {
    "duration": 33,
    "start_time": "2022-04-25T17:54:57.380Z"
   },
   {
    "duration": 8,
    "start_time": "2022-04-25T17:54:57.415Z"
   },
   {
    "duration": 26,
    "start_time": "2022-04-25T17:54:57.425Z"
   },
   {
    "duration": 30,
    "start_time": "2022-04-25T17:54:57.453Z"
   },
   {
    "duration": 24,
    "start_time": "2022-04-25T17:54:57.485Z"
   },
   {
    "duration": 5,
    "start_time": "2022-04-25T17:54:57.511Z"
   },
   {
    "duration": 24,
    "start_time": "2022-04-25T17:54:57.518Z"
   },
   {
    "duration": 5693,
    "start_time": "2022-04-25T17:54:57.544Z"
   },
   {
    "duration": 53,
    "start_time": "2022-04-25T17:55:03.239Z"
   },
   {
    "duration": 6,
    "start_time": "2022-04-25T17:55:03.294Z"
   },
   {
    "duration": 356,
    "start_time": "2022-04-25T17:55:03.302Z"
   },
   {
    "duration": 9,
    "start_time": "2022-04-25T17:55:03.660Z"
   },
   {
    "duration": 18,
    "start_time": "2022-04-25T17:55:03.673Z"
   },
   {
    "duration": 14,
    "start_time": "2022-04-25T17:55:03.693Z"
   },
   {
    "duration": 21,
    "start_time": "2022-04-25T17:55:03.710Z"
   },
   {
    "duration": 384,
    "start_time": "2022-04-25T17:55:03.733Z"
   },
   {
    "duration": 95,
    "start_time": "2022-04-25T17:55:04.120Z"
   },
   {
    "duration": 5,
    "start_time": "2022-04-25T17:55:04.217Z"
   },
   {
    "duration": 19,
    "start_time": "2022-04-25T17:55:04.224Z"
   },
   {
    "duration": 27,
    "start_time": "2022-04-25T17:55:04.244Z"
   },
   {
    "duration": 26,
    "start_time": "2022-04-25T17:55:04.273Z"
   },
   {
    "duration": 7,
    "start_time": "2022-04-25T17:55:04.301Z"
   },
   {
    "duration": 15,
    "start_time": "2022-04-25T17:55:04.310Z"
   },
   {
    "duration": 16,
    "start_time": "2022-04-25T17:55:04.328Z"
   },
   {
    "duration": 487,
    "start_time": "2022-04-25T17:55:04.347Z"
   },
   {
    "duration": 373,
    "start_time": "2022-04-25T17:55:04.836Z"
   },
   {
    "duration": 9,
    "start_time": "2022-04-25T17:55:05.210Z"
   },
   {
    "duration": 3,
    "start_time": "2022-04-25T17:55:05.221Z"
   },
   {
    "duration": 26,
    "start_time": "2022-04-25T17:55:05.225Z"
   },
   {
    "duration": 45,
    "start_time": "2022-04-25T17:55:05.253Z"
   },
   {
    "duration": 389,
    "start_time": "2022-04-25T17:55:05.300Z"
   },
   {
    "duration": 12,
    "start_time": "2022-04-25T17:55:05.691Z"
   },
   {
    "duration": 13,
    "start_time": "2022-04-25T17:55:05.704Z"
   },
   {
    "duration": 273,
    "start_time": "2022-04-25T17:55:05.719Z"
   },
   {
    "duration": 295,
    "start_time": "2022-04-25T17:55:05.994Z"
   },
   {
    "duration": 13,
    "start_time": "2022-04-25T17:55:06.291Z"
   },
   {
    "duration": 15,
    "start_time": "2022-04-25T17:55:06.305Z"
   },
   {
    "duration": 12,
    "start_time": "2022-04-25T17:55:06.322Z"
   },
   {
    "duration": 21,
    "start_time": "2022-04-25T17:55:06.335Z"
   },
   {
    "duration": 33,
    "start_time": "2022-04-25T17:55:06.358Z"
   },
   {
    "duration": 5,
    "start_time": "2022-04-25T17:55:06.394Z"
   },
   {
    "duration": 25,
    "start_time": "2022-04-25T17:55:06.401Z"
   },
   {
    "duration": 12,
    "start_time": "2022-04-25T17:55:06.429Z"
   },
   {
    "duration": 7,
    "start_time": "2022-04-25T17:55:06.443Z"
   },
   {
    "duration": 45,
    "start_time": "2022-04-25T17:55:06.451Z"
   },
   {
    "duration": 7,
    "start_time": "2022-04-25T17:55:06.498Z"
   },
   {
    "duration": 17,
    "start_time": "2022-04-25T17:55:06.508Z"
   },
   {
    "duration": 10,
    "start_time": "2022-04-25T17:55:06.527Z"
   },
   {
    "duration": 22,
    "start_time": "2022-04-25T17:55:06.538Z"
   },
   {
    "duration": 34,
    "start_time": "2022-04-25T17:55:06.562Z"
   },
   {
    "duration": 13,
    "start_time": "2022-04-25T17:55:06.598Z"
   },
   {
    "duration": 10,
    "start_time": "2022-04-25T17:55:06.612Z"
   },
   {
    "duration": 527,
    "start_time": "2022-04-25T17:57:32.440Z"
   },
   {
    "duration": 119,
    "start_time": "2022-04-25T18:04:30.156Z"
   },
   {
    "duration": 108,
    "start_time": "2022-04-25T18:04:40.382Z"
   },
   {
    "duration": 105,
    "start_time": "2022-04-25T18:04:57.235Z"
   },
   {
    "duration": 155,
    "start_time": "2022-04-25T18:05:01.810Z"
   },
   {
    "duration": 102,
    "start_time": "2022-04-25T18:05:07.538Z"
   },
   {
    "duration": 125,
    "start_time": "2022-04-25T18:05:11.239Z"
   },
   {
    "duration": 176,
    "start_time": "2022-04-25T18:05:26.228Z"
   },
   {
    "duration": 172,
    "start_time": "2022-04-25T18:05:36.172Z"
   },
   {
    "duration": 10,
    "start_time": "2022-04-25T18:06:07.403Z"
   },
   {
    "duration": 4,
    "start_time": "2022-04-25T18:06:11.180Z"
   },
   {
    "duration": 81,
    "start_time": "2022-04-25T18:06:11.186Z"
   },
   {
    "duration": 23,
    "start_time": "2022-04-25T18:06:11.269Z"
   },
   {
    "duration": 5,
    "start_time": "2022-04-25T18:06:11.294Z"
   },
   {
    "duration": 64,
    "start_time": "2022-04-25T18:06:11.302Z"
   },
   {
    "duration": 21,
    "start_time": "2022-04-25T18:06:11.372Z"
   },
   {
    "duration": 6,
    "start_time": "2022-04-25T18:06:11.395Z"
   },
   {
    "duration": 12,
    "start_time": "2022-04-25T18:06:11.403Z"
   },
   {
    "duration": 40,
    "start_time": "2022-04-25T18:06:11.418Z"
   },
   {
    "duration": 22,
    "start_time": "2022-04-25T18:06:11.461Z"
   },
   {
    "duration": 12,
    "start_time": "2022-04-25T18:06:11.488Z"
   },
   {
    "duration": 153,
    "start_time": "2022-04-25T18:06:11.503Z"
   },
   {
    "duration": 8,
    "start_time": "2022-04-25T18:06:11.658Z"
   },
   {
    "duration": 25,
    "start_time": "2022-04-25T18:06:11.668Z"
   },
   {
    "duration": 15,
    "start_time": "2022-04-25T18:06:11.695Z"
   },
   {
    "duration": 15,
    "start_time": "2022-04-25T18:06:11.713Z"
   },
   {
    "duration": 9,
    "start_time": "2022-04-25T18:06:11.748Z"
   },
   {
    "duration": 44,
    "start_time": "2022-04-25T18:06:11.760Z"
   },
   {
    "duration": 7437,
    "start_time": "2022-04-25T18:06:11.807Z"
   },
   {
    "duration": 52,
    "start_time": "2022-04-25T18:06:19.248Z"
   },
   {
    "duration": 15,
    "start_time": "2022-04-25T18:06:19.306Z"
   },
   {
    "duration": 367,
    "start_time": "2022-04-25T18:06:19.323Z"
   },
   {
    "duration": 11,
    "start_time": "2022-04-25T18:06:19.692Z"
   },
   {
    "duration": 12,
    "start_time": "2022-04-25T18:06:19.705Z"
   },
   {
    "duration": 6,
    "start_time": "2022-04-25T18:06:19.719Z"
   },
   {
    "duration": 48,
    "start_time": "2022-04-25T18:06:19.726Z"
   },
   {
    "duration": 416,
    "start_time": "2022-04-25T18:06:19.776Z"
   },
   {
    "duration": 25,
    "start_time": "2022-04-25T18:06:20.194Z"
   },
   {
    "duration": 6,
    "start_time": "2022-04-25T18:06:20.222Z"
   },
   {
    "duration": 54,
    "start_time": "2022-04-25T18:06:20.247Z"
   },
   {
    "duration": 16,
    "start_time": "2022-04-25T18:06:20.303Z"
   },
   {
    "duration": 3,
    "start_time": "2022-04-25T18:06:20.321Z"
   },
   {
    "duration": 6,
    "start_time": "2022-04-25T18:06:20.326Z"
   },
   {
    "duration": 6,
    "start_time": "2022-04-25T18:06:20.334Z"
   },
   {
    "duration": 17,
    "start_time": "2022-04-25T18:06:20.342Z"
   },
   {
    "duration": 426,
    "start_time": "2022-04-25T18:06:20.363Z"
   },
   {
    "duration": 12,
    "start_time": "2022-04-25T18:06:20.791Z"
   },
   {
    "duration": 0,
    "start_time": "2022-04-25T18:06:20.804Z"
   },
   {
    "duration": 0,
    "start_time": "2022-04-25T18:06:20.806Z"
   },
   {
    "duration": 0,
    "start_time": "2022-04-25T18:06:20.807Z"
   },
   {
    "duration": 0,
    "start_time": "2022-04-25T18:06:20.809Z"
   },
   {
    "duration": 0,
    "start_time": "2022-04-25T18:06:20.810Z"
   },
   {
    "duration": 0,
    "start_time": "2022-04-25T18:06:20.811Z"
   },
   {
    "duration": 0,
    "start_time": "2022-04-25T18:06:20.812Z"
   },
   {
    "duration": 0,
    "start_time": "2022-04-25T18:06:20.813Z"
   },
   {
    "duration": 0,
    "start_time": "2022-04-25T18:06:20.814Z"
   },
   {
    "duration": 0,
    "start_time": "2022-04-25T18:06:20.815Z"
   },
   {
    "duration": 0,
    "start_time": "2022-04-25T18:06:20.848Z"
   },
   {
    "duration": 0,
    "start_time": "2022-04-25T18:06:20.849Z"
   },
   {
    "duration": 1,
    "start_time": "2022-04-25T18:06:20.849Z"
   },
   {
    "duration": 1,
    "start_time": "2022-04-25T18:06:20.850Z"
   },
   {
    "duration": 0,
    "start_time": "2022-04-25T18:06:20.852Z"
   },
   {
    "duration": 0,
    "start_time": "2022-04-25T18:06:20.853Z"
   },
   {
    "duration": 0,
    "start_time": "2022-04-25T18:06:20.854Z"
   },
   {
    "duration": 0,
    "start_time": "2022-04-25T18:06:20.856Z"
   },
   {
    "duration": 0,
    "start_time": "2022-04-25T18:06:20.857Z"
   },
   {
    "duration": 0,
    "start_time": "2022-04-25T18:06:20.858Z"
   },
   {
    "duration": 0,
    "start_time": "2022-04-25T18:06:20.859Z"
   },
   {
    "duration": 0,
    "start_time": "2022-04-25T18:06:20.860Z"
   },
   {
    "duration": 0,
    "start_time": "2022-04-25T18:06:20.861Z"
   },
   {
    "duration": 0,
    "start_time": "2022-04-25T18:06:20.863Z"
   },
   {
    "duration": 0,
    "start_time": "2022-04-25T18:06:20.864Z"
   },
   {
    "duration": 0,
    "start_time": "2022-04-25T18:06:20.865Z"
   },
   {
    "duration": 285,
    "start_time": "2022-04-25T18:06:45.295Z"
   },
   {
    "duration": 335,
    "start_time": "2022-04-25T18:07:29.068Z"
   },
   {
    "duration": 504,
    "start_time": "2022-04-25T18:07:35.502Z"
   },
   {
    "duration": 142,
    "start_time": "2022-04-25T18:08:10.603Z"
   },
   {
    "duration": 103,
    "start_time": "2022-04-25T18:08:20.498Z"
   },
   {
    "duration": 96,
    "start_time": "2022-04-25T18:08:41.599Z"
   },
   {
    "duration": 102,
    "start_time": "2022-04-25T18:09:47.034Z"
   },
   {
    "duration": 156,
    "start_time": "2022-04-25T18:09:52.286Z"
   },
   {
    "duration": 202,
    "start_time": "2022-04-25T18:10:02.544Z"
   },
   {
    "duration": 408,
    "start_time": "2022-04-25T18:10:40.280Z"
   },
   {
    "duration": 246,
    "start_time": "2022-04-25T18:13:15.781Z"
   },
   {
    "duration": 242,
    "start_time": "2022-04-25T18:13:28.199Z"
   },
   {
    "duration": 283,
    "start_time": "2022-04-25T18:14:13.326Z"
   },
   {
    "duration": 13,
    "start_time": "2022-04-25T18:15:33.887Z"
   },
   {
    "duration": 6,
    "start_time": "2022-04-25T18:15:34.471Z"
   },
   {
    "duration": 5,
    "start_time": "2022-04-25T18:15:34.899Z"
   },
   {
    "duration": 22,
    "start_time": "2022-04-25T18:15:37.884Z"
   },
   {
    "duration": 377,
    "start_time": "2022-04-25T18:15:44.114Z"
   },
   {
    "duration": 14,
    "start_time": "2022-04-25T18:15:48.063Z"
   },
   {
    "duration": 10,
    "start_time": "2022-04-25T18:15:49.783Z"
   },
   {
    "duration": 17,
    "start_time": "2022-04-25T18:21:01.535Z"
   },
   {
    "duration": 17,
    "start_time": "2022-04-25T18:21:02.347Z"
   },
   {
    "duration": 14,
    "start_time": "2022-04-25T18:21:03.868Z"
   },
   {
    "duration": 245,
    "start_time": "2022-04-25T18:21:27.755Z"
   },
   {
    "duration": 222,
    "start_time": "2022-04-25T18:22:22.118Z"
   },
   {
    "duration": 3,
    "start_time": "2022-04-25T18:23:17.071Z"
   },
   {
    "duration": 58,
    "start_time": "2022-04-25T18:23:17.076Z"
   },
   {
    "duration": 27,
    "start_time": "2022-04-25T18:23:17.136Z"
   },
   {
    "duration": 24,
    "start_time": "2022-04-25T18:23:17.165Z"
   },
   {
    "duration": 31,
    "start_time": "2022-04-25T18:23:17.192Z"
   },
   {
    "duration": 29,
    "start_time": "2022-04-25T18:23:17.226Z"
   },
   {
    "duration": 6,
    "start_time": "2022-04-25T18:23:17.256Z"
   },
   {
    "duration": 22,
    "start_time": "2022-04-25T18:23:17.263Z"
   },
   {
    "duration": 16,
    "start_time": "2022-04-25T18:23:17.287Z"
   },
   {
    "duration": 17,
    "start_time": "2022-04-25T18:23:17.304Z"
   },
   {
    "duration": 11,
    "start_time": "2022-04-25T18:23:17.322Z"
   },
   {
    "duration": 31,
    "start_time": "2022-04-25T18:23:17.334Z"
   },
   {
    "duration": 9,
    "start_time": "2022-04-25T18:23:17.367Z"
   },
   {
    "duration": 18,
    "start_time": "2022-04-25T18:23:17.379Z"
   },
   {
    "duration": 10,
    "start_time": "2022-04-25T18:23:17.399Z"
   },
   {
    "duration": 10,
    "start_time": "2022-04-25T18:23:17.410Z"
   },
   {
    "duration": 34,
    "start_time": "2022-04-25T18:23:17.422Z"
   },
   {
    "duration": 35,
    "start_time": "2022-04-25T18:23:17.460Z"
   },
   {
    "duration": 4460,
    "start_time": "2022-04-25T18:23:17.497Z"
   },
   {
    "duration": 35,
    "start_time": "2022-04-25T18:23:21.959Z"
   },
   {
    "duration": 6,
    "start_time": "2022-04-25T18:23:21.995Z"
   },
   {
    "duration": 328,
    "start_time": "2022-04-25T18:23:22.002Z"
   },
   {
    "duration": 20,
    "start_time": "2022-04-25T18:23:22.332Z"
   },
   {
    "duration": 35,
    "start_time": "2022-04-25T18:23:22.354Z"
   },
   {
    "duration": 5,
    "start_time": "2022-04-25T18:23:22.390Z"
   },
   {
    "duration": 13,
    "start_time": "2022-04-25T18:23:22.397Z"
   },
   {
    "duration": 404,
    "start_time": "2022-04-25T18:23:22.412Z"
   },
   {
    "duration": 32,
    "start_time": "2022-04-25T18:23:22.817Z"
   },
   {
    "duration": 4,
    "start_time": "2022-04-25T18:23:22.852Z"
   },
   {
    "duration": 32,
    "start_time": "2022-04-25T18:23:22.858Z"
   },
   {
    "duration": 10,
    "start_time": "2022-04-25T18:23:22.892Z"
   },
   {
    "duration": 2,
    "start_time": "2022-04-25T18:23:22.904Z"
   },
   {
    "duration": 5,
    "start_time": "2022-04-25T18:23:22.908Z"
   },
   {
    "duration": 4,
    "start_time": "2022-04-25T18:23:22.914Z"
   },
   {
    "duration": 11,
    "start_time": "2022-04-25T18:23:22.920Z"
   },
   {
    "duration": 388,
    "start_time": "2022-04-25T18:23:22.932Z"
   },
   {
    "duration": 249,
    "start_time": "2022-04-25T18:23:23.322Z"
   },
   {
    "duration": 9,
    "start_time": "2022-04-25T18:23:23.573Z"
   },
   {
    "duration": 3,
    "start_time": "2022-04-25T18:23:23.583Z"
   },
   {
    "duration": 5,
    "start_time": "2022-04-25T18:23:23.588Z"
   },
   {
    "duration": 8,
    "start_time": "2022-04-25T18:23:23.597Z"
   },
   {
    "duration": 256,
    "start_time": "2022-04-25T18:23:23.606Z"
   },
   {
    "duration": 12,
    "start_time": "2022-04-25T18:23:23.863Z"
   },
   {
    "duration": 8,
    "start_time": "2022-04-25T18:23:23.877Z"
   },
   {
    "duration": 355,
    "start_time": "2022-04-25T18:23:23.886Z"
   },
   {
    "duration": 17,
    "start_time": "2022-04-25T18:23:24.246Z"
   },
   {
    "duration": 24,
    "start_time": "2022-04-25T18:23:24.266Z"
   },
   {
    "duration": 12,
    "start_time": "2022-04-25T18:23:24.292Z"
   },
   {
    "duration": 10,
    "start_time": "2022-04-25T18:23:24.306Z"
   },
   {
    "duration": 6,
    "start_time": "2022-04-25T18:23:24.317Z"
   },
   {
    "duration": 26,
    "start_time": "2022-04-25T18:23:24.325Z"
   },
   {
    "duration": 26,
    "start_time": "2022-04-25T18:23:24.354Z"
   },
   {
    "duration": 9,
    "start_time": "2022-04-25T18:23:24.381Z"
   },
   {
    "duration": 2,
    "start_time": "2022-04-25T18:23:24.392Z"
   },
   {
    "duration": 6,
    "start_time": "2022-04-25T18:23:24.396Z"
   },
   {
    "duration": 5,
    "start_time": "2022-04-25T18:23:24.404Z"
   },
   {
    "duration": 8,
    "start_time": "2022-04-25T18:23:24.411Z"
   },
   {
    "duration": 38,
    "start_time": "2022-04-25T18:23:24.421Z"
   },
   {
    "duration": 22,
    "start_time": "2022-04-25T18:23:24.464Z"
   },
   {
    "duration": 10,
    "start_time": "2022-04-25T18:23:24.487Z"
   },
   {
    "duration": 9,
    "start_time": "2022-04-25T18:23:24.499Z"
   },
   {
    "duration": 9,
    "start_time": "2022-04-25T18:23:24.510Z"
   },
   {
    "duration": 223,
    "start_time": "2022-04-25T18:23:35.706Z"
   },
   {
    "duration": 9,
    "start_time": "2022-04-25T18:25:00.894Z"
   },
   {
    "duration": 11,
    "start_time": "2022-04-25T18:25:01.670Z"
   },
   {
    "duration": 14,
    "start_time": "2022-04-25T18:28:35.445Z"
   },
   {
    "duration": 217,
    "start_time": "2022-04-25T18:29:02.554Z"
   },
   {
    "duration": 3,
    "start_time": "2022-04-25T18:29:10.810Z"
   },
   {
    "duration": 39,
    "start_time": "2022-04-25T18:29:10.815Z"
   },
   {
    "duration": 14,
    "start_time": "2022-04-25T18:29:10.856Z"
   },
   {
    "duration": 6,
    "start_time": "2022-04-25T18:29:10.871Z"
   },
   {
    "duration": 23,
    "start_time": "2022-04-25T18:29:10.879Z"
   },
   {
    "duration": 45,
    "start_time": "2022-04-25T18:29:10.904Z"
   },
   {
    "duration": 5,
    "start_time": "2022-04-25T18:29:10.951Z"
   },
   {
    "duration": 6,
    "start_time": "2022-04-25T18:29:10.958Z"
   },
   {
    "duration": 14,
    "start_time": "2022-04-25T18:29:10.966Z"
   },
   {
    "duration": 14,
    "start_time": "2022-04-25T18:29:10.982Z"
   },
   {
    "duration": 8,
    "start_time": "2022-04-25T18:29:10.998Z"
   },
   {
    "duration": 21,
    "start_time": "2022-04-25T18:29:11.048Z"
   },
   {
    "duration": 9,
    "start_time": "2022-04-25T18:29:11.073Z"
   },
   {
    "duration": 22,
    "start_time": "2022-04-25T18:29:11.084Z"
   },
   {
    "duration": 41,
    "start_time": "2022-04-25T18:29:11.108Z"
   },
   {
    "duration": 15,
    "start_time": "2022-04-25T18:29:11.151Z"
   },
   {
    "duration": 6,
    "start_time": "2022-04-25T18:29:11.168Z"
   },
   {
    "duration": 23,
    "start_time": "2022-04-25T18:29:11.176Z"
   },
   {
    "duration": 4416,
    "start_time": "2022-04-25T18:29:11.201Z"
   },
   {
    "duration": 45,
    "start_time": "2022-04-25T18:29:15.619Z"
   },
   {
    "duration": 7,
    "start_time": "2022-04-25T18:29:15.666Z"
   },
   {
    "duration": 308,
    "start_time": "2022-04-25T18:29:15.674Z"
   },
   {
    "duration": 9,
    "start_time": "2022-04-25T18:29:15.984Z"
   },
   {
    "duration": 12,
    "start_time": "2022-04-25T18:29:15.994Z"
   },
   {
    "duration": 5,
    "start_time": "2022-04-25T18:29:16.008Z"
   },
   {
    "duration": 43,
    "start_time": "2022-04-25T18:29:16.015Z"
   },
   {
    "duration": 434,
    "start_time": "2022-04-25T18:29:16.060Z"
   },
   {
    "duration": 34,
    "start_time": "2022-04-25T18:29:16.496Z"
   },
   {
    "duration": 22,
    "start_time": "2022-04-25T18:29:16.532Z"
   },
   {
    "duration": 28,
    "start_time": "2022-04-25T18:29:16.557Z"
   },
   {
    "duration": 12,
    "start_time": "2022-04-25T18:29:16.587Z"
   },
   {
    "duration": 3,
    "start_time": "2022-04-25T18:29:16.601Z"
   },
   {
    "duration": 5,
    "start_time": "2022-04-25T18:29:16.605Z"
   },
   {
    "duration": 5,
    "start_time": "2022-04-25T18:29:16.612Z"
   },
   {
    "duration": 37,
    "start_time": "2022-04-25T18:29:16.618Z"
   },
   {
    "duration": 354,
    "start_time": "2022-04-25T18:29:16.657Z"
   },
   {
    "duration": 393,
    "start_time": "2022-04-25T18:29:17.015Z"
   },
   {
    "duration": 10,
    "start_time": "2022-04-25T18:29:17.409Z"
   },
   {
    "duration": 5,
    "start_time": "2022-04-25T18:29:17.420Z"
   },
   {
    "duration": 6,
    "start_time": "2022-04-25T18:29:17.426Z"
   },
   {
    "duration": 21,
    "start_time": "2022-04-25T18:29:17.434Z"
   },
   {
    "duration": 252,
    "start_time": "2022-04-25T18:29:17.457Z"
   },
   {
    "duration": 11,
    "start_time": "2022-04-25T18:29:17.711Z"
   },
   {
    "duration": 8,
    "start_time": "2022-04-25T18:29:17.723Z"
   },
   {
    "duration": 232,
    "start_time": "2022-04-25T18:29:17.733Z"
   },
   {
    "duration": 234,
    "start_time": "2022-04-25T18:29:17.966Z"
   },
   {
    "duration": 11,
    "start_time": "2022-04-25T18:29:18.202Z"
   },
   {
    "duration": 12,
    "start_time": "2022-04-25T18:29:18.215Z"
   },
   {
    "duration": 37,
    "start_time": "2022-04-25T18:29:18.229Z"
   },
   {
    "duration": 18,
    "start_time": "2022-04-25T18:29:18.268Z"
   },
   {
    "duration": 3,
    "start_time": "2022-04-25T18:29:18.287Z"
   },
   {
    "duration": 6,
    "start_time": "2022-04-25T18:29:18.292Z"
   },
   {
    "duration": 26,
    "start_time": "2022-04-25T18:29:18.299Z"
   },
   {
    "duration": 38,
    "start_time": "2022-04-25T18:29:18.327Z"
   },
   {
    "duration": 7,
    "start_time": "2022-04-25T18:29:18.367Z"
   },
   {
    "duration": 6,
    "start_time": "2022-04-25T18:29:18.376Z"
   },
   {
    "duration": 6,
    "start_time": "2022-04-25T18:29:18.383Z"
   },
   {
    "duration": 15,
    "start_time": "2022-04-25T18:29:18.391Z"
   },
   {
    "duration": 12,
    "start_time": "2022-04-25T18:29:18.407Z"
   },
   {
    "duration": 38,
    "start_time": "2022-04-25T18:29:18.421Z"
   },
   {
    "duration": 14,
    "start_time": "2022-04-25T18:29:18.461Z"
   },
   {
    "duration": 10,
    "start_time": "2022-04-25T18:29:18.477Z"
   },
   {
    "duration": 10,
    "start_time": "2022-04-25T18:29:18.488Z"
   },
   {
    "duration": 228,
    "start_time": "2022-04-25T18:36:18.139Z"
   },
   {
    "duration": 235,
    "start_time": "2022-04-25T18:36:37.144Z"
   },
   {
    "duration": 3,
    "start_time": "2022-04-25T18:39:06.438Z"
   },
   {
    "duration": 38,
    "start_time": "2022-04-25T18:39:06.443Z"
   },
   {
    "duration": 15,
    "start_time": "2022-04-25T18:39:06.483Z"
   },
   {
    "duration": 5,
    "start_time": "2022-04-25T18:39:06.500Z"
   },
   {
    "duration": 44,
    "start_time": "2022-04-25T18:39:06.507Z"
   },
   {
    "duration": 15,
    "start_time": "2022-04-25T18:39:06.553Z"
   },
   {
    "duration": 5,
    "start_time": "2022-04-25T18:39:06.569Z"
   },
   {
    "duration": 8,
    "start_time": "2022-04-25T18:39:06.575Z"
   },
   {
    "duration": 13,
    "start_time": "2022-04-25T18:39:06.586Z"
   },
   {
    "duration": 50,
    "start_time": "2022-04-25T18:39:06.600Z"
   },
   {
    "duration": 7,
    "start_time": "2022-04-25T18:39:06.652Z"
   },
   {
    "duration": 13,
    "start_time": "2022-04-25T18:39:06.660Z"
   },
   {
    "duration": 8,
    "start_time": "2022-04-25T18:39:06.674Z"
   },
   {
    "duration": 13,
    "start_time": "2022-04-25T18:39:06.684Z"
   },
   {
    "duration": 10,
    "start_time": "2022-04-25T18:39:06.699Z"
   },
   {
    "duration": 45,
    "start_time": "2022-04-25T18:39:06.710Z"
   },
   {
    "duration": 5,
    "start_time": "2022-04-25T18:39:06.757Z"
   },
   {
    "duration": 16,
    "start_time": "2022-04-25T18:39:06.763Z"
   },
   {
    "duration": 4173,
    "start_time": "2022-04-25T18:39:06.780Z"
   },
   {
    "duration": 29,
    "start_time": "2022-04-25T18:39:10.955Z"
   },
   {
    "duration": 6,
    "start_time": "2022-04-25T18:39:10.985Z"
   },
   {
    "duration": 297,
    "start_time": "2022-04-25T18:39:10.992Z"
   },
   {
    "duration": 7,
    "start_time": "2022-04-25T18:39:11.290Z"
   },
   {
    "duration": 11,
    "start_time": "2022-04-25T18:39:11.301Z"
   },
   {
    "duration": 5,
    "start_time": "2022-04-25T18:39:11.313Z"
   },
   {
    "duration": 36,
    "start_time": "2022-04-25T18:39:11.319Z"
   },
   {
    "duration": 335,
    "start_time": "2022-04-25T18:39:11.356Z"
   },
   {
    "duration": 21,
    "start_time": "2022-04-25T18:39:11.692Z"
   },
   {
    "duration": 4,
    "start_time": "2022-04-25T18:39:11.715Z"
   },
   {
    "duration": 31,
    "start_time": "2022-04-25T18:39:11.720Z"
   },
   {
    "duration": 11,
    "start_time": "2022-04-25T18:39:11.752Z"
   },
   {
    "duration": 3,
    "start_time": "2022-04-25T18:39:11.764Z"
   },
   {
    "duration": 5,
    "start_time": "2022-04-25T18:39:11.768Z"
   },
   {
    "duration": 4,
    "start_time": "2022-04-25T18:39:11.774Z"
   },
   {
    "duration": 9,
    "start_time": "2022-04-25T18:39:11.780Z"
   },
   {
    "duration": 452,
    "start_time": "2022-04-25T18:39:11.790Z"
   },
   {
    "duration": 221,
    "start_time": "2022-04-25T18:39:12.248Z"
   },
   {
    "duration": 9,
    "start_time": "2022-04-25T18:39:12.471Z"
   },
   {
    "duration": 3,
    "start_time": "2022-04-25T18:39:12.481Z"
   },
   {
    "duration": 4,
    "start_time": "2022-04-25T18:39:12.485Z"
   },
   {
    "duration": 10,
    "start_time": "2022-04-25T18:39:12.491Z"
   },
   {
    "duration": 244,
    "start_time": "2022-04-25T18:39:12.503Z"
   },
   {
    "duration": 10,
    "start_time": "2022-04-25T18:39:12.749Z"
   },
   {
    "duration": 9,
    "start_time": "2022-04-25T18:39:12.761Z"
   },
   {
    "duration": 229,
    "start_time": "2022-04-25T18:39:12.772Z"
   },
   {
    "duration": 12,
    "start_time": "2022-04-25T18:39:13.003Z"
   },
   {
    "duration": 30,
    "start_time": "2022-04-25T18:39:13.017Z"
   },
   {
    "duration": 13,
    "start_time": "2022-04-25T18:39:13.049Z"
   },
   {
    "duration": 9,
    "start_time": "2022-04-25T18:39:13.064Z"
   },
   {
    "duration": 3,
    "start_time": "2022-04-25T18:39:13.075Z"
   },
   {
    "duration": 5,
    "start_time": "2022-04-25T18:39:13.080Z"
   },
   {
    "duration": 22,
    "start_time": "2022-04-25T18:39:13.087Z"
   },
   {
    "duration": 44,
    "start_time": "2022-04-25T18:39:13.111Z"
   },
   {
    "duration": 5,
    "start_time": "2022-04-25T18:39:13.157Z"
   },
   {
    "duration": 6,
    "start_time": "2022-04-25T18:39:13.163Z"
   },
   {
    "duration": 7,
    "start_time": "2022-04-25T18:39:13.170Z"
   },
   {
    "duration": 15,
    "start_time": "2022-04-25T18:39:13.179Z"
   },
   {
    "duration": 9,
    "start_time": "2022-04-25T18:39:13.196Z"
   },
   {
    "duration": 10,
    "start_time": "2022-04-25T18:39:13.206Z"
   },
   {
    "duration": 10,
    "start_time": "2022-04-25T18:39:13.256Z"
   },
   {
    "duration": 9,
    "start_time": "2022-04-25T18:39:13.268Z"
   },
   {
    "duration": 9,
    "start_time": "2022-04-25T18:39:13.281Z"
   },
   {
    "duration": 248,
    "start_time": "2022-04-25T18:47:07.971Z"
   },
   {
    "duration": 236,
    "start_time": "2022-04-25T18:48:48.144Z"
   },
   {
    "duration": 212,
    "start_time": "2022-04-25T18:49:15.850Z"
   },
   {
    "duration": 209,
    "start_time": "2022-04-25T18:50:26.216Z"
   },
   {
    "duration": 115,
    "start_time": "2022-04-25T18:51:47.557Z"
   },
   {
    "duration": 85,
    "start_time": "2022-04-25T18:52:08.089Z"
   },
   {
    "duration": 228,
    "start_time": "2022-04-25T18:52:55.641Z"
   },
   {
    "duration": 373,
    "start_time": "2022-04-25T18:55:23.974Z"
   },
   {
    "duration": 244,
    "start_time": "2022-04-25T18:55:31.030Z"
   },
   {
    "duration": 235,
    "start_time": "2022-04-25T18:55:32.306Z"
   },
   {
    "duration": 10,
    "start_time": "2022-04-25T18:55:35.030Z"
   },
   {
    "duration": 3,
    "start_time": "2022-04-25T18:55:35.546Z"
   },
   {
    "duration": 6,
    "start_time": "2022-04-25T18:55:36.106Z"
   },
   {
    "duration": 22,
    "start_time": "2022-04-25T18:55:37.014Z"
   },
   {
    "duration": 10,
    "start_time": "2022-04-25T18:55:41.913Z"
   },
   {
    "duration": 3,
    "start_time": "2022-04-25T18:55:42.478Z"
   },
   {
    "duration": 4,
    "start_time": "2022-04-25T18:55:43.030Z"
   },
   {
    "duration": 5,
    "start_time": "2022-04-25T18:55:43.576Z"
   },
   {
    "duration": 10,
    "start_time": "2022-04-25T18:55:46.286Z"
   },
   {
    "duration": 9,
    "start_time": "2022-04-25T18:55:47.498Z"
   },
   {
    "duration": 8,
    "start_time": "2022-04-25T18:55:55.063Z"
   },
   {
    "duration": 12,
    "start_time": "2022-04-25T18:55:56.443Z"
   },
   {
    "duration": 11,
    "start_time": "2022-04-25T18:56:01.782Z"
   },
   {
    "duration": 10,
    "start_time": "2022-04-25T18:56:02.659Z"
   },
   {
    "duration": 344,
    "start_time": "2022-04-25T19:01:35.249Z"
   },
   {
    "duration": 227,
    "start_time": "2022-04-25T19:01:39.752Z"
   },
   {
    "duration": 235,
    "start_time": "2022-04-25T19:01:41.056Z"
   },
   {
    "duration": 250,
    "start_time": "2022-04-25T19:01:42.135Z"
   },
   {
    "duration": 10,
    "start_time": "2022-04-25T19:01:45.841Z"
   },
   {
    "duration": 3,
    "start_time": "2022-04-25T19:01:46.358Z"
   },
   {
    "duration": 5,
    "start_time": "2022-04-25T19:01:46.885Z"
   },
   {
    "duration": 23,
    "start_time": "2022-04-25T19:01:47.633Z"
   },
   {
    "duration": 10,
    "start_time": "2022-04-25T19:01:48.901Z"
   },
   {
    "duration": 3,
    "start_time": "2022-04-25T19:01:49.453Z"
   },
   {
    "duration": 4,
    "start_time": "2022-04-25T19:01:49.997Z"
   },
   {
    "duration": 5,
    "start_time": "2022-04-25T19:01:50.541Z"
   },
   {
    "duration": 10,
    "start_time": "2022-04-25T19:01:51.861Z"
   },
   {
    "duration": 9,
    "start_time": "2022-04-25T19:01:52.377Z"
   },
   {
    "duration": 9,
    "start_time": "2022-04-25T19:01:57.589Z"
   },
   {
    "duration": 10,
    "start_time": "2022-04-25T19:01:59.072Z"
   },
   {
    "duration": 9,
    "start_time": "2022-04-25T19:02:03.349Z"
   },
   {
    "duration": 10,
    "start_time": "2022-04-25T19:02:04.597Z"
   },
   {
    "duration": 3,
    "start_time": "2022-04-25T19:08:19.725Z"
   },
   {
    "duration": 38,
    "start_time": "2022-04-25T19:08:19.730Z"
   },
   {
    "duration": 16,
    "start_time": "2022-04-25T19:08:19.769Z"
   },
   {
    "duration": 5,
    "start_time": "2022-04-25T19:08:19.787Z"
   },
   {
    "duration": 56,
    "start_time": "2022-04-25T19:08:19.794Z"
   },
   {
    "duration": 16,
    "start_time": "2022-04-25T19:08:19.852Z"
   },
   {
    "duration": 6,
    "start_time": "2022-04-25T19:08:19.869Z"
   },
   {
    "duration": 6,
    "start_time": "2022-04-25T19:08:19.877Z"
   },
   {
    "duration": 14,
    "start_time": "2022-04-25T19:08:19.885Z"
   },
   {
    "duration": 57,
    "start_time": "2022-04-25T19:08:19.901Z"
   },
   {
    "duration": 8,
    "start_time": "2022-04-25T19:08:19.960Z"
   },
   {
    "duration": 15,
    "start_time": "2022-04-25T19:08:19.970Z"
   },
   {
    "duration": 6,
    "start_time": "2022-04-25T19:08:19.989Z"
   },
   {
    "duration": 52,
    "start_time": "2022-04-25T19:08:19.997Z"
   },
   {
    "duration": 11,
    "start_time": "2022-04-25T19:08:20.050Z"
   },
   {
    "duration": 10,
    "start_time": "2022-04-25T19:08:20.062Z"
   },
   {
    "duration": 5,
    "start_time": "2022-04-25T19:08:20.074Z"
   },
   {
    "duration": 16,
    "start_time": "2022-04-25T19:08:20.081Z"
   },
   {
    "duration": 4067,
    "start_time": "2022-04-25T19:08:20.098Z"
   },
   {
    "duration": 29,
    "start_time": "2022-04-25T19:08:24.167Z"
   },
   {
    "duration": 6,
    "start_time": "2022-04-25T19:08:24.198Z"
   },
   {
    "duration": 299,
    "start_time": "2022-04-25T19:08:24.205Z"
   },
   {
    "duration": 7,
    "start_time": "2022-04-25T19:08:24.506Z"
   },
   {
    "duration": 11,
    "start_time": "2022-04-25T19:08:24.514Z"
   },
   {
    "duration": 23,
    "start_time": "2022-04-25T19:08:24.527Z"
   },
   {
    "duration": 13,
    "start_time": "2022-04-25T19:08:24.552Z"
   },
   {
    "duration": 320,
    "start_time": "2022-04-25T19:08:24.566Z"
   },
   {
    "duration": 21,
    "start_time": "2022-04-25T19:08:24.887Z"
   },
   {
    "duration": 4,
    "start_time": "2022-04-25T19:08:24.910Z"
   },
   {
    "duration": 34,
    "start_time": "2022-04-25T19:08:24.915Z"
   },
   {
    "duration": 13,
    "start_time": "2022-04-25T19:08:24.951Z"
   },
   {
    "duration": 3,
    "start_time": "2022-04-25T19:08:24.966Z"
   },
   {
    "duration": 4,
    "start_time": "2022-04-25T19:08:24.970Z"
   },
   {
    "duration": 3,
    "start_time": "2022-04-25T19:08:24.976Z"
   },
   {
    "duration": 10,
    "start_time": "2022-04-25T19:08:24.980Z"
   },
   {
    "duration": 333,
    "start_time": "2022-04-25T19:08:24.991Z"
   },
   {
    "duration": 224,
    "start_time": "2022-04-25T19:08:25.327Z"
   },
   {
    "duration": 8,
    "start_time": "2022-04-25T19:08:25.553Z"
   },
   {
    "duration": 3,
    "start_time": "2022-04-25T19:08:25.563Z"
   },
   {
    "duration": 5,
    "start_time": "2022-04-25T19:08:25.568Z"
   },
   {
    "duration": 12,
    "start_time": "2022-04-25T19:08:25.575Z"
   },
   {
    "duration": 239,
    "start_time": "2022-04-25T19:08:25.588Z"
   },
   {
    "duration": 22,
    "start_time": "2022-04-25T19:08:25.829Z"
   },
   {
    "duration": 8,
    "start_time": "2022-04-25T19:08:25.852Z"
   },
   {
    "duration": 250,
    "start_time": "2022-04-25T19:08:25.861Z"
   },
   {
    "duration": 425,
    "start_time": "2022-04-25T19:08:26.113Z"
   },
   {
    "duration": 227,
    "start_time": "2022-04-25T19:08:26.547Z"
   },
   {
    "duration": 9,
    "start_time": "2022-04-25T19:08:26.775Z"
   },
   {
    "duration": 2,
    "start_time": "2022-04-25T19:08:26.786Z"
   },
   {
    "duration": 6,
    "start_time": "2022-04-25T19:08:26.789Z"
   },
   {
    "duration": 20,
    "start_time": "2022-04-25T19:08:26.796Z"
   },
   {
    "duration": 39,
    "start_time": "2022-04-25T19:08:26.817Z"
   },
   {
    "duration": 3,
    "start_time": "2022-04-25T19:08:26.857Z"
   },
   {
    "duration": 6,
    "start_time": "2022-04-25T19:08:26.862Z"
   },
   {
    "duration": 7,
    "start_time": "2022-04-25T19:08:26.869Z"
   },
   {
    "duration": 10,
    "start_time": "2022-04-25T19:08:26.878Z"
   },
   {
    "duration": 9,
    "start_time": "2022-04-25T19:08:26.890Z"
   },
   {
    "duration": 9,
    "start_time": "2022-04-25T19:08:26.900Z"
   },
   {
    "duration": 46,
    "start_time": "2022-04-25T19:08:26.911Z"
   },
   {
    "duration": 10,
    "start_time": "2022-04-25T19:08:26.958Z"
   },
   {
    "duration": 9,
    "start_time": "2022-04-25T19:08:26.970Z"
   },
   {
    "duration": 229,
    "start_time": "2022-04-25T19:08:30.928Z"
   },
   {
    "duration": 10,
    "start_time": "2022-04-25T19:08:32.833Z"
   },
   {
    "duration": 7,
    "start_time": "2022-04-25T19:08:36.088Z"
   },
   {
    "duration": 241,
    "start_time": "2022-04-25T19:08:41.148Z"
   },
   {
    "duration": 246,
    "start_time": "2022-04-25T19:08:42.080Z"
   },
   {
    "duration": 224,
    "start_time": "2022-04-25T19:08:46.352Z"
   },
   {
    "duration": 11,
    "start_time": "2022-04-25T19:08:56.200Z"
   },
   {
    "duration": 3,
    "start_time": "2022-04-25T19:08:56.804Z"
   },
   {
    "duration": 4,
    "start_time": "2022-04-25T19:08:57.357Z"
   },
   {
    "duration": 21,
    "start_time": "2022-04-25T19:08:58.377Z"
   },
   {
    "duration": 10,
    "start_time": "2022-04-25T19:08:59.893Z"
   },
   {
    "duration": 3,
    "start_time": "2022-04-25T19:09:00.506Z"
   },
   {
    "duration": 6,
    "start_time": "2022-04-25T19:09:01.128Z"
   },
   {
    "duration": 5,
    "start_time": "2022-04-25T19:09:01.833Z"
   },
   {
    "duration": 10,
    "start_time": "2022-04-25T19:09:03.468Z"
   },
   {
    "duration": 9,
    "start_time": "2022-04-25T19:09:04.197Z"
   },
   {
    "duration": 10,
    "start_time": "2022-04-25T19:09:09.736Z"
   },
   {
    "duration": 10,
    "start_time": "2022-04-25T19:09:11.460Z"
   },
   {
    "duration": 225,
    "start_time": "2022-04-25T19:14:14.183Z"
   },
   {
    "duration": 218,
    "start_time": "2022-04-25T19:15:15.179Z"
   },
   {
    "duration": 206,
    "start_time": "2022-04-25T19:15:52.023Z"
   },
   {
    "duration": 238,
    "start_time": "2022-04-25T19:15:52.631Z"
   },
   {
    "duration": 10,
    "start_time": "2022-04-25T19:15:55.183Z"
   },
   {
    "duration": 10,
    "start_time": "2022-04-25T19:16:05.475Z"
   },
   {
    "duration": 9,
    "start_time": "2022-04-25T19:16:06.423Z"
   },
   {
    "duration": 9,
    "start_time": "2022-04-25T19:20:08.179Z"
   },
   {
    "duration": 200,
    "start_time": "2022-04-25T19:20:29.223Z"
   },
   {
    "duration": 215,
    "start_time": "2022-04-25T19:21:07.954Z"
   },
   {
    "duration": 259,
    "start_time": "2022-04-25T19:21:09.493Z"
   },
   {
    "duration": 428,
    "start_time": "2022-04-25T19:21:10.691Z"
   },
   {
    "duration": 233,
    "start_time": "2022-04-25T19:27:22.059Z"
   },
   {
    "duration": 7,
    "start_time": "2022-04-25T19:27:30.675Z"
   },
   {
    "duration": 217,
    "start_time": "2022-04-25T19:27:33.590Z"
   },
   {
    "duration": 220,
    "start_time": "2022-04-25T19:27:34.466Z"
   },
   {
    "duration": 245,
    "start_time": "2022-04-25T19:27:35.502Z"
   },
   {
    "duration": 3,
    "start_time": "2022-04-25T19:27:40.099Z"
   },
   {
    "duration": 36,
    "start_time": "2022-04-25T19:27:40.103Z"
   },
   {
    "duration": 15,
    "start_time": "2022-04-25T19:27:40.141Z"
   },
   {
    "duration": 6,
    "start_time": "2022-04-25T19:27:40.157Z"
   },
   {
    "duration": 23,
    "start_time": "2022-04-25T19:27:40.165Z"
   },
   {
    "duration": 14,
    "start_time": "2022-04-25T19:27:40.190Z"
   },
   {
    "duration": 5,
    "start_time": "2022-04-25T19:27:40.205Z"
   },
   {
    "duration": 42,
    "start_time": "2022-04-25T19:27:40.211Z"
   },
   {
    "duration": 17,
    "start_time": "2022-04-25T19:27:40.254Z"
   },
   {
    "duration": 13,
    "start_time": "2022-04-25T19:27:40.272Z"
   },
   {
    "duration": 7,
    "start_time": "2022-04-25T19:27:40.288Z"
   },
   {
    "duration": 52,
    "start_time": "2022-04-25T19:27:40.297Z"
   },
   {
    "duration": 9,
    "start_time": "2022-04-25T19:27:40.351Z"
   },
   {
    "duration": 21,
    "start_time": "2022-04-25T19:27:40.363Z"
   },
   {
    "duration": 15,
    "start_time": "2022-04-25T19:27:40.386Z"
   },
   {
    "duration": 15,
    "start_time": "2022-04-25T19:27:40.403Z"
   },
   {
    "duration": 8,
    "start_time": "2022-04-25T19:27:40.447Z"
   },
   {
    "duration": 27,
    "start_time": "2022-04-25T19:27:40.457Z"
   },
   {
    "duration": 7770,
    "start_time": "2022-04-25T19:27:40.487Z"
   },
   {
    "duration": 45,
    "start_time": "2022-04-25T19:27:48.259Z"
   },
   {
    "duration": 9,
    "start_time": "2022-04-25T19:27:48.306Z"
   },
   {
    "duration": 473,
    "start_time": "2022-04-25T19:27:48.317Z"
   },
   {
    "duration": 10,
    "start_time": "2022-04-25T19:27:48.792Z"
   },
   {
    "duration": 16,
    "start_time": "2022-04-25T19:27:48.804Z"
   },
   {
    "duration": 25,
    "start_time": "2022-04-25T19:27:48.822Z"
   },
   {
    "duration": 20,
    "start_time": "2022-04-25T19:27:48.850Z"
   },
   {
    "duration": 538,
    "start_time": "2022-04-25T19:27:48.872Z"
   },
   {
    "duration": 23,
    "start_time": "2022-04-25T19:27:49.411Z"
   },
   {
    "duration": 5,
    "start_time": "2022-04-25T19:27:49.446Z"
   },
   {
    "duration": 15,
    "start_time": "2022-04-25T19:27:49.453Z"
   },
   {
    "duration": 11,
    "start_time": "2022-04-25T19:27:49.470Z"
   },
   {
    "duration": 3,
    "start_time": "2022-04-25T19:27:49.483Z"
   },
   {
    "duration": 6,
    "start_time": "2022-04-25T19:27:49.488Z"
   },
   {
    "duration": 4,
    "start_time": "2022-04-25T19:27:49.496Z"
   },
   {
    "duration": 11,
    "start_time": "2022-04-25T19:27:49.502Z"
   },
   {
    "duration": 327,
    "start_time": "2022-04-25T19:27:49.548Z"
   },
   {
    "duration": 226,
    "start_time": "2022-04-25T19:27:49.878Z"
   },
   {
    "duration": 9,
    "start_time": "2022-04-25T19:27:50.106Z"
   },
   {
    "duration": 6,
    "start_time": "2022-04-25T19:27:50.116Z"
   },
   {
    "duration": 5,
    "start_time": "2022-04-25T19:27:50.123Z"
   },
   {
    "duration": 20,
    "start_time": "2022-04-25T19:27:50.130Z"
   },
   {
    "duration": 232,
    "start_time": "2022-04-25T19:27:50.152Z"
   },
   {
    "duration": 10,
    "start_time": "2022-04-25T19:27:50.386Z"
   },
   {
    "duration": 9,
    "start_time": "2022-04-25T19:27:50.397Z"
   },
   {
    "duration": 259,
    "start_time": "2022-04-25T19:27:50.407Z"
   },
   {
    "duration": 353,
    "start_time": "2022-04-25T19:27:50.668Z"
   },
   {
    "duration": 377,
    "start_time": "2022-04-25T19:27:51.023Z"
   },
   {
    "duration": 15,
    "start_time": "2022-04-25T19:27:51.402Z"
   },
   {
    "duration": 7,
    "start_time": "2022-04-25T19:27:51.419Z"
   },
   {
    "duration": 20,
    "start_time": "2022-04-25T19:27:51.428Z"
   },
   {
    "duration": 28,
    "start_time": "2022-04-25T19:27:51.450Z"
   },
   {
    "duration": 13,
    "start_time": "2022-04-25T19:27:51.480Z"
   },
   {
    "duration": 4,
    "start_time": "2022-04-25T19:27:51.495Z"
   },
   {
    "duration": 7,
    "start_time": "2022-04-25T19:27:51.501Z"
   },
   {
    "duration": 40,
    "start_time": "2022-04-25T19:27:51.510Z"
   },
   {
    "duration": 15,
    "start_time": "2022-04-25T19:27:51.552Z"
   },
   {
    "duration": 14,
    "start_time": "2022-04-25T19:27:51.569Z"
   },
   {
    "duration": 12,
    "start_time": "2022-04-25T19:27:51.585Z"
   },
   {
    "duration": 10,
    "start_time": "2022-04-25T19:27:51.599Z"
   },
   {
    "duration": 40,
    "start_time": "2022-04-25T19:27:51.611Z"
   },
   {
    "duration": 12,
    "start_time": "2022-04-25T19:27:51.653Z"
   },
   {
    "duration": 307,
    "start_time": "2022-04-25T19:27:52.307Z"
   },
   {
    "duration": 223,
    "start_time": "2022-04-25T19:27:53.283Z"
   },
   {
    "duration": 228,
    "start_time": "2022-04-25T19:27:54.419Z"
   },
   {
    "duration": 10,
    "start_time": "2022-04-25T19:27:58.074Z"
   },
   {
    "duration": 3,
    "start_time": "2022-04-25T19:27:58.691Z"
   },
   {
    "duration": 6,
    "start_time": "2022-04-25T19:27:59.262Z"
   },
   {
    "duration": 26,
    "start_time": "2022-04-25T19:27:59.946Z"
   },
   {
    "duration": 10,
    "start_time": "2022-04-25T19:28:01.284Z"
   },
   {
    "duration": 4,
    "start_time": "2022-04-25T19:28:01.846Z"
   },
   {
    "duration": 5,
    "start_time": "2022-04-25T19:28:02.374Z"
   },
   {
    "duration": 5,
    "start_time": "2022-04-25T19:28:02.935Z"
   },
   {
    "duration": 11,
    "start_time": "2022-04-25T19:28:04.167Z"
   },
   {
    "duration": 9,
    "start_time": "2022-04-25T19:28:04.827Z"
   },
   {
    "duration": 10,
    "start_time": "2022-04-25T19:28:09.631Z"
   },
   {
    "duration": 11,
    "start_time": "2022-04-25T19:28:11.699Z"
   },
   {
    "duration": 10,
    "start_time": "2022-04-25T19:28:23.546Z"
   },
   {
    "duration": 12,
    "start_time": "2022-04-25T19:28:24.994Z"
   },
   {
    "duration": 12,
    "start_time": "2022-04-25T19:40:27.744Z"
   },
   {
    "duration": 78,
    "start_time": "2022-04-25T19:42:50.727Z"
   },
   {
    "duration": 11,
    "start_time": "2022-04-25T19:42:59.215Z"
   },
   {
    "duration": 11,
    "start_time": "2022-04-25T19:44:27.411Z"
   },
   {
    "duration": 12,
    "start_time": "2022-04-25T19:47:55.015Z"
   },
   {
    "duration": 10,
    "start_time": "2022-04-25T19:57:24.450Z"
   },
   {
    "duration": 12,
    "start_time": "2022-04-25T19:57:43.754Z"
   },
   {
    "duration": 9,
    "start_time": "2022-04-25T19:58:21.522Z"
   },
   {
    "duration": 11,
    "start_time": "2022-04-25T19:58:22.822Z"
   },
   {
    "duration": 10,
    "start_time": "2022-04-25T19:58:29.422Z"
   },
   {
    "duration": 11,
    "start_time": "2022-04-25T19:58:30.057Z"
   },
   {
    "duration": 10,
    "start_time": "2022-04-25T19:58:38.154Z"
   },
   {
    "duration": 12,
    "start_time": "2022-04-25T19:58:39.686Z"
   },
   {
    "duration": 11,
    "start_time": "2022-04-25T20:02:57.006Z"
   },
   {
    "duration": 11,
    "start_time": "2022-04-25T20:03:02.082Z"
   },
   {
    "duration": 12,
    "start_time": "2022-04-25T20:03:03.350Z"
   },
   {
    "duration": 11,
    "start_time": "2022-04-25T20:03:13.038Z"
   },
   {
    "duration": 11,
    "start_time": "2022-04-25T20:03:18.514Z"
   },
   {
    "duration": 14,
    "start_time": "2022-04-25T20:03:23.691Z"
   },
   {
    "duration": 14,
    "start_time": "2022-04-25T20:03:24.635Z"
   },
   {
    "duration": 3,
    "start_time": "2022-04-25T20:06:57.531Z"
   },
   {
    "duration": 40,
    "start_time": "2022-04-25T20:06:57.536Z"
   },
   {
    "duration": 15,
    "start_time": "2022-04-25T20:06:57.578Z"
   },
   {
    "duration": 5,
    "start_time": "2022-04-25T20:06:57.595Z"
   },
   {
    "duration": 52,
    "start_time": "2022-04-25T20:06:57.602Z"
   },
   {
    "duration": 14,
    "start_time": "2022-04-25T20:06:57.655Z"
   },
   {
    "duration": 4,
    "start_time": "2022-04-25T20:06:57.670Z"
   },
   {
    "duration": 7,
    "start_time": "2022-04-25T20:06:57.676Z"
   },
   {
    "duration": 14,
    "start_time": "2022-04-25T20:06:57.684Z"
   },
   {
    "duration": 54,
    "start_time": "2022-04-25T20:06:57.699Z"
   },
   {
    "duration": 8,
    "start_time": "2022-04-25T20:06:57.756Z"
   },
   {
    "duration": 20,
    "start_time": "2022-04-25T20:06:57.766Z"
   },
   {
    "duration": 9,
    "start_time": "2022-04-25T20:06:57.788Z"
   },
   {
    "duration": 59,
    "start_time": "2022-04-25T20:06:57.799Z"
   },
   {
    "duration": 14,
    "start_time": "2022-04-25T20:06:57.860Z"
   },
   {
    "duration": 14,
    "start_time": "2022-04-25T20:06:57.877Z"
   },
   {
    "duration": 6,
    "start_time": "2022-04-25T20:06:57.893Z"
   },
   {
    "duration": 48,
    "start_time": "2022-04-25T20:06:57.900Z"
   },
   {
    "duration": 4263,
    "start_time": "2022-04-25T20:06:57.950Z"
   },
   {
    "duration": 40,
    "start_time": "2022-04-25T20:07:02.215Z"
   },
   {
    "duration": 7,
    "start_time": "2022-04-25T20:07:02.256Z"
   },
   {
    "duration": 535,
    "start_time": "2022-04-25T20:07:02.265Z"
   },
   {
    "duration": 7,
    "start_time": "2022-04-25T20:07:02.802Z"
   },
   {
    "duration": 12,
    "start_time": "2022-04-25T20:07:02.811Z"
   },
   {
    "duration": 23,
    "start_time": "2022-04-25T20:07:02.825Z"
   },
   {
    "duration": 19,
    "start_time": "2022-04-25T20:07:02.850Z"
   },
   {
    "duration": 334,
    "start_time": "2022-04-25T20:07:02.870Z"
   },
   {
    "duration": 23,
    "start_time": "2022-04-25T20:07:03.206Z"
   },
   {
    "duration": 19,
    "start_time": "2022-04-25T20:07:03.232Z"
   },
   {
    "duration": 16,
    "start_time": "2022-04-25T20:07:03.253Z"
   },
   {
    "duration": 13,
    "start_time": "2022-04-25T20:07:03.271Z"
   },
   {
    "duration": 2,
    "start_time": "2022-04-25T20:07:03.286Z"
   },
   {
    "duration": 7,
    "start_time": "2022-04-25T20:07:03.290Z"
   },
   {
    "duration": 5,
    "start_time": "2022-04-25T20:07:03.299Z"
   },
   {
    "duration": 49,
    "start_time": "2022-04-25T20:07:03.305Z"
   },
   {
    "duration": 336,
    "start_time": "2022-04-25T20:07:03.356Z"
   },
   {
    "duration": 233,
    "start_time": "2022-04-25T20:07:03.694Z"
   },
   {
    "duration": 18,
    "start_time": "2022-04-25T20:07:03.929Z"
   },
   {
    "duration": 4,
    "start_time": "2022-04-25T20:07:03.949Z"
   },
   {
    "duration": 6,
    "start_time": "2022-04-25T20:07:03.954Z"
   },
   {
    "duration": 10,
    "start_time": "2022-04-25T20:07:03.961Z"
   },
   {
    "duration": 239,
    "start_time": "2022-04-25T20:07:03.972Z"
   },
   {
    "duration": 10,
    "start_time": "2022-04-25T20:07:04.213Z"
   },
   {
    "duration": 8,
    "start_time": "2022-04-25T20:07:04.224Z"
   },
   {
    "duration": 220,
    "start_time": "2022-04-25T20:07:04.248Z"
   },
   {
    "duration": 239,
    "start_time": "2022-04-25T20:07:04.470Z"
   },
   {
    "duration": 255,
    "start_time": "2022-04-25T20:07:04.711Z"
   },
   {
    "duration": 10,
    "start_time": "2022-04-25T20:07:04.968Z"
   },
   {
    "duration": 8,
    "start_time": "2022-04-25T20:07:04.980Z"
   },
   {
    "duration": 7,
    "start_time": "2022-04-25T20:07:04.989Z"
   },
   {
    "duration": 50,
    "start_time": "2022-04-25T20:07:04.998Z"
   },
   {
    "duration": 10,
    "start_time": "2022-04-25T20:07:05.049Z"
   },
   {
    "duration": 7,
    "start_time": "2022-04-25T20:07:05.061Z"
   },
   {
    "duration": 7,
    "start_time": "2022-04-25T20:07:05.069Z"
   },
   {
    "duration": 7,
    "start_time": "2022-04-25T20:07:05.078Z"
   },
   {
    "duration": 12,
    "start_time": "2022-04-25T20:07:05.086Z"
   },
   {
    "duration": 11,
    "start_time": "2022-04-25T20:07:05.099Z"
   },
   {
    "duration": 43,
    "start_time": "2022-04-25T20:07:05.112Z"
   },
   {
    "duration": 14,
    "start_time": "2022-04-25T20:07:05.157Z"
   },
   {
    "duration": 10,
    "start_time": "2022-04-25T20:07:05.173Z"
   },
   {
    "duration": 12,
    "start_time": "2022-04-25T20:07:05.184Z"
   },
   {
    "duration": 87,
    "start_time": "2022-04-25T20:07:28.047Z"
   },
   {
    "duration": 4317,
    "start_time": "2022-04-25T20:09:58.059Z"
   },
   {
    "duration": 4,
    "start_time": "2022-04-25T20:14:17.711Z"
   },
   {
    "duration": 59,
    "start_time": "2022-04-25T20:14:17.717Z"
   },
   {
    "duration": 15,
    "start_time": "2022-04-25T20:14:17.778Z"
   },
   {
    "duration": 7,
    "start_time": "2022-04-25T20:14:17.795Z"
   },
   {
    "duration": 63,
    "start_time": "2022-04-25T20:14:17.805Z"
   },
   {
    "duration": 15,
    "start_time": "2022-04-25T20:14:17.870Z"
   },
   {
    "duration": 5,
    "start_time": "2022-04-25T20:14:17.886Z"
   },
   {
    "duration": 7,
    "start_time": "2022-04-25T20:14:17.892Z"
   },
   {
    "duration": 16,
    "start_time": "2022-04-25T20:14:17.900Z"
   },
   {
    "duration": 20,
    "start_time": "2022-04-25T20:14:17.952Z"
   },
   {
    "duration": 7,
    "start_time": "2022-04-25T20:14:17.974Z"
   },
   {
    "duration": 14,
    "start_time": "2022-04-25T20:14:17.984Z"
   },
   {
    "duration": 7,
    "start_time": "2022-04-25T20:14:18.000Z"
   },
   {
    "duration": 44,
    "start_time": "2022-04-25T20:14:18.010Z"
   },
   {
    "duration": 17,
    "start_time": "2022-04-25T20:14:18.056Z"
   },
   {
    "duration": 12,
    "start_time": "2022-04-25T20:14:18.075Z"
   },
   {
    "duration": 6,
    "start_time": "2022-04-25T20:14:18.088Z"
   },
   {
    "duration": 16,
    "start_time": "2022-04-25T20:14:18.096Z"
   },
   {
    "duration": 4715,
    "start_time": "2022-04-25T20:14:18.113Z"
   },
   {
    "duration": 45,
    "start_time": "2022-04-25T20:14:22.830Z"
   },
   {
    "duration": 6,
    "start_time": "2022-04-25T20:14:22.876Z"
   },
   {
    "duration": 327,
    "start_time": "2022-04-25T20:14:22.884Z"
   },
   {
    "duration": 7,
    "start_time": "2022-04-25T20:14:23.213Z"
   },
   {
    "duration": 28,
    "start_time": "2022-04-25T20:14:23.222Z"
   },
   {
    "duration": 8,
    "start_time": "2022-04-25T20:14:23.253Z"
   },
   {
    "duration": 16,
    "start_time": "2022-04-25T20:14:23.263Z"
   },
   {
    "duration": 362,
    "start_time": "2022-04-25T20:14:23.281Z"
   },
   {
    "duration": 30,
    "start_time": "2022-04-25T20:14:23.648Z"
   },
   {
    "duration": 4,
    "start_time": "2022-04-25T20:14:23.679Z"
   },
   {
    "duration": 14,
    "start_time": "2022-04-25T20:14:23.685Z"
   },
   {
    "duration": 10,
    "start_time": "2022-04-25T20:14:23.701Z"
   },
   {
    "duration": 39,
    "start_time": "2022-04-25T20:14:23.712Z"
   },
   {
    "duration": 14,
    "start_time": "2022-04-25T20:14:23.753Z"
   },
   {
    "duration": 6,
    "start_time": "2022-04-25T20:14:23.768Z"
   },
   {
    "duration": 12,
    "start_time": "2022-04-25T20:14:23.775Z"
   },
   {
    "duration": 354,
    "start_time": "2022-04-25T20:14:23.788Z"
   },
   {
    "duration": 318,
    "start_time": "2022-04-25T20:14:24.148Z"
   },
   {
    "duration": 10,
    "start_time": "2022-04-25T20:14:24.467Z"
   },
   {
    "duration": 5,
    "start_time": "2022-04-25T20:14:24.479Z"
   },
   {
    "duration": 6,
    "start_time": "2022-04-25T20:14:24.485Z"
   },
   {
    "duration": 12,
    "start_time": "2022-04-25T20:14:24.496Z"
   },
   {
    "duration": 278,
    "start_time": "2022-04-25T20:14:24.510Z"
   },
   {
    "duration": 10,
    "start_time": "2022-04-25T20:14:24.790Z"
   },
   {
    "duration": 8,
    "start_time": "2022-04-25T20:14:24.801Z"
   },
   {
    "duration": 272,
    "start_time": "2022-04-25T20:14:24.810Z"
   },
   {
    "duration": 248,
    "start_time": "2022-04-25T20:14:25.084Z"
   },
   {
    "duration": 278,
    "start_time": "2022-04-25T20:14:25.334Z"
   },
   {
    "duration": 16,
    "start_time": "2022-04-25T20:14:25.615Z"
   },
   {
    "duration": 307,
    "start_time": "2022-04-25T20:14:25.633Z"
   },
   {
    "duration": 20,
    "start_time": "2022-04-25T20:14:25.943Z"
   },
   {
    "duration": 35,
    "start_time": "2022-04-25T20:14:25.965Z"
   },
   {
    "duration": 17,
    "start_time": "2022-04-25T20:14:26.002Z"
   },
   {
    "duration": 5,
    "start_time": "2022-04-25T20:14:26.021Z"
   },
   {
    "duration": 23,
    "start_time": "2022-04-25T20:14:26.028Z"
   },
   {
    "duration": 18,
    "start_time": "2022-04-25T20:14:26.053Z"
   },
   {
    "duration": 19,
    "start_time": "2022-04-25T20:14:26.073Z"
   },
   {
    "duration": 14,
    "start_time": "2022-04-25T20:14:26.094Z"
   },
   {
    "duration": 12,
    "start_time": "2022-04-25T20:14:26.110Z"
   },
   {
    "duration": 34,
    "start_time": "2022-04-25T20:14:26.123Z"
   },
   {
    "duration": 14,
    "start_time": "2022-04-25T20:14:26.159Z"
   },
   {
    "duration": 11,
    "start_time": "2022-04-25T20:14:26.175Z"
   },
   {
    "duration": 17,
    "start_time": "2022-04-25T20:14:28.000Z"
   },
   {
    "duration": 4,
    "start_time": "2022-04-25T20:14:28.493Z"
   },
   {
    "duration": 31,
    "start_time": "2022-04-25T20:14:30.044Z"
   },
   {
    "duration": 14,
    "start_time": "2022-04-25T20:14:31.615Z"
   },
   {
    "duration": 5,
    "start_time": "2022-04-25T20:14:33.275Z"
   },
   {
    "duration": 4,
    "start_time": "2022-04-25T20:14:34.406Z"
   },
   {
    "duration": 14,
    "start_time": "2022-04-25T20:14:35.004Z"
   },
   {
    "duration": 12,
    "start_time": "2022-04-25T20:14:35.645Z"
   },
   {
    "duration": 8,
    "start_time": "2022-04-25T20:14:36.775Z"
   },
   {
    "duration": 11,
    "start_time": "2022-04-25T20:14:37.947Z"
   },
   {
    "duration": 10,
    "start_time": "2022-04-25T20:14:39.211Z"
   },
   {
    "duration": 22,
    "start_time": "2022-04-25T20:14:40.931Z"
   },
   {
    "duration": 15,
    "start_time": "2022-04-25T20:14:42.427Z"
   },
   {
    "duration": 18,
    "start_time": "2022-04-25T20:14:43.415Z"
   },
   {
    "duration": 8,
    "start_time": "2022-04-25T20:14:45.172Z"
   },
   {
    "duration": 16,
    "start_time": "2022-04-25T20:14:46.931Z"
   },
   {
    "duration": 4597,
    "start_time": "2022-04-25T20:14:49.099Z"
   },
   {
    "duration": 34,
    "start_time": "2022-04-25T20:14:53.698Z"
   },
   {
    "duration": 11,
    "start_time": "2022-04-25T20:14:53.747Z"
   },
   {
    "duration": 350,
    "start_time": "2022-04-25T20:14:55.016Z"
   },
   {
    "duration": 8,
    "start_time": "2022-04-25T20:15:00.171Z"
   },
   {
    "duration": 12,
    "start_time": "2022-04-25T20:15:00.923Z"
   },
   {
    "duration": 6,
    "start_time": "2022-04-25T20:15:01.543Z"
   },
   {
    "duration": 22,
    "start_time": "2022-04-25T20:15:02.323Z"
   },
   {
    "duration": 676,
    "start_time": "2022-04-25T20:15:03.229Z"
   },
   {
    "duration": 30,
    "start_time": "2022-04-25T20:15:08.235Z"
   },
   {
    "duration": 5,
    "start_time": "2022-04-25T20:15:08.935Z"
   },
   {
    "duration": 15,
    "start_time": "2022-04-25T20:15:09.759Z"
   },
   {
    "duration": 15,
    "start_time": "2022-04-25T20:15:10.531Z"
   },
   {
    "duration": 4,
    "start_time": "2022-04-25T20:15:11.322Z"
   },
   {
    "duration": 5,
    "start_time": "2022-04-25T20:15:11.862Z"
   },
   {
    "duration": 3,
    "start_time": "2022-04-25T20:15:12.379Z"
   },
   {
    "duration": 11,
    "start_time": "2022-04-25T20:15:12.883Z"
   },
   {
    "duration": 361,
    "start_time": "2022-04-25T20:15:13.627Z"
   },
   {
    "duration": 388,
    "start_time": "2022-04-25T20:15:16.236Z"
   },
   {
    "duration": 13,
    "start_time": "2022-04-25T20:15:19.824Z"
   },
   {
    "duration": 4,
    "start_time": "2022-04-25T20:15:20.339Z"
   },
   {
    "duration": 4,
    "start_time": "2022-04-25T20:15:20.811Z"
   },
   {
    "duration": 8,
    "start_time": "2022-04-25T20:15:21.415Z"
   },
   {
    "duration": 328,
    "start_time": "2022-04-25T20:15:23.302Z"
   },
   {
    "duration": 12,
    "start_time": "2022-04-25T20:15:24.883Z"
   },
   {
    "duration": 7,
    "start_time": "2022-04-25T20:15:25.735Z"
   },
   {
    "duration": 248,
    "start_time": "2022-04-25T20:15:29.627Z"
   },
   {
    "duration": 299,
    "start_time": "2022-04-25T20:15:30.191Z"
   },
   {
    "duration": 285,
    "start_time": "2022-04-25T20:15:30.835Z"
   },
   {
    "duration": 15,
    "start_time": "2022-04-25T20:15:37.219Z"
   },
   {
    "duration": 4,
    "start_time": "2022-04-25T20:15:37.665Z"
   },
   {
    "duration": 6,
    "start_time": "2022-04-25T20:15:38.103Z"
   },
   {
    "duration": 29,
    "start_time": "2022-04-25T20:15:38.562Z"
   },
   {
    "duration": 15,
    "start_time": "2022-04-25T20:15:39.719Z"
   },
   {
    "duration": 5,
    "start_time": "2022-04-25T20:15:40.171Z"
   },
   {
    "duration": 5,
    "start_time": "2022-04-25T20:15:40.631Z"
   },
   {
    "duration": 5,
    "start_time": "2022-04-25T20:15:41.055Z"
   },
   {
    "duration": 14,
    "start_time": "2022-04-25T20:15:42.143Z"
   },
   {
    "duration": 12,
    "start_time": "2022-04-25T20:15:42.747Z"
   },
   {
    "duration": 9,
    "start_time": "2022-04-25T20:15:46.839Z"
   },
   {
    "duration": 10,
    "start_time": "2022-04-25T20:15:49.119Z"
   },
   {
    "duration": 10,
    "start_time": "2022-04-25T20:15:52.911Z"
   },
   {
    "duration": 14,
    "start_time": "2022-04-25T20:15:53.864Z"
   }
  ],
  "kernelspec": {
   "display_name": "Python 3 (ipykernel)",
   "language": "python",
   "name": "python3"
  },
  "language_info": {
   "codemirror_mode": {
    "name": "ipython",
    "version": 3
   },
   "file_extension": ".py",
   "mimetype": "text/x-python",
   "name": "python",
   "nbconvert_exporter": "python",
   "pygments_lexer": "ipython3",
   "version": "3.9.5"
  },
  "toc": {
   "base_numbering": 1,
   "nav_menu": {},
   "number_sections": true,
   "sideBar": true,
   "skip_h1_title": true,
   "title_cell": "Table of Contents",
   "title_sidebar": "Contents",
   "toc_cell": false,
   "toc_position": {},
   "toc_section_display": true,
   "toc_window_display": false
  }
 },
 "nbformat": 4,
 "nbformat_minor": 2
}
