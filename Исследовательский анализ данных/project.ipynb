{
 "cells": [
  {
   "cell_type": "markdown",
   "metadata": {},
   "source": [
    "# Исследование объявлений о продаже квартир "
   ]
  },
  {
   "cell_type": "markdown",
   "metadata": {},
   "source": [
    "##  Изучение данных из файла"
   ]
  },
  {
   "cell_type": "code",
   "execution_count": 2,
   "metadata": {},
   "outputs": [
    {
     "name": "stdout",
     "output_type": "stream",
     "text": [
      "<class 'pandas.core.frame.DataFrame'>\n",
      "RangeIndex: 23699 entries, 0 to 23698\n",
      "Data columns (total 22 columns):\n",
      " #   Column                Non-Null Count  Dtype  \n",
      "---  ------                --------------  -----  \n",
      " 0   total_images          23699 non-null  int64  \n",
      " 1   last_price            23699 non-null  float64\n",
      " 2   total_area            23699 non-null  float64\n",
      " 3   first_day_exposition  23699 non-null  object \n",
      " 4   rooms                 23699 non-null  int64  \n",
      " 5   ceiling_height        14504 non-null  float64\n",
      " 6   floors_total          23613 non-null  float64\n",
      " 7   living_area           21796 non-null  float64\n",
      " 8   floor                 23699 non-null  int64  \n",
      " 9   is_apartment          2775 non-null   object \n",
      " 10  studio                23699 non-null  bool   \n",
      " 11  open_plan             23699 non-null  bool   \n",
      " 12  kitchen_area          21421 non-null  float64\n",
      " 13  balcony               12180 non-null  float64\n",
      " 14  locality_name         23650 non-null  object \n",
      " 15  airports_nearest      18157 non-null  float64\n",
      " 16  cityCenters_nearest   18180 non-null  float64\n",
      " 17  parks_around3000      18181 non-null  float64\n",
      " 18  parks_nearest         8079 non-null   float64\n",
      " 19  ponds_around3000      18181 non-null  float64\n",
      " 20  ponds_nearest         9110 non-null   float64\n",
      " 21  days_exposition       20518 non-null  float64\n",
      "dtypes: bool(2), float64(14), int64(3), object(3)\n",
      "memory usage: 3.7+ MB\n"
     ]
    }
   ],
   "source": [
    "import pandas as pd\n",
    "%matplotlib inline\n",
    "import matplotlib.pyplot as plt\n",
    "import seaborn as sns\n",
    "sns.set()\n",
    "pd.options.display.float_format = '{:,.2f}'.format\n",
    "pd.options.display.max_columns = 100\n",
    "data = pd.read_csv('/datasets/real_estate_data.csv',sep='\\t')\n",
    "data.info()"
   ]
  },
  {
   "cell_type": "code",
   "execution_count": 3,
   "metadata": {},
   "outputs": [
    {
     "data": {
      "text/html": [
       "<div>\n",
       "<style scoped>\n",
       "    .dataframe tbody tr th:only-of-type {\n",
       "        vertical-align: middle;\n",
       "    }\n",
       "\n",
       "    .dataframe tbody tr th {\n",
       "        vertical-align: top;\n",
       "    }\n",
       "\n",
       "    .dataframe thead th {\n",
       "        text-align: right;\n",
       "    }\n",
       "</style>\n",
       "<table border=\"1\" class=\"dataframe\">\n",
       "  <thead>\n",
       "    <tr style=\"text-align: right;\">\n",
       "      <th></th>\n",
       "      <th>total_images</th>\n",
       "      <th>last_price</th>\n",
       "      <th>total_area</th>\n",
       "      <th>rooms</th>\n",
       "      <th>ceiling_height</th>\n",
       "      <th>floors_total</th>\n",
       "      <th>living_area</th>\n",
       "      <th>floor</th>\n",
       "      <th>kitchen_area</th>\n",
       "      <th>balcony</th>\n",
       "      <th>airports_nearest</th>\n",
       "      <th>cityCenters_nearest</th>\n",
       "      <th>parks_around3000</th>\n",
       "      <th>parks_nearest</th>\n",
       "      <th>ponds_around3000</th>\n",
       "      <th>ponds_nearest</th>\n",
       "      <th>days_exposition</th>\n",
       "    </tr>\n",
       "  </thead>\n",
       "  <tbody>\n",
       "    <tr>\n",
       "      <th>count</th>\n",
       "      <td>23,699.00</td>\n",
       "      <td>23,699.00</td>\n",
       "      <td>23,699.00</td>\n",
       "      <td>23,699.00</td>\n",
       "      <td>14,504.00</td>\n",
       "      <td>23,613.00</td>\n",
       "      <td>21,796.00</td>\n",
       "      <td>23,699.00</td>\n",
       "      <td>21,421.00</td>\n",
       "      <td>12,180.00</td>\n",
       "      <td>18,157.00</td>\n",
       "      <td>18,180.00</td>\n",
       "      <td>18,181.00</td>\n",
       "      <td>8,079.00</td>\n",
       "      <td>18,181.00</td>\n",
       "      <td>9,110.00</td>\n",
       "      <td>20,518.00</td>\n",
       "    </tr>\n",
       "    <tr>\n",
       "      <th>mean</th>\n",
       "      <td>9.86</td>\n",
       "      <td>6,541,548.77</td>\n",
       "      <td>60.35</td>\n",
       "      <td>2.07</td>\n",
       "      <td>2.77</td>\n",
       "      <td>10.67</td>\n",
       "      <td>34.46</td>\n",
       "      <td>5.89</td>\n",
       "      <td>10.57</td>\n",
       "      <td>1.15</td>\n",
       "      <td>28,793.67</td>\n",
       "      <td>14,191.28</td>\n",
       "      <td>0.61</td>\n",
       "      <td>490.80</td>\n",
       "      <td>0.77</td>\n",
       "      <td>517.98</td>\n",
       "      <td>180.89</td>\n",
       "    </tr>\n",
       "    <tr>\n",
       "      <th>std</th>\n",
       "      <td>5.68</td>\n",
       "      <td>10,887,013.27</td>\n",
       "      <td>35.65</td>\n",
       "      <td>1.08</td>\n",
       "      <td>1.26</td>\n",
       "      <td>6.60</td>\n",
       "      <td>22.03</td>\n",
       "      <td>4.89</td>\n",
       "      <td>5.91</td>\n",
       "      <td>1.07</td>\n",
       "      <td>12,630.88</td>\n",
       "      <td>8,608.39</td>\n",
       "      <td>0.80</td>\n",
       "      <td>342.32</td>\n",
       "      <td>0.94</td>\n",
       "      <td>277.72</td>\n",
       "      <td>219.73</td>\n",
       "    </tr>\n",
       "    <tr>\n",
       "      <th>min</th>\n",
       "      <td>0.00</td>\n",
       "      <td>12,190.00</td>\n",
       "      <td>12.00</td>\n",
       "      <td>0.00</td>\n",
       "      <td>1.00</td>\n",
       "      <td>1.00</td>\n",
       "      <td>2.00</td>\n",
       "      <td>1.00</td>\n",
       "      <td>1.30</td>\n",
       "      <td>0.00</td>\n",
       "      <td>0.00</td>\n",
       "      <td>181.00</td>\n",
       "      <td>0.00</td>\n",
       "      <td>1.00</td>\n",
       "      <td>0.00</td>\n",
       "      <td>13.00</td>\n",
       "      <td>1.00</td>\n",
       "    </tr>\n",
       "    <tr>\n",
       "      <th>25%</th>\n",
       "      <td>6.00</td>\n",
       "      <td>3,400,000.00</td>\n",
       "      <td>40.00</td>\n",
       "      <td>1.00</td>\n",
       "      <td>2.52</td>\n",
       "      <td>5.00</td>\n",
       "      <td>18.60</td>\n",
       "      <td>2.00</td>\n",
       "      <td>7.00</td>\n",
       "      <td>0.00</td>\n",
       "      <td>18,585.00</td>\n",
       "      <td>9,238.00</td>\n",
       "      <td>0.00</td>\n",
       "      <td>288.00</td>\n",
       "      <td>0.00</td>\n",
       "      <td>294.00</td>\n",
       "      <td>45.00</td>\n",
       "    </tr>\n",
       "    <tr>\n",
       "      <th>50%</th>\n",
       "      <td>9.00</td>\n",
       "      <td>4,650,000.00</td>\n",
       "      <td>52.00</td>\n",
       "      <td>2.00</td>\n",
       "      <td>2.65</td>\n",
       "      <td>9.00</td>\n",
       "      <td>30.00</td>\n",
       "      <td>4.00</td>\n",
       "      <td>9.10</td>\n",
       "      <td>1.00</td>\n",
       "      <td>26,726.00</td>\n",
       "      <td>13,098.50</td>\n",
       "      <td>0.00</td>\n",
       "      <td>455.00</td>\n",
       "      <td>1.00</td>\n",
       "      <td>502.00</td>\n",
       "      <td>95.00</td>\n",
       "    </tr>\n",
       "    <tr>\n",
       "      <th>75%</th>\n",
       "      <td>14.00</td>\n",
       "      <td>6,800,000.00</td>\n",
       "      <td>69.90</td>\n",
       "      <td>3.00</td>\n",
       "      <td>2.80</td>\n",
       "      <td>16.00</td>\n",
       "      <td>42.30</td>\n",
       "      <td>8.00</td>\n",
       "      <td>12.00</td>\n",
       "      <td>2.00</td>\n",
       "      <td>37,273.00</td>\n",
       "      <td>16,293.00</td>\n",
       "      <td>1.00</td>\n",
       "      <td>612.00</td>\n",
       "      <td>1.00</td>\n",
       "      <td>729.00</td>\n",
       "      <td>232.00</td>\n",
       "    </tr>\n",
       "    <tr>\n",
       "      <th>max</th>\n",
       "      <td>50.00</td>\n",
       "      <td>763,000,000.00</td>\n",
       "      <td>900.00</td>\n",
       "      <td>19.00</td>\n",
       "      <td>100.00</td>\n",
       "      <td>60.00</td>\n",
       "      <td>409.70</td>\n",
       "      <td>33.00</td>\n",
       "      <td>112.00</td>\n",
       "      <td>5.00</td>\n",
       "      <td>84,869.00</td>\n",
       "      <td>65,968.00</td>\n",
       "      <td>3.00</td>\n",
       "      <td>3,190.00</td>\n",
       "      <td>3.00</td>\n",
       "      <td>1,344.00</td>\n",
       "      <td>1,580.00</td>\n",
       "    </tr>\n",
       "  </tbody>\n",
       "</table>\n",
       "</div>"
      ],
      "text/plain": [
       "       total_images     last_price  total_area     rooms  ceiling_height  \\\n",
       "count     23,699.00      23,699.00   23,699.00 23,699.00       14,504.00   \n",
       "mean           9.86   6,541,548.77       60.35      2.07            2.77   \n",
       "std            5.68  10,887,013.27       35.65      1.08            1.26   \n",
       "min            0.00      12,190.00       12.00      0.00            1.00   \n",
       "25%            6.00   3,400,000.00       40.00      1.00            2.52   \n",
       "50%            9.00   4,650,000.00       52.00      2.00            2.65   \n",
       "75%           14.00   6,800,000.00       69.90      3.00            2.80   \n",
       "max           50.00 763,000,000.00      900.00     19.00          100.00   \n",
       "\n",
       "       floors_total  living_area     floor  kitchen_area   balcony  \\\n",
       "count     23,613.00    21,796.00 23,699.00     21,421.00 12,180.00   \n",
       "mean          10.67        34.46      5.89         10.57      1.15   \n",
       "std            6.60        22.03      4.89          5.91      1.07   \n",
       "min            1.00         2.00      1.00          1.30      0.00   \n",
       "25%            5.00        18.60      2.00          7.00      0.00   \n",
       "50%            9.00        30.00      4.00          9.10      1.00   \n",
       "75%           16.00        42.30      8.00         12.00      2.00   \n",
       "max           60.00       409.70     33.00        112.00      5.00   \n",
       "\n",
       "       airports_nearest  cityCenters_nearest  parks_around3000  parks_nearest  \\\n",
       "count         18,157.00            18,180.00         18,181.00       8,079.00   \n",
       "mean          28,793.67            14,191.28              0.61         490.80   \n",
       "std           12,630.88             8,608.39              0.80         342.32   \n",
       "min                0.00               181.00              0.00           1.00   \n",
       "25%           18,585.00             9,238.00              0.00         288.00   \n",
       "50%           26,726.00            13,098.50              0.00         455.00   \n",
       "75%           37,273.00            16,293.00              1.00         612.00   \n",
       "max           84,869.00            65,968.00              3.00       3,190.00   \n",
       "\n",
       "       ponds_around3000  ponds_nearest  days_exposition  \n",
       "count         18,181.00       9,110.00        20,518.00  \n",
       "mean               0.77         517.98           180.89  \n",
       "std                0.94         277.72           219.73  \n",
       "min                0.00          13.00             1.00  \n",
       "25%                0.00         294.00            45.00  \n",
       "50%                1.00         502.00            95.00  \n",
       "75%                1.00         729.00           232.00  \n",
       "max                3.00       1,344.00         1,580.00  "
      ]
     },
     "execution_count": 3,
     "metadata": {},
     "output_type": "execute_result"
    }
   ],
   "source": [
    "data.describe()"
   ]
  },
  {
   "cell_type": "markdown",
   "metadata": {},
   "source": [
    "# Вывод"
   ]
  },
  {
   "cell_type": "markdown",
   "metadata": {},
   "source": [
    "В датафрейме 23699 строки,присутствуют пропуски данных, аномальные значения данных, необходимо изменить типы данных некоторых столбцов на числовые, целочисленные или булевые."
   ]
  },
  {
   "cell_type": "markdown",
   "metadata": {},
   "source": [
    "## Предобработка данных"
   ]
  },
  {
   "cell_type": "code",
   "execution_count": 4,
   "metadata": {},
   "outputs": [
    {
     "name": "stdout",
     "output_type": "stream",
     "text": [
      "Index(['total_images', 'last_price', 'total_area', 'first_day_exposition',\n",
      "       'rooms', 'ceiling_height', 'floors_total', 'living_area', 'floor',\n",
      "       'is_apartment', 'studio', 'open_plan', 'kitchen_area', 'balcony',\n",
      "       'locality_name', 'airports_nearest', 'cityCenters_nearest',\n",
      "       'parks_around3000', 'parks_nearest', 'ponds_around3000',\n",
      "       'ponds_nearest', 'days_exposition'],\n",
      "      dtype='object')\n"
     ]
    },
    {
     "data": {
      "text/plain": [
       "count   21,796.00\n",
       "mean        34.46\n",
       "std         22.03\n",
       "min          2.00\n",
       "25%         18.60\n",
       "50%         30.00\n",
       "75%         42.30\n",
       "max        409.70\n",
       "Name: living_area, dtype: float64"
      ]
     },
     "execution_count": 4,
     "metadata": {},
     "output_type": "execute_result"
    },
    {
     "data": {
      "image/png": "[encoded data removed]",
      "text/plain": [
       "<Figure size 432x288 with 1 Axes>"
      ]
     },
     "metadata": {},
     "output_type": "display_data"
    }
   ],
   "source": [
    "print(data.columns)\n",
    "#посмотрим значения в столбцах для выявления нестандартных значений на первый взгляд и ошибок, \n",
    "#все эти столбца оставляем как есть\n",
    "data['total_images'].value_counts()\n",
    "data['ceiling_height'].value_counts()\n",
    "data['floor'].value_counts()\n",
    "data['is_apartment'].value_counts()\n",
    "data['total_area'].value_counts()\n",
    "data['rooms'].value_counts()\n",
    "data['airports_nearest'].value_counts()\n",
    "data['cityCenters_nearest'].value_counts()\n",
    "data['parks_around3000'].value_counts()\n",
    "data['parks_nearest'].value_counts()\n",
    "data['ponds_around3000'].value_counts()\n",
    "\n",
    "#заменим пропуски в days_exposition и заменим тип данных\n",
    "data['days_exposition'] = data['days_exposition'].fillna(0).astype('int')\n",
    "\n",
    "#пропущенные значения в locality_name не будем трогать, причина не понятна\n",
    "data['locality_name'].value_counts()\n",
    "\n",
    "#переведем столбец с датой в формат даты без времени, т.к. время не указано\n",
    "data['first_day_exposition'] = pd.to_datetime(data['first_day_exposition'], format = '%Y-%m-%d')\n",
    "\n",
    "#заменим пропуски в balcony на 0 и изменим тип данных на int\n",
    "data['balcony'].value_counts()\n",
    "data['balcony'] = data['balcony'].fillna(0)\n",
    "data['balcony'] = data['balcony'].astype('int')\n",
    "\n",
    "#посмотрим параметр ceiling_height, видим что есть необоснованно большие значения но пока оставим их как есть,\n",
    "#медиана от среднего отличается не сильно из-за этих выбросов во всей выборке\n",
    "data['ceiling_height'].sort_values().plot(y = 'ceiling_height', kind = 'hist', bins = 30, range=(2,5))\n",
    "data['ceiling_height'].value_counts()\n",
    "data['ceiling_height'].describe()\n",
    "data[data['ceiling_height'] > 4].sort_values('ceiling_height').tail(20)\n",
    "\n",
    "#столбец апартаменты видимо появился не вместе с началом ведения записей, все пропущенные значения заменим на False, \n",
    "#апартаменты появились относительно недавно\n",
    "data['is_apartment'] = data['is_apartment'].fillna(False)\n",
    "\n",
    "#изменим цену на тип int для удобства просмотра\n",
    "data['last_price'] = data['last_price'].astype('int')\n",
    "data['last_price']\n",
    "\n",
    "#посмотрим данные с пропущенными значениями в floors_total- ничего общего между ними нет, оставим как есть\n",
    "data[data['floors_total'].isna()]\n",
    "\n",
    "#living_area слишком много знаков после запятой и есть пропущенные значения, \n",
    "#можно посчитать средний процент жилой площади от всей площади по всей выборке\n",
    "#и высчитать для строк с пропусками жилую площадь как вариант но мы не будем тратить на это время\n",
    "data['living_area'].value_counts()\n",
    "data['living_area'].describe()"
   ]
  },
  {
   "cell_type": "markdown",
   "metadata": {},
   "source": [
    "## Расчёты и добавление результатов в таблицу"
   ]
  },
  {
   "cell_type": "markdown",
   "metadata": {},
   "source": [
    "1. Цена квадратного метра;\n",
    "2. День недели, месяц и год публикации объявления;\n",
    "3. Этаж квартиры; варианты — первый, последний, другой;\n",
    "4. Соотношение жилой и общей площади, а также отношение площади кухни к общей.\n"
   ]
  },
  {
   "cell_type": "code",
   "execution_count": null,
   "metadata": {},
   "outputs": [],
   "source": [
    "# Добавляем столбец со стоимостью квадратного метра (sm_price) и приводим его в целочисленный тип\n",
    "data['sm_price'] = data['last_price'] / data['total_area']\n",
    "data['sm_price'] = data['sm_price'].astype(int)\n",
    "\n",
    "# Добавляем столбцы дня недели, месяца и года\n",
    "data['weekday'] = data['first_day_exposition'].dt.weekday\n",
    "data['month'] = data['first_day_exposition'].dt.month\n",
    "data['year'] = data['first_day_exposition'].dt.year\n",
    "\n",
    "# Создаём функцию для заполнения нового столбца с типом этажа\n",
    "def floor_group(row):\n",
    "    if row['floor'] == 1:\n",
    "        return 'первый'\n",
    "    elif row['floor'] == row['floors_total']:\n",
    "        return 'последний'\n",
    "    else:\n",
    "        return 'другой'\n",
    "data['floor_type'] = data.apply(floor_group, axis=1)\n",
    "\n",
    "# Добавляем столбец с отношением жилой площади к общей (area_ratio), переводим в % и приводим его в целочисленный тип\n",
    "data['area_ratio'] = data['living_area'] / data['total_area'] * 100\n",
    "data['area_ratio'] = data['area_ratio'].fillna(value=0).astype(int)\n",
    "\n",
    "# Добавляем столбец с отношением площади кухни к общей (kitchen_ratio), переводим в % и приводим его в целочисленный тип\n",
    "data['kitchen_ratio'] = data['kitchen_area'] / data['total_area'] * 100\n",
    "data['kitchen_ratio'] = data['kitchen_ratio'].fillna(value=0).astype(int)\n",
    "\n",
    "# Устанавливаем маркер 9999 для пропусков в сроке продажи и приводим к целочисленному типу\n",
    "data['days_exposition'].fillna(9999, inplace=True)\n",
    "data['days_exposition'] = data['days_exposition'].astype(int)"
   ]
  },
  {
   "cell_type": "markdown",
   "metadata": {},
   "source": [
    "## Исследовательский анализ данных"
   ]
  },
  {
   "cell_type": "markdown",
   "metadata": {},
   "source": [
    "###  Изучим следующие параметры: площадь, цена, число комнат, высота потолков"
   ]
  },
  {
   "cell_type": "code",
   "execution_count": 6,
   "metadata": {},
   "outputs": [
    {
     "data": {
      "image/png": "[encoded data removed]",
      "text/plain": [
       "<Figure size 432x288 with 1 Axes>"
      ]
     },
     "metadata": {},
     "output_type": "display_data"
    },
    {
     "name": "stdout",
     "output_type": "stream",
     "text": [
      "Наибольшие по площади варианты:\n",
      "19540   900.00\n",
      "12859   631.20\n",
      "3117    631.00\n",
      "15651   618.00\n",
      "5358    590.00\n",
      "4237    517.00\n",
      "8018    507.00\n",
      "5893    500.00\n",
      "15016   500.00\n",
      "12401   495.00\n",
      "Name: total_area, dtype: float64\n"
     ]
    },
    {
     "data": {
      "image/png": "[encoded data removed]",
      "text/plain": [
       "<Figure size 432x288 with 1 Axes>"
      ]
     },
     "metadata": {},
     "output_type": "display_data"
    },
    {
     "name": "stdout",
     "output_type": "stream",
     "text": [
      "Наибольшие по цене варианты:\n",
      "12971    763000000\n",
      "19540    420000000\n",
      "14706    401300000\n",
      "1436     330000000\n",
      "15651    300000000\n",
      "22831    289238400\n",
      "16461    245000000\n",
      "13749    240000000\n",
      "5893     230000000\n",
      "8900     190870000\n",
      "Name: last_price, dtype: int64\n"
     ]
    }
   ],
   "source": [
    "# Работаем с площадью\n",
    "plt.hist(data['total_area'], bins=30, range=(10,200))\n",
    "plt.title('Площадь квартир')\n",
    "plt.xlabel('Квадратные метры')\n",
    "plt.ylabel('Количество квартир')\n",
    "plt.show()\n",
    "print('Наибольшие по площади варианты:')\n",
    "print(data['total_area'].sort_values(ascending=False).head(10))\n",
    "\n",
    "# Работаем со стоимостью\n",
    "plt.hist(data['last_price'], bins=30, range=(0,20000000))\n",
    "plt.title('Стоимость квартир')\n",
    "plt.xlabel('Стоимость')\n",
    "plt.ylabel('Количество квартир')\n",
    "plt.show()\n",
    "print('Наибольшие по цене варианты:')\n",
    "print(data['last_price'].sort_values(ascending=False).head(10))"
   ]
  },
  {
   "cell_type": "code",
   "execution_count": 7,
   "metadata": {},
   "outputs": [
    {
     "data": {
      "image/png": "[encoded data removed]",
      "text/plain": [
       "<Figure size 432x288 with 1 Axes>"
      ]
     },
     "metadata": {},
     "output_type": "display_data"
    },
    {
     "name": "stdout",
     "output_type": "stream",
     "text": [
      "Наибольшие по числу комнат варианты:\n",
      "14498    19\n",
      "18848    16\n",
      "5358     15\n",
      "20829    14\n",
      "866      14\n",
      "19540    12\n",
      "9688     11\n",
      "648      11\n",
      "18119    10\n",
      "4149     10\n",
      "Name: rooms, dtype: int64\n"
     ]
    },
    {
     "data": {
      "image/png": "[encoded data removed]",
      "text/plain": [
       "<Figure size 432x288 with 1 Axes>"
      ]
     },
     "metadata": {},
     "output_type": "display_data"
    },
    {
     "name": "stdout",
     "output_type": "stream",
     "text": [
      "Наибольшие по высоте потолков варианты:\n",
      "22869   100.00\n",
      "22336    32.00\n",
      "3148     32.00\n",
      "21377    27.50\n",
      "20478    27.00\n",
      "5246     27.00\n",
      "5807     27.00\n",
      "10773    27.00\n",
      "17857    27.00\n",
      "22938    27.00\n",
      "Name: ceiling_height, dtype: float64\n"
     ]
    }
   ],
   "source": [
    "# Работаем с комнатами\n",
    "plt.hist(data['rooms'], bins=7, range=(1,7))\n",
    "plt.title('Комнаты')\n",
    "plt.xlabel('Количество комнат')\n",
    "plt.ylabel('Количество квартир')\n",
    "plt.show()\n",
    "print('Наибольшие по числу комнат варианты:')\n",
    "print(data['rooms'].sort_values(ascending=False).head(10))\n",
    "\n",
    "# Работаем с потолками\n",
    "plt.hist(data.query('(ceiling_height > 2) & (ceiling_height < 4)')['ceiling_height'], bins=20)\n",
    "plt.title('Высота потолков')\n",
    "plt.xlabel('Метры')\n",
    "plt.ylabel('Количество квартир')\n",
    "plt.show()\n",
    "print('Наибольшие по высоте потолков варианты:')\n",
    "print(data['ceiling_height'].sort_values(ascending=False).head(10))\n"
   ]
  },
  {
   "cell_type": "code",
   "execution_count": 8,
   "metadata": {},
   "outputs": [
    {
     "data": {
      "image/png": "[encoded data removed]",
      "text/plain": [
       "<Figure size 432x288 with 1 Axes>"
      ]
     },
     "metadata": {},
     "output_type": "display_data"
    },
    {
     "name": "stdout",
     "output_type": "stream",
     "text": [
      "Наибольшие по площади кухни варианты:\n",
      "19540   112.00\n",
      "20215   107.00\n",
      "2489    100.70\n",
      "5358    100.00\n",
      "16239    93.20\n",
      "16797    93.00\n",
      "10867    87.20\n",
      "4394     77.00\n",
      "492      77.00\n",
      "14644    75.00\n",
      "Name: kitchen_area, dtype: float64\n"
     ]
    },
    {
     "data": {
      "image/png": "[encoded data removed]",
      "text/plain": [
       "<Figure size 432x288 with 1 Axes>"
      ]
     },
     "metadata": {},
     "output_type": "display_data"
    },
    {
     "name": "stdout",
     "output_type": "stream",
     "text": [
      "Наибольшие по жилой площади варианты:\n",
      "19540   409.70\n",
      "5358    409.00\n",
      "12401   347.50\n",
      "4237    332.00\n",
      "12859   322.30\n",
      "660     312.50\n",
      "8018    301.50\n",
      "14088   300.00\n",
      "20273   279.60\n",
      "22494   274.00\n",
      "Name: living_area, dtype: float64\n"
     ]
    },
    {
     "data": {
      "image/png": "[encoded data removed]",
      "text/plain": [
       "<Figure size 432x288 with 1 Axes>"
      ]
     },
     "metadata": {},
     "output_type": "display_data"
    },
    {
     "name": "stdout",
     "output_type": "stream",
     "text": [
      "Наибольшие по цене за квадрат варианты:\n",
      "12971    1907500\n",
      "1436     1736842\n",
      "22831    1542604\n",
      "14706    1000748\n",
      "4996      995983\n",
      "16461     857542\n",
      "4859      848484\n",
      "17172     848484\n",
      "16647     841379\n",
      "17912     813253\n",
      "Name: sm_price, dtype: int64\n"
     ]
    }
   ],
   "source": [
    "# Работаем с площадью кухни\n",
    "plt.hist(data['kitchen_area'], bins=30, range=(0,30))\n",
    "plt.title('Площадь кухни')\n",
    "plt.xlabel('Квадратные метры')\n",
    "plt.ylabel('Количество квартир')\n",
    "plt.show()\n",
    "print('Наибольшие по площади кухни варианты:')\n",
    "print(data['kitchen_area'].sort_values(ascending=False).head(10))\n",
    "\n",
    "# Работаем с жилой площадью\n",
    "plt.hist(data['living_area'], bins=70, range=(10,80))\n",
    "plt.title('Жилая площадь')\n",
    "plt.xlabel('Квадратные метры')\n",
    "plt.ylabel('Количество квартир')\n",
    "plt.show()\n",
    "print('Наибольшие по жилой площади варианты:')\n",
    "print(data['living_area'].sort_values(ascending=False).head(10))\n",
    "\n",
    "# Работаем с ценой за квадрат\n",
    "plt.hist(data['sm_price'], bins=50, range=(0,250000))\n",
    "plt.title('Стоимость квадратного метра')\n",
    "plt.xlabel('Стоимость')\n",
    "plt.ylabel('Количество квартир')\n",
    "plt.show()\n",
    "print('Наибольшие по цене за квадрат варианты:')\n",
    "print(data['sm_price'].sort_values(ascending=False).head(10))"
   ]
  },
  {
   "cell_type": "markdown",
   "metadata": {},
   "source": [
    "# Вывод\n",
    "+ Площадь\n",
    "\n",
    "Большинство квартир - менее 100 квадратных метров, больше площадь практически не встречается. В подборке есть несколько очень больших и странных вариантов с площадью более 200 квадратных метров.\n",
    "Стоимость\n",
    "В основном стоимость квартир - порядка 5 миллионов. Больше 20 миллионов вариантов мало и они выглядят очень странно и некоторые - на порядок дороже.\n",
    " + Комнаты\n",
    " \n",
    "В основном квартиры состоят из 1, 2 и 3 комнат. Есть небольшая доля 4-комнатных квартир. Варианты, где больше 7 комнат выглядят подозрительно. Даже при объединении нескольких квартир в одну это подозрительно. Возможно, это отдельный дом.\n",
    "+ Высота потолков\n",
    "\n",
    "Большинство вариантов имеют высоту потолков от 2,5 до 3 метров. Больше 4 метров высота потолков выглядит подозрительно. Есть значения в 27 метров (высота 9-этажного дома) - это может быть ошибкой данных и реальная высота 2,7 метра.\n",
    "+ Площадь кухни\n",
    "\n",
    "Самые распространённые кухни - от 5 до 15 метров. Больше 20 метров кухни практически не встречаются. Больше 30 - единичные случаи.\n",
    "+ Жилая площадь\n",
    "\n",
    "Самые распространённые варианты с жилой площадью от 10 до 50 метров. После 80 метров встречаются единичные случаи. Два пика графика вызваны, вероятно, тем, что это жилые площади для 1-комнатной, затем для 2-комнатной и после этого для 3-комнатной квартиры.\n",
    "+ Стоимость квадратного метра\n",
    "\n",
    "Имеет нормальное распределение с пиком в районе 100,000. Варианты дороже 250,000 являются единичными.\n",
    "\n"
   ]
  },
  {
   "cell_type": "markdown",
   "metadata": {},
   "source": [
    "### Изучение времени продажи квартиры"
   ]
  },
  {
   "cell_type": "code",
   "execution_count": 116,
   "metadata": {},
   "outputs": [
    {
     "data": {
      "text/plain": [
       "(0.0, 600.0)"
      ]
     },
     "execution_count": 116,
     "metadata": {},
     "output_type": "execute_result"
    },
    {
     "data": {
      "image/png": "[encoded data removed]",
      "text/plain": [
       "<Figure size 720x216 with 1 Axes>"
      ]
     },
     "metadata": {},
     "output_type": "display_data"
    }
   ],
   "source": [
    "#построим гистрограмму количества дней, за которое продавали квартиры, исключим значение 0,видимо они еще продаются..\n",
    "data[data['days_exposition']!=0]['days_exposition'].hist(bins=100, figsize=(10, 3))\n",
    "plt.title(\"Время продажи квартир\")\n",
    "plt.ylabel(\"Колличество\")\n",
    "plt.xlabel(\"Дни\")\n",
    "plt.xlim(0, 600)"
   ]
  },
  {
   "cell_type": "code",
   "execution_count": 117,
   "metadata": {},
   "outputs": [
    {
     "data": {
      "text/plain": [
       "count   18,496.00\n",
       "mean       121.92\n",
       "std        112.05\n",
       "min          1.00\n",
       "25%         40.00\n",
       "50%         82.00\n",
       "75%        175.00\n",
       "max        464.00\n",
       "Name: days_exposition, dtype: float64"
      ]
     },
     "execution_count": 117,
     "metadata": {},
     "output_type": "execute_result"
    }
   ],
   "source": [
    "data[data['days_exposition']!=0]['days_exposition'].describe()"
   ]
  },
  {
   "cell_type": "markdown",
   "metadata": {},
   "source": [
    "## Вывод\n",
    "Медианное время продажи - 82 дня. Среднее время продажи - 122 дня.\n",
    "В основном квартиры продаются за срок в 100 дней.\n",
    "\n",
    "Быстрой продажей можно назвать срок в 40 дней и меньше. Долгой продажей - 175 дней и дольше."
   ]
  },
  {
   "cell_type": "markdown",
   "metadata": {},
   "source": [
    "### Убераем редкие и выбивающиеся значения."
   ]
  },
  {
   "cell_type": "code",
   "execution_count": 10,
   "metadata": {},
   "outputs": [
    {
     "data": {
      "text/html": [
       "<div>\n",
       "<style scoped>\n",
       "    .dataframe tbody tr th:only-of-type {\n",
       "        vertical-align: middle;\n",
       "    }\n",
       "\n",
       "    .dataframe tbody tr th {\n",
       "        vertical-align: top;\n",
       "    }\n",
       "\n",
       "    .dataframe thead th {\n",
       "        text-align: right;\n",
       "    }\n",
       "</style>\n",
       "<table border=\"1\" class=\"dataframe\">\n",
       "  <thead>\n",
       "    <tr style=\"text-align: right;\">\n",
       "      <th></th>\n",
       "      <th>total_images</th>\n",
       "      <th>last_price</th>\n",
       "      <th>total_area</th>\n",
       "      <th>rooms</th>\n",
       "      <th>ceiling_height</th>\n",
       "      <th>floors_total</th>\n",
       "      <th>living_area</th>\n",
       "      <th>floor</th>\n",
       "      <th>kitchen_area</th>\n",
       "      <th>balcony</th>\n",
       "      <th>airports_nearest</th>\n",
       "      <th>cityCenters_nearest</th>\n",
       "      <th>parks_around3000</th>\n",
       "      <th>parks_nearest</th>\n",
       "      <th>ponds_around3000</th>\n",
       "      <th>ponds_nearest</th>\n",
       "      <th>days_exposition</th>\n",
       "      <th>sm_price</th>\n",
       "      <th>weekday</th>\n",
       "      <th>month</th>\n",
       "      <th>year</th>\n",
       "      <th>area_ratio</th>\n",
       "      <th>kitchen_ratio</th>\n",
       "    </tr>\n",
       "  </thead>\n",
       "  <tbody>\n",
       "    <tr>\n",
       "      <th>count</th>\n",
       "      <td>23,699.00</td>\n",
       "      <td>21,638.00</td>\n",
       "      <td>22,459.00</td>\n",
       "      <td>23,699.00</td>\n",
       "      <td>13,676.00</td>\n",
       "      <td>23,613.00</td>\n",
       "      <td>21,023.00</td>\n",
       "      <td>23,699.00</td>\n",
       "      <td>20,219.00</td>\n",
       "      <td>23,699.00</td>\n",
       "      <td>18,157.00</td>\n",
       "      <td>18,180.00</td>\n",
       "      <td>18,181.00</td>\n",
       "      <td>8,079.00</td>\n",
       "      <td>18,181.00</td>\n",
       "      <td>9,110.00</td>\n",
       "      <td>21,677.00</td>\n",
       "      <td>23,699.00</td>\n",
       "      <td>23,699.00</td>\n",
       "      <td>23,699.00</td>\n",
       "      <td>23,699.00</td>\n",
       "      <td>23,699.00</td>\n",
       "      <td>23,699.00</td>\n",
       "    </tr>\n",
       "    <tr>\n",
       "      <th>mean</th>\n",
       "      <td>9.86</td>\n",
       "      <td>4,839,969.75</td>\n",
       "      <td>54.36</td>\n",
       "      <td>2.01</td>\n",
       "      <td>2.68</td>\n",
       "      <td>10.67</td>\n",
       "      <td>31.55</td>\n",
       "      <td>5.89</td>\n",
       "      <td>9.50</td>\n",
       "      <td>0.59</td>\n",
       "      <td>28,793.67</td>\n",
       "      <td>14,191.28</td>\n",
       "      <td>0.61</td>\n",
       "      <td>490.80</td>\n",
       "      <td>0.77</td>\n",
       "      <td>517.98</td>\n",
       "      <td>104.03</td>\n",
       "      <td>99,421.21</td>\n",
       "      <td>2.57</td>\n",
       "      <td>6.40</td>\n",
       "      <td>2,017.37</td>\n",
       "      <td>51.51</td>\n",
       "      <td>16.51</td>\n",
       "    </tr>\n",
       "    <tr>\n",
       "      <th>std</th>\n",
       "      <td>5.68</td>\n",
       "      <td>2,217,341.00</td>\n",
       "      <td>19.39</td>\n",
       "      <td>0.99</td>\n",
       "      <td>0.18</td>\n",
       "      <td>6.60</td>\n",
       "      <td>13.94</td>\n",
       "      <td>4.89</td>\n",
       "      <td>3.13</td>\n",
       "      <td>0.96</td>\n",
       "      <td>12,630.88</td>\n",
       "      <td>8,608.39</td>\n",
       "      <td>0.80</td>\n",
       "      <td>342.32</td>\n",
       "      <td>0.94</td>\n",
       "      <td>277.72</td>\n",
       "      <td>112.14</td>\n",
       "      <td>50,306.81</td>\n",
       "      <td>1.79</td>\n",
       "      <td>3.49</td>\n",
       "      <td>1.04</td>\n",
       "      <td>18.27</td>\n",
       "      <td>8.79</td>\n",
       "    </tr>\n",
       "    <tr>\n",
       "      <th>min</th>\n",
       "      <td>0.00</td>\n",
       "      <td>12,190.00</td>\n",
       "      <td>12.00</td>\n",
       "      <td>0.00</td>\n",
       "      <td>2.20</td>\n",
       "      <td>1.00</td>\n",
       "      <td>2.00</td>\n",
       "      <td>1.00</td>\n",
       "      <td>1.30</td>\n",
       "      <td>0.00</td>\n",
       "      <td>0.00</td>\n",
       "      <td>181.00</td>\n",
       "      <td>0.00</td>\n",
       "      <td>1.00</td>\n",
       "      <td>0.00</td>\n",
       "      <td>13.00</td>\n",
       "      <td>0.00</td>\n",
       "      <td>111.00</td>\n",
       "      <td>0.00</td>\n",
       "      <td>1.00</td>\n",
       "      <td>2,014.00</td>\n",
       "      <td>0.00</td>\n",
       "      <td>0.00</td>\n",
       "    </tr>\n",
       "    <tr>\n",
       "      <th>25%</th>\n",
       "      <td>6.00</td>\n",
       "      <td>3,300,000.00</td>\n",
       "      <td>39.40</td>\n",
       "      <td>1.00</td>\n",
       "      <td>2.50</td>\n",
       "      <td>5.00</td>\n",
       "      <td>18.40</td>\n",
       "      <td>2.00</td>\n",
       "      <td>7.00</td>\n",
       "      <td>0.00</td>\n",
       "      <td>18,585.00</td>\n",
       "      <td>9,238.00</td>\n",
       "      <td>0.00</td>\n",
       "      <td>288.00</td>\n",
       "      <td>0.00</td>\n",
       "      <td>294.00</td>\n",
       "      <td>18.00</td>\n",
       "      <td>76,585.00</td>\n",
       "      <td>1.00</td>\n",
       "      <td>3.00</td>\n",
       "      <td>2,017.00</td>\n",
       "      <td>46.00</td>\n",
       "      <td>12.00</td>\n",
       "    </tr>\n",
       "    <tr>\n",
       "      <th>50%</th>\n",
       "      <td>9.00</td>\n",
       "      <td>4,400,000.00</td>\n",
       "      <td>50.10</td>\n",
       "      <td>2.00</td>\n",
       "      <td>2.64</td>\n",
       "      <td>9.00</td>\n",
       "      <td>30.00</td>\n",
       "      <td>4.00</td>\n",
       "      <td>9.00</td>\n",
       "      <td>0.00</td>\n",
       "      <td>26,726.00</td>\n",
       "      <td>13,098.50</td>\n",
       "      <td>0.00</td>\n",
       "      <td>455.00</td>\n",
       "      <td>1.00</td>\n",
       "      <td>502.00</td>\n",
       "      <td>61.00</td>\n",
       "      <td>95,000.00</td>\n",
       "      <td>3.00</td>\n",
       "      <td>6.00</td>\n",
       "      <td>2,017.00</td>\n",
       "      <td>55.00</td>\n",
       "      <td>16.00</td>\n",
       "    </tr>\n",
       "    <tr>\n",
       "      <th>75%</th>\n",
       "      <td>14.00</td>\n",
       "      <td>6,000,000.00</td>\n",
       "      <td>65.60</td>\n",
       "      <td>3.00</td>\n",
       "      <td>2.76</td>\n",
       "      <td>16.00</td>\n",
       "      <td>41.00</td>\n",
       "      <td>8.00</td>\n",
       "      <td>11.10</td>\n",
       "      <td>1.00</td>\n",
       "      <td>37,273.00</td>\n",
       "      <td>16,293.00</td>\n",
       "      <td>1.00</td>\n",
       "      <td>612.00</td>\n",
       "      <td>1.00</td>\n",
       "      <td>729.00</td>\n",
       "      <td>154.00</td>\n",
       "      <td>114,256.00</td>\n",
       "      <td>4.00</td>\n",
       "      <td>10.00</td>\n",
       "      <td>2,018.00</td>\n",
       "      <td>63.00</td>\n",
       "      <td>22.00</td>\n",
       "    </tr>\n",
       "    <tr>\n",
       "      <th>max</th>\n",
       "      <td>50.00</td>\n",
       "      <td>11,894,400.00</td>\n",
       "      <td>114.60</td>\n",
       "      <td>5.00</td>\n",
       "      <td>3.21</td>\n",
       "      <td>60.00</td>\n",
       "      <td>77.80</td>\n",
       "      <td>33.00</td>\n",
       "      <td>19.45</td>\n",
       "      <td>5.00</td>\n",
       "      <td>84,869.00</td>\n",
       "      <td>65,968.00</td>\n",
       "      <td>3.00</td>\n",
       "      <td>3,190.00</td>\n",
       "      <td>3.00</td>\n",
       "      <td>1,344.00</td>\n",
       "      <td>464.00</td>\n",
       "      <td>1,907,500.00</td>\n",
       "      <td>6.00</td>\n",
       "      <td>12.00</td>\n",
       "      <td>2,019.00</td>\n",
       "      <td>100.00</td>\n",
       "      <td>78.00</td>\n",
       "    </tr>\n",
       "  </tbody>\n",
       "</table>\n",
       "</div>"
      ],
      "text/plain": [
       "       total_images    last_price  total_area     rooms  ceiling_height  \\\n",
       "count     23,699.00     21,638.00   22,459.00 23,699.00       13,676.00   \n",
       "mean           9.86  4,839,969.75       54.36      2.01            2.68   \n",
       "std            5.68  2,217,341.00       19.39      0.99            0.18   \n",
       "min            0.00     12,190.00       12.00      0.00            2.20   \n",
       "25%            6.00  3,300,000.00       39.40      1.00            2.50   \n",
       "50%            9.00  4,400,000.00       50.10      2.00            2.64   \n",
       "75%           14.00  6,000,000.00       65.60      3.00            2.76   \n",
       "max           50.00 11,894,400.00      114.60      5.00            3.21   \n",
       "\n",
       "       floors_total  living_area     floor  kitchen_area   balcony  \\\n",
       "count     23,613.00    21,023.00 23,699.00     20,219.00 23,699.00   \n",
       "mean          10.67        31.55      5.89          9.50      0.59   \n",
       "std            6.60        13.94      4.89          3.13      0.96   \n",
       "min            1.00         2.00      1.00          1.30      0.00   \n",
       "25%            5.00        18.40      2.00          7.00      0.00   \n",
       "50%            9.00        30.00      4.00          9.00      0.00   \n",
       "75%           16.00        41.00      8.00         11.10      1.00   \n",
       "max           60.00        77.80     33.00         19.45      5.00   \n",
       "\n",
       "       airports_nearest  cityCenters_nearest  parks_around3000  parks_nearest  \\\n",
       "count         18,157.00            18,180.00         18,181.00       8,079.00   \n",
       "mean          28,793.67            14,191.28              0.61         490.80   \n",
       "std           12,630.88             8,608.39              0.80         342.32   \n",
       "min                0.00               181.00              0.00           1.00   \n",
       "25%           18,585.00             9,238.00              0.00         288.00   \n",
       "50%           26,726.00            13,098.50              0.00         455.00   \n",
       "75%           37,273.00            16,293.00              1.00         612.00   \n",
       "max           84,869.00            65,968.00              3.00       3,190.00   \n",
       "\n",
       "       ponds_around3000  ponds_nearest  days_exposition     sm_price  \\\n",
       "count         18,181.00       9,110.00        21,677.00    23,699.00   \n",
       "mean               0.77         517.98           104.03    99,421.21   \n",
       "std                0.94         277.72           112.14    50,306.81   \n",
       "min                0.00          13.00             0.00       111.00   \n",
       "25%                0.00         294.00            18.00    76,585.00   \n",
       "50%                1.00         502.00            61.00    95,000.00   \n",
       "75%                1.00         729.00           154.00   114,256.00   \n",
       "max                3.00       1,344.00           464.00 1,907,500.00   \n",
       "\n",
       "        weekday     month      year  area_ratio  kitchen_ratio  \n",
       "count 23,699.00 23,699.00 23,699.00   23,699.00      23,699.00  \n",
       "mean       2.57      6.40  2,017.37       51.51          16.51  \n",
       "std        1.79      3.49      1.04       18.27           8.79  \n",
       "min        0.00      1.00  2,014.00        0.00           0.00  \n",
       "25%        1.00      3.00  2,017.00       46.00          12.00  \n",
       "50%        3.00      6.00  2,017.00       55.00          16.00  \n",
       "75%        4.00     10.00  2,018.00       63.00          22.00  \n",
       "max        6.00     12.00  2,019.00      100.00          78.00  "
      ]
     },
     "execution_count": 10,
     "metadata": {},
     "output_type": "execute_result"
    }
   ],
   "source": [
    "# Функция для подсчёта границ с учетом 1.5 размаха\n",
    "def quartile_range(df, column):\n",
    "    q1 = df[column].quantile(0.25)\n",
    "    q3 = df[column].quantile(0.75)\n",
    "    iqr = q3 - q1\n",
    "    dfq = df.loc[(df[column] < q3 + 1.5*iqr) & (df[column] > q1 - 1.5*iqr), column]\n",
    "    return dfq\n",
    "# Столбцы с выбросами\n",
    "list_features = ['last_price', 'total_area', 'kitchen_area', 'living_area', 'days_exposition', 'ceiling_height', 'rooms']\n",
    "for col in list_features:\n",
    "    data[col] = quartile_range(data, col)\n",
    "\n",
    "# Возвращаем в целочисленный тип число комнат\n",
    "data['rooms'] = data['rooms'].fillna(0).astype(int)\n",
    "\n",
    "# Изучаем, есть ли выбивающиеся значения\n",
    "data.describe()"
   ]
  },
  {
   "cell_type": "markdown",
   "metadata": {},
   "source": [
    "# Вывод\n",
    "В датафрейме отброшены значения на основе 1.5 размаха. Значения получились более адекватны."
   ]
  },
  {
   "cell_type": "markdown",
   "metadata": {},
   "source": [
    "### Определение факторов, влияющих на стоимость квартиры"
   ]
  },
  {
   "cell_type": "code",
   "execution_count": 11,
   "metadata": {},
   "outputs": [
    {
     "data": {
      "image/png": "[encoded data removed]",
      "text/plain": [
       "<Figure size 360x360 with 1 Axes>"
      ]
     },
     "metadata": {},
     "output_type": "display_data"
    },
    {
     "name": "stdout",
     "output_type": "stream",
     "text": [
      "Корреляция цены и площади: \n",
      "\n",
      "            last_price  total_area\n",
      "last_price        1.00        0.91\n",
      "total_area        0.91        1.00 \n",
      "\n"
     ]
    },
    {
     "data": {
      "image/png": "[encoded data removed]",
      "text/plain": [
       "<Figure size 360x360 with 1 Axes>"
      ]
     },
     "metadata": {},
     "output_type": "display_data"
    },
    {
     "name": "stdout",
     "output_type": "stream",
     "text": [
      "Корреляция цены и числа комнат: \n",
      "\n",
      "            last_price  rooms\n",
      "last_price        1.00   0.54\n",
      "rooms             0.54   1.00 \n",
      "\n"
     ]
    },
    {
     "data": {
      "image/png": "[encoded data removed]",
      "text/plain": [
       "<Figure size 360x360 with 1 Axes>"
      ]
     },
     "metadata": {},
     "output_type": "display_data"
    },
    {
     "name": "stdout",
     "output_type": "stream",
     "text": [
      "Корреляция цены и удалённости от центра: \n",
      "\n",
      "                     cityCenters_nearest  last_price\n",
      "cityCenters_nearest                 1.00        0.71\n",
      "last_price                          0.71        1.00 \n",
      "\n"
     ]
    },
    {
     "data": {
      "image/png": "[encoded data removed]",
      "text/plain": [
       "<Figure size 360x360 with 1 Axes>"
      ]
     },
     "metadata": {},
     "output_type": "display_data"
    }
   ],
   "source": [
    "# Зависимость цены от площади\n",
    "(\n",
    "    data.pivot_table(index='total_area', values='last_price')\n",
    "    .plot(grid=True, style='o', figsize=(5, 5))\n",
    ")\n",
    "plt.show()\n",
    "print('Корреляция цены и площади:','\\n')\n",
    "print(data.pivot_table(index='floor', values=['total_area', 'last_price']).corr(),'\\n')\n",
    "\n",
    "# Зависимость цены от числа комнат\n",
    "(\n",
    "    data.query('rooms > 0').pivot_table(index='rooms', values='last_price')\n",
    "    .plot(grid=True, style='o-', figsize=(5, 5))\n",
    ")\n",
    "plt.show()\n",
    "print('Корреляция цены и числа комнат:','\\n')\n",
    "print(data.query('rooms > 0').pivot_table(index='floor', values=['rooms', 'last_price']).corr(),'\\n')\n",
    "\n",
    "# Зависимость цены от удалённости от центра\n",
    "(\n",
    "    data.pivot_table(index='cityCenters_nearest', values='last_price')\n",
    "    .plot(grid=True, style='o', figsize=(5, 5))\n",
    ")\n",
    "plt.show()\n",
    "print('Корреляция цены и удалённости от центра:','\\n')\n",
    "print(data.pivot_table(index='floor', values=['cityCenters_nearest', 'last_price']).corr(),'\\n')\n",
    "\n",
    "# Зависимость цены от этажа\n",
    "(\n",
    "    data.pivot_table(index='floor_type', values='last_price', aggfunc='median')\n",
    "    .plot(grid=True, style='o-', figsize=(5, 5))\n",
    ")\n",
    "plt.show()"
   ]
  },
  {
   "cell_type": "code",
   "execution_count": 12,
   "metadata": {},
   "outputs": [
    {
     "data": {
      "image/png": "[encoded data removed]",
      "text/plain": [
       "<Figure size 360x360 with 1 Axes>"
      ]
     },
     "metadata": {},
     "output_type": "display_data"
    },
    {
     "name": "stdout",
     "output_type": "stream",
     "text": [
      "Корреляция цены за квадрат и площади: \n",
      "\n",
      "            sm_price  total_area\n",
      "sm_price        1.00        0.05\n",
      "total_area      0.05        1.00 \n",
      "\n"
     ]
    },
    {
     "data": {
      "image/png": "[encoded data removed]",
      "text/plain": [
       "<Figure size 360x360 with 1 Axes>"
      ]
     },
     "metadata": {},
     "output_type": "display_data"
    },
    {
     "name": "stdout",
     "output_type": "stream",
     "text": [
      "Корреляция цены за квадрат и числа комнат: \n",
      "\n",
      "          rooms  sm_price\n",
      "rooms      1.00     -0.26\n",
      "sm_price  -0.26      1.00 \n",
      "\n"
     ]
    }
   ],
   "source": [
    "# Зависимость цены за квадрат от площади\n",
    "(\n",
    "    data.pivot_table(index='total_area', values='sm_price')\n",
    "    .plot(grid=True, style='o', figsize=(5, 5))\n",
    ")\n",
    "plt.show()\n",
    "print('Корреляция цены за квадрат и площади:','\\n')\n",
    "print(data.pivot_table(index='floor', values=['total_area', 'sm_price']).corr(),'\\n')\n",
    "\n",
    "# Зависимость цены за квадрат от числа комнат\n",
    "(\n",
    "    data.query('rooms > 0').pivot_table(index='rooms', values='sm_price')\n",
    "    .plot(grid=True, style='o-', figsize=(5, 5))\n",
    ")\n",
    "plt.show()\n",
    "print('Корреляция цены за квадрат и числа комнат:','\\n')\n",
    "print(data.query('rooms > 0').pivot_table(index='floor', values=['rooms', 'sm_price']).corr(),'\\n')\n"
   ]
  },
  {
   "cell_type": "markdown",
   "metadata": {},
   "source": [
    "# Вывод\n",
    "Чем больше площадь, тем выше стоимость. Корреляция этих параметров крайне высокая. Число комнат влияет на цену (больше комнат - больше цена), однако зависимость ниже, чем у площади. Можно сделать два вывода: бывают квартиры с большими по площади комнатами; квартиры в центре состоят из малого числа комнат, но стоимость достаточно высокая.\n",
    "\n",
    "Самые дорогие варианты квартир находятся в центре города, однако в центре также есть и достаточно дешёвые варианты.\n",
    "\n",
    "Первый этаж непосредственно влияет на стоимость квартиры - в среднем квартиры на 1-м этаже значительно дешевле. Чуть дороже последний этаж. Наибольшая стоимость у квартир, расположенных не на 1-м и не на последнем этаже.\n",
    "\n",
    "Цена за квадрат выше у однокомнатных квартир и квартир с 4 и 5 комнатами. Последнее, вероятно, объясняется элитностью недвижимости.\n",
    "\n"
   ]
  },
  {
   "cell_type": "code",
   "execution_count": 13,
   "metadata": {},
   "outputs": [
    {
     "data": {
      "image/png": "[encoded data removed]",
      "text/plain": [
       "<Figure size 360x360 with 1 Axes>"
      ]
     },
     "metadata": {},
     "output_type": "display_data"
    },
    {
     "data": {
      "image/png": "[encoded data removed]",
      "text/plain": [
       "<Figure size 720x360 with 1 Axes>"
      ]
     },
     "metadata": {},
     "output_type": "display_data"
    },
    {
     "data": {
      "image/png": "[encoded data removed]",
      "text/plain": [
       "<Figure size 360x360 with 1 Axes>"
      ]
     },
     "metadata": {},
     "output_type": "display_data"
    }
   ],
   "source": [
    "# Зависимость от дня размещения\n",
    "(\n",
    "    data.pivot_table(index='weekday', values='last_price')\n",
    "    .plot(grid=True, style='o-', figsize=(5, 5))\n",
    ")\n",
    "plt.show()\n",
    "# Зависимость от месяца размещения\n",
    "(\n",
    "    data.pivot_table(index='month', values='last_price')\n",
    "    .plot(ylim=(0, None),grid=True, style='o-', xlim=(1,12), figsize=(10, 5))\n",
    ")\n",
    "plt.show()\n",
    "# Зависимость от года размещения\n",
    "(\n",
    "    data.pivot_table(index='year', values='last_price')\n",
    "    .plot(ylim=(0, None),grid=True, style='o-', figsize=(5, 5))\n",
    ")\n",
    "plt.show()"
   ]
  },
  {
   "cell_type": "markdown",
   "metadata": {},
   "source": [
    "# Вывод\n",
    "Зависимость от дня, месяца и года:\n",
    "+ День недели: дороже всего квартиры, опубликованные в среду, дешевле всего - в субботу.\n",
    "+ Месяц: дороже всего квартиры, продающиеся с апреля, дешевле всего - с июня.\n",
    "+ Год: квартиры очень сильно подешевели в 2016-2018 годах, что, вероятно, вызвано некоторым кризисом 2014-2015 годов. В 2019 году цены снова стали повышаться."
   ]
  },
  {
   "cell_type": "markdown",
   "metadata": {},
   "source": [
    "### Сравнение средней стоимости квадратного метра в топ-10 городов\n"
   ]
  },
  {
   "cell_type": "code",
   "execution_count": 14,
   "metadata": {},
   "outputs": [
    {
     "data": {
      "text/html": [
       "<div>\n",
       "<style scoped>\n",
       "    .dataframe tbody tr th:only-of-type {\n",
       "        vertical-align: middle;\n",
       "    }\n",
       "\n",
       "    .dataframe tbody tr th {\n",
       "        vertical-align: top;\n",
       "    }\n",
       "\n",
       "    .dataframe thead th {\n",
       "        text-align: right;\n",
       "    }\n",
       "</style>\n",
       "<table border=\"1\" class=\"dataframe\">\n",
       "  <thead>\n",
       "    <tr style=\"text-align: right;\">\n",
       "      <th></th>\n",
       "      <th>sm_price</th>\n",
       "    </tr>\n",
       "    <tr>\n",
       "      <th>locality_name</th>\n",
       "      <th></th>\n",
       "    </tr>\n",
       "  </thead>\n",
       "  <tbody>\n",
       "    <tr>\n",
       "      <th>Санкт-Петербург</th>\n",
       "      <td>114848</td>\n",
       "    </tr>\n",
       "    <tr>\n",
       "      <th>Пушкин</th>\n",
       "      <td>103125</td>\n",
       "    </tr>\n",
       "    <tr>\n",
       "      <th>деревня Кудрово</th>\n",
       "      <td>92473</td>\n",
       "    </tr>\n",
       "    <tr>\n",
       "      <th>посёлок Парголово</th>\n",
       "      <td>90175</td>\n",
       "    </tr>\n",
       "    <tr>\n",
       "      <th>посёлок Мурино</th>\n",
       "      <td>85751</td>\n",
       "    </tr>\n",
       "    <tr>\n",
       "      <th>посёлок Шушары</th>\n",
       "      <td>78676</td>\n",
       "    </tr>\n",
       "    <tr>\n",
       "      <th>Колпино</th>\n",
       "      <td>75424</td>\n",
       "    </tr>\n",
       "    <tr>\n",
       "      <th>Гатчина</th>\n",
       "      <td>68745</td>\n",
       "    </tr>\n",
       "    <tr>\n",
       "      <th>Всеволожск</th>\n",
       "      <td>68654</td>\n",
       "    </tr>\n",
       "    <tr>\n",
       "      <th>Выборг</th>\n",
       "      <td>58141</td>\n",
       "    </tr>\n",
       "  </tbody>\n",
       "</table>\n",
       "</div>"
      ],
      "text/plain": [
       "                   sm_price\n",
       "locality_name              \n",
       "Санкт-Петербург      114848\n",
       "Пушкин               103125\n",
       "деревня Кудрово       92473\n",
       "посёлок Парголово     90175\n",
       "посёлок Мурино        85751\n",
       "посёлок Шушары        78676\n",
       "Колпино               75424\n",
       "Гатчина               68745\n",
       "Всеволожск            68654\n",
       "Выборг                58141"
      ]
     },
     "execution_count": 14,
     "metadata": {},
     "output_type": "execute_result"
    }
   ],
   "source": [
    "# Сравниваем среднюю стоимость квадратного метра в топ-10 городов по числу объявлений\n",
    "city_ten = data['locality_name'].value_counts().head(10)\n",
    "city_sm_price = data.query('locality_name in (@city_ten.index)').pivot_table(values='sm_price', index='locality_name')\n",
    "city_sm_price = city_sm_price.astype(int)\n",
    "city_sm_price.sort_values('sm_price', ascending=False)"
   ]
  },
  {
   "cell_type": "markdown",
   "metadata": {},
   "source": [
    "# Вывод\n",
    "Наибольшая средняя стоимость квадратного метра, как и ожидалось, в Санкт-Петербурге. Затем идёт Пушкин, что, вероятно, вызвано хорошей застройкой и большим количеством парков. Затем идут районы, фактически являющиеся Санкт-Петербургом и непосредственно к нему примыкают. Из топ-10 наименьшая стоимость в Гатчине и Всеволожске, из которых далеко ехать до Санкт-Петербурга, а также неболшой по численности населения Выборг, расположенный на большом расстоянии от Санкт-Петербурга."
   ]
  },
  {
   "cell_type": "markdown",
   "metadata": {},
   "source": [
    "### Определяем границу центральной зоны"
   ]
  },
  {
   "cell_type": "code",
   "execution_count": 15,
   "metadata": {},
   "outputs": [
    {
     "data": {
      "image/png": "[encoded data removed]",
      "text/plain": [
       "<Figure size 720x360 with 1 Axes>"
      ]
     },
     "metadata": {},
     "output_type": "display_data"
    }
   ],
   "source": [
    "# Добавляем столбец с расстоянием до центра в км, округляем до целого\n",
    "data['center_km'] = data['cityCenters_nearest'] / 1000\n",
    "data['center_km'] = data['center_km'].fillna(value=0).astype(int)\n",
    "# Выбираем Санкт-Петербург, смотрим на график, где указана средняя стоимость для каждого км\n",
    "(\n",
    "    data.query('locality_name == \"Санкт-Петербург\"')\n",
    "    .pivot_table(index='center_km', values='last_price')\n",
    "    .plot(grid=True, style='o-', xlim=(0,15), figsize=(10, 5))\n",
    ")\n",
    "plt.show()"
   ]
  },
  {
   "cell_type": "markdown",
   "metadata": {},
   "source": [
    "# Вывод\n",
    "Центральная зона в пределах 7 км. Дальше 7 км средняя цена на квартиры резко снижается."
   ]
  },
  {
   "cell_type": "markdown",
   "metadata": {},
   "source": [
    "### Анализ сегмента квартир в центре"
   ]
  },
  {
   "cell_type": "code",
   "execution_count": 16,
   "metadata": {},
   "outputs": [
    {
     "name": "stdout",
     "output_type": "stream",
     "text": [
      "Площадь (медиана): 52 \n",
      "\n",
      "Площадь в центре (медиана): 68 \n",
      "\n",
      "Площадь (среднее): 57 \n",
      "\n",
      "Площадь в центре (среднее): 69 \n",
      "\n"
     ]
    },
    {
     "data": {
      "image/png": "[encoded data removed]",
      "text/plain": [
       "<Figure size 720x720 with 1 Axes>"
      ]
     },
     "metadata": {},
     "output_type": "display_data"
    },
    {
     "name": "stdout",
     "output_type": "stream",
     "text": [
      "Число вариантов с ценой больше 20 млн: 0\n"
     ]
    },
    {
     "data": {
      "image/png": "[encoded data removed]",
      "text/plain": [
       "<Figure size 432x288 with 1 Axes>"
      ]
     },
     "metadata": {},
     "output_type": "display_data"
    },
    {
     "data": {
      "text/html": [
       "<div>\n",
       "<style scoped>\n",
       "    .dataframe tbody tr th:only-of-type {\n",
       "        vertical-align: middle;\n",
       "    }\n",
       "\n",
       "    .dataframe tbody tr th {\n",
       "        vertical-align: top;\n",
       "    }\n",
       "\n",
       "    .dataframe thead th {\n",
       "        text-align: right;\n",
       "    }\n",
       "</style>\n",
       "<table border=\"1\" class=\"dataframe\">\n",
       "  <thead>\n",
       "    <tr style=\"text-align: right;\">\n",
       "      <th></th>\n",
       "      <th>count</th>\n",
       "      <th>rooms_ratio</th>\n",
       "      <th>center_count</th>\n",
       "      <th>center_rooms_ratio</th>\n",
       "      <th>center_cap</th>\n",
       "    </tr>\n",
       "    <tr>\n",
       "      <th>rooms</th>\n",
       "      <th></th>\n",
       "      <th></th>\n",
       "      <th></th>\n",
       "      <th></th>\n",
       "      <th></th>\n",
       "    </tr>\n",
       "  </thead>\n",
       "  <tbody>\n",
       "    <tr>\n",
       "      <th>1</th>\n",
       "      <td>4937</td>\n",
       "      <td>32.01</td>\n",
       "      <td>581</td>\n",
       "      <td>16.18</td>\n",
       "      <td>12.00</td>\n",
       "    </tr>\n",
       "    <tr>\n",
       "      <th>2</th>\n",
       "      <td>5106</td>\n",
       "      <td>33.10</td>\n",
       "      <td>1119</td>\n",
       "      <td>31.17</td>\n",
       "      <td>22.00</td>\n",
       "    </tr>\n",
       "    <tr>\n",
       "      <th>3</th>\n",
       "      <td>4123</td>\n",
       "      <td>26.73</td>\n",
       "      <td>1165</td>\n",
       "      <td>32.45</td>\n",
       "      <td>28.00</td>\n",
       "    </tr>\n",
       "    <tr>\n",
       "      <th>4</th>\n",
       "      <td>968</td>\n",
       "      <td>6.28</td>\n",
       "      <td>504</td>\n",
       "      <td>14.04</td>\n",
       "      <td>52.00</td>\n",
       "    </tr>\n",
       "    <tr>\n",
       "      <th>5</th>\n",
       "      <td>291</td>\n",
       "      <td>1.89</td>\n",
       "      <td>221</td>\n",
       "      <td>6.16</td>\n",
       "      <td>76.00</td>\n",
       "    </tr>\n",
       "  </tbody>\n",
       "</table>\n",
       "</div>"
      ],
      "text/plain": [
       "       count  rooms_ratio  center_count  center_rooms_ratio  center_cap\n",
       "rooms                                                                  \n",
       "1       4937        32.01           581               16.18       12.00\n",
       "2       5106        33.10          1119               31.17       22.00\n",
       "3       4123        26.73          1165               32.45       28.00\n",
       "4        968         6.28           504               14.04       52.00\n",
       "5        291         1.89           221                6.16       76.00"
      ]
     },
     "metadata": {},
     "output_type": "display_data"
    },
    {
     "name": "stdout",
     "output_type": "stream",
     "text": [
      "Высота потолков (медиана): 2.65 \n",
      "\n",
      "Высота потолков в центре (медиана): 3.0 \n",
      "\n",
      "Высота потолков (среднее): 2.7034413431718534 \n",
      "\n",
      "Высота потолков в центре (среднее): 2.904513224535734 \n",
      "\n"
     ]
    }
   ],
   "source": [
    "spb_center = data.query('(locality_name == \"Санкт-Петербург\") & (center_km <= 7)')\n",
    "\n",
    "# Изучаем площадь\n",
    "print('Площадь (медиана):', round(data.query('locality_name == \"Санкт-Петербург\"')['total_area'].median()),'\\n')\n",
    "print('Площадь в центре (медиана):', round(spb_center['total_area'].median()),'\\n')\n",
    "print('Площадь (среднее):', round(data.query('locality_name == \"Санкт-Петербург\"')['total_area'].mean()),'\\n')\n",
    "print('Площадь в центре (среднее):', round(spb_center['total_area'].mean()),'\\n')\n",
    "spb_center['total_area'].hist(bins=30, range=(25,300), figsize=(10,10))\n",
    "plt.show()\n",
    "\n",
    "# Работаем со стоимостью\n",
    "spb_center['last_price'].hist(bins=100)\n",
    "print('Число вариантов с ценой больше 20 млн:', spb_center.query('last_price > 20000000')['last_price'].count())\n",
    "plt.show()\n",
    "\n",
    "# Изучаем число комнат\n",
    "spb_rooms = data.query('(locality_name == \"Санкт-Петербург\") & (rooms > 0)').pivot_table(index='rooms', values='floor', aggfunc='count')\n",
    "spb_rooms.columns = ['count']\n",
    "spb_rooms['rooms_ratio'] = spb_rooms['count'] / spb_rooms['count'].sum() * 100\n",
    "spb_rooms_center = data.query('(locality_name == \"Санкт-Петербург\") & (center_km <= 7)  & (rooms > 0)').pivot_table(index='rooms', values='floor', aggfunc='count')\n",
    "spb_rooms_center.columns = ['center_count']\n",
    "spb_rooms_center['center_rooms_ratio'] = spb_rooms_center['center_count'] / spb_rooms_center['center_count'].sum() * 100\n",
    "rooms_alldata = pd.merge(spb_rooms, spb_rooms_center, 'left', on = 'rooms')\n",
    "rooms_alldata['center_cap'] = round(rooms_alldata['center_count'] / rooms_alldata['count'] * 100)\n",
    "display(rooms_alldata)\n",
    "\n",
    "# Изучаем высоту потолков\n",
    "print('Высота потолков (медиана):', data.query('locality_name == \"Санкт-Петербург\"')['ceiling_height'].median(),'\\n')\n",
    "print('Высота потолков в центре (медиана):', spb_center['ceiling_height'].median(),'\\n')\n",
    "print('Высота потолков (среднее):', data.query('locality_name == \"Санкт-Петербург\"')['ceiling_height'].mean(),'\\n')\n",
    "print('Высота потолков в центре (среднее):', spb_center['ceiling_height'].mean(),'\\n')"
   ]
  },
  {
   "cell_type": "markdown",
   "metadata": {},
   "source": [
    "# Вывод\n",
    "Площадь квартир в центре значительно больше, чем в целом по городу - в среднем на 13-14 метров. Также в центре находится большое число квартир с огромной площадью (100 квадратных метров и более).\n",
    "\n",
    "+ Комнаты.\n",
    "В центре в два раза ниже доля однокомнатных квартир (16 %), чем в среднем по городу (32 %). Половина четырёхкомнатных квартир находится в центре города (52 %), их доля в два раза выше, чем в среднем по городу (6 %). Большинство квартир с 5 комнатами и более находятся в центре города.\n",
    "\n",
    "Высота потолков в центре выше в среднем на 12 сантиметров."
   ]
  },
  {
   "cell_type": "code",
   "execution_count": 17,
   "metadata": {},
   "outputs": [
    {
     "data": {
      "image/png": "[encoded data removed]",
      "text/plain": [
       "<Figure size 360x360 with 1 Axes>"
      ]
     },
     "metadata": {},
     "output_type": "display_data"
    },
    {
     "name": "stdout",
     "output_type": "stream",
     "text": [
      "Корреляция цены и числа комнат: \n",
      "\n",
      "            last_price  rooms\n",
      "last_price        1.00  -0.13\n",
      "rooms            -0.13   1.00 \n",
      "\n"
     ]
    },
    {
     "data": {
      "image/png": "[encoded data removed]",
      "text/plain": [
       "<Figure size 360x360 with 1 Axes>"
      ]
     },
     "metadata": {},
     "output_type": "display_data"
    },
    {
     "data": {
      "image/png": "[encoded data removed]",
      "text/plain": [
       "<Figure size 360x360 with 1 Axes>"
      ]
     },
     "metadata": {},
     "output_type": "display_data"
    },
    {
     "name": "stdout",
     "output_type": "stream",
     "text": [
      "Корреляция цены и удалённости от центра: \n",
      "\n",
      "                     cityCenters_nearest  last_price\n",
      "cityCenters_nearest                 1.00        0.14\n",
      "last_price                          0.14        1.00 \n",
      "\n"
     ]
    }
   ],
   "source": [
    "# Зависимость цены от числа комнат\n",
    "(\n",
    "    spb_center.query('(rooms > 0) & (rooms < 7)').pivot_table(index='rooms', values='last_price')\n",
    "    .plot(grid=True, style='o-', figsize=(5, 5))\n",
    ")\n",
    "plt.show()\n",
    "print('Корреляция цены и числа комнат:','\\n')\n",
    "print(spb_center.query('(rooms > 0) & (rooms < 7)').pivot_table(index='floor', values=['rooms', 'last_price']).corr(),'\\n')\n",
    "\n",
    "# Зависимость цены от этажа\n",
    "(\n",
    "    spb_center.pivot_table(index='floor_type', values='last_price', aggfunc='median')\n",
    "    .plot(grid=True, style='o-', figsize=(5, 5))\n",
    ")\n",
    "plt.show()\n",
    "\n",
    "# Зависимость цены от удалённости от центра\n",
    "(\n",
    "    spb_center.pivot_table(index='cityCenters_nearest', values='last_price', aggfunc='median')\n",
    "    .plot(grid=True, style='o', figsize=(5, 5))\n",
    ")\n",
    "plt.show()\n",
    "print('Корреляция цены и удалённости от центра:','\\n')\n",
    "print(spb_center.pivot_table(index='floor', values=['cityCenters_nearest', 'last_price']).corr(),'\\n')"
   ]
  },
  {
   "cell_type": "code",
   "execution_count": 18,
   "metadata": {},
   "outputs": [
    {
     "data": {
      "image/png": "[encoded data removed]",
      "text/plain": [
       "<Figure size 360x360 with 1 Axes>"
      ]
     },
     "metadata": {},
     "output_type": "display_data"
    },
    {
     "name": "stdout",
     "output_type": "stream",
     "text": [
      "Корреляция цены за квадрат и площади: \n",
      "\n",
      "            sm_price  total_area\n",
      "sm_price        1.00       -0.02\n",
      "total_area     -0.02        1.00 \n",
      "\n"
     ]
    },
    {
     "data": {
      "image/png": "[encoded data removed]",
      "text/plain": [
       "<Figure size 360x360 with 1 Axes>"
      ]
     },
     "metadata": {},
     "output_type": "display_data"
    },
    {
     "name": "stdout",
     "output_type": "stream",
     "text": [
      "Корреляция цены за квадрат и числа комнат: \n",
      "\n",
      "          rooms  sm_price\n",
      "rooms      1.00     -0.06\n",
      "sm_price  -0.06      1.00 \n",
      "\n"
     ]
    }
   ],
   "source": [
    "# Зависимость цены за квадрат от площади\n",
    "(\n",
    "    spb_center.pivot_table(index='total_area', values='sm_price')\n",
    "    .plot(grid=True, style='o', figsize=(5, 5))\n",
    ")\n",
    "plt.show()\n",
    "print('Корреляция цены за квадрат и площади:','\\n')\n",
    "print(spb_center.pivot_table(index='floor', values=['total_area', 'sm_price']).corr(),'\\n')\n",
    "\n",
    "# Зависимость цены за квадрат от числа комнат\n",
    "(\n",
    "    spb_center.query('rooms > 0').pivot_table(index='rooms', values='sm_price')\n",
    "    .plot(grid=True, style='o-', figsize=(5, 5))\n",
    ")\n",
    "plt.show()\n",
    "print('Корреляция цены за квадрат и числа комнат:','\\n')\n",
    "print(spb_center.query('rooms > 0').pivot_table(index='floor', values=['rooms', 'sm_price']).corr(),'\\n')"
   ]
  },
  {
   "cell_type": "code",
   "execution_count": 19,
   "metadata": {},
   "outputs": [
    {
     "data": {
      "image/png": "[encoded data removed]",
      "text/plain": [
       "<Figure size 360x360 with 1 Axes>"
      ]
     },
     "metadata": {},
     "output_type": "display_data"
    },
    {
     "data": {
      "image/png": "[encoded data removed]",
      "text/plain": [
       "<Figure size 720x360 with 1 Axes>"
      ]
     },
     "metadata": {},
     "output_type": "display_data"
    },
    {
     "data": {
      "image/png": "[encoded data removed]",
      "text/plain": [
       "<Figure size 360x360 with 1 Axes>"
      ]
     },
     "metadata": {},
     "output_type": "display_data"
    }
   ],
   "source": [
    "# Зависимость от дня размещения\n",
    "(\n",
    "    spb_center.pivot_table(index='weekday', values='last_price')\n",
    "    .plot(grid=True, style='o-', figsize=(5, 5))\n",
    ")\n",
    "plt.show()\n",
    "# Зависимость от месяца размещения\n",
    "(\n",
    "    spb_center.pivot_table(index='month', values='last_price')\n",
    "    .plot(grid=True, style='o-', xlim=(1,12), figsize=(10, 5))\n",
    ")\n",
    "plt.show()\n",
    "# Зависимость от года размещения\n",
    "(\n",
    "    spb_center.pivot_table(index='year', values='last_price')\n",
    "    .plot(grid=True, style='o-', figsize=(5, 5))\n",
    ")\n",
    "plt.show()"
   ]
  },
  {
   "cell_type": "markdown",
   "metadata": {},
   "source": [
    "# Вывод\n",
    "+ Зависимость цены квартиры от числа комнат в центре такая же, как и в целом по городу\n",
    "+ В центре верхний этаж стоит практически столько же, сколько и другие этажи, кроме первого\n",
    "+ В центре есть очень дорогие однокомнатные квартиры\n",
    "+ В центральной зоне почти нет зависимости от удалённости от центра города. Стоимость даже немного повышается при удалении от центра - вероятно, это связано с расположением точки, которая является формальным центром города.\n",
    "+ В центре значительно выше стоимость квартир, опубликованных в субботу и в декабре.\n",
    "+ Стоимость квартир в центре значительно выросла в 2015 году и снизилась только в 2017 году."
   ]
  },
  {
   "cell_type": "markdown",
   "metadata": {},
   "source": [
    "## Общий вывод"
   ]
  },
  {
   "cell_type": "markdown",
   "metadata": {},
   "source": [
    "# Срок продажи квартиры\n",
    "\n",
    "+ Чаще всего квартиру продают за 95 дней. Если меньше 45 дней, то это быстро, если дольше 230 дней - это долго.\n",
    "+ Есть большое число квартир, проданных всего за несколько дней после публикации.\n",
    "+ Также есть варианты, которые продавались несколько десятков месяцев.\n",
    "\n",
    "# Факторы, влияющие на стоимость\n",
    "\n",
    "+ На стоимость больше влияет площадь квартиры, а не число комнат. Т.е. могут быть дорогие квартиры с малым числом комнат, но большей площади.\n",
    "+ Первый этаж значительно дешевле остальных вариантов. Также стоимость квартиры на последнем этаже ниже, чем на остальных, кроме первого.\n",
    "\n",
    "# Стоимость квадратного метра в топ-10 населённых пунктов\n",
    "\n",
    "+ Выше всего стоимость квадратного метра в Санкт-Петербурге - 114848.\n",
    "+ Ниже всего стоимость квадратного метра в Выборге - 58141.\n",
    "\n",
    "# Факторы, влияющие на стоимость в центре Санкт-Петербурга\n",
    "\n",
    "+ В центре города практически нет разницы, насколько квартира удалена от условного центра города.\n",
    "+ В центре города последний этаж практически не влияет на стоимость квартиры, в отличие от остального города.\n",
    "+ В центре есть однокомнатные квартиры с очень высокой стоимостью.\n",
    "+ Экономическая ситуация в стране мало влияет на элитную недвижимость в центре."
   ]
  }
 ],
 "metadata": {
  "ExecuteTimeLog": [
   {
    "duration": 621,
    "start_time": "2022-03-12T10:11:58.498Z"
   },
   {
    "duration": 68,
    "start_time": "2022-03-12T10:13:34.305Z"
   },
   {
    "duration": 70,
    "start_time": "2022-03-12T10:23:05.278Z"
   },
   {
    "duration": 21,
    "start_time": "2022-03-12T10:50:36.075Z"
   },
   {
    "duration": 431,
    "start_time": "2022-03-12T10:53:01.831Z"
   },
   {
    "duration": 405,
    "start_time": "2022-03-12T10:57:03.255Z"
   },
   {
    "duration": 547,
    "start_time": "2022-03-12T11:07:18.543Z"
   },
   {
    "duration": 582,
    "start_time": "2022-03-12T11:13:57.496Z"
   },
   {
    "duration": 612,
    "start_time": "2022-03-12T11:16:05.344Z"
   },
   {
    "duration": 513,
    "start_time": "2022-03-12T12:11:58.804Z"
   },
   {
    "duration": 328,
    "start_time": "2022-03-12T12:12:29.891Z"
   },
   {
    "duration": 1625,
    "start_time": "2022-03-12T12:13:23.556Z"
   },
   {
    "duration": 89,
    "start_time": "2022-03-12T12:13:25.183Z"
   },
   {
    "duration": 68,
    "start_time": "2022-03-12T12:13:29.912Z"
   },
   {
    "duration": 59,
    "start_time": "2022-03-12T12:13:29.981Z"
   },
   {
    "duration": 20,
    "start_time": "2022-03-12T12:13:30.042Z"
   },
   {
    "duration": 422,
    "start_time": "2022-03-12T12:13:30.064Z"
   },
   {
    "duration": 524,
    "start_time": "2022-03-12T12:13:30.488Z"
   },
   {
    "duration": 394,
    "start_time": "2022-03-12T12:13:31.014Z"
   },
   {
    "duration": 618,
    "start_time": "2022-03-12T12:14:51.760Z"
   },
   {
    "duration": 378,
    "start_time": "2022-03-12T12:17:10.388Z"
   },
   {
    "duration": 599,
    "start_time": "2022-03-12T12:21:35.081Z"
   },
   {
    "duration": 507,
    "start_time": "2022-03-12T12:22:24.168Z"
   },
   {
    "duration": 67,
    "start_time": "2022-03-12T12:22:29.762Z"
   },
   {
    "duration": 58,
    "start_time": "2022-03-12T12:22:29.831Z"
   },
   {
    "duration": 29,
    "start_time": "2022-03-12T12:22:29.891Z"
   },
   {
    "duration": 494,
    "start_time": "2022-03-12T12:22:29.922Z"
   },
   {
    "duration": 553,
    "start_time": "2022-03-12T12:22:30.419Z"
   },
   {
    "duration": 407,
    "start_time": "2022-03-12T12:22:30.973Z"
   },
   {
    "duration": 369,
    "start_time": "2022-03-12T12:22:31.381Z"
   },
   {
    "duration": 82,
    "start_time": "2022-03-12T12:23:05.188Z"
   },
   {
    "duration": 97,
    "start_time": "2022-03-12T12:23:08.878Z"
   },
   {
    "duration": 91,
    "start_time": "2022-03-12T12:23:08.977Z"
   },
   {
    "duration": 36,
    "start_time": "2022-03-12T12:23:09.070Z"
   },
   {
    "duration": 428,
    "start_time": "2022-03-12T12:23:09.108Z"
   },
   {
    "duration": 581,
    "start_time": "2022-03-12T12:23:09.538Z"
   },
   {
    "duration": 556,
    "start_time": "2022-03-12T12:23:10.121Z"
   },
   {
    "duration": 512,
    "start_time": "2022-03-12T12:23:10.679Z"
   },
   {
    "duration": 938,
    "start_time": "2022-03-12T12:26:18.460Z"
   },
   {
    "duration": 161,
    "start_time": "2022-03-13T19:07:27.300Z"
   },
   {
    "duration": 1214,
    "start_time": "2022-03-13T19:07:35.380Z"
   },
   {
    "duration": 76,
    "start_time": "2022-03-13T19:07:36.596Z"
   },
   {
    "duration": 21,
    "start_time": "2022-03-13T19:07:36.674Z"
   },
   {
    "duration": 524,
    "start_time": "2022-03-13T19:07:36.697Z"
   },
   {
    "duration": 604,
    "start_time": "2022-03-13T19:07:37.222Z"
   },
   {
    "duration": 680,
    "start_time": "2022-03-13T19:07:37.828Z"
   },
   {
    "duration": 688,
    "start_time": "2022-03-13T19:07:38.510Z"
   },
   {
    "duration": 1180,
    "start_time": "2022-03-13T19:07:39.200Z"
   },
   {
    "duration": 493,
    "start_time": "2022-03-13T19:07:40.382Z"
   },
   {
    "duration": 152,
    "start_time": "2022-03-13T19:12:05.695Z"
   },
   {
    "duration": 1604,
    "start_time": "2022-03-13T19:14:58.765Z"
   },
   {
    "duration": 543,
    "start_time": "2022-03-13T19:15:53.110Z"
   },
   {
    "duration": 768,
    "start_time": "2022-03-13T19:17:01.599Z"
   },
   {
    "duration": 751,
    "start_time": "2022-03-13T19:17:42.682Z"
   },
   {
    "duration": 812,
    "start_time": "2022-03-13T19:18:25.106Z"
   },
   {
    "duration": 755,
    "start_time": "2022-03-13T19:19:11.094Z"
   },
   {
    "duration": 22,
    "start_time": "2022-03-13T19:24:17.058Z"
   },
   {
    "duration": 296,
    "start_time": "2022-03-13T19:25:54.298Z"
   },
   {
    "duration": 810,
    "start_time": "2022-03-13T19:30:13.965Z"
   },
   {
    "duration": 812,
    "start_time": "2022-03-13T19:33:20.997Z"
   },
   {
    "duration": 533,
    "start_time": "2022-03-13T19:33:45.533Z"
   },
   {
    "duration": 774,
    "start_time": "2022-03-13T19:34:10.377Z"
   },
   {
    "duration": 74,
    "start_time": "2022-03-13T19:40:55.308Z"
   },
   {
    "duration": 77,
    "start_time": "2022-03-13T19:40:55.383Z"
   },
   {
    "duration": 22,
    "start_time": "2022-03-13T19:40:55.462Z"
   },
   {
    "duration": 454,
    "start_time": "2022-03-13T19:40:55.485Z"
   },
   {
    "duration": 606,
    "start_time": "2022-03-13T19:40:55.941Z"
   },
   {
    "duration": 649,
    "start_time": "2022-03-13T19:40:56.549Z"
   },
   {
    "duration": 550,
    "start_time": "2022-03-13T19:40:57.200Z"
   },
   {
    "duration": 971,
    "start_time": "2022-03-13T19:40:57.752Z"
   },
   {
    "duration": 484,
    "start_time": "2022-03-13T19:40:58.733Z"
   },
   {
    "duration": 122,
    "start_time": "2022-03-13T19:40:59.219Z"
   },
   {
    "duration": 1041,
    "start_time": "2022-03-13T19:40:59.342Z"
   },
   {
    "duration": 562,
    "start_time": "2022-03-13T19:41:00.385Z"
   },
   {
    "duration": 796,
    "start_time": "2022-03-13T19:41:00.949Z"
   },
   {
    "duration": 22,
    "start_time": "2022-03-13T19:41:01.747Z"
   },
   {
    "duration": 325,
    "start_time": "2022-03-13T19:41:01.771Z"
   },
   {
    "duration": 925,
    "start_time": "2022-03-13T19:41:02.098Z"
   },
   {
    "duration": 789,
    "start_time": "2022-03-13T19:41:03.032Z"
   },
   {
    "duration": 570,
    "start_time": "2022-03-13T19:41:03.823Z"
   },
   {
    "duration": 801,
    "start_time": "2022-03-13T19:41:04.395Z"
   },
   {
    "duration": 1735,
    "start_time": "2022-03-23T13:07:28.673Z"
   },
   {
    "duration": 111,
    "start_time": "2022-03-23T13:07:30.411Z"
   },
   {
    "duration": 48,
    "start_time": "2022-03-23T13:07:30.525Z"
   },
   {
    "duration": 765,
    "start_time": "2022-03-23T13:07:30.577Z"
   },
   {
    "duration": 583,
    "start_time": "2022-03-23T13:07:31.344Z"
   },
   {
    "duration": 670,
    "start_time": "2022-03-23T13:07:31.929Z"
   },
   {
    "duration": 788,
    "start_time": "2022-03-23T13:07:32.602Z"
   },
   {
    "duration": 1087,
    "start_time": "2022-03-23T13:07:33.392Z"
   },
   {
    "duration": 565,
    "start_time": "2022-03-23T13:07:34.482Z"
   },
   {
    "duration": 171,
    "start_time": "2022-03-23T13:07:35.050Z"
   },
   {
    "duration": 1209,
    "start_time": "2022-03-23T13:07:35.223Z"
   },
   {
    "duration": 590,
    "start_time": "2022-03-23T13:07:36.434Z"
   },
   {
    "duration": 975,
    "start_time": "2022-03-23T13:07:37.027Z"
   },
   {
    "duration": 36,
    "start_time": "2022-03-23T13:07:38.004Z"
   },
   {
    "duration": 347,
    "start_time": "2022-03-23T13:07:38.042Z"
   },
   {
    "duration": 890,
    "start_time": "2022-03-23T13:07:38.391Z"
   },
   {
    "duration": 896,
    "start_time": "2022-03-23T13:07:39.283Z"
   },
   {
    "duration": 549,
    "start_time": "2022-03-23T13:07:40.182Z"
   },
   {
    "duration": 846,
    "start_time": "2022-03-23T13:07:40.733Z"
   },
   {
    "duration": 43,
    "start_time": "2022-03-26T10:01:56.312Z"
   },
   {
    "duration": 1386,
    "start_time": "2022-03-26T10:02:01.979Z"
   },
   {
    "duration": 67,
    "start_time": "2022-03-26T10:02:03.367Z"
   },
   {
    "duration": 21,
    "start_time": "2022-03-26T10:02:03.435Z"
   },
   {
    "duration": 451,
    "start_time": "2022-03-26T10:02:03.458Z"
   },
   {
    "duration": 333,
    "start_time": "2022-03-26T10:02:03.911Z"
   },
   {
    "duration": 438,
    "start_time": "2022-03-26T10:02:04.245Z"
   },
   {
    "duration": 350,
    "start_time": "2022-03-26T10:02:04.685Z"
   },
   {
    "duration": 594,
    "start_time": "2022-03-26T10:02:05.037Z"
   },
   {
    "duration": 271,
    "start_time": "2022-03-26T10:02:05.632Z"
   },
   {
    "duration": 105,
    "start_time": "2022-03-26T10:02:05.905Z"
   },
   {
    "duration": 716,
    "start_time": "2022-03-26T10:02:06.012Z"
   },
   {
    "duration": 314,
    "start_time": "2022-03-26T10:02:06.729Z"
   },
   {
    "duration": 464,
    "start_time": "2022-03-26T10:02:07.045Z"
   },
   {
    "duration": 20,
    "start_time": "2022-03-26T10:02:07.511Z"
   },
   {
    "duration": 177,
    "start_time": "2022-03-26T10:02:07.533Z"
   },
   {
    "duration": 496,
    "start_time": "2022-03-26T10:02:07.712Z"
   },
   {
    "duration": 534,
    "start_time": "2022-03-26T10:02:08.210Z"
   },
   {
    "duration": 317,
    "start_time": "2022-03-26T10:02:08.746Z"
   },
   {
    "duration": 477,
    "start_time": "2022-03-26T10:02:09.064Z"
   },
   {
    "duration": 459,
    "start_time": "2022-03-26T10:03:14.645Z"
   },
   {
    "duration": 504,
    "start_time": "2022-03-26T10:03:47.923Z"
   },
   {
    "duration": 423,
    "start_time": "2022-03-26T10:04:01.220Z"
   },
   {
    "duration": 353,
    "start_time": "2022-03-26T10:39:06.883Z"
   },
   {
    "duration": 291,
    "start_time": "2022-03-26T10:53:30.733Z"
   },
   {
    "duration": 83,
    "start_time": "2022-03-26T10:53:34.137Z"
   },
   {
    "duration": 132,
    "start_time": "2022-03-26T10:53:34.222Z"
   },
   {
    "duration": 234,
    "start_time": "2022-03-26T10:53:34.356Z"
   },
   {
    "duration": 314,
    "start_time": "2022-03-26T10:53:34.592Z"
   },
   {
    "duration": 367,
    "start_time": "2022-03-26T10:53:34.908Z"
   },
   {
    "duration": 328,
    "start_time": "2022-03-26T10:53:35.276Z"
   },
   {
    "duration": 649,
    "start_time": "2022-03-26T10:53:35.605Z"
   },
   {
    "duration": 260,
    "start_time": "2022-03-26T10:53:36.256Z"
   },
   {
    "duration": 111,
    "start_time": "2022-03-26T10:53:36.518Z"
   },
   {
    "duration": 596,
    "start_time": "2022-03-26T10:53:36.632Z"
   },
   {
    "duration": 317,
    "start_time": "2022-03-26T10:53:37.230Z"
   },
   {
    "duration": 506,
    "start_time": "2022-03-26T10:53:37.548Z"
   },
   {
    "duration": 22,
    "start_time": "2022-03-26T10:53:38.056Z"
   },
   {
    "duration": 175,
    "start_time": "2022-03-26T10:53:38.080Z"
   },
   {
    "duration": 473,
    "start_time": "2022-03-26T10:53:38.256Z"
   },
   {
    "duration": 459,
    "start_time": "2022-03-26T10:53:38.732Z"
   },
   {
    "duration": 318,
    "start_time": "2022-03-26T10:53:39.193Z"
   },
   {
    "duration": 512,
    "start_time": "2022-03-26T10:53:39.513Z"
   },
   {
    "duration": 51,
    "start_time": "2022-03-26T11:27:31.369Z"
   },
   {
    "duration": 1393,
    "start_time": "2022-03-26T11:27:35.809Z"
   },
   {
    "duration": 68,
    "start_time": "2022-03-26T11:27:37.205Z"
   },
   {
    "duration": 298,
    "start_time": "2022-03-26T11:27:37.275Z"
   },
   {
    "duration": 356,
    "start_time": "2022-03-26T11:27:37.576Z"
   },
   {
    "duration": 419,
    "start_time": "2022-03-26T11:27:37.934Z"
   },
   {
    "duration": 454,
    "start_time": "2022-03-26T11:27:38.356Z"
   },
   {
    "duration": 689,
    "start_time": "2022-03-26T11:27:38.812Z"
   },
   {
    "duration": 347,
    "start_time": "2022-03-26T11:27:39.503Z"
   },
   {
    "duration": 130,
    "start_time": "2022-03-26T11:27:39.852Z"
   },
   {
    "duration": 841,
    "start_time": "2022-03-26T11:27:39.986Z"
   },
   {
    "duration": 393,
    "start_time": "2022-03-26T11:27:40.829Z"
   },
   {
    "duration": 530,
    "start_time": "2022-03-26T11:27:41.224Z"
   },
   {
    "duration": 63,
    "start_time": "2022-03-26T11:27:41.756Z"
   },
   {
    "duration": 251,
    "start_time": "2022-03-26T11:27:41.820Z"
   },
   {
    "duration": 582,
    "start_time": "2022-03-26T11:27:42.072Z"
   },
   {
    "duration": 650,
    "start_time": "2022-03-26T11:27:42.655Z"
   },
   {
    "duration": 382,
    "start_time": "2022-03-26T11:27:43.308Z"
   },
   {
    "duration": 538,
    "start_time": "2022-03-26T11:27:43.701Z"
   },
   {
    "duration": 299,
    "start_time": "2022-03-26T11:28:25.533Z"
   },
   {
    "duration": 570,
    "start_time": "2022-03-26T11:29:19.285Z"
   },
   {
    "duration": 480,
    "start_time": "2022-03-26T11:30:09.753Z"
   },
   {
    "duration": 614,
    "start_time": "2022-03-26T11:30:22.970Z"
   },
   {
    "duration": 598,
    "start_time": "2022-03-26T11:31:48.689Z"
   },
   {
    "duration": 600,
    "start_time": "2022-03-26T11:31:55.457Z"
   },
   {
    "duration": 316,
    "start_time": "2022-03-26T11:34:17.142Z"
   },
   {
    "duration": 68,
    "start_time": "2022-03-26T11:35:37.339Z"
   },
   {
    "duration": 12,
    "start_time": "2022-03-26T11:36:18.918Z"
   },
   {
    "duration": 10,
    "start_time": "2022-03-26T11:37:20.425Z"
   },
   {
    "duration": 7,
    "start_time": "2022-03-26T11:37:35.378Z"
   },
   {
    "duration": 737,
    "start_time": "2022-03-26T11:41:02.938Z"
   },
   {
    "duration": 598,
    "start_time": "2022-03-26T11:41:29.069Z"
   },
   {
    "duration": 319,
    "start_time": "2022-03-26T11:43:04.034Z"
   },
   {
    "duration": 692,
    "start_time": "2022-03-26T11:43:12.034Z"
   },
   {
    "duration": 255,
    "start_time": "2022-03-26T11:43:25.054Z"
   },
   {
    "duration": 231,
    "start_time": "2022-03-26T11:43:38.534Z"
   },
   {
    "duration": 235,
    "start_time": "2022-03-26T11:43:46.626Z"
   },
   {
    "duration": 152,
    "start_time": "2022-03-26T11:44:26.521Z"
   },
   {
    "duration": 10,
    "start_time": "2022-03-26T11:45:38.270Z"
   },
   {
    "duration": 153,
    "start_time": "2022-03-26T11:47:46.823Z"
   },
   {
    "duration": 16,
    "start_time": "2022-03-26T11:48:21.156Z"
   },
   {
    "duration": 6,
    "start_time": "2022-03-26T11:50:06.370Z"
   },
   {
    "duration": 4,
    "start_time": "2022-03-26T11:51:08.136Z"
   },
   {
    "duration": 816,
    "start_time": "2022-03-26T12:02:19.992Z"
   },
   {
    "duration": 221,
    "start_time": "2022-03-26T12:02:27.735Z"
   },
   {
    "duration": 289,
    "start_time": "2022-03-26T12:02:40.228Z"
   },
   {
    "duration": 345,
    "start_time": "2022-03-26T12:02:46.831Z"
   },
   {
    "duration": 323,
    "start_time": "2022-03-26T12:03:06.503Z"
   },
   {
    "duration": 605,
    "start_time": "2022-03-26T12:03:14.087Z"
   },
   {
    "duration": 752,
    "start_time": "2022-03-26T12:03:22.403Z"
   },
   {
    "duration": 569,
    "start_time": "2022-03-26T12:03:32.148Z"
   },
   {
    "duration": 7602,
    "start_time": "2022-03-26T12:06:09.232Z"
   },
   {
    "duration": 5147,
    "start_time": "2022-03-26T12:06:30.055Z"
   },
   {
    "duration": 4950,
    "start_time": "2022-03-26T12:08:34.556Z"
   },
   {
    "duration": 5326,
    "start_time": "2022-03-26T12:08:58.347Z"
   },
   {
    "duration": 368,
    "start_time": "2022-03-26T12:09:11.984Z"
   },
   {
    "duration": 109,
    "start_time": "2022-03-26T12:12:17.057Z"
   },
   {
    "duration": 118,
    "start_time": "2022-03-26T12:12:23.500Z"
   },
   {
    "duration": 107,
    "start_time": "2022-03-26T12:12:29.360Z"
   },
   {
    "duration": 436,
    "start_time": "2022-03-26T12:12:42.040Z"
   },
   {
    "duration": 249,
    "start_time": "2022-03-26T12:12:53.704Z"
   },
   {
    "duration": 756,
    "start_time": "2022-03-26T12:19:07.821Z"
   },
   {
    "duration": 1174,
    "start_time": "2022-03-26T12:19:42.030Z"
   },
   {
    "duration": 787,
    "start_time": "2022-03-26T12:21:14.017Z"
   },
   {
    "duration": 967,
    "start_time": "2022-03-26T12:21:25.453Z"
   },
   {
    "duration": 341,
    "start_time": "2022-03-26T12:24:39.196Z"
   },
   {
    "duration": 302,
    "start_time": "2022-03-26T12:25:03.975Z"
   },
   {
    "duration": 111,
    "start_time": "2022-03-26T12:25:46.237Z"
   },
   {
    "duration": 116,
    "start_time": "2022-03-26T12:25:53.936Z"
   },
   {
    "duration": 545,
    "start_time": "2022-03-26T12:25:58.988Z"
   },
   {
    "duration": 315,
    "start_time": "2022-03-26T12:26:10.660Z"
   },
   {
    "duration": 667,
    "start_time": "2022-03-26T12:28:28.392Z"
   },
   {
    "duration": 1296,
    "start_time": "2022-03-26T12:28:42.732Z"
   },
   {
    "duration": 349,
    "start_time": "2022-03-26T12:28:53.585Z"
   },
   {
    "duration": 242,
    "start_time": "2022-03-26T12:29:04.624Z"
   },
   {
    "duration": 102,
    "start_time": "2022-03-26T12:31:42.459Z"
   },
   {
    "duration": 12,
    "start_time": "2022-03-26T12:32:08.080Z"
   },
   {
    "duration": 346,
    "start_time": "2022-03-26T12:33:02.297Z"
   },
   {
    "duration": 490,
    "start_time": "2022-03-26T12:33:17.533Z"
   },
   {
    "duration": 291,
    "start_time": "2022-03-26T12:35:59.073Z"
   },
   {
    "duration": 302,
    "start_time": "2022-03-26T12:36:13.417Z"
   },
   {
    "duration": 481,
    "start_time": "2022-03-26T12:36:26.297Z"
   },
   {
    "duration": 13,
    "start_time": "2022-03-26T12:37:29.765Z"
   },
   {
    "duration": 298,
    "start_time": "2022-03-26T12:38:04.924Z"
   },
   {
    "duration": 208,
    "start_time": "2022-03-26T12:38:14.313Z"
   },
   {
    "duration": 221,
    "start_time": "2022-03-26T12:39:15.960Z"
   },
   {
    "duration": 172,
    "start_time": "2022-03-26T12:39:17.036Z"
   },
   {
    "duration": 11,
    "start_time": "2022-03-26T12:39:21.216Z"
   },
   {
    "duration": 228,
    "start_time": "2022-03-26T12:40:21.760Z"
   },
   {
    "duration": 247,
    "start_time": "2022-03-26T12:44:16.101Z"
   },
   {
    "duration": 234,
    "start_time": "2022-03-26T12:44:21.817Z"
   },
   {
    "duration": 471,
    "start_time": "2022-03-26T12:44:32.585Z"
   },
   {
    "duration": 246,
    "start_time": "2022-03-26T12:44:39.637Z"
   },
   {
    "duration": 394,
    "start_time": "2022-03-26T12:44:49.322Z"
   },
   {
    "duration": 235,
    "start_time": "2022-03-26T12:45:00.181Z"
   },
   {
    "duration": 239,
    "start_time": "2022-03-26T12:45:11.632Z"
   },
   {
    "duration": 226,
    "start_time": "2022-03-26T12:46:57.549Z"
   },
   {
    "duration": 161,
    "start_time": "2022-03-26T12:47:08.990Z"
   },
   {
    "duration": 10,
    "start_time": "2022-03-26T12:47:11.564Z"
   },
   {
    "duration": 15,
    "start_time": "2022-03-26T12:47:54.734Z"
   },
   {
    "duration": 164,
    "start_time": "2022-03-26T12:49:14.962Z"
   },
   {
    "duration": 4,
    "start_time": "2022-03-26T12:49:33.473Z"
   },
   {
    "duration": 1778,
    "start_time": "2022-03-26T12:49:44.221Z"
   },
   {
    "duration": 110,
    "start_time": "2022-03-26T12:50:11.122Z"
   },
   {
    "duration": 116,
    "start_time": "2022-03-26T12:50:22.018Z"
   },
   {
    "duration": 154,
    "start_time": "2022-03-26T12:59:55.042Z"
   },
   {
    "duration": 4,
    "start_time": "2022-03-26T13:00:36.641Z"
   },
   {
    "duration": 1910,
    "start_time": "2022-03-26T13:00:48.546Z"
   },
   {
    "duration": 155,
    "start_time": "2022-03-26T13:00:57.433Z"
   },
   {
    "duration": 104,
    "start_time": "2022-03-26T13:01:09.729Z"
   },
   {
    "duration": 754,
    "start_time": "2022-03-26T13:01:17.894Z"
   },
   {
    "duration": 106,
    "start_time": "2022-03-26T13:02:06.862Z"
   },
   {
    "duration": 224,
    "start_time": "2022-03-26T13:02:47.309Z"
   },
   {
    "duration": 323,
    "start_time": "2022-03-26T13:02:54.554Z"
   },
   {
    "duration": 13,
    "start_time": "2022-03-26T13:03:01.454Z"
   },
   {
    "duration": 537,
    "start_time": "2022-03-26T13:09:36.933Z"
   },
   {
    "duration": 13,
    "start_time": "2022-03-26T13:13:13.306Z"
   }
  ],
  "kernelspec": {
   "display_name": "Python 3 (ipykernel)",
   "language": "python",
   "name": "python3"
  },
  "language_info": {
   "codemirror_mode": {
    "name": "ipython",
    "version": 3
   },
   "file_extension": ".py",
   "mimetype": "text/x-python",
   "name": "python",
   "nbconvert_exporter": "python",
   "pygments_lexer": "ipython3",
   "version": "3.9.5"
  },
  "toc": {
   "base_numbering": 1,
   "nav_menu": {},
   "number_sections": true,
   "sideBar": true,
   "skip_h1_title": true,
   "title_cell": "Содержание",
   "title_sidebar": "Contents",
   "toc_cell": true,
   "toc_position": {},
   "toc_section_display": true,
   "toc_window_display": true
  }
 },
 "nbformat": 4,
 "nbformat_minor": 4
}
