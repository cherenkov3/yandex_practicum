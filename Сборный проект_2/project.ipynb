{
 "cells": [
  {
   "cell_type": "markdown",
   "metadata": {},
   "source": [
    "# Восстановление золота из руды"
   ]
  },
  {
   "cell_type": "markdown",
   "metadata": {},
   "source": [
    "## Подготовка данных"
   ]
  },
  {
   "cell_type": "code",
   "execution_count": 4,
   "metadata": {},
   "outputs": [],
   "source": [
    "#импортируем необходимые библиотеки и инструменты\n",
    "import pandas as pd\n",
    "pd.options.mode.chained_assignment = None\n",
    "import numpy as np\n",
    "import matplotlib.pyplot as plt\n",
    "import seaborn as sns\n",
    "from sklearn.metrics import mean_absolute_error, accuracy_score\n",
    "from sklearn.preprocessing import StandardScaler\n",
    "from sklearn.model_selection import train_test_split, cross_val_score\n",
    "from sklearn.linear_model import LinearRegression\n",
    "from sklearn.ensemble import RandomForestRegressor\n",
    "from sklearn.tree import DecisionTreeRegressor\n",
    "from catboost import CatBoostRegressor\n",
    "from sklearn.dummy import DummyRegressor"
   ]
  },
  {
   "cell_type": "code",
   "execution_count": 5,
   "metadata": {},
   "outputs": [],
   "source": [
    "#загрузим исходные данные, обучающую и тестовую выборки\n",
    "train = pd.read_csv('/datasets/gold_recovery_train_new.csv')\n",
    "test = pd.read_csv('/datasets/gold_recovery_test_new.csv')\n",
    "full_data = pd.read_csv('/datasets/gold_recovery_full_new.csv')"
   ]
  },
  {
   "cell_type": "code",
   "execution_count": 6,
   "metadata": {},
   "outputs": [
    {
     "name": "stdout",
     "output_type": "stream",
     "text": [
      "<class 'pandas.core.frame.DataFrame'>\n",
      "RangeIndex: 19439 entries, 0 to 19438\n",
      "Data columns (total 87 columns):\n",
      " #   Column                                              Non-Null Count  Dtype  \n",
      "---  ------                                              --------------  -----  \n",
      " 0   date                                                19439 non-null  object \n",
      " 1   final.output.concentrate_ag                         19438 non-null  float64\n",
      " 2   final.output.concentrate_pb                         19438 non-null  float64\n",
      " 3   final.output.concentrate_sol                        19228 non-null  float64\n",
      " 4   final.output.concentrate_au                         19439 non-null  float64\n",
      " 5   final.output.recovery                               19439 non-null  float64\n",
      " 6   final.output.tail_ag                                19438 non-null  float64\n",
      " 7   final.output.tail_pb                                19338 non-null  float64\n",
      " 8   final.output.tail_sol                               19433 non-null  float64\n",
      " 9   final.output.tail_au                                19439 non-null  float64\n",
      " 10  primary_cleaner.input.sulfate                       19415 non-null  float64\n",
      " 11  primary_cleaner.input.depressant                    19402 non-null  float64\n",
      " 12  primary_cleaner.input.feed_size                     19439 non-null  float64\n",
      " 13  primary_cleaner.input.xanthate                      19335 non-null  float64\n",
      " 14  primary_cleaner.output.concentrate_ag               19439 non-null  float64\n",
      " 15  primary_cleaner.output.concentrate_pb               19323 non-null  float64\n",
      " 16  primary_cleaner.output.concentrate_sol              19069 non-null  float64\n",
      " 17  primary_cleaner.output.concentrate_au               19439 non-null  float64\n",
      " 18  primary_cleaner.output.tail_ag                      19435 non-null  float64\n",
      " 19  primary_cleaner.output.tail_pb                      19418 non-null  float64\n",
      " 20  primary_cleaner.output.tail_sol                     19377 non-null  float64\n",
      " 21  primary_cleaner.output.tail_au                      19439 non-null  float64\n",
      " 22  primary_cleaner.state.floatbank8_a_air              19435 non-null  float64\n",
      " 23  primary_cleaner.state.floatbank8_a_level            19438 non-null  float64\n",
      " 24  primary_cleaner.state.floatbank8_b_air              19435 non-null  float64\n",
      " 25  primary_cleaner.state.floatbank8_b_level            19438 non-null  float64\n",
      " 26  primary_cleaner.state.floatbank8_c_air              19437 non-null  float64\n",
      " 27  primary_cleaner.state.floatbank8_c_level            19438 non-null  float64\n",
      " 28  primary_cleaner.state.floatbank8_d_air              19436 non-null  float64\n",
      " 29  primary_cleaner.state.floatbank8_d_level            19438 non-null  float64\n",
      " 30  rougher.calculation.sulfate_to_au_concentrate       19437 non-null  float64\n",
      " 31  rougher.calculation.floatbank10_sulfate_to_au_feed  19437 non-null  float64\n",
      " 32  rougher.calculation.floatbank11_sulfate_to_au_feed  19437 non-null  float64\n",
      " 33  rougher.calculation.au_pb_ratio                     19439 non-null  float64\n",
      " 34  rougher.input.feed_ag                               19439 non-null  float64\n",
      " 35  rougher.input.feed_pb                               19339 non-null  float64\n",
      " 36  rougher.input.feed_rate                             19428 non-null  float64\n",
      " 37  rougher.input.feed_size                             19294 non-null  float64\n",
      " 38  rougher.input.feed_sol                              19340 non-null  float64\n",
      " 39  rougher.input.feed_au                               19439 non-null  float64\n",
      " 40  rougher.input.floatbank10_sulfate                   19405 non-null  float64\n",
      " 41  rougher.input.floatbank10_xanthate                  19431 non-null  float64\n",
      " 42  rougher.input.floatbank11_sulfate                   19395 non-null  float64\n",
      " 43  rougher.input.floatbank11_xanthate                  18986 non-null  float64\n",
      " 44  rougher.output.concentrate_ag                       19439 non-null  float64\n",
      " 45  rougher.output.concentrate_pb                       19439 non-null  float64\n",
      " 46  rougher.output.concentrate_sol                      19416 non-null  float64\n",
      " 47  rougher.output.concentrate_au                       19439 non-null  float64\n",
      " 48  rougher.output.recovery                             19439 non-null  float64\n",
      " 49  rougher.output.tail_ag                              19438 non-null  float64\n",
      " 50  rougher.output.tail_pb                              19439 non-null  float64\n",
      " 51  rougher.output.tail_sol                             19439 non-null  float64\n",
      " 52  rougher.output.tail_au                              19439 non-null  float64\n",
      " 53  rougher.state.floatbank10_a_air                     19438 non-null  float64\n",
      " 54  rougher.state.floatbank10_a_level                   19438 non-null  float64\n",
      " 55  rougher.state.floatbank10_b_air                     19438 non-null  float64\n",
      " 56  rougher.state.floatbank10_b_level                   19438 non-null  float64\n",
      " 57  rougher.state.floatbank10_c_air                     19438 non-null  float64\n",
      " 58  rougher.state.floatbank10_c_level                   19438 non-null  float64\n",
      " 59  rougher.state.floatbank10_d_air                     19439 non-null  float64\n",
      " 60  rougher.state.floatbank10_d_level                   19439 non-null  float64\n",
      " 61  rougher.state.floatbank10_e_air                     19003 non-null  float64\n",
      " 62  rougher.state.floatbank10_e_level                   19439 non-null  float64\n",
      " 63  rougher.state.floatbank10_f_air                     19439 non-null  float64\n",
      " 64  rougher.state.floatbank10_f_level                   19439 non-null  float64\n",
      " 65  secondary_cleaner.output.tail_ag                    19437 non-null  float64\n",
      " 66  secondary_cleaner.output.tail_pb                    19427 non-null  float64\n",
      " 67  secondary_cleaner.output.tail_sol                   17691 non-null  float64\n",
      " 68  secondary_cleaner.output.tail_au                    19439 non-null  float64\n",
      " 69  secondary_cleaner.state.floatbank2_a_air            19219 non-null  float64\n",
      " 70  secondary_cleaner.state.floatbank2_a_level          19438 non-null  float64\n",
      " 71  secondary_cleaner.state.floatbank2_b_air            19416 non-null  float64\n",
      " 72  secondary_cleaner.state.floatbank2_b_level          19438 non-null  float64\n",
      " 73  secondary_cleaner.state.floatbank3_a_air            19426 non-null  float64\n",
      " 74  secondary_cleaner.state.floatbank3_a_level          19438 non-null  float64\n",
      " 75  secondary_cleaner.state.floatbank3_b_air            19438 non-null  float64\n",
      " 76  secondary_cleaner.state.floatbank3_b_level          19438 non-null  float64\n",
      " 77  secondary_cleaner.state.floatbank4_a_air            19433 non-null  float64\n",
      " 78  secondary_cleaner.state.floatbank4_a_level          19438 non-null  float64\n",
      " 79  secondary_cleaner.state.floatbank4_b_air            19438 non-null  float64\n",
      " 80  secondary_cleaner.state.floatbank4_b_level          19438 non-null  float64\n",
      " 81  secondary_cleaner.state.floatbank5_a_air            19438 non-null  float64\n",
      " 82  secondary_cleaner.state.floatbank5_a_level          19438 non-null  float64\n",
      " 83  secondary_cleaner.state.floatbank5_b_air            19438 non-null  float64\n",
      " 84  secondary_cleaner.state.floatbank5_b_level          19438 non-null  float64\n",
      " 85  secondary_cleaner.state.floatbank6_a_air            19437 non-null  float64\n",
      " 86  secondary_cleaner.state.floatbank6_a_level          19438 non-null  float64\n",
      "dtypes: float64(86), object(1)\n",
      "memory usage: 12.9+ MB\n"
     ]
    }
   ],
   "source": [
    "#ознакомимся с данными\n",
    "full_data.info()"
   ]
  },
  {
   "cell_type": "markdown",
   "metadata": {},
   "source": [
    "В рамках подготовки данных нам необходимо проверить формулу вычисления эффективности обогащения. Формула выглядит так:\n",
    "\n",
    "recovery = ((C * (F - T)) / (F * (C - T))) * 100%\n",
    "\n",
    "где:\n",
    "\n",
    "C — доля золота в концентрате после флотации/очистки;\n",
    "F — доля золота в сырье/концентрате до флотации/очистки;\n",
    "T — доля золота в отвальных хвостах после флотации/очистки.\n",
    "Основываясь на полученных от компании данных, необходимые нам признаки для проверки формулы это:\n",
    "\n",
    "* rougher.output.concentrate_au (С)\n",
    "* rougher.input.feed_au (F)\n",
    "* rougher.output.tail_au (T)\n",
    "\n",
    "А сам результат работы формулы находится здесь:\n",
    "\n",
    "* rougher.output.recovery\n",
    "Проверим, что эффективность обогащения рассчитана правильно. Вычислим её на обучающей выборке для признака rougher.output.recovery. Найдем MAE между нашими расчётами и значением признака.\n",
    "\n",
    "Создадим новый столбец с результатом вычисления эффективности обогащения по формуле."
   ]
  },
  {
   "cell_type": "code",
   "execution_count": 7,
   "metadata": {},
   "outputs": [],
   "source": [
    "#избавимся от пропусков в столбце rougher.output.recovery\n",
    "train.dropna(subset = ['rougher.output.recovery'], inplace = True)"
   ]
  },
  {
   "cell_type": "code",
   "execution_count": 8,
   "metadata": {},
   "outputs": [],
   "source": [
    "C = train['rougher.output.concentrate_au']\n",
    "F = train['rougher.input.feed_au']\n",
    "T = train['rougher.output.tail_au']"
   ]
  },
  {
   "cell_type": "code",
   "execution_count": 9,
   "metadata": {},
   "outputs": [],
   "source": [
    "calculation = ((C * (F - T)) / (F * (C - T))) * 100"
   ]
  },
  {
   "cell_type": "markdown",
   "metadata": {},
   "source": [
    "Построим гистограммы для двух наборов значений recovery - старого и нового."
   ]
  },
  {
   "cell_type": "code",
   "execution_count": 10,
   "metadata": {},
   "outputs": [],
   "source": [
    "old_recovery = train['rougher.output.recovery']"
   ]
  },
  {
   "cell_type": "code",
   "execution_count": 11,
   "metadata": {},
   "outputs": [
    {
     "data": {
      "text/plain": [
       "<AxesSubplot:>"
      ]
     },
     "execution_count": 11,
     "metadata": {},
     "output_type": "execute_result"
    },
    {
     "data": {
      "image/png": "[encoded data removed]",
      "text/plain": [
       "<Figure size 432x288 with 1 Axes>"
      ]
     },
     "metadata": {
      "needs_background": "light"
     },
     "output_type": "display_data"
    }
   ],
   "source": [
    "train['rougher.output.recovery'].hist(bins=50, range=(0, 125))"
   ]
  },
  {
   "cell_type": "code",
   "execution_count": 12,
   "metadata": {},
   "outputs": [
    {
     "data": {
      "text/plain": [
       "<AxesSubplot:>"
      ]
     },
     "execution_count": 12,
     "metadata": {},
     "output_type": "execute_result"
    },
    {
     "data": {
      "image/png": "[encoded data removed]",
      "text/plain": [
       "<Figure size 432x288 with 1 Axes>"
      ]
     },
     "metadata": {
      "needs_background": "light"
     },
     "output_type": "display_data"
    }
   ],
   "source": [
    "calculation.hist(bins=50, range=(0, 125))"
   ]
  },
  {
   "cell_type": "markdown",
   "metadata": {},
   "source": [
    "На графиках нет различия в распределении старых и новых данных. Посчитаем MAE и посмотрим на среднее абсолютное отклонение."
   ]
  },
  {
   "cell_type": "code",
   "execution_count": 13,
   "metadata": {},
   "outputs": [
    {
     "name": "stdout",
     "output_type": "stream",
     "text": [
      "MAE: 9.73512347450521e-15\n"
     ]
    }
   ],
   "source": [
    "print('MAE:', mean_absolute_error(old_recovery, calculation))"
   ]
  },
  {
   "cell_type": "markdown",
   "metadata": {},
   "source": [
    "Среднее абсолютное отклонение очень мало. Различий между данными действительно нет, рассчеты верны.\n",
    "\n",
    "Сравним наполнение обучающей и тестовой выборок."
   ]
  },
  {
   "cell_type": "code",
   "execution_count": 14,
   "metadata": {},
   "outputs": [
    {
     "name": "stdout",
     "output_type": "stream",
     "text": [
      "(14149, 87)\n",
      "(5290, 53)\n"
     ]
    }
   ],
   "source": [
    "print(train.shape)\n",
    "print(test.shape)"
   ]
  },
  {
   "cell_type": "markdown",
   "metadata": {},
   "source": [
    "В обущающей выборке признаков гораздо больше. Проанализируем те признаки, которые недоступны в тестовой выборке."
   ]
  },
  {
   "cell_type": "code",
   "execution_count": 15,
   "metadata": {},
   "outputs": [
    {
     "data": {
      "text/html": [
       "<div>\n",
       "<style scoped>\n",
       "    .dataframe tbody tr th:only-of-type {\n",
       "        vertical-align: middle;\n",
       "    }\n",
       "\n",
       "    .dataframe tbody tr th {\n",
       "        vertical-align: top;\n",
       "    }\n",
       "\n",
       "    .dataframe thead th {\n",
       "        text-align: right;\n",
       "    }\n",
       "</style>\n",
       "<table border=\"1\" class=\"dataframe\">\n",
       "  <thead>\n",
       "    <tr style=\"text-align: right;\">\n",
       "      <th></th>\n",
       "      <th>final.output.concentrate_ag</th>\n",
       "      <th>final.output.concentrate_pb</th>\n",
       "      <th>final.output.concentrate_sol</th>\n",
       "      <th>final.output.concentrate_au</th>\n",
       "      <th>final.output.recovery</th>\n",
       "      <th>final.output.tail_ag</th>\n",
       "      <th>final.output.tail_pb</th>\n",
       "      <th>final.output.tail_sol</th>\n",
       "      <th>final.output.tail_au</th>\n",
       "      <th>primary_cleaner.output.concentrate_ag</th>\n",
       "      <th>...</th>\n",
       "      <th>rougher.output.concentrate_au</th>\n",
       "      <th>rougher.output.recovery</th>\n",
       "      <th>rougher.output.tail_ag</th>\n",
       "      <th>rougher.output.tail_pb</th>\n",
       "      <th>rougher.output.tail_sol</th>\n",
       "      <th>rougher.output.tail_au</th>\n",
       "      <th>secondary_cleaner.output.tail_ag</th>\n",
       "      <th>secondary_cleaner.output.tail_pb</th>\n",
       "      <th>secondary_cleaner.output.tail_sol</th>\n",
       "      <th>secondary_cleaner.output.tail_au</th>\n",
       "    </tr>\n",
       "  </thead>\n",
       "  <tbody>\n",
       "    <tr>\n",
       "      <th>0</th>\n",
       "      <td>6.055403</td>\n",
       "      <td>9.889648</td>\n",
       "      <td>5.507324</td>\n",
       "      <td>42.192020</td>\n",
       "      <td>70.541216</td>\n",
       "      <td>10.411962</td>\n",
       "      <td>0.895447</td>\n",
       "      <td>16.904297</td>\n",
       "      <td>2.143149</td>\n",
       "      <td>8.547551</td>\n",
       "      <td>...</td>\n",
       "      <td>19.793808</td>\n",
       "      <td>87.107763</td>\n",
       "      <td>5.008018</td>\n",
       "      <td>0.508728</td>\n",
       "      <td>19.154297</td>\n",
       "      <td>1.170244</td>\n",
       "      <td>14.500184</td>\n",
       "      <td>4.694824</td>\n",
       "      <td>8.764648</td>\n",
       "      <td>2.606185</td>\n",
       "    </tr>\n",
       "    <tr>\n",
       "      <th>1</th>\n",
       "      <td>6.029369</td>\n",
       "      <td>9.968944</td>\n",
       "      <td>5.257781</td>\n",
       "      <td>42.701629</td>\n",
       "      <td>69.266198</td>\n",
       "      <td>10.462676</td>\n",
       "      <td>0.927452</td>\n",
       "      <td>16.634514</td>\n",
       "      <td>2.224930</td>\n",
       "      <td>8.558743</td>\n",
       "      <td>...</td>\n",
       "      <td>20.050975</td>\n",
       "      <td>86.843261</td>\n",
       "      <td>4.955378</td>\n",
       "      <td>0.536689</td>\n",
       "      <td>18.965234</td>\n",
       "      <td>1.184827</td>\n",
       "      <td>14.265474</td>\n",
       "      <td>4.592547</td>\n",
       "      <td>9.001494</td>\n",
       "      <td>2.488248</td>\n",
       "    </tr>\n",
       "    <tr>\n",
       "      <th>2</th>\n",
       "      <td>6.055926</td>\n",
       "      <td>10.213995</td>\n",
       "      <td>5.383759</td>\n",
       "      <td>42.657501</td>\n",
       "      <td>68.116445</td>\n",
       "      <td>10.507046</td>\n",
       "      <td>0.953716</td>\n",
       "      <td>16.208849</td>\n",
       "      <td>2.257889</td>\n",
       "      <td>8.603505</td>\n",
       "      <td>...</td>\n",
       "      <td>19.737170</td>\n",
       "      <td>86.842308</td>\n",
       "      <td>4.843460</td>\n",
       "      <td>0.546416</td>\n",
       "      <td>18.808533</td>\n",
       "      <td>1.162562</td>\n",
       "      <td>14.115662</td>\n",
       "      <td>4.624775</td>\n",
       "      <td>8.842896</td>\n",
       "      <td>2.458187</td>\n",
       "    </tr>\n",
       "    <tr>\n",
       "      <th>3</th>\n",
       "      <td>6.047977</td>\n",
       "      <td>9.977019</td>\n",
       "      <td>4.858634</td>\n",
       "      <td>42.689819</td>\n",
       "      <td>68.347543</td>\n",
       "      <td>10.422762</td>\n",
       "      <td>0.883763</td>\n",
       "      <td>16.532835</td>\n",
       "      <td>2.146849</td>\n",
       "      <td>7.221879</td>\n",
       "      <td>...</td>\n",
       "      <td>19.320810</td>\n",
       "      <td>87.226430</td>\n",
       "      <td>4.655288</td>\n",
       "      <td>0.542525</td>\n",
       "      <td>19.330200</td>\n",
       "      <td>1.079755</td>\n",
       "      <td>13.732071</td>\n",
       "      <td>4.482453</td>\n",
       "      <td>9.122857</td>\n",
       "      <td>2.322062</td>\n",
       "    </tr>\n",
       "    <tr>\n",
       "      <th>4</th>\n",
       "      <td>6.148599</td>\n",
       "      <td>10.142511</td>\n",
       "      <td>4.939416</td>\n",
       "      <td>42.774141</td>\n",
       "      <td>66.927016</td>\n",
       "      <td>10.360302</td>\n",
       "      <td>0.792826</td>\n",
       "      <td>16.525686</td>\n",
       "      <td>2.055292</td>\n",
       "      <td>9.089428</td>\n",
       "      <td>...</td>\n",
       "      <td>19.216101</td>\n",
       "      <td>86.688794</td>\n",
       "      <td>4.552800</td>\n",
       "      <td>0.515438</td>\n",
       "      <td>19.267422</td>\n",
       "      <td>1.012642</td>\n",
       "      <td>14.079996</td>\n",
       "      <td>4.470737</td>\n",
       "      <td>8.871028</td>\n",
       "      <td>2.330448</td>\n",
       "    </tr>\n",
       "  </tbody>\n",
       "</table>\n",
       "<p>5 rows × 34 columns</p>\n",
       "</div>"
      ],
      "text/plain": [
       "   final.output.concentrate_ag  final.output.concentrate_pb  \\\n",
       "0                     6.055403                     9.889648   \n",
       "1                     6.029369                     9.968944   \n",
       "2                     6.055926                    10.213995   \n",
       "3                     6.047977                     9.977019   \n",
       "4                     6.148599                    10.142511   \n",
       "\n",
       "   final.output.concentrate_sol  final.output.concentrate_au  \\\n",
       "0                      5.507324                    42.192020   \n",
       "1                      5.257781                    42.701629   \n",
       "2                      5.383759                    42.657501   \n",
       "3                      4.858634                    42.689819   \n",
       "4                      4.939416                    42.774141   \n",
       "\n",
       "   final.output.recovery  final.output.tail_ag  final.output.tail_pb  \\\n",
       "0              70.541216             10.411962              0.895447   \n",
       "1              69.266198             10.462676              0.927452   \n",
       "2              68.116445             10.507046              0.953716   \n",
       "3              68.347543             10.422762              0.883763   \n",
       "4              66.927016             10.360302              0.792826   \n",
       "\n",
       "   final.output.tail_sol  final.output.tail_au  \\\n",
       "0              16.904297              2.143149   \n",
       "1              16.634514              2.224930   \n",
       "2              16.208849              2.257889   \n",
       "3              16.532835              2.146849   \n",
       "4              16.525686              2.055292   \n",
       "\n",
       "   primary_cleaner.output.concentrate_ag  ...  rougher.output.concentrate_au  \\\n",
       "0                               8.547551  ...                      19.793808   \n",
       "1                               8.558743  ...                      20.050975   \n",
       "2                               8.603505  ...                      19.737170   \n",
       "3                               7.221879  ...                      19.320810   \n",
       "4                               9.089428  ...                      19.216101   \n",
       "\n",
       "   rougher.output.recovery  rougher.output.tail_ag  rougher.output.tail_pb  \\\n",
       "0                87.107763                5.008018                0.508728   \n",
       "1                86.843261                4.955378                0.536689   \n",
       "2                86.842308                4.843460                0.546416   \n",
       "3                87.226430                4.655288                0.542525   \n",
       "4                86.688794                4.552800                0.515438   \n",
       "\n",
       "   rougher.output.tail_sol  rougher.output.tail_au  \\\n",
       "0                19.154297                1.170244   \n",
       "1                18.965234                1.184827   \n",
       "2                18.808533                1.162562   \n",
       "3                19.330200                1.079755   \n",
       "4                19.267422                1.012642   \n",
       "\n",
       "   secondary_cleaner.output.tail_ag  secondary_cleaner.output.tail_pb  \\\n",
       "0                         14.500184                          4.694824   \n",
       "1                         14.265474                          4.592547   \n",
       "2                         14.115662                          4.624775   \n",
       "3                         13.732071                          4.482453   \n",
       "4                         14.079996                          4.470737   \n",
       "\n",
       "   secondary_cleaner.output.tail_sol  secondary_cleaner.output.tail_au  \n",
       "0                           8.764648                          2.606185  \n",
       "1                           9.001494                          2.488248  \n",
       "2                           8.842896                          2.458187  \n",
       "3                           9.122857                          2.322062  \n",
       "4                           8.871028                          2.330448  \n",
       "\n",
       "[5 rows x 34 columns]"
      ]
     },
     "execution_count": 15,
     "metadata": {},
     "output_type": "execute_result"
    }
   ],
   "source": [
    "missing_cols = train.columns.drop(test.columns)\n",
    "train[missing_cols].head()"
   ]
  },
  {
   "cell_type": "markdown",
   "metadata": {},
   "source": [
    "По сути, все эти столбцы - целевые признаки (в зависимости от того, что именно мы предсказываем). Это концентрация различных веществ на выходе после отчистки, а также доля веществ в отвальных хвостах.\n",
    "\n",
    "Выходит, у нас есть 53 признака (те, что в тестовой выборке) и 2 целевых признака, как по условию - rougher.output.recovery и final.output.recovery. Осталось убрать из обучающей выборки ненужные признаки и добавить целевые признаки в тестовую выборку."
   ]
  },
  {
   "cell_type": "code",
   "execution_count": 16,
   "metadata": {},
   "outputs": [],
   "source": [
    "cols_to_drop = missing_cols.drop(['final.output.recovery', 'rougher.output.recovery'])\n",
    "right_cols = train.columns.drop(cols_to_drop)\n",
    "train = train[right_cols]"
   ]
  },
  {
   "cell_type": "markdown",
   "metadata": {},
   "source": [
    "Обучающая выборка готова, теперь займемся тестовой. Столбец date в исходных данных содержит уникальные значения. Будем использовать эти значения как индексы, чтобы объединить датасеты и добавить в тестовую выборку недостающую информацию."
   ]
  },
  {
   "cell_type": "code",
   "execution_count": 17,
   "metadata": {},
   "outputs": [],
   "source": [
    "target_features_to_join = full_data[['date', 'final.output.recovery', 'rougher.output.recovery']].copy()"
   ]
  },
  {
   "cell_type": "code",
   "execution_count": 18,
   "metadata": {},
   "outputs": [],
   "source": [
    "test = test.join(target_features_to_join.set_index('date'), on='date')"
   ]
  },
  {
   "cell_type": "code",
   "execution_count": 19,
   "metadata": {},
   "outputs": [
    {
     "data": {
      "text/plain": [
       "False    14149\n",
       "Name: final.output.recovery, dtype: int64"
      ]
     },
     "execution_count": 19,
     "metadata": {},
     "output_type": "execute_result"
    }
   ],
   "source": [
    "train['final.output.recovery'].isnull().value_counts()"
   ]
  },
  {
   "cell_type": "code",
   "execution_count": 20,
   "metadata": {},
   "outputs": [
    {
     "data": {
      "text/plain": [
       "False    5290\n",
       "Name: final.output.recovery, dtype: int64"
      ]
     },
     "execution_count": 20,
     "metadata": {},
     "output_type": "execute_result"
    }
   ],
   "source": [
    "test['final.output.recovery'].isnull().value_counts()"
   ]
  },
  {
   "cell_type": "markdown",
   "metadata": {},
   "source": [
    "На примере столбца final.output.recovery видим, что в обеих выборках есть отсутствующие данные. Избавимся от значений NaN в целевых признаках обеих выборок - такие данные не несут пользы."
   ]
  },
  {
   "cell_type": "code",
   "execution_count": 21,
   "metadata": {},
   "outputs": [],
   "source": [
    "train.dropna(subset = ['final.output.recovery', 'rougher.output.recovery'], inplace = True)\n",
    "test.dropna(subset = ['final.output.recovery', 'rougher.output.recovery'], inplace = True)"
   ]
  },
  {
   "cell_type": "code",
   "execution_count": 22,
   "metadata": {},
   "outputs": [],
   "source": [
    "test.reset_index(drop=True, inplace=True)\n",
    "train.reset_index(drop=True, inplace=True)"
   ]
  },
  {
   "cell_type": "code",
   "execution_count": 23,
   "metadata": {},
   "outputs": [
    {
     "name": "stdout",
     "output_type": "stream",
     "text": [
      "(14149, 55)\n",
      "(5290, 55)\n"
     ]
    }
   ],
   "source": [
    "print(train.shape)\n",
    "print(test.shape)"
   ]
  },
  {
   "cell_type": "markdown",
   "metadata": {},
   "source": [
    "Теперь у нас есть готовые обучающая и тестовая выборки, состоящие из необходимых столбцов и очищенные от наблюдений с пропусками в целевых признаках."
   ]
  },
  {
   "cell_type": "markdown",
   "metadata": {},
   "source": [
    "## Анализ данных"
   ]
  },
  {
   "cell_type": "markdown",
   "metadata": {},
   "source": [
    "Посмотрим, как меняется концентрация металлов (Au, Ag, Pb) на различных этапах очистки."
   ]
  },
  {
   "cell_type": "code",
   "execution_count": 24,
   "metadata": {},
   "outputs": [],
   "source": [
    "#подготовим датасет с необходимыми данными для золота\n",
    "au_data = (full_data[[\n",
    "    'rougher.input.feed_au', \n",
    "    'rougher.output.concentrate_au', \n",
    "    'primary_cleaner.output.concentrate_au', \n",
    "    'final.output.concentrate_au']].copy())"
   ]
  },
  {
   "cell_type": "code",
   "execution_count": 25,
   "metadata": {},
   "outputs": [],
   "source": [
    "#серебра\n",
    "ag_data = (full_data[[\n",
    "    'rougher.input.feed_ag', \n",
    "    'rougher.output.concentrate_ag', \n",
    "    'primary_cleaner.output.concentrate_ag', \n",
    "    'final.output.concentrate_ag']].copy())"
   ]
  },
  {
   "cell_type": "code",
   "execution_count": 26,
   "metadata": {},
   "outputs": [],
   "source": [
    "#свинца\n",
    "pb_data = (full_data[[\n",
    "    'rougher.input.feed_pb', \n",
    "    'rougher.output.concentrate_pb', \n",
    "    'primary_cleaner.output.concentrate_pb', \n",
    "    'final.output.concentrate_pb']].copy())"
   ]
  },
  {
   "cell_type": "code",
   "execution_count": 27,
   "metadata": {},
   "outputs": [],
   "source": [
    "#напишем функцию, которая будет рисовать данные всех четырех столбцов на одном графике\n",
    "def draw_hist (data, title):\n",
    "    fig, ax = plt.subplots()\n",
    "    ax.set_ylabel('Кол-во наблюдений')\n",
    "    ax.set_xlabel('Концентрация металла')\n",
    "    ax.set_title(title)\n",
    "    for col in data:\n",
    "        data[col].hist(alpha=.3) \n",
    "        ax.legend(['Исходное сырье','Флотация','Первичная очистка', 'Вторичная очистка'])"
   ]
  },
  {
   "cell_type": "code",
   "execution_count": 28,
   "metadata": {},
   "outputs": [
    {
     "data": {
      "image/png": "[encoded data removed]",
      "text/plain": [
       "<Figure size 432x288 with 1 Axes>"
      ]
     },
     "metadata": {
      "needs_background": "light"
     },
     "output_type": "display_data"
    }
   ],
   "source": [
    "draw_hist(au_data, 'Золото')"
   ]
  },
  {
   "cell_type": "code",
   "execution_count": 29,
   "metadata": {},
   "outputs": [
    {
     "data": {
      "image/png": "[encoded data removed]",
      "text/plain": [
       "<Figure size 432x288 with 1 Axes>"
      ]
     },
     "metadata": {
      "needs_background": "light"
     },
     "output_type": "display_data"
    }
   ],
   "source": [
    "draw_hist(ag_data, 'Серебро')"
   ]
  },
  {
   "cell_type": "code",
   "execution_count": 30,
   "metadata": {},
   "outputs": [
    {
     "data": {
      "image/png": "[encoded data removed]",
      "text/plain": [
       "<Figure size 432x288 with 1 Axes>"
      ]
     },
     "metadata": {
      "needs_background": "light"
     },
     "output_type": "display_data"
    }
   ],
   "source": [
    "draw_hist(pb_data, 'Свинец')"
   ]
  },
  {
   "cell_type": "markdown",
   "metadata": {},
   "source": [
    "По графикам можем определить следующее:\n",
    "\n",
    "1.Для разных металлов концентрация на различных этапах очистки отличается. Например, концентрация золота увеличивается с каждым этапом. Концентрация серебра после вторичной очистки меньше, чем в исходном сырье. А у свинца результаты первичной и вторичной очистки почти идентичны.\n",
    "\n",
    "2.В данных много нулевых значений. Скорее всего, для таких наблюдений не были сделаны замеры по какой-то причине, либо эти данные утрачены. Впоследствии нужно будет избавиться от таких данных, они могут повлиять на качество модели.\n",
    "\n",
    "У нас есть два признака с параметром feed_size в обучающей и тестовой выборках - rougher.input.feed_size и primary_cleaner.input.feed_size. Сравним их распределения. Если они сильно отличаются друг от друга, оценка модели будет неправильной."
   ]
  },
  {
   "cell_type": "code",
   "execution_count": 31,
   "metadata": {},
   "outputs": [
    {
     "data": {
      "text/plain": [
       "<AxesSubplot:>"
      ]
     },
     "execution_count": 31,
     "metadata": {},
     "output_type": "execute_result"
    },
    {
     "data": {
      "image/png": "[encoded data removed]",
      "text/plain": [
       "<Figure size 432x288 with 1 Axes>"
      ]
     },
     "metadata": {
      "needs_background": "light"
     },
     "output_type": "display_data"
    }
   ],
   "source": [
    "train['rougher.input.feed_size'].hist(bins=30)"
   ]
  },
  {
   "cell_type": "code",
   "execution_count": 32,
   "metadata": {},
   "outputs": [
    {
     "data": {
      "text/plain": [
       "<AxesSubplot:>"
      ]
     },
     "execution_count": 32,
     "metadata": {},
     "output_type": "execute_result"
    },
    {
     "data": {
      "image/png": "[encoded data removed]",
      "text/plain": [
       "<Figure size 432x288 with 1 Axes>"
      ]
     },
     "metadata": {
      "needs_background": "light"
     },
     "output_type": "display_data"
    }
   ],
   "source": [
    "test['rougher.input.feed_size'].hist(bins=30)"
   ]
  },
  {
   "cell_type": "code",
   "execution_count": 33,
   "metadata": {},
   "outputs": [
    {
     "data": {
      "text/plain": [
       "<AxesSubplot:>"
      ]
     },
     "execution_count": 33,
     "metadata": {},
     "output_type": "execute_result"
    },
    {
     "data": {
      "image/png": "[encoded data removed]",
      "text/plain": [
       "<Figure size 432x288 with 1 Axes>"
      ]
     },
     "metadata": {
      "needs_background": "light"
     },
     "output_type": "display_data"
    }
   ],
   "source": [
    "train['primary_cleaner.input.feed_size'].hist(bins=20, range=(0, 15))"
   ]
  },
  {
   "cell_type": "code",
   "execution_count": 34,
   "metadata": {},
   "outputs": [
    {
     "data": {
      "text/plain": [
       "<AxesSubplot:>"
      ]
     },
     "execution_count": 34,
     "metadata": {},
     "output_type": "execute_result"
    },
    {
     "data": {
      "image/png": "[encoded data removed]",
      "text/plain": [
       "<Figure size 432x288 with 1 Axes>"
      ]
     },
     "metadata": {
      "needs_background": "light"
     },
     "output_type": "display_data"
    }
   ],
   "source": [
    "test['primary_cleaner.input.feed_size'].hist(bins=20, range=(0, 15))"
   ]
  },
  {
   "cell_type": "code",
   "execution_count": null,
   "metadata": {},
   "outputs": [],
   "source": []
  },
  {
   "cell_type": "markdown",
   "metadata": {},
   "source": [
    "Для обоих параметров распределения не сильно отличаются друг от друга, такие неточности не должны критично повлиять на работу модели.\n",
    "\n",
    "Исследуем суммарную концентрацию всех веществ на разных стадиях: в сырье, в черновом и финальном концентратах."
   ]
  },
  {
   "cell_type": "code",
   "execution_count": 35,
   "metadata": {},
   "outputs": [],
   "source": [
    "#создадим новый датасет с данныим о концентрации веществ и просуммируем их концентрацию на разных стадиях\n",
    "concentrate_data = full_data[['date','rougher.input.feed_ag', 'rougher.input.feed_pb', 'rougher.input.feed_sol', 'rougher.input.feed_au', 'primary_cleaner.output.concentrate_ag', 'primary_cleaner.output.concentrate_pb', 'primary_cleaner.output.concentrate_sol', 'primary_cleaner.output.concentrate_au', 'final.output.concentrate_ag', 'final.output.concentrate_pb', 'final.output.concentrate_sol', 'final.output.concentrate_au']].copy()\n",
    "concentrate_data['conc_sum_rougher'] = concentrate_data['rougher.input.feed_ag'] + concentrate_data['rougher.input.feed_pb'] + concentrate_data['rougher.input.feed_sol'] + concentrate_data['rougher.input.feed_au']\n",
    "concentrate_data['conc_sum_primary'] = concentrate_data['primary_cleaner.output.concentrate_ag'] + concentrate_data['primary_cleaner.output.concentrate_pb'] + concentrate_data['primary_cleaner.output.concentrate_sol'] + concentrate_data['primary_cleaner.output.concentrate_au']\n",
    "concentrate_data['conc_sum_final'] = concentrate_data['final.output.concentrate_ag'] + concentrate_data['final.output.concentrate_pb'] + concentrate_data['final.output.concentrate_sol'] + concentrate_data['final.output.concentrate_au']"
   ]
  },
  {
   "cell_type": "code",
   "execution_count": 36,
   "metadata": {},
   "outputs": [
    {
     "data": {
      "text/plain": [
       "<AxesSubplot:>"
      ]
     },
     "execution_count": 36,
     "metadata": {},
     "output_type": "execute_result"
    },
    {
     "data": {
      "image/png": "[encoded data removed]",
      "text/plain": [
       "<Figure size 432x288 with 1 Axes>"
      ]
     },
     "metadata": {
      "needs_background": "light"
     },
     "output_type": "display_data"
    }
   ],
   "source": [
    "#построим гистограммы для суммарных концентраций веществ\n",
    "concentrate_data['conc_sum_rougher'].hist(alpha=.3)\n",
    "concentrate_data['conc_sum_primary'].hist(alpha=.3)\n",
    "concentrate_data['conc_sum_final'].hist(alpha=.3)"
   ]
  },
  {
   "cell_type": "markdown",
   "metadata": {},
   "source": [
    "По графикам видим, что в суммарных данных много нулевых или близких к нулю значений. Нужно избавиться от наблюдений с такими аномалиями, чтобы они не повлияли на качество модели."
   ]
  },
  {
   "cell_type": "code",
   "execution_count": 37,
   "metadata": {},
   "outputs": [],
   "source": [
    "#создадим датасет с аномальными наблюдениями\n",
    "anomaly = (concentrate_data[['date', 'conc_sum_rougher', 'conc_sum_primary', 'conc_sum_final']]\n",
    "           .copy()\n",
    "           .query('conc_sum_rougher == 0 or conc_sum_primary == 0 or conc_sum_final == 0')\n",
    "           .fillna(0))"
   ]
  },
  {
   "cell_type": "code",
   "execution_count": 38,
   "metadata": {},
   "outputs": [
    {
     "data": {
      "text/html": [
       "<div>\n",
       "<style scoped>\n",
       "    .dataframe tbody tr th:only-of-type {\n",
       "        vertical-align: middle;\n",
       "    }\n",
       "\n",
       "    .dataframe tbody tr th {\n",
       "        vertical-align: top;\n",
       "    }\n",
       "\n",
       "    .dataframe thead th {\n",
       "        text-align: right;\n",
       "    }\n",
       "</style>\n",
       "<table border=\"1\" class=\"dataframe\">\n",
       "  <thead>\n",
       "    <tr style=\"text-align: right;\">\n",
       "      <th></th>\n",
       "      <th>date</th>\n",
       "      <th>conc_sum_rougher</th>\n",
       "      <th>conc_sum_primary</th>\n",
       "      <th>conc_sum_final</th>\n",
       "    </tr>\n",
       "  </thead>\n",
       "  <tbody>\n",
       "    <tr>\n",
       "      <th>19</th>\n",
       "      <td>2016-01-15 19:00:00</td>\n",
       "      <td>56.005644</td>\n",
       "      <td>0.0</td>\n",
       "      <td>64.546766</td>\n",
       "    </tr>\n",
       "    <tr>\n",
       "      <th>22</th>\n",
       "      <td>2016-01-15 22:00:00</td>\n",
       "      <td>56.038252</td>\n",
       "      <td>0.0</td>\n",
       "      <td>64.554911</td>\n",
       "    </tr>\n",
       "    <tr>\n",
       "      <th>30</th>\n",
       "      <td>2016-01-16 06:00:00</td>\n",
       "      <td>57.764677</td>\n",
       "      <td>0.0</td>\n",
       "      <td>63.765751</td>\n",
       "    </tr>\n",
       "    <tr>\n",
       "      <th>71</th>\n",
       "      <td>2016-01-18 01:00:00</td>\n",
       "      <td>56.626743</td>\n",
       "      <td>0.0</td>\n",
       "      <td>65.773298</td>\n",
       "    </tr>\n",
       "    <tr>\n",
       "      <th>74</th>\n",
       "      <td>2016-01-18 04:00:00</td>\n",
       "      <td>56.369424</td>\n",
       "      <td>0.0</td>\n",
       "      <td>59.902215</td>\n",
       "    </tr>\n",
       "  </tbody>\n",
       "</table>\n",
       "</div>"
      ],
      "text/plain": [
       "                   date  conc_sum_rougher  conc_sum_primary  conc_sum_final\n",
       "19  2016-01-15 19:00:00         56.005644               0.0       64.546766\n",
       "22  2016-01-15 22:00:00         56.038252               0.0       64.554911\n",
       "30  2016-01-16 06:00:00         57.764677               0.0       63.765751\n",
       "71  2016-01-18 01:00:00         56.626743               0.0       65.773298\n",
       "74  2016-01-18 04:00:00         56.369424               0.0       59.902215"
      ]
     },
     "execution_count": 38,
     "metadata": {},
     "output_type": "execute_result"
    }
   ],
   "source": [
    "anomaly.head()"
   ]
  },
  {
   "cell_type": "markdown",
   "metadata": {},
   "source": [
    "Избавимся от аномальных значений в тестовой выборке."
   ]
  },
  {
   "cell_type": "code",
   "execution_count": 39,
   "metadata": {},
   "outputs": [],
   "source": [
    "test = test.join(anomaly.set_index('date'), on='date')"
   ]
  },
  {
   "cell_type": "code",
   "execution_count": 40,
   "metadata": {},
   "outputs": [],
   "source": [
    "test[['conc_sum_rougher', 'conc_sum_primary', 'conc_sum_final']] = (test[['conc_sum_rougher', 'conc_sum_primary', 'conc_sum_final']].fillna(-1))"
   ]
  },
  {
   "cell_type": "code",
   "execution_count": 41,
   "metadata": {},
   "outputs": [],
   "source": [
    "test = test.query('conc_sum_rougher == -1 and conc_sum_primary == -1 and conc_sum_final == -1')"
   ]
  },
  {
   "cell_type": "code",
   "execution_count": 42,
   "metadata": {},
   "outputs": [
    {
     "data": {
      "text/plain": [
       "<AxesSubplot:>"
      ]
     },
     "execution_count": 42,
     "metadata": {},
     "output_type": "execute_result"
    },
    {
     "data": {
      "image/png": "[encoded data removed]",
      "text/plain": [
       "<Figure size 432x288 with 1 Axes>"
      ]
     },
     "metadata": {
      "needs_background": "light"
     },
     "output_type": "display_data"
    }
   ],
   "source": [
    "#проверим, что все выполнилось правильно - значением всех признаков должно быть -1\n",
    "test['conc_sum_rougher'].hist(alpha=.2)\n",
    "test['conc_sum_primary'].hist(alpha=.2)\n",
    "test['conc_sum_final'].hist(alpha=.2)"
   ]
  },
  {
   "cell_type": "code",
   "execution_count": 43,
   "metadata": {},
   "outputs": [],
   "source": [
    "#избавимся от ненужных столбцов\n",
    "test.drop(['conc_sum_rougher', 'conc_sum_primary', 'conc_sum_final'], axis='columns', inplace=True)"
   ]
  },
  {
   "cell_type": "markdown",
   "metadata": {},
   "source": [
    "Теперь удалим аномальные значения из обучающей выборки."
   ]
  },
  {
   "cell_type": "code",
   "execution_count": 44,
   "metadata": {},
   "outputs": [],
   "source": [
    "train = train.join(anomaly.set_index('date'), on='date')\n",
    "train[['conc_sum_rougher', 'conc_sum_primary', 'conc_sum_final']] = (train[['conc_sum_rougher', 'conc_sum_primary', 'conc_sum_final']]\n",
    "                                                                    .fillna(-1))\n",
    "train = train.query('conc_sum_rougher == -1 and conc_sum_primary == -1 and conc_sum_final == -1')\n",
    "train.drop(['conc_sum_rougher', 'conc_sum_primary', 'conc_sum_final'], axis='columns', inplace=True)"
   ]
  },
  {
   "cell_type": "code",
   "execution_count": 45,
   "metadata": {},
   "outputs": [],
   "source": [
    "#удалим из выборок оставшиеся NaN-значения\n",
    "test.dropna(inplace=True)\n",
    "train.dropna(inplace=True)"
   ]
  },
  {
   "cell_type": "code",
   "execution_count": 46,
   "metadata": {},
   "outputs": [
    {
     "name": "stdout",
     "output_type": "stream",
     "text": [
      "(12593, 55)\n",
      "(5169, 55)\n"
     ]
    }
   ],
   "source": [
    "print(train.shape)\n",
    "print(test.shape)"
   ]
  },
  {
   "cell_type": "markdown",
   "metadata": {},
   "source": [
    "Выборки готовы, можно строить модель."
   ]
  },
  {
   "cell_type": "markdown",
   "metadata": {},
   "source": [
    "## Модель"
   ]
  },
  {
   "cell_type": "markdown",
   "metadata": {},
   "source": [
    "Напишем функцию для рассчета метрики качества модели - sMAPE"
   ]
  },
  {
   "cell_type": "code",
   "execution_count": 47,
   "metadata": {},
   "outputs": [],
   "source": [
    "def smape (target, predictions):\n",
    "    return 100/len(target) * np.sum(2 * np.abs(predictions - target) / (np.abs(target) + np.abs(predictions)))"
   ]
  },
  {
   "cell_type": "markdown",
   "metadata": {},
   "source": [
    "А также функцию для рассчета итогового sMAPE."
   ]
  },
  {
   "cell_type": "code",
   "execution_count": 48,
   "metadata": {},
   "outputs": [],
   "source": [
    "def final_smape (rougher, final):\n",
    "    return 0.25 * rougher + 0.75 * final"
   ]
  },
  {
   "cell_type": "markdown",
   "metadata": {},
   "source": [
    "Подготовим features и target для обучающей выборки."
   ]
  },
  {
   "cell_type": "code",
   "execution_count": 49,
   "metadata": {},
   "outputs": [],
   "source": [
    "target_rougher = train['rougher.output.recovery']\n",
    "target_final = train['final.output.recovery']\n",
    "\n",
    "features_train = train.drop(['date', 'final.output.recovery', 'rougher.output.recovery'], axis='columns')"
   ]
  },
  {
   "cell_type": "markdown",
   "metadata": {},
   "source": [
    "Масштабируем признаки"
   ]
  },
  {
   "cell_type": "code",
   "execution_count": 50,
   "metadata": {},
   "outputs": [],
   "source": [
    "scaler = StandardScaler()\n",
    "scaler.fit(features_train)\n",
    "features_train = scaler.transform(features_train)"
   ]
  },
  {
   "cell_type": "markdown",
   "metadata": {},
   "source": [
    "Проверим несколько моделей методом кросс-валидации и выберем лучший результат."
   ]
  },
  {
   "cell_type": "code",
   "execution_count": 51,
   "metadata": {},
   "outputs": [
    {
     "data": {
      "text/plain": [
       "-2.7627634627394144"
      ]
     },
     "execution_count": 51,
     "metadata": {},
     "output_type": "execute_result"
    }
   ],
   "source": [
    "model_dtr = DecisionTreeRegressor(random_state=12345)\n",
    "cross_val_score(model_dtr, features_train, target_rougher, cv=3).mean()"
   ]
  },
  {
   "cell_type": "code",
   "execution_count": 52,
   "metadata": {},
   "outputs": [
    {
     "data": {
      "text/plain": [
       "-0.3487050264428386"
      ]
     },
     "execution_count": 52,
     "metadata": {},
     "output_type": "execute_result"
    }
   ],
   "source": [
    "model_lr = LinearRegression()\n",
    "cross_val_score(model_lr, features_train, target_rougher, cv=3).mean()"
   ]
  },
  {
   "cell_type": "code",
   "execution_count": 53,
   "metadata": {},
   "outputs": [
    {
     "name": "stdout",
     "output_type": "stream",
     "text": [
      "0:\tlearn: 11.1329495\ttotal: 55.7ms\tremaining: 55.7ms\n",
      "1:\tlearn: 10.4365891\ttotal: 60.2ms\tremaining: 0us\n",
      "0:\tlearn: 10.1677055\ttotal: 4.82ms\tremaining: 4.82ms\n",
      "1:\tlearn: 9.3328311\ttotal: 8.8ms\tremaining: 0us\n",
      "0:\tlearn: 10.4213532\ttotal: 13.4ms\tremaining: 13.4ms\n",
      "1:\tlearn: 10.1904997\ttotal: 21.6ms\tremaining: 0us\n"
     ]
    },
    {
     "data": {
      "text/plain": [
       "-0.2997732001069671"
      ]
     },
     "execution_count": 53,
     "metadata": {},
     "output_type": "execute_result"
    }
   ],
   "source": [
    "model_cb = CatBoostRegressor(iterations=2, learning_rate=1, depth=3)\n",
    "cross_val_score(model_cb, features_train, target_rougher, cv=3).mean()"
   ]
  },
  {
   "cell_type": "code",
   "execution_count": 54,
   "metadata": {},
   "outputs": [
    {
     "data": {
      "text/plain": [
       "-0.7302685969382674"
      ]
     },
     "execution_count": 54,
     "metadata": {},
     "output_type": "execute_result"
    }
   ],
   "source": [
    "model_rf = RandomForestRegressor(random_state=12345, n_estimators=10)\n",
    "cross_val_score(model_rf, features_train, target_rougher, cv=3).mean()"
   ]
  },
  {
   "cell_type": "markdown",
   "metadata": {},
   "source": [
    "Лучший результат показывает модель CatBoost. Обучим её.\n",
    "\n",
    "Подготовим features и target для тестовой выборки и масштабируем признаки."
   ]
  },
  {
   "cell_type": "code",
   "execution_count": 55,
   "metadata": {},
   "outputs": [],
   "source": [
    "target_rougher_test = test['rougher.output.recovery']\n",
    "target_final_test = test['final.output.recovery']\n",
    "\n",
    "features_test = test.drop(['date', 'final.output.recovery', 'rougher.output.recovery'], axis='columns')"
   ]
  },
  {
   "cell_type": "code",
   "execution_count": 56,
   "metadata": {},
   "outputs": [
    {
     "data": {
      "text/plain": [
       "(0       70.273583\n",
       " 1       68.910432\n",
       " 2       68.143213\n",
       " 3       67.776393\n",
       " 4       61.467078\n",
       "           ...    \n",
       " 5285    68.919891\n",
       " 5286    68.440582\n",
       " 5287    67.092759\n",
       " 5288    68.061186\n",
       " 5289    71.699976\n",
       " Name: final.output.recovery, Length: 5169, dtype: float64,\n",
       " 0       89.993421\n",
       " 1       88.089657\n",
       " 2       88.412756\n",
       " 3       87.360133\n",
       " 4       83.236367\n",
       "           ...    \n",
       " 5285    95.172585\n",
       " 5286    94.575036\n",
       " 5287    93.018138\n",
       " 5288    92.599042\n",
       " 5289    91.177695\n",
       " Name: rougher.output.recovery, Length: 5169, dtype: float64)"
      ]
     },
     "execution_count": 56,
     "metadata": {},
     "output_type": "execute_result"
    }
   ],
   "source": [
    "target_final_test, target_rougher_test"
   ]
  },
  {
   "cell_type": "code",
   "execution_count": 57,
   "metadata": {},
   "outputs": [],
   "source": [
    "scaler = StandardScaler()\n",
    "scaler.fit(features_test)\n",
    "features_test = scaler.transform(features_test)"
   ]
  },
  {
   "cell_type": "markdown",
   "metadata": {},
   "source": [
    "Обучим модель и получим предсказания."
   ]
  },
  {
   "cell_type": "code",
   "execution_count": 58,
   "metadata": {},
   "outputs": [
    {
     "name": "stdout",
     "output_type": "stream",
     "text": [
      "0:\tlearn: 11.0825737\ttotal: 6.71ms\tremaining: 6.71ms\n",
      "1:\tlearn: 10.5202296\ttotal: 13ms\tremaining: 0us\n",
      "0:\tlearn: 7.4506003\ttotal: 8.3ms\tremaining: 8.3ms\n",
      "1:\tlearn: 7.1932438\ttotal: 15.2ms\tremaining: 0us\n"
     ]
    }
   ],
   "source": [
    "model_cb = CatBoostRegressor(iterations=2, learning_rate=1, depth=3)\n",
    "model_cb_1 = CatBoostRegressor(iterations=2, learning_rate=1, depth=3)\n",
    "\n",
    "cb_rougher = model_cb.fit(features_train, target_rougher)\n",
    "cb_final = model_cb_1.fit(features_train, target_final)\n",
    "\n",
    "cb_predictions_rougher = cb_rougher.predict(features_test)\n",
    "cb_predictions_final = cb_final.predict(features_test)"
   ]
  },
  {
   "cell_type": "markdown",
   "metadata": {},
   "source": [
    "Посчитаем sMAPE для обоих признаков и итоговый."
   ]
  },
  {
   "cell_type": "code",
   "execution_count": 59,
   "metadata": {},
   "outputs": [],
   "source": [
    "smape_rougher = smape(target_rougher_test, cb_predictions_rougher)"
   ]
  },
  {
   "cell_type": "code",
   "execution_count": 60,
   "metadata": {},
   "outputs": [],
   "source": [
    "smape_final = smape(target_final_test, cb_predictions_final)"
   ]
  },
  {
   "cell_type": "code",
   "execution_count": 61,
   "metadata": {},
   "outputs": [
    {
     "data": {
      "text/plain": [
       "8.94895448969088"
      ]
     },
     "execution_count": 61,
     "metadata": {},
     "output_type": "execute_result"
    }
   ],
   "source": [
    "final_smape(smape_rougher, smape_final)"
   ]
  },
  {
   "cell_type": "markdown",
   "metadata": {},
   "source": [
    "Проверим качество модели, сравнив с константной. Для этого будем использовать модель DummyRegressor."
   ]
  },
  {
   "cell_type": "code",
   "execution_count": 62,
   "metadata": {},
   "outputs": [],
   "source": [
    "dummy = DummyRegressor(strategy = 'mean')\n",
    "dummy_1 = DummyRegressor(strategy = 'mean')\n",
    "\n",
    "dummy_rougher = dummy.fit(features_train, target_rougher)\n",
    "dummy_predictions_rougher = dummy_rougher.predict(features_test)\n",
    "\n",
    "dummy_final = dummy_1.fit(features_train, target_final)\n",
    "dummy_predictions_final = dummy_final.predict(features_test)"
   ]
  },
  {
   "cell_type": "code",
   "execution_count": 63,
   "metadata": {},
   "outputs": [],
   "source": [
    "smape_rougher_dummy = smape(target_rougher_test, dummy_predictions_rougher)"
   ]
  },
  {
   "cell_type": "code",
   "execution_count": 64,
   "metadata": {},
   "outputs": [],
   "source": [
    "smape_final_dummy = smape(target_final_test, dummy_predictions_final)"
   ]
  },
  {
   "cell_type": "code",
   "execution_count": 65,
   "metadata": {},
   "outputs": [
    {
     "data": {
      "text/plain": [
       "8.873662390741785"
      ]
     },
     "execution_count": 65,
     "metadata": {},
     "output_type": "execute_result"
    }
   ],
   "source": [
    "final_smape(smape_rougher_dummy, smape_final_dummy)"
   ]
  },
  {
   "cell_type": "markdown",
   "metadata": {},
   "source": [
    "Обученная модель предсказывает результат точнее константной. Это говорит о том, что построенная модель адекватна."
   ]
  },
  {
   "cell_type": "markdown",
   "metadata": {},
   "source": [
    "# Вывод\n",
    "Наилучшей моделью является CatBoostRegressor.\n",
    "\n",
    "Написали функции для рассчета sMAPE и итогового sMAPE.\n",
    "\n",
    "Проверили несколько формул кросс-валидацией.\n",
    "\n",
    "Проверили работу модели на тестовой выборке с помощью метрики качества sMAPE и сравнения с константной \n",
    "моделью.\n",
    "\n",
    "Подготовили прототип модели машинного обучения для «Цифры»."
   ]
  },
  {
   "cell_type": "code",
   "execution_count": null,
   "metadata": {},
   "outputs": [],
   "source": []
  }
 ],
 "metadata": {
  "ExecuteTimeLog": [
   {
    "duration": 4,
    "start_time": "2022-05-29T09:50:11.414Z"
   },
   {
    "duration": 853,
    "start_time": "2022-05-29T09:50:55.583Z"
   },
   {
    "duration": 904,
    "start_time": "2022-05-29T09:51:12.392Z"
   },
   {
    "duration": 793,
    "start_time": "2022-05-29T09:51:55.799Z"
   },
   {
    "duration": 23,
    "start_time": "2022-05-29T09:52:19.847Z"
   },
   {
    "duration": 118,
    "start_time": "2022-05-29T09:55:06.447Z"
   },
   {
    "duration": 3,
    "start_time": "2022-05-29T09:55:23.962Z"
   },
   {
    "duration": 7,
    "start_time": "2022-05-29T09:55:42.591Z"
   },
   {
    "duration": 3,
    "start_time": "2022-05-29T09:56:16.501Z"
   },
   {
    "duration": 292,
    "start_time": "2022-05-29T09:56:33.498Z"
   },
   {
    "duration": 186,
    "start_time": "2022-05-29T09:56:55.838Z"
   },
   {
    "duration": 6,
    "start_time": "2022-05-29T09:57:34.594Z"
   },
   {
    "duration": 4,
    "start_time": "2022-05-29T09:58:33.172Z"
   },
   {
    "duration": 27,
    "start_time": "2022-05-29T09:59:08.209Z"
   },
   {
    "duration": 5,
    "start_time": "2022-05-29T10:05:29.095Z"
   },
   {
    "duration": 5,
    "start_time": "2022-05-29T10:06:13.507Z"
   },
   {
    "duration": 5,
    "start_time": "2022-05-29T10:06:17.563Z"
   },
   {
    "duration": 12,
    "start_time": "2022-05-29T10:06:35.038Z"
   },
   {
    "duration": 15,
    "start_time": "2022-05-29T10:06:49.672Z"
   },
   {
    "duration": 6,
    "start_time": "2022-05-29T10:07:06.327Z"
   },
   {
    "duration": 14,
    "start_time": "2022-05-29T10:07:43.390Z"
   },
   {
    "duration": 3,
    "start_time": "2022-05-29T10:07:58.234Z"
   },
   {
    "duration": 4,
    "start_time": "2022-05-29T10:08:12.895Z"
   },
   {
    "duration": 5,
    "start_time": "2022-05-29T10:09:30.539Z"
   },
   {
    "duration": 4,
    "start_time": "2022-05-29T10:09:47.943Z"
   },
   {
    "duration": 4,
    "start_time": "2022-05-29T10:10:07.539Z"
   },
   {
    "duration": 3,
    "start_time": "2022-05-29T10:10:25.805Z"
   },
   {
    "duration": 244,
    "start_time": "2022-05-29T10:10:39.888Z"
   },
   {
    "duration": 223,
    "start_time": "2022-05-29T10:11:03.264Z"
   },
   {
    "duration": 226,
    "start_time": "2022-05-29T10:11:25.644Z"
   },
   {
    "duration": 220,
    "start_time": "2022-05-29T10:13:11.449Z"
   },
   {
    "duration": 159,
    "start_time": "2022-05-29T10:13:30.840Z"
   },
   {
    "duration": 148,
    "start_time": "2022-05-29T10:13:50.840Z"
   },
   {
    "duration": 140,
    "start_time": "2022-05-29T10:14:06.489Z"
   },
   {
    "duration": 11,
    "start_time": "2022-05-29T10:14:45.739Z"
   },
   {
    "duration": 175,
    "start_time": "2022-05-29T10:15:08.513Z"
   },
   {
    "duration": 10,
    "start_time": "2022-05-29T10:15:47.161Z"
   },
   {
    "duration": 11,
    "start_time": "2022-05-29T10:16:03.005Z"
   },
   {
    "duration": 8,
    "start_time": "2022-05-29T10:16:43.789Z"
   },
   {
    "duration": 6,
    "start_time": "2022-05-29T10:16:58.653Z"
   },
   {
    "duration": 6,
    "start_time": "2022-05-29T10:18:02.789Z"
   },
   {
    "duration": 12,
    "start_time": "2022-05-29T10:18:20.805Z"
   },
   {
    "duration": 137,
    "start_time": "2022-05-29T10:18:35.522Z"
   },
   {
    "duration": 4,
    "start_time": "2022-05-29T10:18:54.180Z"
   },
   {
    "duration": 35,
    "start_time": "2022-05-29T10:19:29.645Z"
   },
   {
    "duration": 12,
    "start_time": "2022-05-29T10:19:42.086Z"
   },
   {
    "duration": 3,
    "start_time": "2022-05-29T10:19:55.640Z"
   },
   {
    "duration": 3,
    "start_time": "2022-05-29T10:20:51.854Z"
   },
   {
    "duration": 3,
    "start_time": "2022-05-29T10:21:02.594Z"
   },
   {
    "duration": 2,
    "start_time": "2022-05-29T10:21:40.454Z"
   },
   {
    "duration": 6,
    "start_time": "2022-05-29T10:22:20.014Z"
   },
   {
    "duration": 17,
    "start_time": "2022-05-29T10:22:50.486Z"
   },
   {
    "duration": 1919,
    "start_time": "2022-05-29T10:23:29.440Z"
   },
   {
    "duration": 823,
    "start_time": "2022-05-29T10:23:48.254Z"
   },
   {
    "duration": 1087,
    "start_time": "2022-05-29T10:24:05.070Z"
   },
   {
    "duration": 11409,
    "start_time": "2022-05-29T10:24:28.622Z"
   },
   {
    "duration": 1918,
    "start_time": "2022-05-29T10:25:14.294Z"
   },
   {
    "duration": 11163,
    "start_time": "2022-05-29T10:25:20.619Z"
   },
   {
    "duration": 52,
    "start_time": "2022-05-29T19:57:32.568Z"
   },
   {
    "duration": 1385,
    "start_time": "2022-05-29T19:57:36.990Z"
   },
   {
    "duration": 1208,
    "start_time": "2022-05-29T19:57:38.377Z"
   },
   {
    "duration": 20,
    "start_time": "2022-05-29T19:57:39.587Z"
   },
   {
    "duration": 11,
    "start_time": "2022-05-29T19:57:39.609Z"
   },
   {
    "duration": 3,
    "start_time": "2022-05-29T19:57:39.622Z"
   },
   {
    "duration": 9,
    "start_time": "2022-05-29T19:57:39.627Z"
   },
   {
    "duration": 9,
    "start_time": "2022-05-29T19:57:39.637Z"
   },
   {
    "duration": 194,
    "start_time": "2022-05-29T19:57:39.648Z"
   },
   {
    "duration": 186,
    "start_time": "2022-05-29T19:57:39.844Z"
   },
   {
    "duration": 4,
    "start_time": "2022-05-29T19:57:40.032Z"
   },
   {
    "duration": 7,
    "start_time": "2022-05-29T19:57:40.037Z"
   },
   {
    "duration": 42,
    "start_time": "2022-05-29T19:57:40.045Z"
   },
   {
    "duration": 5,
    "start_time": "2022-05-29T19:57:40.088Z"
   },
   {
    "duration": 7,
    "start_time": "2022-05-29T19:57:40.096Z"
   },
   {
    "duration": 12,
    "start_time": "2022-05-29T19:57:40.104Z"
   },
   {
    "duration": 5,
    "start_time": "2022-05-29T19:57:40.117Z"
   },
   {
    "duration": 6,
    "start_time": "2022-05-29T19:57:40.123Z"
   },
   {
    "duration": 12,
    "start_time": "2022-05-29T19:57:40.130Z"
   },
   {
    "duration": 3,
    "start_time": "2022-05-29T19:57:40.143Z"
   },
   {
    "duration": 3,
    "start_time": "2022-05-29T19:57:40.175Z"
   },
   {
    "duration": 6,
    "start_time": "2022-05-29T19:57:40.179Z"
   },
   {
    "duration": 6,
    "start_time": "2022-05-29T19:57:40.186Z"
   },
   {
    "duration": 6,
    "start_time": "2022-05-29T19:57:40.193Z"
   },
   {
    "duration": 6,
    "start_time": "2022-05-29T19:57:40.200Z"
   },
   {
    "duration": 239,
    "start_time": "2022-05-29T19:57:40.207Z"
   },
   {
    "duration": 213,
    "start_time": "2022-05-29T19:57:40.448Z"
   },
   {
    "duration": 229,
    "start_time": "2022-05-29T19:57:40.663Z"
   },
   {
    "duration": 238,
    "start_time": "2022-05-29T19:57:40.894Z"
   },
   {
    "duration": 162,
    "start_time": "2022-05-29T19:57:41.134Z"
   },
   {
    "duration": 154,
    "start_time": "2022-05-29T19:57:41.298Z"
   },
   {
    "duration": 131,
    "start_time": "2022-05-29T19:57:41.453Z"
   },
   {
    "duration": 13,
    "start_time": "2022-05-29T19:57:41.586Z"
   },
   {
    "duration": 179,
    "start_time": "2022-05-29T19:57:41.601Z"
   },
   {
    "duration": 12,
    "start_time": "2022-05-29T19:57:41.782Z"
   },
   {
    "duration": 8,
    "start_time": "2022-05-29T19:57:41.796Z"
   },
   {
    "duration": 7,
    "start_time": "2022-05-29T19:57:41.806Z"
   },
   {
    "duration": 6,
    "start_time": "2022-05-29T19:57:41.815Z"
   },
   {
    "duration": 12,
    "start_time": "2022-05-29T19:57:41.823Z"
   },
   {
    "duration": 168,
    "start_time": "2022-05-29T19:57:41.837Z"
   },
   {
    "duration": 5,
    "start_time": "2022-05-29T19:57:42.006Z"
   },
   {
    "duration": 30,
    "start_time": "2022-05-29T19:57:42.014Z"
   },
   {
    "duration": 11,
    "start_time": "2022-05-29T19:57:42.045Z"
   },
   {
    "duration": 3,
    "start_time": "2022-05-29T19:57:42.075Z"
   },
   {
    "duration": 4,
    "start_time": "2022-05-29T19:57:42.079Z"
   },
   {
    "duration": 4,
    "start_time": "2022-05-29T19:57:42.085Z"
   },
   {
    "duration": 6,
    "start_time": "2022-05-29T19:57:42.090Z"
   },
   {
    "duration": 19,
    "start_time": "2022-05-29T19:57:42.098Z"
   },
   {
    "duration": 1927,
    "start_time": "2022-05-29T19:57:42.118Z"
   },
   {
    "duration": 730,
    "start_time": "2022-05-29T19:57:44.046Z"
   },
   {
    "duration": 1292,
    "start_time": "2022-05-29T19:57:44.779Z"
   },
   {
    "duration": 10882,
    "start_time": "2022-05-29T19:57:46.073Z"
   },
   {
    "duration": 5,
    "start_time": "2022-05-29T19:57:56.957Z"
   },
   {
    "duration": 11,
    "start_time": "2022-05-29T19:58:19.296Z"
   },
   {
    "duration": 602,
    "start_time": "2022-05-29T19:58:53.113Z"
   },
   {
    "duration": 5,
    "start_time": "2022-05-29T19:59:46.593Z"
   },
   {
    "duration": 5,
    "start_time": "2022-05-29T20:00:01.952Z"
   },
   {
    "duration": 4,
    "start_time": "2022-05-29T20:00:18.732Z"
   },
   {
    "duration": 4,
    "start_time": "2022-05-29T20:01:02.721Z"
   },
   {
    "duration": 5,
    "start_time": "2022-05-29T20:01:20.425Z"
   },
   {
    "duration": 5,
    "start_time": "2022-05-29T20:01:37.443Z"
   },
   {
    "duration": 4,
    "start_time": "2022-05-29T20:01:53.591Z"
   },
   {
    "duration": 1385,
    "start_time": "2022-05-30T08:20:30.439Z"
   },
   {
    "duration": 4349,
    "start_time": "2022-05-30T08:20:31.828Z"
   },
   {
    "duration": 22,
    "start_time": "2022-05-30T08:23:49.326Z"
   },
   {
    "duration": 776,
    "start_time": "2022-05-30T08:23:49.350Z"
   },
   {
    "duration": 4,
    "start_time": "2022-05-30T08:23:59.195Z"
   },
   {
    "duration": 12,
    "start_time": "2022-05-30T08:23:59.202Z"
   },
   {
    "duration": 6,
    "start_time": "2022-05-30T08:23:59.215Z"
   },
   {
    "duration": 219,
    "start_time": "2022-05-30T08:23:59.222Z"
   },
   {
    "duration": 200,
    "start_time": "2022-05-30T08:23:59.443Z"
   },
   {
    "duration": 5,
    "start_time": "2022-05-30T08:23:59.645Z"
   },
   {
    "duration": 3,
    "start_time": "2022-05-30T08:28:54.748Z"
   },
   {
    "duration": 28,
    "start_time": "2022-05-30T08:28:55.527Z"
   },
   {
    "duration": 6,
    "start_time": "2022-05-30T08:28:56.068Z"
   },
   {
    "duration": 5,
    "start_time": "2022-05-30T08:28:56.745Z"
   },
   {
    "duration": 14,
    "start_time": "2022-05-30T08:28:56.920Z"
   },
   {
    "duration": 6,
    "start_time": "2022-05-30T08:28:57.083Z"
   },
   {
    "duration": 6,
    "start_time": "2022-05-30T08:28:57.268Z"
   },
   {
    "duration": 14,
    "start_time": "2022-05-30T08:28:57.842Z"
   },
   {
    "duration": 3,
    "start_time": "2022-05-30T08:28:58.111Z"
   },
   {
    "duration": 3,
    "start_time": "2022-05-30T08:28:58.246Z"
   },
   {
    "duration": 5,
    "start_time": "2022-05-30T08:28:59.795Z"
   },
   {
    "duration": 4,
    "start_time": "2022-05-30T08:28:59.923Z"
   },
   {
    "duration": 4,
    "start_time": "2022-05-30T08:29:00.096Z"
   },
   {
    "duration": 4,
    "start_time": "2022-05-30T08:29:00.233Z"
   },
   {
    "duration": 225,
    "start_time": "2022-05-30T08:29:00.409Z"
   },
   {
    "duration": 222,
    "start_time": "2022-05-30T08:29:00.794Z"
   },
   {
    "duration": 242,
    "start_time": "2022-05-30T08:29:01.022Z"
   },
   {
    "duration": 250,
    "start_time": "2022-05-30T08:29:01.639Z"
   },
   {
    "duration": 148,
    "start_time": "2022-05-30T08:29:02.372Z"
   },
   {
    "duration": 183,
    "start_time": "2022-05-30T08:29:02.595Z"
   },
   {
    "duration": 138,
    "start_time": "2022-05-30T08:29:02.934Z"
   },
   {
    "duration": 12,
    "start_time": "2022-05-30T08:29:03.419Z"
   },
   {
    "duration": 177,
    "start_time": "2022-05-30T08:29:03.607Z"
   },
   {
    "duration": 13,
    "start_time": "2022-05-30T08:29:03.943Z"
   },
   {
    "duration": 10,
    "start_time": "2022-05-30T08:29:04.118Z"
   },
   {
    "duration": 8,
    "start_time": "2022-05-30T08:29:04.463Z"
   },
   {
    "duration": 6,
    "start_time": "2022-05-30T08:29:04.622Z"
   },
   {
    "duration": 12,
    "start_time": "2022-05-30T08:29:04.813Z"
   },
   {
    "duration": 139,
    "start_time": "2022-05-30T08:29:05.144Z"
   },
   {
    "duration": 4,
    "start_time": "2022-05-30T08:29:05.335Z"
   },
   {
    "duration": 33,
    "start_time": "2022-05-30T08:29:05.691Z"
   },
   {
    "duration": 13,
    "start_time": "2022-05-30T08:29:05.850Z"
   },
   {
    "duration": 3,
    "start_time": "2022-05-30T08:29:06.042Z"
   },
   {
    "duration": 3,
    "start_time": "2022-05-30T08:31:59.107Z"
   },
   {
    "duration": 2,
    "start_time": "2022-05-30T08:32:00.730Z"
   },
   {
    "duration": 6,
    "start_time": "2022-05-30T08:33:13.399Z"
   },
   {
    "duration": 16,
    "start_time": "2022-05-30T08:33:15.852Z"
   },
   {
    "duration": 1876,
    "start_time": "2022-05-30T08:33:19.625Z"
   },
   {
    "duration": 5,
    "start_time": "2022-05-30T08:35:45.424Z"
   },
   {
    "duration": 25,
    "start_time": "2022-05-30T08:35:53.111Z"
   },
   {
    "duration": 7,
    "start_time": "2022-05-30T08:36:09.395Z"
   },
   {
    "duration": 65,
    "start_time": "2022-05-30T18:32:57.813Z"
   },
   {
    "duration": 1724,
    "start_time": "2022-05-30T18:33:02.014Z"
   },
   {
    "duration": 4049,
    "start_time": "2022-05-30T18:33:03.740Z"
   },
   {
    "duration": 4,
    "start_time": "2022-05-30T18:33:08.116Z"
   },
   {
    "duration": 821,
    "start_time": "2022-05-30T18:33:08.123Z"
   },
   {
    "duration": 32,
    "start_time": "2022-05-30T18:33:08.946Z"
   },
   {
    "duration": 21,
    "start_time": "2022-05-30T18:33:08.983Z"
   },
   {
    "duration": 4,
    "start_time": "2022-05-30T18:33:09.007Z"
   },
   {
    "duration": 9,
    "start_time": "2022-05-30T18:33:09.013Z"
   },
   {
    "duration": 13,
    "start_time": "2022-05-30T18:33:09.023Z"
   },
   {
    "duration": 253,
    "start_time": "2022-05-30T18:33:09.038Z"
   },
   {
    "duration": 222,
    "start_time": "2022-05-30T18:33:09.293Z"
   },
   {
    "duration": 5,
    "start_time": "2022-05-30T18:33:09.516Z"
   },
   {
    "duration": 23,
    "start_time": "2022-05-30T18:33:09.523Z"
   },
   {
    "duration": 89,
    "start_time": "2022-05-30T18:33:09.548Z"
   },
   {
    "duration": 7,
    "start_time": "2022-05-30T18:33:09.640Z"
   },
   {
    "duration": 59,
    "start_time": "2022-05-30T18:33:09.649Z"
   },
   {
    "duration": 24,
    "start_time": "2022-05-30T18:33:09.709Z"
   },
   {
    "duration": 14,
    "start_time": "2022-05-30T18:33:09.735Z"
   },
   {
    "duration": 45,
    "start_time": "2022-05-30T18:33:09.751Z"
   },
   {
    "duration": 24,
    "start_time": "2022-05-30T18:33:09.798Z"
   },
   {
    "duration": 8,
    "start_time": "2022-05-30T18:33:09.824Z"
   },
   {
    "duration": 27,
    "start_time": "2022-05-30T18:33:09.834Z"
   },
   {
    "duration": 35,
    "start_time": "2022-05-30T18:33:09.863Z"
   },
   {
    "duration": 11,
    "start_time": "2022-05-30T18:33:09.900Z"
   },
   {
    "duration": 7,
    "start_time": "2022-05-30T18:33:09.913Z"
   },
   {
    "duration": 6,
    "start_time": "2022-05-30T18:33:09.921Z"
   },
   {
    "duration": 390,
    "start_time": "2022-05-30T18:33:09.928Z"
   },
   {
    "duration": 353,
    "start_time": "2022-05-30T18:33:10.321Z"
   },
   {
    "duration": 322,
    "start_time": "2022-05-30T18:33:10.679Z"
   },
   {
    "duration": 275,
    "start_time": "2022-05-30T18:33:11.003Z"
   },
   {
    "duration": 181,
    "start_time": "2022-05-30T18:33:11.280Z"
   },
   {
    "duration": 167,
    "start_time": "2022-05-30T18:33:11.473Z"
   },
   {
    "duration": 173,
    "start_time": "2022-05-30T18:33:11.641Z"
   },
   {
    "duration": 13,
    "start_time": "2022-05-30T18:33:11.816Z"
   },
   {
    "duration": 228,
    "start_time": "2022-05-30T18:33:11.831Z"
   },
   {
    "duration": 13,
    "start_time": "2022-05-30T18:33:12.068Z"
   },
   {
    "duration": 28,
    "start_time": "2022-05-30T18:33:12.083Z"
   },
   {
    "duration": 11,
    "start_time": "2022-05-30T18:33:12.113Z"
   },
   {
    "duration": 8,
    "start_time": "2022-05-30T18:33:12.126Z"
   },
   {
    "duration": 21,
    "start_time": "2022-05-30T18:33:12.136Z"
   },
   {
    "duration": 220,
    "start_time": "2022-05-30T18:33:12.159Z"
   },
   {
    "duration": 13,
    "start_time": "2022-05-30T18:33:12.381Z"
   },
   {
    "duration": 40,
    "start_time": "2022-05-30T18:33:12.400Z"
   },
   {
    "duration": 25,
    "start_time": "2022-05-30T18:33:12.441Z"
   },
   {
    "duration": 5,
    "start_time": "2022-05-30T18:33:12.471Z"
   },
   {
    "duration": 24,
    "start_time": "2022-05-30T18:33:12.478Z"
   },
   {
    "duration": 7,
    "start_time": "2022-05-30T18:33:12.504Z"
   },
   {
    "duration": 12,
    "start_time": "2022-05-30T18:33:12.513Z"
   },
   {
    "duration": 23,
    "start_time": "2022-05-30T18:33:12.527Z"
   },
   {
    "duration": 2232,
    "start_time": "2022-05-30T18:33:12.552Z"
   },
   {
    "duration": 1201,
    "start_time": "2022-05-30T18:33:14.786Z"
   },
   {
    "duration": 1537,
    "start_time": "2022-05-30T18:33:15.988Z"
   },
   {
    "duration": 13124,
    "start_time": "2022-05-30T18:33:17.528Z"
   },
   {
    "duration": 9,
    "start_time": "2022-05-30T18:33:30.658Z"
   },
   {
    "duration": 52,
    "start_time": "2022-05-30T18:33:30.669Z"
   },
   {
    "duration": 24,
    "start_time": "2022-05-30T18:33:30.723Z"
   },
   {
    "duration": 603,
    "start_time": "2022-05-30T18:33:30.750Z"
   },
   {
    "duration": 7,
    "start_time": "2022-05-30T18:33:31.354Z"
   },
   {
    "duration": 36,
    "start_time": "2022-05-30T18:33:31.373Z"
   },
   {
    "duration": 14,
    "start_time": "2022-05-30T18:33:31.411Z"
   },
   {
    "duration": 34,
    "start_time": "2022-05-30T18:33:31.427Z"
   },
   {
    "duration": 43,
    "start_time": "2022-05-30T18:33:31.462Z"
   },
   {
    "duration": 14,
    "start_time": "2022-05-30T18:33:31.507Z"
   },
   {
    "duration": 8,
    "start_time": "2022-05-30T18:33:31.523Z"
   }
  ],
  "kernelspec": {
   "display_name": "Python 3 (ipykernel)",
   "language": "python",
   "name": "python3"
  },
  "language_info": {
   "codemirror_mode": {
    "name": "ipython",
    "version": 3
   },
   "file_extension": ".py",
   "mimetype": "text/x-python",
   "name": "python",
   "nbconvert_exporter": "python",
   "pygments_lexer": "ipython3",
   "version": "3.9.5"
  },
  "toc": {
   "base_numbering": 1,
   "nav_menu": {},
   "number_sections": true,
   "sideBar": true,
   "skip_h1_title": true,
   "title_cell": "Содержание",
   "title_sidebar": "Contents",
   "toc_cell": true,
   "toc_position": {},
   "toc_section_display": true,
   "toc_window_display": true
  }
 },
 "nbformat": 4,
 "nbformat_minor": 2
}
