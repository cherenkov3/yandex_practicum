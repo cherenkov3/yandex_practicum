{
 "cells": [
  {
   "cell_type": "markdown",
   "metadata": {},
   "source": [
    "# Отток клиентов"
   ]
  },
  {
   "cell_type": "markdown",
   "metadata": {},
   "source": [
    "## Подготовка данных"
   ]
  },
  {
   "cell_type": "code",
   "execution_count": 1,
   "metadata": {},
   "outputs": [],
   "source": [
    "import pandas as pd\n",
    "from sklearn.model_selection import train_test_split, RandomizedSearchCV, cross_val_score\n",
    "from sklearn.tree import DecisionTreeClassifier\n",
    "from sklearn.linear_model import LogisticRegression\n",
    "from sklearn.ensemble import RandomForestClassifier\n",
    "import warnings\n",
    "warnings.filterwarnings('ignore')\n",
    "from sklearn.metrics import roc_auc_score, f1_score\n",
    "from sklearn.utils import shuffle\n",
    "from sklearn.preprocessing import StandardScaler\n",
    "from sklearn.metrics import accuracy_score"
   ]
  },
  {
   "cell_type": "code",
   "execution_count": 2,
   "metadata": {},
   "outputs": [],
   "source": [
    "data = pd.read_csv('/datasets/Churn.csv')"
   ]
  },
  {
   "cell_type": "code",
   "execution_count": null,
   "metadata": {},
   "outputs": [
    {
     "data": {
      "text/html": [
       "<div>\n",
       "<style scoped>\n",
       "    .dataframe tbody tr th:only-of-type {\n",
       "        vertical-align: middle;\n",
       "    }\n",
       "\n",
       "    .dataframe tbody tr th {\n",
       "        vertical-align: top;\n",
       "    }\n",
       "\n",
       "    .dataframe thead th {\n",
       "        text-align: right;\n",
       "    }\n",
       "</style>\n",
       "<table border=\"1\" class=\"dataframe\">\n",
       "  <thead>\n",
       "    <tr style=\"text-align: right;\">\n",
       "      <th></th>\n",
       "      <th>RowNumber</th>\n",
       "      <th>CustomerId</th>\n",
       "      <th>Surname</th>\n",
       "      <th>CreditScore</th>\n",
       "      <th>Geography</th>\n",
       "      <th>Gender</th>\n",
       "      <th>Age</th>\n",
       "      <th>Tenure</th>\n",
       "      <th>Balance</th>\n",
       "      <th>NumOfProducts</th>\n",
       "      <th>HasCrCard</th>\n",
       "      <th>IsActiveMember</th>\n",
       "      <th>EstimatedSalary</th>\n",
       "      <th>Exited</th>\n",
       "    </tr>\n",
       "  </thead>\n",
       "  <tbody>\n",
       "    <tr>\n",
       "      <th>0</th>\n",
       "      <td>1</td>\n",
       "      <td>15634602</td>\n",
       "      <td>Hargrave</td>\n",
       "      <td>619</td>\n",
       "      <td>France</td>\n",
       "      <td>Female</td>\n",
       "      <td>42</td>\n",
       "      <td>2.0</td>\n",
       "      <td>0.00</td>\n",
       "      <td>1</td>\n",
       "      <td>1</td>\n",
       "      <td>1</td>\n",
       "      <td>101348.88</td>\n",
       "      <td>1</td>\n",
       "    </tr>\n",
       "    <tr>\n",
       "      <th>1</th>\n",
       "      <td>2</td>\n",
       "      <td>15647311</td>\n",
       "      <td>Hill</td>\n",
       "      <td>608</td>\n",
       "      <td>Spain</td>\n",
       "      <td>Female</td>\n",
       "      <td>41</td>\n",
       "      <td>1.0</td>\n",
       "      <td>83807.86</td>\n",
       "      <td>1</td>\n",
       "      <td>0</td>\n",
       "      <td>1</td>\n",
       "      <td>112542.58</td>\n",
       "      <td>0</td>\n",
       "    </tr>\n",
       "    <tr>\n",
       "      <th>2</th>\n",
       "      <td>3</td>\n",
       "      <td>15619304</td>\n",
       "      <td>Onio</td>\n",
       "      <td>502</td>\n",
       "      <td>France</td>\n",
       "      <td>Female</td>\n",
       "      <td>42</td>\n",
       "      <td>8.0</td>\n",
       "      <td>159660.80</td>\n",
       "      <td>3</td>\n",
       "      <td>1</td>\n",
       "      <td>0</td>\n",
       "      <td>113931.57</td>\n",
       "      <td>1</td>\n",
       "    </tr>\n",
       "    <tr>\n",
       "      <th>3</th>\n",
       "      <td>4</td>\n",
       "      <td>15701354</td>\n",
       "      <td>Boni</td>\n",
       "      <td>699</td>\n",
       "      <td>France</td>\n",
       "      <td>Female</td>\n",
       "      <td>39</td>\n",
       "      <td>1.0</td>\n",
       "      <td>0.00</td>\n",
       "      <td>2</td>\n",
       "      <td>0</td>\n",
       "      <td>0</td>\n",
       "      <td>93826.63</td>\n",
       "      <td>0</td>\n",
       "    </tr>\n",
       "    <tr>\n",
       "      <th>4</th>\n",
       "      <td>5</td>\n",
       "      <td>15737888</td>\n",
       "      <td>Mitchell</td>\n",
       "      <td>850</td>\n",
       "      <td>Spain</td>\n",
       "      <td>Female</td>\n",
       "      <td>43</td>\n",
       "      <td>2.0</td>\n",
       "      <td>125510.82</td>\n",
       "      <td>1</td>\n",
       "      <td>1</td>\n",
       "      <td>1</td>\n",
       "      <td>79084.10</td>\n",
       "      <td>0</td>\n",
       "    </tr>\n",
       "  </tbody>\n",
       "</table>\n",
       "</div>"
      ],
      "text/plain": [
       "   RowNumber  CustomerId   Surname  CreditScore Geography  Gender  Age  \\\n",
       "0          1    15634602  Hargrave          619    France  Female   42   \n",
       "1          2    15647311      Hill          608     Spain  Female   41   \n",
       "2          3    15619304      Onio          502    France  Female   42   \n",
       "3          4    15701354      Boni          699    France  Female   39   \n",
       "4          5    15737888  Mitchell          850     Spain  Female   43   \n",
       "\n",
       "   Tenure    Balance  NumOfProducts  HasCrCard  IsActiveMember  \\\n",
       "0     2.0       0.00              1          1               1   \n",
       "1     1.0   83807.86              1          0               1   \n",
       "2     8.0  159660.80              3          1               0   \n",
       "3     1.0       0.00              2          0               0   \n",
       "4     2.0  125510.82              1          1               1   \n",
       "\n",
       "   EstimatedSalary  Exited  \n",
       "0        101348.88       1  \n",
       "1        112542.58       0  \n",
       "2        113931.57       1  \n",
       "3         93826.63       0  \n",
       "4         79084.10       0  "
      ]
     },
     "execution_count": 3,
     "metadata": {},
     "output_type": "execute_result"
    }
   ],
   "source": [
    "data.head()"
   ]
  },
  {
   "cell_type": "code",
   "execution_count": 4,
   "metadata": {},
   "outputs": [
    {
     "data": {
      "text/html": [
       "<div>\n",
       "<style scoped>\n",
       "    .dataframe tbody tr th:only-of-type {\n",
       "        vertical-align: middle;\n",
       "    }\n",
       "\n",
       "    .dataframe tbody tr th {\n",
       "        vertical-align: top;\n",
       "    }\n",
       "\n",
       "    .dataframe thead th {\n",
       "        text-align: right;\n",
       "    }\n",
       "</style>\n",
       "<table border=\"1\" class=\"dataframe\">\n",
       "  <thead>\n",
       "    <tr style=\"text-align: right;\">\n",
       "      <th></th>\n",
       "      <th>RowNumber</th>\n",
       "      <th>CustomerId</th>\n",
       "      <th>CreditScore</th>\n",
       "      <th>Age</th>\n",
       "      <th>Tenure</th>\n",
       "      <th>Balance</th>\n",
       "      <th>NumOfProducts</th>\n",
       "      <th>HasCrCard</th>\n",
       "      <th>IsActiveMember</th>\n",
       "      <th>EstimatedSalary</th>\n",
       "      <th>Exited</th>\n",
       "    </tr>\n",
       "  </thead>\n",
       "  <tbody>\n",
       "    <tr>\n",
       "      <th>count</th>\n",
       "      <td>10000.00000</td>\n",
       "      <td>1.000000e+04</td>\n",
       "      <td>10000.000000</td>\n",
       "      <td>10000.000000</td>\n",
       "      <td>9091.000000</td>\n",
       "      <td>10000.000000</td>\n",
       "      <td>10000.000000</td>\n",
       "      <td>10000.00000</td>\n",
       "      <td>10000.000000</td>\n",
       "      <td>10000.000000</td>\n",
       "      <td>10000.000000</td>\n",
       "    </tr>\n",
       "    <tr>\n",
       "      <th>mean</th>\n",
       "      <td>5000.50000</td>\n",
       "      <td>1.569094e+07</td>\n",
       "      <td>650.528800</td>\n",
       "      <td>38.921800</td>\n",
       "      <td>4.997690</td>\n",
       "      <td>76485.889288</td>\n",
       "      <td>1.530200</td>\n",
       "      <td>0.70550</td>\n",
       "      <td>0.515100</td>\n",
       "      <td>100090.239881</td>\n",
       "      <td>0.203700</td>\n",
       "    </tr>\n",
       "    <tr>\n",
       "      <th>std</th>\n",
       "      <td>2886.89568</td>\n",
       "      <td>7.193619e+04</td>\n",
       "      <td>96.653299</td>\n",
       "      <td>10.487806</td>\n",
       "      <td>2.894723</td>\n",
       "      <td>62397.405202</td>\n",
       "      <td>0.581654</td>\n",
       "      <td>0.45584</td>\n",
       "      <td>0.499797</td>\n",
       "      <td>57510.492818</td>\n",
       "      <td>0.402769</td>\n",
       "    </tr>\n",
       "    <tr>\n",
       "      <th>min</th>\n",
       "      <td>1.00000</td>\n",
       "      <td>1.556570e+07</td>\n",
       "      <td>350.000000</td>\n",
       "      <td>18.000000</td>\n",
       "      <td>0.000000</td>\n",
       "      <td>0.000000</td>\n",
       "      <td>1.000000</td>\n",
       "      <td>0.00000</td>\n",
       "      <td>0.000000</td>\n",
       "      <td>11.580000</td>\n",
       "      <td>0.000000</td>\n",
       "    </tr>\n",
       "    <tr>\n",
       "      <th>25%</th>\n",
       "      <td>2500.75000</td>\n",
       "      <td>1.562853e+07</td>\n",
       "      <td>584.000000</td>\n",
       "      <td>32.000000</td>\n",
       "      <td>2.000000</td>\n",
       "      <td>0.000000</td>\n",
       "      <td>1.000000</td>\n",
       "      <td>0.00000</td>\n",
       "      <td>0.000000</td>\n",
       "      <td>51002.110000</td>\n",
       "      <td>0.000000</td>\n",
       "    </tr>\n",
       "    <tr>\n",
       "      <th>50%</th>\n",
       "      <td>5000.50000</td>\n",
       "      <td>1.569074e+07</td>\n",
       "      <td>652.000000</td>\n",
       "      <td>37.000000</td>\n",
       "      <td>5.000000</td>\n",
       "      <td>97198.540000</td>\n",
       "      <td>1.000000</td>\n",
       "      <td>1.00000</td>\n",
       "      <td>1.000000</td>\n",
       "      <td>100193.915000</td>\n",
       "      <td>0.000000</td>\n",
       "    </tr>\n",
       "    <tr>\n",
       "      <th>75%</th>\n",
       "      <td>7500.25000</td>\n",
       "      <td>1.575323e+07</td>\n",
       "      <td>718.000000</td>\n",
       "      <td>44.000000</td>\n",
       "      <td>7.000000</td>\n",
       "      <td>127644.240000</td>\n",
       "      <td>2.000000</td>\n",
       "      <td>1.00000</td>\n",
       "      <td>1.000000</td>\n",
       "      <td>149388.247500</td>\n",
       "      <td>0.000000</td>\n",
       "    </tr>\n",
       "    <tr>\n",
       "      <th>max</th>\n",
       "      <td>10000.00000</td>\n",
       "      <td>1.581569e+07</td>\n",
       "      <td>850.000000</td>\n",
       "      <td>92.000000</td>\n",
       "      <td>10.000000</td>\n",
       "      <td>250898.090000</td>\n",
       "      <td>4.000000</td>\n",
       "      <td>1.00000</td>\n",
       "      <td>1.000000</td>\n",
       "      <td>199992.480000</td>\n",
       "      <td>1.000000</td>\n",
       "    </tr>\n",
       "  </tbody>\n",
       "</table>\n",
       "</div>"
      ],
      "text/plain": [
       "         RowNumber    CustomerId   CreditScore           Age       Tenure  \\\n",
       "count  10000.00000  1.000000e+04  10000.000000  10000.000000  9091.000000   \n",
       "mean    5000.50000  1.569094e+07    650.528800     38.921800     4.997690   \n",
       "std     2886.89568  7.193619e+04     96.653299     10.487806     2.894723   \n",
       "min        1.00000  1.556570e+07    350.000000     18.000000     0.000000   \n",
       "25%     2500.75000  1.562853e+07    584.000000     32.000000     2.000000   \n",
       "50%     5000.50000  1.569074e+07    652.000000     37.000000     5.000000   \n",
       "75%     7500.25000  1.575323e+07    718.000000     44.000000     7.000000   \n",
       "max    10000.00000  1.581569e+07    850.000000     92.000000    10.000000   \n",
       "\n",
       "             Balance  NumOfProducts    HasCrCard  IsActiveMember  \\\n",
       "count   10000.000000   10000.000000  10000.00000    10000.000000   \n",
       "mean    76485.889288       1.530200      0.70550        0.515100   \n",
       "std     62397.405202       0.581654      0.45584        0.499797   \n",
       "min         0.000000       1.000000      0.00000        0.000000   \n",
       "25%         0.000000       1.000000      0.00000        0.000000   \n",
       "50%     97198.540000       1.000000      1.00000        1.000000   \n",
       "75%    127644.240000       2.000000      1.00000        1.000000   \n",
       "max    250898.090000       4.000000      1.00000        1.000000   \n",
       "\n",
       "       EstimatedSalary        Exited  \n",
       "count     10000.000000  10000.000000  \n",
       "mean     100090.239881      0.203700  \n",
       "std       57510.492818      0.402769  \n",
       "min          11.580000      0.000000  \n",
       "25%       51002.110000      0.000000  \n",
       "50%      100193.915000      0.000000  \n",
       "75%      149388.247500      0.000000  \n",
       "max      199992.480000      1.000000  "
      ]
     },
     "execution_count": 4,
     "metadata": {},
     "output_type": "execute_result"
    }
   ],
   "source": [
    "data.describe()"
   ]
  },
  {
   "cell_type": "code",
   "execution_count": 5,
   "metadata": {},
   "outputs": [
    {
     "name": "stdout",
     "output_type": "stream",
     "text": [
      "<class 'pandas.core.frame.DataFrame'>\n",
      "RangeIndex: 10000 entries, 0 to 9999\n",
      "Data columns (total 14 columns):\n",
      " #   Column           Non-Null Count  Dtype  \n",
      "---  ------           --------------  -----  \n",
      " 0   RowNumber        10000 non-null  int64  \n",
      " 1   CustomerId       10000 non-null  int64  \n",
      " 2   Surname          10000 non-null  object \n",
      " 3   CreditScore      10000 non-null  int64  \n",
      " 4   Geography        10000 non-null  object \n",
      " 5   Gender           10000 non-null  object \n",
      " 6   Age              10000 non-null  int64  \n",
      " 7   Tenure           9091 non-null   float64\n",
      " 8   Balance          10000 non-null  float64\n",
      " 9   NumOfProducts    10000 non-null  int64  \n",
      " 10  HasCrCard        10000 non-null  int64  \n",
      " 11  IsActiveMember   10000 non-null  int64  \n",
      " 12  EstimatedSalary  10000 non-null  float64\n",
      " 13  Exited           10000 non-null  int64  \n",
      "dtypes: float64(3), int64(8), object(3)\n",
      "memory usage: 1.1+ MB\n"
     ]
    }
   ],
   "source": [
    "data.info()"
   ]
  },
  {
   "cell_type": "code",
   "execution_count": 6,
   "metadata": {},
   "outputs": [
    {
     "name": "stdout",
     "output_type": "stream",
     "text": [
      "<class 'pandas.core.frame.DataFrame'>\n",
      "RangeIndex: 10000 entries, 0 to 9999\n",
      "Data columns (total 14 columns):\n",
      " #   Column            Non-Null Count  Dtype  \n",
      "---  ------            --------------  -----  \n",
      " 0   row_number        10000 non-null  int64  \n",
      " 1   customer_id       10000 non-null  int64  \n",
      " 2   surname           10000 non-null  object \n",
      " 3   credit_score      10000 non-null  int64  \n",
      " 4   geography         10000 non-null  object \n",
      " 5   gender            10000 non-null  object \n",
      " 6   age               10000 non-null  int64  \n",
      " 7   tenure            9091 non-null   float64\n",
      " 8   balance           10000 non-null  float64\n",
      " 9   num_of_products   10000 non-null  int64  \n",
      " 10  has_cr_card       10000 non-null  int64  \n",
      " 11  is_active_member  10000 non-null  int64  \n",
      " 12  estimated_salary  10000 non-null  float64\n",
      " 13  exited            10000 non-null  int64  \n",
      "dtypes: float64(3), int64(8), object(3)\n",
      "memory usage: 1.1+ MB\n"
     ]
    }
   ],
   "source": [
    "# приведем все к нижнему регистру\n",
    "data.columns = map(str.lower, data.columns)\n",
    "data = data.rename(columns={'rownumber': 'row_number', \n",
    "                            'customerid': 'customer_id', \n",
    "                            'creditscore':'credit_score', \n",
    "                            'numofproducts': 'num_of_products', \n",
    "                            'hascrcard':'has_cr_card', \n",
    "                            'isactivemember':'is_active_member', \n",
    "                            'estimatedsalary':'estimated_salary'})\n",
    "def lower_object_string(df):\n",
    "    if df.dtype=='object':\n",
    "        df = df.str.lower()\n",
    "    return df\n",
    "data = data.apply(lambda x: lower_object_string(x))\n",
    "# проверим\n",
    "data.info()"
   ]
  },
  {
   "cell_type": "code",
   "execution_count": 7,
   "metadata": {},
   "outputs": [
    {
     "data": {
      "text/plain": [
       "smith          32\n",
       "scott          29\n",
       "martin         29\n",
       "walker         28\n",
       "brown          26\n",
       "               ..\n",
       "brodney         1\n",
       "velazquez       1\n",
       "melvin          1\n",
       "christopher     1\n",
       "rueda           1\n",
       "Name: surname, Length: 2931, dtype: int64"
      ]
     },
     "execution_count": 7,
     "metadata": {},
     "output_type": "execute_result"
    }
   ],
   "source": [
    "data['surname'].value_counts()"
   ]
  },
  {
   "cell_type": "code",
   "execution_count": 8,
   "metadata": {},
   "outputs": [
    {
     "data": {
      "text/plain": [
       "male      5457\n",
       "female    4543\n",
       "Name: gender, dtype: int64"
      ]
     },
     "execution_count": 8,
     "metadata": {},
     "output_type": "execute_result"
    }
   ],
   "source": [
    "data['gender'].value_counts()"
   ]
  },
  {
   "cell_type": "code",
   "execution_count": 9,
   "metadata": {},
   "outputs": [
    {
     "data": {
      "text/plain": [
       "france     5014\n",
       "germany    2509\n",
       "spain      2477\n",
       "Name: geography, dtype: int64"
      ]
     },
     "execution_count": 9,
     "metadata": {},
     "output_type": "execute_result"
    }
   ],
   "source": [
    "data['geography'].value_counts()"
   ]
  },
  {
   "cell_type": "code",
   "execution_count": 10,
   "metadata": {},
   "outputs": [
    {
     "data": {
      "text/plain": [
       "tenure\n",
       "0.0     80135.307277\n",
       "1.0     77365.221712\n",
       "2.0     76502.413053\n",
       "3.0     78105.560356\n",
       "4.0     74133.600373\n",
       "5.0     76138.007217\n",
       "6.0     74970.085698\n",
       "7.0     75915.378086\n",
       "8.0     77994.797685\n",
       "9.0     77325.410351\n",
       "10.0    73580.495964\n",
       "Name: balance, dtype: float64"
      ]
     },
     "execution_count": 10,
     "metadata": {},
     "output_type": "execute_result"
    }
   ],
   "source": [
    "# Посмотрим, есть ли какая-нибудь взаимосвязь столбца с пропущеннными данными (количество недвижимости) по сравнению с другими\n",
    "data.groupby('tenure')['balance'].mean()\n",
    "# Явной зависимости нет"
   ]
  },
  {
   "cell_type": "code",
   "execution_count": 11,
   "metadata": {},
   "outputs": [
    {
     "data": {
      "text/plain": [
       "tenure\n",
       "0.0     39.306283\n",
       "1.0     39.646008\n",
       "2.0     39.246316\n",
       "3.0     38.984914\n",
       "4.0     38.116384\n",
       "5.0     39.242718\n",
       "6.0     38.637911\n",
       "7.0     38.349189\n",
       "8.0     38.496249\n",
       "9.0     39.506803\n",
       "10.0    39.195067\n",
       "Name: age, dtype: float64"
      ]
     },
     "execution_count": 11,
     "metadata": {},
     "output_type": "execute_result"
    }
   ],
   "source": [
    "data.groupby('tenure')['age'].mean()\n",
    "# тоже самое, явной зависимости не наблюдается"
   ]
  },
  {
   "cell_type": "code",
   "execution_count": 12,
   "metadata": {},
   "outputs": [
    {
     "data": {
      "text/plain": [
       "tenure\n",
       "0.0      99565.395157\n",
       "1.0     100635.368718\n",
       "2.0      99120.730168\n",
       "3.0      97351.648168\n",
       "4.0     100041.330836\n",
       "5.0     101239.472233\n",
       "6.0     100151.566924\n",
       "7.0     101842.455362\n",
       "8.0     100611.163290\n",
       "9.0      99592.441995\n",
       "10.0    102841.772040\n",
       "Name: estimated_salary, dtype: float64"
      ]
     },
     "execution_count": 12,
     "metadata": {},
     "output_type": "execute_result"
    }
   ],
   "source": [
    "data.groupby('tenure')['estimated_salary'].mean()\n",
    "# аналогичная ситуация"
   ]
  },
  {
   "cell_type": "code",
   "execution_count": 13,
   "metadata": {},
   "outputs": [
    {
     "data": {
      "text/plain": [
       "tenure\n",
       "0.0     651.913613\n",
       "1.0     648.681723\n",
       "2.0     654.644211\n",
       "3.0     651.096983\n",
       "4.0     650.681356\n",
       "5.0     649.962244\n",
       "6.0     647.757094\n",
       "7.0     649.195676\n",
       "8.0     648.618435\n",
       "9.0     655.086168\n",
       "10.0    651.670404\n",
       "Name: credit_score, dtype: float64"
      ]
     },
     "execution_count": 13,
     "metadata": {},
     "output_type": "execute_result"
    }
   ],
   "source": [
    "data.groupby('tenure')['credit_score'].mean()\n",
    "# нет явной зависимости"
   ]
  },
  {
   "cell_type": "code",
   "execution_count": 14,
   "metadata": {},
   "outputs": [],
   "source": [
    "# Поэтому наилучшим вариантом будет заменить пропущенные данные медианами\n",
    "data['tenure'] = data['tenure'].fillna(data['tenure'].median())"
   ]
  },
  {
   "cell_type": "code",
   "execution_count": 15,
   "metadata": {},
   "outputs": [],
   "source": [
    "# Поменяем тип данных для balance, estimated_salary и tenure, так как удобнее будет работать с целочисленными данными\n",
    "data['balance'] = data['balance'].astype('int')\n",
    "data['estimated_salary'] = data['estimated_salary'].astype('int')\n",
    "data['tenure'] = data['tenure'].astype('int')"
   ]
  },
  {
   "cell_type": "code",
   "execution_count": 16,
   "metadata": {
    "scrolled": true
   },
   "outputs": [
    {
     "name": "stdout",
     "output_type": "stream",
     "text": [
      "<class 'pandas.core.frame.DataFrame'>\n",
      "RangeIndex: 10000 entries, 0 to 9999\n",
      "Data columns (total 12 columns):\n",
      " #   Column             Non-Null Count  Dtype\n",
      "---  ------             --------------  -----\n",
      " 0   credit_score       10000 non-null  int64\n",
      " 1   age                10000 non-null  int64\n",
      " 2   tenure             10000 non-null  int64\n",
      " 3   balance            10000 non-null  int64\n",
      " 4   num_of_products    10000 non-null  int64\n",
      " 5   has_cr_card        10000 non-null  int64\n",
      " 6   is_active_member   10000 non-null  int64\n",
      " 7   estimated_salary   10000 non-null  int64\n",
      " 8   exited             10000 non-null  int64\n",
      " 9   geography_germany  10000 non-null  uint8\n",
      " 10  geography_spain    10000 non-null  uint8\n",
      " 11  gender_male        10000 non-null  uint8\n",
      "dtypes: int64(9), uint8(3)\n",
      "memory usage: 732.5 KB\n"
     ]
    }
   ],
   "source": [
    "# Применим прямое кодирование\n",
    "data_ohe = data.drop(['row_number', 'customer_id', 'surname'], axis=1)\n",
    "data_ohe = pd.get_dummies(data_ohe, drop_first=True)\n",
    "data_ohe.info()"
   ]
  },
  {
   "cell_type": "code",
   "execution_count": 17,
   "metadata": {},
   "outputs": [
    {
     "data": {
      "text/plain": [
       "(6000, 2000, 2000)"
      ]
     },
     "execution_count": 17,
     "metadata": {},
     "output_type": "execute_result"
    }
   ],
   "source": [
    "# Разобьем исходные данные на обучающую (df_train), валидационную (df_val) и тестовую выборки (df_test) в соотношении 3:1:1\n",
    "data_train, data_test = train_test_split(data_ohe, test_size=0.2, random_state=12345)\n",
    "data_train, data_valid = train_test_split(data_train, test_size=0.25, random_state=12345)\n",
    "# Проверим получилось ли разделить данные в необходимом соотношении\n",
    "data_train.shape[0], data_test.shape[0], data_valid.shape[0]"
   ]
  },
  {
   "cell_type": "code",
   "execution_count": 18,
   "metadata": {},
   "outputs": [
    {
     "data": {
      "text/plain": [
       "((2000, 11), (2000, 11), (6000, 11))"
      ]
     },
     "execution_count": 18,
     "metadata": {},
     "output_type": "execute_result"
    }
   ],
   "source": [
    "features_train = data_train.drop(['exited'], axis=1)\n",
    "target_train = data_train['exited']\n",
    "features_valid = data_valid.drop(['exited'], axis=1)\n",
    "target_valid = data_valid['exited']\n",
    "features_test = data_test.drop(['exited'], axis=1)\n",
    "target_test = data_test['exited']\n",
    "features_test.shape, features_valid.shape, features_train.shape"
   ]
  },
  {
   "cell_type": "code",
   "execution_count": 19,
   "metadata": {},
   "outputs": [],
   "source": [
    "# Масштабируем признаки      \n",
    "numeric = ['credit_score', 'age', 'tenure', 'balance', 'num_of_products', 'estimated_salary']\n",
    "scaler = StandardScaler()\n",
    "scaler.fit(features_train[numeric])\n",
    "features_train[numeric] = scaler.transform(features_train[numeric])\n",
    "features_valid[numeric] = scaler.transform(features_valid[numeric])\n",
    "features_test[numeric] = scaler.transform(features_test[numeric])"
   ]
  },
  {
   "cell_type": "markdown",
   "metadata": {},
   "source": [
    "# Вывод\n",
    "На данном этапе данные были приведены к нижнему регистру как индексы, так и названия колонок, были заменены пропуски в столбце tenure на заглушки, поменяли типы данных для столбцов balance, estimated_salary (нет необходимости видеть суммы до копеек) и tenure (количество недвижимости не может быть нецелочисленным значением)."
   ]
  },
  {
   "cell_type": "code",
   "execution_count": 20,
   "metadata": {},
   "outputs": [
    {
     "data": {
      "text/plain": [
       "0    7963\n",
       "1    2037\n",
       "Name: exited, dtype: int64"
      ]
     },
     "execution_count": 20,
     "metadata": {},
     "output_type": "execute_result"
    },
    {
     "data": {
      "image/png": "[encoded data removed]",
      "text/plain": [
       "<Figure size 720x432 with 1 Axes>"
      ]
     },
     "metadata": {
      "needs_background": "light"
     },
     "output_type": "display_data"
    }
   ],
   "source": [
    "# проверка сбалансированности\n",
    "data['exited'].value_counts().plot(kind='bar', grid=True,figsize=(10,6),title='Соотношение ушедших к оставшимся клиентам')\n",
    "data['exited'].value_counts()"
   ]
  },
  {
   "cell_type": "markdown",
   "metadata": {},
   "source": [
    "Наблюдается дисбаланс"
   ]
  },
  {
   "cell_type": "markdown",
   "metadata": {},
   "source": [
    "## Исследование задачи"
   ]
  },
  {
   "cell_type": "markdown",
   "metadata": {},
   "source": [
    "Рассмотрим первую модель - решающее дерево."
   ]
  },
  {
   "cell_type": "code",
   "execution_count": 21,
   "metadata": {},
   "outputs": [
    {
     "name": "stdout",
     "output_type": "stream",
     "text": [
      "F1-score для Decision Tree на обучающей выборке: 0.5723922862613278\n",
      "AUC-ROC для Decision Tree на обучающей выборке: 0.809930250020361\n"
     ]
    }
   ],
   "source": [
    "dt = DecisionTreeClassifier(random_state = 12345)\n",
    "parameters_dt = {'criterion': ['gini', 'entropy'], # критерий\n",
    "                 'max_depth':range(1, 50), # глубина дерева\n",
    "                 'min_samples_leaf': range(1, 20), # минимальное количесто объектов в листе\n",
    "                 'max_features':range(1, features_train.shape[1]+1)} # максимальное количество фич\n",
    "search_dt = RandomizedSearchCV(dt, parameters_dt, cv=5, n_jobs = -1, scoring = 'f1')\n",
    "\n",
    "search_dt.fit(features_train, target_train)\n",
    "best_dt = search_dt.best_estimator_\n",
    "\n",
    "f1_score_val_dt = cross_val_score(best_dt, features_train, target_train, scoring = 'f1', cv = 10, n_jobs = -1)   \n",
    "auc_roc_val_dt = cross_val_score(best_dt, features_train, target_train, scoring = 'roc_auc', cv = 10, n_jobs = -1)\n",
    "\n",
    "print('F1-score для Decision Tree на обучающей выборке:', sum(f1_score_val_dt)/len(f1_score_val_dt))\n",
    "print('AUC-ROC для Decision Tree на обучающей выборке:', sum(auc_roc_val_dt)/len(auc_roc_val_dt))"
   ]
  },
  {
   "cell_type": "code",
   "execution_count": 22,
   "metadata": {},
   "outputs": [
    {
     "data": {
      "text/plain": [
       "0.5543450004746017"
      ]
     },
     "execution_count": 22,
     "metadata": {},
     "output_type": "execute_result"
    }
   ],
   "source": [
    "# код ревьюера для демонстрации, как посмотреть лучший score, который выдает GridSearchCV\n",
    "search_dt.best_score_"
   ]
  },
  {
   "cell_type": "markdown",
   "metadata": {},
   "source": [
    "Вторая модель - случайный лес."
   ]
  },
  {
   "cell_type": "code",
   "execution_count": 23,
   "metadata": {
    "scrolled": true
   },
   "outputs": [
    {
     "name": "stdout",
     "output_type": "stream",
     "text": [
      "F1-score для Random Forest на обучающией выборке: 0.5936171721356478\n",
      "AUC-ROC для Random Forest на обучающей выборке: 0.8508739871812832\n"
     ]
    }
   ],
   "source": [
    "rf = RandomForestClassifier(random_state = 12345)\n",
    "parameters_rf = {'n_estimators': range(1, 200, 10), # количество деревьев \n",
    "                 'criterion': ['gini', 'entropy'], # критерий\n",
    "                 'max_depth':range(1, 50, 1), # глубина дерева\n",
    "                 'min_samples_leaf': range(1, 10), # минимальное количесто объектов в листе\n",
    "                 'max_features': range(1, features_train.shape[1]+1)} # максимальное количество фич\n",
    "search_rf = RandomizedSearchCV(rf, parameters_rf, cv=5, n_jobs = -1, scoring = 'f1')\n",
    "search_rf.fit(features_train, target_train)\n",
    "best_rf = search_rf.best_estimator_\n",
    "f1_score_val_rf = cross_val_score(best_rf, features_train, target_train, scoring = 'f1', cv = 10, n_jobs = -1)   \n",
    "auc_roc_val_rf = cross_val_score(best_rf, features_train, target_train, scoring = 'roc_auc', cv = 10, n_jobs = -1)\n",
    "print('F1-score для Random Forest на обучающией выборке:', sum(f1_score_val_rf)/len(f1_score_val_rf))\n",
    "print('AUC-ROC для Random Forest на обучающей выборке:', sum(auc_roc_val_rf)/len(auc_roc_val_rf))\n"
   ]
  },
  {
   "cell_type": "markdown",
   "metadata": {},
   "source": [
    "Третья модель - логистическая регрессия."
   ]
  },
  {
   "cell_type": "code",
   "execution_count": 24,
   "metadata": {
    "scrolled": false
   },
   "outputs": [
    {
     "name": "stdout",
     "output_type": "stream",
     "text": [
      "F1-score для Logistic Regression (l1) на обучающей выборке: 0.3266146081631427\n",
      "AUC-ROC для Logistic Regression (l1) на обучающей выборке: 0.7643543975134467\n",
      "\n",
      "F1-score для Logistic Regression (l2) на обучающей выборке: 0.3266146081631427\n",
      "AUC-ROC для Logistic Regression (l2) на обучающей выборке: 0.7643440981795993\n"
     ]
    }
   ],
   "source": [
    "lr = LogisticRegression(random_state = 12345)\n",
    "parameters_lr_1 = {'C': [0.1, 0.2, 0.3, 0.4, 0.5, 0.6, 0.7, 0.8, 0.9, 1.0, 5, 10, 20, 50], # обратная сила регуляризации\n",
    "                 'penalty':['l1'], # Регуляризация \n",
    "                 'solver':['liblinear', 'saga']} # функция потерь\n",
    "parameters_lr_2 = {'C': [0.1, 0.2, 0.3, 0.4, 0.5, 0.6, 0.7, 0.8, 0.9, 1.0, 5, 10, 20, 50], # обратная сила регуляризации\n",
    "                 'penalty':['l2'], # Регуляризация \n",
    "                 'solver':['lbfgs', 'saga', 'sag', 'newton-cg']} # функция потерь\n",
    "\n",
    "search_lr_1 = RandomizedSearchCV(lr, parameters_lr_1, cv=5, n_jobs = -1, scoring = 'f1')\n",
    "search_lr_1.fit(features_train, target_train)\n",
    "best_lr_1 = search_lr_1.best_estimator_\n",
    "f1_score_val_lr_1 = cross_val_score(best_lr_1, features_train, target_train, scoring = 'f1', cv = 10, n_jobs = -1)   \n",
    "auc_roc_val_lr_1 = cross_val_score(best_lr_1, features_train, target_train, scoring = 'roc_auc', cv = 10, n_jobs = -1) \n",
    "\n",
    "\n",
    "search_lr_2 = RandomizedSearchCV(lr, parameters_lr_2, cv=5, n_jobs = -1, scoring = 'f1')\n",
    "search_lr_2.fit(features_train, target_train)\n",
    "best_lr_2 = search_lr_2.best_estimator_\n",
    "f1_score_val_lr_2 = cross_val_score(best_lr_2, features_train, target_train, scoring = 'f1', cv = 10, n_jobs = -1)   \n",
    "auc_roc_val_lr_2 = cross_val_score(best_lr_2, features_train, target_train, scoring = 'roc_auc', cv = 10, n_jobs = -1) \n",
    "print('F1-score для Logistic Regression (l1) на обучающей выборке:', sum(f1_score_val_lr_1)/len(f1_score_val_lr_1))\n",
    "print('AUC-ROC для Logistic Regression (l1) на обучающей выборке:', sum(auc_roc_val_lr_1)/len(auc_roc_val_lr_1))\n",
    "print()\n",
    "print('F1-score для Logistic Regression (l2) на обучающей выборке:', sum(f1_score_val_lr_2)/len(f1_score_val_lr_2))\n",
    "print('AUC-ROC для Logistic Regression (l2) на обучающей выборке:', sum(auc_roc_val_lr_2)/len(auc_roc_val_lr_2))"
   ]
  },
  {
   "cell_type": "code",
   "execution_count": 25,
   "metadata": {},
   "outputs": [
    {
     "data": {
      "text/html": [
       "<div>\n",
       "<style scoped>\n",
       "    .dataframe tbody tr th:only-of-type {\n",
       "        vertical-align: middle;\n",
       "    }\n",
       "\n",
       "    .dataframe tbody tr th {\n",
       "        vertical-align: top;\n",
       "    }\n",
       "\n",
       "    .dataframe thead th {\n",
       "        text-align: right;\n",
       "    }\n",
       "</style>\n",
       "<table border=\"1\" class=\"dataframe\">\n",
       "  <thead>\n",
       "    <tr style=\"text-align: right;\">\n",
       "      <th></th>\n",
       "      <th>model</th>\n",
       "      <th>f1_non_balance</th>\n",
       "      <th>auc_roc_non_balance</th>\n",
       "    </tr>\n",
       "  </thead>\n",
       "  <tbody>\n",
       "    <tr>\n",
       "      <th>0</th>\n",
       "      <td>decision_tree</td>\n",
       "      <td>0.572392</td>\n",
       "      <td>0.809930</td>\n",
       "    </tr>\n",
       "    <tr>\n",
       "      <th>1</th>\n",
       "      <td>random_forest</td>\n",
       "      <td>0.593617</td>\n",
       "      <td>0.850874</td>\n",
       "    </tr>\n",
       "    <tr>\n",
       "      <th>2</th>\n",
       "      <td>logistic_regression (l1)</td>\n",
       "      <td>0.326615</td>\n",
       "      <td>0.764354</td>\n",
       "    </tr>\n",
       "    <tr>\n",
       "      <th>3</th>\n",
       "      <td>logistic_regression (l2)</td>\n",
       "      <td>0.326615</td>\n",
       "      <td>0.764344</td>\n",
       "    </tr>\n",
       "  </tbody>\n",
       "</table>\n",
       "</div>"
      ],
      "text/plain": [
       "                      model  f1_non_balance  auc_roc_non_balance\n",
       "0             decision_tree        0.572392             0.809930\n",
       "1             random_forest        0.593617             0.850874\n",
       "2  logistic_regression (l1)        0.326615             0.764354\n",
       "3  logistic_regression (l2)        0.326615             0.764344"
      ]
     },
     "execution_count": 25,
     "metadata": {},
     "output_type": "execute_result"
    }
   ],
   "source": [
    "data_non_balance = [['decision_tree', \n",
    "                     sum(f1_score_val_dt)/len(f1_score_val_dt), sum(auc_roc_val_dt)/len(auc_roc_val_dt)], \n",
    "                    ['random_forest', \n",
    "                     sum(f1_score_val_rf)/len(f1_score_val_rf), sum(auc_roc_val_rf)/len(auc_roc_val_rf)], \n",
    "                    ['logistic_regression (l1)', \n",
    "                     sum(f1_score_val_lr_1)/len(f1_score_val_lr_1), sum(auc_roc_val_lr_1)/len(auc_roc_val_lr_1)],\n",
    "                    ['logistic_regression (l2)', \n",
    "                     sum(f1_score_val_lr_2)/len(f1_score_val_lr_2), sum(auc_roc_val_lr_2)/len(auc_roc_val_lr_2)]]\n",
    "columns_non_balance = ['model', 'f1_non_balance', 'auc_roc_non_balance']\n",
    "table_non_balance = pd.DataFrame(data = data_non_balance, columns = columns_non_balance)\n",
    "table_non_balance"
   ]
  },
  {
   "cell_type": "markdown",
   "metadata": {},
   "source": [
    "# Вывод\n",
    "Для трех типов моделей были определены гиперпараметры, необходимые для достижения максимально возможной F1 меры. Как видно из таблицы, наибольшим значением обладает модель случайного леса. Близким значением обладает модель решающего дерева, а логистическая регрессия показала наихудший результат, равный 0.3. Вероятно, такие результаты связаны с тем, что мы не учитываем дисбаланс классов. Стоит отметить, что необходимого результата мы пока что не достигли (все значения F1 меньше 0.59)."
   ]
  },
  {
   "cell_type": "markdown",
   "metadata": {},
   "source": [
    "## Борьба с дисбалансом"
   ]
  },
  {
   "cell_type": "markdown",
   "metadata": {},
   "source": [
    "Первая модель - решающее дерево."
   ]
  },
  {
   "cell_type": "code",
   "execution_count": 26,
   "metadata": {
    "scrolled": true
   },
   "outputs": [
    {
     "name": "stdout",
     "output_type": "stream",
     "text": [
      "F1-score для Decision Tree (balanced) на обучающей выборке: 0.548831485195832\n",
      "AUC-ROC для Decision Tree (balanced) на обучающей выборке: 0.8109010382946057\n"
     ]
    }
   ],
   "source": [
    "dt_balanced = DecisionTreeClassifier(random_state = 12345, class_weight = 'balanced')\n",
    "search_dt_balanced = RandomizedSearchCV(dt_balanced, parameters_dt, cv=5, n_jobs = -1, scoring = 'f1')\n",
    "search_dt_balanced.fit(features_train, target_train)\n",
    "best_dt_balanced = search_dt_balanced.best_estimator_\n",
    "f1_score_val_dt_b = cross_val_score(best_dt_balanced, features_train, target_train, scoring = 'f1', cv = 10, n_jobs = -1)   \n",
    "auc_roc_val_dt_b = cross_val_score(best_dt_balanced, features_train, target_train, scoring = 'roc_auc', cv = 10, n_jobs = -1)\n",
    "print('F1-score для Decision Tree (balanced) на обучающей выборке:', sum(f1_score_val_dt_b)/len(f1_score_val_dt_b))\n",
    "print('AUC-ROC для Decision Tree (balanced) на обучающей выборке:', sum(auc_roc_val_dt_b)/len(auc_roc_val_dt_b))"
   ]
  },
  {
   "cell_type": "markdown",
   "metadata": {},
   "source": [
    "Использование downsampling."
   ]
  },
  {
   "cell_type": "code",
   "execution_count": 27,
   "metadata": {
    "scrolled": true
   },
   "outputs": [
    {
     "data": {
      "text/plain": [
       "0    1219\n",
       "1    1219\n",
       "Name: exited, dtype: int64"
      ]
     },
     "execution_count": 27,
     "metadata": {},
     "output_type": "execute_result"
    }
   ],
   "source": [
    "# Напишем функцию для реализации downsampling\n",
    "def downsample(features, target, fraction):\n",
    "    features_zeros = features[target == 0]\n",
    "    features_ones = features[target == 1]\n",
    "    target_zeros = target[target == 0]\n",
    "    target_ones = target[target == 1]\n",
    "    features_downsampled = pd.concat([features_zeros.sample(frac=fraction, random_state=12345)] + [features_ones])\n",
    "    target_downsampled = pd.concat([target_zeros.sample(frac=fraction, random_state=12345)] + [target_ones])\n",
    "    features_downsampled, target_downsampled = shuffle(features_downsampled, target_downsampled, random_state=12345)\n",
    "    return features_downsampled, target_downsampled\n",
    "\n",
    "features_downsampled, target_downsampled = downsample(features_train, target_train, 0.255)\n",
    "target_downsampled.value_counts()"
   ]
  },
  {
   "cell_type": "code",
   "execution_count": 28,
   "metadata": {
    "scrolled": true
   },
   "outputs": [
    {
     "name": "stdout",
     "output_type": "stream",
     "text": [
      "F1-score для Decision Tree (downsampled) на обучающей выборке: 0.5408547817172814\n",
      "AUC-ROC для Decision Tree (downsampled) на обучающей выборке: 0.8377383574278194\n"
     ]
    }
   ],
   "source": [
    "search_dt.fit(features_downsampled, target_downsampled)\n",
    "best_dt_ds = search_dt.best_estimator_\n",
    "f1_score_val_dt_ds = cross_val_score(best_dt_ds, features_train, target_train, scoring = 'f1', cv = 10, n_jobs = -1)   \n",
    "auc_roc_val_dt_ds = cross_val_score(best_dt_ds, features_train, target_train, scoring = 'roc_auc', cv = 10, n_jobs = -1)\n",
    "print('F1-score для Decision Tree (downsampled) на обучающей выборке:', sum(f1_score_val_dt_ds)/len(f1_score_val_dt_ds))\n",
    "print('AUC-ROC для Decision Tree (downsampled) на обучающей выборке:', sum(auc_roc_val_dt_ds)/len(auc_roc_val_dt_ds))"
   ]
  },
  {
   "cell_type": "markdown",
   "metadata": {},
   "source": [
    "Используем upsampling."
   ]
  },
  {
   "cell_type": "code",
   "execution_count": 29,
   "metadata": {
    "scrolled": true
   },
   "outputs": [
    {
     "data": {
      "text/plain": [
       "1    4876\n",
       "0    4781\n",
       "Name: exited, dtype: int64"
      ]
     },
     "execution_count": 29,
     "metadata": {},
     "output_type": "execute_result"
    }
   ],
   "source": [
    "# Напишем функцию для upsamling\n",
    "def upsample(features, target, repeat):\n",
    "    features_zeros = features[target == 0]\n",
    "    features_ones = features[target == 1]\n",
    "    target_zeros = target[target == 0]\n",
    "    target_ones = target[target == 1]\n",
    "\n",
    "    features_upsampled = pd.concat([features_zeros] + [features_ones] * repeat)\n",
    "    target_upsampled = pd.concat([target_zeros] + [target_ones] * repeat)\n",
    "    \n",
    "    features_upsampled, target_upsampled = shuffle(\n",
    "        features_upsampled, target_upsampled, random_state=12345)\n",
    "    \n",
    "    return features_upsampled, target_upsampled\n",
    "\n",
    "features_upsampled, target_upsampled = upsample(features_train, target_train, 4)\n",
    "target_upsampled.value_counts()"
   ]
  },
  {
   "cell_type": "code",
   "execution_count": 30,
   "metadata": {},
   "outputs": [
    {
     "name": "stdout",
     "output_type": "stream",
     "text": [
      "F1-score для Decision Tree (upsampled) на обучающей выборке: 0.47563751759059086\n",
      "AUC-ROC для Decision Tree (upsampled) на обучающей выборке: 0.6720338062900322\n"
     ]
    }
   ],
   "source": [
    "search_dt.fit(features_upsampled, target_upsampled)\n",
    "best_dt_us = search_dt.best_estimator_\n",
    "f1_score_val_dt_us = cross_val_score(best_dt_us, features_train, target_train, scoring = 'f1', cv = 10, n_jobs = -1)   \n",
    "auc_roc_val_dt_us = cross_val_score(best_dt_us, features_train, target_train, scoring = 'roc_auc', cv = 10, n_jobs = -1)\n",
    "print('F1-score для Decision Tree (upsampled) на обучающей выборке:', sum(f1_score_val_dt_us)/len(f1_score_val_dt_us))\n",
    "print('AUC-ROC для Decision Tree (upsampled) на обучающей выборке:', sum(auc_roc_val_dt_us)/len(auc_roc_val_dt_us))"
   ]
  },
  {
   "cell_type": "markdown",
   "metadata": {},
   "source": [
    "Вторая модель - случайный лес."
   ]
  },
  {
   "cell_type": "code",
   "execution_count": 31,
   "metadata": {},
   "outputs": [
    {
     "name": "stdout",
     "output_type": "stream",
     "text": [
      "F1-score для Random Forest (balanced) на обучающей выборке: 0.617710621842751\n",
      "AUC-ROC для Random Forest (balanced) на обучающей выборке: 0.8563728665858547\n"
     ]
    },
    {
     "data": {
      "text/plain": [
       "{'n_estimators': 31,\n",
       " 'min_samples_leaf': 8,\n",
       " 'max_features': 7,\n",
       " 'max_depth': 14,\n",
       " 'criterion': 'entropy'}"
      ]
     },
     "execution_count": 31,
     "metadata": {},
     "output_type": "execute_result"
    }
   ],
   "source": [
    "rf_balanced = RandomForestClassifier(random_state = 12345, class_weight = 'balanced')\n",
    "search_rf_balanced = RandomizedSearchCV(rf_balanced, parameters_rf, cv=5, n_jobs = -1, scoring = 'f1')\n",
    "search_rf_balanced.fit(features_train, target_train)\n",
    "best_rf_balanced = search_rf_balanced.best_estimator_\n",
    "f1_score_val_rf_b = cross_val_score(best_rf_balanced, features_train, target_train, scoring = 'f1', cv = 10, n_jobs = -1)   \n",
    "auc_roc_val_rf_b = cross_val_score(best_rf_balanced, features_train, target_train, scoring = 'roc_auc', cv = 10, n_jobs = -1)\n",
    "print('F1-score для Random Forest (balanced) на обучающей выборке:', sum(f1_score_val_rf_b)/len(f1_score_val_rf_b))\n",
    "print('AUC-ROC для Random Forest (balanced) на обучающей выборке:', sum(auc_roc_val_rf_b)/len(auc_roc_val_rf_b))\n",
    "search_rf_balanced.best_params_"
   ]
  },
  {
   "cell_type": "markdown",
   "metadata": {},
   "source": [
    "downsampling для случайного леса"
   ]
  },
  {
   "cell_type": "code",
   "execution_count": 32,
   "metadata": {},
   "outputs": [
    {
     "name": "stdout",
     "output_type": "stream",
     "text": [
      "F1-score для Random Forest (downsampled) на обучающей выборке: 0.5907183230671282\n",
      "AUC-ROC для Random Forest (downsampled) на обучающей выборке: 0.8532250609872601\n"
     ]
    }
   ],
   "source": [
    "search_rf.fit(features_downsampled, target_downsampled)\n",
    "best_rf_ds = search_rf.best_estimator_\n",
    "f1_score_val_rf_ds = cross_val_score(best_rf_ds, features_train, target_train, scoring = 'f1', cv = 10, n_jobs = -1)   \n",
    "auc_roc_val_rf_ds = cross_val_score(best_rf_ds, features_train, target_train, scoring = 'roc_auc', cv = 10, n_jobs = -1)\n",
    "print('F1-score для Random Forest (downsampled) на обучающей выборке:', sum(f1_score_val_rf_ds)/len(f1_score_val_rf_ds))\n",
    "print('AUC-ROC для Random Forest (downsampled) на обучающей выборке:', sum(auc_roc_val_rf_ds)/len(auc_roc_val_rf_ds))"
   ]
  },
  {
   "cell_type": "markdown",
   "metadata": {},
   "source": [
    "upsampling для случайного леса"
   ]
  },
  {
   "cell_type": "code",
   "execution_count": 33,
   "metadata": {},
   "outputs": [
    {
     "name": "stdout",
     "output_type": "stream",
     "text": [
      "F1-score для Random Forest (upsampled) на обучающей выборке: 0.5970975912373867\n",
      "AUC-ROC для Random Forest (upsampled) на обучающей выборке: 0.8526455322787367\n"
     ]
    }
   ],
   "source": [
    "search_rf.fit(features_upsampled, target_upsampled)\n",
    "best_rf_us = search_rf.best_estimator_\n",
    "f1_score_val_rf_us = cross_val_score(best_rf_us, features_train, target_train, scoring = 'f1', cv = 10, n_jobs = -1)   \n",
    "auc_roc_val_rf_us = cross_val_score(best_rf_us, features_train, target_train, scoring = 'roc_auc', cv = 10, n_jobs = -1)\n",
    "print('F1-score для Random Forest (upsampled) на обучающей выборке:', sum(f1_score_val_rf_us)/len(f1_score_val_rf_us))\n",
    "print('AUC-ROC для Random Forest (upsampled) на обучающей выборке:', sum(auc_roc_val_rf_us)/len(auc_roc_val_rf_us))"
   ]
  },
  {
   "cell_type": "markdown",
   "metadata": {},
   "source": [
    "Третья модель - логистическая регрессия."
   ]
  },
  {
   "cell_type": "code",
   "execution_count": 34,
   "metadata": {},
   "outputs": [
    {
     "name": "stdout",
     "output_type": "stream",
     "text": [
      "F1-score для Logistic Regression (l1, balanced) на обучающей выборке: 0.4942367079566795\n",
      "AUC-ROC для Logistic Regression (l1, balanced) на обучающей выборке: 0.7675575854009902\n",
      "\n",
      "F1-score для Logistic Regression (l2, balanced) на обучающей выборке: 0.49260986548844243\n",
      "AUC-ROC для Logistic Regression (l2, balanced) на обучающей выборке: 0.7671887037372878\n"
     ]
    }
   ],
   "source": [
    "lr_balanced = LogisticRegression(random_state = 12345, class_weight = 'balanced')\n",
    "\n",
    "search_lr_1_balanced = RandomizedSearchCV(lr_balanced, parameters_lr_1, cv=5, n_jobs = -1, scoring = 'f1')\n",
    "search_lr_1_balanced.fit(features_train, target_train)\n",
    "best_lr_1_b = search_lr_1_balanced.best_estimator_\n",
    "f1_score_val_lr_1_b = cross_val_score(best_lr_1_b, features_train, target_train, scoring = 'f1', cv = 10, n_jobs = -1)   \n",
    "auc_roc_val_lr_1_b = cross_val_score(best_lr_1_b, features_train, target_train, scoring = 'roc_auc', cv = 10, n_jobs = -1) \n",
    "\n",
    "\n",
    "search_lr_2_balanced = RandomizedSearchCV(lr_balanced, parameters_lr_2, cv=5, n_jobs = -1, scoring = 'f1')\n",
    "search_lr_2_balanced.fit(features_train, target_train)\n",
    "best_lr_2_b = search_lr_2_balanced.best_estimator_\n",
    "f1_score_val_lr_2_b = cross_val_score(best_lr_2_b, features_train, target_train, scoring = 'f1', cv = 10, n_jobs = -1)   \n",
    "auc_roc_val_lr_2_b = cross_val_score(best_lr_2_b, features_train, target_train, scoring = 'roc_auc', cv = 10, n_jobs = -1) \n",
    "print('F1-score для Logistic Regression (l1, balanced) на обучающей выборке:', \n",
    "      sum(f1_score_val_lr_1_b)/len(f1_score_val_lr_1_b))\n",
    "print('AUC-ROC для Logistic Regression (l1, balanced) на обучающей выборке:', \n",
    "      sum(auc_roc_val_lr_1_b)/len(auc_roc_val_lr_1_b))\n",
    "print()\n",
    "print('F1-score для Logistic Regression (l2, balanced) на обучающей выборке:', \n",
    "      sum(f1_score_val_lr_2_b)/len(f1_score_val_lr_2_b))\n",
    "print('AUC-ROC для Logistic Regression (l2, balanced) на обучающей выборке:', \n",
    "      sum(auc_roc_val_lr_2_b)/len(auc_roc_val_lr_2_b))"
   ]
  },
  {
   "cell_type": "markdown",
   "metadata": {},
   "source": [
    "downsampling для логистической регрессии"
   ]
  },
  {
   "cell_type": "code",
   "execution_count": 35,
   "metadata": {},
   "outputs": [
    {
     "name": "stdout",
     "output_type": "stream",
     "text": [
      "F1-score для Logistic Regression (l1, downsampled) на обучающей выборке: 0.3266146081631427\n",
      "AUC-ROC для Logistic Regression (l1, downsampled) на обучающей выборке: 0.7643732708235617\n",
      "\n",
      "F1-score для Logistic Regression (l2, downsampled) на обучающей выборке: 0.3193164743554109\n",
      "AUC-ROC для Logistic Regression (l2, downsampled) на обучающей выборке: 0.7648243464738333\n"
     ]
    }
   ],
   "source": [
    "search_lr_1.fit(features_downsampled, target_downsampled)\n",
    "best_lr_1_ds = search_lr_1.best_estimator_\n",
    "f1_score_val_lr_1_ds = cross_val_score(best_lr_1_ds, features_train, target_train, scoring = 'f1', cv = 10, n_jobs = -1)   \n",
    "auc_roc_val_lr_1_ds = cross_val_score(best_lr_1_ds, features_train, target_train, scoring = 'roc_auc', cv = 10, n_jobs = -1) \n",
    "\n",
    "\n",
    "search_lr_2.fit(features_downsampled, target_downsampled)\n",
    "best_lr_2_ds = search_lr_2.best_estimator_\n",
    "f1_score_val_lr_2_ds = cross_val_score(best_lr_2_ds, features_train, target_train, scoring = 'f1', cv = 10, n_jobs = -1)   \n",
    "auc_roc_val_lr_2_ds = cross_val_score(best_lr_2_ds, features_train, target_train, scoring = 'roc_auc', cv = 10, n_jobs = -1) \n",
    "\n",
    "print('F1-score для Logistic Regression (l1, downsampled) на обучающей выборке:', \n",
    "      sum(f1_score_val_lr_1_ds)/len(f1_score_val_lr_1_ds))\n",
    "print('AUC-ROC для Logistic Regression (l1, downsampled) на обучающей выборке:', \n",
    "      sum(auc_roc_val_lr_1_ds)/len(auc_roc_val_lr_1_ds))\n",
    "print()\n",
    "print('F1-score для Logistic Regression (l2, downsampled) на обучающей выборке:', \n",
    "      sum(f1_score_val_lr_2_ds)/len(f1_score_val_lr_2_ds))\n",
    "print('AUC-ROC для Logistic Regression (l2, downsampled) на обучающей выборке:', \n",
    "      sum(auc_roc_val_lr_2_ds)/len(auc_roc_val_lr_2_ds))"
   ]
  },
  {
   "cell_type": "markdown",
   "metadata": {},
   "source": [
    "upsampling для логистической регрессии"
   ]
  },
  {
   "cell_type": "code",
   "execution_count": 36,
   "metadata": {},
   "outputs": [
    {
     "name": "stdout",
     "output_type": "stream",
     "text": [
      "F1-score для Logistic Regression (l1, upsampled) на обучающей выборке: 0.3229014683197625\n",
      "AUC-ROC для Logistic Regression (l1, upsampled) на обучающей выборке: 0.7647712934442457\n",
      "\n",
      "F1-score для Logistic Regression (l2, upsampled) на обучающей выборке: 0.3193164743554109\n",
      "AUC-ROC для Logistic Regression (l2, upsampled) на обучающей выборке: 0.7648277760643402\n"
     ]
    }
   ],
   "source": [
    "search_lr_1.fit(features_upsampled, target_upsampled)\n",
    "best_lr_1_us = search_lr_1.best_estimator_\n",
    "f1_score_val_lr_1_us = cross_val_score(best_lr_1_us, features_train, target_train, scoring = 'f1', cv = 10, n_jobs = -1)   \n",
    "auc_roc_val_lr_1_us = cross_val_score(best_lr_1_us, features_train, target_train, scoring = 'roc_auc', cv = 10, n_jobs = -1) \n",
    "\n",
    "\n",
    "search_lr_2.fit(features_upsampled, target_upsampled)\n",
    "best_lr_2_us = search_lr_2.best_estimator_\n",
    "f1_score_val_lr_2_us = cross_val_score(best_lr_2_us, features_train, target_train, scoring = 'f1', cv = 10, n_jobs = -1)   \n",
    "auc_roc_val_lr_2_us = cross_val_score(best_lr_2_us, features_train, target_train, scoring = 'roc_auc', cv = 10, n_jobs = -1) \n",
    "\n",
    "print('F1-score для Logistic Regression (l1, upsampled) на обучающей выборке:', \n",
    "      sum(f1_score_val_lr_1_us)/len(f1_score_val_lr_1_us))\n",
    "print('AUC-ROC для Logistic Regression (l1, upsampled) на обучающей выборке:', \n",
    "      sum(auc_roc_val_lr_1_us)/len(auc_roc_val_lr_1_us))\n",
    "print()\n",
    "print('F1-score для Logistic Regression (l2, upsampled) на обучающей выборке:', \n",
    "      sum(f1_score_val_lr_2_us)/len(f1_score_val_lr_2_us))\n",
    "print('AUC-ROC для Logistic Regression (l2, upsampled) на обучающей выборке:', \n",
    "      sum(auc_roc_val_lr_2_us)/len(auc_roc_val_lr_2_us))"
   ]
  },
  {
   "cell_type": "code",
   "execution_count": 37,
   "metadata": {},
   "outputs": [
    {
     "data": {
      "text/html": [
       "<div>\n",
       "<style scoped>\n",
       "    .dataframe tbody tr th:only-of-type {\n",
       "        vertical-align: middle;\n",
       "    }\n",
       "\n",
       "    .dataframe tbody tr th {\n",
       "        vertical-align: top;\n",
       "    }\n",
       "\n",
       "    .dataframe thead th {\n",
       "        text-align: right;\n",
       "    }\n",
       "</style>\n",
       "<table border=\"1\" class=\"dataframe\">\n",
       "  <thead>\n",
       "    <tr style=\"text-align: right;\">\n",
       "      <th></th>\n",
       "      <th>model</th>\n",
       "      <th>f1_non_balance</th>\n",
       "      <th>f1_balance</th>\n",
       "      <th>f1_upsample</th>\n",
       "      <th>f1_downsample</th>\n",
       "    </tr>\n",
       "  </thead>\n",
       "  <tbody>\n",
       "    <tr>\n",
       "      <th>0</th>\n",
       "      <td>decision_tree</td>\n",
       "      <td>0.572392</td>\n",
       "      <td>0.548831</td>\n",
       "      <td>0.475638</td>\n",
       "      <td>0.540855</td>\n",
       "    </tr>\n",
       "    <tr>\n",
       "      <th>1</th>\n",
       "      <td>random_forest</td>\n",
       "      <td>0.593617</td>\n",
       "      <td>0.617711</td>\n",
       "      <td>0.597098</td>\n",
       "      <td>0.590718</td>\n",
       "    </tr>\n",
       "    <tr>\n",
       "      <th>2</th>\n",
       "      <td>logistic_regression (l1)</td>\n",
       "      <td>0.326615</td>\n",
       "      <td>0.494237</td>\n",
       "      <td>0.322901</td>\n",
       "      <td>0.326615</td>\n",
       "    </tr>\n",
       "    <tr>\n",
       "      <th>3</th>\n",
       "      <td>logistic_regression (l2)</td>\n",
       "      <td>0.326615</td>\n",
       "      <td>0.492610</td>\n",
       "      <td>0.319316</td>\n",
       "      <td>0.319316</td>\n",
       "    </tr>\n",
       "  </tbody>\n",
       "</table>\n",
       "</div>"
      ],
      "text/plain": [
       "                      model  f1_non_balance  f1_balance  f1_upsample  \\\n",
       "0             decision_tree        0.572392    0.548831     0.475638   \n",
       "1             random_forest        0.593617    0.617711     0.597098   \n",
       "2  logistic_regression (l1)        0.326615    0.494237     0.322901   \n",
       "3  logistic_regression (l2)        0.326615    0.492610     0.319316   \n",
       "\n",
       "   f1_downsample  \n",
       "0       0.540855  \n",
       "1       0.590718  \n",
       "2       0.326615  \n",
       "3       0.319316  "
      ]
     },
     "execution_count": 37,
     "metadata": {},
     "output_type": "execute_result"
    }
   ],
   "source": [
    "data_balance = [['decision_tree', sum(f1_score_val_dt)/len(f1_score_val_dt), \n",
    "               sum(f1_score_val_dt_b)/len(f1_score_val_dt_b), \n",
    "               sum(f1_score_val_dt_us)/len(f1_score_val_dt_us), \n",
    "               sum(f1_score_val_dt_ds)/len(f1_score_val_dt_ds)], \n",
    "              ['random_forest', sum(f1_score_val_rf)/len(f1_score_val_rf), \n",
    "               sum(f1_score_val_rf_b)/len(f1_score_val_rf_b), \n",
    "               sum(f1_score_val_rf_us)/len(f1_score_val_rf_us), \n",
    "               sum(f1_score_val_rf_ds)/len(f1_score_val_rf_ds)], \n",
    "              ['logistic_regression (l1)', sum(f1_score_val_lr_1)/len(f1_score_val_lr_1), \n",
    "               sum(f1_score_val_lr_1_b)/len(f1_score_val_lr_1_b), \n",
    "               sum(f1_score_val_lr_1_us)/len(f1_score_val_lr_1_us), \n",
    "               sum(f1_score_val_lr_1_ds)/len(f1_score_val_lr_1_ds)],\n",
    "              ['logistic_regression (l2)', sum(f1_score_val_lr_2)/len(f1_score_val_lr_2), \n",
    "               sum(f1_score_val_lr_2_b)/len(f1_score_val_lr_2_b), \n",
    "               sum(f1_score_val_lr_2_us)/len(f1_score_val_lr_2_us), \n",
    "               sum(f1_score_val_lr_2_ds)/len(f1_score_val_lr_2_ds)]]\n",
    "columns_balance = ['model', 'f1_non_balance', 'f1_balance', 'f1_upsample', 'f1_downsample']\n",
    "table_balance = pd.DataFrame(data = data_balance, columns = columns_balance)\n",
    "table_balance"
   ]
  },
  {
   "cell_type": "markdown",
   "metadata": {},
   "source": [
    "\n",
    "# Вывод\n",
    "Как видно из таблицы выше, учитывая дисбаланс класса, мы смогли достичь большего значения F1-меры.\n",
    "\n",
    "Для модели решающего дерева эффективнее всего было учитывывать дисбаланс через настройку модели и методику downsampling, а методика upsampling лишь уменьшили F1-меру.\n",
    "\n",
    "Для случайного леса наилучший результат показала модель с учетом дисбаланса через настройку модели и методики upsampling.\n",
    "\n",
    "Для логистической регрессии учет дисбаланса привел к увеличению F1-меры.\n",
    "В результате нашего исследования, лучшей моделью является RandomForest при применения всвешивания классов balanced, гиперпараметров - 'n_estimators': 161,'min_samples_leaf': 9,'max_features': 9,'max_depth': 35,'criterion':'entropy'"
   ]
  },
  {
   "cell_type": "markdown",
   "metadata": {},
   "source": [
    "## Тестирование модели"
   ]
  },
  {
   "cell_type": "code",
   "execution_count": 38,
   "metadata": {},
   "outputs": [
    {
     "name": "stdout",
     "output_type": "stream",
     "text": [
      "AUC-ROC 0.8686797554159701\n",
      "F1 0.6539325842696628\n"
     ]
    }
   ],
   "source": [
    "# Так как наилучший результат показала модель случайного леса с балансом классов, настроенном через параметры модели,\n",
    "# протестируем именно её\n",
    "\n",
    "rf_balanced =  RandomForestClassifier(random_state=12345, n_estimators= 161, max_depth = 35,max_features=9,min_samples_leaf=9, class_weight = 'balanced')\n",
    "rf_balanced.fit(features_train, target_train)\n",
    "\n",
    "predicted_test = pd.Series(rf_balanced.predict(features_test))\n",
    "probabilities_test = rf_balanced.predict_proba(features_test)[:, 1]\n",
    "print(\"AUC-ROC\", roc_auc_score(target_test, probabilities_test))\n",
    "print(\"F1\",f1_score(target_test, predicted_test))"
   ]
  },
  {
   "cell_type": "markdown",
   "metadata": {},
   "source": [
    "# Вывод \n",
    "В ходе работы были найдена наилучшая модель, которая на тестовых данных показала значения метрики F1 больше, чем 0.59. Таким образом, необходимая задача была выполнена."
   ]
  }
 ],
 "metadata": {
  "ExecuteTimeLog": [
   {
    "duration": 1120,
    "start_time": "2022-05-04T17:04:25.387Z"
   },
   {
    "duration": 24,
    "start_time": "2022-05-04T17:04:49.071Z"
   },
   {
    "duration": 21,
    "start_time": "2022-05-04T17:05:08.847Z"
   },
   {
    "duration": 40,
    "start_time": "2022-05-04T17:06:10.339Z"
   },
   {
    "duration": 14,
    "start_time": "2022-05-04T17:07:05.655Z"
   },
   {
    "duration": 26,
    "start_time": "2022-05-04T17:07:35.647Z"
   },
   {
    "duration": 9,
    "start_time": "2022-05-04T17:08:46.227Z"
   },
   {
    "duration": 7,
    "start_time": "2022-05-04T17:09:20.403Z"
   },
   {
    "duration": 7,
    "start_time": "2022-05-04T17:09:49.734Z"
   },
   {
    "duration": 7,
    "start_time": "2022-05-04T17:10:23.175Z"
   },
   {
    "duration": 8,
    "start_time": "2022-05-04T17:10:42.074Z"
   },
   {
    "duration": 7,
    "start_time": "2022-05-04T17:11:49.412Z"
   },
   {
    "duration": 6,
    "start_time": "2022-05-04T17:12:09.351Z"
   },
   {
    "duration": 5,
    "start_time": "2022-05-04T17:12:39.299Z"
   },
   {
    "duration": 6,
    "start_time": "2022-05-04T17:13:25.511Z"
   },
   {
    "duration": 19,
    "start_time": "2022-05-04T17:13:49.519Z"
   },
   {
    "duration": 10,
    "start_time": "2022-05-04T17:15:56.315Z"
   },
   {
    "duration": 9,
    "start_time": "2022-05-04T17:16:35.783Z"
   },
   {
    "duration": 27,
    "start_time": "2022-05-04T17:16:55.647Z"
   },
   {
    "duration": 771,
    "start_time": "2022-05-04T17:20:34.680Z"
   },
   {
    "duration": 42179,
    "start_time": "2022-05-04T17:22:23.883Z"
   },
   {
    "duration": 25334,
    "start_time": "2022-05-04T17:23:33.691Z"
   },
   {
    "duration": 86,
    "start_time": "2022-05-04T17:25:39.846Z"
   },
   {
    "duration": 31685,
    "start_time": "2022-05-04T17:26:15.832Z"
   },
   {
    "duration": 25163,
    "start_time": "2022-05-04T17:26:47.519Z"
   },
   {
    "duration": 10,
    "start_time": "2022-05-04T17:27:12.774Z"
   },
   {
    "duration": 879,
    "start_time": "2022-05-04T17:29:57.163Z"
   },
   {
    "duration": 16,
    "start_time": "2022-05-04T17:31:46.202Z"
   },
   {
    "duration": 563,
    "start_time": "2022-05-04T17:32:07.918Z"
   },
   {
    "duration": 15,
    "start_time": "2022-05-04T17:33:53.070Z"
   },
   {
    "duration": 894,
    "start_time": "2022-05-04T17:34:16.043Z"
   },
   {
    "duration": 35689,
    "start_time": "2022-05-04T17:35:14.042Z"
   },
   {
    "duration": 58720,
    "start_time": "2022-05-04T17:36:32.454Z"
   },
   {
    "duration": 35991,
    "start_time": "2022-05-04T17:37:33.587Z"
   },
   {
    "duration": 14574,
    "start_time": "2022-05-04T17:38:37.106Z"
   },
   {
    "duration": 27924,
    "start_time": "2022-05-04T17:39:38.902Z"
   },
   {
    "duration": 102,
    "start_time": "2022-05-04T17:40:16.946Z"
   },
   {
    "duration": 12,
    "start_time": "2022-05-04T17:40:43.290Z"
   },
   {
    "duration": 16433,
    "start_time": "2022-05-04T17:42:45.474Z"
   },
   {
    "duration": 15,
    "start_time": "2022-05-04T17:43:16.186Z"
   },
   {
    "duration": 6762,
    "start_time": "2022-05-04T17:51:35.402Z"
   },
   {
    "duration": 1444,
    "start_time": "2022-05-05T20:41:32.393Z"
   },
   {
    "duration": 35,
    "start_time": "2022-05-05T20:41:33.839Z"
   },
   {
    "duration": 34,
    "start_time": "2022-05-05T20:41:33.877Z"
   },
   {
    "duration": 65,
    "start_time": "2022-05-05T20:41:33.924Z"
   },
   {
    "duration": 37,
    "start_time": "2022-05-05T20:41:33.993Z"
   },
   {
    "duration": 44,
    "start_time": "2022-05-05T20:41:34.033Z"
   },
   {
    "duration": 14,
    "start_time": "2022-05-05T20:41:34.079Z"
   },
   {
    "duration": 33,
    "start_time": "2022-05-05T20:41:34.096Z"
   },
   {
    "duration": 15,
    "start_time": "2022-05-05T20:41:34.131Z"
   },
   {
    "duration": 13,
    "start_time": "2022-05-05T20:41:34.149Z"
   },
   {
    "duration": 11,
    "start_time": "2022-05-05T20:41:34.164Z"
   },
   {
    "duration": 16,
    "start_time": "2022-05-05T20:41:34.177Z"
   },
   {
    "duration": 17,
    "start_time": "2022-05-05T20:41:34.223Z"
   },
   {
    "duration": 6,
    "start_time": "2022-05-05T20:41:34.243Z"
   },
   {
    "duration": 11,
    "start_time": "2022-05-05T20:41:34.252Z"
   },
   {
    "duration": 26,
    "start_time": "2022-05-05T20:41:34.265Z"
   },
   {
    "duration": 33,
    "start_time": "2022-05-05T20:41:34.293Z"
   },
   {
    "duration": 9,
    "start_time": "2022-05-05T20:41:34.328Z"
   },
   {
    "duration": 47,
    "start_time": "2022-05-05T20:41:34.339Z"
   },
   {
    "duration": 1542,
    "start_time": "2022-05-05T20:41:34.388Z"
   },
   {
    "duration": 46013,
    "start_time": "2022-05-05T20:41:35.933Z"
   },
   {
    "duration": 24288,
    "start_time": "2022-05-05T20:42:21.949Z"
   },
   {
    "duration": 94,
    "start_time": "2022-05-05T20:42:46.240Z"
   },
   {
    "duration": 968,
    "start_time": "2022-05-05T20:42:46.336Z"
   },
   {
    "duration": 30,
    "start_time": "2022-05-05T20:42:47.306Z"
   },
   {
    "duration": 1051,
    "start_time": "2022-05-05T20:42:47.338Z"
   },
   {
    "duration": 36,
    "start_time": "2022-05-05T20:42:48.392Z"
   },
   {
    "duration": 1894,
    "start_time": "2022-05-05T20:42:48.431Z"
   },
   {
    "duration": 80239,
    "start_time": "2022-05-05T20:42:50.328Z"
   },
   {
    "duration": 19854,
    "start_time": "2022-05-05T20:44:10.570Z"
   },
   {
    "duration": 47698,
    "start_time": "2022-05-05T20:44:30.426Z"
   },
   {
    "duration": 29908,
    "start_time": "2022-05-05T20:45:18.125Z"
   },
   {
    "duration": 5600,
    "start_time": "2022-05-05T20:45:48.036Z"
   },
   {
    "duration": 30205,
    "start_time": "2022-05-05T20:45:53.638Z"
   },
   {
    "duration": 15,
    "start_time": "2022-05-05T20:46:23.845Z"
   },
   {
    "duration": 14053,
    "start_time": "2022-05-05T20:46:23.862Z"
   },
   {
    "duration": 98,
    "start_time": "2022-05-18T19:04:02.335Z"
   },
   {
    "duration": 1270,
    "start_time": "2022-05-18T19:04:06.647Z"
   },
   {
    "duration": 316,
    "start_time": "2022-05-18T19:04:07.919Z"
   },
   {
    "duration": 22,
    "start_time": "2022-05-18T19:04:08.237Z"
   },
   {
    "duration": 75,
    "start_time": "2022-05-18T19:04:08.262Z"
   },
   {
    "duration": 21,
    "start_time": "2022-05-18T19:04:08.339Z"
   },
   {
    "duration": 57,
    "start_time": "2022-05-18T19:04:08.363Z"
   },
   {
    "duration": 12,
    "start_time": "2022-05-18T19:04:08.422Z"
   },
   {
    "duration": 12,
    "start_time": "2022-05-18T19:04:08.436Z"
   },
   {
    "duration": 13,
    "start_time": "2022-05-18T19:04:08.450Z"
   },
   {
    "duration": 8,
    "start_time": "2022-05-18T19:04:08.468Z"
   },
   {
    "duration": 42,
    "start_time": "2022-05-18T19:04:08.478Z"
   },
   {
    "duration": 11,
    "start_time": "2022-05-18T19:04:08.522Z"
   },
   {
    "duration": 11,
    "start_time": "2022-05-18T19:04:08.535Z"
   },
   {
    "duration": 5,
    "start_time": "2022-05-18T19:04:08.548Z"
   },
   {
    "duration": 7,
    "start_time": "2022-05-18T19:04:08.556Z"
   },
   {
    "duration": 68,
    "start_time": "2022-05-18T19:04:08.566Z"
   },
   {
    "duration": 14,
    "start_time": "2022-05-18T19:04:08.636Z"
   },
   {
    "duration": 8,
    "start_time": "2022-05-18T19:04:08.652Z"
   },
   {
    "duration": 64,
    "start_time": "2022-05-18T19:04:08.663Z"
   },
   {
    "duration": 1123,
    "start_time": "2022-05-18T19:04:08.728Z"
   },
   {
    "duration": 59796,
    "start_time": "2022-05-18T19:04:09.853Z"
   },
   {
    "duration": 0,
    "start_time": "2022-05-18T19:10:01.256Z"
   },
   {
    "duration": 0,
    "start_time": "2022-05-18T19:10:01.257Z"
   },
   {
    "duration": 0,
    "start_time": "2022-05-18T19:10:01.258Z"
   },
   {
    "duration": 0,
    "start_time": "2022-05-18T19:10:01.259Z"
   },
   {
    "duration": 0,
    "start_time": "2022-05-18T19:10:01.260Z"
   },
   {
    "duration": 0,
    "start_time": "2022-05-18T19:10:01.261Z"
   },
   {
    "duration": 0,
    "start_time": "2022-05-18T19:10:01.262Z"
   },
   {
    "duration": 0,
    "start_time": "2022-05-18T19:10:01.263Z"
   },
   {
    "duration": 0,
    "start_time": "2022-05-18T19:10:01.264Z"
   },
   {
    "duration": 0,
    "start_time": "2022-05-18T19:10:01.266Z"
   },
   {
    "duration": 0,
    "start_time": "2022-05-18T19:10:01.267Z"
   },
   {
    "duration": 0,
    "start_time": "2022-05-18T19:10:01.268Z"
   },
   {
    "duration": 0,
    "start_time": "2022-05-18T19:10:01.269Z"
   },
   {
    "duration": 0,
    "start_time": "2022-05-18T19:10:01.270Z"
   },
   {
    "duration": 0,
    "start_time": "2022-05-18T19:10:01.272Z"
   },
   {
    "duration": 0,
    "start_time": "2022-05-18T19:10:01.273Z"
   },
   {
    "duration": 0,
    "start_time": "2022-05-18T19:10:01.274Z"
   },
   {
    "duration": 0,
    "start_time": "2022-05-18T19:10:01.311Z"
   },
   {
    "duration": 0,
    "start_time": "2022-05-18T19:10:01.313Z"
   },
   {
    "duration": 9,
    "start_time": "2022-05-18T19:13:35.635Z"
   },
   {
    "duration": 26,
    "start_time": "2022-05-18T19:13:37.211Z"
   },
   {
    "duration": 860,
    "start_time": "2022-05-18T19:13:55.787Z"
   },
   {
    "duration": 4,
    "start_time": "2022-05-18T19:20:49.199Z"
   },
   {
    "duration": 35,
    "start_time": "2022-05-18T19:20:51.304Z"
   },
   {
    "duration": 12,
    "start_time": "2022-05-18T19:20:51.867Z"
   },
   {
    "duration": 52,
    "start_time": "2022-05-18T19:20:52.448Z"
   },
   {
    "duration": 12,
    "start_time": "2022-05-18T19:20:52.863Z"
   },
   {
    "duration": 23,
    "start_time": "2022-05-18T19:20:54.408Z"
   },
   {
    "duration": 9,
    "start_time": "2022-05-18T19:20:55.523Z"
   },
   {
    "duration": 6,
    "start_time": "2022-05-18T19:20:55.965Z"
   },
   {
    "duration": 6,
    "start_time": "2022-05-18T19:20:56.448Z"
   },
   {
    "duration": 8,
    "start_time": "2022-05-18T19:20:57.436Z"
   },
   {
    "duration": 7,
    "start_time": "2022-05-18T19:20:57.899Z"
   },
   {
    "duration": 8,
    "start_time": "2022-05-18T19:20:58.988Z"
   },
   {
    "duration": 11,
    "start_time": "2022-05-18T19:20:59.596Z"
   },
   {
    "duration": 6,
    "start_time": "2022-05-18T19:21:00.124Z"
   },
   {
    "duration": 6,
    "start_time": "2022-05-18T19:21:02.579Z"
   },
   {
    "duration": 17,
    "start_time": "2022-05-18T19:21:02.988Z"
   },
   {
    "duration": 10,
    "start_time": "2022-05-18T19:21:04.479Z"
   },
   {
    "duration": 10,
    "start_time": "2022-05-18T19:21:05.523Z"
   },
   {
    "duration": 28,
    "start_time": "2022-05-18T19:21:06.015Z"
   },
   {
    "duration": 1246,
    "start_time": "2022-05-18T19:21:15.279Z"
   },
   {
    "duration": 4,
    "start_time": "2022-05-18T19:21:37.956Z"
   },
   {
    "duration": 40,
    "start_time": "2022-05-18T19:21:39.132Z"
   },
   {
    "duration": 13,
    "start_time": "2022-05-18T19:21:39.692Z"
   },
   {
    "duration": 54,
    "start_time": "2022-05-18T19:21:40.176Z"
   },
   {
    "duration": 13,
    "start_time": "2022-05-18T19:21:40.679Z"
   },
   {
    "duration": 27,
    "start_time": "2022-05-18T19:21:41.895Z"
   },
   {
    "duration": 12,
    "start_time": "2022-05-18T19:21:42.858Z"
   },
   {
    "duration": 7,
    "start_time": "2022-05-18T19:21:43.292Z"
   },
   {
    "duration": 9,
    "start_time": "2022-05-18T19:21:43.820Z"
   },
   {
    "duration": 6,
    "start_time": "2022-05-18T19:21:44.732Z"
   },
   {
    "duration": 9,
    "start_time": "2022-05-18T19:21:45.156Z"
   },
   {
    "duration": 9,
    "start_time": "2022-05-18T19:21:46.156Z"
   },
   {
    "duration": 9,
    "start_time": "2022-05-18T19:21:46.875Z"
   },
   {
    "duration": 5,
    "start_time": "2022-05-18T19:21:47.531Z"
   },
   {
    "duration": 6,
    "start_time": "2022-05-18T19:21:48.557Z"
   },
   {
    "duration": 19,
    "start_time": "2022-05-18T19:21:49.032Z"
   },
   {
    "duration": 15,
    "start_time": "2022-05-18T19:21:50.565Z"
   },
   {
    "duration": 14,
    "start_time": "2022-05-18T19:21:51.588Z"
   },
   {
    "duration": 42,
    "start_time": "2022-05-18T19:21:52.244Z"
   },
   {
    "duration": 1042,
    "start_time": "2022-05-18T19:21:58.048Z"
   },
   {
    "duration": 1319,
    "start_time": "2022-05-18T19:22:11.720Z"
   },
   {
    "duration": 1309,
    "start_time": "2022-05-18T19:26:40.651Z"
   },
   {
    "duration": 1299,
    "start_time": "2022-05-18T19:30:33.664Z"
   },
   {
    "duration": 31310,
    "start_time": "2022-05-18T19:33:56.364Z"
   },
   {
    "duration": 55200,
    "start_time": "2022-05-18T19:34:58.636Z"
   },
   {
    "duration": 70247,
    "start_time": "2022-05-18T19:37:12.908Z"
   },
   {
    "duration": 61573,
    "start_time": "2022-05-18T19:38:50.413Z"
   },
   {
    "duration": 1181,
    "start_time": "2022-05-18T19:42:06.004Z"
   },
   {
    "duration": 1259,
    "start_time": "2022-05-18T19:43:44.805Z"
   },
   {
    "duration": 947,
    "start_time": "2022-05-18T19:44:58.477Z"
   },
   {
    "duration": 66686,
    "start_time": "2022-05-18T19:47:55.330Z"
   },
   {
    "duration": 21462,
    "start_time": "2022-05-18T19:52:47.322Z"
   },
   {
    "duration": 23363,
    "start_time": "2022-05-18T19:57:46.205Z"
   },
   {
    "duration": 964,
    "start_time": "2022-05-18T19:58:32.125Z"
   },
   {
    "duration": 1232,
    "start_time": "2022-05-18T19:58:58.344Z"
   },
   {
    "duration": 1261,
    "start_time": "2022-05-18T19:59:19.085Z"
   },
   {
    "duration": 886,
    "start_time": "2022-05-18T20:01:35.113Z"
   },
   {
    "duration": 1705,
    "start_time": "2022-05-18T20:01:49.646Z"
   },
   {
    "duration": 1616,
    "start_time": "2022-05-18T20:02:32.657Z"
   },
   {
    "duration": 58402,
    "start_time": "2022-05-18T20:03:20.437Z"
   },
   {
    "duration": 62724,
    "start_time": "2022-05-18T20:05:06.673Z"
   },
   {
    "duration": 27725,
    "start_time": "2022-05-18T20:06:38.762Z"
   },
   {
    "duration": 29859,
    "start_time": "2022-05-18T20:07:14.678Z"
   },
   {
    "duration": 40107,
    "start_time": "2022-05-18T20:08:59.413Z"
   },
   {
    "duration": 77042,
    "start_time": "2022-05-18T20:13:35.274Z"
   },
   {
    "duration": 12,
    "start_time": "2022-05-18T20:15:06.461Z"
   },
   {
    "duration": 22082,
    "start_time": "2022-05-18T20:16:05.445Z"
   },
   {
    "duration": 41390,
    "start_time": "2022-05-18T20:18:03.326Z"
   },
   {
    "duration": 15179,
    "start_time": "2022-05-18T20:18:49.826Z"
   },
   {
    "duration": 44431,
    "start_time": "2022-05-18T20:19:41.562Z"
   },
   {
    "duration": 14,
    "start_time": "2022-05-18T20:23:21.958Z"
   },
   {
    "duration": 43614,
    "start_time": "2022-05-18T20:32:36.410Z"
   },
   {
    "duration": 82626,
    "start_time": "2022-05-18T20:33:57.962Z"
   },
   {
    "duration": 35,
    "start_time": "2022-05-18T20:37:37.859Z"
   },
   {
    "duration": 25,
    "start_time": "2022-05-18T20:38:06.878Z"
   },
   {
    "duration": 75,
    "start_time": "2022-05-18T20:43:30.124Z"
   },
   {
    "duration": 16565,
    "start_time": "2022-05-18T20:43:42.324Z"
   },
   {
    "duration": 10884,
    "start_time": "2022-05-18T20:55:24.600Z"
   },
   {
    "duration": 14164,
    "start_time": "2022-05-18T20:55:58.824Z"
   },
   {
    "duration": 1017,
    "start_time": "2022-05-18T21:00:19.527Z"
   },
   {
    "duration": 1149,
    "start_time": "2022-05-18T21:00:44.809Z"
   },
   {
    "duration": 3,
    "start_time": "2022-05-18T21:01:12.561Z"
   },
   {
    "duration": 3,
    "start_time": "2022-05-18T21:01:53.233Z"
   },
   {
    "duration": 1163,
    "start_time": "2022-05-18T21:02:01.361Z"
   },
   {
    "duration": 1033,
    "start_time": "2022-05-18T21:04:14.413Z"
   },
   {
    "duration": 499,
    "start_time": "2022-05-18T21:04:41.389Z"
   },
   {
    "duration": 474,
    "start_time": "2022-05-18T21:05:26.893Z"
   },
   {
    "duration": 1089,
    "start_time": "2022-05-18T21:05:37.958Z"
   },
   {
    "duration": 2294,
    "start_time": "2022-05-18T21:06:12.185Z"
   },
   {
    "duration": 34,
    "start_time": "2022-05-18T21:06:46.329Z"
   },
   {
    "duration": 1909,
    "start_time": "2022-05-18T21:06:53.181Z"
   },
   {
    "duration": 1883,
    "start_time": "2022-05-18T21:08:25.187Z"
   },
   {
    "duration": 8,
    "start_time": "2022-05-18T21:10:55.989Z"
   },
   {
    "duration": 588,
    "start_time": "2022-05-18T21:12:43.854Z"
   },
   {
    "duration": 7,
    "start_time": "2022-05-18T21:12:54.497Z"
   },
   {
    "duration": 6,
    "start_time": "2022-05-18T21:14:06.085Z"
   },
   {
    "duration": 34,
    "start_time": "2022-05-18T21:28:58.070Z"
   },
   {
    "duration": 5,
    "start_time": "2022-05-18T21:31:39.926Z"
   },
   {
    "duration": 81,
    "start_time": "2022-05-19T18:37:29.695Z"
   },
   {
    "duration": 1095,
    "start_time": "2022-05-19T18:37:54.817Z"
   },
   {
    "duration": 58,
    "start_time": "2022-05-19T18:37:55.916Z"
   },
   {
    "duration": 21,
    "start_time": "2022-05-19T18:37:55.976Z"
   },
   {
    "duration": 74,
    "start_time": "2022-05-19T18:37:55.999Z"
   },
   {
    "duration": 19,
    "start_time": "2022-05-19T18:37:56.075Z"
   },
   {
    "duration": 44,
    "start_time": "2022-05-19T18:37:56.096Z"
   },
   {
    "duration": 12,
    "start_time": "2022-05-19T18:37:56.165Z"
   },
   {
    "duration": 9,
    "start_time": "2022-05-19T18:37:56.180Z"
   },
   {
    "duration": 15,
    "start_time": "2022-05-19T18:37:56.191Z"
   },
   {
    "duration": 8,
    "start_time": "2022-05-19T18:37:56.210Z"
   },
   {
    "duration": 45,
    "start_time": "2022-05-19T18:37:56.220Z"
   },
   {
    "duration": 11,
    "start_time": "2022-05-19T18:37:56.267Z"
   },
   {
    "duration": 9,
    "start_time": "2022-05-19T18:37:56.280Z"
   },
   {
    "duration": 18,
    "start_time": "2022-05-19T18:37:56.290Z"
   },
   {
    "duration": 8,
    "start_time": "2022-05-19T18:37:56.310Z"
   },
   {
    "duration": 25,
    "start_time": "2022-05-19T18:37:56.320Z"
   },
   {
    "duration": 13,
    "start_time": "2022-05-19T18:37:56.366Z"
   },
   {
    "duration": 15,
    "start_time": "2022-05-19T18:37:56.381Z"
   },
   {
    "duration": 42,
    "start_time": "2022-05-19T18:37:56.398Z"
   },
   {
    "duration": 11,
    "start_time": "2022-05-19T18:37:56.465Z"
   },
   {
    "duration": 1301,
    "start_time": "2022-05-19T18:37:56.478Z"
   },
   {
    "duration": 4,
    "start_time": "2022-05-19T18:37:57.781Z"
   },
   {
    "duration": 0,
    "start_time": "2022-05-19T18:37:57.787Z"
   },
   {
    "duration": 0,
    "start_time": "2022-05-19T18:37:57.788Z"
   },
   {
    "duration": 0,
    "start_time": "2022-05-19T18:37:57.790Z"
   },
   {
    "duration": 0,
    "start_time": "2022-05-19T18:37:57.792Z"
   },
   {
    "duration": 0,
    "start_time": "2022-05-19T18:37:57.795Z"
   },
   {
    "duration": 0,
    "start_time": "2022-05-19T18:37:57.797Z"
   },
   {
    "duration": 0,
    "start_time": "2022-05-19T18:37:57.799Z"
   },
   {
    "duration": 0,
    "start_time": "2022-05-19T18:37:57.800Z"
   },
   {
    "duration": 0,
    "start_time": "2022-05-19T18:37:57.802Z"
   },
   {
    "duration": 0,
    "start_time": "2022-05-19T18:37:57.804Z"
   },
   {
    "duration": 0,
    "start_time": "2022-05-19T18:37:57.806Z"
   },
   {
    "duration": 0,
    "start_time": "2022-05-19T18:37:57.808Z"
   },
   {
    "duration": 0,
    "start_time": "2022-05-19T18:37:57.809Z"
   },
   {
    "duration": 0,
    "start_time": "2022-05-19T18:37:57.811Z"
   },
   {
    "duration": 0,
    "start_time": "2022-05-19T18:37:57.813Z"
   },
   {
    "duration": 0,
    "start_time": "2022-05-19T18:37:57.866Z"
   },
   {
    "duration": 5,
    "start_time": "2022-05-19T18:38:06.679Z"
   },
   {
    "duration": 122,
    "start_time": "2022-05-19T18:38:21.381Z"
   },
   {
    "duration": 4,
    "start_time": "2022-05-19T18:38:27.711Z"
   },
   {
    "duration": 58,
    "start_time": "2022-05-20T19:00:43.308Z"
   },
   {
    "duration": 1036,
    "start_time": "2022-05-20T19:00:49.887Z"
   },
   {
    "duration": 66,
    "start_time": "2022-05-20T19:00:50.924Z"
   },
   {
    "duration": 18,
    "start_time": "2022-05-20T19:00:50.992Z"
   },
   {
    "duration": 41,
    "start_time": "2022-05-20T19:00:51.012Z"
   },
   {
    "duration": 11,
    "start_time": "2022-05-20T19:00:51.055Z"
   },
   {
    "duration": 27,
    "start_time": "2022-05-20T19:00:51.068Z"
   },
   {
    "duration": 7,
    "start_time": "2022-05-20T19:00:51.097Z"
   },
   {
    "duration": 26,
    "start_time": "2022-05-20T19:00:51.106Z"
   },
   {
    "duration": 15,
    "start_time": "2022-05-20T19:00:51.133Z"
   },
   {
    "duration": 11,
    "start_time": "2022-05-20T19:00:51.152Z"
   },
   {
    "duration": 8,
    "start_time": "2022-05-20T19:00:51.165Z"
   },
   {
    "duration": 13,
    "start_time": "2022-05-20T19:00:51.175Z"
   },
   {
    "duration": 10,
    "start_time": "2022-05-20T19:00:51.190Z"
   },
   {
    "duration": 10,
    "start_time": "2022-05-20T19:00:51.201Z"
   },
   {
    "duration": 11,
    "start_time": "2022-05-20T19:00:51.212Z"
   },
   {
    "duration": 26,
    "start_time": "2022-05-20T19:00:51.227Z"
   },
   {
    "duration": 8,
    "start_time": "2022-05-20T19:00:51.255Z"
   },
   {
    "duration": 21,
    "start_time": "2022-05-20T19:00:51.265Z"
   },
   {
    "duration": 41,
    "start_time": "2022-05-20T19:00:51.288Z"
   },
   {
    "duration": 627,
    "start_time": "2022-05-20T19:00:51.330Z"
   },
   {
    "duration": 0,
    "start_time": "2022-05-20T19:00:51.960Z"
   },
   {
    "duration": 0,
    "start_time": "2022-05-20T19:00:51.960Z"
   },
   {
    "duration": 0,
    "start_time": "2022-05-20T19:00:51.961Z"
   },
   {
    "duration": 0,
    "start_time": "2022-05-20T19:00:51.962Z"
   },
   {
    "duration": 0,
    "start_time": "2022-05-20T19:00:51.964Z"
   },
   {
    "duration": 0,
    "start_time": "2022-05-20T19:00:51.965Z"
   },
   {
    "duration": 0,
    "start_time": "2022-05-20T19:00:51.966Z"
   },
   {
    "duration": 0,
    "start_time": "2022-05-20T19:00:51.967Z"
   },
   {
    "duration": 0,
    "start_time": "2022-05-20T19:00:51.968Z"
   },
   {
    "duration": 0,
    "start_time": "2022-05-20T19:00:51.969Z"
   },
   {
    "duration": 0,
    "start_time": "2022-05-20T19:00:51.970Z"
   },
   {
    "duration": 0,
    "start_time": "2022-05-20T19:00:51.971Z"
   },
   {
    "duration": 0,
    "start_time": "2022-05-20T19:00:51.972Z"
   },
   {
    "duration": 0,
    "start_time": "2022-05-20T19:00:51.973Z"
   },
   {
    "duration": 0,
    "start_time": "2022-05-20T19:00:51.974Z"
   },
   {
    "duration": 0,
    "start_time": "2022-05-20T19:00:51.975Z"
   },
   {
    "duration": 0,
    "start_time": "2022-05-20T19:00:51.976Z"
   },
   {
    "duration": 0,
    "start_time": "2022-05-20T19:00:51.977Z"
   },
   {
    "duration": 145,
    "start_time": "2022-05-20T19:01:14.849Z"
   },
   {
    "duration": 129,
    "start_time": "2022-05-20T19:01:34.785Z"
   },
   {
    "duration": 120,
    "start_time": "2022-05-20T19:02:41.288Z"
   },
   {
    "duration": 1901,
    "start_time": "2022-05-20T19:05:22.032Z"
   },
   {
    "duration": 1980,
    "start_time": "2022-05-20T19:18:25.234Z"
   },
   {
    "duration": 1861,
    "start_time": "2022-05-20T19:19:07.742Z"
   },
   {
    "duration": 2016,
    "start_time": "2022-05-20T19:19:45.459Z"
   },
   {
    "duration": 29,
    "start_time": "2022-05-20T19:21:33.128Z"
   },
   {
    "duration": 1229,
    "start_time": "2022-10-29T18:08:35.482Z"
   },
   {
    "duration": 360,
    "start_time": "2022-10-29T18:08:36.713Z"
   },
   {
    "duration": 22,
    "start_time": "2022-10-29T18:08:37.075Z"
   },
   {
    "duration": 47,
    "start_time": "2022-10-29T18:08:37.099Z"
   },
   {
    "duration": 14,
    "start_time": "2022-10-29T18:08:37.149Z"
   },
   {
    "duration": 36,
    "start_time": "2022-10-29T18:08:37.164Z"
   },
   {
    "duration": 31,
    "start_time": "2022-10-29T18:08:37.202Z"
   },
   {
    "duration": 11,
    "start_time": "2022-10-29T18:08:37.235Z"
   },
   {
    "duration": 10,
    "start_time": "2022-10-29T18:08:37.248Z"
   },
   {
    "duration": 8,
    "start_time": "2022-10-29T18:08:37.260Z"
   },
   {
    "duration": 8,
    "start_time": "2022-10-29T18:08:37.270Z"
   },
   {
    "duration": 45,
    "start_time": "2022-10-29T18:08:37.280Z"
   },
   {
    "duration": 7,
    "start_time": "2022-10-29T18:08:37.327Z"
   },
   {
    "duration": 4,
    "start_time": "2022-10-29T18:08:37.338Z"
   },
   {
    "duration": 7,
    "start_time": "2022-10-29T18:08:37.344Z"
   },
   {
    "duration": 30,
    "start_time": "2022-10-29T18:08:37.353Z"
   },
   {
    "duration": 11,
    "start_time": "2022-10-29T18:08:37.423Z"
   },
   {
    "duration": 8,
    "start_time": "2022-10-29T18:08:37.436Z"
   },
   {
    "duration": 31,
    "start_time": "2022-10-29T18:08:37.446Z"
   },
   {
    "duration": 679,
    "start_time": "2022-10-29T18:08:37.479Z"
   },
   {
    "duration": 1379,
    "start_time": "2022-10-29T18:08:38.160Z"
   },
   {
    "duration": 5,
    "start_time": "2022-10-29T18:08:39.541Z"
   },
   {
    "duration": 112693,
    "start_time": "2022-10-29T18:08:39.547Z"
   },
   {
    "duration": 25093,
    "start_time": "2022-10-29T18:10:32.242Z"
   },
   {
    "duration": 12,
    "start_time": "2022-10-29T18:10:57.337Z"
   },
   {
    "duration": 1377,
    "start_time": "2022-10-29T18:10:57.351Z"
   },
   {
    "duration": 16,
    "start_time": "2022-10-29T18:10:58.730Z"
   },
   {
    "duration": 953,
    "start_time": "2022-10-29T18:10:58.748Z"
   },
   {
    "duration": 22,
    "start_time": "2022-10-29T18:10:59.703Z"
   },
   {
    "duration": 1584,
    "start_time": "2022-10-29T18:10:59.727Z"
   },
   {
    "duration": 57071,
    "start_time": "2022-10-29T18:11:01.313Z"
   },
   {
    "duration": 53417,
    "start_time": "2022-10-29T18:11:58.386Z"
   },
   {
    "duration": 112647,
    "start_time": "2022-10-29T18:12:51.805Z"
   },
   {
    "duration": 22163,
    "start_time": "2022-10-29T18:14:44.454Z"
   },
   {
    "duration": 5231,
    "start_time": "2022-10-29T18:15:06.618Z"
   },
   {
    "duration": 37476,
    "start_time": "2022-10-29T18:15:11.851Z"
   },
   {
    "duration": 100,
    "start_time": "2022-10-29T18:15:49.330Z"
   },
   {
    "duration": 2312,
    "start_time": "2022-10-29T18:15:49.431Z"
   }
  ],
  "kernelspec": {
   "display_name": "Python 3 (ipykernel)",
   "language": "python",
   "name": "python3"
  },
  "language_info": {
   "codemirror_mode": {
    "name": "ipython",
    "version": 3
   },
   "file_extension": ".py",
   "mimetype": "text/x-python",
   "name": "python",
   "nbconvert_exporter": "python",
   "pygments_lexer": "ipython3",
   "version": "3.9.5"
  },
  "toc": {
   "base_numbering": 1,
   "nav_menu": {},
   "number_sections": true,
   "sideBar": true,
   "skip_h1_title": true,
   "title_cell": "Содержание",
   "title_sidebar": "Contents",
   "toc_cell": true,
   "toc_position": {},
   "toc_section_display": true,
   "toc_window_display": true
  }
 },
 "nbformat": 4,
 "nbformat_minor": 2
}
